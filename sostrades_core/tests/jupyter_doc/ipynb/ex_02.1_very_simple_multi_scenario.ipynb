{
 "cells": [
  {
   "cell_type": "code",
   "execution_count": 1,
   "id": "e668b41a",
   "metadata": {},
   "outputs": [],
   "source": [
    "if 0 :\n",
    "    %matplotlib inline\n",
    "else :\n",
    "    %matplotlib notebook"
   ]
  },
  {
   "cell_type": "markdown",
   "id": "b3f4409c",
   "metadata": {},
   "source": [
    "#  Import  libraries"
   ]
  },
  {
   "cell_type": "code",
   "execution_count": 2,
   "id": "765fed52",
   "metadata": {},
   "outputs": [
    {
     "name": "stdout",
     "output_type": "stream",
     "text": [
      "C:\\Users\\ng947ac\\Documents\\Daniel\\jupyter\\SoSTrades\\jupyter_doc\\_scripts\n",
      "C:\\Users\\ng947ac\\Documents\\Daniel\\git\\workspace\n",
      "C:\\Users\\ng947ac\\Documents\\Daniel\\git\\workspace\\sosgemseo\\src\\\n",
      "C:\\Users\\ng947ac\\Documents\\Daniel\\git\\workspace\\sostrades-core\n"
     ]
    }
   ],
   "source": [
    "import sys\n",
    "import os\n",
    "module_path = os.path.abspath('.') +\"\\\\_scripts\"\n",
    "print(module_path)\n",
    "\n",
    "if module_path not in sys.path:\n",
    "    sys.path.append(module_path)\n",
    "from _00_Import_packages_git3 import *"
   ]
  },
  {
   "cell_type": "code",
   "execution_count": 3,
   "id": "f59f4096",
   "metadata": {},
   "outputs": [],
   "source": [
    "from time import sleep\n",
    "from shutil import rmtree\n",
    "from pathlib import Path\n",
    "from os.path import join\n",
    "import pandas as pd\n",
    "import numpy as np\n",
    "import os\n",
    "\n",
    "from sos_trades_core.execution_engine.execution_engine import ExecutionEngine\n",
    "from sos_trades_core.execution_engine.sos_simple_multi_scenario import SoSSimpleMultiScenario\n",
    "from sos_trades_core.execution_engine.sos_very_simple_multi_scenario import SoSVerySimpleMultiScenario\n",
    "from sos_trades_core.execution_engine.scatter_data import SoSScatterData\n",
    "from sos_trades_core.execution_engine.sos_discipline_scatter import SoSDisciplineScatter\n",
    "from tempfile import gettempdir\n",
    "from sos_trades_core.tools.rw.load_dump_dm_data import DirectLoadDump\n",
    "from sos_trades_core.study_manager.base_study_manager import BaseStudyManager\n",
    "from sos_trades_core.execution_engine.sos_discipline import SoSDiscipline\n",
    "from sos_trades_core.execution_engine.sos_coupling import SoSCoupling"
   ]
  },
  {
   "cell_type": "markdown",
   "id": "079d9666",
   "metadata": {},
   "source": [
    "# TestScatter"
   ]
  },
  {
   "cell_type": "markdown",
   "id": "524a4a5d",
   "metadata": {},
   "source": [
    "SoSDiscipline test class"
   ]
  },
  {
   "cell_type": "markdown",
   "id": "fb500ad7",
   "metadata": {},
   "source": [
    "# setUp"
   ]
  },
  {
   "cell_type": "code",
   "execution_count": 4,
   "id": "df756823",
   "metadata": {},
   "outputs": [],
   "source": [
    "'''\n",
    "Initialize third data needed for testing\n",
    "'''\n",
    "dirs_to_del = []\n",
    "namespace = 'MyCase'\n",
    "study_name = f'{namespace}'\n",
    "repo = 'sos_trades_core.sos_processes.test'\n",
    "base_path = 'sos_trades_core.sos_wrapping.test_discs'\n",
    "\n",
    "root_dir = gettempdir()"
   ]
  },
  {
   "cell_type": "code",
   "execution_count": 5,
   "id": "dab63115",
   "metadata": {},
   "outputs": [],
   "source": [
    "exec_eng = ExecutionEngine(namespace)\n",
    "factory = exec_eng.factory"
   ]
  },
  {
   "cell_type": "markdown",
   "id": "087ec88f",
   "metadata": {},
   "source": [
    "# tearDown"
   ]
  },
  {
   "cell_type": "code",
   "execution_count": 6,
   "id": "6a4219ee",
   "metadata": {},
   "outputs": [],
   "source": [
    "for dir_to_del in dirs_to_del:\n",
    "     sleep(0.5)\n",
    "     if Path(dir_to_del).is_dir():\n",
    "          rmtree(dir_to_del)\n",
    "sleep(0.5)"
   ]
  },
  {
   "cell_type": "markdown",
   "id": "b38df570",
   "metadata": {},
   "source": [
    "# 01_multi_scenario_of_scatter"
   ]
  },
  {
   "cell_type": "code",
   "execution_count": 7,
   "id": "ef1ce258",
   "metadata": {},
   "outputs": [],
   "source": [
    "exec_eng = ExecutionEngine(namespace)\n",
    "factory = exec_eng.factory"
   ]
  },
  {
   "cell_type": "code",
   "execution_count": 8,
   "id": "7821fac6",
   "metadata": {},
   "outputs": [
    {
     "data": {
      "text/html": [
       "<div>\n",
       "<style scoped>\n",
       "    .dataframe tbody tr th:only-of-type {\n",
       "        vertical-align: middle;\n",
       "    }\n",
       "\n",
       "    .dataframe tbody tr th {\n",
       "        vertical-align: top;\n",
       "    }\n",
       "\n",
       "    .dataframe thead th {\n",
       "        text-align: right;\n",
       "    }\n",
       "</style>\n",
       "<table border=\"1\" class=\"dataframe\">\n",
       "  <thead>\n",
       "    <tr style=\"text-align: right;\">\n",
       "      <th></th>\n",
       "      <th>0</th>\n",
       "    </tr>\n",
       "  </thead>\n",
       "  <tbody>\n",
       "    <tr>\n",
       "      <th>input_name</th>\n",
       "      <td>name_list</td>\n",
       "    </tr>\n",
       "    <tr>\n",
       "      <th>input_type</th>\n",
       "      <td>string_list</td>\n",
       "    </tr>\n",
       "    <tr>\n",
       "      <th>input_ns</th>\n",
       "      <td>ns_scatter_scenario</td>\n",
       "    </tr>\n",
       "    <tr>\n",
       "      <th>output_name</th>\n",
       "      <td>ac_name</td>\n",
       "    </tr>\n",
       "    <tr>\n",
       "      <th>scatter_ns</th>\n",
       "      <td>ns_ac</td>\n",
       "    </tr>\n",
       "    <tr>\n",
       "      <th>gather_ns</th>\n",
       "      <td>ns_scenario</td>\n",
       "    </tr>\n",
       "    <tr>\n",
       "      <th>ns_to_update</th>\n",
       "      <td>[ns_data_ac]</td>\n",
       "    </tr>\n",
       "  </tbody>\n",
       "</table>\n",
       "</div>"
      ],
      "text/plain": [
       "                                0\n",
       "input_name              name_list\n",
       "input_type            string_list\n",
       "input_ns      ns_scatter_scenario\n",
       "output_name               ac_name\n",
       "scatter_ns                  ns_ac\n",
       "gather_ns             ns_scenario\n",
       "ns_to_update         [ns_data_ac]"
      ]
     },
     "execution_count": 8,
     "metadata": {},
     "output_type": "execute_result"
    }
   ],
   "source": [
    "# scatter build map\n",
    "ac_map = {'input_name': 'name_list',\n",
    "            'input_type': 'string_list',\n",
    "            'input_ns': 'ns_scatter_scenario',\n",
    "            'output_name': 'ac_name',\n",
    "            'scatter_ns': 'ns_ac',\n",
    "            'gather_ns': 'ns_scenario',\n",
    "            'ns_to_update': ['ns_data_ac']}\n",
    "\n",
    "exec_eng.smaps_manager.add_build_map('name_list', ac_map)\n",
    "import pandas as pd\n",
    "pd.DataFrame.from_dict(ac_map ,orient='index')"
   ]
  },
  {
   "cell_type": "code",
   "execution_count": 9,
   "id": "7327c476",
   "metadata": {},
   "outputs": [
    {
     "data": {
      "text/html": [
       "<div>\n",
       "<style scoped>\n",
       "    .dataframe tbody tr th:only-of-type {\n",
       "        vertical-align: middle;\n",
       "    }\n",
       "\n",
       "    .dataframe tbody tr th {\n",
       "        vertical-align: top;\n",
       "    }\n",
       "\n",
       "    .dataframe thead th {\n",
       "        text-align: right;\n",
       "    }\n",
       "</style>\n",
       "<table border=\"1\" class=\"dataframe\">\n",
       "  <thead>\n",
       "    <tr style=\"text-align: right;\">\n",
       "      <th></th>\n",
       "      <th>0</th>\n",
       "    </tr>\n",
       "  </thead>\n",
       "  <tbody>\n",
       "    <tr>\n",
       "      <th>input_name</th>\n",
       "      <td>scenario_list</td>\n",
       "    </tr>\n",
       "    <tr>\n",
       "      <th>input_type</th>\n",
       "      <td>string_list</td>\n",
       "    </tr>\n",
       "    <tr>\n",
       "      <th>input_ns</th>\n",
       "      <td>ns_scatter_scenario</td>\n",
       "    </tr>\n",
       "    <tr>\n",
       "      <th>output_name</th>\n",
       "      <td>scenario_name</td>\n",
       "    </tr>\n",
       "    <tr>\n",
       "      <th>scatter_ns</th>\n",
       "      <td>ns_scenario</td>\n",
       "    </tr>\n",
       "    <tr>\n",
       "      <th>gather_ns</th>\n",
       "      <td>ns_scatter_scenario</td>\n",
       "    </tr>\n",
       "    <tr>\n",
       "      <th>ns_to_update</th>\n",
       "      <td>[ns_disc3, ns_barrierr, ns_out_disc3]</td>\n",
       "    </tr>\n",
       "  </tbody>\n",
       "</table>\n",
       "</div>"
      ],
      "text/plain": [
       "                                                  0\n",
       "input_name                            scenario_list\n",
       "input_type                              string_list\n",
       "input_ns                        ns_scatter_scenario\n",
       "output_name                           scenario_name\n",
       "scatter_ns                              ns_scenario\n",
       "gather_ns                       ns_scatter_scenario\n",
       "ns_to_update  [ns_disc3, ns_barrierr, ns_out_disc3]"
      ]
     },
     "execution_count": 9,
     "metadata": {},
     "output_type": "execute_result"
    }
   ],
   "source": [
    "# scenario build map\n",
    "scenario_map = {'input_name': 'scenario_list',\n",
    "                    'input_type': 'string_list',\n",
    "                    'input_ns': 'ns_scatter_scenario',\n",
    "                    'output_name': 'scenario_name',\n",
    "                    'scatter_ns': 'ns_scenario',\n",
    "                    'gather_ns': 'ns_scatter_scenario',\n",
    "                    'ns_to_update': ['ns_disc3', 'ns_barrierr', 'ns_out_disc3']}\n",
    "\n",
    "exec_eng.smaps_manager.add_build_map(\n",
    "     'scenario_list', scenario_map)\n",
    "import pandas as pd\n",
    "pd.DataFrame.from_dict(scenario_map ,orient='index')"
   ]
  },
  {
   "cell_type": "code",
   "execution_count": 10,
   "id": "4f71f974",
   "metadata": {},
   "outputs": [
    {
     "data": {
      "text/plain": [
       "<sos_trades_core.execution_engine.namespace.Namespace at 0x1ac15aacfd0>"
      ]
     },
     "execution_count": 10,
     "metadata": {},
     "output_type": "execute_result"
    }
   ],
   "source": [
    "# shared namespace\n",
    "exec_eng.ns_manager.add_ns('ns_barrierr', 'MyCase')\n",
    "exec_eng.ns_manager.add_ns(\n",
    "     'ns_scatter_scenario', 'MyCase.multi_scenarios')\n",
    "exec_eng.ns_manager.add_ns(\n",
    "     'ns_disc3', 'MyCase.multi_scenarios.Disc3')\n",
    "exec_eng.ns_manager.add_ns(\n",
    "     'ns_out_disc3', 'MyCase.multi_scenarios')\n",
    "exec_eng.ns_manager.add_ns(\n",
    "     'ns_data_ac', 'MyCase')"
   ]
  },
  {
   "cell_type": "code",
   "execution_count": 11,
   "id": "c2bafa80",
   "metadata": {},
   "outputs": [
    {
     "name": "stderr",
     "output_type": "stream",
     "text": [
      "INFO:SoS.EE:configuring ...\n",
      "WARNING:gemseo.mda.mda_chain:No coupling in MDA, switching chain_linearize to True\n",
      "INFO:SoS.EE.Coupling:The MDA solver of the Coupling MyCase is set to MDAJacobi\n",
      "INFO:SoS.EE:Nodes representation for Treeview MyCase\n",
      "|_ MyCase\n",
      "\t|_ multi_scenarios\n",
      "\t|_ Post-processing\n",
      "\t\t|_ Disc1\n",
      "\t\t|_ Disc3\n"
     ]
    },
    {
     "data": {
      "text/plain": [
       "'Nodes representation for Treeview MyCase\\n|_ MyCase\\n\\t|_ multi_scenarios\\n\\t|_ Post-processing\\n\\t\\t|_ Disc1\\n\\t\\t|_ Disc3'"
      ]
     },
     "execution_count": 11,
     "metadata": {},
     "output_type": "execute_result"
    }
   ],
   "source": [
    "# instantiate factory # get instantiator from Discipline class\n",
    "\n",
    "builder_list = factory.get_builder_from_process(repo=repo,\n",
    "                                                                  mod_id='test_disc1_scenario')\n",
    "\n",
    "scatter_list = exec_eng.factory.create_multi_scatter_builder_from_list(\n",
    "     'name_list', builder_list=builder_list, autogather=True)\n",
    "\n",
    "mod_list = f'{base_path}.disc3_scenario.Disc3'\n",
    "disc3_builder = exec_eng.factory.get_builder_from_module(\n",
    "     'Disc3', mod_list)\n",
    "scatter_list.append(disc3_builder)\n",
    "\n",
    "multi_scenarios = exec_eng.factory.create_very_simple_multi_scenario_builder(\n",
    "     'multi_scenarios', 'scenario_list', scatter_list, autogather=True, gather_node='Post-processing')\n",
    "\n",
    "exec_eng.factory.set_builders_to_coupling_builder(\n",
    "     multi_scenarios)\n",
    "exec_eng.configure()\n",
    "exec_eng.display_treeview_nodes()"
   ]
  },
  {
   "cell_type": "code",
   "execution_count": 12,
   "id": "e17817e6",
   "metadata": {},
   "outputs": [
    {
     "data": {
      "text/plain": [
       "{'_SoSBuilder__disc_name': 'Disc1',\n",
       " 'disc': None,\n",
       " '_SoSBuilder__ee': <sos_trades_core.execution_engine.execution_engine.ExecutionEngine at 0x1ac11866460>,\n",
       " '_SoSBuilder__args': {'sos_name': 'Disc1',\n",
       "  'ee': <sos_trades_core.execution_engine.execution_engine.ExecutionEngine at 0x1ac11866460>,\n",
       "  'map_name': 'name_list',\n",
       "  'cls_builder': <sos_trades_core.execution_engine.sos_builder.SoSBuilder at 0x1ac15aac1c0>},\n",
       " 'cls': sos_trades_core.execution_engine.sos_discipline_gather.SoSDisciplineGather,\n",
       " 'discipline_dict': {},\n",
       " '_is_executable': True}"
      ]
     },
     "execution_count": 12,
     "metadata": {},
     "output_type": "execute_result"
    }
   ],
   "source": [
    "scatter_list[1].__dict__\n"
   ]
  },
  {
   "cell_type": "code",
   "execution_count": 13,
   "id": "7efa5c6e",
   "metadata": {},
   "outputs": [
    {
     "data": {
      "text/plain": [
       "<sos_trades_core.execution_engine.sos_builder.SoSBuilder at 0x1ac15aac1c0>"
      ]
     },
     "execution_count": 13,
     "metadata": {},
     "output_type": "execute_result"
    }
   ],
   "source": [
    "builder_list[0]"
   ]
  },
  {
   "cell_type": "code",
   "execution_count": 14,
   "id": "d4236ad3",
   "metadata": {},
   "outputs": [
    {
     "data": {
      "text/plain": [
       "{'_SoSBuilder__disc_name': 'Post-processing.Disc1',\n",
       " 'disc': Post-processing.Disc1\n",
       "    Inputs: MyCase.multi_scenarios.scenario_list\n",
       "    Outputs: ,\n",
       " '_SoSBuilder__ee': <sos_trades_core.execution_engine.execution_engine.ExecutionEngine at 0x1ac11866460>,\n",
       " '_SoSBuilder__args': {'sos_name': 'Post-processing.Disc1',\n",
       "  'ee': <sos_trades_core.execution_engine.execution_engine.ExecutionEngine at 0x1ac11866460>,\n",
       "  'map_name': 'scenario_list',\n",
       "  'cls_builder': <sos_trades_core.execution_engine.sos_builder.SoSBuilder at 0x1ac15aace20>},\n",
       " 'cls': sos_trades_core.execution_engine.sos_discipline_gather.SoSDisciplineGather,\n",
       " 'discipline_dict': {'MyCase.Post-processing.Disc1': Post-processing.Disc1\n",
       "     Inputs: MyCase.multi_scenarios.scenario_list\n",
       "     Outputs: },\n",
       " '_is_executable': True}"
      ]
     },
     "execution_count": 14,
     "metadata": {},
     "output_type": "execute_result"
    }
   ],
   "source": [
    "multi_scenarios[1].__dict__"
   ]
  },
  {
   "cell_type": "code",
   "execution_count": null,
   "id": "71fb3fc0",
   "metadata": {},
   "outputs": [],
   "source": []
  },
  {
   "cell_type": "code",
   "execution_count": 15,
   "id": "3e3a86de",
   "metadata": {},
   "outputs": [],
   "source": [
    "from copy import deepcopy\n",
    "DESC_IN = deepcopy(builder_list[0].cls.DESC_IN)\n",
    "DESC_OUT = deepcopy(builder_list[0].cls.DESC_OUT)"
   ]
  },
  {
   "cell_type": "code",
   "execution_count": 16,
   "id": "db3a1487",
   "metadata": {},
   "outputs": [],
   "source": [
    "import pandas as pd\n",
    "DESC_IN_df = pd.DataFrame.from_dict(DESC_IN,orient='index')\n",
    "DESC_OUT_df = pd.DataFrame.from_dict(DESC_OUT,orient='index')"
   ]
  },
  {
   "cell_type": "code",
   "execution_count": 17,
   "id": "51c7dc4d",
   "metadata": {},
   "outputs": [
    {
     "data": {
      "text/html": [
       "<div>\n",
       "<style scoped>\n",
       "    .dataframe tbody tr th:only-of-type {\n",
       "        vertical-align: middle;\n",
       "    }\n",
       "\n",
       "    .dataframe tbody tr th {\n",
       "        vertical-align: top;\n",
       "    }\n",
       "\n",
       "    .dataframe thead th {\n",
       "        text-align: right;\n",
       "    }\n",
       "</style>\n",
       "<table border=\"1\" class=\"dataframe\">\n",
       "  <thead>\n",
       "    <tr style=\"text-align: right;\">\n",
       "      <th></th>\n",
       "      <th>type</th>\n",
       "      <th>visibility</th>\n",
       "      <th>namespace</th>\n",
       "    </tr>\n",
       "  </thead>\n",
       "  <tbody>\n",
       "    <tr>\n",
       "      <th>x</th>\n",
       "      <td>float</td>\n",
       "      <td>Shared</td>\n",
       "      <td>ns_data_ac</td>\n",
       "    </tr>\n",
       "    <tr>\n",
       "      <th>a</th>\n",
       "      <td>float</td>\n",
       "      <td>Shared</td>\n",
       "      <td>ns_data_ac</td>\n",
       "    </tr>\n",
       "    <tr>\n",
       "      <th>b</th>\n",
       "      <td>float</td>\n",
       "      <td>NaN</td>\n",
       "      <td>NaN</td>\n",
       "    </tr>\n",
       "  </tbody>\n",
       "</table>\n",
       "</div>"
      ],
      "text/plain": [
       "    type visibility   namespace\n",
       "x  float     Shared  ns_data_ac\n",
       "a  float     Shared  ns_data_ac\n",
       "b  float        NaN         NaN"
      ]
     },
     "execution_count": 17,
     "metadata": {},
     "output_type": "execute_result"
    }
   ],
   "source": [
    "DESC_IN_df"
   ]
  },
  {
   "cell_type": "code",
   "execution_count": 18,
   "id": "ae2a289c",
   "metadata": {},
   "outputs": [
    {
     "data": {
      "text/html": [
       "<div>\n",
       "<style scoped>\n",
       "    .dataframe tbody tr th:only-of-type {\n",
       "        vertical-align: middle;\n",
       "    }\n",
       "\n",
       "    .dataframe tbody tr th {\n",
       "        vertical-align: top;\n",
       "    }\n",
       "\n",
       "    .dataframe thead th {\n",
       "        text-align: right;\n",
       "    }\n",
       "</style>\n",
       "<table border=\"1\" class=\"dataframe\">\n",
       "  <thead>\n",
       "    <tr style=\"text-align: right;\">\n",
       "      <th></th>\n",
       "      <th>type</th>\n",
       "      <th>visibility</th>\n",
       "      <th>namespace</th>\n",
       "    </tr>\n",
       "  </thead>\n",
       "  <tbody>\n",
       "    <tr>\n",
       "      <th>indicator</th>\n",
       "      <td>float</td>\n",
       "      <td>NaN</td>\n",
       "      <td>NaN</td>\n",
       "    </tr>\n",
       "    <tr>\n",
       "      <th>y</th>\n",
       "      <td>float</td>\n",
       "      <td>Shared</td>\n",
       "      <td>ns_ac</td>\n",
       "    </tr>\n",
       "  </tbody>\n",
       "</table>\n",
       "</div>"
      ],
      "text/plain": [
       "            type visibility namespace\n",
       "indicator  float        NaN       NaN\n",
       "y          float     Shared     ns_ac"
      ]
     },
     "execution_count": 18,
     "metadata": {},
     "output_type": "execute_result"
    }
   ],
   "source": [
    "DESC_OUT_df"
   ]
  },
  {
   "cell_type": "code",
   "execution_count": 19,
   "id": "e5a49a80",
   "metadata": {},
   "outputs": [],
   "source": [
    "from copy import deepcopy\n",
    "DESC_IN = deepcopy(disc3_builder.cls.DESC_IN)\n",
    "DESC_OUT = deepcopy(disc3_builder.cls.DESC_OUT)\n",
    "import pandas as pd\n",
    "DESC_IN_df = pd.DataFrame.from_dict(DESC_IN,orient='index')\n",
    "DESC_OUT_df = pd.DataFrame.from_dict(DESC_OUT,orient='index')"
   ]
  },
  {
   "cell_type": "code",
   "execution_count": 20,
   "id": "792088e1",
   "metadata": {},
   "outputs": [
    {
     "data": {
      "text/html": [
       "<div>\n",
       "<style scoped>\n",
       "    .dataframe tbody tr th:only-of-type {\n",
       "        vertical-align: middle;\n",
       "    }\n",
       "\n",
       "    .dataframe tbody tr th {\n",
       "        vertical-align: top;\n",
       "    }\n",
       "\n",
       "    .dataframe thead th {\n",
       "        text-align: right;\n",
       "    }\n",
       "</style>\n",
       "<table border=\"1\" class=\"dataframe\">\n",
       "  <thead>\n",
       "    <tr style=\"text-align: right;\">\n",
       "      <th></th>\n",
       "      <th>type</th>\n",
       "      <th>visibility</th>\n",
       "      <th>namespace</th>\n",
       "    </tr>\n",
       "  </thead>\n",
       "  <tbody>\n",
       "    <tr>\n",
       "      <th>z</th>\n",
       "      <td>float</td>\n",
       "      <td>Shared</td>\n",
       "      <td>ns_disc3</td>\n",
       "    </tr>\n",
       "    <tr>\n",
       "      <th>constant</th>\n",
       "      <td>float</td>\n",
       "      <td>NaN</td>\n",
       "      <td>NaN</td>\n",
       "    </tr>\n",
       "    <tr>\n",
       "      <th>power</th>\n",
       "      <td>int</td>\n",
       "      <td>NaN</td>\n",
       "      <td>NaN</td>\n",
       "    </tr>\n",
       "  </tbody>\n",
       "</table>\n",
       "</div>"
      ],
      "text/plain": [
       "           type visibility namespace\n",
       "z         float     Shared  ns_disc3\n",
       "constant  float        NaN       NaN\n",
       "power       int        NaN       NaN"
      ]
     },
     "execution_count": 20,
     "metadata": {},
     "output_type": "execute_result"
    }
   ],
   "source": [
    "DESC_IN_df"
   ]
  },
  {
   "cell_type": "code",
   "execution_count": 21,
   "id": "fa5af067",
   "metadata": {},
   "outputs": [
    {
     "data": {
      "text/html": [
       "<div>\n",
       "<style scoped>\n",
       "    .dataframe tbody tr th:only-of-type {\n",
       "        vertical-align: middle;\n",
       "    }\n",
       "\n",
       "    .dataframe tbody tr th {\n",
       "        vertical-align: top;\n",
       "    }\n",
       "\n",
       "    .dataframe thead th {\n",
       "        text-align: right;\n",
       "    }\n",
       "</style>\n",
       "<table border=\"1\" class=\"dataframe\">\n",
       "  <thead>\n",
       "    <tr style=\"text-align: right;\">\n",
       "      <th></th>\n",
       "      <th>type</th>\n",
       "      <th>visibility</th>\n",
       "      <th>namespace</th>\n",
       "    </tr>\n",
       "  </thead>\n",
       "  <tbody>\n",
       "    <tr>\n",
       "      <th>o</th>\n",
       "      <td>float</td>\n",
       "      <td>Shared</td>\n",
       "      <td>ns_out_disc3</td>\n",
       "    </tr>\n",
       "  </tbody>\n",
       "</table>\n",
       "</div>"
      ],
      "text/plain": [
       "    type visibility     namespace\n",
       "o  float     Shared  ns_out_disc3"
      ]
     },
     "execution_count": 21,
     "metadata": {},
     "output_type": "execute_result"
    }
   ],
   "source": [
    "DESC_OUT_df"
   ]
  },
  {
   "cell_type": "code",
   "execution_count": 22,
   "id": "392b4cb2",
   "metadata": {},
   "outputs": [
    {
     "data": {
      "text/plain": [
       "{'MyCase.multi_scenarios.scenario_list': ['scenario_1', 'scenario_2']}"
      ]
     },
     "execution_count": 22,
     "metadata": {},
     "output_type": "execute_result"
    }
   ],
   "source": [
    "dict_values = {}\n",
    "dict_values[f'{study_name}.multi_scenarios.scenario_list'] = [\n",
    "     'scenario_1', 'scenario_2']\n",
    "dict_values"
   ]
  },
  {
   "cell_type": "code",
   "execution_count": 23,
   "id": "0b428d1c",
   "metadata": {},
   "outputs": [
    {
     "name": "stderr",
     "output_type": "stream",
     "text": [
      "INFO:SoS.EE:configuring ...\n",
      "WARNING:gemseo.mda.mda_chain:No coupling in MDA, switching chain_linearize to True\n",
      "INFO:SoS.EE.Coupling:The MDA solver of the Coupling MyCase.multi_scenarios.scenario_1 is set to MDAJacobi\n",
      "WARNING:gemseo.mda.mda_chain:No coupling in MDA, switching chain_linearize to True\n",
      "INFO:SoS.EE.Coupling:The MDA solver of the Coupling MyCase.multi_scenarios.scenario_2 is set to MDAJacobi\n",
      "INFO:SoS.EE:configuring ...\n",
      "WARNING:gemseo.mda.mda_chain:No coupling in MDA, switching chain_linearize to True\n",
      "INFO:SoS.EE.Coupling:The MDA solver of the Coupling MyCase.multi_scenarios.scenario_1 is set to MDAJacobi\n",
      "WARNING:gemseo.mda.mda_chain:No coupling in MDA, switching chain_linearize to True\n",
      "INFO:SoS.EE.Coupling:The MDA solver of the Coupling MyCase.multi_scenarios.scenario_2 is set to MDAJacobi\n",
      "INFO:SoS.EE:configuring ...\n",
      "WARNING:gemseo.mda.mda_chain:No coupling in MDA, switching chain_linearize to True\n",
      "INFO:SoS.EE.Coupling:The MDA solver of the Coupling MyCase.multi_scenarios.scenario_1 is set to MDAJacobi\n",
      "WARNING:gemseo.mda.mda_chain:No coupling in MDA, switching chain_linearize to True\n",
      "INFO:SoS.EE.Coupling:The MDA solver of the Coupling MyCase.multi_scenarios.scenario_2 is set to MDAJacobi\n",
      "INFO:SoS.EE:configuring ...\n",
      "WARNING:gemseo.mda.mda_chain:No coupling in MDA, switching chain_linearize to True\n",
      "INFO:SoS.EE.Coupling:The MDA solver of the Coupling MyCase.multi_scenarios.scenario_1 is set to MDAJacobi\n",
      "WARNING:gemseo.mda.mda_chain:No coupling in MDA, switching chain_linearize to True\n",
      "INFO:SoS.EE.Coupling:The MDA solver of the Coupling MyCase.multi_scenarios.scenario_2 is set to MDAJacobi\n",
      "INFO:SoS.EE:configuring ...\n",
      "WARNING:gemseo.mda.mda_chain:No coupling in MDA, switching chain_linearize to True\n",
      "INFO:SoS.EE.Coupling:The MDA solver of the Coupling MyCase.multi_scenarios.scenario_1 is set to MDAJacobi\n",
      "WARNING:gemseo.mda.mda_chain:No coupling in MDA, switching chain_linearize to True\n",
      "INFO:SoS.EE.Coupling:The MDA solver of the Coupling MyCase.multi_scenarios.scenario_2 is set to MDAJacobi\n",
      "INFO:SoS.EE:configuring ...\n",
      "WARNING:gemseo.mda.mda_chain:No coupling in MDA, switching chain_linearize to True\n",
      "INFO:SoS.EE.Coupling:The MDA solver of the Coupling MyCase.multi_scenarios.scenario_1 is set to MDAJacobi\n",
      "WARNING:gemseo.mda.mda_chain:No coupling in MDA, switching chain_linearize to True\n",
      "INFO:SoS.EE.Coupling:The MDA solver of the Coupling MyCase.multi_scenarios.scenario_2 is set to MDAJacobi\n",
      "INFO:SoS.EE:configuring ...\n",
      "WARNING:gemseo.mda.mda_chain:No coupling in MDA, switching chain_linearize to True\n",
      "INFO:SoS.EE.Coupling:The MDA solver of the Coupling MyCase.multi_scenarios.scenario_1 is set to MDAJacobi\n",
      "WARNING:gemseo.mda.mda_chain:No coupling in MDA, switching chain_linearize to True\n",
      "INFO:SoS.EE.Coupling:The MDA solver of the Coupling MyCase.multi_scenarios.scenario_2 is set to MDAJacobi\n",
      "INFO:SoS.EE:configuring ...\n",
      "WARNING:gemseo.mda.mda_chain:No coupling in MDA, switching chain_linearize to True\n",
      "INFO:SoS.EE.Coupling:The MDA solver of the Coupling MyCase.multi_scenarios.scenario_1 is set to MDAJacobi\n",
      "WARNING:gemseo.mda.mda_chain:No coupling in MDA, switching chain_linearize to True\n",
      "INFO:SoS.EE.Coupling:The MDA solver of the Coupling MyCase.multi_scenarios.scenario_2 is set to MDAJacobi\n",
      "INFO:SoS.EE:configuring ...\n",
      "WARNING:gemseo.mda.mda_chain:No coupling in MDA, switching chain_linearize to True\n",
      "INFO:SoS.EE.Coupling:The MDA solver of the Coupling MyCase.multi_scenarios.scenario_1 is set to MDAJacobi\n",
      "WARNING:gemseo.mda.mda_chain:No coupling in MDA, switching chain_linearize to True\n",
      "INFO:SoS.EE.Coupling:The MDA solver of the Coupling MyCase.multi_scenarios.scenario_2 is set to MDAJacobi\n",
      "INFO:SoS.EE:configuring ...\n",
      "WARNING:gemseo.mda.mda_chain:No coupling in MDA, switching chain_linearize to True\n",
      "INFO:SoS.EE.Coupling:The MDA solver of the Coupling MyCase.multi_scenarios.scenario_1 is set to MDAJacobi\n",
      "WARNING:gemseo.mda.mda_chain:No coupling in MDA, switching chain_linearize to True\n",
      "INFO:SoS.EE.Coupling:The MDA solver of the Coupling MyCase.multi_scenarios.scenario_2 is set to MDAJacobi\n",
      "INFO:SoS.EE:configuring ...\n",
      "WARNING:gemseo.mda.mda_chain:No coupling in MDA, switching chain_linearize to True\n",
      "INFO:SoS.EE.Coupling:The MDA solver of the Coupling MyCase.multi_scenarios.scenario_1 is set to MDAJacobi\n",
      "WARNING:gemseo.mda.mda_chain:No coupling in MDA, switching chain_linearize to True\n",
      "INFO:SoS.EE.Coupling:The MDA solver of the Coupling MyCase.multi_scenarios.scenario_2 is set to MDAJacobi\n",
      "INFO:SoS.EE:configuring ...\n",
      "WARNING:gemseo.mda.mda_chain:No coupling in MDA, switching chain_linearize to True\n",
      "INFO:SoS.EE.Coupling:The MDA solver of the Coupling MyCase.multi_scenarios.scenario_1 is set to MDAJacobi\n",
      "WARNING:gemseo.mda.mda_chain:No coupling in MDA, switching chain_linearize to True\n",
      "INFO:SoS.EE.Coupling:The MDA solver of the Coupling MyCase.multi_scenarios.scenario_2 is set to MDAJacobi\n",
      "INFO:SoS.EE:configuring ...\n",
      "WARNING:gemseo.mda.mda_chain:No coupling in MDA, switching chain_linearize to True\n",
      "INFO:SoS.EE.Coupling:The MDA solver of the Coupling MyCase.multi_scenarios.scenario_1 is set to MDAJacobi\n",
      "WARNING:gemseo.mda.mda_chain:No coupling in MDA, switching chain_linearize to True\n",
      "INFO:SoS.EE.Coupling:The MDA solver of the Coupling MyCase.multi_scenarios.scenario_2 is set to MDAJacobi\n",
      "INFO:SoS.EE:configuring ...\n",
      "WARNING:gemseo.mda.mda_chain:No coupling in MDA, switching chain_linearize to True\n",
      "INFO:SoS.EE.Coupling:The MDA solver of the Coupling MyCase.multi_scenarios.scenario_1 is set to MDAJacobi\n",
      "WARNING:gemseo.mda.mda_chain:No coupling in MDA, switching chain_linearize to True\n",
      "INFO:SoS.EE.Coupling:The MDA solver of the Coupling MyCase.multi_scenarios.scenario_2 is set to MDAJacobi\n",
      "INFO:SoS.EE:configuring ...\n",
      "WARNING:gemseo.mda.mda_chain:No coupling in MDA, switching chain_linearize to True\n",
      "INFO:SoS.EE.Coupling:The MDA solver of the Coupling MyCase.multi_scenarios.scenario_1 is set to MDAJacobi\n",
      "WARNING:gemseo.mda.mda_chain:No coupling in MDA, switching chain_linearize to True\n",
      "INFO:SoS.EE.Coupling:The MDA solver of the Coupling MyCase.multi_scenarios.scenario_2 is set to MDAJacobi\n",
      "INFO:SoS.EE:configuring ...\n",
      "WARNING:gemseo.mda.mda_chain:No coupling in MDA, switching chain_linearize to True\n",
      "INFO:SoS.EE.Coupling:The MDA solver of the Coupling MyCase.multi_scenarios.scenario_1 is set to MDAJacobi\n",
      "WARNING:gemseo.mda.mda_chain:No coupling in MDA, switching chain_linearize to True\n",
      "INFO:SoS.EE.Coupling:The MDA solver of the Coupling MyCase.multi_scenarios.scenario_2 is set to MDAJacobi\n",
      "INFO:SoS.EE:configuring ...\n",
      "WARNING:gemseo.mda.mda_chain:No coupling in MDA, switching chain_linearize to True\n",
      "INFO:SoS.EE.Coupling:The MDA solver of the Coupling MyCase.multi_scenarios.scenario_1 is set to MDAJacobi\n",
      "WARNING:gemseo.mda.mda_chain:No coupling in MDA, switching chain_linearize to True\n",
      "INFO:SoS.EE.Coupling:The MDA solver of the Coupling MyCase.multi_scenarios.scenario_2 is set to MDAJacobi\n",
      "INFO:SoS.EE:configuring ...\n",
      "WARNING:gemseo.mda.mda_chain:No coupling in MDA, switching chain_linearize to True\n",
      "INFO:SoS.EE.Coupling:The MDA solver of the Coupling MyCase.multi_scenarios.scenario_1 is set to MDAJacobi\n",
      "WARNING:gemseo.mda.mda_chain:No coupling in MDA, switching chain_linearize to True\n",
      "INFO:SoS.EE.Coupling:The MDA solver of the Coupling MyCase.multi_scenarios.scenario_2 is set to MDAJacobi\n",
      "INFO:SoS.EE:configuring ...\n",
      "WARNING:gemseo.mda.mda_chain:No coupling in MDA, switching chain_linearize to True\n",
      "INFO:SoS.EE.Coupling:The MDA solver of the Coupling MyCase.multi_scenarios.scenario_1 is set to MDAJacobi\n",
      "WARNING:gemseo.mda.mda_chain:No coupling in MDA, switching chain_linearize to True\n",
      "INFO:SoS.EE.Coupling:The MDA solver of the Coupling MyCase.multi_scenarios.scenario_2 is set to MDAJacobi\n",
      "INFO:SoS.EE:configuring ...\n",
      "WARNING:gemseo.mda.mda_chain:No coupling in MDA, switching chain_linearize to True\n",
      "INFO:SoS.EE.Coupling:The MDA solver of the Coupling MyCase.multi_scenarios.scenario_1 is set to MDAJacobi\n",
      "WARNING:gemseo.mda.mda_chain:No coupling in MDA, switching chain_linearize to True\n",
      "INFO:SoS.EE.Coupling:The MDA solver of the Coupling MyCase.multi_scenarios.scenario_2 is set to MDAJacobi\n",
      "INFO:SoS.EE:configuring ...\n",
      "WARNING:gemseo.mda.mda_chain:No coupling in MDA, switching chain_linearize to True\n"
     ]
    },
    {
     "name": "stderr",
     "output_type": "stream",
     "text": [
      "INFO:SoS.EE.Coupling:The MDA solver of the Coupling MyCase.multi_scenarios.scenario_1 is set to MDAJacobi\n",
      "WARNING:gemseo.mda.mda_chain:No coupling in MDA, switching chain_linearize to True\n",
      "INFO:SoS.EE.Coupling:The MDA solver of the Coupling MyCase.multi_scenarios.scenario_2 is set to MDAJacobi\n",
      "INFO:SoS.EE:configuring ...\n",
      "WARNING:gemseo.mda.mda_chain:No coupling in MDA, switching chain_linearize to True\n",
      "INFO:SoS.EE.Coupling:The MDA solver of the Coupling MyCase.multi_scenarios.scenario_1 is set to MDAJacobi\n",
      "WARNING:gemseo.mda.mda_chain:No coupling in MDA, switching chain_linearize to True\n",
      "INFO:SoS.EE.Coupling:The MDA solver of the Coupling MyCase.multi_scenarios.scenario_2 is set to MDAJacobi\n",
      "INFO:SoS.EE:configuring ...\n",
      "WARNING:gemseo.mda.mda_chain:No coupling in MDA, switching chain_linearize to True\n",
      "INFO:SoS.EE.Coupling:The MDA solver of the Coupling MyCase.multi_scenarios.scenario_1 is set to MDAJacobi\n",
      "WARNING:gemseo.mda.mda_chain:No coupling in MDA, switching chain_linearize to True\n",
      "INFO:SoS.EE.Coupling:The MDA solver of the Coupling MyCase.multi_scenarios.scenario_2 is set to MDAJacobi\n",
      "INFO:SoS.EE:configuring ...\n",
      "WARNING:gemseo.mda.mda_chain:No coupling in MDA, switching chain_linearize to True\n",
      "INFO:SoS.EE.Coupling:The MDA solver of the Coupling MyCase.multi_scenarios.scenario_1 is set to MDAJacobi\n",
      "WARNING:gemseo.mda.mda_chain:No coupling in MDA, switching chain_linearize to True\n",
      "INFO:SoS.EE.Coupling:The MDA solver of the Coupling MyCase.multi_scenarios.scenario_2 is set to MDAJacobi\n",
      "INFO:SoS.EE:configuring ...\n",
      "WARNING:gemseo.mda.mda_chain:No coupling in MDA, switching chain_linearize to True\n",
      "INFO:SoS.EE.Coupling:The MDA solver of the Coupling MyCase.multi_scenarios.scenario_1 is set to MDAJacobi\n",
      "WARNING:gemseo.mda.mda_chain:No coupling in MDA, switching chain_linearize to True\n",
      "INFO:SoS.EE.Coupling:The MDA solver of the Coupling MyCase.multi_scenarios.scenario_2 is set to MDAJacobi\n",
      "INFO:SoS.EE:configuring ...\n",
      "WARNING:gemseo.mda.mda_chain:No coupling in MDA, switching chain_linearize to True\n",
      "INFO:SoS.EE.Coupling:The MDA solver of the Coupling MyCase.multi_scenarios.scenario_1 is set to MDAJacobi\n",
      "WARNING:gemseo.mda.mda_chain:No coupling in MDA, switching chain_linearize to True\n",
      "INFO:SoS.EE.Coupling:The MDA solver of the Coupling MyCase.multi_scenarios.scenario_2 is set to MDAJacobi\n",
      "INFO:SoS.EE:configuring ...\n",
      "WARNING:gemseo.mda.mda_chain:No coupling in MDA, switching chain_linearize to True\n",
      "INFO:SoS.EE.Coupling:The MDA solver of the Coupling MyCase.multi_scenarios.scenario_1 is set to MDAJacobi\n",
      "WARNING:gemseo.mda.mda_chain:No coupling in MDA, switching chain_linearize to True\n",
      "INFO:SoS.EE.Coupling:The MDA solver of the Coupling MyCase.multi_scenarios.scenario_2 is set to MDAJacobi\n",
      "INFO:SoS.EE:configuring ...\n",
      "WARNING:gemseo.mda.mda_chain:No coupling in MDA, switching chain_linearize to True\n",
      "INFO:SoS.EE.Coupling:The MDA solver of the Coupling MyCase.multi_scenarios.scenario_1 is set to MDAJacobi\n",
      "WARNING:gemseo.mda.mda_chain:No coupling in MDA, switching chain_linearize to True\n",
      "INFO:SoS.EE.Coupling:The MDA solver of the Coupling MyCase.multi_scenarios.scenario_2 is set to MDAJacobi\n",
      "INFO:SoS.EE:configuring ...\n",
      "WARNING:gemseo.mda.mda_chain:No coupling in MDA, switching chain_linearize to True\n",
      "INFO:SoS.EE.Coupling:The MDA solver of the Coupling MyCase.multi_scenarios.scenario_1 is set to MDAJacobi\n",
      "WARNING:gemseo.mda.mda_chain:No coupling in MDA, switching chain_linearize to True\n",
      "INFO:SoS.EE.Coupling:The MDA solver of the Coupling MyCase.multi_scenarios.scenario_2 is set to MDAJacobi\n",
      "INFO:SoS.EE:configuring ...\n",
      "WARNING:gemseo.mda.mda_chain:No coupling in MDA, switching chain_linearize to True\n",
      "INFO:SoS.EE.Coupling:The MDA solver of the Coupling MyCase.multi_scenarios.scenario_1 is set to MDAJacobi\n",
      "WARNING:gemseo.mda.mda_chain:No coupling in MDA, switching chain_linearize to True\n",
      "INFO:SoS.EE.Coupling:The MDA solver of the Coupling MyCase.multi_scenarios.scenario_2 is set to MDAJacobi\n",
      "INFO:SoS.EE:configuring ...\n",
      "WARNING:gemseo.mda.mda_chain:No coupling in MDA, switching chain_linearize to True\n",
      "INFO:SoS.EE.Coupling:The MDA solver of the Coupling MyCase.multi_scenarios.scenario_1 is set to MDAJacobi\n",
      "WARNING:gemseo.mda.mda_chain:No coupling in MDA, switching chain_linearize to True\n",
      "INFO:SoS.EE.Coupling:The MDA solver of the Coupling MyCase.multi_scenarios.scenario_2 is set to MDAJacobi\n",
      "INFO:SoS.EE:configuring ...\n",
      "WARNING:gemseo.mda.mda_chain:No coupling in MDA, switching chain_linearize to True\n",
      "INFO:SoS.EE.Coupling:The MDA solver of the Coupling MyCase.multi_scenarios.scenario_1 is set to MDAJacobi\n",
      "WARNING:gemseo.mda.mda_chain:No coupling in MDA, switching chain_linearize to True\n",
      "INFO:SoS.EE.Coupling:The MDA solver of the Coupling MyCase.multi_scenarios.scenario_2 is set to MDAJacobi\n",
      "INFO:SoS.EE:configuring ...\n",
      "WARNING:gemseo.mda.mda_chain:No coupling in MDA, switching chain_linearize to True\n",
      "INFO:SoS.EE.Coupling:The MDA solver of the Coupling MyCase.multi_scenarios.scenario_1 is set to MDAJacobi\n",
      "WARNING:gemseo.mda.mda_chain:No coupling in MDA, switching chain_linearize to True\n",
      "INFO:SoS.EE.Coupling:The MDA solver of the Coupling MyCase.multi_scenarios.scenario_2 is set to MDAJacobi\n",
      "INFO:SoS.EE:configuring ...\n",
      "WARNING:gemseo.mda.mda_chain:No coupling in MDA, switching chain_linearize to True\n",
      "INFO:SoS.EE.Coupling:The MDA solver of the Coupling MyCase.multi_scenarios.scenario_1 is set to MDAJacobi\n",
      "WARNING:gemseo.mda.mda_chain:No coupling in MDA, switching chain_linearize to True\n",
      "INFO:SoS.EE.Coupling:The MDA solver of the Coupling MyCase.multi_scenarios.scenario_2 is set to MDAJacobi\n",
      "INFO:SoS.EE:configuring ...\n",
      "WARNING:gemseo.mda.mda_chain:No coupling in MDA, switching chain_linearize to True\n",
      "INFO:SoS.EE.Coupling:The MDA solver of the Coupling MyCase.multi_scenarios.scenario_1 is set to MDAJacobi\n",
      "WARNING:gemseo.mda.mda_chain:No coupling in MDA, switching chain_linearize to True\n",
      "INFO:SoS.EE.Coupling:The MDA solver of the Coupling MyCase.multi_scenarios.scenario_2 is set to MDAJacobi\n",
      "INFO:SoS.EE:configuring ...\n",
      "WARNING:gemseo.mda.mda_chain:No coupling in MDA, switching chain_linearize to True\n",
      "INFO:SoS.EE.Coupling:The MDA solver of the Coupling MyCase.multi_scenarios.scenario_1 is set to MDAJacobi\n",
      "WARNING:gemseo.mda.mda_chain:No coupling in MDA, switching chain_linearize to True\n",
      "INFO:SoS.EE.Coupling:The MDA solver of the Coupling MyCase.multi_scenarios.scenario_2 is set to MDAJacobi\n",
      "INFO:SoS.EE:configuring ...\n",
      "WARNING:gemseo.mda.mda_chain:No coupling in MDA, switching chain_linearize to True\n",
      "INFO:SoS.EE.Coupling:The MDA solver of the Coupling MyCase.multi_scenarios.scenario_1 is set to MDAJacobi\n",
      "WARNING:gemseo.mda.mda_chain:No coupling in MDA, switching chain_linearize to True\n",
      "INFO:SoS.EE.Coupling:The MDA solver of the Coupling MyCase.multi_scenarios.scenario_2 is set to MDAJacobi\n",
      "INFO:SoS.EE:configuring ...\n",
      "WARNING:gemseo.mda.mda_chain:No coupling in MDA, switching chain_linearize to True\n",
      "INFO:SoS.EE.Coupling:The MDA solver of the Coupling MyCase.multi_scenarios.scenario_1 is set to MDAJacobi\n",
      "WARNING:gemseo.mda.mda_chain:No coupling in MDA, switching chain_linearize to True\n",
      "INFO:SoS.EE.Coupling:The MDA solver of the Coupling MyCase.multi_scenarios.scenario_2 is set to MDAJacobi\n",
      "INFO:SoS.EE:configuring ...\n",
      "WARNING:gemseo.mda.mda_chain:No coupling in MDA, switching chain_linearize to True\n",
      "INFO:SoS.EE.Coupling:The MDA solver of the Coupling MyCase.multi_scenarios.scenario_1 is set to MDAJacobi\n",
      "WARNING:gemseo.mda.mda_chain:No coupling in MDA, switching chain_linearize to True\n",
      "INFO:SoS.EE.Coupling:The MDA solver of the Coupling MyCase.multi_scenarios.scenario_2 is set to MDAJacobi\n",
      "INFO:SoS.EE:configuring ...\n",
      "WARNING:gemseo.mda.mda_chain:No coupling in MDA, switching chain_linearize to True\n",
      "INFO:SoS.EE.Coupling:The MDA solver of the Coupling MyCase.multi_scenarios.scenario_1 is set to MDAJacobi\n",
      "WARNING:gemseo.mda.mda_chain:No coupling in MDA, switching chain_linearize to True\n",
      "INFO:SoS.EE.Coupling:The MDA solver of the Coupling MyCase.multi_scenarios.scenario_2 is set to MDAJacobi\n",
      "INFO:SoS.EE:configuring ...\n",
      "WARNING:gemseo.mda.mda_chain:No coupling in MDA, switching chain_linearize to True\n",
      "INFO:SoS.EE.Coupling:The MDA solver of the Coupling MyCase.multi_scenarios.scenario_1 is set to MDAJacobi\n"
     ]
    },
    {
     "name": "stderr",
     "output_type": "stream",
     "text": [
      "WARNING:gemseo.mda.mda_chain:No coupling in MDA, switching chain_linearize to True\n",
      "INFO:SoS.EE.Coupling:The MDA solver of the Coupling MyCase.multi_scenarios.scenario_2 is set to MDAJacobi\n",
      "INFO:SoS.EE:configuring ...\n",
      "WARNING:gemseo.mda.mda_chain:No coupling in MDA, switching chain_linearize to True\n",
      "INFO:SoS.EE.Coupling:The MDA solver of the Coupling MyCase.multi_scenarios.scenario_1 is set to MDAJacobi\n",
      "WARNING:gemseo.mda.mda_chain:No coupling in MDA, switching chain_linearize to True\n",
      "INFO:SoS.EE.Coupling:The MDA solver of the Coupling MyCase.multi_scenarios.scenario_2 is set to MDAJacobi\n",
      "INFO:SoS.EE:configuring ...\n",
      "WARNING:gemseo.mda.mda_chain:No coupling in MDA, switching chain_linearize to True\n",
      "INFO:SoS.EE.Coupling:The MDA solver of the Coupling MyCase.multi_scenarios.scenario_1 is set to MDAJacobi\n",
      "WARNING:gemseo.mda.mda_chain:No coupling in MDA, switching chain_linearize to True\n",
      "INFO:SoS.EE.Coupling:The MDA solver of the Coupling MyCase.multi_scenarios.scenario_2 is set to MDAJacobi\n",
      "INFO:SoS.EE:configuring ...\n",
      "WARNING:gemseo.mda.mda_chain:No coupling in MDA, switching chain_linearize to True\n",
      "INFO:SoS.EE.Coupling:The MDA solver of the Coupling MyCase.multi_scenarios.scenario_1 is set to MDAJacobi\n",
      "WARNING:gemseo.mda.mda_chain:No coupling in MDA, switching chain_linearize to True\n",
      "INFO:SoS.EE.Coupling:The MDA solver of the Coupling MyCase.multi_scenarios.scenario_2 is set to MDAJacobi\n",
      "INFO:SoS.EE:configuring ...\n",
      "WARNING:gemseo.mda.mda_chain:No coupling in MDA, switching chain_linearize to True\n",
      "INFO:SoS.EE.Coupling:The MDA solver of the Coupling MyCase.multi_scenarios.scenario_1 is set to MDAJacobi\n",
      "WARNING:gemseo.mda.mda_chain:No coupling in MDA, switching chain_linearize to True\n",
      "INFO:SoS.EE.Coupling:The MDA solver of the Coupling MyCase.multi_scenarios.scenario_2 is set to MDAJacobi\n",
      "INFO:SoS.EE:configuring ...\n",
      "WARNING:gemseo.mda.mda_chain:No coupling in MDA, switching chain_linearize to True\n",
      "INFO:SoS.EE.Coupling:The MDA solver of the Coupling MyCase.multi_scenarios.scenario_1 is set to MDAJacobi\n",
      "WARNING:gemseo.mda.mda_chain:No coupling in MDA, switching chain_linearize to True\n",
      "INFO:SoS.EE.Coupling:The MDA solver of the Coupling MyCase.multi_scenarios.scenario_2 is set to MDAJacobi\n",
      "INFO:SoS.EE:configuring ...\n",
      "WARNING:gemseo.mda.mda_chain:No coupling in MDA, switching chain_linearize to True\n",
      "INFO:SoS.EE.Coupling:The MDA solver of the Coupling MyCase.multi_scenarios.scenario_1 is set to MDAJacobi\n",
      "WARNING:gemseo.mda.mda_chain:No coupling in MDA, switching chain_linearize to True\n",
      "INFO:SoS.EE.Coupling:The MDA solver of the Coupling MyCase.multi_scenarios.scenario_2 is set to MDAJacobi\n",
      "INFO:SoS.EE:configuring ...\n",
      "WARNING:gemseo.mda.mda_chain:No coupling in MDA, switching chain_linearize to True\n",
      "INFO:SoS.EE.Coupling:The MDA solver of the Coupling MyCase.multi_scenarios.scenario_1 is set to MDAJacobi\n",
      "WARNING:gemseo.mda.mda_chain:No coupling in MDA, switching chain_linearize to True\n",
      "INFO:SoS.EE.Coupling:The MDA solver of the Coupling MyCase.multi_scenarios.scenario_2 is set to MDAJacobi\n",
      "INFO:SoS.EE:configuring ...\n",
      "WARNING:gemseo.mda.mda_chain:No coupling in MDA, switching chain_linearize to True\n",
      "INFO:SoS.EE.Coupling:The MDA solver of the Coupling MyCase.multi_scenarios.scenario_1 is set to MDAJacobi\n",
      "WARNING:gemseo.mda.mda_chain:No coupling in MDA, switching chain_linearize to True\n",
      "INFO:SoS.EE.Coupling:The MDA solver of the Coupling MyCase.multi_scenarios.scenario_2 is set to MDAJacobi\n",
      "INFO:SoS.EE:configuring ...\n",
      "WARNING:gemseo.mda.mda_chain:No coupling in MDA, switching chain_linearize to True\n",
      "INFO:SoS.EE.Coupling:The MDA solver of the Coupling MyCase.multi_scenarios.scenario_1 is set to MDAJacobi\n",
      "WARNING:gemseo.mda.mda_chain:No coupling in MDA, switching chain_linearize to True\n",
      "INFO:SoS.EE.Coupling:The MDA solver of the Coupling MyCase.multi_scenarios.scenario_2 is set to MDAJacobi\n",
      "INFO:SoS.EE:configuring ...\n",
      "WARNING:gemseo.mda.mda_chain:No coupling in MDA, switching chain_linearize to True\n",
      "INFO:SoS.EE.Coupling:The MDA solver of the Coupling MyCase.multi_scenarios.scenario_1 is set to MDAJacobi\n",
      "WARNING:gemseo.mda.mda_chain:No coupling in MDA, switching chain_linearize to True\n",
      "INFO:SoS.EE.Coupling:The MDA solver of the Coupling MyCase.multi_scenarios.scenario_2 is set to MDAJacobi\n",
      "INFO:SoS.EE:configuring ...\n",
      "WARNING:gemseo.mda.mda_chain:No coupling in MDA, switching chain_linearize to True\n",
      "INFO:SoS.EE.Coupling:The MDA solver of the Coupling MyCase.multi_scenarios.scenario_1 is set to MDAJacobi\n",
      "WARNING:gemseo.mda.mda_chain:No coupling in MDA, switching chain_linearize to True\n",
      "INFO:SoS.EE.Coupling:The MDA solver of the Coupling MyCase.multi_scenarios.scenario_2 is set to MDAJacobi\n",
      "INFO:SoS.EE:configuring ...\n",
      "WARNING:gemseo.mda.mda_chain:No coupling in MDA, switching chain_linearize to True\n",
      "INFO:SoS.EE.Coupling:The MDA solver of the Coupling MyCase.multi_scenarios.scenario_1 is set to MDAJacobi\n",
      "WARNING:gemseo.mda.mda_chain:No coupling in MDA, switching chain_linearize to True\n",
      "INFO:SoS.EE.Coupling:The MDA solver of the Coupling MyCase.multi_scenarios.scenario_2 is set to MDAJacobi\n",
      "INFO:SoS.EE:configuring ...\n",
      "WARNING:gemseo.mda.mda_chain:No coupling in MDA, switching chain_linearize to True\n",
      "INFO:SoS.EE.Coupling:The MDA solver of the Coupling MyCase.multi_scenarios.scenario_1 is set to MDAJacobi\n",
      "WARNING:gemseo.mda.mda_chain:No coupling in MDA, switching chain_linearize to True\n",
      "INFO:SoS.EE.Coupling:The MDA solver of the Coupling MyCase.multi_scenarios.scenario_2 is set to MDAJacobi\n",
      "INFO:SoS.EE:configuring ...\n",
      "WARNING:gemseo.mda.mda_chain:No coupling in MDA, switching chain_linearize to True\n",
      "INFO:SoS.EE.Coupling:The MDA solver of the Coupling MyCase.multi_scenarios.scenario_1 is set to MDAJacobi\n",
      "WARNING:gemseo.mda.mda_chain:No coupling in MDA, switching chain_linearize to True\n",
      "INFO:SoS.EE.Coupling:The MDA solver of the Coupling MyCase.multi_scenarios.scenario_2 is set to MDAJacobi\n",
      "INFO:SoS.EE:configuring ...\n",
      "WARNING:gemseo.mda.mda_chain:No coupling in MDA, switching chain_linearize to True\n",
      "INFO:SoS.EE.Coupling:The MDA solver of the Coupling MyCase.multi_scenarios.scenario_1 is set to MDAJacobi\n",
      "WARNING:gemseo.mda.mda_chain:No coupling in MDA, switching chain_linearize to True\n",
      "INFO:SoS.EE.Coupling:The MDA solver of the Coupling MyCase.multi_scenarios.scenario_2 is set to MDAJacobi\n",
      "INFO:SoS.EE:configuring ...\n",
      "WARNING:gemseo.mda.mda_chain:No coupling in MDA, switching chain_linearize to True\n",
      "INFO:SoS.EE.Coupling:The MDA solver of the Coupling MyCase.multi_scenarios.scenario_1 is set to MDAJacobi\n",
      "WARNING:gemseo.mda.mda_chain:No coupling in MDA, switching chain_linearize to True\n",
      "INFO:SoS.EE.Coupling:The MDA solver of the Coupling MyCase.multi_scenarios.scenario_2 is set to MDAJacobi\n",
      "INFO:SoS.EE:configuring ...\n",
      "WARNING:gemseo.mda.mda_chain:No coupling in MDA, switching chain_linearize to True\n",
      "INFO:SoS.EE.Coupling:The MDA solver of the Coupling MyCase.multi_scenarios.scenario_1 is set to MDAJacobi\n",
      "WARNING:gemseo.mda.mda_chain:No coupling in MDA, switching chain_linearize to True\n",
      "INFO:SoS.EE.Coupling:The MDA solver of the Coupling MyCase.multi_scenarios.scenario_2 is set to MDAJacobi\n",
      "INFO:SoS.EE:configuring ...\n",
      "WARNING:gemseo.mda.mda_chain:No coupling in MDA, switching chain_linearize to True\n",
      "INFO:SoS.EE.Coupling:The MDA solver of the Coupling MyCase.multi_scenarios.scenario_1 is set to MDAJacobi\n",
      "WARNING:gemseo.mda.mda_chain:No coupling in MDA, switching chain_linearize to True\n",
      "INFO:SoS.EE.Coupling:The MDA solver of the Coupling MyCase.multi_scenarios.scenario_2 is set to MDAJacobi\n",
      "INFO:SoS.EE:configuring ...\n",
      "WARNING:gemseo.mda.mda_chain:No coupling in MDA, switching chain_linearize to True\n",
      "INFO:SoS.EE.Coupling:The MDA solver of the Coupling MyCase.multi_scenarios.scenario_1 is set to MDAJacobi\n",
      "WARNING:gemseo.mda.mda_chain:No coupling in MDA, switching chain_linearize to True\n",
      "INFO:SoS.EE.Coupling:The MDA solver of the Coupling MyCase.multi_scenarios.scenario_2 is set to MDAJacobi\n",
      "INFO:SoS.EE:configuring ...\n",
      "WARNING:gemseo.mda.mda_chain:No coupling in MDA, switching chain_linearize to True\n",
      "INFO:SoS.EE.Coupling:The MDA solver of the Coupling MyCase.multi_scenarios.scenario_1 is set to MDAJacobi\n",
      "WARNING:gemseo.mda.mda_chain:No coupling in MDA, switching chain_linearize to True\n"
     ]
    },
    {
     "name": "stderr",
     "output_type": "stream",
     "text": [
      "INFO:SoS.EE.Coupling:The MDA solver of the Coupling MyCase.multi_scenarios.scenario_2 is set to MDAJacobi\n",
      "INFO:SoS.EE:configuring ...\n",
      "WARNING:gemseo.mda.mda_chain:No coupling in MDA, switching chain_linearize to True\n",
      "INFO:SoS.EE.Coupling:The MDA solver of the Coupling MyCase.multi_scenarios.scenario_1 is set to MDAJacobi\n",
      "WARNING:gemseo.mda.mda_chain:No coupling in MDA, switching chain_linearize to True\n",
      "INFO:SoS.EE.Coupling:The MDA solver of the Coupling MyCase.multi_scenarios.scenario_2 is set to MDAJacobi\n",
      "INFO:SoS.EE:configuring ...\n",
      "WARNING:gemseo.mda.mda_chain:No coupling in MDA, switching chain_linearize to True\n",
      "INFO:SoS.EE.Coupling:The MDA solver of the Coupling MyCase.multi_scenarios.scenario_1 is set to MDAJacobi\n",
      "WARNING:gemseo.mda.mda_chain:No coupling in MDA, switching chain_linearize to True\n",
      "INFO:SoS.EE.Coupling:The MDA solver of the Coupling MyCase.multi_scenarios.scenario_2 is set to MDAJacobi\n",
      "INFO:SoS.EE:configuring ...\n",
      "WARNING:gemseo.mda.mda_chain:No coupling in MDA, switching chain_linearize to True\n",
      "INFO:SoS.EE.Coupling:The MDA solver of the Coupling MyCase.multi_scenarios.scenario_1 is set to MDAJacobi\n",
      "WARNING:gemseo.mda.mda_chain:No coupling in MDA, switching chain_linearize to True\n",
      "INFO:SoS.EE.Coupling:The MDA solver of the Coupling MyCase.multi_scenarios.scenario_2 is set to MDAJacobi\n",
      "INFO:SoS.EE:configuring ...\n",
      "WARNING:gemseo.mda.mda_chain:No coupling in MDA, switching chain_linearize to True\n",
      "INFO:SoS.EE.Coupling:The MDA solver of the Coupling MyCase.multi_scenarios.scenario_1 is set to MDAJacobi\n",
      "WARNING:gemseo.mda.mda_chain:No coupling in MDA, switching chain_linearize to True\n",
      "INFO:SoS.EE.Coupling:The MDA solver of the Coupling MyCase.multi_scenarios.scenario_2 is set to MDAJacobi\n",
      "INFO:SoS.EE:configuring ...\n",
      "WARNING:gemseo.mda.mda_chain:No coupling in MDA, switching chain_linearize to True\n",
      "INFO:SoS.EE.Coupling:The MDA solver of the Coupling MyCase.multi_scenarios.scenario_1 is set to MDAJacobi\n",
      "WARNING:gemseo.mda.mda_chain:No coupling in MDA, switching chain_linearize to True\n",
      "INFO:SoS.EE.Coupling:The MDA solver of the Coupling MyCase.multi_scenarios.scenario_2 is set to MDAJacobi\n",
      "INFO:SoS.EE:configuring ...\n",
      "WARNING:gemseo.mda.mda_chain:No coupling in MDA, switching chain_linearize to True\n",
      "INFO:SoS.EE.Coupling:The MDA solver of the Coupling MyCase.multi_scenarios.scenario_1 is set to MDAJacobi\n",
      "WARNING:gemseo.mda.mda_chain:No coupling in MDA, switching chain_linearize to True\n",
      "INFO:SoS.EE.Coupling:The MDA solver of the Coupling MyCase.multi_scenarios.scenario_2 is set to MDAJacobi\n",
      "INFO:SoS.EE:configuring ...\n",
      "WARNING:gemseo.mda.mda_chain:No coupling in MDA, switching chain_linearize to True\n",
      "INFO:SoS.EE.Coupling:The MDA solver of the Coupling MyCase.multi_scenarios.scenario_1 is set to MDAJacobi\n",
      "WARNING:gemseo.mda.mda_chain:No coupling in MDA, switching chain_linearize to True\n",
      "INFO:SoS.EE.Coupling:The MDA solver of the Coupling MyCase.multi_scenarios.scenario_2 is set to MDAJacobi\n",
      "INFO:SoS.EE:configuring ...\n",
      "WARNING:gemseo.mda.mda_chain:No coupling in MDA, switching chain_linearize to True\n",
      "INFO:SoS.EE.Coupling:The MDA solver of the Coupling MyCase.multi_scenarios.scenario_1 is set to MDAJacobi\n",
      "WARNING:gemseo.mda.mda_chain:No coupling in MDA, switching chain_linearize to True\n",
      "INFO:SoS.EE.Coupling:The MDA solver of the Coupling MyCase.multi_scenarios.scenario_2 is set to MDAJacobi\n",
      "INFO:SoS.EE:configuring ...\n",
      "WARNING:gemseo.mda.mda_chain:No coupling in MDA, switching chain_linearize to True\n",
      "INFO:SoS.EE.Coupling:The MDA solver of the Coupling MyCase.multi_scenarios.scenario_1 is set to MDAJacobi\n",
      "WARNING:gemseo.mda.mda_chain:No coupling in MDA, switching chain_linearize to True\n",
      "INFO:SoS.EE.Coupling:The MDA solver of the Coupling MyCase.multi_scenarios.scenario_2 is set to MDAJacobi\n",
      "INFO:SoS.EE:configuring ...\n",
      "WARNING:gemseo.mda.mda_chain:No coupling in MDA, switching chain_linearize to True\n",
      "INFO:SoS.EE.Coupling:The MDA solver of the Coupling MyCase.multi_scenarios.scenario_1 is set to MDAJacobi\n",
      "WARNING:gemseo.mda.mda_chain:No coupling in MDA, switching chain_linearize to True\n",
      "INFO:SoS.EE.Coupling:The MDA solver of the Coupling MyCase.multi_scenarios.scenario_2 is set to MDAJacobi\n",
      "INFO:SoS.EE:configuring ...\n",
      "WARNING:gemseo.mda.mda_chain:No coupling in MDA, switching chain_linearize to True\n",
      "INFO:SoS.EE.Coupling:The MDA solver of the Coupling MyCase.multi_scenarios.scenario_1 is set to MDAJacobi\n",
      "WARNING:gemseo.mda.mda_chain:No coupling in MDA, switching chain_linearize to True\n",
      "INFO:SoS.EE.Coupling:The MDA solver of the Coupling MyCase.multi_scenarios.scenario_2 is set to MDAJacobi\n",
      "INFO:SoS.EE:configuring ...\n",
      "WARNING:gemseo.mda.mda_chain:No coupling in MDA, switching chain_linearize to True\n",
      "INFO:SoS.EE.Coupling:The MDA solver of the Coupling MyCase.multi_scenarios.scenario_1 is set to MDAJacobi\n",
      "WARNING:gemseo.mda.mda_chain:No coupling in MDA, switching chain_linearize to True\n",
      "INFO:SoS.EE.Coupling:The MDA solver of the Coupling MyCase.multi_scenarios.scenario_2 is set to MDAJacobi\n",
      "INFO:SoS.EE:configuring ...\n",
      "WARNING:gemseo.mda.mda_chain:No coupling in MDA, switching chain_linearize to True\n",
      "INFO:SoS.EE.Coupling:The MDA solver of the Coupling MyCase.multi_scenarios.scenario_1 is set to MDAJacobi\n",
      "WARNING:gemseo.mda.mda_chain:No coupling in MDA, switching chain_linearize to True\n",
      "INFO:SoS.EE.Coupling:The MDA solver of the Coupling MyCase.multi_scenarios.scenario_2 is set to MDAJacobi\n",
      "INFO:SoS.EE:configuring ...\n",
      "WARNING:gemseo.mda.mda_chain:No coupling in MDA, switching chain_linearize to True\n",
      "INFO:SoS.EE.Coupling:The MDA solver of the Coupling MyCase.multi_scenarios.scenario_1 is set to MDAJacobi\n",
      "WARNING:gemseo.mda.mda_chain:No coupling in MDA, switching chain_linearize to True\n",
      "INFO:SoS.EE.Coupling:The MDA solver of the Coupling MyCase.multi_scenarios.scenario_2 is set to MDAJacobi\n",
      "INFO:SoS.EE:configuring ...\n",
      "WARNING:gemseo.mda.mda_chain:No coupling in MDA, switching chain_linearize to True\n",
      "INFO:SoS.EE.Coupling:The MDA solver of the Coupling MyCase.multi_scenarios.scenario_1 is set to MDAJacobi\n",
      "WARNING:gemseo.mda.mda_chain:No coupling in MDA, switching chain_linearize to True\n",
      "INFO:SoS.EE.Coupling:The MDA solver of the Coupling MyCase.multi_scenarios.scenario_2 is set to MDAJacobi\n",
      "INFO:SoS.EE:configuring ...\n",
      "WARNING:gemseo.mda.mda_chain:No coupling in MDA, switching chain_linearize to True\n",
      "INFO:SoS.EE.Coupling:The MDA solver of the Coupling MyCase.multi_scenarios.scenario_1 is set to MDAJacobi\n",
      "WARNING:gemseo.mda.mda_chain:No coupling in MDA, switching chain_linearize to True\n",
      "INFO:SoS.EE.Coupling:The MDA solver of the Coupling MyCase.multi_scenarios.scenario_2 is set to MDAJacobi\n",
      "INFO:SoS.EE:configuring ...\n",
      "WARNING:gemseo.mda.mda_chain:No coupling in MDA, switching chain_linearize to True\n",
      "INFO:SoS.EE.Coupling:The MDA solver of the Coupling MyCase.multi_scenarios.scenario_1 is set to MDAJacobi\n",
      "WARNING:gemseo.mda.mda_chain:No coupling in MDA, switching chain_linearize to True\n",
      "INFO:SoS.EE.Coupling:The MDA solver of the Coupling MyCase.multi_scenarios.scenario_2 is set to MDAJacobi\n",
      "INFO:SoS.EE:configuring ...\n",
      "WARNING:gemseo.mda.mda_chain:No coupling in MDA, switching chain_linearize to True\n",
      "INFO:SoS.EE.Coupling:The MDA solver of the Coupling MyCase.multi_scenarios.scenario_1 is set to MDAJacobi\n",
      "WARNING:gemseo.mda.mda_chain:No coupling in MDA, switching chain_linearize to True\n",
      "INFO:SoS.EE.Coupling:The MDA solver of the Coupling MyCase.multi_scenarios.scenario_2 is set to MDAJacobi\n",
      "INFO:SoS.EE:configuring ...\n",
      "WARNING:gemseo.mda.mda_chain:No coupling in MDA, switching chain_linearize to True\n",
      "INFO:SoS.EE.Coupling:The MDA solver of the Coupling MyCase.multi_scenarios.scenario_1 is set to MDAJacobi\n",
      "WARNING:gemseo.mda.mda_chain:No coupling in MDA, switching chain_linearize to True\n",
      "INFO:SoS.EE.Coupling:The MDA solver of the Coupling MyCase.multi_scenarios.scenario_2 is set to MDAJacobi\n",
      "INFO:SoS.EE:configuring ...\n",
      "WARNING:gemseo.mda.mda_chain:No coupling in MDA, switching chain_linearize to True\n",
      "INFO:SoS.EE.Coupling:The MDA solver of the Coupling MyCase.multi_scenarios.scenario_1 is set to MDAJacobi\n",
      "WARNING:gemseo.mda.mda_chain:No coupling in MDA, switching chain_linearize to True\n",
      "INFO:SoS.EE.Coupling:The MDA solver of the Coupling MyCase.multi_scenarios.scenario_2 is set to MDAJacobi\n"
     ]
    },
    {
     "name": "stderr",
     "output_type": "stream",
     "text": [
      "INFO:SoS.EE:configuring ...\n",
      "WARNING:gemseo.mda.mda_chain:No coupling in MDA, switching chain_linearize to True\n",
      "INFO:SoS.EE.Coupling:The MDA solver of the Coupling MyCase.multi_scenarios.scenario_1 is set to MDAJacobi\n",
      "WARNING:gemseo.mda.mda_chain:No coupling in MDA, switching chain_linearize to True\n",
      "INFO:SoS.EE.Coupling:The MDA solver of the Coupling MyCase.multi_scenarios.scenario_2 is set to MDAJacobi\n",
      "INFO:SoS.EE:configuring ...\n",
      "WARNING:gemseo.mda.mda_chain:No coupling in MDA, switching chain_linearize to True\n",
      "INFO:SoS.EE.Coupling:The MDA solver of the Coupling MyCase.multi_scenarios.scenario_1 is set to MDAJacobi\n",
      "WARNING:gemseo.mda.mda_chain:No coupling in MDA, switching chain_linearize to True\n",
      "INFO:SoS.EE.Coupling:The MDA solver of the Coupling MyCase.multi_scenarios.scenario_2 is set to MDAJacobi\n",
      "INFO:SoS.EE:configuring ...\n",
      "WARNING:gemseo.mda.mda_chain:No coupling in MDA, switching chain_linearize to True\n",
      "INFO:SoS.EE.Coupling:The MDA solver of the Coupling MyCase.multi_scenarios.scenario_1 is set to MDAJacobi\n",
      "WARNING:gemseo.mda.mda_chain:No coupling in MDA, switching chain_linearize to True\n",
      "INFO:SoS.EE.Coupling:The MDA solver of the Coupling MyCase.multi_scenarios.scenario_2 is set to MDAJacobi\n",
      "INFO:SoS.EE:configuring ...\n",
      "WARNING:gemseo.mda.mda_chain:No coupling in MDA, switching chain_linearize to True\n",
      "INFO:SoS.EE.Coupling:The MDA solver of the Coupling MyCase.multi_scenarios.scenario_1 is set to MDAJacobi\n",
      "WARNING:gemseo.mda.mda_chain:No coupling in MDA, switching chain_linearize to True\n",
      "INFO:SoS.EE.Coupling:The MDA solver of the Coupling MyCase.multi_scenarios.scenario_2 is set to MDAJacobi\n",
      "INFO:SoS.EE:configuring ...\n",
      "WARNING:gemseo.mda.mda_chain:No coupling in MDA, switching chain_linearize to True\n",
      "INFO:SoS.EE.Coupling:The MDA solver of the Coupling MyCase.multi_scenarios.scenario_1 is set to MDAJacobi\n",
      "WARNING:gemseo.mda.mda_chain:No coupling in MDA, switching chain_linearize to True\n",
      "INFO:SoS.EE.Coupling:The MDA solver of the Coupling MyCase.multi_scenarios.scenario_2 is set to MDAJacobi\n",
      "INFO:SoS.EE:configuring ...\n",
      "WARNING:gemseo.mda.mda_chain:No coupling in MDA, switching chain_linearize to True\n",
      "INFO:SoS.EE.Coupling:The MDA solver of the Coupling MyCase.multi_scenarios.scenario_1 is set to MDAJacobi\n",
      "WARNING:gemseo.mda.mda_chain:No coupling in MDA, switching chain_linearize to True\n",
      "INFO:SoS.EE.Coupling:The MDA solver of the Coupling MyCase.multi_scenarios.scenario_2 is set to MDAJacobi\n",
      "INFO:SoS.EE:configuring ...\n",
      "WARNING:gemseo.mda.mda_chain:No coupling in MDA, switching chain_linearize to True\n",
      "INFO:SoS.EE.Coupling:The MDA solver of the Coupling MyCase.multi_scenarios.scenario_1 is set to MDAJacobi\n",
      "WARNING:gemseo.mda.mda_chain:No coupling in MDA, switching chain_linearize to True\n",
      "INFO:SoS.EE.Coupling:The MDA solver of the Coupling MyCase.multi_scenarios.scenario_2 is set to MDAJacobi\n",
      "INFO:SoS.EE:configuring ...\n",
      "WARNING:gemseo.mda.mda_chain:No coupling in MDA, switching chain_linearize to True\n",
      "INFO:SoS.EE.Coupling:The MDA solver of the Coupling MyCase.multi_scenarios.scenario_1 is set to MDAJacobi\n",
      "WARNING:gemseo.mda.mda_chain:No coupling in MDA, switching chain_linearize to True\n",
      "INFO:SoS.EE.Coupling:The MDA solver of the Coupling MyCase.multi_scenarios.scenario_2 is set to MDAJacobi\n",
      "INFO:SoS.EE:configuring ...\n",
      "WARNING:gemseo.mda.mda_chain:No coupling in MDA, switching chain_linearize to True\n",
      "INFO:SoS.EE.Coupling:The MDA solver of the Coupling MyCase.multi_scenarios.scenario_1 is set to MDAJacobi\n",
      "WARNING:gemseo.mda.mda_chain:No coupling in MDA, switching chain_linearize to True\n",
      "INFO:SoS.EE.Coupling:The MDA solver of the Coupling MyCase.multi_scenarios.scenario_2 is set to MDAJacobi\n",
      "INFO:SoS.EE:configuring ...\n",
      "WARNING:gemseo.mda.mda_chain:No coupling in MDA, switching chain_linearize to True\n",
      "INFO:SoS.EE.Coupling:The MDA solver of the Coupling MyCase.multi_scenarios.scenario_1 is set to MDAJacobi\n",
      "WARNING:gemseo.mda.mda_chain:No coupling in MDA, switching chain_linearize to True\n",
      "INFO:SoS.EE.Coupling:The MDA solver of the Coupling MyCase.multi_scenarios.scenario_2 is set to MDAJacobi\n",
      "INFO:SoS.EE:configuring ...\n",
      "WARNING:gemseo.mda.mda_chain:No coupling in MDA, switching chain_linearize to True\n",
      "INFO:SoS.EE.Coupling:The MDA solver of the Coupling MyCase.multi_scenarios.scenario_1 is set to MDAJacobi\n",
      "WARNING:gemseo.mda.mda_chain:No coupling in MDA, switching chain_linearize to True\n",
      "INFO:SoS.EE.Coupling:The MDA solver of the Coupling MyCase.multi_scenarios.scenario_2 is set to MDAJacobi\n",
      "INFO:SoS.EE:configuring ...\n",
      "WARNING:gemseo.mda.mda_chain:No coupling in MDA, switching chain_linearize to True\n",
      "INFO:SoS.EE.Coupling:The MDA solver of the Coupling MyCase.multi_scenarios.scenario_1 is set to MDAJacobi\n",
      "WARNING:gemseo.mda.mda_chain:No coupling in MDA, switching chain_linearize to True\n",
      "INFO:SoS.EE.Coupling:The MDA solver of the Coupling MyCase.multi_scenarios.scenario_2 is set to MDAJacobi\n",
      "INFO:SoS.EE:configuring ...\n",
      "WARNING:gemseo.mda.mda_chain:No coupling in MDA, switching chain_linearize to True\n",
      "INFO:SoS.EE.Coupling:The MDA solver of the Coupling MyCase.multi_scenarios.scenario_1 is set to MDAJacobi\n",
      "WARNING:gemseo.mda.mda_chain:No coupling in MDA, switching chain_linearize to True\n",
      "INFO:SoS.EE.Coupling:The MDA solver of the Coupling MyCase.multi_scenarios.scenario_2 is set to MDAJacobi\n",
      "INFO:SoS.EE:configuring ...\n",
      "WARNING:gemseo.mda.mda_chain:No coupling in MDA, switching chain_linearize to True\n",
      "INFO:SoS.EE.Coupling:The MDA solver of the Coupling MyCase.multi_scenarios.scenario_1 is set to MDAJacobi\n",
      "WARNING:gemseo.mda.mda_chain:No coupling in MDA, switching chain_linearize to True\n",
      "INFO:SoS.EE.Coupling:The MDA solver of the Coupling MyCase.multi_scenarios.scenario_2 is set to MDAJacobi\n",
      "INFO:SoS.EE:configuring ...\n",
      "WARNING:gemseo.mda.mda_chain:No coupling in MDA, switching chain_linearize to True\n",
      "INFO:SoS.EE.Coupling:The MDA solver of the Coupling MyCase.multi_scenarios.scenario_1 is set to MDAJacobi\n",
      "WARNING:gemseo.mda.mda_chain:No coupling in MDA, switching chain_linearize to True\n",
      "INFO:SoS.EE.Coupling:The MDA solver of the Coupling MyCase.multi_scenarios.scenario_2 is set to MDAJacobi\n",
      "INFO:SoS.EE:configuring ...\n",
      "WARNING:gemseo.mda.mda_chain:No coupling in MDA, switching chain_linearize to True\n",
      "INFO:SoS.EE.Coupling:The MDA solver of the Coupling MyCase.multi_scenarios.scenario_1 is set to MDAJacobi\n",
      "WARNING:gemseo.mda.mda_chain:No coupling in MDA, switching chain_linearize to True\n",
      "INFO:SoS.EE.Coupling:The MDA solver of the Coupling MyCase.multi_scenarios.scenario_2 is set to MDAJacobi\n",
      "INFO:SoS.EE:configuring ...\n",
      "WARNING:gemseo.mda.mda_chain:No coupling in MDA, switching chain_linearize to True\n",
      "INFO:SoS.EE.Coupling:The MDA solver of the Coupling MyCase.multi_scenarios.scenario_1 is set to MDAJacobi\n",
      "WARNING:gemseo.mda.mda_chain:No coupling in MDA, switching chain_linearize to True\n",
      "INFO:SoS.EE.Coupling:The MDA solver of the Coupling MyCase.multi_scenarios.scenario_2 is set to MDAJacobi\n",
      "INFO:SoS.EE:configuring ...\n",
      "WARNING:gemseo.mda.mda_chain:No coupling in MDA, switching chain_linearize to True\n",
      "INFO:SoS.EE.Coupling:The MDA solver of the Coupling MyCase.multi_scenarios.scenario_1 is set to MDAJacobi\n",
      "WARNING:gemseo.mda.mda_chain:No coupling in MDA, switching chain_linearize to True\n",
      "INFO:SoS.EE.Coupling:The MDA solver of the Coupling MyCase.multi_scenarios.scenario_2 is set to MDAJacobi\n",
      "INFO:SoS.EE:configuring ...\n",
      "WARNING:gemseo.mda.mda_chain:No coupling in MDA, switching chain_linearize to True\n",
      "INFO:SoS.EE.Coupling:The MDA solver of the Coupling MyCase.multi_scenarios.scenario_1 is set to MDAJacobi\n",
      "WARNING:gemseo.mda.mda_chain:No coupling in MDA, switching chain_linearize to True\n",
      "INFO:SoS.EE.Coupling:The MDA solver of the Coupling MyCase.multi_scenarios.scenario_2 is set to MDAJacobi\n",
      "WARNING:SoS.EE:CONFIGURE WARNING: root process is not configured after 100 iterations\n",
      "INFO:SoS.EE.Coupling:The MDA solver of the Coupling MyCase is set to MDAJacobi\n",
      "ERROR:SoS.EE.DataManager:Variable: MyCase.multi_scenarios.name_list value is not set!\n",
      "ERROR:SoS.EE.DataManager:Variable: MyCase.multi_scenarios.scenario_1.Disc3.z value is not set!\n",
      "ERROR:SoS.EE.DataManager:Variable: MyCase.multi_scenarios.scenario_1.Disc3.constant value is not set!\n",
      "ERROR:SoS.EE.DataManager:Variable: MyCase.multi_scenarios.scenario_1.Disc3.power value is not set!\n"
     ]
    },
    {
     "name": "stderr",
     "output_type": "stream",
     "text": [
      "ERROR:SoS.EE.DataManager:Variable: MyCase.multi_scenarios.scenario_2.Disc3.z value is not set!\n",
      "ERROR:SoS.EE.DataManager:Variable: MyCase.multi_scenarios.scenario_2.Disc3.constant value is not set!\n",
      "ERROR:SoS.EE.DataManager:Variable: MyCase.multi_scenarios.scenario_2.Disc3.power value is not set!\n",
      "INFO:SoS.EE:Nodes representation for Treeview MyCase\n",
      "|_ MyCase\n",
      "\t|_ multi_scenarios\n",
      "\t\t|_ scenario_1\n",
      "\t\t\t|_ Disc1\n",
      "\t\t\t|_ Disc3\n",
      "\t\t|_ scenario_2\n",
      "\t\t\t|_ Disc1\n",
      "\t\t\t|_ Disc3\n",
      "\t|_ Post-processing\n",
      "\t\t|_ Disc1\n",
      "\t\t|_ Disc3\n"
     ]
    },
    {
     "data": {
      "text/plain": [
       "'Nodes representation for Treeview MyCase\\n|_ MyCase\\n\\t|_ multi_scenarios\\n\\t\\t|_ scenario_1\\n\\t\\t\\t|_ Disc1\\n\\t\\t\\t|_ Disc3\\n\\t\\t|_ scenario_2\\n\\t\\t\\t|_ Disc1\\n\\t\\t\\t|_ Disc3\\n\\t|_ Post-processing\\n\\t\\t|_ Disc1\\n\\t\\t|_ Disc3'"
      ]
     },
     "execution_count": 23,
     "metadata": {},
     "output_type": "execute_result"
    }
   ],
   "source": [
    "exec_eng.load_study_from_input_dict(dict_values)\n",
    "exec_eng.display_treeview_nodes()"
   ]
  },
  {
   "cell_type": "code",
   "execution_count": 24,
   "id": "a272d812",
   "metadata": {},
   "outputs": [
    {
     "data": {
      "text/plain": [
       "{'MyCase.multi_scenarios.scenario_list': ['scenario_1', 'scenario_2'],\n",
       " 'MyCase.name_1.a': 3,\n",
       " 'MyCase.name_2.a': 6,\n",
       " 'MyCase.multi_scenarios.scenario_1.Disc1.name_1.b': 4,\n",
       " 'MyCase.multi_scenarios.scenario_1.Disc1.name_2.b': 2,\n",
       " 'MyCase.multi_scenarios.scenario_1.Disc3.constant': 3,\n",
       " 'MyCase.multi_scenarios.scenario_1.Disc3.power': 2,\n",
       " 'MyCase.multi_scenarios.scenario_2.Disc1.name_1.b': 4,\n",
       " 'MyCase.multi_scenarios.scenario_2.Disc1.name_2.b': 2,\n",
       " 'MyCase.multi_scenarios.scenario_2.Disc3.constant': 3,\n",
       " 'MyCase.multi_scenarios.scenario_2.Disc3.power': 2,\n",
       " 'MyCase.multi_scenarios.name_list': ['name_1', 'name_2'],\n",
       " 'MyCase.multi_scenarios.scenario_1.Disc3.z': 1.2,\n",
       " 'MyCase.multi_scenarios.scenario_2.Disc3.z': 1.5,\n",
       " 'MyCase.name_1.x': 2.0,\n",
       " 'MyCase.name_2.x': 4.0}"
      ]
     },
     "execution_count": 24,
     "metadata": {},
     "output_type": "execute_result"
    }
   ],
   "source": [
    "scenario_list = ['scenario_1', 'scenario_2']\n",
    "for scenario in scenario_list:\n",
    "     x1 = 2.\n",
    "     x2 = 4.\n",
    "     a1 = 3\n",
    "     b1 = 4\n",
    "     a2 = 6\n",
    "     b2 = 2\n",
    "\n",
    "     dict_values[study_name + '.name_1.a'] = a1\n",
    "     dict_values[study_name + '.name_2.a'] = a2\n",
    "     dict_values[study_name + '.multi_scenarios.' +\n",
    "                    scenario + '.Disc1.name_1.b'] = b1\n",
    "     dict_values[study_name + '.multi_scenarios.' +\n",
    "                    scenario + '.Disc1.name_2.b'] = b2\n",
    "     dict_values[study_name + '.multi_scenarios.' +\n",
    "                    scenario + '.Disc3.constant'] = 3\n",
    "     dict_values[study_name + '.multi_scenarios.' +\n",
    "                    scenario + '.Disc3.power'] = 2\n",
    "\n",
    "dict_values[study_name +\n",
    "               '.multi_scenarios.name_list'] = ['name_1', 'name_2']\n",
    "dict_values[study_name +\n",
    "               '.multi_scenarios.scenario_1.Disc3.z'] = 1.2\n",
    "dict_values[study_name +\n",
    "               '.multi_scenarios.scenario_2.Disc3.z'] = 1.5\n",
    "dict_values[study_name + '.name_1.x'] = x1\n",
    "dict_values[study_name + '.name_2.x'] = x2\n",
    "dict_values"
   ]
  },
  {
   "cell_type": "code",
   "execution_count": 25,
   "id": "2e0b96b6",
   "metadata": {},
   "outputs": [
    {
     "name": "stderr",
     "output_type": "stream",
     "text": [
      "INFO:SoS.EE:configuring ...\n",
      "WARNING:gemseo.mda.mda_chain:No coupling in MDA, switching chain_linearize to True\n",
      "INFO:SoS.EE.Coupling:The MDA solver of the Coupling MyCase.multi_scenarios.scenario_1 is set to MDAJacobi\n",
      "WARNING:gemseo.mda.mda_chain:No coupling in MDA, switching chain_linearize to True\n",
      "INFO:SoS.EE.Coupling:The MDA solver of the Coupling MyCase.multi_scenarios.scenario_2 is set to MDAJacobi\n",
      "INFO:SoS.EE:configuring ...\n",
      "WARNING:gemseo.mda.mda_chain:No coupling in MDA, switching chain_linearize to True\n",
      "INFO:SoS.EE.Coupling:The MDA solver of the Coupling MyCase.multi_scenarios.scenario_1 is set to MDAJacobi\n",
      "WARNING:gemseo.mda.mda_chain:No coupling in MDA, switching chain_linearize to True\n",
      "INFO:SoS.EE.Coupling:The MDA solver of the Coupling MyCase.multi_scenarios.scenario_2 is set to MDAJacobi\n",
      "INFO:SoS.EE:configuring ...\n",
      "INFO:SoS.EE.Coupling:The MDA solver of the Coupling MyCase.multi_scenarios.scenario_1 is set to MDAJacobi\n",
      "INFO:SoS.EE.Coupling:The MDA solver of the Coupling MyCase.multi_scenarios.scenario_2 is set to MDAJacobi\n",
      "INFO:SoS.EE:configuring ...\n",
      "INFO:SoS.EE.Coupling:The MDA solver of the Coupling MyCase.multi_scenarios.scenario_1 is set to MDAJacobi\n",
      "INFO:SoS.EE.Coupling:The MDA solver of the Coupling MyCase.multi_scenarios.scenario_2 is set to MDAJacobi\n",
      "INFO:SoS.EE:configuring ...\n",
      "INFO:SoS.EE.Coupling:The MDA solver of the Coupling MyCase is set to MDAJacobi\n",
      "INFO:SoS.EE:Nodes representation for Treeview MyCase\n",
      "|_ MyCase\n",
      "\t|_ multi_scenarios\n",
      "\t\t|_ scenario_1\n",
      "\t\t\t|_ Disc1\n",
      "\t\t\t\t|_ name_1\n",
      "\t\t\t\t|_ name_2\n",
      "\t\t\t|_ Disc3\n",
      "\t\t|_ scenario_2\n",
      "\t\t\t|_ Disc1\n",
      "\t\t\t\t|_ name_1\n",
      "\t\t\t\t|_ name_2\n",
      "\t\t\t|_ Disc3\n",
      "\t|_ Post-processing\n",
      "\t\t|_ Disc1\n",
      "\t\t|_ Disc3\n",
      "\t|_ name_1\n",
      "\t|_ name_2\n"
     ]
    },
    {
     "data": {
      "text/plain": [
       "'Nodes representation for Treeview MyCase\\n|_ MyCase\\n\\t|_ multi_scenarios\\n\\t\\t|_ scenario_1\\n\\t\\t\\t|_ Disc1\\n\\t\\t\\t\\t|_ name_1\\n\\t\\t\\t\\t|_ name_2\\n\\t\\t\\t|_ Disc3\\n\\t\\t|_ scenario_2\\n\\t\\t\\t|_ Disc1\\n\\t\\t\\t\\t|_ name_1\\n\\t\\t\\t\\t|_ name_2\\n\\t\\t\\t|_ Disc3\\n\\t|_ Post-processing\\n\\t\\t|_ Disc1\\n\\t\\t|_ Disc3\\n\\t|_ name_1\\n\\t|_ name_2'"
      ]
     },
     "execution_count": 25,
     "metadata": {},
     "output_type": "execute_result"
    }
   ],
   "source": [
    "exec_eng.load_study_from_input_dict(dict_values)\n",
    "exec_eng.display_treeview_nodes()"
   ]
  },
  {
   "cell_type": "code",
   "execution_count": 26,
   "id": "cb35bcf7",
   "metadata": {},
   "outputs": [
    {
     "name": "stderr",
     "output_type": "stream",
     "text": [
      "INFO:SoS.EE:PROCESS EXECUTION MyCase STARTS...\n",
      "INFO:SoS.EE:PROCESS EXECUTION MyCase ENDS.\n"
     ]
    },
    {
     "data": {
      "text/plain": [
       "{'MyCase.name_1.x': array([2.]),\n",
       " 'MyCase.name_1.a': array([3]),\n",
       " 'MyCase.multi_scenarios.scenario_1.Disc1.name_1.b': array([4]),\n",
       " 'MyCase.name_2.x': array([4.]),\n",
       " 'MyCase.name_2.a': array([6]),\n",
       " 'MyCase.multi_scenarios.scenario_1.Disc1.name_2.b': array([2]),\n",
       " 'MyCase.multi_scenarios.name_list': [1, 1],\n",
       " 'MyCase.multi_scenarios.scenario_1.Disc3.z': array([1.2]),\n",
       " 'MyCase.multi_scenarios.scenario_1.Disc3.constant': array([3]),\n",
       " 'MyCase.multi_scenarios.scenario_1.Disc3.power': array([2]),\n",
       " 'MyCase.multi_scenarios.scenario_2.Disc1.name_1.b': array([4]),\n",
       " 'MyCase.multi_scenarios.scenario_2.Disc1.name_2.b': array([2]),\n",
       " 'MyCase.multi_scenarios.scenario_2.Disc3.z': array([1.5]),\n",
       " 'MyCase.multi_scenarios.scenario_2.Disc3.constant': array([3]),\n",
       " 'MyCase.multi_scenarios.scenario_2.Disc3.power': array([2]),\n",
       " 'MyCase.multi_scenarios.scenario_list': [1, 1],\n",
       " 'MyCase.multi_scenarios.scenario_1.Disc1.name_1.indicator': array([12]),\n",
       " 'MyCase.multi_scenarios.scenario_1.name_1.y': array([10.]),\n",
       " 'MyCase.multi_scenarios.scenario_1.Disc1.name_2.indicator': array([12]),\n",
       " 'MyCase.multi_scenarios.scenario_1.name_2.y': array([26.]),\n",
       " 'MyCase.multi_scenarios.scenario_1.y_dict': array([10., 26.]),\n",
       " 'MyCase.multi_scenarios.scenario_1.o': array([4.44]),\n",
       " 'MyCase.multi_scenarios.scenario_2.Disc1.name_1.indicator': array([12]),\n",
       " 'MyCase.multi_scenarios.scenario_2.name_1.y': array([10.]),\n",
       " 'MyCase.multi_scenarios.scenario_2.Disc1.name_2.indicator': array([12]),\n",
       " 'MyCase.multi_scenarios.scenario_2.name_2.y': array([26.]),\n",
       " 'MyCase.multi_scenarios.scenario_2.y_dict': array([10., 26.]),\n",
       " 'MyCase.multi_scenarios.scenario_2.o': array([5.25]),\n",
       " 'MyCase.multi_scenarios.y_dict': array([10., 26., 10., 26.]),\n",
       " 'MyCase.multi_scenarios.o_dict': array([4.44, 5.25])}"
      ]
     },
     "execution_count": 26,
     "metadata": {},
     "output_type": "execute_result"
    }
   ],
   "source": [
    "exec_eng.execute()"
   ]
  },
  {
   "cell_type": "code",
   "execution_count": 27,
   "id": "6362986d",
   "metadata": {},
   "outputs": [
    {
     "name": "stdout",
     "output_type": "stream",
     "text": [
      "['scenario_1', 'scenario_2'] ['scenario_1', 'scenario_2']\n"
     ]
    }
   ],
   "source": [
    "print(exec_eng.dm.get_value(\n",
    "     'MyCase.multi_scenarios.scenario_list'), ['scenario_1', 'scenario_2'])"
   ]
  },
  {
   "cell_type": "code",
   "execution_count": 28,
   "id": "c5460de6",
   "metadata": {},
   "outputs": [],
   "source": [
    "y1 = a1 * x1 + b1\n",
    "y2 = a2 * x2 + b2"
   ]
  },
  {
   "cell_type": "code",
   "execution_count": 29,
   "id": "a41f9543",
   "metadata": {},
   "outputs": [
    {
     "name": "stdout",
     "output_type": "stream",
     "text": [
      "10.0 10.0\n",
      "26.0 26.0\n",
      "10.0 10.0\n",
      "26.0 26.0\n"
     ]
    }
   ],
   "source": [
    "print(exec_eng.dm.get_value(\n",
    "     'MyCase.multi_scenarios.scenario_1.name_1.y'), y1)\n",
    "print(exec_eng.dm.get_value(\n",
    "     'MyCase.multi_scenarios.scenario_1.name_2.y'), y2)\n",
    "print(exec_eng.dm.get_value(\n",
    "     'MyCase.multi_scenarios.scenario_2.name_1.y'), y1)\n",
    "print(exec_eng.dm.get_value(\n",
    "     'MyCase.multi_scenarios.scenario_2.name_2.y'), y2)"
   ]
  },
  {
   "cell_type": "code",
   "execution_count": 30,
   "id": "1d2c7f9a",
   "metadata": {},
   "outputs": [],
   "source": [
    "gather_disc1 = exec_eng.dm.get_disciplines_with_name(\n",
    "     'MyCase.Post-processing.Disc1')[0]"
   ]
  },
  {
   "cell_type": "code",
   "execution_count": 31,
   "id": "095bbcd7",
   "metadata": {},
   "outputs": [
    {
     "name": "stderr",
     "output_type": "stream",
     "text": [
      "INFO:SoS.EE:Nodes representation for Treeview MyCase\n",
      "|_ MyCase\n",
      "\t|_ multi_scenarios\n",
      "\t\t|_ scenario_1\n",
      "\t\t\t|_ Disc1\n",
      "\t\t\t\t|_ name_1\n",
      "\t\t\t\t|_ name_2\n",
      "\t\t\t|_ Disc3\n",
      "\t\t|_ scenario_2\n",
      "\t\t\t|_ Disc1\n",
      "\t\t\t\t|_ name_1\n",
      "\t\t\t\t|_ name_2\n",
      "\t\t\t|_ Disc3\n",
      "\t|_ Post-processing\n",
      "\t\t|_ Disc1\n",
      "\t\t|_ Disc3\n",
      "\t|_ name_1\n",
      "\t|_ name_2\n"
     ]
    },
    {
     "data": {
      "text/plain": [
       "'Nodes representation for Treeview MyCase\\n|_ MyCase\\n\\t|_ multi_scenarios\\n\\t\\t|_ scenario_1\\n\\t\\t\\t|_ Disc1\\n\\t\\t\\t\\t|_ name_1\\n\\t\\t\\t\\t|_ name_2\\n\\t\\t\\t|_ Disc3\\n\\t\\t|_ scenario_2\\n\\t\\t\\t|_ Disc1\\n\\t\\t\\t\\t|_ name_1\\n\\t\\t\\t\\t|_ name_2\\n\\t\\t\\t|_ Disc3\\n\\t|_ Post-processing\\n\\t\\t|_ Disc1\\n\\t\\t|_ Disc3\\n\\t|_ name_1\\n\\t|_ name_2'"
      ]
     },
     "execution_count": 31,
     "metadata": {},
     "output_type": "execute_result"
    }
   ],
   "source": [
    "exec_eng.display_treeview_nodes()"
   ]
  },
  {
   "cell_type": "code",
   "execution_count": 32,
   "id": "42d793e3",
   "metadata": {},
   "outputs": [
    {
     "name": "stdout",
     "output_type": "stream",
     "text": [
      "['scenario_list', 'scenario_1.y_dict', 'scenario_2.y_dict'] ['scenario_list', 'scenario_2.y_dict', 'scenario_1.y_dict']\n",
      "['y_dict'] ['y_dict']\n",
      "{'scenario_1.name_1': 10.0, 'scenario_1.name_2': 26.0, 'scenario_2.name_1': 10.0, 'scenario_2.name_2': 26.0} {'scenario_1.name_1': 10.0, 'scenario_1.name_2': 26.0, 'scenario_2.name_1': 10.0, 'scenario_2.name_2': 26.0}\n"
     ]
    }
   ],
   "source": [
    "print([key for key in list(gather_disc1._data_in.keys()) if key not in gather_disc1.NUM_DESC_IN], [\n",
    "     'scenario_list', 'scenario_2.y_dict', 'scenario_1.y_dict'])\n",
    "print(list(gather_disc1._data_out.keys()), ['y_dict'])\n",
    "print(gather_disc1._data_out['y_dict']['value'], {\n",
    "                          'scenario_1.name_1': y1, 'scenario_1.name_2': y2, 'scenario_2.name_1': y1, 'scenario_2.name_2': y2})"
   ]
  },
  {
   "cell_type": "code",
   "execution_count": 33,
   "id": "885ed890",
   "metadata": {},
   "outputs": [],
   "source": [
    "gather_disc3 = exec_eng.dm.get_disciplines_with_name(\n",
    "     'MyCase.Post-processing.Disc3')[0]"
   ]
  },
  {
   "cell_type": "code",
   "execution_count": 34,
   "id": "2e66f4aa",
   "metadata": {},
   "outputs": [
    {
     "name": "stderr",
     "output_type": "stream",
     "text": [
      "INFO:SoS.EE:Nodes representation for Treeview MyCase\n",
      "|_ MyCase\n",
      "\t|_ multi_scenarios\n",
      "\t\t|_ scenario_1\n",
      "\t\t\t|_ Disc1\n",
      "\t\t\t\t|_ name_1\n",
      "\t\t\t\t|_ name_2\n",
      "\t\t\t|_ Disc3\n",
      "\t\t|_ scenario_2\n",
      "\t\t\t|_ Disc1\n",
      "\t\t\t\t|_ name_1\n",
      "\t\t\t\t|_ name_2\n",
      "\t\t\t|_ Disc3\n",
      "\t|_ Post-processing\n",
      "\t\t|_ Disc1\n",
      "\t\t|_ Disc3\n",
      "\t|_ name_1\n",
      "\t|_ name_2\n"
     ]
    },
    {
     "data": {
      "text/plain": [
       "'Nodes representation for Treeview MyCase\\n|_ MyCase\\n\\t|_ multi_scenarios\\n\\t\\t|_ scenario_1\\n\\t\\t\\t|_ Disc1\\n\\t\\t\\t\\t|_ name_1\\n\\t\\t\\t\\t|_ name_2\\n\\t\\t\\t|_ Disc3\\n\\t\\t|_ scenario_2\\n\\t\\t\\t|_ Disc1\\n\\t\\t\\t\\t|_ name_1\\n\\t\\t\\t\\t|_ name_2\\n\\t\\t\\t|_ Disc3\\n\\t|_ Post-processing\\n\\t\\t|_ Disc1\\n\\t\\t|_ Disc3\\n\\t|_ name_1\\n\\t|_ name_2'"
      ]
     },
     "execution_count": 34,
     "metadata": {},
     "output_type": "execute_result"
    }
   ],
   "source": [
    "exec_eng.display_treeview_nodes()"
   ]
  },
  {
   "cell_type": "code",
   "execution_count": 35,
   "id": "859e1512",
   "metadata": {},
   "outputs": [
    {
     "name": "stdout",
     "output_type": "stream",
     "text": [
      "['scenario_list', 'scenario_1.o', 'scenario_2.o'] ['scenario_list', 'scenario_1.o', 'scenario_2.o']\n",
      "['o_dict'] ['o_dict']\n"
     ]
    }
   ],
   "source": [
    "print([key for key in list(gather_disc3._data_in.keys())if key not in SoSDiscipline.NUM_DESC_IN], [\n",
    "     'scenario_list', 'scenario_1.o', 'scenario_2.o'])\n",
    "print(list(gather_disc3._data_out.keys()), ['o_dict'])"
   ]
  },
  {
   "cell_type": "code",
   "execution_count": null,
   "id": "829f70d5",
   "metadata": {},
   "outputs": [],
   "source": []
  },
  {
   "cell_type": "code",
   "execution_count": null,
   "id": "0cf35c03",
   "metadata": {},
   "outputs": [],
   "source": []
  },
  {
   "cell_type": "code",
   "execution_count": null,
   "id": "4b7ef650",
   "metadata": {},
   "outputs": [],
   "source": []
  },
  {
   "cell_type": "code",
   "execution_count": null,
   "id": "0ac601ce",
   "metadata": {},
   "outputs": [],
   "source": []
  },
  {
   "cell_type": "code",
   "execution_count": null,
   "id": "9ccd755e",
   "metadata": {},
   "outputs": [],
   "source": []
  },
  {
   "cell_type": "code",
   "execution_count": null,
   "id": "6e51d676",
   "metadata": {},
   "outputs": [],
   "source": []
  },
  {
   "cell_type": "code",
   "execution_count": null,
   "id": "c7b8554c",
   "metadata": {},
   "outputs": [],
   "source": []
  },
  {
   "cell_type": "code",
   "execution_count": null,
   "id": "79d72ac0",
   "metadata": {},
   "outputs": [],
   "source": []
  }
 ],
 "metadata": {
  "kernelspec": {
   "display_name": "Python 3 (ipykernel)",
   "language": "python",
   "name": "python3"
  },
  "language_info": {
   "codemirror_mode": {
    "name": "ipython",
    "version": 3
   },
   "file_extension": ".py",
   "mimetype": "text/x-python",
   "name": "python",
   "nbconvert_exporter": "python",
   "pygments_lexer": "ipython3",
   "version": "3.9.7"
  }
 },
 "nbformat": 4,
 "nbformat_minor": 5
}
