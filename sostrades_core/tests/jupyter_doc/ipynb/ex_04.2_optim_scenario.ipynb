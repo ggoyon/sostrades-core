{
 "cells": [
  {
   "cell_type": "code",
   "execution_count": 1,
   "id": "e668b41a",
   "metadata": {},
   "outputs": [],
   "source": [
    "if 0 :\n",
    "    %matplotlib inline\n",
    "else :\n",
    "    %matplotlib notebook"
   ]
  },
  {
   "cell_type": "markdown",
   "id": "b3f4409c",
   "metadata": {},
   "source": [
    "#  Import  libraries"
   ]
  },
  {
   "cell_type": "code",
   "execution_count": 2,
   "id": "765fed52",
   "metadata": {},
   "outputs": [
    {
     "name": "stdout",
     "output_type": "stream",
     "text": [
      "C:\\Users\\ng947ac\\Documents\\Daniel\\jupyter\\SoSTrades\\jupyter_doc\\_scripts\n",
      "C:\\Users\\ng947ac\\Documents\\Daniel\\git\\workspace\n",
      "C:\\Users\\ng947ac\\Documents\\Daniel\\git\\workspace\\sosgemseo\\src\\\n",
      "C:\\Users\\ng947ac\\Documents\\Daniel\\git\\workspace\\sostrades-core\n"
     ]
    }
   ],
   "source": [
    "import sys\n",
    "import os\n",
    "module_path = os.path.abspath('.') +\"\\\\_scripts\"\n",
    "print(module_path)\n",
    "\n",
    "if module_path not in sys.path:\n",
    "    sys.path.append(module_path)\n",
    "from _00_Import_packages_git3 import *"
   ]
  },
  {
   "cell_type": "code",
   "execution_count": 3,
   "id": "f59f4096",
   "metadata": {},
   "outputs": [],
   "source": [
    "from numpy import array\n",
    "import pandas as pd\n",
    "from sos_trades_core.execution_engine.execution_engine import ExecutionEngine\n",
    "from numpy.testing import assert_array_equal, assert_array_almost_equal  # @UnresolvedImport\n",
    "import os\n",
    "from gemseo.core.mdo_scenario import MDOScenario"
   ]
  },
  {
   "cell_type": "markdown",
   "id": "dffc465e",
   "metadata": {},
   "source": [
    "# TestSoSOptimScenario"
   ]
  },
  {
   "cell_type": "markdown",
   "id": "389d4df6",
   "metadata": {},
   "source": [
    "# setUp"
   ]
  },
  {
   "cell_type": "code",
   "execution_count": 4,
   "id": "7e31db5b",
   "metadata": {},
   "outputs": [
    {
     "name": "stdout",
     "output_type": "stream",
     "text": [
      "SellarOptimScenario\n"
     ]
    }
   ],
   "source": [
    "study_name = 'optim'\n",
    "ns = f'{study_name}'\n",
    "sc_name = \"SellarOptimScenario\"\n",
    "c_name = \"SellarCoupling\"\n",
    "print(sc_name)"
   ]
  },
  {
   "cell_type": "code",
   "execution_count": 5,
   "id": "4a13fcb4",
   "metadata": {},
   "outputs": [
    {
     "data": {
      "text/plain": [
       "'optim'"
      ]
     },
     "execution_count": 5,
     "metadata": {},
     "output_type": "execute_result"
    }
   ],
   "source": [
    "ns"
   ]
  },
  {
   "cell_type": "code",
   "execution_count": 6,
   "id": "e2825d58",
   "metadata": {},
   "outputs": [],
   "source": [
    "dspace_dict = {'variable': ['x', 'z', 'y_1', 'y_2'],\n",
    "               'value': [[1.], [5., 2.], [1.], [1.]],\n",
    "               'lower_bnd': [[0.], [-10., 0.], [-100.], [-100.]],\n",
    "               'upper_bnd': [[10.], [10., 10.], [100.], [100.]],\n",
    "               'enable_variable': [True, True, True, True],\n",
    "               'activated_elem': [[True], [True, True], [True], [True]]}"
   ]
  },
  {
   "cell_type": "code",
   "execution_count": 7,
   "id": "37e37009",
   "metadata": {},
   "outputs": [
    {
     "data": {
      "text/html": [
       "<div>\n",
       "<style scoped>\n",
       "    .dataframe tbody tr th:only-of-type {\n",
       "        vertical-align: middle;\n",
       "    }\n",
       "\n",
       "    .dataframe tbody tr th {\n",
       "        vertical-align: top;\n",
       "    }\n",
       "\n",
       "    .dataframe thead th {\n",
       "        text-align: right;\n",
       "    }\n",
       "</style>\n",
       "<table border=\"1\" class=\"dataframe\">\n",
       "  <thead>\n",
       "    <tr style=\"text-align: right;\">\n",
       "      <th></th>\n",
       "      <th>variable</th>\n",
       "      <th>value</th>\n",
       "      <th>lower_bnd</th>\n",
       "      <th>upper_bnd</th>\n",
       "      <th>enable_variable</th>\n",
       "      <th>activated_elem</th>\n",
       "    </tr>\n",
       "  </thead>\n",
       "  <tbody>\n",
       "    <tr>\n",
       "      <th>0</th>\n",
       "      <td>x</td>\n",
       "      <td>[1.0]</td>\n",
       "      <td>[0.0]</td>\n",
       "      <td>[10.0]</td>\n",
       "      <td>True</td>\n",
       "      <td>[True]</td>\n",
       "    </tr>\n",
       "    <tr>\n",
       "      <th>1</th>\n",
       "      <td>z</td>\n",
       "      <td>[5.0, 2.0]</td>\n",
       "      <td>[-10.0, 0.0]</td>\n",
       "      <td>[10.0, 10.0]</td>\n",
       "      <td>True</td>\n",
       "      <td>[True, True]</td>\n",
       "    </tr>\n",
       "    <tr>\n",
       "      <th>2</th>\n",
       "      <td>y_1</td>\n",
       "      <td>[1.0]</td>\n",
       "      <td>[-100.0]</td>\n",
       "      <td>[100.0]</td>\n",
       "      <td>True</td>\n",
       "      <td>[True]</td>\n",
       "    </tr>\n",
       "    <tr>\n",
       "      <th>3</th>\n",
       "      <td>y_2</td>\n",
       "      <td>[1.0]</td>\n",
       "      <td>[-100.0]</td>\n",
       "      <td>[100.0]</td>\n",
       "      <td>True</td>\n",
       "      <td>[True]</td>\n",
       "    </tr>\n",
       "  </tbody>\n",
       "</table>\n",
       "</div>"
      ],
      "text/plain": [
       "  variable       value     lower_bnd     upper_bnd  enable_variable  \\\n",
       "0        x       [1.0]         [0.0]        [10.0]             True   \n",
       "1        z  [5.0, 2.0]  [-10.0, 0.0]  [10.0, 10.0]             True   \n",
       "2      y_1       [1.0]      [-100.0]       [100.0]             True   \n",
       "3      y_2       [1.0]      [-100.0]       [100.0]             True   \n",
       "\n",
       "  activated_elem  \n",
       "0         [True]  \n",
       "1   [True, True]  \n",
       "2         [True]  \n",
       "3         [True]  "
      ]
     },
     "execution_count": 7,
     "metadata": {},
     "output_type": "execute_result"
    }
   ],
   "source": [
    "dspace = pd.DataFrame(dspace_dict)\n",
    "dspace"
   ]
  },
  {
   "cell_type": "code",
   "execution_count": 8,
   "id": "3f57e831",
   "metadata": {},
   "outputs": [
    {
     "name": "stdout",
     "output_type": "stream",
     "text": [
      "C:\\Temp\n"
     ]
    }
   ],
   "source": [
    "from tempfile import gettempdir\n",
    "root_dir = gettempdir()\n",
    "print(root_dir)\n",
    "#dspace.to_csv(root_dir+'\\\\ds.csv')"
   ]
  },
  {
   "cell_type": "code",
   "execution_count": 9,
   "id": "c2f7c314",
   "metadata": {},
   "outputs": [],
   "source": [
    "repo = 'sos_trades_core.sos_processes.test'\n",
    "proc_name = 'test_sellar_opt'"
   ]
  },
  {
   "cell_type": "code",
   "execution_count": null,
   "id": "7ad95116",
   "metadata": {},
   "outputs": [],
   "source": []
  },
  {
   "cell_type": "markdown",
   "id": "15c0d86b",
   "metadata": {},
   "source": [
    "# 2 optim scenario execution mdf"
   ]
  },
  {
   "cell_type": "code",
   "execution_count": 10,
   "id": "bfad3df9",
   "metadata": {},
   "outputs": [
    {
     "name": "stdout",
     "output_type": "stream",
     "text": [
      "\n",
      " Test 2 : Sellar optim solution check with MDF formulation\n"
     ]
    }
   ],
   "source": [
    "print(\"\\n Test 2 : Sellar optim solution check with MDF formulation\")"
   ]
  },
  {
   "cell_type": "code",
   "execution_count": 11,
   "id": "5e8b2920",
   "metadata": {},
   "outputs": [
    {
     "name": "stderr",
     "output_type": "stream",
     "text": [
      "INFO:SoS.EE:configuring ...\n",
      "WARNING:gemseo.mda.mda_chain:No coupling in MDA, switching chain_linearize to True\n",
      "INFO:SoS.EE.Coupling:The MDA solver of the Coupling optim is set to MDAJacobi\n"
     ]
    }
   ],
   "source": [
    "exec_eng = ExecutionEngine(study_name)\n",
    "factory = exec_eng.factory\n",
    "builder = factory.get_builder_from_process(repo=repo,mod_id=proc_name)\n",
    "exec_eng.factory.set_builders_to_coupling_builder(builder)\n",
    "exec_eng.configure()"
   ]
  },
  {
   "cell_type": "code",
   "execution_count": 12,
   "id": "e77efd38",
   "metadata": {},
   "outputs": [
    {
     "name": "stdout",
     "output_type": "stream",
     "text": [
      "\n",
      " in test optim scenario\n"
     ]
    }
   ],
   "source": [
    "print('\\n in test optim scenario')"
   ]
  },
  {
   "cell_type": "code",
   "execution_count": 13,
   "id": "3947a6db",
   "metadata": {},
   "outputs": [
    {
     "name": "stdout",
     "output_type": "stream",
     "text": [
      "key optim.sub_mda_class\n",
      "key optim.max_mda_iter\n",
      "key optim.n_processes\n",
      "key optim.chain_linearize\n",
      "key optim.tolerance\n",
      "key optim.use_lu_fact\n",
      "key optim.warm_start\n",
      "key optim.acceleration\n",
      "key optim.warm_start_threshold\n",
      "key optim.n_subcouplings_parallel\n",
      "key optim.tolerance_gs\n",
      "key optim.relax_factor\n",
      "key optim.epsilon0\n",
      "key optim.linear_solver_MDO\n",
      "key optim.linear_solver_MDO_preconditioner\n",
      "key optim.linear_solver_MDO_options\n",
      "key optim.linear_solver_MDA\n",
      "key optim.linear_solver_MDA_preconditioner\n",
      "key optim.linear_solver_MDA_options\n",
      "key optim.group_mda_disciplines\n",
      "key optim.authorize_self_coupled_disciplines\n",
      "key optim.linearization_mode\n",
      "key optim.cache_type\n",
      "key optim.cache_file_path\n",
      "key optim.debug_mode\n",
      "key optim.SellarOptimScenario.max_iter\n",
      "key optim.SellarOptimScenario.ineq_constraints\n",
      "key optim.SellarOptimScenario.eq_constraints\n",
      "key optim.SellarOptimScenario.algo\n",
      "key optim.SellarOptimScenario.design_space\n",
      "key optim.SellarOptimScenario.formulation\n",
      "key optim.SellarOptimScenario.maximize_objective\n",
      "key optim.SellarOptimScenario.objective_name\n",
      "key optim.SellarOptimScenario.differentiation_method\n",
      "key optim.SellarOptimScenario.algo_options\n",
      "key optim.SellarOptimScenario.parallel_options\n",
      "key optim.SellarOptimScenario.eval_mode\n",
      "key optim.SellarOptimScenario.eval_jac\n",
      "key optim.SellarOptimScenario.execute_at_xopt\n",
      "key optim.SellarOptimScenario.linearization_mode\n",
      "key optim.SellarOptimScenario.cache_type\n",
      "key optim.SellarOptimScenario.cache_file_path\n",
      "key optim.SellarOptimScenario.debug_mode\n",
      "key optim.SellarOptimScenario.design_space_out\n",
      "key optim.SellarOptimScenario.x\n",
      "key optim.SellarOptimScenario.y_1\n",
      "key optim.SellarOptimScenario.y_2\n",
      "key optim.SellarOptimScenario.z\n",
      "key optim.SellarOptimScenario.Sellar_Problem.local_dv\n",
      "key optim.SellarOptimScenario.Sellar_Problem.linearization_mode\n",
      "key optim.SellarOptimScenario.Sellar_Problem.cache_type\n",
      "key optim.SellarOptimScenario.Sellar_Problem.cache_file_path\n",
      "key optim.SellarOptimScenario.Sellar_Problem.debug_mode\n",
      "key optim.SellarOptimScenario.c_1\n",
      "key optim.SellarOptimScenario.c_2\n",
      "key optim.SellarOptimScenario.obj\n",
      "key optim.SellarOptimScenario.debug_mode_sellar\n",
      "key optim.SellarOptimScenario.Sellar_2.linearization_mode\n",
      "key optim.SellarOptimScenario.Sellar_2.cache_type\n",
      "key optim.SellarOptimScenario.Sellar_2.cache_file_path\n",
      "key optim.SellarOptimScenario.Sellar_2.debug_mode\n",
      "key optim.SellarOptimScenario.y_2_bis\n",
      "key optim.SellarOptimScenario.Sellar_1.linearization_mode\n",
      "key optim.SellarOptimScenario.Sellar_1.cache_type\n",
      "key optim.SellarOptimScenario.Sellar_1.cache_file_path\n",
      "key optim.SellarOptimScenario.Sellar_1.debug_mode\n",
      "key optim.SellarOptimScenario.y_1_bis\n",
      "key optim.residuals_history\n"
     ]
    }
   ],
   "source": [
    "for key in exec_eng.dm.data_id_map:\n",
    "    print(\"key\", key)"
   ]
  },
  {
   "cell_type": "code",
   "execution_count": 14,
   "id": "60b1c584",
   "metadata": {},
   "outputs": [
    {
     "data": {
      "text/plain": [
       "{'optim.sub_mda_class': 'MDAJacobi',\n",
       " 'optim.max_mda_iter': 30,\n",
       " 'optim.n_processes': 1,\n",
       " 'optim.chain_linearize': False,\n",
       " 'optim.tolerance': 1e-06,\n",
       " 'optim.use_lu_fact': False,\n",
       " 'optim.warm_start': False,\n",
       " 'optim.acceleration': 'm2d',\n",
       " 'optim.warm_start_threshold': -1,\n",
       " 'optim.n_subcouplings_parallel': 1,\n",
       " 'optim.tolerance_gs': 10.0,\n",
       " 'optim.relax_factor': 0.99,\n",
       " 'optim.epsilon0': 1e-06,\n",
       " 'optim.linear_solver_MDO': 'GMRES',\n",
       " 'optim.linear_solver_MDO_preconditioner': 'None',\n",
       " 'optim.linear_solver_MDO_options': {'max_iter': 1000, 'tol': 1e-08},\n",
       " 'optim.linear_solver_MDA': 'GMRES',\n",
       " 'optim.linear_solver_MDA_preconditioner': 'None',\n",
       " 'optim.linear_solver_MDA_options': {'max_iter': 1000, 'tol': 1e-08},\n",
       " 'optim.group_mda_disciplines': False,\n",
       " 'optim.authorize_self_coupled_disciplines': False,\n",
       " 'optim.linearization_mode': 'auto',\n",
       " 'optim.cache_type': 'SimpleCache',\n",
       " 'optim.cache_file_path': None,\n",
       " 'optim.debug_mode': '',\n",
       " 'optim.SellarOptimScenario.max_iter': None,\n",
       " 'optim.SellarOptimScenario.ineq_constraints': [],\n",
       " 'optim.SellarOptimScenario.eq_constraints': [],\n",
       " 'optim.SellarOptimScenario.algo': None,\n",
       " 'optim.SellarOptimScenario.design_space': None,\n",
       " 'optim.SellarOptimScenario.formulation': None,\n",
       " 'optim.SellarOptimScenario.maximize_objective': False,\n",
       " 'optim.SellarOptimScenario.objective_name': None,\n",
       " 'optim.SellarOptimScenario.differentiation_method': 'finite_differences',\n",
       " 'optim.SellarOptimScenario.algo_options': None,\n",
       " 'optim.SellarOptimScenario.parallel_options': {'parallel': False,\n",
       "  'n_processes': 8,\n",
       "  'use_threading': False,\n",
       "  'wait_time_between_fork': 0},\n",
       " 'optim.SellarOptimScenario.eval_mode': False,\n",
       " 'optim.SellarOptimScenario.eval_jac': False,\n",
       " 'optim.SellarOptimScenario.execute_at_xopt': True,\n",
       " 'optim.SellarOptimScenario.linearization_mode': 'auto',\n",
       " 'optim.SellarOptimScenario.cache_type': 'SimpleCache',\n",
       " 'optim.SellarOptimScenario.cache_file_path': None,\n",
       " 'optim.SellarOptimScenario.debug_mode': '',\n",
       " 'optim.SellarOptimScenario.design_space_out': None,\n",
       " 'optim.SellarOptimScenario.x': None,\n",
       " 'optim.SellarOptimScenario.y_1': None,\n",
       " 'optim.SellarOptimScenario.y_2': None,\n",
       " 'optim.SellarOptimScenario.z': None,\n",
       " 'optim.SellarOptimScenario.Sellar_Problem.local_dv': None,\n",
       " 'optim.SellarOptimScenario.Sellar_Problem.linearization_mode': 'auto',\n",
       " 'optim.SellarOptimScenario.Sellar_Problem.cache_type': 'SimpleCache',\n",
       " 'optim.SellarOptimScenario.Sellar_Problem.cache_file_path': None,\n",
       " 'optim.SellarOptimScenario.Sellar_Problem.debug_mode': '',\n",
       " 'optim.SellarOptimScenario.c_1': None,\n",
       " 'optim.SellarOptimScenario.c_2': None,\n",
       " 'optim.SellarOptimScenario.obj': None,\n",
       " 'optim.SellarOptimScenario.debug_mode_sellar': False,\n",
       " 'optim.SellarOptimScenario.Sellar_2.linearization_mode': 'auto',\n",
       " 'optim.SellarOptimScenario.Sellar_2.cache_type': 'SimpleCache',\n",
       " 'optim.SellarOptimScenario.Sellar_2.cache_file_path': None,\n",
       " 'optim.SellarOptimScenario.Sellar_2.debug_mode': '',\n",
       " 'optim.SellarOptimScenario.y_2_bis': None,\n",
       " 'optim.SellarOptimScenario.Sellar_1.linearization_mode': 'auto',\n",
       " 'optim.SellarOptimScenario.Sellar_1.cache_type': 'SimpleCache',\n",
       " 'optim.SellarOptimScenario.Sellar_1.cache_file_path': None,\n",
       " 'optim.SellarOptimScenario.Sellar_1.debug_mode': '',\n",
       " 'optim.SellarOptimScenario.y_1_bis': None,\n",
       " 'optim.residuals_history': Empty DataFrame\n",
       " Columns: []\n",
       " Index: []}"
      ]
     },
     "execution_count": 14,
     "metadata": {},
     "output_type": "execute_result"
    }
   ],
   "source": [
    "#exec_eng.dm['optim.SellarOptimScenario.algo']\n",
    "exec_eng.dm.get_data_dict_values()"
   ]
  },
  {
   "cell_type": "code",
   "execution_count": 15,
   "id": "c6b454c4",
   "metadata": {},
   "outputs": [
    {
     "data": {
      "text/plain": [
       "'GMRES'"
      ]
     },
     "execution_count": 15,
     "metadata": {},
     "output_type": "execute_result"
    }
   ],
   "source": [
    "exec_eng.dm.get_data('optim.linear_solver_MDO')['value']"
   ]
  },
  {
   "cell_type": "code",
   "execution_count": 16,
   "id": "d4cd4c8a",
   "metadata": {},
   "outputs": [
    {
     "data": {
      "text/plain": [
       "'MDAJacobi'"
      ]
     },
     "execution_count": 16,
     "metadata": {},
     "output_type": "execute_result"
    }
   ],
   "source": [
    "exec_eng.dm.get_data('optim.sub_mda_class')['value']"
   ]
  },
  {
   "cell_type": "code",
   "execution_count": 17,
   "id": "658c1cf7",
   "metadata": {},
   "outputs": [
    {
     "data": {
      "text/plain": [
       "{'optim.SellarOptimScenario.max_iter': 100,\n",
       " 'optim.SellarOptimScenario.algo': 'SLSQP',\n",
       " 'optim.SellarOptimScenario.design_space':   variable       value     lower_bnd     upper_bnd  enable_variable  \\\n",
       " 0        x       [1.0]         [0.0]        [10.0]             True   \n",
       " 1        z  [5.0, 2.0]  [-10.0, 0.0]  [10.0, 10.0]             True   \n",
       " 2      y_1       [1.0]      [-100.0]       [100.0]             True   \n",
       " 3      y_2       [1.0]      [-100.0]       [100.0]             True   \n",
       " \n",
       "   activated_elem  \n",
       " 0         [True]  \n",
       " 1   [True, True]  \n",
       " 2         [True]  \n",
       " 3         [True]  ,\n",
       " 'optim.SellarOptimScenario.formulation': 'MDF',\n",
       " 'optim.SellarOptimScenario.objective_name': 'obj',\n",
       " 'optim.SellarOptimScenario.ineq_constraints': ['c_1', 'c_2'],\n",
       " 'optim.SellarOptimScenario.algo_options': {'ftol_rel': 1e-05,\n",
       "  'ineq_tolerance': 1e-05,\n",
       "  'normalize_design_space': False}}"
      ]
     },
     "execution_count": 17,
     "metadata": {},
     "output_type": "execute_result"
    }
   ],
   "source": [
    "#-- set up disciplines in Scenario\n",
    "disc_dict = {}\n",
    "# Optim inputs\n",
    "disc_dict[f'{ns}.SellarOptimScenario.max_iter'] = 100\n",
    "# SLSQP, NLOPT_SLSQP\n",
    "disc_dict[f'{ns}.SellarOptimScenario.algo'] = \"SLSQP\"  #NLOPT_MMA\n",
    "disc_dict[f'{ns}.SellarOptimScenario.design_space'] = dspace\n",
    "disc_dict[f'{ns}.SellarOptimScenario.formulation'] = 'MDF'\n",
    "#disc_dict[f'{ns}.{sc_name}.maximize_objective'] = False\n",
    "disc_dict[f'{ns}.SellarOptimScenario.objective_name'] = 'obj'\n",
    "disc_dict[f'{ns}.SellarOptimScenario.ineq_constraints'] = [f'c_1', f'c_2']\n",
    "disc_dict[f'{ns}.SellarOptimScenario.algo_options'] = {\"ftol_rel\": 1e-5,\n",
    "                                                            \"ineq_tolerance\": 1e-5,\n",
    "                                                            \"normalize_design_space\": False}\n",
    "disc_dict"
   ]
  },
  {
   "cell_type": "code",
   "execution_count": 18,
   "id": "20e79291",
   "metadata": {},
   "outputs": [
    {
     "name": "stderr",
     "output_type": "stream",
     "text": [
      "INFO:SoS.EE:configuring ...\n",
      "WARNING:SoS.EE.SoSOptimScenario:The differentiation method \"finite_differences\" will overload the linearization mode \"auto\" \n",
      "WARNING:SoS.EE.SoSOptimScenario:The differentiation method \"finite_differences\" will overload the linearization mode \"auto\" \n",
      "WARNING:SoS.EE.SoSOptimScenario:The differentiation method \"finite_differences\" will overload the linearization mode \"auto\" \n",
      "INFO:SoS.EE:configuring ...\n",
      "WARNING:SoS.EE.SoSOptimScenario:The differentiation method \"finite_differences\" will overload the linearization mode \"auto\" \n",
      "WARNING:SoS.EE.SoSOptimScenario:The differentiation method \"finite_differences\" will overload the linearization mode \"auto\" \n",
      "WARNING:SoS.EE.SoSOptimScenario:The differentiation method \"finite_differences\" will overload the linearization mode \"auto\" \n",
      "INFO:SoS.EE:configuring ...\n",
      "WARNING:gemseo.mda.mda_chain:No coupling in MDA, switching chain_linearize to True\n",
      "INFO:SoS.EE.Coupling:The MDA solver of the Coupling optim is set to MDAJacobi\n",
      "ERROR:SoS.EE.DataManager:Variable: optim.SellarOptimScenario.x value is not set!\n",
      "ERROR:SoS.EE.DataManager:Variable: optim.SellarOptimScenario.z value is not set!\n",
      "ERROR:SoS.EE.DataManager:Variable: optim.SellarOptimScenario.Sellar_Problem.local_dv value is not set!\n"
     ]
    }
   ],
   "source": [
    "#exec_eng.dm.set_values_from_dict(disc_dict)\n",
    "exec_eng.load_study_from_input_dict(disc_dict)"
   ]
  },
  {
   "cell_type": "code",
   "execution_count": 19,
   "id": "d3c4d21e",
   "metadata": {},
   "outputs": [
    {
     "data": {
      "text/plain": [
       "{'optim.SellarOptimScenario.x': 1.0,\n",
       " 'optim.SellarOptimScenario.y_1': 1.0,\n",
       " 'optim.SellarOptimScenario.y_2': 1.0,\n",
       " 'optim.SellarOptimScenario.z': array([1., 1.]),\n",
       " 'optim.SellarOptimScenario.Sellar_Problem.local_dv': 10.0}"
      ]
     },
     "execution_count": 19,
     "metadata": {},
     "output_type": "execute_result"
    }
   ],
   "source": [
    "# Sellar inputs\n",
    "local_dv = 10.\n",
    "values_dict = {}\n",
    "values_dict[f'{ns}.{sc_name}.x'] = 1.  \n",
    "values_dict[f'{ns}.{sc_name}.y_1'] = 1.\n",
    "values_dict[f'{ns}.{sc_name}.y_2'] = 1.\n",
    "values_dict[f'{ns}.{sc_name}.z'] = array([1., 1.])\n",
    "values_dict[f'{ns}.{sc_name}.Sellar_Problem.local_dv'] = local_dv\n",
    "values_dict"
   ]
  },
  {
   "cell_type": "code",
   "execution_count": 20,
   "id": "d1f1e148",
   "metadata": {},
   "outputs": [
    {
     "name": "stderr",
     "output_type": "stream",
     "text": [
      "INFO:SoS.EE:configuring ...\n",
      "WARNING:gemseo.mda.mda_chain:No coupling in MDA, switching chain_linearize to True\n",
      "INFO:SoS.EE.Coupling:The MDA solver of the Coupling optim is set to MDAJacobi\n"
     ]
    }
   ],
   "source": [
    "#exec_eng.dm.set_values_from_dict(values_dict)\n",
    "exec_eng.load_study_from_input_dict(values_dict)"
   ]
  },
  {
   "cell_type": "code",
   "execution_count": 21,
   "id": "5cc45bae",
   "metadata": {},
   "outputs": [
    {
     "name": "stderr",
     "output_type": "stream",
     "text": [
      "INFO:SoS.EE:configuring ...\n",
      "WARNING:gemseo.mda.mda_chain:No coupling in MDA, switching chain_linearize to True\n",
      "INFO:SoS.EE.Coupling:The MDA solver of the Coupling optim is set to MDAJacobi\n"
     ]
    }
   ],
   "source": [
    "exec_eng.configure()"
   ]
  },
  {
   "cell_type": "code",
   "execution_count": 22,
   "id": "aee14862",
   "metadata": {},
   "outputs": [
    {
     "data": {
      "text/plain": [
       "{'optim.sub_mda_class': 'MDAJacobi',\n",
       " 'optim.max_mda_iter': 30,\n",
       " 'optim.n_processes': 1,\n",
       " 'optim.chain_linearize': False,\n",
       " 'optim.tolerance': 1e-06,\n",
       " 'optim.use_lu_fact': False,\n",
       " 'optim.warm_start': False,\n",
       " 'optim.acceleration': 'm2d',\n",
       " 'optim.warm_start_threshold': -1,\n",
       " 'optim.n_subcouplings_parallel': 1,\n",
       " 'optim.tolerance_gs': 10.0,\n",
       " 'optim.relax_factor': 0.99,\n",
       " 'optim.epsilon0': 1e-06,\n",
       " 'optim.linear_solver_MDO': 'GMRES',\n",
       " 'optim.linear_solver_MDO_preconditioner': 'None',\n",
       " 'optim.linear_solver_MDO_options': {'max_iter': 1000, 'tol': 1e-08},\n",
       " 'optim.linear_solver_MDA': 'GMRES',\n",
       " 'optim.linear_solver_MDA_preconditioner': 'None',\n",
       " 'optim.linear_solver_MDA_options': {'max_iter': 1000, 'tol': 1e-08},\n",
       " 'optim.group_mda_disciplines': False,\n",
       " 'optim.authorize_self_coupled_disciplines': False,\n",
       " 'optim.linearization_mode': 'auto',\n",
       " 'optim.cache_type': 'SimpleCache',\n",
       " 'optim.cache_file_path': None,\n",
       " 'optim.debug_mode': '',\n",
       " 'optim.SellarOptimScenario.max_iter': 100,\n",
       " 'optim.SellarOptimScenario.ineq_constraints': ['c_1', 'c_2'],\n",
       " 'optim.SellarOptimScenario.eq_constraints': [],\n",
       " 'optim.SellarOptimScenario.algo': 'SLSQP',\n",
       " 'optim.SellarOptimScenario.design_space':   variable       value     lower_bnd     upper_bnd  enable_variable  \\\n",
       " 0        x       [1.0]         [0.0]        [10.0]             True   \n",
       " 1        z  [5.0, 2.0]  [-10.0, 0.0]  [10.0, 10.0]             True   \n",
       " 2      y_1       [1.0]      [-100.0]       [100.0]             True   \n",
       " 3      y_2       [1.0]      [-100.0]       [100.0]             True   \n",
       " \n",
       "   activated_elem  \n",
       " 0         [True]  \n",
       " 1   [True, True]  \n",
       " 2         [True]  \n",
       " 3         [True]  ,\n",
       " 'optim.SellarOptimScenario.formulation': 'MDF',\n",
       " 'optim.SellarOptimScenario.maximize_objective': False,\n",
       " 'optim.SellarOptimScenario.objective_name': 'obj',\n",
       " 'optim.SellarOptimScenario.differentiation_method': 'finite_differences',\n",
       " 'optim.SellarOptimScenario.algo_options': {'xtol_rel': 1e-09,\n",
       "  'xtol_abs': 1e-09,\n",
       "  'ftol_rel': 1e-05,\n",
       "  'ftol_abs': 1e-09,\n",
       "  'max_time': 0,\n",
       "  'disp': 0,\n",
       "  'eq_tolerance': 0.01,\n",
       "  'ineq_tolerance': 1e-05,\n",
       "  'max_iter': 999,\n",
       "  'normalize_design_space': False},\n",
       " 'optim.SellarOptimScenario.parallel_options': {'parallel': False,\n",
       "  'n_processes': 8,\n",
       "  'use_threading': False,\n",
       "  'wait_time_between_fork': 0},\n",
       " 'optim.SellarOptimScenario.eval_mode': False,\n",
       " 'optim.SellarOptimScenario.eval_jac': False,\n",
       " 'optim.SellarOptimScenario.execute_at_xopt': True,\n",
       " 'optim.SellarOptimScenario.linearization_mode': 'auto',\n",
       " 'optim.SellarOptimScenario.cache_type': 'SimpleCache',\n",
       " 'optim.SellarOptimScenario.cache_file_path': None,\n",
       " 'optim.SellarOptimScenario.debug_mode': '',\n",
       " 'optim.SellarOptimScenario.design_space_out': None,\n",
       " 'optim.SellarOptimScenario.x': 1.0,\n",
       " 'optim.SellarOptimScenario.y_1': 1.0,\n",
       " 'optim.SellarOptimScenario.y_2': 1.0,\n",
       " 'optim.SellarOptimScenario.z': array([1., 1.]),\n",
       " 'optim.SellarOptimScenario.Sellar_Problem.local_dv': 10.0,\n",
       " 'optim.SellarOptimScenario.Sellar_Problem.linearization_mode': 'auto',\n",
       " 'optim.SellarOptimScenario.Sellar_Problem.cache_type': 'SimpleCache',\n",
       " 'optim.SellarOptimScenario.Sellar_Problem.cache_file_path': None,\n",
       " 'optim.SellarOptimScenario.Sellar_Problem.debug_mode': '',\n",
       " 'optim.SellarOptimScenario.c_1': None,\n",
       " 'optim.SellarOptimScenario.c_2': None,\n",
       " 'optim.SellarOptimScenario.obj': None,\n",
       " 'optim.SellarOptimScenario.debug_mode_sellar': False,\n",
       " 'optim.SellarOptimScenario.Sellar_2.linearization_mode': 'auto',\n",
       " 'optim.SellarOptimScenario.Sellar_2.cache_type': 'SimpleCache',\n",
       " 'optim.SellarOptimScenario.Sellar_2.cache_file_path': None,\n",
       " 'optim.SellarOptimScenario.Sellar_2.debug_mode': '',\n",
       " 'optim.SellarOptimScenario.y_2_bis': None,\n",
       " 'optim.SellarOptimScenario.Sellar_1.linearization_mode': 'auto',\n",
       " 'optim.SellarOptimScenario.Sellar_1.cache_type': 'SimpleCache',\n",
       " 'optim.SellarOptimScenario.Sellar_1.cache_file_path': None,\n",
       " 'optim.SellarOptimScenario.Sellar_1.debug_mode': '',\n",
       " 'optim.SellarOptimScenario.y_1_bis': None,\n",
       " 'optim.residuals_history': Empty DataFrame\n",
       " Columns: []\n",
       " Index: []}"
      ]
     },
     "execution_count": 22,
     "metadata": {},
     "output_type": "execute_result"
    }
   ],
   "source": [
    "exec_eng.dm.get_data_dict_values()"
   ]
  },
  {
   "cell_type": "code",
   "execution_count": 23,
   "id": "c563c107",
   "metadata": {},
   "outputs": [
    {
     "data": {
      "text/plain": [
       "['Nodes representation for Treeview optim',\n",
       " '|_ optim',\n",
       " '\\t|_ SellarOptimScenario',\n",
       " '\\t\\t|_ Sellar_Problem',\n",
       " '\\t\\t|_ Sellar_2',\n",
       " '\\t\\t|_ Sellar_1']"
      ]
     },
     "execution_count": 23,
     "metadata": {},
     "output_type": "execute_result"
    }
   ],
   "source": [
    "exp_tv_list = [f'Nodes representation for Treeview {ns}',\n",
    "               '|_ optim',\n",
    "               f'\\t|_ {sc_name}',\n",
    "               '\\t\\t|_ Sellar_Problem',\n",
    "               '\\t\\t|_ Sellar_2',\n",
    "               '\\t\\t|_ Sellar_1']\n",
    "exp_tv_list"
   ]
  },
  {
   "cell_type": "code",
   "execution_count": 24,
   "id": "8447bef9",
   "metadata": {},
   "outputs": [
    {
     "data": {
      "text/plain": [
       "'Nodes representation for Treeview optim\\n|_ optim\\n\\t|_ SellarOptimScenario\\n\\t\\t|_ Sellar_Problem\\n\\t\\t|_ Sellar_2\\n\\t\\t|_ Sellar_1'"
      ]
     },
     "execution_count": 24,
     "metadata": {},
     "output_type": "execute_result"
    }
   ],
   "source": [
    "exp_tv_str = '\\n'.join(exp_tv_list)\n",
    "exp_tv_str"
   ]
  },
  {
   "cell_type": "code",
   "execution_count": 25,
   "id": "ddbc1461",
   "metadata": {},
   "outputs": [
    {
     "name": "stderr",
     "output_type": "stream",
     "text": [
      "INFO:SoS.EE:Nodes representation for Treeview optim\n",
      "|_ optim\n",
      "\t|_ SellarOptimScenario\n",
      "\t\t|_ Sellar_Problem\n",
      "\t\t|_ Sellar_2\n",
      "\t\t|_ Sellar_1\n"
     ]
    },
    {
     "data": {
      "text/plain": [
       "'Nodes representation for Treeview optim\\n|_ optim\\n\\t|_ SellarOptimScenario\\n\\t\\t|_ Sellar_Problem\\n\\t\\t|_ Sellar_2\\n\\t\\t|_ Sellar_1'"
      ]
     },
     "execution_count": 25,
     "metadata": {},
     "output_type": "execute_result"
    }
   ],
   "source": [
    "exec_eng.display_treeview_nodes()"
   ]
  },
  {
   "cell_type": "code",
   "execution_count": 26,
   "id": "90f2a5a5",
   "metadata": {},
   "outputs": [],
   "source": [
    "#exec_eng.display_treeview_nodes(True)"
   ]
  },
  {
   "cell_type": "code",
   "execution_count": 27,
   "id": "6004a967",
   "metadata": {},
   "outputs": [],
   "source": [
    "# retrieve discipline to check the result...\n",
    "opt_disc = exec_eng.dm.get_disciplines_with_name(\"optim.\" + sc_name)[0]"
   ]
  },
  {
   "cell_type": "code",
   "execution_count": 28,
   "id": "ddfa27c1",
   "metadata": {},
   "outputs": [],
   "source": [
    "#help(opt_disc)"
   ]
  },
  {
   "cell_type": "code",
   "execution_count": 29,
   "id": "9724af4d",
   "metadata": {},
   "outputs": [],
   "source": [
    "#opt_disc.disciplines"
   ]
  },
  {
   "cell_type": "code",
   "execution_count": 30,
   "id": "d14d1e0f",
   "metadata": {},
   "outputs": [
    {
     "name": "stderr",
     "output_type": "stream",
     "text": [
      "INFO:SoS.EE:PROCESS EXECUTION optim STARTS...\n",
      "INFO:gemseo.core.mdo_scenario: \n",
      "INFO:gemseo.core.mdo_scenario:*** Start MDO Scenario execution ***\n",
      "INFO:gemseo.core.mdo_scenario:SellarOptimScenario\n",
      "   Disciplines: Sellar_Problem Sellar_2 Sellar_1\n",
      "   MDOFormulation: MDF\n",
      "   Algorithm: None\n",
      "WARNING:SoS.EE.SoSOptimScenario:Double definition of algorithm option max_iter, keeping value: 100\n",
      "INFO:SoS.EE.SoSOptimScenario:{'xtol_rel': 1e-09, 'xtol_abs': 1e-09, 'ftol_rel': 1e-05, 'ftol_abs': 1e-09, 'max_time': 0, 'disp': 0, 'eq_tolerance': 0.01, 'ineq_tolerance': 1e-05, 'normalize_design_space': False}\n",
      "INFO:gemseo.algos.opt.opt_lib:Optimization problem:\n",
      "   Minimize: optim.SellarOptimScenario.obj(optim.SellarOptimScenario.x, optim.SellarOptimScenario.z)\n",
      "   With respect to: optim.SellarOptimScenario.x, optim.SellarOptimScenario.z\n",
      "   Subject to constraints:\n",
      "      optim.SellarOptimScenario.c_1(optim.SellarOptimScenario.x, optim.SellarOptimScenario.z) <= 0.0\n",
      "      optim.SellarOptimScenario.c_2(optim.SellarOptimScenario.x, optim.SellarOptimScenario.z) <= 0.0\n",
      "INFO:gemseo.algos.opt.opt_lib:Design space:\n",
      "+-----------------------------+-------------+-------+-------------+-------+\n",
      "| name                        | lower_bound | value | upper_bound | type  |\n",
      "+-----------------------------+-------------+-------+-------------+-------+\n",
      "| optim.SellarOptimScenario.x |      0      |   1   |      10     | float |\n",
      "| optim.SellarOptimScenario.z |     -10     |   5   |      10     | float |\n",
      "| optim.SellarOptimScenario.z |      0      |   2   |      10     | float |\n",
      "+-----------------------------+-------------+-------+-------------+-------+\n",
      "INFO:gemseo.algos.driver_lib:Optimization:   0%|          | 0/100 [00:00<?, ?it]\n",
      "WARNING:gemseo.mda.mda:epslion0 attribute is not set in case of MDF formulation\n",
      "INFO:gemseo.mda.mda:\t1\t1.000000e+00\n",
      "INFO:gemseo.mda.mda:\t2\t1.623191e-01\n",
      "INFO:gemseo.mda.mda:\t3\t3.153957e-02\n",
      "INFO:gemseo.mda.mda:\t4\t1.811352e-03\n",
      "INFO:gemseo.mda.mda:\t5\t1.439296e-06\n",
      "INFO:gemseo.mda.mda:\t6\t2.681937e-12\n",
      "INFO:gemseo.mda.mda:\t1\t1.000000e+00\n",
      "INFO:gemseo.mda.mda:\t2\t1.623191e-01\n",
      "INFO:gemseo.mda.mda:\t3\t3.153957e-02\n",
      "INFO:gemseo.mda.mda:\t4\t1.811352e-03\n",
      "INFO:gemseo.mda.mda:\t5\t1.439296e-06\n",
      "INFO:gemseo.mda.mda:\t6\t2.681937e-12\n",
      "INFO:gemseo.mda.mda:\t1\t1.000000e+00\n",
      "INFO:gemseo.mda.mda:\t2\t1.623191e-01\n",
      "INFO:gemseo.mda.mda:\t3\t3.153957e-02\n",
      "INFO:gemseo.mda.mda:\t4\t1.811352e-03\n",
      "INFO:gemseo.mda.mda:\t5\t1.439296e-06\n",
      "INFO:gemseo.mda.mda:\t6\t2.681937e-12\n",
      "INFO:gemseo.mda.mda:\t1\t1.000000e+00\n",
      "INFO:gemseo.mda.mda:\t2\t1.623191e-01\n",
      "INFO:gemseo.mda.mda:\t3\t3.153957e-02\n",
      "INFO:gemseo.mda.mda:\t4\t1.811352e-03\n",
      "INFO:gemseo.mda.mda:\t5\t1.439296e-06\n",
      "INFO:gemseo.mda.mda:\t6\t2.681937e-12\n",
      "INFO:gemseo.mda.mda:\t1\t1.000000e+00\n",
      "INFO:gemseo.mda.mda:\t2\t1.623191e-01\n",
      "INFO:gemseo.mda.mda:\t3\t3.153957e-02\n",
      "INFO:gemseo.mda.mda:\t4\t1.811352e-03\n",
      "INFO:gemseo.mda.mda:\t5\t1.439296e-06\n",
      "INFO:gemseo.mda.mda:\t6\t2.681873e-12\n",
      "INFO:gemseo.mda.mda:\t1\t1.000000e+00\n",
      "INFO:gemseo.mda.mda:\t2\t1.623192e-01\n",
      "INFO:gemseo.mda.mda:\t3\t3.153958e-02\n",
      "INFO:gemseo.mda.mda:\t4\t1.811352e-03\n",
      "INFO:gemseo.mda.mda:\t5\t1.439296e-06\n",
      "INFO:gemseo.mda.mda:\t6\t2.681873e-12\n",
      "INFO:gemseo.mda.mda:\t1\t1.000000e+00\n",
      "INFO:gemseo.mda.mda:\t2\t1.623191e-01\n",
      "INFO:gemseo.mda.mda:\t3\t3.153958e-02\n",
      "INFO:gemseo.mda.mda:\t4\t1.811352e-03\n",
      "INFO:gemseo.mda.mda:\t5\t1.439297e-06\n",
      "INFO:gemseo.mda.mda:\t6\t2.681873e-12\n",
      "INFO:gemseo.mda.mda:\t1\t1.000000e+00\n",
      "INFO:gemseo.mda.mda:\t2\t1.623191e-01\n",
      "INFO:gemseo.mda.mda:\t3\t3.153957e-02\n",
      "INFO:gemseo.mda.mda:\t4\t1.811352e-03\n",
      "INFO:gemseo.mda.mda:\t5\t1.439296e-06\n",
      "INFO:gemseo.mda.mda:\t6\t2.681937e-12\n",
      "INFO:gemseo.mda.mda:\t1\t1.000000e+00\n",
      "INFO:gemseo.mda.mda:\t2\t1.623191e-01\n",
      "INFO:gemseo.mda.mda:\t3\t3.153957e-02\n",
      "INFO:gemseo.mda.mda:\t4\t1.811352e-03\n",
      "INFO:gemseo.mda.mda:\t5\t1.439296e-06\n",
      "INFO:gemseo.mda.mda:\t6\t2.681873e-12\n",
      "INFO:gemseo.mda.mda:\t1\t1.000000e+00\n",
      "INFO:gemseo.mda.mda:\t2\t1.623192e-01\n",
      "INFO:gemseo.mda.mda:\t3\t3.153958e-02\n",
      "INFO:gemseo.mda.mda:\t4\t1.811352e-03\n",
      "INFO:gemseo.mda.mda:\t5\t1.439296e-06\n",
      "INFO:gemseo.mda.mda:\t6\t2.681873e-12\n",
      "INFO:gemseo.mda.mda:\t1\t1.000000e+00\n",
      "INFO:gemseo.mda.mda:\t2\t1.623191e-01\n",
      "INFO:gemseo.mda.mda:\t3\t3.153958e-02\n",
      "INFO:gemseo.mda.mda:\t4\t1.811352e-03\n",
      "INFO:gemseo.mda.mda:\t5\t1.439297e-06\n",
      "INFO:gemseo.mda.mda:\t6\t2.681873e-12\n",
      "INFO:gemseo.mda.mda:\t1\t1.000000e+00\n",
      "INFO:gemseo.mda.mda:\t2\t1.623191e-01\n",
      "INFO:gemseo.mda.mda:\t3\t3.153957e-02\n",
      "INFO:gemseo.mda.mda:\t4\t1.811352e-03\n",
      "INFO:gemseo.mda.mda:\t5\t1.439296e-06\n",
      "INFO:gemseo.mda.mda:\t6\t2.681937e-12\n",
      "INFO:gemseo.mda.mda:\t1\t1.000000e+00\n",
      "INFO:gemseo.mda.mda:\t2\t1.623191e-01\n",
      "INFO:gemseo.mda.mda:\t3\t3.153957e-02\n",
      "INFO:gemseo.mda.mda:\t4\t1.811352e-03\n",
      "INFO:gemseo.mda.mda:\t5\t1.439296e-06\n",
      "INFO:gemseo.mda.mda:\t6\t2.681873e-12\n",
      "INFO:gemseo.mda.mda:\t1\t1.000000e+00\n",
      "INFO:gemseo.mda.mda:\t2\t1.623192e-01\n",
      "INFO:gemseo.mda.mda:\t3\t3.153958e-02\n",
      "INFO:gemseo.mda.mda:\t4\t1.811352e-03\n",
      "INFO:gemseo.mda.mda:\t5\t1.439296e-06\n",
      "INFO:gemseo.mda.mda:\t6\t2.681873e-12\n",
      "INFO:gemseo.mda.mda:\t1\t1.000000e+00\n",
      "INFO:gemseo.mda.mda:\t2\t1.623191e-01\n",
      "INFO:gemseo.mda.mda:\t3\t3.153958e-02\n",
      "INFO:gemseo.mda.mda:\t4\t1.811352e-03\n",
      "INFO:gemseo.mda.mda:\t5\t1.439297e-06\n",
      "INFO:gemseo.mda.mda:\t6\t2.681873e-12\n",
      "INFO:gemseo.mda.mda:\t1\t3.124456e-01\n",
      "INFO:gemseo.mda.mda:\t2\t7.599086e-02\n",
      "INFO:gemseo.mda.mda:\t3\t1.480446e-02\n",
      "INFO:gemseo.mda.mda:\t4\t9.815629e-04\n",
      "INFO:gemseo.mda.mda:\t5\t2.350540e-06\n",
      "INFO:gemseo.mda.mda:\t6\t1.383757e-11\n",
      "INFO:gemseo.algos.driver_lib:Optimization:   2%|▏         | 2/100 [00:00<00:00, 103.09 it/sec, obj=18.6]\n",
      "INFO:gemseo.mda.mda:\t1\t3.124456e-01\n",
      "INFO:gemseo.mda.mda:\t2\t7.599086e-02\n",
      "INFO:gemseo.mda.mda:\t3\t1.480446e-02\n",
      "INFO:gemseo.mda.mda:\t4\t9.815629e-04\n",
      "INFO:gemseo.mda.mda:\t5\t2.350540e-06\n",
      "INFO:gemseo.mda.mda:\t6\t1.383757e-11\n",
      "INFO:gemseo.mda.mda:\t1\t3.124456e-01\n",
      "INFO:gemseo.mda.mda:\t2\t7.599086e-02\n",
      "INFO:gemseo.mda.mda:\t3\t1.480446e-02\n",
      "INFO:gemseo.mda.mda:\t4\t9.815629e-04\n",
      "INFO:gemseo.mda.mda:\t5\t2.350540e-06\n",
      "INFO:gemseo.mda.mda:\t6\t1.383757e-11\n",
      "INFO:gemseo.mda.mda:\t1\t3.124456e-01\n",
      "INFO:gemseo.mda.mda:\t2\t7.599086e-02\n",
      "INFO:gemseo.mda.mda:\t3\t1.480446e-02\n",
      "INFO:gemseo.mda.mda:\t4\t9.815629e-04\n",
      "INFO:gemseo.mda.mda:\t5\t2.350540e-06\n",
      "INFO:gemseo.mda.mda:\t6\t1.383757e-11\n",
      "INFO:gemseo.mda.mda:\t1\t3.124456e-01\n",
      "INFO:gemseo.mda.mda:\t2\t7.599087e-02\n",
      "INFO:gemseo.mda.mda:\t3\t1.480446e-02\n",
      "INFO:gemseo.mda.mda:\t4\t9.815630e-04\n",
      "INFO:gemseo.mda.mda:\t5\t2.350540e-06\n",
      "INFO:gemseo.mda.mda:\t6\t1.383750e-11\n",
      "INFO:gemseo.mda.mda:\t1\t3.124458e-01\n",
      "INFO:gemseo.mda.mda:\t2\t7.599090e-02\n",
      "INFO:gemseo.mda.mda:\t3\t1.480447e-02\n",
      "INFO:gemseo.mda.mda:\t4\t9.815634e-04\n",
      "INFO:gemseo.mda.mda:\t5\t2.350539e-06\n",
      "INFO:gemseo.mda.mda:\t6\t1.383753e-11\n",
      "INFO:gemseo.mda.mda:\t1\t3.124456e-01\n",
      "INFO:gemseo.mda.mda:\t2\t7.599087e-02\n",
      "INFO:gemseo.mda.mda:\t3\t1.480446e-02\n",
      "INFO:gemseo.mda.mda:\t4\t9.815629e-04\n",
      "INFO:gemseo.mda.mda:\t5\t2.350540e-06\n",
      "INFO:gemseo.mda.mda:\t6\t1.383753e-11\n",
      "INFO:gemseo.mda.mda:\t1\t3.124456e-01\n",
      "INFO:gemseo.mda.mda:\t2\t7.599086e-02\n",
      "INFO:gemseo.mda.mda:\t3\t1.480446e-02\n",
      "INFO:gemseo.mda.mda:\t4\t9.815629e-04\n",
      "INFO:gemseo.mda.mda:\t5\t2.350540e-06\n",
      "INFO:gemseo.mda.mda:\t6\t1.383757e-11\n",
      "INFO:gemseo.mda.mda:\t1\t3.124456e-01\n",
      "INFO:gemseo.mda.mda:\t2\t7.599087e-02\n",
      "INFO:gemseo.mda.mda:\t3\t1.480446e-02\n",
      "INFO:gemseo.mda.mda:\t4\t9.815630e-04\n",
      "INFO:gemseo.mda.mda:\t5\t2.350540e-06\n",
      "INFO:gemseo.mda.mda:\t6\t1.383750e-11\n",
      "INFO:gemseo.mda.mda:\t1\t3.124458e-01\n",
      "INFO:gemseo.mda.mda:\t2\t7.599090e-02\n",
      "INFO:gemseo.mda.mda:\t3\t1.480447e-02\n",
      "INFO:gemseo.mda.mda:\t4\t9.815634e-04\n",
      "INFO:gemseo.mda.mda:\t5\t2.350539e-06\n",
      "INFO:gemseo.mda.mda:\t6\t1.383753e-11\n",
      "INFO:gemseo.mda.mda:\t1\t3.124456e-01\n",
      "INFO:gemseo.mda.mda:\t2\t7.599087e-02\n",
      "INFO:gemseo.mda.mda:\t3\t1.480446e-02\n",
      "INFO:gemseo.mda.mda:\t4\t9.815629e-04\n",
      "INFO:gemseo.mda.mda:\t5\t2.350540e-06\n",
      "INFO:gemseo.mda.mda:\t6\t1.383753e-11\n",
      "INFO:gemseo.mda.mda:\t1\t3.124456e-01\n",
      "INFO:gemseo.mda.mda:\t2\t7.599086e-02\n",
      "INFO:gemseo.mda.mda:\t3\t1.480446e-02\n",
      "INFO:gemseo.mda.mda:\t4\t9.815629e-04\n",
      "INFO:gemseo.mda.mda:\t5\t2.350540e-06\n",
      "INFO:gemseo.mda.mda:\t6\t1.383757e-11\n",
      "INFO:gemseo.mda.mda:\t1\t3.124456e-01\n",
      "INFO:gemseo.mda.mda:\t2\t7.599087e-02\n",
      "INFO:gemseo.mda.mda:\t3\t1.480446e-02\n",
      "INFO:gemseo.mda.mda:\t4\t9.815630e-04\n",
      "INFO:gemseo.mda.mda:\t5\t2.350540e-06\n",
      "INFO:gemseo.mda.mda:\t6\t1.383750e-11\n",
      "INFO:gemseo.mda.mda:\t1\t3.124458e-01\n",
      "INFO:gemseo.mda.mda:\t2\t7.599090e-02\n",
      "INFO:gemseo.mda.mda:\t3\t1.480447e-02\n",
      "INFO:gemseo.mda.mda:\t4\t9.815634e-04\n",
      "INFO:gemseo.mda.mda:\t5\t2.350539e-06\n",
      "INFO:gemseo.mda.mda:\t6\t1.383753e-11\n",
      "INFO:gemseo.mda.mda:\t1\t3.124456e-01\n"
     ]
    },
    {
     "name": "stderr",
     "output_type": "stream",
     "text": [
      "INFO:gemseo.mda.mda:\t2\t7.599087e-02\n",
      "INFO:gemseo.mda.mda:\t3\t1.480446e-02\n",
      "INFO:gemseo.mda.mda:\t4\t9.815629e-04\n",
      "INFO:gemseo.mda.mda:\t5\t2.350540e-06\n",
      "INFO:gemseo.mda.mda:\t6\t1.383753e-11\n",
      "INFO:gemseo.mda.mda:\t1\t1.423739e-01\n",
      "INFO:gemseo.mda.mda:\t2\t4.186298e-02\n",
      "INFO:gemseo.mda.mda:\t3\t8.394628e-03\n",
      "INFO:gemseo.mda.mda:\t4\t4.914172e-04\n",
      "INFO:gemseo.mda.mda:\t5\t1.904916e-06\n",
      "INFO:gemseo.mda.mda:\t6\t1.638576e-11\n",
      "INFO:gemseo.algos.driver_lib:Optimization:   3%|▎         | 3/100 [00:02<00:01, 49.24 it/sec, obj=13.7]\n",
      "INFO:gemseo.mda.mda:\t1\t1.423739e-01\n",
      "INFO:gemseo.mda.mda:\t2\t4.186298e-02\n",
      "INFO:gemseo.mda.mda:\t3\t8.394628e-03\n",
      "INFO:gemseo.mda.mda:\t4\t4.914172e-04\n",
      "INFO:gemseo.mda.mda:\t5\t1.904916e-06\n",
      "INFO:gemseo.mda.mda:\t6\t1.638576e-11\n",
      "INFO:gemseo.mda.mda:\t1\t1.423739e-01\n",
      "INFO:gemseo.mda.mda:\t2\t4.186298e-02\n",
      "INFO:gemseo.mda.mda:\t3\t8.394628e-03\n",
      "INFO:gemseo.mda.mda:\t4\t4.914172e-04\n",
      "INFO:gemseo.mda.mda:\t5\t1.904916e-06\n",
      "INFO:gemseo.mda.mda:\t6\t1.638576e-11\n",
      "INFO:gemseo.mda.mda:\t1\t1.423739e-01\n",
      "INFO:gemseo.mda.mda:\t2\t4.186298e-02\n",
      "INFO:gemseo.mda.mda:\t3\t8.394628e-03\n",
      "INFO:gemseo.mda.mda:\t4\t4.914172e-04\n",
      "INFO:gemseo.mda.mda:\t5\t1.904916e-06\n",
      "INFO:gemseo.mda.mda:\t6\t1.638576e-11\n",
      "INFO:gemseo.mda.mda:\t1\t1.423739e-01\n",
      "INFO:gemseo.mda.mda:\t2\t4.186299e-02\n",
      "INFO:gemseo.mda.mda:\t3\t8.394629e-03\n",
      "INFO:gemseo.mda.mda:\t4\t4.914174e-04\n",
      "INFO:gemseo.mda.mda:\t5\t1.904916e-06\n",
      "INFO:gemseo.mda.mda:\t6\t1.638579e-11\n",
      "INFO:gemseo.mda.mda:\t1\t1.423740e-01\n",
      "INFO:gemseo.mda.mda:\t2\t4.186301e-02\n",
      "INFO:gemseo.mda.mda:\t3\t8.394634e-03\n",
      "INFO:gemseo.mda.mda:\t4\t4.914179e-04\n",
      "INFO:gemseo.mda.mda:\t5\t1.904916e-06\n",
      "INFO:gemseo.mda.mda:\t6\t1.638576e-11\n",
      "INFO:gemseo.mda.mda:\t1\t1.423739e-01\n",
      "INFO:gemseo.mda.mda:\t2\t4.186299e-02\n",
      "INFO:gemseo.mda.mda:\t3\t8.394630e-03\n",
      "INFO:gemseo.mda.mda:\t4\t4.914174e-04\n",
      "INFO:gemseo.mda.mda:\t5\t1.904916e-06\n",
      "INFO:gemseo.mda.mda:\t6\t1.638576e-11\n",
      "INFO:gemseo.mda.mda:\t1\t1.423739e-01\n",
      "INFO:gemseo.mda.mda:\t2\t4.186298e-02\n",
      "INFO:gemseo.mda.mda:\t3\t8.394628e-03\n",
      "INFO:gemseo.mda.mda:\t4\t4.914172e-04\n",
      "INFO:gemseo.mda.mda:\t5\t1.904916e-06\n",
      "INFO:gemseo.mda.mda:\t6\t1.638576e-11\n",
      "INFO:gemseo.mda.mda:\t1\t1.423739e-01\n",
      "INFO:gemseo.mda.mda:\t2\t4.186299e-02\n",
      "INFO:gemseo.mda.mda:\t3\t8.394629e-03\n",
      "INFO:gemseo.mda.mda:\t4\t4.914174e-04\n",
      "INFO:gemseo.mda.mda:\t5\t1.904916e-06\n",
      "INFO:gemseo.mda.mda:\t6\t1.638579e-11\n",
      "INFO:gemseo.mda.mda:\t1\t1.423740e-01\n",
      "INFO:gemseo.mda.mda:\t2\t4.186301e-02\n",
      "INFO:gemseo.mda.mda:\t3\t8.394634e-03\n",
      "INFO:gemseo.mda.mda:\t4\t4.914179e-04\n",
      "INFO:gemseo.mda.mda:\t5\t1.904916e-06\n",
      "INFO:gemseo.mda.mda:\t6\t1.638576e-11\n",
      "INFO:gemseo.mda.mda:\t1\t1.423739e-01\n",
      "INFO:gemseo.mda.mda:\t2\t4.186299e-02\n",
      "INFO:gemseo.mda.mda:\t3\t8.394630e-03\n",
      "INFO:gemseo.mda.mda:\t4\t4.914174e-04\n",
      "INFO:gemseo.mda.mda:\t5\t1.904916e-06\n",
      "INFO:gemseo.mda.mda:\t6\t1.638576e-11\n",
      "INFO:gemseo.mda.mda:\t1\t1.423739e-01\n",
      "INFO:gemseo.mda.mda:\t2\t4.186298e-02\n",
      "INFO:gemseo.mda.mda:\t3\t8.394628e-03\n",
      "INFO:gemseo.mda.mda:\t4\t4.914172e-04\n",
      "INFO:gemseo.mda.mda:\t5\t1.904916e-06\n",
      "INFO:gemseo.mda.mda:\t6\t1.638576e-11\n",
      "INFO:gemseo.mda.mda:\t1\t1.423739e-01\n",
      "INFO:gemseo.mda.mda:\t2\t4.186299e-02\n",
      "INFO:gemseo.mda.mda:\t3\t8.394629e-03\n",
      "INFO:gemseo.mda.mda:\t4\t4.914174e-04\n",
      "INFO:gemseo.mda.mda:\t5\t1.904916e-06\n",
      "INFO:gemseo.mda.mda:\t6\t1.638579e-11\n",
      "INFO:gemseo.mda.mda:\t1\t1.423740e-01\n",
      "INFO:gemseo.mda.mda:\t2\t4.186301e-02\n",
      "INFO:gemseo.mda.mda:\t3\t8.394634e-03\n",
      "INFO:gemseo.mda.mda:\t4\t4.914179e-04\n",
      "INFO:gemseo.mda.mda:\t5\t1.904916e-06\n",
      "INFO:gemseo.mda.mda:\t6\t1.638576e-11\n",
      "INFO:gemseo.mda.mda:\t1\t1.423739e-01\n",
      "INFO:gemseo.mda.mda:\t2\t4.186299e-02\n",
      "INFO:gemseo.mda.mda:\t3\t8.394630e-03\n",
      "INFO:gemseo.mda.mda:\t4\t4.914174e-04\n",
      "INFO:gemseo.mda.mda:\t5\t1.904916e-06\n",
      "INFO:gemseo.mda.mda:\t6\t1.638576e-11\n",
      "INFO:gemseo.mda.mda:\t1\t1.219351e-01\n",
      "INFO:gemseo.mda.mda:\t2\t3.657825e-02\n",
      "INFO:gemseo.mda.mda:\t3\t7.500319e-03\n",
      "INFO:gemseo.mda.mda:\t4\t3.966208e-04\n",
      "INFO:gemseo.mda.mda:\t5\t1.777823e-06\n",
      "INFO:gemseo.mda.mda:\t6\t1.543284e-11\n",
      "INFO:gemseo.algos.driver_lib:Optimization:   4%|▍         | 4/100 [00:03<00:02, 32.66 it/sec, obj=13.2]\n",
      "INFO:gemseo.mda.mda:\t1\t1.219351e-01\n",
      "INFO:gemseo.mda.mda:\t2\t3.657825e-02\n",
      "INFO:gemseo.mda.mda:\t3\t7.500319e-03\n",
      "INFO:gemseo.mda.mda:\t4\t3.966208e-04\n",
      "INFO:gemseo.mda.mda:\t5\t1.777823e-06\n",
      "INFO:gemseo.mda.mda:\t6\t1.543284e-11\n",
      "INFO:gemseo.mda.mda:\t1\t1.219351e-01\n",
      "INFO:gemseo.mda.mda:\t2\t3.657825e-02\n",
      "INFO:gemseo.mda.mda:\t3\t7.500319e-03\n",
      "INFO:gemseo.mda.mda:\t4\t3.966208e-04\n",
      "INFO:gemseo.mda.mda:\t5\t1.777823e-06\n",
      "INFO:gemseo.mda.mda:\t6\t1.543284e-11\n",
      "INFO:gemseo.mda.mda:\t1\t1.219351e-01\n",
      "INFO:gemseo.mda.mda:\t2\t3.657825e-02\n",
      "INFO:gemseo.mda.mda:\t3\t7.500319e-03\n",
      "INFO:gemseo.mda.mda:\t4\t3.966208e-04\n",
      "INFO:gemseo.mda.mda:\t5\t1.777823e-06\n",
      "INFO:gemseo.mda.mda:\t6\t1.543284e-11\n",
      "INFO:gemseo.mda.mda:\t1\t1.219352e-01\n",
      "INFO:gemseo.mda.mda:\t2\t3.657826e-02\n",
      "INFO:gemseo.mda.mda:\t3\t7.500321e-03\n",
      "INFO:gemseo.mda.mda:\t4\t3.966210e-04\n",
      "INFO:gemseo.mda.mda:\t5\t1.777823e-06\n",
      "INFO:gemseo.mda.mda:\t6\t1.543283e-11\n",
      "INFO:gemseo.mda.mda:\t1\t1.219353e-01\n",
      "INFO:gemseo.mda.mda:\t2\t3.657829e-02\n",
      "INFO:gemseo.mda.mda:\t3\t7.500325e-03\n",
      "INFO:gemseo.mda.mda:\t4\t3.966215e-04\n",
      "INFO:gemseo.mda.mda:\t5\t1.777824e-06\n",
      "INFO:gemseo.mda.mda:\t6\t1.543283e-11\n",
      "INFO:gemseo.mda.mda:\t1\t1.219352e-01\n",
      "INFO:gemseo.mda.mda:\t2\t3.657827e-02\n",
      "INFO:gemseo.mda.mda:\t3\t7.500322e-03\n",
      "INFO:gemseo.mda.mda:\t4\t3.966210e-04\n",
      "INFO:gemseo.mda.mda:\t5\t1.777824e-06\n",
      "INFO:gemseo.mda.mda:\t6\t1.543284e-11\n",
      "INFO:gemseo.mda.mda:\t1\t1.219351e-01\n",
      "INFO:gemseo.mda.mda:\t2\t3.657825e-02\n",
      "INFO:gemseo.mda.mda:\t3\t7.500319e-03\n",
      "INFO:gemseo.mda.mda:\t4\t3.966208e-04\n",
      "INFO:gemseo.mda.mda:\t5\t1.777823e-06\n",
      "INFO:gemseo.mda.mda:\t6\t1.543284e-11\n",
      "INFO:gemseo.mda.mda:\t1\t1.219352e-01\n",
      "INFO:gemseo.mda.mda:\t2\t3.657826e-02\n",
      "INFO:gemseo.mda.mda:\t3\t7.500321e-03\n",
      "INFO:gemseo.mda.mda:\t4\t3.966210e-04\n",
      "INFO:gemseo.mda.mda:\t5\t1.777823e-06\n",
      "INFO:gemseo.mda.mda:\t6\t1.543283e-11\n",
      "INFO:gemseo.mda.mda:\t1\t1.219353e-01\n",
      "INFO:gemseo.mda.mda:\t2\t3.657829e-02\n",
      "INFO:gemseo.mda.mda:\t3\t7.500325e-03\n",
      "INFO:gemseo.mda.mda:\t4\t3.966215e-04\n",
      "INFO:gemseo.mda.mda:\t5\t1.777824e-06\n",
      "INFO:gemseo.mda.mda:\t6\t1.543283e-11\n",
      "INFO:gemseo.mda.mda:\t1\t1.219352e-01\n",
      "INFO:gemseo.mda.mda:\t2\t3.657827e-02\n",
      "INFO:gemseo.mda.mda:\t3\t7.500322e-03\n",
      "INFO:gemseo.mda.mda:\t4\t3.966210e-04\n",
      "INFO:gemseo.mda.mda:\t5\t1.777824e-06\n",
      "INFO:gemseo.mda.mda:\t6\t1.543284e-11\n",
      "INFO:gemseo.mda.mda:\t1\t1.219351e-01\n",
      "INFO:gemseo.mda.mda:\t2\t3.657825e-02\n",
      "INFO:gemseo.mda.mda:\t3\t7.500319e-03\n",
      "INFO:gemseo.mda.mda:\t4\t3.966208e-04\n",
      "INFO:gemseo.mda.mda:\t5\t1.777823e-06\n",
      "INFO:gemseo.mda.mda:\t6\t1.543284e-11\n",
      "INFO:gemseo.mda.mda:\t1\t1.219352e-01\n",
      "INFO:gemseo.mda.mda:\t2\t3.657826e-02\n",
      "INFO:gemseo.mda.mda:\t3\t7.500321e-03\n",
      "INFO:gemseo.mda.mda:\t4\t3.966210e-04\n",
      "INFO:gemseo.mda.mda:\t5\t1.777823e-06\n",
      "INFO:gemseo.mda.mda:\t6\t1.543283e-11\n",
      "INFO:gemseo.mda.mda:\t1\t1.219353e-01\n",
      "INFO:gemseo.mda.mda:\t2\t3.657829e-02\n",
      "INFO:gemseo.mda.mda:\t3\t7.500325e-03\n",
      "INFO:gemseo.mda.mda:\t4\t3.966215e-04\n",
      "INFO:gemseo.mda.mda:\t5\t1.777824e-06\n",
      "INFO:gemseo.mda.mda:\t6\t1.543283e-11\n",
      "INFO:gemseo.mda.mda:\t1\t1.219352e-01\n",
      "INFO:gemseo.mda.mda:\t2\t3.657827e-02\n",
      "INFO:gemseo.mda.mda:\t3\t7.500322e-03\n",
      "INFO:gemseo.mda.mda:\t4\t3.966210e-04\n",
      "INFO:gemseo.mda.mda:\t5\t1.777824e-06\n",
      "INFO:gemseo.mda.mda:\t6\t1.543284e-11\n",
      "INFO:gemseo.mda.mda:\t1\t1.211505e-01\n",
      "INFO:gemseo.mda.mda:\t2\t3.636659e-02\n",
      "INFO:gemseo.mda.mda:\t3\t7.465961e-03\n",
      "INFO:gemseo.mda.mda:\t4\t3.928057e-04\n",
      "INFO:gemseo.mda.mda:\t5\t1.771192e-06\n",
      "INFO:gemseo.mda.mda:\t6\t1.536992e-11\n",
      "INFO:gemseo.algos.driver_lib:Optimization:   5%|▌         | 5/100 [00:04<00:03, 24.86 it/sec, obj=13.2]\n",
      "INFO:gemseo.mda.mda:\t1\t1.211505e-01\n",
      "INFO:gemseo.mda.mda:\t2\t3.636659e-02\n",
      "INFO:gemseo.mda.mda:\t3\t7.465961e-03\n",
      "INFO:gemseo.mda.mda:\t4\t3.928057e-04\n",
      "INFO:gemseo.mda.mda:\t5\t1.771192e-06\n",
      "INFO:gemseo.mda.mda:\t6\t1.536992e-11\n",
      "INFO:gemseo.mda.mda:\t1\t1.211505e-01\n",
      "INFO:gemseo.mda.mda:\t2\t3.636659e-02\n",
      "INFO:gemseo.mda.mda:\t3\t7.465961e-03\n",
      "INFO:gemseo.mda.mda:\t4\t3.928057e-04\n",
      "INFO:gemseo.mda.mda:\t5\t1.771192e-06\n",
      "INFO:gemseo.mda.mda:\t6\t1.536992e-11\n",
      "INFO:gemseo.mda.mda:\t1\t1.211505e-01\n",
      "INFO:gemseo.mda.mda:\t2\t3.636659e-02\n",
      "INFO:gemseo.mda.mda:\t3\t7.465961e-03\n",
      "INFO:gemseo.mda.mda:\t4\t3.928057e-04\n",
      "INFO:gemseo.mda.mda:\t5\t1.771192e-06\n",
      "INFO:gemseo.mda.mda:\t6\t1.536992e-11\n",
      "INFO:gemseo.mda.mda:\t1\t1.211505e-01\n",
      "INFO:gemseo.mda.mda:\t2\t3.636659e-02\n",
      "INFO:gemseo.mda.mda:\t3\t7.465962e-03\n",
      "INFO:gemseo.mda.mda:\t4\t3.928059e-04\n",
      "INFO:gemseo.mda.mda:\t5\t1.771192e-06\n",
      "INFO:gemseo.mda.mda:\t6\t1.536992e-11\n",
      "INFO:gemseo.mda.mda:\t1\t1.211506e-01\n",
      "INFO:gemseo.mda.mda:\t2\t3.636662e-02\n",
      "INFO:gemseo.mda.mda:\t3\t7.465967e-03\n",
      "INFO:gemseo.mda.mda:\t4\t3.928064e-04\n"
     ]
    },
    {
     "name": "stderr",
     "output_type": "stream",
     "text": [
      "INFO:gemseo.mda.mda:\t5\t1.771193e-06\n",
      "INFO:gemseo.mda.mda:\t6\t1.536993e-11\n",
      "INFO:gemseo.mda.mda:\t1\t1.211505e-01\n",
      "INFO:gemseo.mda.mda:\t2\t3.636660e-02\n",
      "INFO:gemseo.mda.mda:\t3\t7.465963e-03\n",
      "INFO:gemseo.mda.mda:\t4\t3.928059e-04\n",
      "INFO:gemseo.mda.mda:\t5\t1.771193e-06\n",
      "INFO:gemseo.mda.mda:\t6\t1.536992e-11\n",
      "INFO:gemseo.mda.mda:\t1\t1.211505e-01\n",
      "INFO:gemseo.mda.mda:\t2\t3.636659e-02\n",
      "INFO:gemseo.mda.mda:\t3\t7.465961e-03\n",
      "INFO:gemseo.mda.mda:\t4\t3.928057e-04\n",
      "INFO:gemseo.mda.mda:\t5\t1.771192e-06\n",
      "INFO:gemseo.mda.mda:\t6\t1.536992e-11\n",
      "INFO:gemseo.mda.mda:\t1\t1.211505e-01\n",
      "INFO:gemseo.mda.mda:\t2\t3.636659e-02\n",
      "INFO:gemseo.mda.mda:\t3\t7.465962e-03\n",
      "INFO:gemseo.mda.mda:\t4\t3.928059e-04\n",
      "INFO:gemseo.mda.mda:\t5\t1.771192e-06\n",
      "INFO:gemseo.mda.mda:\t6\t1.536992e-11\n",
      "INFO:gemseo.mda.mda:\t1\t1.211506e-01\n",
      "INFO:gemseo.mda.mda:\t2\t3.636662e-02\n",
      "INFO:gemseo.mda.mda:\t3\t7.465967e-03\n",
      "INFO:gemseo.mda.mda:\t4\t3.928064e-04\n",
      "INFO:gemseo.mda.mda:\t5\t1.771193e-06\n",
      "INFO:gemseo.mda.mda:\t6\t1.536993e-11\n",
      "INFO:gemseo.mda.mda:\t1\t1.211505e-01\n",
      "INFO:gemseo.mda.mda:\t2\t3.636660e-02\n",
      "INFO:gemseo.mda.mda:\t3\t7.465963e-03\n",
      "INFO:gemseo.mda.mda:\t4\t3.928059e-04\n",
      "INFO:gemseo.mda.mda:\t5\t1.771193e-06\n",
      "INFO:gemseo.mda.mda:\t6\t1.536992e-11\n",
      "INFO:gemseo.mda.mda:\t1\t1.211505e-01\n",
      "INFO:gemseo.mda.mda:\t2\t3.636659e-02\n",
      "INFO:gemseo.mda.mda:\t3\t7.465961e-03\n",
      "INFO:gemseo.mda.mda:\t4\t3.928057e-04\n",
      "INFO:gemseo.mda.mda:\t5\t1.771192e-06\n",
      "INFO:gemseo.mda.mda:\t6\t1.536992e-11\n",
      "INFO:gemseo.mda.mda:\t1\t1.211505e-01\n",
      "INFO:gemseo.mda.mda:\t2\t3.636659e-02\n",
      "INFO:gemseo.mda.mda:\t3\t7.465962e-03\n",
      "INFO:gemseo.mda.mda:\t4\t3.928059e-04\n",
      "INFO:gemseo.mda.mda:\t5\t1.771192e-06\n",
      "INFO:gemseo.mda.mda:\t6\t1.536992e-11\n",
      "INFO:gemseo.mda.mda:\t1\t1.211506e-01\n",
      "INFO:gemseo.mda.mda:\t2\t3.636662e-02\n",
      "INFO:gemseo.mda.mda:\t3\t7.465967e-03\n",
      "INFO:gemseo.mda.mda:\t4\t3.928064e-04\n",
      "INFO:gemseo.mda.mda:\t5\t1.771193e-06\n",
      "INFO:gemseo.mda.mda:\t6\t1.536993e-11\n",
      "INFO:gemseo.mda.mda:\t1\t1.211505e-01\n",
      "INFO:gemseo.mda.mda:\t2\t3.636660e-02\n",
      "INFO:gemseo.mda.mda:\t3\t7.465963e-03\n",
      "INFO:gemseo.mda.mda:\t4\t3.928059e-04\n",
      "INFO:gemseo.mda.mda:\t5\t1.771193e-06\n",
      "INFO:gemseo.mda.mda:\t6\t1.536992e-11\n",
      "INFO:gemseo.mda.mda:\t1\t1.211492e-01\n",
      "INFO:gemseo.mda.mda:\t2\t3.636624e-02\n",
      "INFO:gemseo.mda.mda:\t3\t7.465905e-03\n",
      "INFO:gemseo.mda.mda:\t4\t3.927996e-04\n",
      "INFO:gemseo.mda.mda:\t5\t1.771181e-06\n",
      "INFO:gemseo.mda.mda:\t6\t1.536980e-11\n",
      "INFO:gemseo.algos.driver_lib:Optimization:   6%|▌         | 6/100 [00:05<00:04, 19.17 it/sec, obj=13.2]\n",
      "INFO:gemseo.mda.mda:\t1\t1.211492e-01\n",
      "INFO:gemseo.mda.mda:\t2\t3.636624e-02\n",
      "INFO:gemseo.mda.mda:\t3\t7.465905e-03\n",
      "INFO:gemseo.mda.mda:\t4\t3.927996e-04\n",
      "INFO:gemseo.mda.mda:\t5\t1.771181e-06\n",
      "INFO:gemseo.mda.mda:\t6\t1.536980e-11\n",
      "INFO:gemseo.mda.mda:\t1\t1.211492e-01\n",
      "INFO:gemseo.mda.mda:\t2\t3.636624e-02\n",
      "INFO:gemseo.mda.mda:\t3\t7.465905e-03\n",
      "INFO:gemseo.mda.mda:\t4\t3.927996e-04\n",
      "INFO:gemseo.mda.mda:\t5\t1.771181e-06\n",
      "INFO:gemseo.mda.mda:\t6\t1.536980e-11\n",
      "INFO:gemseo.mda.mda:\t1\t1.211492e-01\n",
      "INFO:gemseo.mda.mda:\t2\t3.636624e-02\n",
      "INFO:gemseo.mda.mda:\t3\t7.465905e-03\n",
      "INFO:gemseo.mda.mda:\t4\t3.927996e-04\n",
      "INFO:gemseo.mda.mda:\t5\t1.771181e-06\n",
      "INFO:gemseo.mda.mda:\t6\t1.536980e-11\n",
      "INFO:gemseo.mda.mda:\t1\t1.211492e-01\n",
      "INFO:gemseo.mda.mda:\t2\t3.636625e-02\n",
      "INFO:gemseo.mda.mda:\t3\t7.465907e-03\n",
      "INFO:gemseo.mda.mda:\t4\t3.927998e-04\n",
      "INFO:gemseo.mda.mda:\t5\t1.771181e-06\n",
      "INFO:gemseo.mda.mda:\t6\t1.536982e-11\n",
      "INFO:gemseo.mda.mda:\t1\t1.211493e-01\n",
      "INFO:gemseo.mda.mda:\t2\t3.636628e-02\n",
      "INFO:gemseo.mda.mda:\t3\t7.465911e-03\n",
      "INFO:gemseo.mda.mda:\t4\t3.928002e-04\n",
      "INFO:gemseo.mda.mda:\t5\t1.771182e-06\n",
      "INFO:gemseo.mda.mda:\t6\t1.536982e-11\n",
      "INFO:gemseo.mda.mda:\t1\t1.211492e-01\n",
      "INFO:gemseo.mda.mda:\t2\t3.636626e-02\n",
      "INFO:gemseo.mda.mda:\t3\t7.465908e-03\n",
      "INFO:gemseo.mda.mda:\t4\t3.927997e-04\n",
      "INFO:gemseo.mda.mda:\t5\t1.771182e-06\n",
      "INFO:gemseo.mda.mda:\t6\t1.536982e-11\n",
      "INFO:gemseo.mda.mda:\t1\t1.211492e-01\n",
      "INFO:gemseo.mda.mda:\t2\t3.636624e-02\n",
      "INFO:gemseo.mda.mda:\t3\t7.465905e-03\n",
      "INFO:gemseo.mda.mda:\t4\t3.927996e-04\n",
      "INFO:gemseo.mda.mda:\t5\t1.771181e-06\n",
      "INFO:gemseo.mda.mda:\t6\t1.536980e-11\n",
      "INFO:gemseo.mda.mda:\t1\t1.211492e-01\n",
      "INFO:gemseo.mda.mda:\t2\t3.636625e-02\n",
      "INFO:gemseo.mda.mda:\t3\t7.465907e-03\n",
      "INFO:gemseo.mda.mda:\t4\t3.927998e-04\n",
      "INFO:gemseo.mda.mda:\t5\t1.771181e-06\n",
      "INFO:gemseo.mda.mda:\t6\t1.536982e-11\n",
      "INFO:gemseo.mda.mda:\t1\t1.211493e-01\n",
      "INFO:gemseo.mda.mda:\t2\t3.636628e-02\n",
      "INFO:gemseo.mda.mda:\t3\t7.465911e-03\n",
      "INFO:gemseo.mda.mda:\t4\t3.928002e-04\n",
      "INFO:gemseo.mda.mda:\t5\t1.771182e-06\n",
      "INFO:gemseo.mda.mda:\t6\t1.536982e-11\n",
      "INFO:gemseo.mda.mda:\t1\t1.211492e-01\n",
      "INFO:gemseo.mda.mda:\t2\t3.636626e-02\n",
      "INFO:gemseo.mda.mda:\t3\t7.465908e-03\n",
      "INFO:gemseo.mda.mda:\t4\t3.927997e-04\n",
      "INFO:gemseo.mda.mda:\t5\t1.771182e-06\n",
      "INFO:gemseo.mda.mda:\t6\t1.536982e-11\n",
      "INFO:gemseo.mda.mda:\t1\t1.211492e-01\n",
      "INFO:gemseo.mda.mda:\t2\t3.636624e-02\n",
      "INFO:gemseo.mda.mda:\t3\t7.465905e-03\n",
      "INFO:gemseo.mda.mda:\t4\t3.927996e-04\n",
      "INFO:gemseo.mda.mda:\t5\t1.771181e-06\n",
      "INFO:gemseo.mda.mda:\t6\t1.536980e-11\n",
      "INFO:gemseo.mda.mda:\t1\t1.211492e-01\n",
      "INFO:gemseo.mda.mda:\t2\t3.636625e-02\n",
      "INFO:gemseo.mda.mda:\t3\t7.465907e-03\n",
      "INFO:gemseo.mda.mda:\t4\t3.927998e-04\n",
      "INFO:gemseo.mda.mda:\t5\t1.771181e-06\n",
      "INFO:gemseo.mda.mda:\t6\t1.536982e-11\n",
      "INFO:gemseo.mda.mda:\t1\t1.211493e-01\n",
      "INFO:gemseo.mda.mda:\t2\t3.636628e-02\n",
      "INFO:gemseo.mda.mda:\t3\t7.465911e-03\n",
      "INFO:gemseo.mda.mda:\t4\t3.928002e-04\n",
      "INFO:gemseo.mda.mda:\t5\t1.771182e-06\n",
      "INFO:gemseo.mda.mda:\t6\t1.536982e-11\n",
      "INFO:gemseo.mda.mda:\t1\t1.211492e-01\n",
      "INFO:gemseo.mda.mda:\t2\t3.636626e-02\n",
      "INFO:gemseo.mda.mda:\t3\t7.465908e-03\n",
      "INFO:gemseo.mda.mda:\t4\t3.927997e-04\n",
      "INFO:gemseo.mda.mda:\t5\t1.771182e-06\n",
      "INFO:gemseo.mda.mda:\t6\t1.536982e-11\n",
      "INFO:gemseo.mda.mda:\t1\t1.211492e-01\n",
      "INFO:gemseo.mda.mda:\t2\t3.636624e-02\n",
      "INFO:gemseo.mda.mda:\t3\t7.465905e-03\n",
      "INFO:gemseo.mda.mda:\t4\t3.927996e-04\n",
      "INFO:gemseo.mda.mda:\t5\t1.771181e-06\n",
      "INFO:gemseo.mda.mda:\t6\t1.536982e-11\n",
      "INFO:gemseo.algos.driver_lib:Optimization:   7%|▋         | 7/100 [00:06<00:06, 15.44 it/sec, obj=13.2]\n",
      "INFO:gemseo.algos.driver_lib:Optimization:   7%|▋         | 7/100 [00:06<00:06, 15.43 it/sec, obj=13.2]\n",
      "INFO:gemseo.algos.driver_lib:Optimization result:\n",
      "Objective value = 13.183393951825037\n",
      "The result is feasible.\n",
      "Status: None\n",
      "Optimizer message: Successive iterates of the objective function are closer than ftol_rel or ftol_abs. GEMSEO Stopped the driver\n",
      "Number of calls to the objective function by the optimizer: 8\n",
      "Constraints values:\n",
      "   optim.SellarOptimScenario.c_1 = -1.7629631088311726e-10\n",
      "   optim.SellarOptimScenario.c_2 = -20.244722233420987\n",
      "INFO:gemseo.algos.driver_lib:Design space:\n",
      "+-----------------------------+-------------+-----------------------+-------------+-------+\n",
      "| name                        | lower_bound |         value         | upper_bound | type  |\n",
      "+-----------------------------+-------------+-----------------------+-------------+-------+\n",
      "| optim.SellarOptimScenario.x |      0      | 8.980798836528404e-15 |      10     | float |\n",
      "| optim.SellarOptimScenario.z |     -10     |    1.97763888349013   |      10     | float |\n",
      "| optim.SellarOptimScenario.z |      0      | 4.046089894103668e-15 |      10     | float |\n",
      "+-----------------------------+-------------+-----------------------+-------------+-------+\n",
      "INFO:gemseo.core.mdo_scenario:*** MDO Scenario run terminated in 0:00:06.503931 ***\n",
      "INFO:SoS.EE.SoSOptimScenario:Post run at xopt\n",
      "INFO:SoS.EE.SoSOptimScenario:Executing at xopt point [8.98079884e-15 1.97763888e+00 4.04608989e-15]\n",
      "INFO:SoS.EE.SoSOptimScenario:x_opt from problem solution is [8.98079884e-15 1.97763888e+00 4.04608989e-15]\n",
      "INFO:SoS.EE.SoSOptimScenario:list of functions to evaluate [optim.SellarOptimScenario.c_1(optim.SellarOptimScenario.x, optim.SellarOptimScenario.z) <= 0.0, optim.SellarOptimScenario.c_2(optim.SellarOptimScenario.x, optim.SellarOptimScenario.z) <= 0.0, optim.SellarOptimScenario.obj(optim.SellarOptimScenario.x, optim.SellarOptimScenario.z)]\n",
      "INFO:gemseo.mda.mda:\t1\t1.211492e-01\n",
      "INFO:gemseo.mda.mda:\t2\t3.636624e-02\n",
      "INFO:gemseo.mda.mda:\t3\t7.465905e-03\n",
      "INFO:gemseo.mda.mda:\t4\t3.927996e-04\n",
      "INFO:gemseo.mda.mda:\t5\t1.771181e-06\n",
      "INFO:gemseo.mda.mda:\t6\t1.536980e-11\n",
      "INFO:gemseo.mda.mda:\t1\t1.211492e-01\n",
      "INFO:gemseo.mda.mda:\t2\t3.636624e-02\n",
      "INFO:gemseo.mda.mda:\t3\t7.465905e-03\n",
      "INFO:gemseo.mda.mda:\t4\t3.927996e-04\n",
      "INFO:gemseo.mda.mda:\t5\t1.771181e-06\n",
      "INFO:gemseo.mda.mda:\t6\t1.536980e-11\n",
      "INFO:gemseo.mda.mda:\t1\t1.211492e-01\n",
      "INFO:gemseo.mda.mda:\t2\t3.636624e-02\n",
      "INFO:gemseo.mda.mda:\t3\t7.465905e-03\n",
      "INFO:gemseo.mda.mda:\t4\t3.927996e-04\n",
      "INFO:gemseo.mda.mda:\t5\t1.771181e-06\n"
     ]
    },
    {
     "name": "stderr",
     "output_type": "stream",
     "text": [
      "INFO:gemseo.mda.mda:\t6\t1.536980e-11\n",
      "INFO:SoS.EE:PROCESS EXECUTION optim ENDS.\n"
     ]
    },
    {
     "data": {
      "text/plain": [
       "{'optim.SellarOptimScenario.max_iter': array([100]),\n",
       " 'optim.SellarOptimScenario.ineq_constraints': [1, 1],\n",
       " 'optim.SellarOptimScenario.eq_constraints': [],\n",
       " 'optim.SellarOptimScenario.algo': 1,\n",
       " 'optim.SellarOptimScenario.design_space': array(['x', 'z', 'y_1', 'y_2', list([1.0]), list([5.0, 2.0]), list([1.0]),\n",
       "        list([1.0]), list([0.0]), list([-10.0, 0.0]), list([-100.0]),\n",
       "        list([-100.0]), list([10.0]), list([10.0, 10.0]), list([100.0]),\n",
       "        list([100.0]), True, True, True, True, list([True]),\n",
       "        list([True, True]), list([True]), list([True])], dtype=object),\n",
       " 'optim.SellarOptimScenario.formulation': 1,\n",
       " 'optim.SellarOptimScenario.objective_name': 1,\n",
       " 'optim.SellarOptimScenario.differentiation_method': 1,\n",
       " 'optim.SellarOptimScenario.algo_options': array([1.00e-09, 1.00e-09, 1.00e-05, 1.00e-09, 0.00e+00, 0.00e+00,\n",
       "        1.00e-02, 1.00e-05, 9.99e+02, 0.00e+00]),\n",
       " 'optim.SellarOptimScenario.parallel_options': array([0., 8., 0., 0.]),\n",
       " 'optim.SellarOptimScenario.design_space_out': array(['x', 'z', 'y_1', 'y_2', list([8.980798836528404e-15]),\n",
       "        list([1.9776388834901295, 4.046089894103668e-15]), list([1.0]),\n",
       "        list([1.0]), list([0.0]), list([-10.0, 0.0]), list([-100.0]),\n",
       "        list([-100.0]), list([10.0]), list([10.0, 10.0]), list([100.0]),\n",
       "        list([100.0]), True, True, True, True, list([True]),\n",
       "        list([True, True]), list([True]), list([True])], dtype=object)}"
      ]
     },
     "execution_count": 30,
     "metadata": {},
     "output_type": "execute_result"
    }
   ],
   "source": [
    "res = exec_eng.execute()\n",
    "res"
   ]
  },
  {
   "cell_type": "code",
   "execution_count": 31,
   "id": "8583d37d",
   "metadata": {},
   "outputs": [],
   "source": [
    "# retrieve discipline to check the result...\n",
    "opt_disc = exec_eng.dm.get_disciplines_with_name(\"optim.\" + sc_name)[0]"
   ]
  },
  {
   "cell_type": "code",
   "execution_count": 32,
   "id": "e1f84c6c",
   "metadata": {},
   "outputs": [
    {
     "data": {
      "text/plain": [
       "sos_trades_core.execution_engine.sos_optim_scenario.SoSOptimScenario"
      ]
     },
     "execution_count": 32,
     "metadata": {},
     "output_type": "execute_result"
    }
   ],
   "source": [
    "type(opt_disc)"
   ]
  },
  {
   "cell_type": "code",
   "execution_count": 33,
   "id": "c69efdbb",
   "metadata": {},
   "outputs": [
    {
     "data": {
      "text/plain": [
       "'optim.SellarOptimScenario'"
      ]
     },
     "execution_count": 33,
     "metadata": {},
     "output_type": "execute_result"
    }
   ],
   "source": [
    "opt_disc.get_disc_full_name()"
   ]
  },
  {
   "cell_type": "code",
   "execution_count": 34,
   "id": "3e3739d7",
   "metadata": {},
   "outputs": [],
   "source": [
    "DESC_IN = opt_disc.DESC_IN\n",
    "DESC_OUT = opt_disc.DESC_OUT\n",
    "DESC_IN_df = pd.DataFrame.from_dict(DESC_IN,orient='index')\n",
    "DESC_OUT_df = pd.DataFrame.from_dict(DESC_OUT,orient='index')"
   ]
  },
  {
   "cell_type": "code",
   "execution_count": 35,
   "id": "74a9db48",
   "metadata": {},
   "outputs": [
    {
     "data": {
      "text/html": [
       "<div>\n",
       "<style scoped>\n",
       "    .dataframe tbody tr th:only-of-type {\n",
       "        vertical-align: middle;\n",
       "    }\n",
       "\n",
       "    .dataframe tbody tr th {\n",
       "        vertical-align: top;\n",
       "    }\n",
       "\n",
       "    .dataframe thead th {\n",
       "        text-align: right;\n",
       "    }\n",
       "</style>\n",
       "<table border=\"1\" class=\"dataframe\">\n",
       "  <thead>\n",
       "    <tr style=\"text-align: right;\">\n",
       "      <th></th>\n",
       "      <th>type</th>\n",
       "      <th>default</th>\n",
       "      <th>structuring</th>\n",
       "      <th>possible_values</th>\n",
       "      <th>dataframe_descriptor</th>\n",
       "      <th>dataframe_edition_locked</th>\n",
       "    </tr>\n",
       "  </thead>\n",
       "  <tbody>\n",
       "    <tr>\n",
       "      <th>max_iter</th>\n",
       "      <td>float</td>\n",
       "      <td>NaN</td>\n",
       "      <td>NaN</td>\n",
       "      <td>NaN</td>\n",
       "      <td>NaN</td>\n",
       "      <td>NaN</td>\n",
       "    </tr>\n",
       "    <tr>\n",
       "      <th>ineq_constraints</th>\n",
       "      <td>string_list</td>\n",
       "      <td>[]</td>\n",
       "      <td>True</td>\n",
       "      <td>NaN</td>\n",
       "      <td>NaN</td>\n",
       "      <td>NaN</td>\n",
       "    </tr>\n",
       "    <tr>\n",
       "      <th>eq_constraints</th>\n",
       "      <td>string_list</td>\n",
       "      <td>[]</td>\n",
       "      <td>True</td>\n",
       "      <td>NaN</td>\n",
       "      <td>NaN</td>\n",
       "      <td>NaN</td>\n",
       "    </tr>\n",
       "    <tr>\n",
       "      <th>algo</th>\n",
       "      <td>string</td>\n",
       "      <td>NaN</td>\n",
       "      <td>True</td>\n",
       "      <td>NaN</td>\n",
       "      <td>NaN</td>\n",
       "      <td>NaN</td>\n",
       "    </tr>\n",
       "    <tr>\n",
       "      <th>design_space</th>\n",
       "      <td>dataframe</td>\n",
       "      <td>NaN</td>\n",
       "      <td>True</td>\n",
       "      <td>NaN</td>\n",
       "      <td>NaN</td>\n",
       "      <td>NaN</td>\n",
       "    </tr>\n",
       "    <tr>\n",
       "      <th>formulation</th>\n",
       "      <td>string</td>\n",
       "      <td>NaN</td>\n",
       "      <td>True</td>\n",
       "      <td>NaN</td>\n",
       "      <td>NaN</td>\n",
       "      <td>NaN</td>\n",
       "    </tr>\n",
       "    <tr>\n",
       "      <th>maximize_objective</th>\n",
       "      <td>bool</td>\n",
       "      <td>False</td>\n",
       "      <td>True</td>\n",
       "      <td>NaN</td>\n",
       "      <td>NaN</td>\n",
       "      <td>NaN</td>\n",
       "    </tr>\n",
       "    <tr>\n",
       "      <th>objective_name</th>\n",
       "      <td>string</td>\n",
       "      <td>NaN</td>\n",
       "      <td>True</td>\n",
       "      <td>NaN</td>\n",
       "      <td>NaN</td>\n",
       "      <td>NaN</td>\n",
       "    </tr>\n",
       "    <tr>\n",
       "      <th>differentiation_method</th>\n",
       "      <td>string</td>\n",
       "      <td>finite_differences</td>\n",
       "      <td>True</td>\n",
       "      <td>[user, finite_differences, complex_step]</td>\n",
       "      <td>NaN</td>\n",
       "      <td>NaN</td>\n",
       "    </tr>\n",
       "    <tr>\n",
       "      <th>algo_options</th>\n",
       "      <td>dict</td>\n",
       "      <td>NaN</td>\n",
       "      <td>True</td>\n",
       "      <td>NaN</td>\n",
       "      <td>{'variable': ('string', None, False), 'value':...</td>\n",
       "      <td>False</td>\n",
       "    </tr>\n",
       "    <tr>\n",
       "      <th>parallel_options</th>\n",
       "      <td>dict</td>\n",
       "      <td>{'parallel': False, 'n_processes': 8, 'use_thr...</td>\n",
       "      <td>True</td>\n",
       "      <td>NaN</td>\n",
       "      <td>{'variable': ('string', None, False), 'value':...</td>\n",
       "      <td>False</td>\n",
       "    </tr>\n",
       "    <tr>\n",
       "      <th>eval_mode</th>\n",
       "      <td>bool</td>\n",
       "      <td>False</td>\n",
       "      <td>True</td>\n",
       "      <td>[True, False]</td>\n",
       "      <td>NaN</td>\n",
       "      <td>NaN</td>\n",
       "    </tr>\n",
       "    <tr>\n",
       "      <th>eval_jac</th>\n",
       "      <td>bool</td>\n",
       "      <td>False</td>\n",
       "      <td>NaN</td>\n",
       "      <td>[True, False]</td>\n",
       "      <td>NaN</td>\n",
       "      <td>NaN</td>\n",
       "    </tr>\n",
       "    <tr>\n",
       "      <th>execute_at_xopt</th>\n",
       "      <td>bool</td>\n",
       "      <td>True</td>\n",
       "      <td>NaN</td>\n",
       "      <td>NaN</td>\n",
       "      <td>NaN</td>\n",
       "      <td>NaN</td>\n",
       "    </tr>\n",
       "  </tbody>\n",
       "</table>\n",
       "</div>"
      ],
      "text/plain": [
       "                               type  \\\n",
       "max_iter                      float   \n",
       "ineq_constraints        string_list   \n",
       "eq_constraints          string_list   \n",
       "algo                         string   \n",
       "design_space              dataframe   \n",
       "formulation                  string   \n",
       "maximize_objective             bool   \n",
       "objective_name               string   \n",
       "differentiation_method       string   \n",
       "algo_options                   dict   \n",
       "parallel_options               dict   \n",
       "eval_mode                      bool   \n",
       "eval_jac                       bool   \n",
       "execute_at_xopt                bool   \n",
       "\n",
       "                                                                  default  \\\n",
       "max_iter                                                              NaN   \n",
       "ineq_constraints                                                       []   \n",
       "eq_constraints                                                         []   \n",
       "algo                                                                  NaN   \n",
       "design_space                                                          NaN   \n",
       "formulation                                                           NaN   \n",
       "maximize_objective                                                  False   \n",
       "objective_name                                                        NaN   \n",
       "differentiation_method                                 finite_differences   \n",
       "algo_options                                                          NaN   \n",
       "parallel_options        {'parallel': False, 'n_processes': 8, 'use_thr...   \n",
       "eval_mode                                                           False   \n",
       "eval_jac                                                            False   \n",
       "execute_at_xopt                                                      True   \n",
       "\n",
       "                       structuring                           possible_values  \\\n",
       "max_iter                       NaN                                       NaN   \n",
       "ineq_constraints              True                                       NaN   \n",
       "eq_constraints                True                                       NaN   \n",
       "algo                          True                                       NaN   \n",
       "design_space                  True                                       NaN   \n",
       "formulation                   True                                       NaN   \n",
       "maximize_objective            True                                       NaN   \n",
       "objective_name                True                                       NaN   \n",
       "differentiation_method        True  [user, finite_differences, complex_step]   \n",
       "algo_options                  True                                       NaN   \n",
       "parallel_options              True                                       NaN   \n",
       "eval_mode                     True                             [True, False]   \n",
       "eval_jac                       NaN                             [True, False]   \n",
       "execute_at_xopt                NaN                                       NaN   \n",
       "\n",
       "                                                     dataframe_descriptor  \\\n",
       "max_iter                                                              NaN   \n",
       "ineq_constraints                                                      NaN   \n",
       "eq_constraints                                                        NaN   \n",
       "algo                                                                  NaN   \n",
       "design_space                                                          NaN   \n",
       "formulation                                                           NaN   \n",
       "maximize_objective                                                    NaN   \n",
       "objective_name                                                        NaN   \n",
       "differentiation_method                                                NaN   \n",
       "algo_options            {'variable': ('string', None, False), 'value':...   \n",
       "parallel_options        {'variable': ('string', None, False), 'value':...   \n",
       "eval_mode                                                             NaN   \n",
       "eval_jac                                                              NaN   \n",
       "execute_at_xopt                                                       NaN   \n",
       "\n",
       "                       dataframe_edition_locked  \n",
       "max_iter                                    NaN  \n",
       "ineq_constraints                            NaN  \n",
       "eq_constraints                              NaN  \n",
       "algo                                        NaN  \n",
       "design_space                                NaN  \n",
       "formulation                                 NaN  \n",
       "maximize_objective                          NaN  \n",
       "objective_name                              NaN  \n",
       "differentiation_method                      NaN  \n",
       "algo_options                              False  \n",
       "parallel_options                          False  \n",
       "eval_mode                                   NaN  \n",
       "eval_jac                                    NaN  \n",
       "execute_at_xopt                             NaN  "
      ]
     },
     "execution_count": 35,
     "metadata": {},
     "output_type": "execute_result"
    }
   ],
   "source": [
    "DESC_IN_df"
   ]
  },
  {
   "cell_type": "code",
   "execution_count": 36,
   "id": "adb4ffc1",
   "metadata": {},
   "outputs": [
    {
     "data": {
      "text/html": [
       "<div>\n",
       "<style scoped>\n",
       "    .dataframe tbody tr th:only-of-type {\n",
       "        vertical-align: middle;\n",
       "    }\n",
       "\n",
       "    .dataframe tbody tr th {\n",
       "        vertical-align: top;\n",
       "    }\n",
       "\n",
       "    .dataframe thead th {\n",
       "        text-align: right;\n",
       "    }\n",
       "</style>\n",
       "<table border=\"1\" class=\"dataframe\">\n",
       "  <thead>\n",
       "    <tr style=\"text-align: right;\">\n",
       "      <th></th>\n",
       "      <th>type</th>\n",
       "    </tr>\n",
       "  </thead>\n",
       "  <tbody>\n",
       "    <tr>\n",
       "      <th>design_space_out</th>\n",
       "      <td>dataframe</td>\n",
       "    </tr>\n",
       "  </tbody>\n",
       "</table>\n",
       "</div>"
      ],
      "text/plain": [
       "                       type\n",
       "design_space_out  dataframe"
      ]
     },
     "execution_count": 36,
     "metadata": {},
     "output_type": "execute_result"
    }
   ],
   "source": [
    "DESC_OUT_df"
   ]
  },
  {
   "cell_type": "code",
   "execution_count": 37,
   "id": "8764423a",
   "metadata": {},
   "outputs": [
    {
     "data": {
      "text/html": [
       "<div>\n",
       "<style scoped>\n",
       "    .dataframe tbody tr th:only-of-type {\n",
       "        vertical-align: middle;\n",
       "    }\n",
       "\n",
       "    .dataframe tbody tr th {\n",
       "        vertical-align: top;\n",
       "    }\n",
       "\n",
       "    .dataframe thead th {\n",
       "        text-align: right;\n",
       "    }\n",
       "</style>\n",
       "<table border=\"1\" class=\"dataframe\">\n",
       "  <thead>\n",
       "    <tr style=\"text-align: right;\">\n",
       "      <th></th>\n",
       "      <th>variable</th>\n",
       "      <th>value</th>\n",
       "      <th>lower_bnd</th>\n",
       "      <th>upper_bnd</th>\n",
       "      <th>enable_variable</th>\n",
       "      <th>activated_elem</th>\n",
       "    </tr>\n",
       "  </thead>\n",
       "  <tbody>\n",
       "    <tr>\n",
       "      <th>0</th>\n",
       "      <td>x</td>\n",
       "      <td>[1.0]</td>\n",
       "      <td>[0.0]</td>\n",
       "      <td>[10.0]</td>\n",
       "      <td>True</td>\n",
       "      <td>[True]</td>\n",
       "    </tr>\n",
       "    <tr>\n",
       "      <th>1</th>\n",
       "      <td>z</td>\n",
       "      <td>[5.0, 2.0]</td>\n",
       "      <td>[-10.0, 0.0]</td>\n",
       "      <td>[10.0, 10.0]</td>\n",
       "      <td>True</td>\n",
       "      <td>[True, True]</td>\n",
       "    </tr>\n",
       "    <tr>\n",
       "      <th>2</th>\n",
       "      <td>y_1</td>\n",
       "      <td>[1.0]</td>\n",
       "      <td>[-100.0]</td>\n",
       "      <td>[100.0]</td>\n",
       "      <td>True</td>\n",
       "      <td>[True]</td>\n",
       "    </tr>\n",
       "    <tr>\n",
       "      <th>3</th>\n",
       "      <td>y_2</td>\n",
       "      <td>[1.0]</td>\n",
       "      <td>[-100.0]</td>\n",
       "      <td>[100.0]</td>\n",
       "      <td>True</td>\n",
       "      <td>[True]</td>\n",
       "    </tr>\n",
       "  </tbody>\n",
       "</table>\n",
       "</div>"
      ],
      "text/plain": [
       "  variable       value     lower_bnd     upper_bnd  enable_variable  \\\n",
       "0        x       [1.0]         [0.0]        [10.0]             True   \n",
       "1        z  [5.0, 2.0]  [-10.0, 0.0]  [10.0, 10.0]             True   \n",
       "2      y_1       [1.0]      [-100.0]       [100.0]             True   \n",
       "3      y_2       [1.0]      [-100.0]       [100.0]             True   \n",
       "\n",
       "  activated_elem  \n",
       "0         [True]  \n",
       "1   [True, True]  \n",
       "2         [True]  \n",
       "3         [True]  "
      ]
     },
     "execution_count": 37,
     "metadata": {},
     "output_type": "execute_result"
    }
   ],
   "source": [
    "opt_disc.get_data_io_dict('in')['design_space']['value']"
   ]
  },
  {
   "cell_type": "code",
   "execution_count": 38,
   "id": "4d1f11fc",
   "metadata": {},
   "outputs": [
    {
     "data": {
      "text/plain": [
       "'MDF'"
      ]
     },
     "execution_count": 38,
     "metadata": {},
     "output_type": "execute_result"
    }
   ],
   "source": [
    "opt_disc.get_data_io_dict('in')['formulation']['value']"
   ]
  },
  {
   "cell_type": "code",
   "execution_count": 39,
   "id": "aa4f59c4",
   "metadata": {},
   "outputs": [
    {
     "data": {
      "text/plain": [
       "'SLSQP'"
      ]
     },
     "execution_count": 39,
     "metadata": {},
     "output_type": "execute_result"
    }
   ],
   "source": [
    "opt_disc.get_data_io_dict('in')['algo']['value']"
   ]
  },
  {
   "cell_type": "code",
   "execution_count": 40,
   "id": "13834b50",
   "metadata": {},
   "outputs": [
    {
     "data": {
      "text/plain": [
       "'obj'"
      ]
     },
     "execution_count": 40,
     "metadata": {},
     "output_type": "execute_result"
    }
   ],
   "source": [
    "opt_disc.get_data_io_dict('in')['objective_name']['value']"
   ]
  },
  {
   "cell_type": "code",
   "execution_count": 41,
   "id": "8add250d",
   "metadata": {},
   "outputs": [],
   "source": [
    "sellar1 = exec_eng.dm.get_disciplines_with_name(\"optim.\" + \"SellarOptimScenario.Sellar_1\")[0]"
   ]
  },
  {
   "cell_type": "code",
   "execution_count": 42,
   "id": "0463f5e9",
   "metadata": {},
   "outputs": [
    {
     "data": {
      "text/plain": [
       "sos_trades_core.sos_wrapping.test_discs.sellar.Sellar1"
      ]
     },
     "execution_count": 42,
     "metadata": {},
     "output_type": "execute_result"
    }
   ],
   "source": [
    "type(sellar1)"
   ]
  },
  {
   "cell_type": "code",
   "execution_count": 43,
   "id": "173e9156",
   "metadata": {},
   "outputs": [],
   "source": [
    "DESC_IN = sellar1.DESC_IN\n",
    "DESC_OUT = sellar1.DESC_OUT\n",
    "DESC_IN_df = pd.DataFrame.from_dict(DESC_IN,orient='index')\n",
    "DESC_OUT_df = pd.DataFrame.from_dict(DESC_OUT,orient='index')"
   ]
  },
  {
   "cell_type": "code",
   "execution_count": 44,
   "id": "b503c7fa",
   "metadata": {},
   "outputs": [
    {
     "data": {
      "text/html": [
       "<div>\n",
       "<style scoped>\n",
       "    .dataframe tbody tr th:only-of-type {\n",
       "        vertical-align: middle;\n",
       "    }\n",
       "\n",
       "    .dataframe tbody tr th {\n",
       "        vertical-align: top;\n",
       "    }\n",
       "\n",
       "    .dataframe thead th {\n",
       "        text-align: right;\n",
       "    }\n",
       "</style>\n",
       "<table border=\"1\" class=\"dataframe\">\n",
       "  <thead>\n",
       "    <tr style=\"text-align: right;\">\n",
       "      <th></th>\n",
       "      <th>type</th>\n",
       "      <th>visibility</th>\n",
       "      <th>namespace</th>\n",
       "    </tr>\n",
       "  </thead>\n",
       "  <tbody>\n",
       "    <tr>\n",
       "      <th>x</th>\n",
       "      <td>float</td>\n",
       "      <td>Shared</td>\n",
       "      <td>ns_OptimSellar</td>\n",
       "    </tr>\n",
       "    <tr>\n",
       "      <th>y_2</th>\n",
       "      <td>float</td>\n",
       "      <td>Shared</td>\n",
       "      <td>ns_OptimSellar</td>\n",
       "    </tr>\n",
       "    <tr>\n",
       "      <th>z</th>\n",
       "      <td>array</td>\n",
       "      <td>Shared</td>\n",
       "      <td>ns_OptimSellar</td>\n",
       "    </tr>\n",
       "  </tbody>\n",
       "</table>\n",
       "</div>"
      ],
      "text/plain": [
       "      type visibility       namespace\n",
       "x    float     Shared  ns_OptimSellar\n",
       "y_2  float     Shared  ns_OptimSellar\n",
       "z    array     Shared  ns_OptimSellar"
      ]
     },
     "execution_count": 44,
     "metadata": {},
     "output_type": "execute_result"
    }
   ],
   "source": [
    "DESC_IN_df"
   ]
  },
  {
   "cell_type": "code",
   "execution_count": 45,
   "id": "4f63fa85",
   "metadata": {},
   "outputs": [
    {
     "data": {
      "text/html": [
       "<div>\n",
       "<style scoped>\n",
       "    .dataframe tbody tr th:only-of-type {\n",
       "        vertical-align: middle;\n",
       "    }\n",
       "\n",
       "    .dataframe tbody tr th {\n",
       "        vertical-align: top;\n",
       "    }\n",
       "\n",
       "    .dataframe thead th {\n",
       "        text-align: right;\n",
       "    }\n",
       "</style>\n",
       "<table border=\"1\" class=\"dataframe\">\n",
       "  <thead>\n",
       "    <tr style=\"text-align: right;\">\n",
       "      <th></th>\n",
       "      <th>type</th>\n",
       "      <th>visibility</th>\n",
       "      <th>namespace</th>\n",
       "    </tr>\n",
       "  </thead>\n",
       "  <tbody>\n",
       "    <tr>\n",
       "      <th>y_1</th>\n",
       "      <td>float</td>\n",
       "      <td>Shared</td>\n",
       "      <td>ns_OptimSellar</td>\n",
       "    </tr>\n",
       "    <tr>\n",
       "      <th>y_1_bis</th>\n",
       "      <td>float</td>\n",
       "      <td>Shared</td>\n",
       "      <td>ns_OptimSellar</td>\n",
       "    </tr>\n",
       "  </tbody>\n",
       "</table>\n",
       "</div>"
      ],
      "text/plain": [
       "          type visibility       namespace\n",
       "y_1      float     Shared  ns_OptimSellar\n",
       "y_1_bis  float     Shared  ns_OptimSellar"
      ]
     },
     "execution_count": 45,
     "metadata": {},
     "output_type": "execute_result"
    }
   ],
   "source": [
    "DESC_OUT_df"
   ]
  },
  {
   "cell_type": "code",
   "execution_count": 46,
   "id": "a24b0116",
   "metadata": {},
   "outputs": [],
   "source": [
    "sellar2 = exec_eng.dm.get_disciplines_with_name(\"optim.\" + \"SellarOptimScenario.Sellar_2\")[0]"
   ]
  },
  {
   "cell_type": "code",
   "execution_count": 47,
   "id": "6e49bd6a",
   "metadata": {},
   "outputs": [],
   "source": [
    "DESC_IN = sellar2.DESC_IN\n",
    "DESC_OUT = sellar2.DESC_OUT\n",
    "DESC_IN_df = pd.DataFrame.from_dict(DESC_IN,orient='index')\n",
    "DESC_OUT_df = pd.DataFrame.from_dict(DESC_OUT,orient='index')"
   ]
  },
  {
   "cell_type": "code",
   "execution_count": 48,
   "id": "bd9e607a",
   "metadata": {},
   "outputs": [
    {
     "data": {
      "text/html": [
       "<div>\n",
       "<style scoped>\n",
       "    .dataframe tbody tr th:only-of-type {\n",
       "        vertical-align: middle;\n",
       "    }\n",
       "\n",
       "    .dataframe tbody tr th {\n",
       "        vertical-align: top;\n",
       "    }\n",
       "\n",
       "    .dataframe thead th {\n",
       "        text-align: right;\n",
       "    }\n",
       "</style>\n",
       "<table border=\"1\" class=\"dataframe\">\n",
       "  <thead>\n",
       "    <tr style=\"text-align: right;\">\n",
       "      <th></th>\n",
       "      <th>type</th>\n",
       "      <th>visibility</th>\n",
       "      <th>namespace</th>\n",
       "      <th>default</th>\n",
       "    </tr>\n",
       "  </thead>\n",
       "  <tbody>\n",
       "    <tr>\n",
       "      <th>y_1</th>\n",
       "      <td>float</td>\n",
       "      <td>Shared</td>\n",
       "      <td>ns_OptimSellar</td>\n",
       "      <td>NaN</td>\n",
       "    </tr>\n",
       "    <tr>\n",
       "      <th>z</th>\n",
       "      <td>array</td>\n",
       "      <td>Shared</td>\n",
       "      <td>ns_OptimSellar</td>\n",
       "      <td>NaN</td>\n",
       "    </tr>\n",
       "    <tr>\n",
       "      <th>debug_mode_sellar</th>\n",
       "      <td>bool</td>\n",
       "      <td>Shared</td>\n",
       "      <td>ns_OptimSellar</td>\n",
       "      <td>False</td>\n",
       "    </tr>\n",
       "  </tbody>\n",
       "</table>\n",
       "</div>"
      ],
      "text/plain": [
       "                    type visibility       namespace default\n",
       "y_1                float     Shared  ns_OptimSellar     NaN\n",
       "z                  array     Shared  ns_OptimSellar     NaN\n",
       "debug_mode_sellar   bool     Shared  ns_OptimSellar   False"
      ]
     },
     "execution_count": 48,
     "metadata": {},
     "output_type": "execute_result"
    }
   ],
   "source": [
    "DESC_IN_df"
   ]
  },
  {
   "cell_type": "code",
   "execution_count": 49,
   "id": "848a5e1b",
   "metadata": {},
   "outputs": [
    {
     "data": {
      "text/html": [
       "<div>\n",
       "<style scoped>\n",
       "    .dataframe tbody tr th:only-of-type {\n",
       "        vertical-align: middle;\n",
       "    }\n",
       "\n",
       "    .dataframe tbody tr th {\n",
       "        vertical-align: top;\n",
       "    }\n",
       "\n",
       "    .dataframe thead th {\n",
       "        text-align: right;\n",
       "    }\n",
       "</style>\n",
       "<table border=\"1\" class=\"dataframe\">\n",
       "  <thead>\n",
       "    <tr style=\"text-align: right;\">\n",
       "      <th></th>\n",
       "      <th>type</th>\n",
       "      <th>visibility</th>\n",
       "      <th>namespace</th>\n",
       "    </tr>\n",
       "  </thead>\n",
       "  <tbody>\n",
       "    <tr>\n",
       "      <th>y_2</th>\n",
       "      <td>float</td>\n",
       "      <td>Shared</td>\n",
       "      <td>ns_OptimSellar</td>\n",
       "    </tr>\n",
       "    <tr>\n",
       "      <th>y_2_bis</th>\n",
       "      <td>float</td>\n",
       "      <td>Shared</td>\n",
       "      <td>ns_OptimSellar</td>\n",
       "    </tr>\n",
       "  </tbody>\n",
       "</table>\n",
       "</div>"
      ],
      "text/plain": [
       "          type visibility       namespace\n",
       "y_2      float     Shared  ns_OptimSellar\n",
       "y_2_bis  float     Shared  ns_OptimSellar"
      ]
     },
     "execution_count": 49,
     "metadata": {},
     "output_type": "execute_result"
    }
   ],
   "source": [
    "DESC_OUT_df"
   ]
  },
  {
   "cell_type": "code",
   "execution_count": 50,
   "id": "f4cbb66c",
   "metadata": {},
   "outputs": [],
   "source": [
    "sellarP = exec_eng.dm.get_disciplines_with_name(\"optim.\" + \"SellarOptimScenario.Sellar_Problem\")[0]"
   ]
  },
  {
   "cell_type": "code",
   "execution_count": 51,
   "id": "18d0f88d",
   "metadata": {},
   "outputs": [],
   "source": [
    "DESC_IN = sellarP.DESC_IN\n",
    "DESC_OUT = sellarP.DESC_OUT\n",
    "DESC_IN_df = pd.DataFrame.from_dict(DESC_IN,orient='index')\n",
    "DESC_OUT_df = pd.DataFrame.from_dict(DESC_OUT,orient='index')"
   ]
  },
  {
   "cell_type": "code",
   "execution_count": 52,
   "id": "6d00f9e0",
   "metadata": {},
   "outputs": [
    {
     "data": {
      "text/html": [
       "<div>\n",
       "<style scoped>\n",
       "    .dataframe tbody tr th:only-of-type {\n",
       "        vertical-align: middle;\n",
       "    }\n",
       "\n",
       "    .dataframe tbody tr th {\n",
       "        vertical-align: top;\n",
       "    }\n",
       "\n",
       "    .dataframe thead th {\n",
       "        text-align: right;\n",
       "    }\n",
       "</style>\n",
       "<table border=\"1\" class=\"dataframe\">\n",
       "  <thead>\n",
       "    <tr style=\"text-align: right;\">\n",
       "      <th></th>\n",
       "      <th>type</th>\n",
       "      <th>visibility</th>\n",
       "      <th>namespace</th>\n",
       "    </tr>\n",
       "  </thead>\n",
       "  <tbody>\n",
       "    <tr>\n",
       "      <th>x</th>\n",
       "      <td>float</td>\n",
       "      <td>Shared</td>\n",
       "      <td>ns_OptimSellar</td>\n",
       "    </tr>\n",
       "    <tr>\n",
       "      <th>y_1</th>\n",
       "      <td>float</td>\n",
       "      <td>Shared</td>\n",
       "      <td>ns_OptimSellar</td>\n",
       "    </tr>\n",
       "    <tr>\n",
       "      <th>y_2</th>\n",
       "      <td>float</td>\n",
       "      <td>Shared</td>\n",
       "      <td>ns_OptimSellar</td>\n",
       "    </tr>\n",
       "    <tr>\n",
       "      <th>z</th>\n",
       "      <td>array</td>\n",
       "      <td>Shared</td>\n",
       "      <td>ns_OptimSellar</td>\n",
       "    </tr>\n",
       "    <tr>\n",
       "      <th>local_dv</th>\n",
       "      <td>float</td>\n",
       "      <td>NaN</td>\n",
       "      <td>NaN</td>\n",
       "    </tr>\n",
       "  </tbody>\n",
       "</table>\n",
       "</div>"
      ],
      "text/plain": [
       "           type visibility       namespace\n",
       "x         float     Shared  ns_OptimSellar\n",
       "y_1       float     Shared  ns_OptimSellar\n",
       "y_2       float     Shared  ns_OptimSellar\n",
       "z         array     Shared  ns_OptimSellar\n",
       "local_dv  float        NaN             NaN"
      ]
     },
     "execution_count": 52,
     "metadata": {},
     "output_type": "execute_result"
    }
   ],
   "source": [
    "DESC_IN_df"
   ]
  },
  {
   "cell_type": "code",
   "execution_count": 53,
   "id": "f65e0dc0",
   "metadata": {},
   "outputs": [
    {
     "data": {
      "text/html": [
       "<div>\n",
       "<style scoped>\n",
       "    .dataframe tbody tr th:only-of-type {\n",
       "        vertical-align: middle;\n",
       "    }\n",
       "\n",
       "    .dataframe tbody tr th {\n",
       "        vertical-align: top;\n",
       "    }\n",
       "\n",
       "    .dataframe thead th {\n",
       "        text-align: right;\n",
       "    }\n",
       "</style>\n",
       "<table border=\"1\" class=\"dataframe\">\n",
       "  <thead>\n",
       "    <tr style=\"text-align: right;\">\n",
       "      <th></th>\n",
       "      <th>type</th>\n",
       "      <th>visibility</th>\n",
       "      <th>namespace</th>\n",
       "    </tr>\n",
       "  </thead>\n",
       "  <tbody>\n",
       "    <tr>\n",
       "      <th>c_1</th>\n",
       "      <td>array</td>\n",
       "      <td>Shared</td>\n",
       "      <td>ns_OptimSellar</td>\n",
       "    </tr>\n",
       "    <tr>\n",
       "      <th>c_2</th>\n",
       "      <td>array</td>\n",
       "      <td>Shared</td>\n",
       "      <td>ns_OptimSellar</td>\n",
       "    </tr>\n",
       "    <tr>\n",
       "      <th>obj</th>\n",
       "      <td>array</td>\n",
       "      <td>Shared</td>\n",
       "      <td>ns_OptimSellar</td>\n",
       "    </tr>\n",
       "  </tbody>\n",
       "</table>\n",
       "</div>"
      ],
      "text/plain": [
       "      type visibility       namespace\n",
       "c_1  array     Shared  ns_OptimSellar\n",
       "c_2  array     Shared  ns_OptimSellar\n",
       "obj  array     Shared  ns_OptimSellar"
      ]
     },
     "execution_count": 53,
     "metadata": {},
     "output_type": "execute_result"
    }
   ],
   "source": [
    "DESC_OUT_df"
   ]
  },
  {
   "cell_type": "code",
   "execution_count": null,
   "id": "70be4822",
   "metadata": {},
   "outputs": [],
   "source": []
  },
  {
   "cell_type": "code",
   "execution_count": null,
   "id": "c052e07d",
   "metadata": {},
   "outputs": [],
   "source": []
  },
  {
   "cell_type": "code",
   "execution_count": null,
   "id": "c52f26bb",
   "metadata": {},
   "outputs": [],
   "source": []
  },
  {
   "cell_type": "code",
   "execution_count": null,
   "id": "f71f21fb",
   "metadata": {},
   "outputs": [],
   "source": []
  },
  {
   "cell_type": "code",
   "execution_count": 54,
   "id": "f8861958",
   "metadata": {},
   "outputs": [
    {
     "data": {
      "text/plain": [
       "13.18339395"
      ]
     },
     "execution_count": 54,
     "metadata": {},
     "output_type": "execute_result"
    }
   ],
   "source": [
    "# check optimal x and f\n",
    "sellar_obj_opt = 3.18339395 + local_dv\n",
    "sellar_obj_opt"
   ]
  },
  {
   "cell_type": "code",
   "execution_count": 55,
   "id": "fd2ae1c1",
   "metadata": {},
   "outputs": [
    {
     "data": {
      "text/plain": [
       "13.183393951825037"
      ]
     },
     "execution_count": 55,
     "metadata": {},
     "output_type": "execute_result"
    }
   ],
   "source": [
    "opt_disc.optimization_result.f_opt"
   ]
  },
  {
   "cell_type": "code",
   "execution_count": 56,
   "id": "6b2e10bf",
   "metadata": {},
   "outputs": [],
   "source": [
    "exp_x = array([8.45997174e-15, 1.97763888, 0.0])"
   ]
  },
  {
   "cell_type": "code",
   "execution_count": 57,
   "id": "1b62ce1d",
   "metadata": {},
   "outputs": [
    {
     "data": {
      "text/plain": [
       "array([8.98079884e-15, 1.97763888e+00, 4.04608989e-15])"
      ]
     },
     "execution_count": 57,
     "metadata": {},
     "output_type": "execute_result"
    }
   ],
   "source": [
    "opt_disc.optimization_result.x_opt"
   ]
  },
  {
   "cell_type": "code",
   "execution_count": null,
   "id": "df756823",
   "metadata": {},
   "outputs": [],
   "source": []
  },
  {
   "cell_type": "code",
   "execution_count": null,
   "id": "6a4219ee",
   "metadata": {},
   "outputs": [],
   "source": []
  },
  {
   "cell_type": "code",
   "execution_count": null,
   "id": "859e1512",
   "metadata": {},
   "outputs": [],
   "source": []
  },
  {
   "cell_type": "code",
   "execution_count": null,
   "id": "de37adec",
   "metadata": {},
   "outputs": [],
   "source": []
  },
  {
   "cell_type": "code",
   "execution_count": null,
   "id": "d40f3691",
   "metadata": {},
   "outputs": [],
   "source": []
  },
  {
   "cell_type": "code",
   "execution_count": null,
   "id": "a767671b",
   "metadata": {},
   "outputs": [],
   "source": []
  },
  {
   "cell_type": "code",
   "execution_count": null,
   "id": "829f70d5",
   "metadata": {},
   "outputs": [],
   "source": []
  }
 ],
 "metadata": {
  "kernelspec": {
   "display_name": "Python 3 (ipykernel)",
   "language": "python",
   "name": "python3"
  },
  "language_info": {
   "codemirror_mode": {
    "name": "ipython",
    "version": 3
   },
   "file_extension": ".py",
   "mimetype": "text/x-python",
   "name": "python",
   "nbconvert_exporter": "python",
   "pygments_lexer": "ipython3",
   "version": "3.9.7"
  }
 },
 "nbformat": 4,
 "nbformat_minor": 5
}
