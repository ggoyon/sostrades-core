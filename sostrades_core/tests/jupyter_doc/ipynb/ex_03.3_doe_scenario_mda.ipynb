{
 "cells": [
  {
   "cell_type": "code",
   "execution_count": 1,
   "id": "e668b41a",
   "metadata": {},
   "outputs": [],
   "source": [
    "if 0 :\n",
    "    %matplotlib inline\n",
    "else :\n",
    "    %matplotlib notebook"
   ]
  },
  {
   "cell_type": "markdown",
   "id": "b3f4409c",
   "metadata": {},
   "source": [
    "#  Import  libraries"
   ]
  },
  {
   "cell_type": "code",
   "execution_count": 2,
   "id": "765fed52",
   "metadata": {},
   "outputs": [
    {
     "name": "stdout",
     "output_type": "stream",
     "text": [
      "C:\\Users\\ng947ac\\Documents\\Daniel\\jupyter\\SoSTrades\\jupyter_doc\\_scripts\n",
      "C:\\Users\\ng947ac\\Documents\\Daniel\\git\\workspace\n",
      "C:\\Users\\ng947ac\\Documents\\Daniel\\git\\workspace\\sosgemseo\\src\\\n",
      "C:\\Users\\ng947ac\\Documents\\Daniel\\git\\workspace\\sostrades-core\n"
     ]
    }
   ],
   "source": [
    "import sys\n",
    "import os\n",
    "module_path = os.path.abspath('.') +\"\\\\_scripts\"\n",
    "print(module_path)\n",
    "\n",
    "if module_path not in sys.path:\n",
    "    sys.path.append(module_path)\n",
    "from _00_Import_packages_git3 import *"
   ]
  },
  {
   "cell_type": "code",
   "execution_count": 3,
   "id": "f59f4096",
   "metadata": {},
   "outputs": [],
   "source": [
    "from numpy import array\n",
    "import pandas as pd\n",
    "from sos_trades_core.execution_engine.execution_engine import ExecutionEngine\n",
    "from numpy.testing import assert_array_equal, assert_array_almost_equal  # @UnresolvedImport\n",
    "import os\n",
    "from gemseo.core.mdo_scenario import MDOScenario"
   ]
  },
  {
   "cell_type": "markdown",
   "id": "dffc465e",
   "metadata": {},
   "source": [
    "# SoSDoeScenario setUp"
   ]
  },
  {
   "cell_type": "code",
   "execution_count": 4,
   "id": "7e31db5b",
   "metadata": {},
   "outputs": [
    {
     "name": "stdout",
     "output_type": "stream",
     "text": [
      "SellarDoeScenario\n"
     ]
    }
   ],
   "source": [
    "study_name = 'doe'\n",
    "ns = f'{study_name}'\n",
    "sc_name = \"SellarDoeScenario\"\n",
    "c_name = \"SellarCoupling\"\n",
    "print(sc_name)"
   ]
  },
  {
   "cell_type": "markdown",
   "id": "1f185ea9",
   "metadata": {},
   "source": [
    "See §2 for Discipmline description"
   ]
  },
  {
   "cell_type": "markdown",
   "id": "e904ceb8",
   "metadata": {},
   "source": [
    "Here we are using another process with mda:"
   ]
  },
  {
   "cell_type": "code",
   "execution_count": 5,
   "id": "0d28bc34",
   "metadata": {},
   "outputs": [],
   "source": [
    "dspace_dict = {'variable': ['x', 'z'],\n",
    "               'value': [[1.], [5., 2.]],\n",
    "               'lower_bnd': [[0.], [-10., 0.]],\n",
    "               'upper_bnd': [[10.], [10., 10.]],\n",
    "               'enable_variable': [True, True],\n",
    "               'activated_elem': [[True], [True, True]]}"
   ]
  },
  {
   "cell_type": "code",
   "execution_count": 6,
   "id": "6750b468",
   "metadata": {},
   "outputs": [
    {
     "data": {
      "text/html": [
       "<div>\n",
       "<style scoped>\n",
       "    .dataframe tbody tr th:only-of-type {\n",
       "        vertical-align: middle;\n",
       "    }\n",
       "\n",
       "    .dataframe tbody tr th {\n",
       "        vertical-align: top;\n",
       "    }\n",
       "\n",
       "    .dataframe thead th {\n",
       "        text-align: right;\n",
       "    }\n",
       "</style>\n",
       "<table border=\"1\" class=\"dataframe\">\n",
       "  <thead>\n",
       "    <tr style=\"text-align: right;\">\n",
       "      <th></th>\n",
       "      <th>variable</th>\n",
       "      <th>value</th>\n",
       "      <th>lower_bnd</th>\n",
       "      <th>upper_bnd</th>\n",
       "      <th>enable_variable</th>\n",
       "      <th>activated_elem</th>\n",
       "    </tr>\n",
       "  </thead>\n",
       "  <tbody>\n",
       "    <tr>\n",
       "      <th>0</th>\n",
       "      <td>x</td>\n",
       "      <td>[1.0]</td>\n",
       "      <td>[0.0]</td>\n",
       "      <td>[10.0]</td>\n",
       "      <td>True</td>\n",
       "      <td>[True]</td>\n",
       "    </tr>\n",
       "    <tr>\n",
       "      <th>1</th>\n",
       "      <td>z</td>\n",
       "      <td>[5.0, 2.0]</td>\n",
       "      <td>[-10.0, 0.0]</td>\n",
       "      <td>[10.0, 10.0]</td>\n",
       "      <td>True</td>\n",
       "      <td>[True, True]</td>\n",
       "    </tr>\n",
       "  </tbody>\n",
       "</table>\n",
       "</div>"
      ],
      "text/plain": [
       "  variable       value     lower_bnd     upper_bnd  enable_variable  \\\n",
       "0        x       [1.0]         [0.0]        [10.0]             True   \n",
       "1        z  [5.0, 2.0]  [-10.0, 0.0]  [10.0, 10.0]             True   \n",
       "\n",
       "  activated_elem  \n",
       "0         [True]  \n",
       "1   [True, True]  "
      ]
     },
     "execution_count": 6,
     "metadata": {},
     "output_type": "execute_result"
    }
   ],
   "source": [
    "dspace = pd.DataFrame(dspace_dict)\n",
    "dspace"
   ]
  },
  {
   "cell_type": "code",
   "execution_count": 7,
   "id": "3f57e831",
   "metadata": {},
   "outputs": [
    {
     "name": "stdout",
     "output_type": "stream",
     "text": [
      "C:\\Temp\n"
     ]
    }
   ],
   "source": [
    "from tempfile import gettempdir\n",
    "root_dir = gettempdir()\n",
    "print(root_dir)\n",
    "dspace.to_csv(root_dir+'\\\\ds.csv')"
   ]
  },
  {
   "cell_type": "code",
   "execution_count": 8,
   "id": "c2f7c314",
   "metadata": {},
   "outputs": [],
   "source": [
    "repo = 'sos_trades_core.sos_processes.test'\n",
    "proc_name =  'test_sellar_doe_discopt'"
   ]
  },
  {
   "cell_type": "markdown",
   "id": "15c0d86b",
   "metadata": {},
   "source": [
    "# Doe scenario execution"
   ]
  },
  {
   "cell_type": "markdown",
   "id": "a3d62527",
   "metadata": {},
   "source": [
    "# 1 Set Doe optim scenario lhs or fullfact"
   ]
  },
  {
   "cell_type": "code",
   "execution_count": 9,
   "id": "bf8faab2",
   "metadata": {},
   "outputs": [],
   "source": [
    "my_formulation = \"DisciplinaryOpt\"\n",
    "#my_formulation = \"MDF\"\n",
    "#my_formulation = \"IDF\"\n",
    "#my_formulation =  \"BiLevel \""
   ]
  },
  {
   "cell_type": "code",
   "execution_count": 10,
   "id": "07993237",
   "metadata": {},
   "outputs": [
    {
     "data": {
      "text/plain": [
       "['CustomDOE',\n",
       " 'DiagonalDOE',\n",
       " 'OT_SOBOL',\n",
       " 'OT_RANDOM',\n",
       " 'OT_HASELGROVE',\n",
       " 'OT_REVERSE_HALTON',\n",
       " 'OT_HALTON',\n",
       " 'OT_FAURE',\n",
       " 'OT_MONTE_CARLO',\n",
       " 'OT_FACTORIAL',\n",
       " 'OT_COMPOSITE',\n",
       " 'OT_AXIAL',\n",
       " 'OT_OPT_LHS',\n",
       " 'OT_LHS',\n",
       " 'OT_LHSC',\n",
       " 'OT_FULLFACT',\n",
       " 'OT_SOBOL_INDICES',\n",
       " 'fullfact',\n",
       " 'ff2n',\n",
       " 'pbdesign',\n",
       " 'bbdesign',\n",
       " 'ccdesign',\n",
       " 'lhs']"
      ]
     },
     "execution_count": 10,
     "metadata": {},
     "output_type": "execute_result"
    }
   ],
   "source": [
    "from gemseo.api import (\n",
    "    configure_logger,\n",
    "    get_algorithm_options_schema,\n",
    "    get_available_doe_algorithms,\n",
    ")\n",
    "get_available_doe_algorithms()"
   ]
  },
  {
   "cell_type": "code",
   "execution_count": 11,
   "id": "4d3cc9a0",
   "metadata": {},
   "outputs": [],
   "source": [
    "my_doe_algo = \"lhs\"\n",
    "#my_doe_algo = \"fullfact\""
   ]
  },
  {
   "cell_type": "code",
   "execution_count": 12,
   "id": "bfad3df9",
   "metadata": {},
   "outputs": [
    {
     "name": "stdout",
     "output_type": "stream",
     "text": [
      "\n",
      " Sellar doe solution check with  DisciplinaryOpt  formulation\n"
     ]
    }
   ],
   "source": [
    "print(\"\\n Sellar doe solution check with \",my_formulation ,\" formulation\")"
   ]
  },
  {
   "cell_type": "code",
   "execution_count": 13,
   "id": "5e8b2920",
   "metadata": {},
   "outputs": [
    {
     "name": "stderr",
     "output_type": "stream",
     "text": [
      "INFO:SoS.EE:configuring ...\n",
      "INFO:SoS.EE.Coupling:The MDA solver of the Coupling doe.SellarDoeScenario.SellarCoupling is set to MDAJacobi\n",
      "WARNING:gemseo.mda.mda_chain:No coupling in MDA, switching chain_linearize to True\n",
      "INFO:SoS.EE.Coupling:The MDA solver of the Coupling doe is set to MDAJacobi\n"
     ]
    }
   ],
   "source": [
    "exec_eng = ExecutionEngine(study_name)\n",
    "factory = exec_eng.factory\n",
    "builder = factory.get_builder_from_process(repo=repo,mod_id=proc_name)\n",
    "exec_eng.factory.set_builders_to_coupling_builder(builder)\n",
    "exec_eng.configure()"
   ]
  },
  {
   "cell_type": "code",
   "execution_count": 14,
   "id": "603209f3",
   "metadata": {},
   "outputs": [
    {
     "name": "stderr",
     "output_type": "stream",
     "text": [
      "INFO:SoS.EE:Nodes representation for Treeview doe\n",
      "|_ doe\n",
      "\t|_ SellarDoeScenario\n",
      "\t\t|_ SellarCoupling\n",
      "\t\t\t|_ Sellar_2\n",
      "\t\t\t|_ Sellar_1\n",
      "\t\t\t|_ Sellar_Problem\n"
     ]
    },
    {
     "data": {
      "text/plain": [
       "'Nodes representation for Treeview doe\\n|_ doe\\n\\t|_ SellarDoeScenario\\n\\t\\t|_ SellarCoupling\\n\\t\\t\\t|_ Sellar_2\\n\\t\\t\\t|_ Sellar_1\\n\\t\\t\\t|_ Sellar_Problem'"
      ]
     },
     "execution_count": 14,
     "metadata": {},
     "output_type": "execute_result"
    }
   ],
   "source": [
    "exec_eng.display_treeview_nodes()"
   ]
  },
  {
   "cell_type": "code",
   "execution_count": 15,
   "id": "d4cd4c8a",
   "metadata": {},
   "outputs": [
    {
     "data": {
      "text/plain": [
       "'MDAJacobi'"
      ]
     },
     "execution_count": 15,
     "metadata": {},
     "output_type": "execute_result"
    }
   ],
   "source": [
    "exec_eng.dm.get_data('doe.sub_mda_class')['value']"
   ]
  },
  {
   "cell_type": "markdown",
   "id": "2e0afe56",
   "metadata": {},
   "source": [
    "Possible algo options:"
   ]
  },
  {
   "cell_type": "code",
   "execution_count": 16,
   "id": "a5efd6cd",
   "metadata": {},
   "outputs": [
    {
     "name": "stdout",
     "output_type": "stream",
     "text": [
      "['criterion', 'iterations', 'n_samples', 'eval_jac', 'n_processes', 'wait_time_between_samples', 'seed', 'max_time']\n"
     ]
    }
   ],
   "source": [
    "from gemseo.algos.doe.doe_factory import DOEFactory\n",
    "driver_lib = DOEFactory().create(my_doe_algo)\n",
    "driver_lib.init_options_grammar(my_doe_algo)\n",
    "algo_options_keys = list(driver_lib.opt_grammar.properties_dict.keys())\n",
    "print(algo_options_keys)"
   ]
  },
  {
   "cell_type": "markdown",
   "id": "d19d5030",
   "metadata": {},
   "source": [
    "We can use or not eval mode"
   ]
  },
  {
   "cell_type": "code",
   "execution_count": 17,
   "id": "658c1cf7",
   "metadata": {},
   "outputs": [
    {
     "data": {
      "text/plain": [
       "{'doe.SellarDoeScenario.n_samples': 100,\n",
       " 'doe.SellarDoeScenario.algo': 'lhs',\n",
       " 'doe.SellarDoeScenario.design_space':   variable       value     lower_bnd     upper_bnd  enable_variable  \\\n",
       " 0        x       [1.0]         [0.0]        [10.0]             True   \n",
       " 1        z  [5.0, 2.0]  [-10.0, 0.0]  [10.0, 10.0]             True   \n",
       " \n",
       "   activated_elem  \n",
       " 0         [True]  \n",
       " 1   [True, True]  ,\n",
       " 'doe.SellarDoeScenario.formulation': 'DisciplinaryOpt',\n",
       " 'doe.SellarDoeScenario.objective_name': 'obj',\n",
       " 'doe.SellarDoeScenario.algo_options': {'levels': 'None'}}"
      ]
     },
     "execution_count": 17,
     "metadata": {},
     "output_type": "execute_result"
    }
   ],
   "source": [
    "#-- set up disciplines in Scenario\n",
    "disc_dict = {}\n",
    "# Doe inputs\n",
    "disc_dict[f'{ns}.SellarDoeScenario.n_samples'] = 100\n",
    "# 'lhs', 'CustomDOE', 'fullfact', ...\n",
    "disc_dict[f'{ns}.SellarDoeScenario.algo'] = my_doe_algo\n",
    "disc_dict[f'{ns}.SellarDoeScenario.design_space'] = dspace\n",
    "\n",
    "disc_dict[f'{ns}.SellarDoeScenario.formulation'] = my_formulation\n",
    "disc_dict[f'{ns}.SellarDoeScenario.objective_name'] = 'obj'\n",
    "#disc_dict[f'{ns}.SellarDoeScenario.ineq_constraints'] = [f'c_1', f'c_2']\n",
    "disc_dict[f'{ns}.SellarDoeScenario.algo_options'] = {'levels': 'None'\n",
    "                                            }\n",
    "#disc_dict[f'{ns}.SellarDoeScenario.eval_mode'] = True\n",
    "\n",
    "disc_dict"
   ]
  },
  {
   "cell_type": "markdown",
   "id": "38556f7c",
   "metadata": {},
   "source": [
    "Remark: in fact it is a <b> DoE optim </b> (with 'obj' variable taken as obj function) ! Here dspace variable was used."
   ]
  },
  {
   "cell_type": "code",
   "execution_count": 18,
   "id": "c782484c",
   "metadata": {},
   "outputs": [
    {
     "data": {
      "text/html": [
       "<div>\n",
       "<style scoped>\n",
       "    .dataframe tbody tr th:only-of-type {\n",
       "        vertical-align: middle;\n",
       "    }\n",
       "\n",
       "    .dataframe tbody tr th {\n",
       "        vertical-align: top;\n",
       "    }\n",
       "\n",
       "    .dataframe thead th {\n",
       "        text-align: right;\n",
       "    }\n",
       "</style>\n",
       "<table border=\"1\" class=\"dataframe\">\n",
       "  <thead>\n",
       "    <tr style=\"text-align: right;\">\n",
       "      <th></th>\n",
       "      <th>0</th>\n",
       "    </tr>\n",
       "  </thead>\n",
       "  <tbody>\n",
       "    <tr>\n",
       "      <th>doe.SellarDoeScenario.n_samples</th>\n",
       "      <td>100</td>\n",
       "    </tr>\n",
       "    <tr>\n",
       "      <th>doe.SellarDoeScenario.algo</th>\n",
       "      <td>lhs</td>\n",
       "    </tr>\n",
       "    <tr>\n",
       "      <th>doe.SellarDoeScenario.design_space</th>\n",
       "      <td>variable       value     lower_bnd     upper...</td>\n",
       "    </tr>\n",
       "    <tr>\n",
       "      <th>doe.SellarDoeScenario.formulation</th>\n",
       "      <td>DisciplinaryOpt</td>\n",
       "    </tr>\n",
       "    <tr>\n",
       "      <th>doe.SellarDoeScenario.objective_name</th>\n",
       "      <td>obj</td>\n",
       "    </tr>\n",
       "    <tr>\n",
       "      <th>doe.SellarDoeScenario.algo_options</th>\n",
       "      <td>{'levels': 'None'}</td>\n",
       "    </tr>\n",
       "  </tbody>\n",
       "</table>\n",
       "</div>"
      ],
      "text/plain": [
       "                                                                                      0\n",
       "doe.SellarDoeScenario.n_samples                                                     100\n",
       "doe.SellarDoeScenario.algo                                                          lhs\n",
       "doe.SellarDoeScenario.design_space      variable       value     lower_bnd     upper...\n",
       "doe.SellarDoeScenario.formulation                                       DisciplinaryOpt\n",
       "doe.SellarDoeScenario.objective_name                                                obj\n",
       "doe.SellarDoeScenario.algo_options                                   {'levels': 'None'}"
      ]
     },
     "execution_count": 18,
     "metadata": {},
     "output_type": "execute_result"
    }
   ],
   "source": [
    "pd.DataFrame.from_dict(disc_dict,orient='index')"
   ]
  },
  {
   "cell_type": "markdown",
   "id": "2581ca27",
   "metadata": {},
   "source": [
    "Here : use of load_study_from_input_dict() method"
   ]
  },
  {
   "cell_type": "code",
   "execution_count": 19,
   "id": "20e79291",
   "metadata": {},
   "outputs": [
    {
     "name": "stderr",
     "output_type": "stream",
     "text": [
      "INFO:SoS.EE:configuring ...\n",
      "WARNING:SoS.EE.SoSDOEScenario:option levels is not in option list of the algorithm\n",
      "INFO:SoS.EE.Coupling:The MDA solver of the Coupling doe.SellarDoeScenario.SellarCoupling is set to MDAJacobi\n",
      "WARNING:SoS.EE.SoSDOEScenario:The differentiation method \"finite_differences\" will overload the linearization mode \"auto\" \n",
      "INFO:SoS.EE:configuring ...\n",
      "INFO:SoS.EE.Coupling:The MDA solver of the Coupling doe.SellarDoeScenario.SellarCoupling is set to MDAJacobi\n",
      "WARNING:SoS.EE.SoSDOEScenario:The differentiation method \"finite_differences\" will overload the linearization mode \"auto\" \n",
      "INFO:SoS.EE:configuring ...\n",
      "WARNING:SoS.EE.SoSDOEScenario:The differentiation method \"finite_differences\" will overload the linearization mode \"auto\" \n",
      "INFO:SoS.EE:configuring ...\n",
      "WARNING:gemseo.mda.mda_chain:No coupling in MDA, switching chain_linearize to True\n",
      "INFO:SoS.EE.Coupling:The MDA solver of the Coupling doe is set to MDAJacobi\n",
      "ERROR:SoS.EE.DataManager:Variable: doe.SellarDoeScenario.SellarCoupling.x value is not set!\n",
      "ERROR:SoS.EE.DataManager:Variable: doe.SellarDoeScenario.SellarCoupling.z value is not set!\n",
      "ERROR:SoS.EE.DataManager:Variable: doe.SellarDoeScenario.SellarCoupling.Sellar_Problem.local_dv value is not set!\n"
     ]
    }
   ],
   "source": [
    "exec_eng.load_study_from_input_dict(disc_dict)"
   ]
  },
  {
   "cell_type": "markdown",
   "id": "3d091459",
   "metadata": {},
   "source": [
    "# 2 Display Disciplines I/O variables"
   ]
  },
  {
   "cell_type": "markdown",
   "id": "36700a4d",
   "metadata": {},
   "source": [
    "Here \"SellarCoupling\" has been added in name:"
   ]
  },
  {
   "cell_type": "code",
   "execution_count": 20,
   "id": "8add250d",
   "metadata": {},
   "outputs": [],
   "source": [
    "sellar1 = exec_eng.dm.get_disciplines_with_name(\"doe.\" + \"SellarDoeScenario.SellarCoupling.Sellar_1\")[0]"
   ]
  },
  {
   "cell_type": "code",
   "execution_count": 21,
   "id": "0463f5e9",
   "metadata": {},
   "outputs": [
    {
     "data": {
      "text/plain": [
       "sos_trades_core.sos_wrapping.test_discs.sellar.Sellar1"
      ]
     },
     "execution_count": 21,
     "metadata": {},
     "output_type": "execute_result"
    }
   ],
   "source": [
    "type(sellar1)"
   ]
  },
  {
   "cell_type": "code",
   "execution_count": 22,
   "id": "173e9156",
   "metadata": {},
   "outputs": [],
   "source": [
    "DESC_IN = sellar1.DESC_IN\n",
    "DESC_OUT = sellar1.DESC_OUT\n",
    "DESC_IN_df = pd.DataFrame.from_dict(DESC_IN,orient='index')\n",
    "DESC_OUT_df = pd.DataFrame.from_dict(DESC_OUT,orient='index')"
   ]
  },
  {
   "cell_type": "code",
   "execution_count": 23,
   "id": "b503c7fa",
   "metadata": {},
   "outputs": [
    {
     "data": {
      "text/html": [
       "<div>\n",
       "<style scoped>\n",
       "    .dataframe tbody tr th:only-of-type {\n",
       "        vertical-align: middle;\n",
       "    }\n",
       "\n",
       "    .dataframe tbody tr th {\n",
       "        vertical-align: top;\n",
       "    }\n",
       "\n",
       "    .dataframe thead th {\n",
       "        text-align: right;\n",
       "    }\n",
       "</style>\n",
       "<table border=\"1\" class=\"dataframe\">\n",
       "  <thead>\n",
       "    <tr style=\"text-align: right;\">\n",
       "      <th></th>\n",
       "      <th>type</th>\n",
       "      <th>visibility</th>\n",
       "      <th>namespace</th>\n",
       "    </tr>\n",
       "  </thead>\n",
       "  <tbody>\n",
       "    <tr>\n",
       "      <th>x</th>\n",
       "      <td>float</td>\n",
       "      <td>Shared</td>\n",
       "      <td>ns_OptimSellar</td>\n",
       "    </tr>\n",
       "    <tr>\n",
       "      <th>y_2</th>\n",
       "      <td>float</td>\n",
       "      <td>Shared</td>\n",
       "      <td>ns_OptimSellar</td>\n",
       "    </tr>\n",
       "    <tr>\n",
       "      <th>z</th>\n",
       "      <td>array</td>\n",
       "      <td>Shared</td>\n",
       "      <td>ns_OptimSellar</td>\n",
       "    </tr>\n",
       "  </tbody>\n",
       "</table>\n",
       "</div>"
      ],
      "text/plain": [
       "      type visibility       namespace\n",
       "x    float     Shared  ns_OptimSellar\n",
       "y_2  float     Shared  ns_OptimSellar\n",
       "z    array     Shared  ns_OptimSellar"
      ]
     },
     "execution_count": 23,
     "metadata": {},
     "output_type": "execute_result"
    }
   ],
   "source": [
    "DESC_IN_df"
   ]
  },
  {
   "cell_type": "code",
   "execution_count": 24,
   "id": "4f63fa85",
   "metadata": {},
   "outputs": [
    {
     "data": {
      "text/html": [
       "<div>\n",
       "<style scoped>\n",
       "    .dataframe tbody tr th:only-of-type {\n",
       "        vertical-align: middle;\n",
       "    }\n",
       "\n",
       "    .dataframe tbody tr th {\n",
       "        vertical-align: top;\n",
       "    }\n",
       "\n",
       "    .dataframe thead th {\n",
       "        text-align: right;\n",
       "    }\n",
       "</style>\n",
       "<table border=\"1\" class=\"dataframe\">\n",
       "  <thead>\n",
       "    <tr style=\"text-align: right;\">\n",
       "      <th></th>\n",
       "      <th>type</th>\n",
       "      <th>visibility</th>\n",
       "      <th>namespace</th>\n",
       "    </tr>\n",
       "  </thead>\n",
       "  <tbody>\n",
       "    <tr>\n",
       "      <th>y_1</th>\n",
       "      <td>float</td>\n",
       "      <td>Shared</td>\n",
       "      <td>ns_OptimSellar</td>\n",
       "    </tr>\n",
       "    <tr>\n",
       "      <th>y_1_bis</th>\n",
       "      <td>float</td>\n",
       "      <td>Shared</td>\n",
       "      <td>ns_OptimSellar</td>\n",
       "    </tr>\n",
       "  </tbody>\n",
       "</table>\n",
       "</div>"
      ],
      "text/plain": [
       "          type visibility       namespace\n",
       "y_1      float     Shared  ns_OptimSellar\n",
       "y_1_bis  float     Shared  ns_OptimSellar"
      ]
     },
     "execution_count": 24,
     "metadata": {},
     "output_type": "execute_result"
    }
   ],
   "source": [
    "DESC_OUT_df"
   ]
  },
  {
   "cell_type": "code",
   "execution_count": 25,
   "id": "a24b0116",
   "metadata": {},
   "outputs": [],
   "source": [
    "sellar2 = exec_eng.dm.get_disciplines_with_name(\"doe.\" + \"SellarDoeScenario.SellarCoupling.Sellar_2\")[0]"
   ]
  },
  {
   "cell_type": "code",
   "execution_count": 26,
   "id": "6e49bd6a",
   "metadata": {},
   "outputs": [],
   "source": [
    "DESC_IN = sellar2.DESC_IN\n",
    "DESC_OUT = sellar2.DESC_OUT\n",
    "DESC_IN_df = pd.DataFrame.from_dict(DESC_IN,orient='index')\n",
    "DESC_OUT_df = pd.DataFrame.from_dict(DESC_OUT,orient='index')"
   ]
  },
  {
   "cell_type": "code",
   "execution_count": 27,
   "id": "bd9e607a",
   "metadata": {},
   "outputs": [
    {
     "data": {
      "text/html": [
       "<div>\n",
       "<style scoped>\n",
       "    .dataframe tbody tr th:only-of-type {\n",
       "        vertical-align: middle;\n",
       "    }\n",
       "\n",
       "    .dataframe tbody tr th {\n",
       "        vertical-align: top;\n",
       "    }\n",
       "\n",
       "    .dataframe thead th {\n",
       "        text-align: right;\n",
       "    }\n",
       "</style>\n",
       "<table border=\"1\" class=\"dataframe\">\n",
       "  <thead>\n",
       "    <tr style=\"text-align: right;\">\n",
       "      <th></th>\n",
       "      <th>type</th>\n",
       "      <th>visibility</th>\n",
       "      <th>namespace</th>\n",
       "      <th>default</th>\n",
       "    </tr>\n",
       "  </thead>\n",
       "  <tbody>\n",
       "    <tr>\n",
       "      <th>y_1</th>\n",
       "      <td>float</td>\n",
       "      <td>Shared</td>\n",
       "      <td>ns_OptimSellar</td>\n",
       "      <td>NaN</td>\n",
       "    </tr>\n",
       "    <tr>\n",
       "      <th>z</th>\n",
       "      <td>array</td>\n",
       "      <td>Shared</td>\n",
       "      <td>ns_OptimSellar</td>\n",
       "      <td>NaN</td>\n",
       "    </tr>\n",
       "    <tr>\n",
       "      <th>debug_mode_sellar</th>\n",
       "      <td>bool</td>\n",
       "      <td>Shared</td>\n",
       "      <td>ns_OptimSellar</td>\n",
       "      <td>False</td>\n",
       "    </tr>\n",
       "  </tbody>\n",
       "</table>\n",
       "</div>"
      ],
      "text/plain": [
       "                    type visibility       namespace default\n",
       "y_1                float     Shared  ns_OptimSellar     NaN\n",
       "z                  array     Shared  ns_OptimSellar     NaN\n",
       "debug_mode_sellar   bool     Shared  ns_OptimSellar   False"
      ]
     },
     "execution_count": 27,
     "metadata": {},
     "output_type": "execute_result"
    }
   ],
   "source": [
    "DESC_IN_df"
   ]
  },
  {
   "cell_type": "code",
   "execution_count": 28,
   "id": "848a5e1b",
   "metadata": {},
   "outputs": [
    {
     "data": {
      "text/html": [
       "<div>\n",
       "<style scoped>\n",
       "    .dataframe tbody tr th:only-of-type {\n",
       "        vertical-align: middle;\n",
       "    }\n",
       "\n",
       "    .dataframe tbody tr th {\n",
       "        vertical-align: top;\n",
       "    }\n",
       "\n",
       "    .dataframe thead th {\n",
       "        text-align: right;\n",
       "    }\n",
       "</style>\n",
       "<table border=\"1\" class=\"dataframe\">\n",
       "  <thead>\n",
       "    <tr style=\"text-align: right;\">\n",
       "      <th></th>\n",
       "      <th>type</th>\n",
       "      <th>visibility</th>\n",
       "      <th>namespace</th>\n",
       "    </tr>\n",
       "  </thead>\n",
       "  <tbody>\n",
       "    <tr>\n",
       "      <th>y_2</th>\n",
       "      <td>float</td>\n",
       "      <td>Shared</td>\n",
       "      <td>ns_OptimSellar</td>\n",
       "    </tr>\n",
       "    <tr>\n",
       "      <th>y_2_bis</th>\n",
       "      <td>float</td>\n",
       "      <td>Shared</td>\n",
       "      <td>ns_OptimSellar</td>\n",
       "    </tr>\n",
       "  </tbody>\n",
       "</table>\n",
       "</div>"
      ],
      "text/plain": [
       "          type visibility       namespace\n",
       "y_2      float     Shared  ns_OptimSellar\n",
       "y_2_bis  float     Shared  ns_OptimSellar"
      ]
     },
     "execution_count": 28,
     "metadata": {},
     "output_type": "execute_result"
    }
   ],
   "source": [
    "DESC_OUT_df"
   ]
  },
  {
   "cell_type": "code",
   "execution_count": 29,
   "id": "f4cbb66c",
   "metadata": {},
   "outputs": [],
   "source": [
    "sellarP = exec_eng.dm.get_disciplines_with_name(\"doe.\" + \"SellarDoeScenario.SellarCoupling.Sellar_Problem\")[0]"
   ]
  },
  {
   "cell_type": "code",
   "execution_count": 30,
   "id": "18d0f88d",
   "metadata": {},
   "outputs": [],
   "source": [
    "DESC_IN = sellarP.DESC_IN\n",
    "DESC_OUT = sellarP.DESC_OUT\n",
    "DESC_IN_df = pd.DataFrame.from_dict(DESC_IN,orient='index')\n",
    "DESC_OUT_df = pd.DataFrame.from_dict(DESC_OUT,orient='index')"
   ]
  },
  {
   "cell_type": "code",
   "execution_count": 31,
   "id": "6d00f9e0",
   "metadata": {},
   "outputs": [
    {
     "data": {
      "text/html": [
       "<div>\n",
       "<style scoped>\n",
       "    .dataframe tbody tr th:only-of-type {\n",
       "        vertical-align: middle;\n",
       "    }\n",
       "\n",
       "    .dataframe tbody tr th {\n",
       "        vertical-align: top;\n",
       "    }\n",
       "\n",
       "    .dataframe thead th {\n",
       "        text-align: right;\n",
       "    }\n",
       "</style>\n",
       "<table border=\"1\" class=\"dataframe\">\n",
       "  <thead>\n",
       "    <tr style=\"text-align: right;\">\n",
       "      <th></th>\n",
       "      <th>type</th>\n",
       "      <th>visibility</th>\n",
       "      <th>namespace</th>\n",
       "    </tr>\n",
       "  </thead>\n",
       "  <tbody>\n",
       "    <tr>\n",
       "      <th>x</th>\n",
       "      <td>float</td>\n",
       "      <td>Shared</td>\n",
       "      <td>ns_OptimSellar</td>\n",
       "    </tr>\n",
       "    <tr>\n",
       "      <th>y_1</th>\n",
       "      <td>float</td>\n",
       "      <td>Shared</td>\n",
       "      <td>ns_OptimSellar</td>\n",
       "    </tr>\n",
       "    <tr>\n",
       "      <th>y_2</th>\n",
       "      <td>float</td>\n",
       "      <td>Shared</td>\n",
       "      <td>ns_OptimSellar</td>\n",
       "    </tr>\n",
       "    <tr>\n",
       "      <th>z</th>\n",
       "      <td>array</td>\n",
       "      <td>Shared</td>\n",
       "      <td>ns_OptimSellar</td>\n",
       "    </tr>\n",
       "    <tr>\n",
       "      <th>local_dv</th>\n",
       "      <td>float</td>\n",
       "      <td>NaN</td>\n",
       "      <td>NaN</td>\n",
       "    </tr>\n",
       "  </tbody>\n",
       "</table>\n",
       "</div>"
      ],
      "text/plain": [
       "           type visibility       namespace\n",
       "x         float     Shared  ns_OptimSellar\n",
       "y_1       float     Shared  ns_OptimSellar\n",
       "y_2       float     Shared  ns_OptimSellar\n",
       "z         array     Shared  ns_OptimSellar\n",
       "local_dv  float        NaN             NaN"
      ]
     },
     "execution_count": 31,
     "metadata": {},
     "output_type": "execute_result"
    }
   ],
   "source": [
    "DESC_IN_df"
   ]
  },
  {
   "cell_type": "code",
   "execution_count": 32,
   "id": "f65e0dc0",
   "metadata": {
    "scrolled": false
   },
   "outputs": [
    {
     "data": {
      "text/html": [
       "<div>\n",
       "<style scoped>\n",
       "    .dataframe tbody tr th:only-of-type {\n",
       "        vertical-align: middle;\n",
       "    }\n",
       "\n",
       "    .dataframe tbody tr th {\n",
       "        vertical-align: top;\n",
       "    }\n",
       "\n",
       "    .dataframe thead th {\n",
       "        text-align: right;\n",
       "    }\n",
       "</style>\n",
       "<table border=\"1\" class=\"dataframe\">\n",
       "  <thead>\n",
       "    <tr style=\"text-align: right;\">\n",
       "      <th></th>\n",
       "      <th>type</th>\n",
       "      <th>visibility</th>\n",
       "      <th>namespace</th>\n",
       "    </tr>\n",
       "  </thead>\n",
       "  <tbody>\n",
       "    <tr>\n",
       "      <th>c_1</th>\n",
       "      <td>array</td>\n",
       "      <td>Shared</td>\n",
       "      <td>ns_OptimSellar</td>\n",
       "    </tr>\n",
       "    <tr>\n",
       "      <th>c_2</th>\n",
       "      <td>array</td>\n",
       "      <td>Shared</td>\n",
       "      <td>ns_OptimSellar</td>\n",
       "    </tr>\n",
       "    <tr>\n",
       "      <th>obj</th>\n",
       "      <td>array</td>\n",
       "      <td>Shared</td>\n",
       "      <td>ns_OptimSellar</td>\n",
       "    </tr>\n",
       "  </tbody>\n",
       "</table>\n",
       "</div>"
      ],
      "text/plain": [
       "      type visibility       namespace\n",
       "c_1  array     Shared  ns_OptimSellar\n",
       "c_2  array     Shared  ns_OptimSellar\n",
       "obj  array     Shared  ns_OptimSellar"
      ]
     },
     "execution_count": 32,
     "metadata": {},
     "output_type": "execute_result"
    }
   ],
   "source": [
    "DESC_OUT_df"
   ]
  },
  {
   "cell_type": "markdown",
   "id": "991eb848",
   "metadata": {},
   "source": [
    "Here we also have SellarCoupling discipline:"
   ]
  },
  {
   "cell_type": "code",
   "execution_count": 33,
   "id": "19009385",
   "metadata": {},
   "outputs": [],
   "source": [
    "sellarCoupling = exec_eng.dm.get_disciplines_with_name(\"doe.\" + \"SellarDoeScenario.SellarCoupling\")[0]"
   ]
  },
  {
   "cell_type": "code",
   "execution_count": 34,
   "id": "3099fb48",
   "metadata": {},
   "outputs": [
    {
     "data": {
      "text/plain": [
       "sos_trades_core.execution_engine.sos_coupling.SoSCoupling"
      ]
     },
     "execution_count": 34,
     "metadata": {},
     "output_type": "execute_result"
    }
   ],
   "source": [
    "type(sellarCoupling)"
   ]
  },
  {
   "cell_type": "code",
   "execution_count": 35,
   "id": "9c4516dc",
   "metadata": {},
   "outputs": [],
   "source": [
    "DESC_IN = sellar2.DESC_IN\n",
    "DESC_OUT = sellar2.DESC_OUT\n",
    "DESC_IN_df = pd.DataFrame.from_dict(DESC_IN,orient='index')\n",
    "DESC_OUT_df = pd.DataFrame.from_dict(DESC_OUT,orient='index')"
   ]
  },
  {
   "cell_type": "code",
   "execution_count": 36,
   "id": "1fa6b237",
   "metadata": {},
   "outputs": [
    {
     "data": {
      "text/html": [
       "<div>\n",
       "<style scoped>\n",
       "    .dataframe tbody tr th:only-of-type {\n",
       "        vertical-align: middle;\n",
       "    }\n",
       "\n",
       "    .dataframe tbody tr th {\n",
       "        vertical-align: top;\n",
       "    }\n",
       "\n",
       "    .dataframe thead th {\n",
       "        text-align: right;\n",
       "    }\n",
       "</style>\n",
       "<table border=\"1\" class=\"dataframe\">\n",
       "  <thead>\n",
       "    <tr style=\"text-align: right;\">\n",
       "      <th></th>\n",
       "      <th>type</th>\n",
       "      <th>visibility</th>\n",
       "      <th>namespace</th>\n",
       "      <th>default</th>\n",
       "    </tr>\n",
       "  </thead>\n",
       "  <tbody>\n",
       "    <tr>\n",
       "      <th>y_1</th>\n",
       "      <td>float</td>\n",
       "      <td>Shared</td>\n",
       "      <td>ns_OptimSellar</td>\n",
       "      <td>NaN</td>\n",
       "    </tr>\n",
       "    <tr>\n",
       "      <th>z</th>\n",
       "      <td>array</td>\n",
       "      <td>Shared</td>\n",
       "      <td>ns_OptimSellar</td>\n",
       "      <td>NaN</td>\n",
       "    </tr>\n",
       "    <tr>\n",
       "      <th>debug_mode_sellar</th>\n",
       "      <td>bool</td>\n",
       "      <td>Shared</td>\n",
       "      <td>ns_OptimSellar</td>\n",
       "      <td>False</td>\n",
       "    </tr>\n",
       "  </tbody>\n",
       "</table>\n",
       "</div>"
      ],
      "text/plain": [
       "                    type visibility       namespace default\n",
       "y_1                float     Shared  ns_OptimSellar     NaN\n",
       "z                  array     Shared  ns_OptimSellar     NaN\n",
       "debug_mode_sellar   bool     Shared  ns_OptimSellar   False"
      ]
     },
     "execution_count": 36,
     "metadata": {},
     "output_type": "execute_result"
    }
   ],
   "source": [
    "DESC_IN_df"
   ]
  },
  {
   "cell_type": "code",
   "execution_count": 37,
   "id": "78c1277e",
   "metadata": {},
   "outputs": [
    {
     "data": {
      "text/html": [
       "<div>\n",
       "<style scoped>\n",
       "    .dataframe tbody tr th:only-of-type {\n",
       "        vertical-align: middle;\n",
       "    }\n",
       "\n",
       "    .dataframe tbody tr th {\n",
       "        vertical-align: top;\n",
       "    }\n",
       "\n",
       "    .dataframe thead th {\n",
       "        text-align: right;\n",
       "    }\n",
       "</style>\n",
       "<table border=\"1\" class=\"dataframe\">\n",
       "  <thead>\n",
       "    <tr style=\"text-align: right;\">\n",
       "      <th></th>\n",
       "      <th>type</th>\n",
       "      <th>visibility</th>\n",
       "      <th>namespace</th>\n",
       "    </tr>\n",
       "  </thead>\n",
       "  <tbody>\n",
       "    <tr>\n",
       "      <th>y_2</th>\n",
       "      <td>float</td>\n",
       "      <td>Shared</td>\n",
       "      <td>ns_OptimSellar</td>\n",
       "    </tr>\n",
       "    <tr>\n",
       "      <th>y_2_bis</th>\n",
       "      <td>float</td>\n",
       "      <td>Shared</td>\n",
       "      <td>ns_OptimSellar</td>\n",
       "    </tr>\n",
       "  </tbody>\n",
       "</table>\n",
       "</div>"
      ],
      "text/plain": [
       "          type visibility       namespace\n",
       "y_2      float     Shared  ns_OptimSellar\n",
       "y_2_bis  float     Shared  ns_OptimSellar"
      ]
     },
     "execution_count": 37,
     "metadata": {},
     "output_type": "execute_result"
    }
   ],
   "source": [
    "DESC_OUT_df "
   ]
  },
  {
   "cell_type": "markdown",
   "id": "3d46d809",
   "metadata": {},
   "source": [
    "# 3 Provide Discipline inputs"
   ]
  },
  {
   "cell_type": "code",
   "execution_count": 38,
   "id": "d3c4d21e",
   "metadata": {},
   "outputs": [
    {
     "data": {
      "text/html": [
       "<div>\n",
       "<style scoped>\n",
       "    .dataframe tbody tr th:only-of-type {\n",
       "        vertical-align: middle;\n",
       "    }\n",
       "\n",
       "    .dataframe tbody tr th {\n",
       "        vertical-align: top;\n",
       "    }\n",
       "\n",
       "    .dataframe thead th {\n",
       "        text-align: right;\n",
       "    }\n",
       "</style>\n",
       "<table border=\"1\" class=\"dataframe\">\n",
       "  <thead>\n",
       "    <tr style=\"text-align: right;\">\n",
       "      <th></th>\n",
       "      <th>0</th>\n",
       "    </tr>\n",
       "  </thead>\n",
       "  <tbody>\n",
       "    <tr>\n",
       "      <th>doe.SellarDoeScenario.SellarCoupling.sub_mda_class</th>\n",
       "      <td>MDANewtonRaphson</td>\n",
       "    </tr>\n",
       "    <tr>\n",
       "      <th>doe.SellarDoeScenario.SellarCoupling.x</th>\n",
       "      <td>2.0</td>\n",
       "    </tr>\n",
       "    <tr>\n",
       "      <th>doe.SellarDoeScenario.SellarCoupling.y_1</th>\n",
       "      <td>2.0</td>\n",
       "    </tr>\n",
       "    <tr>\n",
       "      <th>doe.SellarDoeScenario.SellarCoupling.y_2</th>\n",
       "      <td>2.0</td>\n",
       "    </tr>\n",
       "    <tr>\n",
       "      <th>doe.SellarDoeScenario.SellarCoupling.z</th>\n",
       "      <td>[2.0, 2.0]</td>\n",
       "    </tr>\n",
       "    <tr>\n",
       "      <th>doe.SellarDoeScenario.SellarCoupling.Sellar_Problem.local_dv</th>\n",
       "      <td>10.0</td>\n",
       "    </tr>\n",
       "  </tbody>\n",
       "</table>\n",
       "</div>"
      ],
      "text/plain": [
       "                                                                   0\n",
       "doe.SellarDoeScenario.SellarCoupling.sub_mda_class  MDANewtonRaphson\n",
       "doe.SellarDoeScenario.SellarCoupling.x                           2.0\n",
       "doe.SellarDoeScenario.SellarCoupling.y_1                         2.0\n",
       "doe.SellarDoeScenario.SellarCoupling.y_2                         2.0\n",
       "doe.SellarDoeScenario.SellarCoupling.z                    [2.0, 2.0]\n",
       "doe.SellarDoeScenario.SellarCoupling.Sellar_Pro...              10.0"
      ]
     },
     "execution_count": 38,
     "metadata": {},
     "output_type": "execute_result"
    }
   ],
   "source": [
    "# Sellar inputs\n",
    "local_dv = 10.\n",
    "values_dict = {}\n",
    "# array([1.])\n",
    "values_dict[f'{ns}.{sc_name}.{c_name}.sub_mda_class'] = 'MDANewtonRaphson'\n",
    "values_dict[f'{ns}.{sc_name}.{c_name}.x'] = 2.\n",
    "values_dict[f'{ns}.{sc_name}.{c_name}.y_1'] = 2.\n",
    "values_dict[f'{ns}.{sc_name}.{c_name}.y_2'] = 2.\n",
    "values_dict[f'{ns}.{sc_name}.{c_name}.z'] = array([2., 2.])\n",
    "values_dict[f'{ns}.{sc_name}.{c_name}.Sellar_Problem.local_dv'] = local_dv\n",
    "values_dict\n",
    "my_dict = exec_eng.get_anonimated_data_dict()\n",
    "pd.DataFrame.from_dict(values_dict,orient='index')"
   ]
  },
  {
   "cell_type": "code",
   "execution_count": 39,
   "id": "5cc45bae",
   "metadata": {},
   "outputs": [
    {
     "name": "stderr",
     "output_type": "stream",
     "text": [
      "INFO:SoS.EE:configuring ...\n",
      "INFO:SoS.EE.Coupling:The MDA solver of the Coupling doe.SellarDoeScenario.SellarCoupling is set to MDANewtonRaphson\n",
      "WARNING:SoS.EE.SoSDOEScenario:The differentiation method \"finite_differences\" will overload the linearization mode \"auto\" \n",
      "INFO:SoS.EE:configuring ...\n",
      "WARNING:SoS.EE.SoSDOEScenario:The differentiation method \"finite_differences\" will overload the linearization mode \"auto\" \n",
      "INFO:SoS.EE:configuring ...\n",
      "WARNING:gemseo.mda.mda_chain:No coupling in MDA, switching chain_linearize to True\n",
      "INFO:SoS.EE.Coupling:The MDA solver of the Coupling doe is set to MDAJacobi\n",
      "INFO:SoS.EE:configuring ...\n",
      "WARNING:gemseo.mda.mda_chain:No coupling in MDA, switching chain_linearize to True\n",
      "INFO:SoS.EE.Coupling:The MDA solver of the Coupling doe is set to MDAJacobi\n"
     ]
    }
   ],
   "source": [
    "#exec_eng.dm.set_values_from_dict(values_dict)\n",
    "exec_eng.load_study_from_input_dict(values_dict)\n",
    "exec_eng.configure()"
   ]
  },
  {
   "cell_type": "markdown",
   "id": "a6bde00c",
   "metadata": {},
   "source": [
    "# 4 Run Doe scenario"
   ]
  },
  {
   "cell_type": "code",
   "execution_count": 40,
   "id": "d14d1e0f",
   "metadata": {
    "scrolled": true
   },
   "outputs": [
    {
     "name": "stderr",
     "output_type": "stream",
     "text": [
      "INFO:SoS.EE:PROCESS EXECUTION doe STARTS...\n",
      "INFO:gemseo.core.doe_scenario: \n",
      "INFO:gemseo.core.doe_scenario:*** Start DOE Scenario execution ***\n",
      "INFO:gemseo.core.doe_scenario:SellarDoeScenario\n",
      "   Disciplines: SellarCoupling\n",
      "   MDOFormulation: DisciplinaryOpt\n",
      "   Algorithm: None\n",
      "INFO:SoS.EE.SoSDOEScenario:{'iterations': 5, 'eval_jac': False, 'n_processes': 1, 'wait_time_between_samples': 0.0, 'seed': 1, 'max_time': 0}\n",
      "INFO:gemseo.algos.doe.doe_lib:Optimization problem:\n",
      "   Minimize: doe.SellarDoeScenario.SellarCoupling.obj(doe.SellarDoeScenario.SellarCoupling.x, doe.SellarDoeScenario.SellarCoupling.z)\n",
      "   With respect to: doe.SellarDoeScenario.SellarCoupling.x, doe.SellarDoeScenario.SellarCoupling.z\n",
      "INFO:gemseo.algos.driver_lib:DOE sampling:   0%|          | 0/100 [00:00<?, ?it]\n",
      "INFO:SoS.EE.Coupling:doe.SellarDoeScenario.SellarCoupling MDA history\n",
      "INFO:SoS.EE.Coupling:\tIt.\tRes. norm\n",
      "INFO:gemseo.mda.mda:\t1\t1.151857e+07\n",
      "INFO:gemseo.mda.mda:\t2\t2.164783e+06\n",
      "INFO:gemseo.mda.mda:\t3\t3.061206e+03\n",
      "INFO:gemseo.mda.mda:\t4\t4.585596e+00\n",
      "INFO:gemseo.mda.mda:\t5\t7.878765e-03\n",
      "INFO:gemseo.mda.mda:\t6\t1.155678e-05\n",
      "INFO:gemseo.mda.mda:\t7\t2.109737e-06\n",
      "INFO:gemseo.mda.mda:\t8\t2.979756e-07\n",
      "INFO:SoS.EE.Coupling:doe.SellarDoeScenario.SellarCoupling MDA history\n",
      "INFO:SoS.EE.Coupling:\tIt.\tRes. norm\n",
      "INFO:gemseo.mda.mda:\t1\t1.074760e+07\n",
      "INFO:gemseo.mda.mda:\t2\t2.014526e+06\n",
      "INFO:gemseo.mda.mda:\t3\t3.175514e+03\n",
      "INFO:gemseo.mda.mda:\t4\t4.517292e+00\n",
      "INFO:gemseo.mda.mda:\t5\t8.200231e-03\n",
      "INFO:gemseo.mda.mda:\t6\t1.147727e-05\n",
      "INFO:gemseo.mda.mda:\t7\t2.191844e-06\n",
      "INFO:gemseo.mda.mda:\t8\t2.965452e-07\n",
      "INFO:gemseo.algos.driver_lib:DOE sampling:   2%|▏         | 2/100 [00:00<00:00, 701.00 it/sec, obj=110]\n",
      "INFO:SoS.EE.Coupling:doe.SellarDoeScenario.SellarCoupling MDA history\n",
      "INFO:SoS.EE.Coupling:\tIt.\tRes. norm\n",
      "INFO:gemseo.mda.mda:\t1\t7.326215e+06\n",
      "INFO:gemseo.mda.mda:\t2\t1.496526e+06\n"
     ]
    },
    {
     "name": "stdout",
     "output_type": "stream",
     "text": [
      "my_options\n",
      "{'iterations': 5, 'eval_jac': False, 'n_processes': 1, 'wait_time_between_samples': 0.0, 'seed': 1, 'max_time': 0}\n"
     ]
    },
    {
     "name": "stderr",
     "output_type": "stream",
     "text": [
      "INFO:gemseo.mda.mda:\t3\t2.595664e+03\n",
      "INFO:gemseo.mda.mda:\t4\t4.023349e+00\n",
      "INFO:gemseo.mda.mda:\t5\t7.730185e-03\n",
      "INFO:gemseo.mda.mda:\t6\t1.197119e-05\n",
      "INFO:gemseo.mda.mda:\t7\t2.364000e-06\n",
      "INFO:gemseo.mda.mda:\t8\t3.567449e-07\n",
      "INFO:SoS.EE.Coupling:doe.SellarDoeScenario.SellarCoupling MDA history\n",
      "INFO:SoS.EE.Coupling:\tIt.\tRes. norm\n",
      "INFO:gemseo.mda.mda:\t1\t4.555212e+06\n",
      "INFO:gemseo.mda.mda:\t2\t1.006180e+06\n",
      "INFO:gemseo.mda.mda:\t3\t1.449587e+03\n",
      "INFO:gemseo.mda.mda:\t4\t2.909055e+00\n",
      "INFO:gemseo.mda.mda:\t5\t6.512315e-03\n",
      "INFO:gemseo.mda.mda:\t6\t1.302487e-03\n",
      "INFO:gemseo.mda.mda:\t7\t2.858776e-04\n",
      "INFO:gemseo.mda.mda:\t8\t5.717646e-05\n",
      "INFO:gemseo.mda.mda:\t9\t1.254932e-05\n",
      "INFO:gemseo.mda.mda:\t10\t2.509909e-06\n",
      "INFO:gemseo.mda.mda:\t11\t5.508400e-07\n",
      "INFO:gemseo.algos.driver_lib:DOE sampling:   4%|▍         | 4/100 [00:00<00:00, 252.94 it/sec, obj=18.8]\n",
      "INFO:SoS.EE.Coupling:doe.SellarDoeScenario.SellarCoupling MDA history\n",
      "INFO:SoS.EE.Coupling:\tIt.\tRes. norm\n",
      "INFO:gemseo.mda.mda:\t1\t7.160444e+07\n",
      "INFO:gemseo.mda.mda:\t2\t6.244855e+06\n",
      "INFO:gemseo.mda.mda:\t3\t1.221561e+04\n",
      "INFO:gemseo.mda.mda:\t4\t6.173011e+00\n",
      "INFO:gemseo.mda.mda:\t5\t1.212294e-02\n",
      "INFO:gemseo.mda.mda:\t6\t6.068102e-06\n",
      "INFO:gemseo.mda.mda:\t7\t1.215880e-06\n",
      "INFO:gemseo.mda.mda:\t8\t6.029155e-08\n",
      "INFO:SoS.EE.Coupling:doe.SellarDoeScenario.SellarCoupling MDA history\n",
      "INFO:SoS.EE.Coupling:\tIt.\tRes. norm\n",
      "INFO:gemseo.mda.mda:\t1\t2.956608e+07\n",
      "INFO:gemseo.mda.mda:\t2\t3.701797e+06\n",
      "INFO:gemseo.mda.mda:\t3\t7.196826e+03\n",
      "INFO:gemseo.mda.mda:\t4\t5.608646e+00\n",
      "INFO:gemseo.mda.mda:\t5\t1.100996e-02\n",
      "INFO:gemseo.mda.mda:\t6\t8.532037e-06\n",
      "INFO:gemseo.mda.mda:\t7\t1.708287e-06\n",
      "INFO:gemseo.mda.mda:\t8\t1.307283e-07\n",
      "INFO:gemseo.algos.driver_lib:DOE sampling:   6%|▌         | 6/100 [00:00<00:00, 156.62 it/sec, obj=75.4]\n",
      "INFO:SoS.EE.Coupling:doe.SellarDoeScenario.SellarCoupling MDA history\n",
      "INFO:SoS.EE.Coupling:\tIt.\tRes. norm\n",
      "INFO:gemseo.mda.mda:\t1\t3.380627e+07\n",
      "INFO:gemseo.mda.mda:\t2\t4.434955e+06\n",
      "INFO:gemseo.mda.mda:\t3\t7.104405e+03\n",
      "INFO:gemseo.mda.mda:\t4\t6.186815e+00\n",
      "INFO:gemseo.mda.mda:\t5\t1.058694e-02\n",
      "INFO:gemseo.mda.mda:\t6\t8.814862e-06\n",
      "INFO:gemseo.mda.mda:\t7\t1.630506e-06\n",
      "INFO:gemseo.mda.mda:\t8\t1.326452e-07\n",
      "INFO:gemseo.algos.driver_lib:DOE sampling:   7%|▋         | 7/100 [00:00<00:00, 134.72 it/sec, obj=82.9]\n",
      "INFO:SoS.EE.Coupling:doe.SellarDoeScenario.SellarCoupling MDA history\n",
      "INFO:SoS.EE.Coupling:\tIt.\tRes. norm\n",
      "INFO:gemseo.mda.mda:\t1\t5.780487e+07\n",
      "INFO:gemseo.mda.mda:\t2\t5.499930e+06\n",
      "INFO:gemseo.mda.mda:\t3\t1.080973e+04\n",
      "INFO:gemseo.mda.mda:\t4\t6.036457e+00\n",
      "INFO:gemseo.mda.mda:\t5\t1.190786e-02\n",
      "INFO:gemseo.mda.mda:\t6\t6.615184e-06\n",
      "INFO:gemseo.mda.mda:\t7\t1.326443e-06\n",
      "INFO:gemseo.mda.mda:\t8\t7.285229e-08\n",
      "INFO:gemseo.algos.driver_lib:DOE sampling:   8%|▊         | 8/100 [00:00<00:00, 117.94 it/sec, obj=193]\n",
      "INFO:SoS.EE.Coupling:doe.SellarDoeScenario.SellarCoupling MDA history\n",
      "INFO:SoS.EE.Coupling:\tIt.\tRes. norm\n",
      "INFO:gemseo.mda.mda:\t1\t7.250970e+07\n",
      "INFO:gemseo.mda.mda:\t2\t6.223783e+06\n",
      "INFO:gemseo.mda.mda:\t3\t1.238894e+04\n",
      "INFO:gemseo.mda.mda:\t4\t6.108842e+00\n",
      "INFO:gemseo.mda.mda:\t5\t1.216996e-02\n",
      "INFO:gemseo.mda.mda:\t6\t6.036067e-06\n",
      "INFO:gemseo.mda.mda:\t7\t1.196195e-06\n",
      "INFO:gemseo.mda.mda:\t8\t5.988457e-08\n",
      "INFO:gemseo.algos.driver_lib:DOE sampling:   9%|▉         | 9/100 [00:00<00:00, 103.22 it/sec, obj=193]\n",
      "INFO:SoS.EE.Coupling:doe.SellarDoeScenario.SellarCoupling MDA history\n",
      "INFO:SoS.EE.Coupling:\tIt.\tRes. norm\n",
      "INFO:gemseo.mda.mda:\t1\t2.928730e+07\n",
      "INFO:gemseo.mda.mda:\t2\t3.732554e+06\n",
      "INFO:gemseo.mda.mda:\t3\t7.046547e+03\n",
      "INFO:gemseo.mda.mda:\t4\t5.660358e+00\n",
      "INFO:gemseo.mda.mda:\t5\t1.089967e-02\n",
      "INFO:gemseo.mda.mda:\t6\t8.617057e-06\n",
      "INFO:gemseo.mda.mda:\t7\t1.714728e-06\n",
      "INFO:gemseo.mda.mda:\t8\t1.339943e-07\n",
      "INFO:gemseo.algos.driver_lib:DOE sampling:  10%|█         | 10/100 [00:01<00:00, 92.75 it/sec, obj=125]\n",
      "INFO:SoS.EE.Coupling:doe.SellarDoeScenario.SellarCoupling MDA history\n",
      "INFO:SoS.EE.Coupling:\tIt.\tRes. norm\n",
      "INFO:gemseo.mda.mda:\t1\t1.351214e+07\n",
      "INFO:gemseo.mda.mda:\t2\t2.324932e+06\n",
      "INFO:gemseo.mda.mda:\t3\t3.993707e+03\n",
      "INFO:gemseo.mda.mda:\t4\t4.882108e+00\n",
      "INFO:gemseo.mda.mda:\t5\t9.094110e-03\n",
      "INFO:gemseo.mda.mda:\t6\t1.093006e-05\n",
      "INFO:gemseo.mda.mda:\t7\t2.131924e-06\n",
      "INFO:gemseo.mda.mda:\t8\t2.481056e-07\n",
      "INFO:gemseo.algos.driver_lib:DOE sampling:  11%|█         | 11/100 [00:01<00:01, 84.07 it/sec, obj=101]\n",
      "INFO:SoS.EE.Coupling:doe.SellarDoeScenario.SellarCoupling MDA history\n",
      "INFO:SoS.EE.Coupling:\tIt.\tRes. norm\n",
      "INFO:gemseo.mda.mda:\t1\t4.248877e+06\n",
      "INFO:gemseo.mda.mda:\t2\t9.873991e+05\n",
      "INFO:gemseo.mda.mda:\t3\t1.803732e+03\n",
      "INFO:gemseo.mda.mda:\t4\t3.323942e+00\n",
      "INFO:gemseo.mda.mda:\t5\t6.731356e-03\n",
      "INFO:gemseo.mda.mda:\t6\t1.231126e-03\n",
      "INFO:gemseo.mda.mda:\t7\t2.458306e-04\n",
      "INFO:gemseo.mda.mda:\t8\t4.496092e-05\n",
      "INFO:gemseo.mda.mda:\t9\t8.978060e-06\n",
      "INFO:gemseo.mda.mda:\t10\t1.641892e-06\n",
      "INFO:gemseo.mda.mda:\t11\t3.279532e-07\n",
      "INFO:gemseo.algos.driver_lib:DOE sampling:  12%|█▏        | 12/100 [00:01<00:01, 74.53 it/sec, obj=54.7]\n",
      "INFO:SoS.EE.Coupling:doe.SellarDoeScenario.SellarCoupling MDA history\n",
      "INFO:SoS.EE.Coupling:\tIt.\tRes. norm\n",
      "INFO:gemseo.mda.mda:\t1\t1.768756e+07\n",
      "INFO:gemseo.mda.mda:\t2\t2.655460e+06\n",
      "INFO:gemseo.mda.mda:\t3\t5.293115e+03\n",
      "INFO:gemseo.mda.mda:\t4\t5.137011e+00\n",
      "INFO:gemseo.mda.mda:\t5\t1.025537e-02\n",
      "INFO:gemseo.mda.mda:\t6\t1.007948e-05\n",
      "INFO:gemseo.mda.mda:\t7\t2.003532e-06\n",
      "INFO:gemseo.mda.mda:\t8\t1.956827e-07\n",
      "INFO:gemseo.algos.driver_lib:DOE sampling:  13%|█▎        | 13/100 [00:01<00:01, 67.46 it/sec, obj=41]\n",
      "INFO:SoS.EE.Coupling:doe.SellarDoeScenario.SellarCoupling MDA history\n",
      "INFO:SoS.EE.Coupling:\tIt.\tRes. norm\n",
      "INFO:gemseo.mda.mda:\t1\t2.495356e+07\n",
      "INFO:gemseo.mda.mda:\t2\t3.298623e+06\n",
      "INFO:gemseo.mda.mda:\t3\t6.595774e+03\n",
      "INFO:gemseo.mda.mda:\t4\t5.425864e+00\n",
      "INFO:gemseo.mda.mda:\t5\t1.085014e-02\n",
      "INFO:gemseo.mda.mda:\t6\t9.082371e-06\n",
      "INFO:gemseo.mda.mda:\t7\t1.793459e-06\n",
      "INFO:gemseo.mda.mda:\t8\t1.490923e-07\n",
      "INFO:gemseo.algos.driver_lib:DOE sampling:  14%|█▍        | 14/100 [00:01<00:01, 62.10 it/sec, obj=49.3]\n",
      "INFO:SoS.EE.Coupling:doe.SellarDoeScenario.SellarCoupling MDA history\n",
      "INFO:SoS.EE.Coupling:\tIt.\tRes. norm\n",
      "INFO:gemseo.mda.mda:\t1\t2.734604e+07\n",
      "INFO:gemseo.mda.mda:\t2\t3.908316e+06\n",
      "INFO:gemseo.mda.mda:\t3\t6.055035e+03\n",
      "INFO:gemseo.mda.mda:\t4\t5.969533e+00\n",
      "INFO:gemseo.mda.mda:\t5\t1.008678e-02\n",
      "INFO:gemseo.mda.mda:\t6\t9.529245e-06\n",
      "INFO:gemseo.mda.mda:\t7\t1.744598e-06\n",
      "INFO:gemseo.mda.mda:\t8\t1.618143e-07\n",
      "INFO:gemseo.algos.driver_lib:DOE sampling:  15%|█▌        | 15/100 [00:01<00:01, 56.80 it/sec, obj=102]\n",
      "INFO:SoS.EE.Coupling:doe.SellarDoeScenario.SellarCoupling MDA history\n",
      "INFO:SoS.EE.Coupling:\tIt.\tRes. norm\n",
      "INFO:gemseo.mda.mda:\t1\t5.645609e+07\n",
      "INFO:gemseo.mda.mda:\t2\t6.159529e+06\n",
      "INFO:gemseo.mda.mda:\t3\t9.878067e+03\n",
      "INFO:gemseo.mda.mda:\t4\t6.789865e+00\n",
      "INFO:gemseo.mda.mda:\t5\t1.139010e-02\n",
      "INFO:gemseo.mda.mda:\t6\t7.409738e-06\n",
      "INFO:gemseo.mda.mda:\t7\t1.358942e-06\n",
      "INFO:gemseo.mda.mda:\t8\t8.763760e-08\n",
      "INFO:gemseo.algos.driver_lib:DOE sampling:  16%|█▌        | 16/100 [00:01<00:01, 52.99 it/sec, obj=95.1]\n",
      "INFO:SoS.EE.Coupling:doe.SellarDoeScenario.SellarCoupling MDA history\n",
      "INFO:SoS.EE.Coupling:\tIt.\tRes. norm\n",
      "INFO:gemseo.mda.mda:\t1\t6.388535e+07\n",
      "INFO:gemseo.mda.mda:\t2\t5.783655e+06\n",
      "INFO:gemseo.mda.mda:\t3\t1.156627e+04\n",
      "INFO:gemseo.mda.mda:\t4\t6.028676e+00\n",
      "INFO:gemseo.mda.mda:\t5\t1.205654e-02\n",
      "INFO:gemseo.mda.mda:\t6\t6.416842e-06\n",
      "INFO:gemseo.mda.mda:\t7\t1.257972e-06\n",
      "INFO:gemseo.mda.mda:\t8\t6.608429e-08\n",
      "INFO:gemseo.algos.driver_lib:DOE sampling:  17%|█▋        | 17/100 [00:02<00:01, 49.68 it/sec, obj=201]\n",
      "INFO:SoS.EE.Coupling:doe.SellarDoeScenario.SellarCoupling MDA history\n",
      "INFO:SoS.EE.Coupling:\tIt.\tRes. norm\n",
      "INFO:gemseo.mda.mda:\t1\t3.731844e+07\n",
      "INFO:gemseo.mda.mda:\t2\t4.218403e+06\n",
      "INFO:gemseo.mda.mda:\t3\t8.436295e+03\n",
      "INFO:gemseo.mda.mda:\t4\t5.715721e+00\n",
      "INFO:gemseo.mda.mda:\t5\t1.143099e-02\n",
      "INFO:gemseo.mda.mda:\t6\t7.906381e-06\n",
      "INFO:gemseo.mda.mda:\t7\t1.551293e-06\n",
      "INFO:gemseo.mda.mda:\t8\t1.067903e-07\n",
      "INFO:gemseo.algos.driver_lib:DOE sampling:  18%|█▊        | 18/100 [00:02<00:01, 47.04 it/sec, obj=80.5]\n",
      "INFO:SoS.EE.Coupling:doe.SellarDoeScenario.SellarCoupling MDA history\n",
      "INFO:SoS.EE.Coupling:\tIt.\tRes. norm\n",
      "INFO:gemseo.mda.mda:\t1\t1.033545e+07\n",
      "INFO:gemseo.mda.mda:\t2\t1.963851e+06\n",
      "INFO:gemseo.mda.mda:\t3\t3.041551e+03\n",
      "INFO:gemseo.mda.mda:\t4\t4.443319e+00\n",
      "INFO:gemseo.mda.mda:\t5\t8.030548e-03\n",
      "INFO:gemseo.mda.mda:\t6\t1.154871e-05\n",
      "INFO:gemseo.mda.mda:\t7\t2.195177e-06\n",
      "INFO:gemseo.mda.mda:\t8\t3.058327e-07\n"
     ]
    },
    {
     "name": "stderr",
     "output_type": "stream",
     "text": [
      "INFO:gemseo.algos.driver_lib:DOE sampling:  19%|█▉        | 19/100 [00:02<00:01, 44.89 it/sec, obj=26.7]\n",
      "INFO:SoS.EE.Coupling:doe.SellarDoeScenario.SellarCoupling MDA history\n",
      "INFO:SoS.EE.Coupling:\tIt.\tRes. norm\n",
      "INFO:gemseo.mda.mda:\t1\t7.763027e+06\n",
      "INFO:gemseo.mda.mda:\t2\t1.527764e+06\n",
      "INFO:gemseo.mda.mda:\t3\t3.038920e+03\n",
      "INFO:gemseo.mda.mda:\t4\t4.265442e+00\n",
      "INFO:gemseo.mda.mda:\t5\t8.516605e-03\n",
      "INFO:gemseo.mda.mda:\t6\t1.213402e-05\n",
      "INFO:gemseo.mda.mda:\t7\t2.418256e-06\n",
      "INFO:gemseo.mda.mda:\t8\t3.398082e-07\n",
      "INFO:gemseo.algos.driver_lib:DOE sampling:  20%|██        | 20/100 [00:02<00:01, 42.78 it/sec, obj=29.1]\n",
      "INFO:SoS.EE.Coupling:doe.SellarDoeScenario.SellarCoupling MDA history\n",
      "INFO:SoS.EE.Coupling:\tIt.\tRes. norm\n",
      "INFO:gemseo.mda.mda:\t1\t4.373821e+07\n",
      "INFO:gemseo.mda.mda:\t2\t4.997488e+06\n",
      "INFO:gemseo.mda.mda:\t3\t8.719785e+03\n",
      "INFO:gemseo.mda.mda:\t4\t6.231941e+00\n",
      "INFO:gemseo.mda.mda:\t5\t1.125861e-02\n",
      "INFO:gemseo.mda.mda:\t6\t7.734498e-06\n",
      "INFO:gemseo.mda.mda:\t7\t1.484067e-06\n",
      "INFO:gemseo.mda.mda:\t8\t9.871175e-08\n",
      "INFO:SoS.EE.Coupling:doe.SellarDoeScenario.SellarCoupling MDA history\n",
      "INFO:SoS.EE.Coupling:\tIt.\tRes. norm\n",
      "INFO:gemseo.mda.mda:\t1\t2.227097e+07\n",
      "INFO:gemseo.mda.mda:\t2\t3.205198e+06\n",
      "INFO:gemseo.mda.mda:\t3\t5.758641e+03\n",
      "INFO:gemseo.mda.mda:\t4\t5.471719e+00\n",
      "INFO:gemseo.mda.mda:\t5\t1.026617e-02\n",
      "INFO:gemseo.mda.mda:\t6\t9.539195e-06\n",
      "INFO:gemseo.mda.mda:\t7\t1.874791e-06\n",
      "INFO:gemseo.mda.mda:\t8\t1.707198e-07\n",
      "INFO:gemseo.algos.driver_lib:DOE sampling:  22%|██▏       | 22/100 [00:02<00:01, 39.61 it/sec, obj=56.3]\n",
      "INFO:SoS.EE.Coupling:doe.SellarDoeScenario.SellarCoupling MDA history\n",
      "INFO:SoS.EE.Coupling:\tIt.\tRes. norm\n",
      "INFO:gemseo.mda.mda:\t1\t6.919870e+07\n",
      "INFO:gemseo.mda.mda:\t2\t6.053008e+06\n",
      "INFO:gemseo.mda.mda:\t3\t1.210598e+04\n",
      "INFO:gemseo.mda.mda:\t4\t6.068255e+00\n",
      "INFO:gemseo.mda.mda:\t5\t1.213650e-02\n",
      "INFO:gemseo.mda.mda:\t6\t6.204721e-06\n",
      "INFO:gemseo.mda.mda:\t7\t1.217374e-06\n",
      "INFO:gemseo.mda.mda:\t8\t6.112320e-08\n",
      "INFO:SoS.EE.Coupling:doe.SellarDoeScenario.SellarCoupling MDA history\n",
      "INFO:SoS.EE.Coupling:\tIt.\tRes. norm\n",
      "INFO:gemseo.mda.mda:\t1\t7.402686e+06\n",
      "INFO:gemseo.mda.mda:\t2\t1.522997e+06\n",
      "INFO:gemseo.mda.mda:\t3\t2.431378e+03\n",
      "INFO:gemseo.mda.mda:\t4\t3.931055e+00\n",
      "INFO:gemseo.mda.mda:\t5\t7.372985e-03\n",
      "INFO:gemseo.mda.mda:\t6\t1.186943e-05\n",
      "INFO:gemseo.mda.mda:\t7\t2.305745e-06\n",
      "INFO:gemseo.mda.mda:\t8\t3.597885e-07\n",
      "INFO:gemseo.algos.driver_lib:DOE sampling:  24%|██▍       | 24/100 [00:02<00:02, 36.84 it/sec, obj=43.4]\n",
      "INFO:SoS.EE.Coupling:doe.SellarDoeScenario.SellarCoupling MDA history\n",
      "INFO:SoS.EE.Coupling:\tIt.\tRes. norm\n",
      "INFO:gemseo.mda.mda:\t1\t4.554885e+07\n",
      "INFO:gemseo.mda.mda:\t2\t5.093953e+06\n",
      "INFO:gemseo.mda.mda:\t3\t8.980932e+03\n",
      "INFO:gemseo.mda.mda:\t4\t6.236412e+00\n",
      "INFO:gemseo.mda.mda:\t5\t1.134477e-02\n",
      "INFO:gemseo.mda.mda:\t6\t7.581291e-06\n",
      "INFO:gemseo.mda.mda:\t7\t1.467894e-06\n",
      "INFO:gemseo.mda.mda:\t8\t9.386159e-08\n",
      "INFO:gemseo.algos.driver_lib:DOE sampling:  25%|██▌       | 25/100 [00:02<00:02, 35.42 it/sec, obj=104]\n",
      "INFO:SoS.EE.Coupling:doe.SellarDoeScenario.SellarCoupling MDA history\n",
      "INFO:SoS.EE.Coupling:\tIt.\tRes. norm\n",
      "INFO:gemseo.mda.mda:\t1\t2.535220e+07\n",
      "INFO:gemseo.mda.mda:\t2\t3.601187e+06\n",
      "INFO:gemseo.mda.mda:\t3\t6.006878e+03\n",
      "INFO:gemseo.mda.mda:\t4\t5.735522e+00\n",
      "INFO:gemseo.mda.mda:\t5\t1.022325e-02\n",
      "INFO:gemseo.mda.mda:\t6\t9.427503e-06\n",
      "INFO:gemseo.mda.mda:\t7\t1.789625e-06\n",
      "INFO:gemseo.mda.mda:\t8\t1.605418e-07\n",
      "INFO:gemseo.algos.driver_lib:DOE sampling:  26%|██▌       | 26/100 [00:02<00:02, 34.12 it/sec, obj=76.6]\n",
      "INFO:SoS.EE.Coupling:doe.SellarDoeScenario.SellarCoupling MDA history\n",
      "INFO:SoS.EE.Coupling:\tIt.\tRes. norm\n",
      "INFO:gemseo.mda.mda:\t1\t4.164357e+07\n",
      "INFO:gemseo.mda.mda:\t2\t4.529344e+06\n",
      "INFO:gemseo.mda.mda:\t3\t8.913171e+03\n",
      "INFO:gemseo.mda.mda:\t4\t5.829474e+00\n",
      "INFO:gemseo.mda.mda:\t5\t1.152169e-02\n",
      "INFO:gemseo.mda.mda:\t6\t7.520085e-06\n",
      "INFO:gemseo.mda.mda:\t7\t1.502353e-06\n",
      "INFO:gemseo.mda.mda:\t8\t9.684811e-08\n",
      "INFO:gemseo.algos.driver_lib:DOE sampling:  27%|██▋       | 27/100 [00:03<00:02, 32.78 it/sec, obj=160]\n",
      "INFO:SoS.EE.Coupling:doe.SellarDoeScenario.SellarCoupling MDA history\n",
      "INFO:SoS.EE.Coupling:\tIt.\tRes. norm\n",
      "INFO:gemseo.mda.mda:\t1\t2.380853e+07\n",
      "INFO:gemseo.mda.mda:\t2\t3.414776e+06\n",
      "INFO:gemseo.mda.mda:\t3\t5.854489e+03\n",
      "INFO:gemseo.mda.mda:\t4\t5.614432e+00\n",
      "INFO:gemseo.mda.mda:\t5\t1.021134e-02\n",
      "INFO:gemseo.mda.mda:\t6\t9.499800e-06\n",
      "INFO:gemseo.mda.mda:\t7\t1.830067e-06\n",
      "INFO:gemseo.mda.mda:\t8\t1.660490e-07\n",
      "INFO:gemseo.algos.driver_lib:DOE sampling:  28%|██▊       | 28/100 [00:03<00:02, 31.59 it/sec, obj=53.4]\n",
      "INFO:SoS.EE.Coupling:doe.SellarDoeScenario.SellarCoupling MDA history\n",
      "INFO:SoS.EE.Coupling:\tIt.\tRes. norm\n",
      "INFO:gemseo.mda.mda:\t1\t5.766829e+07\n",
      "INFO:gemseo.mda.mda:\t2\t5.497601e+06\n",
      "INFO:gemseo.mda.mda:\t3\t1.078777e+04\n",
      "INFO:gemseo.mda.mda:\t4\t6.040901e+00\n",
      "INFO:gemseo.mda.mda:\t5\t1.190162e-02\n",
      "INFO:gemseo.mda.mda:\t6\t6.622944e-06\n",
      "INFO:gemseo.mda.mda:\t7\t1.326429e-06\n",
      "INFO:gemseo.mda.mda:\t8\t7.285229e-08\n",
      "INFO:gemseo.algos.driver_lib:DOE sampling:  29%|██▉       | 29/100 [00:03<00:02, 30.55 it/sec, obj=168]\n",
      "INFO:SoS.EE.Coupling:doe.SellarDoeScenario.SellarCoupling MDA history\n",
      "INFO:SoS.EE.Coupling:\tIt.\tRes. norm\n",
      "INFO:gemseo.mda.mda:\t1\t9.798293e+06\n",
      "INFO:gemseo.mda.mda:\t2\t1.983717e+06\n",
      "INFO:gemseo.mda.mda:\t3\t2.175096e+03\n",
      "INFO:gemseo.mda.mda:\t4\t4.187917e+00\n",
      "INFO:gemseo.mda.mda:\t5\t6.853745e-03\n",
      "INFO:gemseo.mda.mda:\t6\t1.270935e-03\n",
      "INFO:gemseo.mda.mda:\t7\t2.084617e-04\n",
      "INFO:gemseo.mda.mda:\t8\t3.865575e-05\n",
      "INFO:gemseo.mda.mda:\t9\t6.340235e-06\n",
      "INFO:gemseo.mda.mda:\t10\t1.175101e-06\n",
      "INFO:gemseo.mda.mda:\t11\t1.927409e-07\n",
      "INFO:gemseo.algos.driver_lib:DOE sampling:  30%|███       | 30/100 [00:03<00:02, 29.04 it/sec, obj=35.3]\n",
      "INFO:SoS.EE.Coupling:doe.SellarDoeScenario.SellarCoupling MDA history\n",
      "INFO:SoS.EE.Coupling:\tIt.\tRes. norm\n",
      "INFO:gemseo.mda.mda:\t1\t5.245486e+06\n",
      "INFO:gemseo.mda.mda:\t2\t1.167756e+06\n",
      "INFO:gemseo.mda.mda:\t3\t1.710729e+03\n",
      "INFO:gemseo.mda.mda:\t4\t3.213715e+00\n",
      "INFO:gemseo.mda.mda:\t5\t6.315629e-03\n",
      "INFO:gemseo.mda.mda:\t6\t1.164247e-03\n",
      "INFO:gemseo.mda.mda:\t7\t2.269238e-04\n",
      "INFO:gemseo.mda.mda:\t8\t4.183197e-05\n",
      "INFO:gemseo.mda.mda:\t9\t8.153177e-06\n",
      "INFO:gemseo.mda.mda:\t10\t1.503080e-06\n",
      "INFO:gemseo.mda.mda:\t11\t2.930349e-07\n",
      "INFO:gemseo.algos.driver_lib:DOE sampling:  31%|███       | 31/100 [00:03<00:02, 27.40 it/sec, obj=44.2]\n",
      "INFO:SoS.EE.Coupling:doe.SellarDoeScenario.SellarCoupling MDA history\n",
      "INFO:SoS.EE.Coupling:\tIt.\tRes. norm\n",
      "INFO:gemseo.mda.mda:\t1\t4.147468e+07\n",
      "INFO:gemseo.mda.mda:\t2\t4.551748e+06\n",
      "INFO:gemseo.mda.mda:\t3\t8.835226e+03\n",
      "INFO:gemseo.mda.mda:\t4\t5.866032e+00\n",
      "INFO:gemseo.mda.mda:\t5\t1.147891e-02\n",
      "INFO:gemseo.mda.mda:\t6\t7.546396e-06\n",
      "INFO:gemseo.mda.mda:\t7\t1.512355e-06\n",
      "INFO:gemseo.mda.mda:\t8\t9.935696e-08\n",
      "INFO:gemseo.algos.driver_lib:DOE sampling:  32%|███▏      | 32/100 [00:03<00:02, 26.65 it/sec, obj=78.2]\n",
      "INFO:SoS.EE.Coupling:doe.SellarDoeScenario.SellarCoupling MDA history\n",
      "INFO:SoS.EE.Coupling:\tIt.\tRes. norm\n",
      "INFO:gemseo.mda.mda:\t1\t1.700635e+07\n",
      "INFO:gemseo.mda.mda:\t2\t2.738383e+06\n",
      "INFO:gemseo.mda.mda:\t3\t4.627021e+03\n",
      "INFO:gemseo.mda.mda:\t4\t5.198480e+00\n",
      "INFO:gemseo.mda.mda:\t5\t9.504373e-03\n",
      "INFO:gemseo.mda.mda:\t6\t1.042259e-05\n",
      "INFO:gemseo.mda.mda:\t7\t2.011288e-06\n",
      "INFO:gemseo.mda.mda:\t8\t2.137098e-07\n",
      "INFO:gemseo.algos.driver_lib:DOE sampling:  33%|███▎      | 33/100 [00:03<00:02, 25.75 it/sec, obj=73.2]\n",
      "INFO:SoS.EE.Coupling:doe.SellarDoeScenario.SellarCoupling MDA history\n",
      "INFO:SoS.EE.Coupling:\tIt.\tRes. norm\n",
      "INFO:gemseo.mda.mda:\t1\t4.209023e+07\n",
      "INFO:gemseo.mda.mda:\t2\t5.246292e+06\n",
      "INFO:gemseo.mda.mda:\t3\t8.005929e+03\n",
      "INFO:gemseo.mda.mda:\t4\t6.611776e+00\n",
      "INFO:gemseo.mda.mda:\t5\t1.079417e-02\n",
      "INFO:gemseo.mda.mda:\t6\t8.455190e-06\n",
      "INFO:gemseo.mda.mda:\t7\t1.502768e-06\n",
      "INFO:gemseo.mda.mda:\t8\t1.101055e-07\n",
      "INFO:gemseo.algos.driver_lib:DOE sampling:  34%|███▍      | 34/100 [00:04<00:02, 24.84 it/sec, obj=76.5]\n",
      "INFO:SoS.EE.Coupling:doe.SellarDoeScenario.SellarCoupling MDA history\n",
      "INFO:SoS.EE.Coupling:\tIt.\tRes. norm\n",
      "INFO:gemseo.mda.mda:\t1\t3.559380e+06\n",
      "INFO:gemseo.mda.mda:\t2\t8.547318e+05\n",
      "INFO:gemseo.mda.mda:\t3\t1.708807e+03\n",
      "INFO:gemseo.mda.mda:\t4\t3.256631e+00\n",
      "INFO:gemseo.mda.mda:\t5\t6.629302e-03\n",
      "INFO:gemseo.mda.mda:\t6\t1.266515e-03\n",
      "INFO:gemseo.mda.mda:\t7\t2.527651e-04\n",
      "INFO:gemseo.mda.mda:\t8\t4.829062e-05\n",
      "INFO:gemseo.mda.mda:\t9\t9.638004e-06\n",
      "INFO:gemseo.mda.mda:\t10\t1.841223e-06\n",
      "INFO:gemseo.mda.mda:\t11\t3.676721e-07\n",
      "INFO:gemseo.algos.driver_lib:DOE sampling:  35%|███▌      | 35/100 [00:04<00:02, 23.67 it/sec, obj=38.2]\n"
     ]
    },
    {
     "name": "stderr",
     "output_type": "stream",
     "text": [
      "INFO:SoS.EE.Coupling:doe.SellarDoeScenario.SellarCoupling MDA history\n",
      "INFO:SoS.EE.Coupling:\tIt.\tRes. norm\n",
      "INFO:gemseo.mda.mda:\t1\t6.563294e+06\n",
      "INFO:gemseo.mda.mda:\t2\t1.409243e+06\n",
      "INFO:gemseo.mda.mda:\t3\t1.686089e+03\n",
      "INFO:gemseo.mda.mda:\t4\t3.328952e+00\n",
      "INFO:gemseo.mda.mda:\t5\t6.191592e-03\n",
      "INFO:gemseo.mda.mda:\t6\t1.203055e-03\n",
      "INFO:gemseo.mda.mda:\t7\t2.215484e-04\n",
      "INFO:gemseo.mda.mda:\t8\t4.304848e-05\n",
      "INFO:gemseo.mda.mda:\t9\t7.927834e-06\n",
      "INFO:gemseo.mda.mda:\t10\t1.540202e-06\n",
      "INFO:gemseo.mda.mda:\t11\t2.829967e-07\n",
      "INFO:gemseo.algos.driver_lib:DOE sampling:  36%|███▌      | 36/100 [00:04<00:02, 22.65 it/sec, obj=35.7]\n",
      "INFO:SoS.EE.Coupling:doe.SellarDoeScenario.SellarCoupling MDA history\n",
      "INFO:SoS.EE.Coupling:\tIt.\tRes. norm\n",
      "INFO:gemseo.mda.mda:\t1\t7.349218e+07\n",
      "INFO:gemseo.mda.mda:\t2\t6.263139e+06\n",
      "INFO:gemseo.mda.mda:\t3\t1.250652e+04\n",
      "INFO:gemseo.mda.mda:\t4\t6.103041e+00\n",
      "INFO:gemseo.mda.mda:\t5\t1.218995e-02\n",
      "INFO:gemseo.mda.mda:\t6\t6.017232e-06\n",
      "INFO:gemseo.mda.mda:\t7\t1.186458e-06\n",
      "INFO:gemseo.mda.mda:\t8\t5.864668e-08\n",
      "INFO:gemseo.algos.driver_lib:DOE sampling:  37%|███▋      | 37/100 [00:04<00:02, 22.05 it/sec, obj=165]\n",
      "INFO:SoS.EE.Coupling:doe.SellarDoeScenario.SellarCoupling MDA history\n",
      "INFO:SoS.EE.Coupling:\tIt.\tRes. norm\n",
      "INFO:gemseo.mda.mda:\t1\t7.497637e+07\n",
      "INFO:gemseo.mda.mda:\t2\t7.091997e+06\n",
      "INFO:gemseo.mda.mda:\t3\t1.197912e+04\n",
      "INFO:gemseo.mda.mda:\t4\t6.838897e+00\n",
      "INFO:gemseo.mda.mda:\t5\t1.188045e-02\n",
      "INFO:gemseo.mda.mda:\t6\t6.432433e-06\n",
      "INFO:gemseo.mda.mda:\t7\t1.201114e-06\n",
      "INFO:gemseo.mda.mda:\t8\t6.355287e-08\n",
      "INFO:gemseo.algos.driver_lib:DOE sampling:  38%|███▊      | 38/100 [00:04<00:02, 21.43 it/sec, obj=170]\n",
      "INFO:SoS.EE.Coupling:doe.SellarDoeScenario.SellarCoupling MDA history\n",
      "INFO:SoS.EE.Coupling:\tIt.\tRes. norm\n",
      "INFO:gemseo.mda.mda:\t1\t5.190070e+07\n",
      "INFO:gemseo.mda.mda:\t2\t5.176814e+06\n",
      "INFO:gemseo.mda.mda:\t3\t1.013016e+04\n",
      "INFO:gemseo.mda.mda:\t4\t5.987727e+00\n",
      "INFO:gemseo.mda.mda:\t5\t1.177570e-02\n",
      "INFO:gemseo.mda.mda:\t6\t6.910985e-06\n",
      "INFO:gemseo.mda.mda:\t7\t1.386708e-06\n",
      "INFO:gemseo.mda.mda:\t8\t8.038873e-08\n",
      "INFO:gemseo.algos.driver_lib:DOE sampling:  39%|███▉      | 39/100 [00:04<00:02, 20.77 it/sec, obj=174]\n",
      "INFO:SoS.EE.Coupling:doe.SellarDoeScenario.SellarCoupling MDA history\n",
      "INFO:SoS.EE.Coupling:\tIt.\tRes. norm\n",
      "INFO:gemseo.mda.mda:\t1\t4.668926e+06\n",
      "INFO:gemseo.mda.mda:\t2\t1.027130e+06\n",
      "INFO:gemseo.mda.mda:\t3\t1.501446e+03\n",
      "INFO:gemseo.mda.mda:\t4\t3.019064e+00\n",
      "INFO:gemseo.mda.mda:\t5\t6.746180e-03\n",
      "INFO:gemseo.mda.mda:\t6\t1.349402e-03\n",
      "INFO:gemseo.mda.mda:\t7\t2.959167e-04\n",
      "INFO:gemseo.mda.mda:\t8\t5.919063e-05\n",
      "INFO:gemseo.mda.mda:\t9\t1.298003e-05\n",
      "INFO:gemseo.mda.mda:\t10\t2.595690e-06\n",
      "INFO:gemseo.mda.mda:\t11\t5.693345e-07\n",
      "INFO:gemseo.algos.driver_lib:DOE sampling:  40%|████      | 40/100 [00:04<00:02, 20.12 it/sec, obj=22.4]\n",
      "INFO:SoS.EE.Coupling:doe.SellarDoeScenario.SellarCoupling MDA history\n",
      "INFO:SoS.EE.Coupling:\tIt.\tRes. norm\n",
      "INFO:gemseo.mda.mda:\t1\t2.847224e+07\n",
      "INFO:gemseo.mda.mda:\t2\t3.672193e+06\n",
      "INFO:gemseo.mda.mda:\t3\t6.913331e+03\n",
      "INFO:gemseo.mda.mda:\t4\t5.640833e+00\n",
      "INFO:gemseo.mda.mda:\t5\t1.084632e-02\n",
      "INFO:gemseo.mda.mda:\t6\t8.706570e-06\n",
      "INFO:gemseo.mda.mda:\t7\t1.730000e-06\n",
      "INFO:gemseo.mda.mda:\t8\t1.364908e-07\n",
      "INFO:SoS.EE.Coupling:doe.SellarDoeScenario.SellarCoupling MDA history\n",
      "INFO:SoS.EE.Coupling:\tIt.\tRes. norm\n",
      "INFO:gemseo.mda.mda:\t1\t5.677008e+07\n",
      "INFO:gemseo.mda.mda:\t2\t5.397690e+06\n",
      "INFO:gemseo.mda.mda:\t3\t1.078108e+04\n",
      "INFO:gemseo.mda.mda:\t4\t5.969662e+00\n",
      "INFO:gemseo.mda.mda:\t5\t1.192667e-02\n",
      "INFO:gemseo.mda.mda:\t6\t6.687389e-06\n",
      "INFO:gemseo.mda.mda:\t7\t1.317473e-06\n",
      "INFO:gemseo.mda.mda:\t8\t7.354203e-08\n",
      "INFO:gemseo.algos.driver_lib:DOE sampling:  42%|████▏     | 42/100 [00:05<00:03, 19.32 it/sec, obj=99.9]\n",
      "INFO:SoS.EE.Coupling:doe.SellarDoeScenario.SellarCoupling MDA history\n",
      "INFO:SoS.EE.Coupling:\tIt.\tRes. norm\n",
      "INFO:gemseo.mda.mda:\t1\t2.492254e+07\n",
      "INFO:gemseo.mda.mda:\t2\t3.772430e+06\n",
      "INFO:gemseo.mda.mda:\t3\t5.433302e+03\n",
      "INFO:gemseo.mda.mda:\t4\t5.951490e+00\n",
      "INFO:gemseo.mda.mda:\t5\t9.624108e-03\n",
      "INFO:gemseo.mda.mda:\t6\t1.009202e-05\n",
      "INFO:gemseo.mda.mda:\t7\t1.777857e-06\n",
      "INFO:gemseo.mda.mda:\t8\t1.784156e-07\n",
      "INFO:gemseo.algos.driver_lib:DOE sampling:  43%|████▎     | 43/100 [00:05<00:03, 18.90 it/sec, obj=86.6]\n",
      "INFO:SoS.EE.Coupling:doe.SellarDoeScenario.SellarCoupling MDA history\n",
      "INFO:SoS.EE.Coupling:\tIt.\tRes. norm\n",
      "INFO:gemseo.mda.mda:\t1\t5.047224e+07\n",
      "INFO:gemseo.mda.mda:\t2\t5.707659e+06\n",
      "INFO:gemseo.mda.mda:\t3\t9.241775e+03\n",
      "INFO:gemseo.mda.mda:\t4\t6.631683e+00\n",
      "INFO:gemseo.mda.mda:\t5\t1.125564e-02\n",
      "INFO:gemseo.mda.mda:\t6\t7.665756e-06\n",
      "INFO:gemseo.mda.mda:\t7\t1.409743e-06\n",
      "INFO:gemseo.mda.mda:\t8\t9.439795e-08\n",
      "INFO:gemseo.algos.driver_lib:DOE sampling:  44%|████▍     | 44/100 [00:05<00:03, 18.49 it/sec, obj=91]\n",
      "INFO:SoS.EE.Coupling:doe.SellarDoeScenario.SellarCoupling MDA history\n",
      "INFO:SoS.EE.Coupling:\tIt.\tRes. norm\n",
      "INFO:gemseo.mda.mda:\t1\t1.934469e+07\n",
      "INFO:gemseo.mda.mda:\t2\t3.085993e+06\n",
      "INFO:gemseo.mda.mda:\t3\t4.755019e+03\n",
      "INFO:gemseo.mda.mda:\t4\t5.453847e+00\n",
      "INFO:gemseo.mda.mda:\t5\t9.384580e-03\n",
      "INFO:gemseo.mda.mda:\t6\t1.040247e-05\n",
      "INFO:gemseo.mda.mda:\t7\t1.920519e-06\n",
      "INFO:gemseo.mda.mda:\t8\t2.044740e-07\n",
      "INFO:gemseo.algos.driver_lib:DOE sampling:  45%|████▌     | 45/100 [00:05<00:03, 18.04 it/sec, obj=99.6]\n",
      "INFO:SoS.EE.Coupling:doe.SellarDoeScenario.SellarCoupling MDA history\n",
      "INFO:SoS.EE.Coupling:\tIt.\tRes. norm\n",
      "INFO:gemseo.mda.mda:\t1\t2.904294e+07\n",
      "INFO:gemseo.mda.mda:\t2\t3.972798e+06\n",
      "INFO:gemseo.mda.mda:\t3\t6.502830e+03\n",
      "INFO:gemseo.mda.mda:\t4\t5.943378e+00\n",
      "INFO:gemseo.mda.mda:\t5\t1.039829e-02\n",
      "INFO:gemseo.mda.mda:\t6\t9.133099e-06\n",
      "INFO:gemseo.mda.mda:\t7\t1.715186e-06\n",
      "INFO:gemseo.mda.mda:\t8\t1.464821e-07\n",
      "INFO:gemseo.algos.driver_lib:DOE sampling:  46%|████▌     | 46/100 [00:05<00:03, 17.67 it/sec, obj=66]\n",
      "INFO:SoS.EE.Coupling:doe.SellarDoeScenario.SellarCoupling MDA history\n",
      "INFO:SoS.EE.Coupling:\tIt.\tRes. norm\n",
      "INFO:gemseo.mda.mda:\t1\t3.567670e+07\n",
      "INFO:gemseo.mda.mda:\t2\t4.519473e+06\n",
      "INFO:gemseo.mda.mda:\t3\t7.480520e+03\n",
      "INFO:gemseo.mda.mda:\t4\t6.168976e+00\n",
      "INFO:gemseo.mda.mda:\t5\t1.078605e-02\n",
      "INFO:gemseo.mda.mda:\t6\t8.519686e-06\n",
      "INFO:gemseo.mda.mda:\t7\t1.603343e-06\n",
      "INFO:gemseo.mda.mda:\t8\t1.240910e-07\n",
      "INFO:gemseo.algos.driver_lib:DOE sampling:  47%|████▋     | 47/100 [00:05<00:03, 17.32 it/sec, obj=87.5]\n",
      "INFO:SoS.EE.Coupling:doe.SellarDoeScenario.SellarCoupling MDA history\n",
      "INFO:SoS.EE.Coupling:\tIt.\tRes. norm\n",
      "INFO:gemseo.mda.mda:\t1\t4.022425e+07\n",
      "INFO:gemseo.mda.mda:\t2\t5.055373e+06\n",
      "INFO:gemseo.mda.mda:\t3\t7.826048e+03\n",
      "INFO:gemseo.mda.mda:\t4\t6.507192e+00\n",
      "INFO:gemseo.mda.mda:\t5\t1.076560e-02\n",
      "INFO:gemseo.mda.mda:\t6\t8.503769e-06\n",
      "INFO:gemseo.mda.mda:\t7\t1.531069e-06\n",
      "INFO:gemseo.mda.mda:\t8\t1.191087e-07\n",
      "INFO:gemseo.algos.driver_lib:DOE sampling:  48%|████▊     | 48/100 [00:05<00:03, 16.94 it/sec, obj=97.7]\n",
      "INFO:SoS.EE.Coupling:doe.SellarDoeScenario.SellarCoupling MDA history\n",
      "INFO:SoS.EE.Coupling:\tIt.\tRes. norm\n",
      "INFO:gemseo.mda.mda:\t1\t2.043782e+07\n",
      "INFO:gemseo.mda.mda:\t2\t3.094172e+06\n",
      "INFO:gemseo.mda.mda:\t3\t5.264591e+03\n",
      "INFO:gemseo.mda.mda:\t4\t5.434195e+00\n",
      "INFO:gemseo.mda.mda:\t5\t9.896227e-03\n",
      "INFO:gemseo.mda.mda:\t6\t9.936074e-06\n",
      "INFO:gemseo.mda.mda:\t7\t1.915127e-06\n",
      "INFO:gemseo.mda.mda:\t8\t1.862932e-07\n",
      "INFO:gemseo.algos.driver_lib:DOE sampling:  49%|████▉     | 49/100 [00:06<00:03, 16.60 it/sec, obj=59.8]\n",
      "INFO:SoS.EE.Coupling:doe.SellarDoeScenario.SellarCoupling MDA history\n",
      "INFO:SoS.EE.Coupling:\tIt.\tRes. norm\n",
      "INFO:gemseo.mda.mda:\t1\t3.613200e+07\n",
      "INFO:gemseo.mda.mda:\t2\t4.134003e+06\n",
      "INFO:gemseo.mda.mda:\t3\t8.263742e+03\n",
      "INFO:gemseo.mda.mda:\t4\t5.694460e+00\n",
      "INFO:gemseo.mda.mda:\t5\t1.138465e-02\n",
      "INFO:gemseo.mda.mda:\t6\t7.970399e-06\n",
      "INFO:gemseo.mda.mda:\t7\t1.575239e-06\n",
      "INFO:gemseo.mda.mda:\t8\t1.098760e-07\n",
      "INFO:gemseo.algos.driver_lib:DOE sampling:  50%|█████     | 50/100 [00:06<00:03, 16.32 it/sec, obj=83.9]\n",
      "INFO:SoS.EE.Coupling:doe.SellarDoeScenario.SellarCoupling MDA history\n",
      "INFO:SoS.EE.Coupling:\tIt.\tRes. norm\n",
      "INFO:gemseo.mda.mda:\t1\t7.707936e+07\n",
      "INFO:gemseo.mda.mda:\t2\t7.038944e+06\n",
      "INFO:gemseo.mda.mda:\t3\t1.231361e+04\n",
      "INFO:gemseo.mda.mda:\t4\t6.701298e+00\n",
      "INFO:gemseo.mda.mda:\t5\t1.198432e-02\n",
      "INFO:gemseo.mda.mda:\t6\t6.213289e-06\n",
      "INFO:gemseo.mda.mda:\t7\t1.189178e-06\n",
      "INFO:gemseo.mda.mda:\t8\t5.617334e-08\n",
      "INFO:gemseo.algos.driver_lib:DOE sampling:  51%|█████     | 51/100 [00:06<00:03, 15.98 it/sec, obj=157]\n",
      "INFO:SoS.EE.Coupling:doe.SellarDoeScenario.SellarCoupling MDA history\n",
      "INFO:SoS.EE.Coupling:\tIt.\tRes. norm\n"
     ]
    },
    {
     "name": "stderr",
     "output_type": "stream",
     "text": [
      "INFO:gemseo.mda.mda:\t1\t5.130263e+06\n",
      "INFO:gemseo.mda.mda:\t2\t1.146366e+06\n",
      "INFO:gemseo.mda.mda:\t3\t1.823878e+03\n",
      "INFO:gemseo.mda.mda:\t4\t3.333910e+00\n",
      "INFO:gemseo.mda.mda:\t5\t6.615767e-03\n",
      "INFO:gemseo.mda.mda:\t6\t1.187358e-03\n",
      "INFO:gemseo.mda.mda:\t7\t2.337333e-04\n",
      "INFO:gemseo.mda.mda:\t8\t4.194883e-05\n",
      "INFO:gemseo.mda.mda:\t9\t8.257950e-06\n",
      "INFO:gemseo.mda.mda:\t10\t1.482313e-06\n",
      "INFO:gemseo.mda.mda:\t11\t2.912494e-07\n",
      "INFO:gemseo.algos.driver_lib:DOE sampling:  52%|█████▏    | 52/100 [00:06<00:03, 15.52 it/sec, obj=32.4]\n",
      "INFO:SoS.EE.Coupling:doe.SellarDoeScenario.SellarCoupling MDA history\n",
      "INFO:SoS.EE.Coupling:\tIt.\tRes. norm\n",
      "INFO:gemseo.mda.mda:\t1\t4.874736e+06\n",
      "INFO:gemseo.mda.mda:\t2\t1.091318e+06\n",
      "INFO:gemseo.mda.mda:\t3\t2.156425e+03\n",
      "INFO:gemseo.mda.mda:\t4\t3.665653e+00\n",
      "INFO:gemseo.mda.mda:\t5\t7.317072e-03\n",
      "INFO:gemseo.mda.mda:\t6\t1.264166e-05\n",
      "INFO:gemseo.mda.mda:\t7\t2.526428e-06\n",
      "INFO:gemseo.mda.mda:\t8\t4.290357e-07\n",
      "INFO:gemseo.algos.driver_lib:DOE sampling:  53%|█████▎    | 53/100 [00:06<00:03, 15.25 it/sec, obj=79.7]\n",
      "INFO:SoS.EE.Coupling:doe.SellarDoeScenario.SellarCoupling MDA history\n",
      "INFO:SoS.EE.Coupling:\tIt.\tRes. norm\n",
      "INFO:gemseo.mda.mda:\t1\t6.684062e+07\n",
      "INFO:gemseo.mda.mda:\t2\t6.495729e+06\n",
      "INFO:gemseo.mda.mda:\t3\t1.128189e+04\n",
      "INFO:gemseo.mda.mda:\t4\t6.622262e+00\n",
      "INFO:gemseo.mda.mda:\t5\t1.180441e-02\n",
      "INFO:gemseo.mda.mda:\t6\t6.611227e-06\n",
      "INFO:gemseo.mda.mda:\t7\t1.260710e-06\n",
      "INFO:gemseo.mda.mda:\t8\t6.833781e-08\n",
      "INFO:gemseo.algos.driver_lib:DOE sampling:  54%|█████▍    | 54/100 [00:06<00:03, 14.98 it/sec, obj=177]\n",
      "INFO:SoS.EE.Coupling:doe.SellarDoeScenario.SellarCoupling MDA history\n",
      "INFO:SoS.EE.Coupling:\tIt.\tRes. norm\n",
      "INFO:gemseo.mda.mda:\t1\t3.410118e+07\n",
      "INFO:gemseo.mda.mda:\t2\t3.997813e+06\n",
      "INFO:gemseo.mda.mda:\t3\t7.949723e+03\n",
      "INFO:gemseo.mda.mda:\t4\t5.666560e+00\n",
      "INFO:gemseo.mda.mda:\t5\t1.128788e-02\n",
      "INFO:gemseo.mda.mda:\t6\t8.106099e-06\n",
      "INFO:gemseo.mda.mda:\t7\t1.613856e-06\n",
      "INFO:gemseo.mda.mda:\t8\t1.153692e-07\n",
      "INFO:SoS.EE.Coupling:doe.SellarDoeScenario.SellarCoupling MDA history\n",
      "INFO:SoS.EE.Coupling:\tIt.\tRes. norm\n",
      "INFO:gemseo.mda.mda:\t1\t7.039808e+06\n",
      "INFO:gemseo.mda.mda:\t2\t1.427574e+06\n",
      "INFO:gemseo.mda.mda:\t3\t2.784012e+03\n",
      "INFO:gemseo.mda.mda:\t4\t4.118868e+00\n",
      "INFO:gemseo.mda.mda:\t5\t8.177282e-03\n",
      "INFO:gemseo.mda.mda:\t6\t1.244660e-05\n",
      "INFO:gemseo.mda.mda:\t7\t2.412902e-06\n",
      "INFO:gemseo.mda.mda:\t8\t3.653460e-07\n",
      "INFO:gemseo.algos.driver_lib:DOE sampling:  56%|█████▌    | 56/100 [00:06<00:03, 14.55 it/sec, obj=25.8]\n",
      "INFO:SoS.EE.Coupling:doe.SellarDoeScenario.SellarCoupling MDA history\n",
      "INFO:SoS.EE.Coupling:\tIt.\tRes. norm\n",
      "INFO:gemseo.mda.mda:\t1\t1.020238e+07\n",
      "INFO:gemseo.mda.mda:\t2\t2.019434e+06\n",
      "INFO:gemseo.mda.mda:\t3\t2.446719e+03\n",
      "INFO:gemseo.mda.mda:\t4\t4.278896e+00\n",
      "INFO:gemseo.mda.mda:\t5\t6.969811e-03\n",
      "INFO:gemseo.mda.mda:\t6\t1.202353e-05\n",
      "INFO:gemseo.mda.mda:\t7\t2.070010e-06\n",
      "INFO:gemseo.mda.mda:\t8\t3.420421e-07\n",
      "INFO:SoS.EE.Coupling:doe.SellarDoeScenario.SellarCoupling MDA history\n",
      "INFO:SoS.EE.Coupling:\tIt.\tRes. norm\n",
      "INFO:gemseo.mda.mda:\t1\t1.874830e+07\n",
      "INFO:gemseo.mda.mda:\t2\t2.831207e+06\n",
      "INFO:gemseo.mda.mda:\t3\t5.236636e+03\n",
      "INFO:gemseo.mda.mda:\t4\t5.252287e+00\n",
      "INFO:gemseo.mda.mda:\t5\t1.006243e-02\n",
      "INFO:gemseo.mda.mda:\t6\t9.953997e-06\n",
      "INFO:gemseo.mda.mda:\t7\t1.974190e-06\n",
      "INFO:gemseo.mda.mda:\t8\t1.904268e-07\n",
      "INFO:gemseo.algos.driver_lib:DOE sampling:  58%|█████▊    | 58/100 [00:07<00:02, 14.14 it/sec, obj=107]\n",
      "INFO:SoS.EE.Coupling:doe.SellarDoeScenario.SellarCoupling MDA history\n",
      "INFO:SoS.EE.Coupling:\tIt.\tRes. norm\n",
      "INFO:gemseo.mda.mda:\t1\t7.414126e+07\n",
      "INFO:gemseo.mda.mda:\t2\t6.958840e+06\n",
      "INFO:gemseo.mda.mda:\t3\t1.196744e+04\n",
      "INFO:gemseo.mda.mda:\t4\t6.748458e+00\n",
      "INFO:gemseo.mda.mda:\t5\t1.190527e-02\n",
      "INFO:gemseo.mda.mda:\t6\t6.384463e-06\n",
      "INFO:gemseo.mda.mda:\t7\t1.210438e-06\n",
      "INFO:gemseo.mda.mda:\t8\t6.355287e-08\n",
      "INFO:gemseo.algos.driver_lib:DOE sampling:  59%|█████▉    | 59/100 [00:07<00:02, 13.94 it/sec, obj=209]\n",
      "INFO:SoS.EE.Coupling:doe.SellarDoeScenario.SellarCoupling MDA history\n",
      "INFO:SoS.EE.Coupling:\tIt.\tRes. norm\n",
      "INFO:gemseo.mda.mda:\t1\t5.748778e+07\n",
      "INFO:gemseo.mda.mda:\t2\t5.808857e+06\n",
      "INFO:gemseo.mda.mda:\t3\t1.041989e+04\n",
      "INFO:gemseo.mda.mda:\t4\t6.372461e+00\n",
      "INFO:gemseo.mda.mda:\t5\t1.169446e-02\n",
      "INFO:gemseo.mda.mda:\t6\t6.880050e-06\n",
      "INFO:gemseo.mda.mda:\t7\t1.339691e-06\n",
      "INFO:gemseo.mda.mda:\t8\t7.799805e-08\n",
      "INFO:SoS.EE.Coupling:doe.SellarDoeScenario.SellarCoupling MDA history\n",
      "INFO:SoS.EE.Coupling:\tIt.\tRes. norm\n",
      "INFO:gemseo.mda.mda:\t1\t6.272691e+06\n",
      "INFO:gemseo.mda.mda:\t2\t1.354923e+06\n",
      "INFO:gemseo.mda.mda:\t3\t1.731121e+03\n",
      "INFO:gemseo.mda.mda:\t4\t3.314347e+00\n",
      "INFO:gemseo.mda.mda:\t5\t6.243876e-03\n",
      "INFO:gemseo.mda.mda:\t6\t1.166874e-03\n",
      "INFO:gemseo.mda.mda:\t7\t2.186443e-04\n",
      "INFO:gemseo.mda.mda:\t8\t4.086115e-05\n",
      "INFO:gemseo.mda.mda:\t9\t7.656974e-06\n",
      "INFO:gemseo.mda.mda:\t10\t1.431275e-06\n",
      "INFO:gemseo.mda.mda:\t11\t2.675909e-07\n",
      "INFO:gemseo.algos.driver_lib:DOE sampling:  61%|██████    | 61/100 [00:07<00:02, 13.46 it/sec, obj=23.7]\n",
      "INFO:SoS.EE.Coupling:doe.SellarDoeScenario.SellarCoupling MDA history\n",
      "INFO:SoS.EE.Coupling:\tIt.\tRes. norm\n",
      "INFO:gemseo.mda.mda:\t1\t3.183918e+07\n",
      "INFO:gemseo.mda.mda:\t2\t4.040659e+06\n",
      "INFO:gemseo.mda.mda:\t3\t7.227508e+03\n",
      "INFO:gemseo.mda.mda:\t4\t5.855098e+00\n",
      "INFO:gemseo.mda.mda:\t5\t1.085510e-02\n",
      "INFO:gemseo.mda.mda:\t6\t8.536785e-06\n",
      "INFO:gemseo.mda.mda:\t7\t1.669634e-06\n",
      "INFO:gemseo.mda.mda:\t8\t1.291742e-07\n",
      "INFO:gemseo.algos.driver_lib:DOE sampling:  62%|██████▏   | 62/100 [00:07<00:02, 13.27 it/sec, obj=93.4]\n",
      "INFO:SoS.EE.Coupling:doe.SellarDoeScenario.SellarCoupling MDA history\n",
      "INFO:SoS.EE.Coupling:\tIt.\tRes. norm\n",
      "INFO:gemseo.mda.mda:\t1\t4.143118e+07\n",
      "INFO:gemseo.mda.mda:\t2\t4.750827e+06\n",
      "INFO:gemseo.mda.mda:\t3\t8.540931e+03\n",
      "INFO:gemseo.mda.mda:\t4\t6.090343e+00\n",
      "INFO:gemseo.mda.mda:\t5\t1.126583e-02\n",
      "INFO:gemseo.mda.mda:\t6\t7.770372e-06\n",
      "INFO:gemseo.mda.mda:\t7\t1.516818e-06\n",
      "INFO:gemseo.mda.mda:\t8\t1.023604e-07\n",
      "INFO:SoS.EE.Coupling:doe.SellarDoeScenario.SellarCoupling MDA history\n",
      "INFO:SoS.EE.Coupling:\tIt.\tRes. norm\n",
      "INFO:gemseo.mda.mda:\t1\t1.033343e+07\n",
      "INFO:gemseo.mda.mda:\t2\t1.907262e+06\n",
      "INFO:gemseo.mda.mda:\t3\t3.415916e+03\n",
      "INFO:gemseo.mda.mda:\t4\t4.534462e+00\n",
      "INFO:gemseo.mda.mda:\t5\t8.689783e-03\n",
      "INFO:gemseo.mda.mda:\t6\t1.145920e-05\n",
      "INFO:gemseo.mda.mda:\t7\t2.267631e-06\n",
      "INFO:gemseo.mda.mda:\t8\t2.910523e-07\n",
      "INFO:gemseo.algos.driver_lib:DOE sampling:  64%|██████▍   | 64/100 [00:07<00:02, 12.94 it/sec, obj=74.1]\n",
      "INFO:SoS.EE.Coupling:doe.SellarDoeScenario.SellarCoupling MDA history\n",
      "INFO:SoS.EE.Coupling:\tIt.\tRes. norm\n",
      "INFO:gemseo.mda.mda:\t1\t1.160261e+07\n",
      "INFO:gemseo.mda.mda:\t2\t2.259464e+06\n",
      "INFO:gemseo.mda.mda:\t3\t2.560103e+03\n",
      "INFO:gemseo.mda.mda:\t4\t4.557269e+00\n",
      "INFO:gemseo.mda.mda:\t5\t7.017227e-03\n",
      "INFO:gemseo.mda.mda:\t6\t1.230547e-05\n",
      "INFO:gemseo.mda.mda:\t7\t2.008931e-06\n",
      "INFO:gemseo.mda.mda:\t8\t3.366653e-07\n",
      "INFO:gemseo.algos.driver_lib:DOE sampling:  65%|██████▌   | 65/100 [00:07<00:02, 12.73 it/sec, obj=30.1]\n",
      "INFO:SoS.EE.Coupling:doe.SellarDoeScenario.SellarCoupling MDA history\n",
      "INFO:SoS.EE.Coupling:\tIt.\tRes. norm\n",
      "INFO:gemseo.mda.mda:\t1\t1.520488e+07\n",
      "INFO:gemseo.mda.mda:\t2\t2.568653e+06\n",
      "INFO:gemseo.mda.mda:\t3\t4.150861e+03\n",
      "INFO:gemseo.mda.mda:\t4\t5.058452e+00\n",
      "INFO:gemseo.mda.mda:\t5\t9.081385e-03\n",
      "INFO:gemseo.mda.mda:\t6\t1.079525e-05\n",
      "INFO:gemseo.mda.mda:\t7\t2.053187e-06\n",
      "INFO:gemseo.mda.mda:\t8\t2.369956e-07\n",
      "INFO:gemseo.algos.driver_lib:DOE sampling:  66%|██████▌   | 66/100 [00:07<00:02, 12.57 it/sec, obj=88.7]\n",
      "INFO:SoS.EE.Coupling:doe.SellarDoeScenario.SellarCoupling MDA history\n",
      "INFO:SoS.EE.Coupling:\tIt.\tRes. norm\n",
      "INFO:gemseo.mda.mda:\t1\t6.364772e+07\n",
      "INFO:gemseo.mda.mda:\t2\t5.793688e+06\n",
      "INFO:gemseo.mda.mda:\t3\t1.146279e+04\n",
      "INFO:gemseo.mda.mda:\t4\t6.065475e+00\n",
      "INFO:gemseo.mda.mda:\t5\t1.202568e-02\n",
      "INFO:gemseo.mda.mda:\t6\t6.360925e-06\n",
      "INFO:gemseo.mda.mda:\t7\t1.266282e-06\n",
      "INFO:gemseo.mda.mda:\t8\t6.732603e-08\n",
      "INFO:gemseo.algos.driver_lib:DOE sampling:  67%|██████▋   | 67/100 [00:08<00:02, 12.39 it/sec, obj=142]\n",
      "INFO:SoS.EE.Coupling:doe.SellarDoeScenario.SellarCoupling MDA history\n",
      "INFO:SoS.EE.Coupling:\tIt.\tRes. norm\n",
      "INFO:gemseo.mda.mda:\t1\t2.222750e+07\n",
      "INFO:gemseo.mda.mda:\t2\t3.069199e+06\n",
      "INFO:gemseo.mda.mda:\t3\t6.122264e+03\n",
      "INFO:gemseo.mda.mda:\t4\t5.335024e+00\n",
      "INFO:gemseo.mda.mda:\t5\t1.065320e-02\n",
      "INFO:gemseo.mda.mda:\t6\t9.401839e-06\n",
      "INFO:gemseo.mda.mda:\t7\t1.867214e-06\n",
      "INFO:gemseo.mda.mda:\t8\t1.632751e-07\n",
      "INFO:gemseo.algos.driver_lib:DOE sampling:  68%|██████▊   | 68/100 [00:08<00:02, 12.19 it/sec, obj=46.3]\n",
      "INFO:SoS.EE.Coupling:doe.SellarDoeScenario.SellarCoupling MDA history\n"
     ]
    },
    {
     "name": "stderr",
     "output_type": "stream",
     "text": [
      "INFO:SoS.EE.Coupling:\tIt.\tRes. norm\n",
      "INFO:gemseo.mda.mda:\t1\t1.878409e+07\n",
      "INFO:gemseo.mda.mda:\t2\t2.843755e+06\n",
      "INFO:gemseo.mda.mda:\t3\t5.215703e+03\n",
      "INFO:gemseo.mda.mda:\t4\t5.261586e+00\n",
      "INFO:gemseo.mda.mda:\t5\t1.003269e-02\n",
      "INFO:gemseo.mda.mda:\t6\t9.964394e-06\n",
      "INFO:gemseo.mda.mda:\t7\t1.972972e-06\n",
      "INFO:gemseo.mda.mda:\t8\t1.908075e-07\n",
      "INFO:gemseo.algos.driver_lib:DOE sampling:  69%|██████▉   | 69/100 [00:08<00:02, 11.99 it/sec, obj=91.2]\n",
      "INFO:SoS.EE.Coupling:doe.SellarDoeScenario.SellarCoupling MDA history\n",
      "INFO:SoS.EE.Coupling:\tIt.\tRes. norm\n",
      "INFO:gemseo.mda.mda:\t1\t2.465368e+07\n",
      "INFO:gemseo.mda.mda:\t2\t3.790684e+06\n",
      "INFO:gemseo.mda.mda:\t3\t5.273030e+03\n",
      "INFO:gemseo.mda.mda:\t4\t5.988615e+00\n",
      "INFO:gemseo.mda.mda:\t5\t9.463118e-03\n",
      "INFO:gemseo.mda.mda:\t6\t1.028356e-05\n",
      "INFO:gemseo.mda.mda:\t7\t1.774382e-06\n",
      "INFO:gemseo.mda.mda:\t8\t1.860517e-07\n",
      "INFO:gemseo.algos.driver_lib:DOE sampling:  70%|███████   | 70/100 [00:08<00:02, 11.76 it/sec, obj=74.9]\n",
      "INFO:SoS.EE.Coupling:doe.SellarDoeScenario.SellarCoupling MDA history\n",
      "INFO:SoS.EE.Coupling:\tIt.\tRes. norm\n",
      "INFO:gemseo.mda.mda:\t1\t1.187618e+07\n",
      "INFO:gemseo.mda.mda:\t2\t2.297557e+06\n",
      "INFO:gemseo.mda.mda:\t3\t2.631251e+03\n",
      "INFO:gemseo.mda.mda:\t4\t4.608875e+00\n",
      "INFO:gemseo.mda.mda:\t5\t7.102265e-03\n",
      "INFO:gemseo.mda.mda:\t6\t1.223397e-05\n",
      "INFO:gemseo.mda.mda:\t7\t2.004188e-06\n",
      "INFO:gemseo.mda.mda:\t8\t3.303546e-07\n",
      "INFO:gemseo.algos.driver_lib:DOE sampling:  71%|███████   | 71/100 [00:08<00:02, 11.58 it/sec, obj=38.6]\n",
      "INFO:SoS.EE.Coupling:doe.SellarDoeScenario.SellarCoupling MDA history\n",
      "INFO:SoS.EE.Coupling:\tIt.\tRes. norm\n",
      "INFO:gemseo.mda.mda:\t1\t4.706722e+07\n",
      "INFO:gemseo.mda.mda:\t2\t5.242810e+06\n",
      "INFO:gemseo.mda.mda:\t3\t9.109786e+03\n",
      "INFO:gemseo.mda.mda:\t4\t6.314693e+00\n",
      "INFO:gemseo.mda.mda:\t5\t1.135078e-02\n",
      "INFO:gemseo.mda.mda:\t6\t7.550656e-06\n",
      "INFO:gemseo.mda.mda:\t7\t1.443819e-06\n",
      "INFO:gemseo.mda.mda:\t8\t9.294947e-08\n",
      "INFO:gemseo.algos.driver_lib:DOE sampling:  72%|███████▏  | 72/100 [00:08<00:02, 11.42 it/sec, obj=77.3]\n",
      "INFO:SoS.EE.Coupling:doe.SellarDoeScenario.SellarCoupling MDA history\n",
      "INFO:SoS.EE.Coupling:\tIt.\tRes. norm\n",
      "INFO:gemseo.mda.mda:\t1\t3.358669e+06\n",
      "INFO:gemseo.mda.mda:\t2\t7.593282e+05\n",
      "INFO:gemseo.mda.mda:\t3\t1.175619e+03\n",
      "INFO:gemseo.mda.mda:\t4\t2.360740e+00\n",
      "INFO:gemseo.mda.mda:\t5\t5.795339e-03\n",
      "INFO:gemseo.mda.mda:\t6\t1.160007e-03\n",
      "INFO:gemseo.mda.mda:\t7\t2.786427e-04\n",
      "INFO:gemseo.mda.mda:\t8\t5.577396e-05\n",
      "INFO:gemseo.mda.mda:\t9\t1.339723e-05\n",
      "INFO:gemseo.mda.mda:\t10\t2.681886e-06\n",
      "INFO:gemseo.mda.mda:\t11\t6.442876e-07\n",
      "INFO:gemseo.algos.driver_lib:DOE sampling:  73%|███████▎  | 73/100 [00:08<00:02, 11.24 it/sec, obj=20.9]\n",
      "INFO:SoS.EE.Coupling:doe.SellarDoeScenario.SellarCoupling MDA history\n",
      "INFO:SoS.EE.Coupling:\tIt.\tRes. norm\n",
      "INFO:gemseo.mda.mda:\t1\t2.717818e+06\n",
      "INFO:gemseo.mda.mda:\t2\t6.613473e+05\n",
      "INFO:gemseo.mda.mda:\t3\t9.975716e+02\n",
      "INFO:gemseo.mda.mda:\t4\t2.104550e+00\n",
      "INFO:gemseo.mda.mda:\t5\t4.663061e-03\n",
      "INFO:gemseo.mda.mda:\t6\t1.014044e-03\n",
      "INFO:gemseo.mda.mda:\t7\t2.162811e-04\n",
      "INFO:gemseo.mda.mda:\t8\t4.703337e-05\n",
      "INFO:gemseo.mda.mda:\t9\t1.003174e-05\n",
      "INFO:gemseo.mda.mda:\t10\t2.181639e-06\n",
      "INFO:gemseo.mda.mda:\t11\t4.651397e-07\n",
      "INFO:gemseo.algos.driver_lib:DOE sampling:  74%|███████▍  | 74/100 [00:09<00:02, 11.03 it/sec, obj=22.4]\n",
      "INFO:SoS.EE.Coupling:doe.SellarDoeScenario.SellarCoupling MDA history\n",
      "INFO:SoS.EE.Coupling:\tIt.\tRes. norm\n",
      "INFO:gemseo.mda.mda:\t1\t5.696953e+07\n",
      "INFO:gemseo.mda.mda:\t2\t5.419752e+06\n",
      "INFO:gemseo.mda.mda:\t3\t1.083082e+04\n",
      "INFO:gemseo.mda.mda:\t4\t5.971599e+00\n",
      "INFO:gemseo.mda.mda:\t5\t1.193586e-02\n",
      "INFO:gemseo.mda.mda:\t6\t6.744182e-06\n",
      "INFO:gemseo.mda.mda:\t7\t1.319134e-06\n",
      "INFO:gemseo.mda.mda:\t8\t7.557349e-08\n",
      "INFO:gemseo.algos.driver_lib:DOE sampling:  75%|███████▌  | 75/100 [00:09<00:02, 10.90 it/sec, obj=183]\n",
      "INFO:SoS.EE.Coupling:doe.SellarDoeScenario.SellarCoupling MDA history\n",
      "INFO:SoS.EE.Coupling:\tIt.\tRes. norm\n",
      "INFO:gemseo.mda.mda:\t1\t1.474507e+07\n",
      "INFO:gemseo.mda.mda:\t2\t2.530493e+06\n",
      "INFO:gemseo.mda.mda:\t3\t3.991316e+03\n",
      "INFO:gemseo.mda.mda:\t4\t5.017349e+00\n",
      "INFO:gemseo.mda.mda:\t5\t8.910497e-03\n",
      "INFO:gemseo.mda.mda:\t6\t1.092059e-05\n",
      "INFO:gemseo.mda.mda:\t7\t2.060643e-06\n",
      "INFO:gemseo.mda.mda:\t8\t2.441053e-07\n",
      "INFO:gemseo.algos.driver_lib:DOE sampling:  76%|███████▌  | 76/100 [00:09<00:02, 10.76 it/sec, obj=36.3]\n",
      "INFO:SoS.EE.Coupling:doe.SellarDoeScenario.SellarCoupling MDA history\n",
      "INFO:SoS.EE.Coupling:\tIt.\tRes. norm\n",
      "INFO:gemseo.mda.mda:\t1\t4.072081e+07\n",
      "INFO:gemseo.mda.mda:\t2\t4.487213e+06\n",
      "INFO:gemseo.mda.mda:\t3\t8.762589e+03\n",
      "INFO:gemseo.mda.mda:\t4\t5.836128e+00\n",
      "INFO:gemseo.mda.mda:\t5\t1.147157e-02\n",
      "INFO:gemseo.mda.mda:\t6\t7.591718e-06\n",
      "INFO:gemseo.mda.mda:\t7\t1.517337e-06\n",
      "INFO:gemseo.mda.mda:\t8\t1.004859e-07\n",
      "INFO:gemseo.algos.driver_lib:DOE sampling:  77%|███████▋  | 77/100 [00:09<00:02, 10.64 it/sec, obj=172]\n",
      "INFO:SoS.EE.Coupling:doe.SellarDoeScenario.SellarCoupling MDA history\n",
      "INFO:SoS.EE.Coupling:\tIt.\tRes. norm\n",
      "INFO:gemseo.mda.mda:\t1\t4.418162e+07\n",
      "INFO:gemseo.mda.mda:\t2\t4.660565e+06\n",
      "INFO:gemseo.mda.mda:\t3\t9.318750e+03\n",
      "INFO:gemseo.mda.mda:\t4\t5.822222e+00\n",
      "INFO:gemseo.mda.mda:\t5\t1.164213e-02\n",
      "INFO:gemseo.mda.mda:\t6\t7.397180e-06\n",
      "INFO:gemseo.mda.mda:\t7\t1.459262e-06\n",
      "INFO:gemseo.mda.mda:\t8\t9.264344e-08\n",
      "INFO:gemseo.algos.driver_lib:DOE sampling:  78%|███████▊  | 78/100 [00:09<00:02, 10.52 it/sec, obj=128]\n",
      "INFO:SoS.EE.Coupling:doe.SellarDoeScenario.SellarCoupling MDA history\n",
      "INFO:SoS.EE.Coupling:\tIt.\tRes. norm\n",
      "INFO:gemseo.mda.mda:\t1\t1.615357e+07\n",
      "INFO:gemseo.mda.mda:\t2\t2.876350e+06\n",
      "INFO:gemseo.mda.mda:\t3\t3.541673e+03\n",
      "INFO:gemseo.mda.mda:\t4\t5.272831e+00\n",
      "INFO:gemseo.mda.mda:\t5\t8.055144e-03\n",
      "INFO:gemseo.mda.mda:\t6\t1.162590e-05\n",
      "INFO:gemseo.mda.mda:\t7\t1.922831e-06\n",
      "INFO:gemseo.mda.mda:\t8\t2.631168e-07\n",
      "INFO:gemseo.algos.driver_lib:DOE sampling:  79%|███████▉  | 79/100 [00:09<00:02, 10.40 it/sec, obj=119]\n",
      "INFO:SoS.EE.Coupling:doe.SellarDoeScenario.SellarCoupling MDA history\n",
      "INFO:SoS.EE.Coupling:\tIt.\tRes. norm\n",
      "INFO:gemseo.mda.mda:\t1\t2.483734e+07\n",
      "INFO:gemseo.mda.mda:\t2\t3.430702e+06\n",
      "INFO:gemseo.mda.mda:\t3\t6.202721e+03\n",
      "INFO:gemseo.mda.mda:\t4\t5.580017e+00\n",
      "INFO:gemseo.mda.mda:\t5\t1.048131e-02\n",
      "INFO:gemseo.mda.mda:\t6\t9.213573e-06\n",
      "INFO:gemseo.mda.mda:\t7\t1.810434e-06\n",
      "INFO:gemseo.mda.mda:\t8\t1.561780e-07\n",
      "INFO:gemseo.algos.driver_lib:DOE sampling:  80%|████████  | 80/100 [00:09<00:01, 10.28 it/sec, obj=116]\n",
      "INFO:SoS.EE.Coupling:doe.SellarDoeScenario.SellarCoupling MDA history\n",
      "INFO:SoS.EE.Coupling:\tIt.\tRes. norm\n",
      "INFO:gemseo.mda.mda:\t1\t7.662463e+06\n",
      "INFO:gemseo.mda.mda:\t2\t1.594788e+06\n",
      "INFO:gemseo.mda.mda:\t3\t2.067518e+03\n",
      "INFO:gemseo.mda.mda:\t4\t3.735739e+00\n",
      "INFO:gemseo.mda.mda:\t5\t6.809053e-03\n",
      "INFO:gemseo.mda.mda:\t6\t1.182002e-03\n",
      "INFO:gemseo.mda.mda:\t7\t2.163823e-04\n",
      "INFO:gemseo.mda.mda:\t8\t3.756118e-05\n",
      "INFO:gemseo.mda.mda:\t9\t6.875904e-06\n",
      "INFO:gemseo.mda.mda:\t10\t1.194158e-06\n",
      "INFO:gemseo.mda.mda:\t11\t2.181522e-07\n",
      "INFO:gemseo.algos.driver_lib:DOE sampling:  81%|████████  | 81/100 [00:09<00:01, 10.13 it/sec, obj=57]\n",
      "INFO:SoS.EE.Coupling:doe.SellarDoeScenario.SellarCoupling MDA history\n",
      "INFO:SoS.EE.Coupling:\tIt.\tRes. norm\n",
      "INFO:gemseo.mda.mda:\t1\t4.350738e+07\n",
      "INFO:gemseo.mda.mda:\t2\t5.151927e+06\n",
      "INFO:gemseo.mda.mda:\t3\t8.465739e+03\n",
      "INFO:gemseo.mda.mda:\t4\t6.417072e+00\n",
      "INFO:gemseo.mda.mda:\t5\t1.107661e-02\n",
      "INFO:gemseo.mda.mda:\t6\t8.004093e-06\n",
      "INFO:gemseo.mda.mda:\t7\t1.490752e-06\n",
      "INFO:gemseo.mda.mda:\t8\t1.035785e-07\n",
      "INFO:gemseo.algos.driver_lib:DOE sampling:  82%|████████▏ | 82/100 [00:09<00:01, 10.01 it/sec, obj=108]\n",
      "INFO:SoS.EE.Coupling:doe.SellarDoeScenario.SellarCoupling MDA history\n",
      "INFO:SoS.EE.Coupling:\tIt.\tRes. norm\n",
      "INFO:gemseo.mda.mda:\t1\t3.117389e+06\n",
      "INFO:gemseo.mda.mda:\t2\t7.713348e+05\n",
      "INFO:gemseo.mda.mda:\t3\t1.379945e+03\n",
      "INFO:gemseo.mda.mda:\t4\t2.825914e+00\n",
      "INFO:gemseo.mda.mda:\t5\t5.781135e-03\n",
      "INFO:gemseo.mda.mda:\t6\t1.187084e-03\n",
      "INFO:gemseo.mda.mda:\t7\t2.376571e-04\n",
      "INFO:gemseo.mda.mda:\t8\t4.880002e-05\n",
      "INFO:gemseo.mda.mda:\t9\t9.769771e-06\n",
      "INFO:gemseo.mda.mda:\t10\t2.006268e-06\n",
      "INFO:gemseo.mda.mda:\t11\t4.021443e-07\n",
      "INFO:gemseo.algos.driver_lib:DOE sampling:  83%|████████▎ | 83/100 [00:10<00:01,  9.87 it/sec, obj=43.7]\n",
      "INFO:SoS.EE.Coupling:doe.SellarDoeScenario.SellarCoupling MDA history\n",
      "INFO:SoS.EE.Coupling:\tIt.\tRes. norm\n",
      "INFO:gemseo.mda.mda:\t1\t1.453159e+07\n",
      "INFO:gemseo.mda.mda:\t2\t2.343899e+06\n",
      "INFO:gemseo.mda.mda:\t3\t4.672090e+03\n",
      "INFO:gemseo.mda.mda:\t4\t4.954828e+00\n",
      "INFO:gemseo.mda.mda:\t5\t9.893545e-03\n",
      "INFO:gemseo.mda.mda:\t6\t1.076381e-05\n",
      "INFO:gemseo.mda.mda:\t7\t2.100722e-06\n"
     ]
    },
    {
     "name": "stderr",
     "output_type": "stream",
     "text": [
      "INFO:gemseo.mda.mda:\t8\t2.279316e-07\n",
      "INFO:gemseo.algos.driver_lib:DOE sampling:  84%|████████▍ | 84/100 [00:10<00:01,  9.76 it/sec, obj=51.2]\n",
      "INFO:SoS.EE.Coupling:doe.SellarDoeScenario.SellarCoupling MDA history\n",
      "INFO:SoS.EE.Coupling:\tIt.\tRes. norm\n",
      "INFO:gemseo.mda.mda:\t1\t9.884806e+06\n",
      "INFO:gemseo.mda.mda:\t2\t1.826424e+06\n",
      "INFO:gemseo.mda.mda:\t3\t3.457623e+03\n",
      "INFO:gemseo.mda.mda:\t4\t4.513285e+00\n",
      "INFO:gemseo.mda.mda:\t5\t8.843692e-03\n",
      "INFO:gemseo.mda.mda:\t6\t1.155732e-05\n",
      "INFO:gemseo.mda.mda:\t7\t2.308451e-06\n",
      "INFO:gemseo.mda.mda:\t8\t2.953223e-07\n",
      "INFO:gemseo.algos.driver_lib:DOE sampling:  85%|████████▌ | 85/100 [00:10<00:01,  9.65 it/sec, obj=103]\n",
      "INFO:SoS.EE.Coupling:doe.SellarDoeScenario.SellarCoupling MDA history\n",
      "INFO:SoS.EE.Coupling:\tIt.\tRes. norm\n",
      "INFO:gemseo.mda.mda:\t1\t2.221195e+07\n",
      "INFO:gemseo.mda.mda:\t2\t3.193643e+06\n",
      "INFO:gemseo.mda.mda:\t3\t5.763957e+03\n",
      "INFO:gemseo.mda.mda:\t4\t5.462886e+00\n",
      "INFO:gemseo.mda.mda:\t5\t1.027843e-02\n",
      "INFO:gemseo.mda.mda:\t6\t9.536493e-06\n",
      "INFO:gemseo.mda.mda:\t7\t1.874213e-06\n",
      "INFO:gemseo.mda.mda:\t8\t1.702200e-07\n",
      "INFO:gemseo.algos.driver_lib:DOE sampling:  86%|████████▌ | 86/100 [00:10<00:01,  9.54 it/sec, obj=116]\n",
      "INFO:SoS.EE.Coupling:doe.SellarDoeScenario.SellarCoupling MDA history\n",
      "INFO:SoS.EE.Coupling:\tIt.\tRes. norm\n",
      "INFO:gemseo.mda.mda:\t1\t7.866242e+06\n",
      "INFO:gemseo.mda.mda:\t2\t1.581463e+06\n",
      "INFO:gemseo.mda.mda:\t3\t2.688413e+03\n",
      "INFO:gemseo.mda.mda:\t4\t4.102922e+00\n",
      "INFO:gemseo.mda.mda:\t5\t7.809317e-03\n",
      "INFO:gemseo.mda.mda:\t6\t1.187233e-05\n",
      "INFO:gemseo.mda.mda:\t7\t2.333068e-06\n",
      "INFO:gemseo.mda.mda:\t8\t3.443842e-07\n",
      "INFO:gemseo.algos.driver_lib:DOE sampling:  87%|████████▋ | 87/100 [00:10<00:01,  9.44 it/sec, obj=28]\n",
      "INFO:SoS.EE.Coupling:doe.SellarDoeScenario.SellarCoupling MDA history\n",
      "INFO:SoS.EE.Coupling:\tIt.\tRes. norm\n",
      "INFO:gemseo.mda.mda:\t1\t6.835471e+07\n",
      "INFO:gemseo.mda.mda:\t2\t6.517591e+06\n",
      "INFO:gemseo.mda.mda:\t3\t1.149207e+04\n",
      "INFO:gemseo.mda.mda:\t4\t6.575952e+00\n",
      "INFO:gemseo.mda.mda:\t5\t1.186377e-02\n",
      "INFO:gemseo.mda.mda:\t6\t6.493008e-06\n",
      "INFO:gemseo.mda.mda:\t7\t1.249487e-06\n",
      "INFO:gemseo.mda.mda:\t8\t6.833781e-08\n",
      "INFO:gemseo.algos.driver_lib:DOE sampling:  88%|████████▊ | 88/100 [00:10<00:01,  9.34 it/sec, obj=165]\n",
      "INFO:SoS.EE.Coupling:doe.SellarDoeScenario.SellarCoupling MDA history\n",
      "INFO:SoS.EE.Coupling:\tIt.\tRes. norm\n",
      "INFO:gemseo.mda.mda:\t1\t1.419190e+07\n",
      "INFO:gemseo.mda.mda:\t2\t2.667067e+06\n",
      "INFO:gemseo.mda.mda:\t3\t2.917333e+03\n",
      "INFO:gemseo.mda.mda:\t4\t5.044457e+00\n",
      "INFO:gemseo.mda.mda:\t5\t7.324547e-03\n",
      "INFO:gemseo.mda.mda:\t6\t1.240734e-05\n",
      "INFO:gemseo.mda.mda:\t7\t1.930390e-06\n",
      "INFO:gemseo.mda.mda:\t8\t3.117721e-07\n",
      "INFO:gemseo.algos.driver_lib:DOE sampling:  89%|████████▉ | 89/100 [00:10<00:01,  9.25 it/sec, obj=43]\n",
      "INFO:SoS.EE.Coupling:doe.SellarDoeScenario.SellarCoupling MDA history\n",
      "INFO:SoS.EE.Coupling:\tIt.\tRes. norm\n",
      "INFO:gemseo.mda.mda:\t1\t3.586707e+05\n",
      "INFO:gemseo.mda.mda:\t2\t7.512163e+04\n",
      "INFO:gemseo.mda.mda:\t3\t3.038154e+02\n",
      "INFO:gemseo.mda.mda:\t4\t7.012141e-01\n",
      "INFO:gemseo.mda.mda:\t5\t2.135132e-03\n",
      "INFO:gemseo.mda.mda:\t6\t5.689194e-04\n",
      "INFO:gemseo.mda.mda:\t7\t1.547885e-04\n",
      "INFO:gemseo.mda.mda:\t8\t4.124425e-05\n",
      "INFO:gemseo.mda.mda:\t9\t1.122142e-05\n",
      "INFO:gemseo.mda.mda:\t10\t2.989981e-06\n",
      "INFO:gemseo.mda.mda:\t11\t8.135635e-07\n",
      "INFO:gemseo.algos.driver_lib:DOE sampling:  90%|█████████ | 90/100 [00:10<00:01,  9.12 it/sec, obj=13.9]\n",
      "INFO:SoS.EE.Coupling:doe.SellarDoeScenario.SellarCoupling MDA history\n",
      "INFO:SoS.EE.Coupling:\tIt.\tRes. norm\n",
      "INFO:gemseo.mda.mda:\t1\t1.209983e+07\n",
      "INFO:gemseo.mda.mda:\t2\t2.083537e+06\n",
      "INFO:gemseo.mda.mda:\t3\t4.050272e+03\n",
      "INFO:gemseo.mda.mda:\t4\t4.760016e+00\n",
      "INFO:gemseo.mda.mda:\t5\t9.404103e-03\n",
      "INFO:gemseo.mda.mda:\t6\t1.109433e-05\n",
      "INFO:gemseo.mda.mda:\t7\t2.218231e-06\n",
      "INFO:gemseo.mda.mda:\t8\t2.574952e-07\n",
      "INFO:SoS.EE.Coupling:doe.SellarDoeScenario.SellarCoupling MDA history\n",
      "INFO:SoS.EE.Coupling:\tIt.\tRes. norm\n",
      "INFO:gemseo.mda.mda:\t1\t5.018328e+07\n",
      "INFO:gemseo.mda.mda:\t2\t5.087686e+06\n",
      "INFO:gemseo.mda.mda:\t3\t9.913630e+03\n",
      "INFO:gemseo.mda.mda:\t4\t5.980952e+00\n",
      "INFO:gemseo.mda.mda:\t5\t1.172589e-02\n",
      "INFO:gemseo.mda.mda:\t6\t7.009476e-06\n",
      "INFO:gemseo.mda.mda:\t7\t1.396768e-06\n",
      "INFO:gemseo.mda.mda:\t8\t8.164481e-08\n",
      "INFO:gemseo.algos.driver_lib:DOE sampling:  92%|█████████▏| 92/100 [00:11<00:00,  9.00 it/sec, obj=93.5]\n",
      "INFO:SoS.EE.Coupling:doe.SellarDoeScenario.SellarCoupling MDA history\n",
      "INFO:SoS.EE.Coupling:\tIt.\tRes. norm\n",
      "INFO:gemseo.mda.mda:\t1\t6.036729e+06\n",
      "INFO:gemseo.mda.mda:\t2\t1.298827e+06\n",
      "INFO:gemseo.mda.mda:\t3\t1.802582e+03\n",
      "INFO:gemseo.mda.mda:\t4\t3.608371e+00\n",
      "INFO:gemseo.mda.mda:\t5\t7.282034e-03\n",
      "INFO:gemseo.mda.mda:\t6\t1.486123e-05\n",
      "INFO:gemseo.mda.mda:\t7\t3.001926e-06\n",
      "INFO:gemseo.mda.mda:\t8\t5.998947e-07\n",
      "INFO:SoS.EE.Coupling:doe.SellarDoeScenario.SellarCoupling MDA history\n",
      "INFO:SoS.EE.Coupling:\tIt.\tRes. norm\n",
      "INFO:gemseo.mda.mda:\t1\t5.767675e+07\n",
      "INFO:gemseo.mda.mda:\t2\t5.970744e+06\n",
      "INFO:gemseo.mda.mda:\t3\t1.028876e+04\n",
      "INFO:gemseo.mda.mda:\t4\t6.529532e+00\n",
      "INFO:gemseo.mda.mda:\t5\t1.160246e-02\n",
      "INFO:gemseo.mda.mda:\t6\t7.028974e-06\n",
      "INFO:gemseo.mda.mda:\t7\t1.342352e-06\n",
      "INFO:gemseo.mda.mda:\t8\t8.116998e-08\n",
      "INFO:gemseo.algos.driver_lib:DOE sampling:  94%|█████████▍| 94/100 [00:11<00:00,  8.85 it/sec, obj=135]\n",
      "INFO:SoS.EE.Coupling:doe.SellarDoeScenario.SellarCoupling MDA history\n",
      "INFO:SoS.EE.Coupling:\tIt.\tRes. norm\n",
      "INFO:gemseo.mda.mda:\t1\t2.330950e+07\n",
      "INFO:gemseo.mda.mda:\t2\t3.551533e+06\n",
      "INFO:gemseo.mda.mda:\t3\t5.309687e+03\n",
      "INFO:gemseo.mda.mda:\t4\t5.784262e+00\n",
      "INFO:gemseo.mda.mda:\t5\t9.639346e-03\n",
      "INFO:gemseo.mda.mda:\t6\t1.008532e-05\n",
      "INFO:gemseo.mda.mda:\t7\t1.818721e-06\n",
      "INFO:gemseo.mda.mda:\t8\t1.832491e-07\n",
      "INFO:SoS.EE.Coupling:doe.SellarDoeScenario.SellarCoupling MDA history\n",
      "INFO:SoS.EE.Coupling:\tIt.\tRes. norm\n",
      "INFO:gemseo.mda.mda:\t1\t3.282250e+07\n",
      "INFO:gemseo.mda.mda:\t2\t4.432725e+06\n",
      "INFO:gemseo.mda.mda:\t3\t6.818879e+03\n",
      "INFO:gemseo.mda.mda:\t4\t6.246637e+00\n",
      "INFO:gemseo.mda.mda:\t5\t1.039433e-02\n",
      "INFO:gemseo.mda.mda:\t6\t9.081299e-06\n",
      "INFO:gemseo.mda.mda:\t7\t1.644053e-06\n",
      "INFO:gemseo.mda.mda:\t8\t1.393506e-07\n",
      "INFO:gemseo.algos.driver_lib:DOE sampling:  96%|█████████▌| 96/100 [00:11<00:00,  8.72 it/sec, obj=105]\n",
      "INFO:SoS.EE.Coupling:doe.SellarDoeScenario.SellarCoupling MDA history\n",
      "INFO:SoS.EE.Coupling:\tIt.\tRes. norm\n",
      "INFO:gemseo.mda.mda:\t1\t3.260449e+07\n",
      "INFO:gemseo.mda.mda:\t2\t3.900514e+06\n",
      "INFO:gemseo.mda.mda:\t3\t7.708801e+03\n",
      "INFO:gemseo.mda.mda:\t4\t5.648368e+00\n",
      "INFO:gemseo.mda.mda:\t5\t1.120545e-02\n",
      "INFO:gemseo.mda.mda:\t6\t8.231348e-06\n",
      "INFO:gemseo.mda.mda:\t7\t1.643321e-06\n",
      "INFO:gemseo.mda.mda:\t8\t1.197494e-07\n",
      "INFO:SoS.EE.Coupling:doe.SellarDoeScenario.SellarCoupling MDA history\n",
      "INFO:SoS.EE.Coupling:\tIt.\tRes. norm\n",
      "INFO:gemseo.mda.mda:\t1\t6.314888e+07\n",
      "INFO:gemseo.mda.mda:\t2\t6.589602e+06\n",
      "INFO:gemseo.mda.mda:\t3\t1.060893e+04\n",
      "INFO:gemseo.mda.mda:\t4\t6.891447e+00\n",
      "INFO:gemseo.mda.mda:\t5\t1.155406e-02\n",
      "INFO:gemseo.mda.mda:\t6\t7.088674e-06\n",
      "INFO:gemseo.mda.mda:\t7\t1.286575e-06\n",
      "INFO:gemseo.mda.mda:\t8\t7.652779e-08\n",
      "INFO:gemseo.algos.driver_lib:DOE sampling:  98%|█████████▊| 98/100 [00:11<00:00,  8.58 it/sec, obj=113]\n",
      "INFO:SoS.EE.Coupling:doe.SellarDoeScenario.SellarCoupling MDA history\n",
      "INFO:SoS.EE.Coupling:\tIt.\tRes. norm\n",
      "INFO:gemseo.mda.mda:\t1\t6.749620e+06\n",
      "INFO:gemseo.mda.mda:\t2\t1.381612e+06\n",
      "INFO:gemseo.mda.mda:\t3\t2.763070e+03\n",
      "INFO:gemseo.mda.mda:\t4\t4.100983e+00\n",
      "INFO:gemseo.mda.mda:\t5\t8.201834e-03\n",
      "INFO:gemseo.mda.mda:\t6\t1.241121e-05\n",
      "INFO:gemseo.mda.mda:\t7\t2.463236e-06\n",
      "INFO:gemseo.mda.mda:\t8\t3.685952e-07\n",
      "INFO:SoS.EE.Coupling:doe.SellarDoeScenario.SellarCoupling MDA history\n",
      "INFO:SoS.EE.Coupling:\tIt.\tRes. norm\n",
      "INFO:gemseo.mda.mda:\t1\t1.658123e+07\n",
      "INFO:gemseo.mda.mda:\t2\t2.982628e+06\n",
      "INFO:gemseo.mda.mda:\t3\t3.414746e+03\n",
      "INFO:gemseo.mda.mda:\t4\t5.380174e+00\n",
      "INFO:gemseo.mda.mda:\t5\t7.822423e-03\n",
      "INFO:gemseo.mda.mda:\t6\t1.197239e-05\n",
      "INFO:gemseo.mda.mda:\t7\t1.886188e-06\n",
      "INFO:gemseo.mda.mda:\t8\t2.741351e-07\n",
      "INFO:gemseo.algos.driver_lib:DOE sampling: 100%|██████████| 100/100 [00:11<00:00,  8.45 it/sec, obj=54.8]\n",
      "INFO:gemseo.algos.driver_lib:DOE sampling: 100%|██████████| 100/100 [00:11<00:00,  8.45 it/sec, obj=54.8]\n",
      "INFO:gemseo.algos.driver_lib:Optimization result:\n",
      "Objective value = 13.915272626018334\n",
      "The result is feasible.\n",
      "Status: None\n",
      "Optimizer message: None\n",
      "Number of calls to the objective function by the optimizer: 100\n",
      "INFO:gemseo.algos.driver_lib:Design space:\n",
      "+----------------------------------------+-------------+---------------------+-------------+-------+\n",
      "| name                                   | lower_bound |        value        | upper_bound | type  |\n",
      "+----------------------------------------+-------------+---------------------+-------------+-------+\n",
      "| doe.SellarDoeScenario.SellarCoupling.x |      0      |  1.009834683383305  |      10     | float |\n",
      "| doe.SellarDoeScenario.SellarCoupling.z |     -10     | -0.6505756714525628 |      10     | float |\n",
      "| doe.SellarDoeScenario.SellarCoupling.z |      0      |  0.7692322615669314 |      10     | float |\n",
      "+----------------------------------------+-------------+---------------------+-------------+-------+\n"
     ]
    },
    {
     "name": "stderr",
     "output_type": "stream",
     "text": [
      "INFO:gemseo.core.doe_scenario:*** DOE Scenario run terminated ***\n",
      "INFO:SoS.EE:PROCESS EXECUTION doe ENDS.\n"
     ]
    }
   ],
   "source": [
    "res = exec_eng.execute()\n",
    "# res is without interest (return not the expected values but probably default values ) !"
   ]
  },
  {
   "cell_type": "markdown",
   "id": "c213e4e8",
   "metadata": {},
   "source": [
    "Remark : all options that are None are no kept and so appear with a warning (this is the case of default None options thar are not setted with not None value)"
   ]
  },
  {
   "cell_type": "markdown",
   "id": "57979091",
   "metadata": {},
   "source": [
    "# 5 Display Doe  Scenario results"
   ]
  },
  {
   "cell_type": "code",
   "execution_count": 41,
   "id": "ac8a49ab",
   "metadata": {},
   "outputs": [],
   "source": [
    "# retrieve discipline to check the result...\n",
    "doe_disc = exec_eng.dm.get_disciplines_with_name(\"doe.\" + sc_name)[0]"
   ]
  },
  {
   "cell_type": "code",
   "execution_count": 42,
   "id": "a02fc43e",
   "metadata": {},
   "outputs": [
    {
     "data": {
      "text/plain": [
       "sos_trades_core.execution_engine.sos_doe_scenario.SoSDOEScenario"
      ]
     },
     "execution_count": 42,
     "metadata": {},
     "output_type": "execute_result"
    }
   ],
   "source": [
    "type(doe_disc)"
   ]
  },
  {
   "cell_type": "code",
   "execution_count": 43,
   "id": "555b30f7",
   "metadata": {},
   "outputs": [
    {
     "data": {
      "text/plain": [
       "'doe.SellarDoeScenario'"
      ]
     },
     "execution_count": 43,
     "metadata": {},
     "output_type": "execute_result"
    }
   ],
   "source": [
    "doe_disc.get_disc_full_name()"
   ]
  },
  {
   "cell_type": "code",
   "execution_count": 44,
   "id": "70be4822",
   "metadata": {},
   "outputs": [
    {
     "name": "stdout",
     "output_type": "stream",
     "text": [
      "Optimization problem:\n",
      "   Minimize: doe.SellarDoeScenario.SellarCoupling.obj(doe.SellarDoeScenario.SellarCoupling.x, doe.SellarDoeScenario.SellarCoupling.z)\n",
      "   With respect to: doe.SellarDoeScenario.SellarCoupling.x, doe.SellarDoeScenario.SellarCoupling.z\n"
     ]
    }
   ],
   "source": [
    "opt_P = doe_disc.opt_problem\n",
    "print(opt_P)"
   ]
  },
  {
   "cell_type": "code",
   "execution_count": 45,
   "id": "d1069a43",
   "metadata": {},
   "outputs": [
    {
     "data": {
      "text/html": [
       "<div>\n",
       "<style scoped>\n",
       "    .dataframe tbody tr th:only-of-type {\n",
       "        vertical-align: middle;\n",
       "    }\n",
       "\n",
       "    .dataframe tbody tr th {\n",
       "        vertical-align: top;\n",
       "    }\n",
       "\n",
       "    .dataframe thead th {\n",
       "        text-align: right;\n",
       "    }\n",
       "</style>\n",
       "<table border=\"1\" class=\"dataframe\">\n",
       "  <thead>\n",
       "    <tr style=\"text-align: right;\">\n",
       "      <th></th>\n",
       "      <th>0</th>\n",
       "    </tr>\n",
       "  </thead>\n",
       "  <tbody>\n",
       "    <tr>\n",
       "      <th>n_samples</th>\n",
       "      <td>100</td>\n",
       "    </tr>\n",
       "    <tr>\n",
       "      <th>algo</th>\n",
       "      <td>lhs</td>\n",
       "    </tr>\n",
       "    <tr>\n",
       "      <th>design_space</th>\n",
       "      <td>variable       value     lower_bnd     upper...</td>\n",
       "    </tr>\n",
       "    <tr>\n",
       "      <th>formulation</th>\n",
       "      <td>DisciplinaryOpt</td>\n",
       "    </tr>\n",
       "    <tr>\n",
       "      <th>maximize_objective</th>\n",
       "      <td>False</td>\n",
       "    </tr>\n",
       "    <tr>\n",
       "      <th>objective_name</th>\n",
       "      <td>obj</td>\n",
       "    </tr>\n",
       "    <tr>\n",
       "      <th>differentiation_method</th>\n",
       "      <td>finite_differences</td>\n",
       "    </tr>\n",
       "    <tr>\n",
       "      <th>algo_options</th>\n",
       "      <td>{'iterations': 5, 'eval_jac': False, 'n_proces...</td>\n",
       "    </tr>\n",
       "    <tr>\n",
       "      <th>parallel_options</th>\n",
       "      <td>{'parallel': False, 'n_processes': 8, 'use_thr...</td>\n",
       "    </tr>\n",
       "    <tr>\n",
       "      <th>eval_mode</th>\n",
       "      <td>False</td>\n",
       "    </tr>\n",
       "    <tr>\n",
       "      <th>eval_jac</th>\n",
       "      <td>False</td>\n",
       "    </tr>\n",
       "    <tr>\n",
       "      <th>execute_at_xopt</th>\n",
       "      <td>True</td>\n",
       "    </tr>\n",
       "    <tr>\n",
       "      <th>linearization_mode</th>\n",
       "      <td>auto</td>\n",
       "    </tr>\n",
       "    <tr>\n",
       "      <th>cache_type</th>\n",
       "      <td>SimpleCache</td>\n",
       "    </tr>\n",
       "    <tr>\n",
       "      <th>cache_file_path</th>\n",
       "      <td>None</td>\n",
       "    </tr>\n",
       "    <tr>\n",
       "      <th>debug_mode</th>\n",
       "      <td></td>\n",
       "    </tr>\n",
       "  </tbody>\n",
       "</table>\n",
       "</div>"
      ],
      "text/plain": [
       "                                                                        0\n",
       "n_samples                                                             100\n",
       "algo                                                                  lhs\n",
       "design_space              variable       value     lower_bnd     upper...\n",
       "formulation                                               DisciplinaryOpt\n",
       "maximize_objective                                                  False\n",
       "objective_name                                                        obj\n",
       "differentiation_method                                 finite_differences\n",
       "algo_options            {'iterations': 5, 'eval_jac': False, 'n_proces...\n",
       "parallel_options        {'parallel': False, 'n_processes': 8, 'use_thr...\n",
       "eval_mode                                                           False\n",
       "eval_jac                                                            False\n",
       "execute_at_xopt                                                      True\n",
       "linearization_mode                                                   auto\n",
       "cache_type                                                    SimpleCache\n",
       "cache_file_path                                                      None\n",
       "debug_mode                                                               "
      ]
     },
     "execution_count": 45,
     "metadata": {},
     "output_type": "execute_result"
    }
   ],
   "source": [
    "doe_disc_input = doe_disc.get_sosdisc_inputs()\n",
    "pd.DataFrame.from_dict(doe_disc_input,orient='index')"
   ]
  },
  {
   "cell_type": "code",
   "execution_count": 46,
   "id": "0499ac00",
   "metadata": {},
   "outputs": [],
   "source": [
    "doe_disc_output = doe_disc.get_sosdisc_outputs()"
   ]
  },
  {
   "cell_type": "code",
   "execution_count": 47,
   "id": "bcb5d045",
   "metadata": {},
   "outputs": [],
   "source": [
    "# doe_disc_output"
   ]
  },
  {
   "cell_type": "markdown",
   "id": "0111d5a8",
   "metadata": {},
   "source": [
    "# 5.1 Table of computed points"
   ]
  },
  {
   "cell_type": "code",
   "execution_count": 48,
   "id": "5fbbab76",
   "metadata": {},
   "outputs": [],
   "source": [
    "XY_pd= doe_disc_output['doe_ds_io']"
   ]
  },
  {
   "cell_type": "code",
   "execution_count": 49,
   "id": "f6cb5340",
   "metadata": {},
   "outputs": [
    {
     "data": {
      "text/html": [
       "<div>\n",
       "<style scoped>\n",
       "    .dataframe tbody tr th:only-of-type {\n",
       "        vertical-align: middle;\n",
       "    }\n",
       "\n",
       "    .dataframe tbody tr th {\n",
       "        vertical-align: top;\n",
       "    }\n",
       "\n",
       "    .dataframe thead th {\n",
       "        text-align: right;\n",
       "    }\n",
       "</style>\n",
       "<table border=\"1\" class=\"dataframe\">\n",
       "  <thead>\n",
       "    <tr style=\"text-align: right;\">\n",
       "      <th></th>\n",
       "      <th>design_parameters</th>\n",
       "      <th>functions</th>\n",
       "    </tr>\n",
       "  </thead>\n",
       "  <tbody>\n",
       "    <tr>\n",
       "      <th>0</th>\n",
       "      <td>Eval mode as not io table of outputs</td>\n",
       "      <td>Eval mode as not io table of outputs</td>\n",
       "    </tr>\n",
       "  </tbody>\n",
       "</table>\n",
       "</div>"
      ],
      "text/plain": [
       "                      design_parameters                             functions\n",
       "0  Eval mode as not io table of outputs  Eval mode as not io table of outputs"
      ]
     },
     "execution_count": 49,
     "metadata": {},
     "output_type": "execute_result"
    }
   ],
   "source": [
    "d = {'design_parameters': ['Eval mode as not io table of outputs'],'functions': ['Eval mode as not io table of outputs']}\n",
    "XY_pd = pd.DataFrame(data=d)\n",
    "XY_pd "
   ]
  },
  {
   "cell_type": "code",
   "execution_count": 50,
   "id": "c052e07d",
   "metadata": {},
   "outputs": [
    {
     "data": {
      "text/plain": [
       "0    Eval mode as not io table of outputs\n",
       "Name: design_parameters, dtype: object"
      ]
     },
     "execution_count": 50,
     "metadata": {},
     "output_type": "execute_result"
    }
   ],
   "source": [
    "X_pd = XY_pd['design_parameters']\n",
    "X_pd"
   ]
  },
  {
   "cell_type": "code",
   "execution_count": 51,
   "id": "963fd304",
   "metadata": {},
   "outputs": [],
   "source": [
    "X_pd.to_csv('X_pd.csv',index=False)"
   ]
  },
  {
   "cell_type": "code",
   "execution_count": 52,
   "id": "c52f26bb",
   "metadata": {
    "scrolled": true
   },
   "outputs": [
    {
     "data": {
      "text/plain": [
       "0    Eval mode as not io table of outputs\n",
       "Name: functions, dtype: object"
      ]
     },
     "execution_count": 52,
     "metadata": {},
     "output_type": "execute_result"
    }
   ],
   "source": [
    "Y_pd = XY_pd['functions']\n",
    "Y_pd"
   ]
  },
  {
   "cell_type": "markdown",
   "id": "1f3547ec",
   "metadata": {},
   "source": [
    "# 5.2 Optimum"
   ]
  },
  {
   "cell_type": "code",
   "execution_count": 53,
   "id": "04726873",
   "metadata": {},
   "outputs": [
    {
     "data": {
      "text/plain": [
       "{'x_opt': array([ 1.00983468, -0.65057567,  0.76923226]),\n",
       " 'f_opt': 13.915272626018334}"
      ]
     },
     "execution_count": 53,
     "metadata": {},
     "output_type": "execute_result"
    }
   ],
   "source": [
    "my_optim_result = doe_disc_output['optim_result']\n",
    "my_optim_result"
   ]
  },
  {
   "cell_type": "code",
   "execution_count": 54,
   "id": "d0296d25",
   "metadata": {},
   "outputs": [
    {
     "data": {
      "text/plain": [
       "array([ 1.00983468, -0.65057567,  0.76923226])"
      ]
     },
     "execution_count": 54,
     "metadata": {},
     "output_type": "execute_result"
    }
   ],
   "source": [
    "my_optim_result['x_opt']"
   ]
  },
  {
   "cell_type": "code",
   "execution_count": 55,
   "id": "e4cdac6e",
   "metadata": {},
   "outputs": [
    {
     "data": {
      "text/plain": [
       "13.915272626018334"
      ]
     },
     "execution_count": 55,
     "metadata": {},
     "output_type": "execute_result"
    }
   ],
   "source": [
    "my_optim_result['f_opt']"
   ]
  },
  {
   "cell_type": "markdown",
   "id": "32e05500",
   "metadata": {},
   "source": [
    "# 5.3 From gemseo "
   ]
  },
  {
   "cell_type": "code",
   "execution_count": 56,
   "id": "716249e4",
   "metadata": {},
   "outputs": [
    {
     "name": "stdout",
     "output_type": "stream",
     "text": [
      "doe.SellarDoeScenario.SellarCoupling.obj(doe.SellarDoeScenario.SellarCoupling.x, doe.SellarDoeScenario.SellarCoupling.z)\n",
      "[]\n",
      "finite_differences\n",
      "1e-06\n"
     ]
    }
   ],
   "source": [
    "print(opt_P.objective)\n",
    "print(opt_P.constraints)\n",
    "print(opt_P.differentiation_method)\n",
    "print(opt_P.fd_step)"
   ]
  },
  {
   "cell_type": "markdown",
   "id": "35d2d8a8",
   "metadata": {},
   "source": [
    "Remark: eval mode has no opt_P.export_to_dataset(\"dataset_name\")"
   ]
  },
  {
   "cell_type": "code",
   "execution_count": 57,
   "id": "f8cae3a6",
   "metadata": {},
   "outputs": [],
   "source": [
    "dataset = opt_P.export_to_dataset(\"dataset_name\")"
   ]
  },
  {
   "cell_type": "code",
   "execution_count": 58,
   "id": "e27fa8ea",
   "metadata": {},
   "outputs": [
    {
     "data": {
      "text/html": [
       "<div>\n",
       "<style scoped>\n",
       "    .dataframe tbody tr th:only-of-type {\n",
       "        vertical-align: middle;\n",
       "    }\n",
       "\n",
       "    .dataframe tbody tr th {\n",
       "        vertical-align: top;\n",
       "    }\n",
       "\n",
       "    .dataframe thead tr th {\n",
       "        text-align: left;\n",
       "    }\n",
       "</style>\n",
       "<table border=\"1\" class=\"dataframe\">\n",
       "  <thead>\n",
       "    <tr>\n",
       "      <th></th>\n",
       "      <th colspan=\"3\" halign=\"left\">design_parameters</th>\n",
       "      <th>functions</th>\n",
       "    </tr>\n",
       "    <tr>\n",
       "      <th></th>\n",
       "      <th>doe.SellarDoeScenario.SellarCoupling.x</th>\n",
       "      <th colspan=\"2\" halign=\"left\">doe.SellarDoeScenario.SellarCoupling.z</th>\n",
       "      <th>doe.SellarDoeScenario.SellarCoupling.obj</th>\n",
       "    </tr>\n",
       "    <tr>\n",
       "      <th></th>\n",
       "      <th>0</th>\n",
       "      <th>0</th>\n",
       "      <th>1</th>\n",
       "      <th>0</th>\n",
       "    </tr>\n",
       "  </thead>\n",
       "  <tbody>\n",
       "    <tr>\n",
       "      <th>0</th>\n",
       "      <td>9.379764</td>\n",
       "      <td>1.515949</td>\n",
       "      <td>5.631736</td>\n",
       "      <td>118.714541</td>\n",
       "    </tr>\n",
       "    <tr>\n",
       "      <th>1</th>\n",
       "      <td>8.886448</td>\n",
       "      <td>-1.196271</td>\n",
       "      <td>6.523436</td>\n",
       "      <td>110.493389</td>\n",
       "    </tr>\n",
       "    <tr>\n",
       "      <th>2</th>\n",
       "      <td>3.713714</td>\n",
       "      <td>-1.994758</td>\n",
       "      <td>4.822571</td>\n",
       "      <td>39.894420</td>\n",
       "    </tr>\n",
       "    <tr>\n",
       "      <th>3</th>\n",
       "      <td>0.041702</td>\n",
       "      <td>1.749067</td>\n",
       "      <td>3.617234</td>\n",
       "      <td>18.808762</td>\n",
       "    </tr>\n",
       "    <tr>\n",
       "      <th>4</th>\n",
       "      <td>6.954955</td>\n",
       "      <td>-9.316161</td>\n",
       "      <td>9.918161</td>\n",
       "      <td>169.817929</td>\n",
       "    </tr>\n",
       "    <tr>\n",
       "      <th>...</th>\n",
       "      <td>...</td>\n",
       "      <td>...</td>\n",
       "      <td>...</td>\n",
       "      <td>...</td>\n",
       "    </tr>\n",
       "    <tr>\n",
       "      <th>95</th>\n",
       "      <td>6.661678</td>\n",
       "      <td>5.719822</td>\n",
       "      <td>7.645988</td>\n",
       "      <td>105.062729</td>\n",
       "    </tr>\n",
       "    <tr>\n",
       "      <th>96</th>\n",
       "      <td>2.358656</td>\n",
       "      <td>-6.389327</td>\n",
       "      <td>5.297002</td>\n",
       "      <td>68.185137</td>\n",
       "    </tr>\n",
       "    <tr>\n",
       "      <th>97</th>\n",
       "      <td>3.011475</td>\n",
       "      <td>8.776000</td>\n",
       "      <td>9.837792</td>\n",
       "      <td>113.215059</td>\n",
       "    </tr>\n",
       "    <tr>\n",
       "      <th>98</th>\n",
       "      <td>4.804455</td>\n",
       "      <td>-2.413481</td>\n",
       "      <td>1.131552</td>\n",
       "      <td>45.682186</td>\n",
       "    </tr>\n",
       "    <tr>\n",
       "      <th>99</th>\n",
       "      <td>4.001988</td>\n",
       "      <td>2.954436</td>\n",
       "      <td>9.746571</td>\n",
       "      <td>54.826284</td>\n",
       "    </tr>\n",
       "  </tbody>\n",
       "</table>\n",
       "<p>100 rows × 4 columns</p>\n",
       "</div>"
      ],
      "text/plain": [
       "                        design_parameters  \\\n",
       "   doe.SellarDoeScenario.SellarCoupling.x   \n",
       "                                        0   \n",
       "0                                9.379764   \n",
       "1                                8.886448   \n",
       "2                                3.713714   \n",
       "3                                0.041702   \n",
       "4                                6.954955   \n",
       "..                                    ...   \n",
       "95                               6.661678   \n",
       "96                               2.358656   \n",
       "97                               3.011475   \n",
       "98                               4.804455   \n",
       "99                               4.001988   \n",
       "\n",
       "                                                     \\\n",
       "   doe.SellarDoeScenario.SellarCoupling.z             \n",
       "                                        0         1   \n",
       "0                                1.515949  5.631736   \n",
       "1                               -1.196271  6.523436   \n",
       "2                               -1.994758  4.822571   \n",
       "3                                1.749067  3.617234   \n",
       "4                               -9.316161  9.918161   \n",
       "..                                    ...       ...   \n",
       "95                               5.719822  7.645988   \n",
       "96                              -6.389327  5.297002   \n",
       "97                               8.776000  9.837792   \n",
       "98                              -2.413481  1.131552   \n",
       "99                               2.954436  9.746571   \n",
       "\n",
       "                                  functions  \n",
       "   doe.SellarDoeScenario.SellarCoupling.obj  \n",
       "                                          0  \n",
       "0                                118.714541  \n",
       "1                                110.493389  \n",
       "2                                 39.894420  \n",
       "3                                 18.808762  \n",
       "4                                169.817929  \n",
       "..                                      ...  \n",
       "95                               105.062729  \n",
       "96                                68.185137  \n",
       "97                               113.215059  \n",
       "98                                45.682186  \n",
       "99                                54.826284  \n",
       "\n",
       "[100 rows x 4 columns]"
      ]
     },
     "execution_count": 58,
     "metadata": {},
     "output_type": "execute_result"
    }
   ],
   "source": [
    "XY_pd=dataset.export_to_dataframe()\n",
    "XY_pd"
   ]
  },
  {
   "cell_type": "code",
   "execution_count": 59,
   "id": "9b55a487",
   "metadata": {},
   "outputs": [
    {
     "data": {
      "text/html": [
       "<div>\n",
       "<style scoped>\n",
       "    .dataframe tbody tr th:only-of-type {\n",
       "        vertical-align: middle;\n",
       "    }\n",
       "\n",
       "    .dataframe tbody tr th {\n",
       "        vertical-align: top;\n",
       "    }\n",
       "\n",
       "    .dataframe thead tr th {\n",
       "        text-align: left;\n",
       "    }\n",
       "</style>\n",
       "<table border=\"1\" class=\"dataframe\">\n",
       "  <thead>\n",
       "    <tr>\n",
       "      <th></th>\n",
       "      <th>doe.SellarDoeScenario.SellarCoupling.x</th>\n",
       "      <th colspan=\"2\" halign=\"left\">doe.SellarDoeScenario.SellarCoupling.z</th>\n",
       "    </tr>\n",
       "    <tr>\n",
       "      <th></th>\n",
       "      <th>0</th>\n",
       "      <th>0</th>\n",
       "      <th>1</th>\n",
       "    </tr>\n",
       "  </thead>\n",
       "  <tbody>\n",
       "    <tr>\n",
       "      <th>0</th>\n",
       "      <td>9.379764</td>\n",
       "      <td>1.515949</td>\n",
       "      <td>5.631736</td>\n",
       "    </tr>\n",
       "    <tr>\n",
       "      <th>1</th>\n",
       "      <td>8.886448</td>\n",
       "      <td>-1.196271</td>\n",
       "      <td>6.523436</td>\n",
       "    </tr>\n",
       "    <tr>\n",
       "      <th>2</th>\n",
       "      <td>3.713714</td>\n",
       "      <td>-1.994758</td>\n",
       "      <td>4.822571</td>\n",
       "    </tr>\n",
       "    <tr>\n",
       "      <th>3</th>\n",
       "      <td>0.041702</td>\n",
       "      <td>1.749067</td>\n",
       "      <td>3.617234</td>\n",
       "    </tr>\n",
       "    <tr>\n",
       "      <th>4</th>\n",
       "      <td>6.954955</td>\n",
       "      <td>-9.316161</td>\n",
       "      <td>9.918161</td>\n",
       "    </tr>\n",
       "    <tr>\n",
       "      <th>...</th>\n",
       "      <td>...</td>\n",
       "      <td>...</td>\n",
       "      <td>...</td>\n",
       "    </tr>\n",
       "    <tr>\n",
       "      <th>95</th>\n",
       "      <td>6.661678</td>\n",
       "      <td>5.719822</td>\n",
       "      <td>7.645988</td>\n",
       "    </tr>\n",
       "    <tr>\n",
       "      <th>96</th>\n",
       "      <td>2.358656</td>\n",
       "      <td>-6.389327</td>\n",
       "      <td>5.297002</td>\n",
       "    </tr>\n",
       "    <tr>\n",
       "      <th>97</th>\n",
       "      <td>3.011475</td>\n",
       "      <td>8.776000</td>\n",
       "      <td>9.837792</td>\n",
       "    </tr>\n",
       "    <tr>\n",
       "      <th>98</th>\n",
       "      <td>4.804455</td>\n",
       "      <td>-2.413481</td>\n",
       "      <td>1.131552</td>\n",
       "    </tr>\n",
       "    <tr>\n",
       "      <th>99</th>\n",
       "      <td>4.001988</td>\n",
       "      <td>2.954436</td>\n",
       "      <td>9.746571</td>\n",
       "    </tr>\n",
       "  </tbody>\n",
       "</table>\n",
       "<p>100 rows × 3 columns</p>\n",
       "</div>"
      ],
      "text/plain": [
       "   doe.SellarDoeScenario.SellarCoupling.x  \\\n",
       "                                        0   \n",
       "0                                9.379764   \n",
       "1                                8.886448   \n",
       "2                                3.713714   \n",
       "3                                0.041702   \n",
       "4                                6.954955   \n",
       "..                                    ...   \n",
       "95                               6.661678   \n",
       "96                               2.358656   \n",
       "97                               3.011475   \n",
       "98                               4.804455   \n",
       "99                               4.001988   \n",
       "\n",
       "   doe.SellarDoeScenario.SellarCoupling.z            \n",
       "                                        0         1  \n",
       "0                                1.515949  5.631736  \n",
       "1                               -1.196271  6.523436  \n",
       "2                               -1.994758  4.822571  \n",
       "3                                1.749067  3.617234  \n",
       "4                               -9.316161  9.918161  \n",
       "..                                    ...       ...  \n",
       "95                               5.719822  7.645988  \n",
       "96                              -6.389327  5.297002  \n",
       "97                               8.776000  9.837792  \n",
       "98                              -2.413481  1.131552  \n",
       "99                               2.954436  9.746571  \n",
       "\n",
       "[100 rows x 3 columns]"
      ]
     },
     "execution_count": 59,
     "metadata": {},
     "output_type": "execute_result"
    }
   ],
   "source": [
    "X_pd = XY_pd['design_parameters']\n",
    "X_pd"
   ]
  },
  {
   "cell_type": "code",
   "execution_count": 60,
   "id": "d2a437a3",
   "metadata": {},
   "outputs": [
    {
     "data": {
      "text/html": [
       "<div>\n",
       "<style scoped>\n",
       "    .dataframe tbody tr th:only-of-type {\n",
       "        vertical-align: middle;\n",
       "    }\n",
       "\n",
       "    .dataframe tbody tr th {\n",
       "        vertical-align: top;\n",
       "    }\n",
       "\n",
       "    .dataframe thead tr th {\n",
       "        text-align: left;\n",
       "    }\n",
       "</style>\n",
       "<table border=\"1\" class=\"dataframe\">\n",
       "  <thead>\n",
       "    <tr>\n",
       "      <th></th>\n",
       "      <th>doe.SellarDoeScenario.SellarCoupling.obj</th>\n",
       "    </tr>\n",
       "    <tr>\n",
       "      <th></th>\n",
       "      <th>0</th>\n",
       "    </tr>\n",
       "  </thead>\n",
       "  <tbody>\n",
       "    <tr>\n",
       "      <th>0</th>\n",
       "      <td>118.714541</td>\n",
       "    </tr>\n",
       "    <tr>\n",
       "      <th>1</th>\n",
       "      <td>110.493389</td>\n",
       "    </tr>\n",
       "    <tr>\n",
       "      <th>2</th>\n",
       "      <td>39.894420</td>\n",
       "    </tr>\n",
       "    <tr>\n",
       "      <th>3</th>\n",
       "      <td>18.808762</td>\n",
       "    </tr>\n",
       "    <tr>\n",
       "      <th>4</th>\n",
       "      <td>169.817929</td>\n",
       "    </tr>\n",
       "    <tr>\n",
       "      <th>...</th>\n",
       "      <td>...</td>\n",
       "    </tr>\n",
       "    <tr>\n",
       "      <th>95</th>\n",
       "      <td>105.062729</td>\n",
       "    </tr>\n",
       "    <tr>\n",
       "      <th>96</th>\n",
       "      <td>68.185137</td>\n",
       "    </tr>\n",
       "    <tr>\n",
       "      <th>97</th>\n",
       "      <td>113.215059</td>\n",
       "    </tr>\n",
       "    <tr>\n",
       "      <th>98</th>\n",
       "      <td>45.682186</td>\n",
       "    </tr>\n",
       "    <tr>\n",
       "      <th>99</th>\n",
       "      <td>54.826284</td>\n",
       "    </tr>\n",
       "  </tbody>\n",
       "</table>\n",
       "<p>100 rows × 1 columns</p>\n",
       "</div>"
      ],
      "text/plain": [
       "   doe.SellarDoeScenario.SellarCoupling.obj\n",
       "                                          0\n",
       "0                                118.714541\n",
       "1                                110.493389\n",
       "2                                 39.894420\n",
       "3                                 18.808762\n",
       "4                                169.817929\n",
       "..                                      ...\n",
       "95                               105.062729\n",
       "96                                68.185137\n",
       "97                               113.215059\n",
       "98                                45.682186\n",
       "99                                54.826284\n",
       "\n",
       "[100 rows x 1 columns]"
      ]
     },
     "execution_count": 60,
     "metadata": {},
     "output_type": "execute_result"
    }
   ],
   "source": [
    "Y_pd = XY_pd['functions']\n",
    "Y_pd"
   ]
  },
  {
   "cell_type": "code",
   "execution_count": 61,
   "id": "6cf6b472",
   "metadata": {},
   "outputs": [
    {
     "data": {
      "text/plain": [
       "13.915272626018334"
      ]
     },
     "execution_count": 61,
     "metadata": {},
     "output_type": "execute_result"
    }
   ],
   "source": [
    "import numpy as np\n",
    "min(np.array(Y_pd['doe.SellarDoeScenario.SellarCoupling.obj']['0']))"
   ]
  },
  {
   "cell_type": "code",
   "execution_count": 62,
   "id": "fd2ae1c1",
   "metadata": {},
   "outputs": [
    {
     "data": {
      "text/plain": [
       "13.915272626018334"
      ]
     },
     "execution_count": 62,
     "metadata": {},
     "output_type": "execute_result"
    }
   ],
   "source": [
    "doe_disc.optimization_result.f_opt"
   ]
  },
  {
   "cell_type": "code",
   "execution_count": 63,
   "id": "1b62ce1d",
   "metadata": {},
   "outputs": [
    {
     "data": {
      "text/plain": [
       "array([ 1.00983468, -0.65057567,  0.76923226])"
      ]
     },
     "execution_count": 63,
     "metadata": {},
     "output_type": "execute_result"
    }
   ],
   "source": [
    "doe_disc.optimization_result.x_opt"
   ]
  },
  {
   "cell_type": "code",
   "execution_count": 64,
   "id": "f773f962",
   "metadata": {},
   "outputs": [
    {
     "name": "stderr",
     "output_type": "stream",
     "text": [
      "INFO:gemseo.core.scenario:* Scenario Executions statistics *\n",
      "INFO:gemseo.core.scenario:* Discipline: SellarCoupling\n",
      "INFO:gemseo.core.scenario:Executions number: 100\n",
      "INFO:gemseo.core.scenario:Execution time:  11.614314899999993 s\n",
      "INFO:gemseo.core.scenario:Linearizations number: 0\n",
      "INFO:gemseo.core.scenario:Total number of executions calls 100\n",
      "INFO:gemseo.core.scenario:Total number of linearizations 0\n"
     ]
    }
   ],
   "source": [
    "doe_disc.print_execution_metrics()"
   ]
  },
  {
   "cell_type": "code",
   "execution_count": 65,
   "id": "a767671b",
   "metadata": {},
   "outputs": [
    {
     "data": {
      "text/plain": [
       "{'x_0': array([9.37976388, 1.51594904, 5.63173624]),\n",
       " 'optimizer_name': 'lhs',\n",
       " 'x_opt': array([ 1.00983468, -0.65057567,  0.76923226]),\n",
       " 'message': None,\n",
       " 'f_opt': 13.915272626018334,\n",
       " 'constraints_values': {},\n",
       " 'constraints_grad': {},\n",
       " 'status': None,\n",
       " 'n_obj_call': 100,\n",
       " 'n_grad_call': None,\n",
       " 'n_constr_call': None,\n",
       " 'is_feasible': True}"
      ]
     },
     "execution_count": 65,
     "metadata": {},
     "output_type": "execute_result"
    }
   ],
   "source": [
    "doe_disc.get_optimum().__dict__"
   ]
  },
  {
   "cell_type": "code",
   "execution_count": null,
   "id": "ea616c89",
   "metadata": {},
   "outputs": [],
   "source": []
  },
  {
   "cell_type": "code",
   "execution_count": null,
   "id": "3f199b02",
   "metadata": {},
   "outputs": [],
   "source": []
  },
  {
   "cell_type": "code",
   "execution_count": null,
   "id": "ace04faa",
   "metadata": {},
   "outputs": [],
   "source": []
  },
  {
   "cell_type": "code",
   "execution_count": null,
   "id": "1fc93bb5",
   "metadata": {},
   "outputs": [],
   "source": []
  },
  {
   "cell_type": "code",
   "execution_count": null,
   "id": "569e2d43",
   "metadata": {},
   "outputs": [],
   "source": []
  },
  {
   "cell_type": "code",
   "execution_count": null,
   "id": "60c5b8ca",
   "metadata": {},
   "outputs": [],
   "source": []
  },
  {
   "cell_type": "code",
   "execution_count": null,
   "id": "97f32bcc",
   "metadata": {},
   "outputs": [],
   "source": []
  },
  {
   "cell_type": "code",
   "execution_count": null,
   "id": "b47afc29",
   "metadata": {},
   "outputs": [],
   "source": []
  },
  {
   "cell_type": "code",
   "execution_count": null,
   "id": "6efd1888",
   "metadata": {},
   "outputs": [],
   "source": []
  },
  {
   "cell_type": "code",
   "execution_count": null,
   "id": "eb12ad48",
   "metadata": {},
   "outputs": [],
   "source": []
  },
  {
   "cell_type": "code",
   "execution_count": null,
   "id": "786ed972",
   "metadata": {},
   "outputs": [],
   "source": []
  },
  {
   "cell_type": "code",
   "execution_count": null,
   "id": "7c80b625",
   "metadata": {},
   "outputs": [],
   "source": []
  },
  {
   "cell_type": "code",
   "execution_count": null,
   "id": "e986e357",
   "metadata": {},
   "outputs": [],
   "source": []
  },
  {
   "cell_type": "code",
   "execution_count": null,
   "id": "5cd3b3c6",
   "metadata": {},
   "outputs": [],
   "source": []
  },
  {
   "cell_type": "code",
   "execution_count": null,
   "id": "9cf22b7d",
   "metadata": {},
   "outputs": [],
   "source": []
  },
  {
   "cell_type": "code",
   "execution_count": null,
   "id": "3f127a16",
   "metadata": {},
   "outputs": [],
   "source": []
  },
  {
   "cell_type": "code",
   "execution_count": null,
   "id": "1b7a1bab",
   "metadata": {},
   "outputs": [],
   "source": []
  }
 ],
 "metadata": {
  "kernelspec": {
   "display_name": "Python 3 (ipykernel)",
   "language": "python",
   "name": "python3"
  },
  "language_info": {
   "codemirror_mode": {
    "name": "ipython",
    "version": 3
   },
   "file_extension": ".py",
   "mimetype": "text/x-python",
   "name": "python",
   "nbconvert_exporter": "python",
   "pygments_lexer": "ipython3",
   "version": "3.9.7"
  }
 },
 "nbformat": 4,
 "nbformat_minor": 5
}
