{
 "cells": [
  {
   "cell_type": "code",
   "execution_count": 1,
   "id": "1588dded",
   "metadata": {},
   "outputs": [],
   "source": [
    "if 0 :\n",
    "    %matplotlib inline\n",
    "else :\n",
    "    %matplotlib notebook"
   ]
  },
  {
   "cell_type": "markdown",
   "id": "08161ec7",
   "metadata": {},
   "source": [
    "#  Import  libraries"
   ]
  },
  {
   "cell_type": "code",
   "execution_count": 2,
   "id": "120eb5d3",
   "metadata": {},
   "outputs": [
    {
     "name": "stdout",
     "output_type": "stream",
     "text": [
      "C:\\Users\\ng947ac\\Documents\\Daniel\\jupyter\\SoSTrades\\jupyter_doc\\_scripts\n",
      "C:\\Users\\ng947ac\\Documents\\Daniel\\git\\workspace\n",
      "C:\\Users\\ng947ac\\Documents\\Daniel\\git\\workspace\\sosgemseo\\src\\\n",
      "C:\\Users\\ng947ac\\Documents\\Daniel\\git\\workspace\\sostrades-core\n"
     ]
    }
   ],
   "source": [
    "import sys\n",
    "import os\n",
    "module_path = os.path.abspath('.') +\"\\\\_scripts\"\n",
    "print(module_path)\n",
    "\n",
    "if module_path not in sys.path:\n",
    "    sys.path.append(module_path)\n",
    "from _00_Import_packages_git3 import *"
   ]
  },
  {
   "cell_type": "code",
   "execution_count": 3,
   "id": "4118170e",
   "metadata": {},
   "outputs": [],
   "source": [
    "from numpy import array\n",
    "import pandas as pd\n",
    "from sos_trades_core.execution_engine.execution_engine import ExecutionEngine\n",
    "from numpy.testing import assert_array_equal, assert_array_almost_equal  # @UnresolvedImport\n",
    "import os\n",
    "from gemseo.core.mdo_scenario import MDOScenario"
   ]
  },
  {
   "cell_type": "markdown",
   "id": "04e8b27d",
   "metadata": {},
   "source": [
    "# TestSoSOptimScenario"
   ]
  },
  {
   "cell_type": "markdown",
   "id": "aa0bd8fe",
   "metadata": {},
   "source": [
    "# setUp"
   ]
  },
  {
   "cell_type": "code",
   "execution_count": 4,
   "id": "2bbfcb78",
   "metadata": {},
   "outputs": [
    {
     "name": "stdout",
     "output_type": "stream",
     "text": [
      "SellarOptimScenario\n"
     ]
    }
   ],
   "source": [
    "study_name = 'optim'\n",
    "ns = f'{study_name}'\n",
    "sc_name = \"SellarOptimScenario\"\n",
    "c_name = \"SellarCoupling\"\n",
    "print(sc_name)"
   ]
  },
  {
   "cell_type": "code",
   "execution_count": 5,
   "id": "47763ce1",
   "metadata": {},
   "outputs": [
    {
     "data": {
      "text/plain": [
       "'optim'"
      ]
     },
     "execution_count": 5,
     "metadata": {},
     "output_type": "execute_result"
    }
   ],
   "source": [
    "ns"
   ]
  },
  {
   "cell_type": "code",
   "execution_count": 6,
   "id": "6d1f052f",
   "metadata": {},
   "outputs": [],
   "source": [
    "dspace_dict = {'variable': ['x', 'z', 'y_1', 'y_2'],\n",
    "               'value': [[1.], [5., 2.], [1.], [1.]],\n",
    "               'lower_bnd': [[0.], [-10., 0.], [-100.], [-100.]],\n",
    "               'upper_bnd': [[10.], [10., 10.], [100.], [100.]],\n",
    "               'enable_variable': [True, True, True, True],\n",
    "               'activated_elem': [[True], [True, True], [True], [True]]}"
   ]
  },
  {
   "cell_type": "code",
   "execution_count": 7,
   "id": "9bdd7463",
   "metadata": {},
   "outputs": [
    {
     "data": {
      "text/html": [
       "<div>\n",
       "<style scoped>\n",
       "    .dataframe tbody tr th:only-of-type {\n",
       "        vertical-align: middle;\n",
       "    }\n",
       "\n",
       "    .dataframe tbody tr th {\n",
       "        vertical-align: top;\n",
       "    }\n",
       "\n",
       "    .dataframe thead th {\n",
       "        text-align: right;\n",
       "    }\n",
       "</style>\n",
       "<table border=\"1\" class=\"dataframe\">\n",
       "  <thead>\n",
       "    <tr style=\"text-align: right;\">\n",
       "      <th></th>\n",
       "      <th>variable</th>\n",
       "      <th>value</th>\n",
       "      <th>lower_bnd</th>\n",
       "      <th>upper_bnd</th>\n",
       "      <th>enable_variable</th>\n",
       "      <th>activated_elem</th>\n",
       "    </tr>\n",
       "  </thead>\n",
       "  <tbody>\n",
       "    <tr>\n",
       "      <th>0</th>\n",
       "      <td>x</td>\n",
       "      <td>[1.0]</td>\n",
       "      <td>[0.0]</td>\n",
       "      <td>[10.0]</td>\n",
       "      <td>True</td>\n",
       "      <td>[True]</td>\n",
       "    </tr>\n",
       "    <tr>\n",
       "      <th>1</th>\n",
       "      <td>z</td>\n",
       "      <td>[5.0, 2.0]</td>\n",
       "      <td>[-10.0, 0.0]</td>\n",
       "      <td>[10.0, 10.0]</td>\n",
       "      <td>True</td>\n",
       "      <td>[True, True]</td>\n",
       "    </tr>\n",
       "    <tr>\n",
       "      <th>2</th>\n",
       "      <td>y_1</td>\n",
       "      <td>[1.0]</td>\n",
       "      <td>[-100.0]</td>\n",
       "      <td>[100.0]</td>\n",
       "      <td>True</td>\n",
       "      <td>[True]</td>\n",
       "    </tr>\n",
       "    <tr>\n",
       "      <th>3</th>\n",
       "      <td>y_2</td>\n",
       "      <td>[1.0]</td>\n",
       "      <td>[-100.0]</td>\n",
       "      <td>[100.0]</td>\n",
       "      <td>True</td>\n",
       "      <td>[True]</td>\n",
       "    </tr>\n",
       "  </tbody>\n",
       "</table>\n",
       "</div>"
      ],
      "text/plain": [
       "  variable       value     lower_bnd     upper_bnd  enable_variable  \\\n",
       "0        x       [1.0]         [0.0]        [10.0]             True   \n",
       "1        z  [5.0, 2.0]  [-10.0, 0.0]  [10.0, 10.0]             True   \n",
       "2      y_1       [1.0]      [-100.0]       [100.0]             True   \n",
       "3      y_2       [1.0]      [-100.0]       [100.0]             True   \n",
       "\n",
       "  activated_elem  \n",
       "0         [True]  \n",
       "1   [True, True]  \n",
       "2         [True]  \n",
       "3         [True]  "
      ]
     },
     "execution_count": 7,
     "metadata": {},
     "output_type": "execute_result"
    }
   ],
   "source": [
    "dspace = pd.DataFrame(dspace_dict)\n",
    "dspace"
   ]
  },
  {
   "cell_type": "code",
   "execution_count": 8,
   "id": "610b5929",
   "metadata": {},
   "outputs": [
    {
     "name": "stdout",
     "output_type": "stream",
     "text": [
      "C:\\Temp\n"
     ]
    }
   ],
   "source": [
    "from tempfile import gettempdir\n",
    "root_dir = gettempdir()\n",
    "print(root_dir)\n",
    "#dspace.to_csv(root_dir+'\\\\ds.csv')"
   ]
  },
  {
   "cell_type": "code",
   "execution_count": 9,
   "id": "367df147",
   "metadata": {},
   "outputs": [],
   "source": [
    "repo = 'sos_trades_core.sos_processes.test'\n",
    "proc_name = 'test_sellar_opt'"
   ]
  },
  {
   "cell_type": "code",
   "execution_count": null,
   "id": "3ef1d0f7",
   "metadata": {},
   "outputs": [],
   "source": []
  },
  {
   "cell_type": "markdown",
   "id": "839e5afe",
   "metadata": {},
   "source": [
    "# 1 optim scenario check treeview"
   ]
  },
  {
   "cell_type": "code",
   "execution_count": 10,
   "id": "922e0fd5",
   "metadata": {},
   "outputs": [
    {
     "name": "stdout",
     "output_type": "stream",
     "text": [
      "\n",
      " Test 1 : check configure and treeview\n"
     ]
    }
   ],
   "source": [
    "print(\"\\n Test 1 : check configure and treeview\")"
   ]
  },
  {
   "cell_type": "code",
   "execution_count": 11,
   "id": "d064a89b",
   "metadata": {},
   "outputs": [
    {
     "name": "stderr",
     "output_type": "stream",
     "text": [
      "INFO:SoS.EE:configuring ...\n",
      "WARNING:gemseo.mda.mda_chain:No coupling in MDA, switching chain_linearize to True\n",
      "INFO:SoS.EE.Coupling:The MDA solver of the Coupling optim is set to MDAJacobi\n"
     ]
    }
   ],
   "source": [
    "exec_eng = ExecutionEngine(study_name)\n",
    "factory = exec_eng.factory\n",
    "opt_builder = factory.get_builder_from_process(repo=repo,mod_id=proc_name)\n",
    "exec_eng.factory.set_builders_to_coupling_builder(opt_builder)\n",
    "exec_eng.configure()"
   ]
  },
  {
   "cell_type": "code",
   "execution_count": 12,
   "id": "9529d639",
   "metadata": {},
   "outputs": [
    {
     "name": "stdout",
     "output_type": "stream",
     "text": [
      "\n",
      " in test optim scenario\n"
     ]
    }
   ],
   "source": [
    "print('\\n in test optim scenario')"
   ]
  },
  {
   "cell_type": "code",
   "execution_count": 13,
   "id": "fefa1cd4",
   "metadata": {},
   "outputs": [
    {
     "name": "stdout",
     "output_type": "stream",
     "text": [
      "key optim.sub_mda_class\n",
      "key optim.max_mda_iter\n",
      "key optim.n_processes\n",
      "key optim.chain_linearize\n",
      "key optim.tolerance\n",
      "key optim.use_lu_fact\n",
      "key optim.warm_start\n",
      "key optim.acceleration\n",
      "key optim.warm_start_threshold\n",
      "key optim.n_subcouplings_parallel\n",
      "key optim.tolerance_gs\n",
      "key optim.relax_factor\n",
      "key optim.epsilon0\n",
      "key optim.linear_solver_MDO\n",
      "key optim.linear_solver_MDO_preconditioner\n",
      "key optim.linear_solver_MDO_options\n",
      "key optim.linear_solver_MDA\n",
      "key optim.linear_solver_MDA_preconditioner\n",
      "key optim.linear_solver_MDA_options\n",
      "key optim.group_mda_disciplines\n",
      "key optim.authorize_self_coupled_disciplines\n",
      "key optim.linearization_mode\n",
      "key optim.cache_type\n",
      "key optim.cache_file_path\n",
      "key optim.debug_mode\n",
      "key optim.SellarOptimScenario.max_iter\n",
      "key optim.SellarOptimScenario.ineq_constraints\n",
      "key optim.SellarOptimScenario.eq_constraints\n",
      "key optim.SellarOptimScenario.algo\n",
      "key optim.SellarOptimScenario.design_space\n",
      "key optim.SellarOptimScenario.formulation\n",
      "key optim.SellarOptimScenario.maximize_objective\n",
      "key optim.SellarOptimScenario.objective_name\n",
      "key optim.SellarOptimScenario.differentiation_method\n",
      "key optim.SellarOptimScenario.algo_options\n",
      "key optim.SellarOptimScenario.parallel_options\n",
      "key optim.SellarOptimScenario.eval_mode\n",
      "key optim.SellarOptimScenario.eval_jac\n",
      "key optim.SellarOptimScenario.execute_at_xopt\n",
      "key optim.SellarOptimScenario.linearization_mode\n",
      "key optim.SellarOptimScenario.cache_type\n",
      "key optim.SellarOptimScenario.cache_file_path\n",
      "key optim.SellarOptimScenario.debug_mode\n",
      "key optim.SellarOptimScenario.design_space_out\n",
      "key optim.SellarOptimScenario.x\n",
      "key optim.SellarOptimScenario.y_1\n",
      "key optim.SellarOptimScenario.y_2\n",
      "key optim.SellarOptimScenario.z\n",
      "key optim.SellarOptimScenario.Sellar_Problem.local_dv\n",
      "key optim.SellarOptimScenario.Sellar_Problem.linearization_mode\n",
      "key optim.SellarOptimScenario.Sellar_Problem.cache_type\n",
      "key optim.SellarOptimScenario.Sellar_Problem.cache_file_path\n",
      "key optim.SellarOptimScenario.Sellar_Problem.debug_mode\n",
      "key optim.SellarOptimScenario.c_1\n",
      "key optim.SellarOptimScenario.c_2\n",
      "key optim.SellarOptimScenario.obj\n",
      "key optim.SellarOptimScenario.debug_mode_sellar\n",
      "key optim.SellarOptimScenario.Sellar_2.linearization_mode\n",
      "key optim.SellarOptimScenario.Sellar_2.cache_type\n",
      "key optim.SellarOptimScenario.Sellar_2.cache_file_path\n",
      "key optim.SellarOptimScenario.Sellar_2.debug_mode\n",
      "key optim.SellarOptimScenario.y_2_bis\n",
      "key optim.SellarOptimScenario.Sellar_1.linearization_mode\n",
      "key optim.SellarOptimScenario.Sellar_1.cache_type\n",
      "key optim.SellarOptimScenario.Sellar_1.cache_file_path\n",
      "key optim.SellarOptimScenario.Sellar_1.debug_mode\n",
      "key optim.SellarOptimScenario.y_1_bis\n",
      "key optim.residuals_history\n"
     ]
    }
   ],
   "source": [
    "for key in exec_eng.dm.data_id_map:\n",
    "    print(\"key\", key)"
   ]
  },
  {
   "cell_type": "code",
   "execution_count": 14,
   "id": "1b3d8d40",
   "metadata": {},
   "outputs": [
    {
     "data": {
      "text/plain": [
       "{'optim.SellarOptimScenario.max_iter': 100,\n",
       " 'optim.SellarOptimScenario.algo': 'SLSQP',\n",
       " 'optim.SellarOptimScenario.design_space':   variable       value     lower_bnd     upper_bnd  enable_variable  \\\n",
       " 0        x       [1.0]         [0.0]        [10.0]             True   \n",
       " 1        z  [5.0, 2.0]  [-10.0, 0.0]  [10.0, 10.0]             True   \n",
       " 2      y_1       [1.0]      [-100.0]       [100.0]             True   \n",
       " 3      y_2       [1.0]      [-100.0]       [100.0]             True   \n",
       " \n",
       "   activated_elem  \n",
       " 0         [True]  \n",
       " 1   [True, True]  \n",
       " 2         [True]  \n",
       " 3         [True]  ,\n",
       " 'optim.SellarOptimScenario.formulation': 'MDF',\n",
       " 'optim.SellarOptimScenario.objective_name': 'obj',\n",
       " 'optim.SellarOptimScenario.ineq_constraints': ['c_1', 'c_2'],\n",
       " 'optim.SellarOptimScenario.algo_options': {'ftol_rel': 1e-10,\n",
       "  'ineq_tolerance': 0.002,\n",
       "  'normalize_design_space': False}}"
      ]
     },
     "execution_count": 14,
     "metadata": {},
     "output_type": "execute_result"
    }
   ],
   "source": [
    "#-- set up disciplines in Scenario\n",
    "disc_dict = {}\n",
    "# Optim inputs\n",
    "disc_dict[f'{ns}.SellarOptimScenario.max_iter'] = 100\n",
    "# SLSQP, NLOPT_SLSQP\n",
    "disc_dict[f'{ns}.SellarOptimScenario.algo'] = \"SLSQP\"\n",
    "disc_dict[f'{ns}.SellarOptimScenario.design_space'] = dspace\n",
    "disc_dict[f'{ns}.SellarOptimScenario.formulation'] = 'MDF'\n",
    "disc_dict[f'{ns}.SellarOptimScenario.objective_name'] = 'obj'\n",
    "disc_dict[f'{ns}.SellarOptimScenario.ineq_constraints'] = [\n",
    "    f'c_1', f'c_2']\n",
    "\n",
    "disc_dict[f'{ns}.SellarOptimScenario.algo_options'] = {\"ftol_rel\": 1e-10,\n",
    "                                                            \"ineq_tolerance\": 2e-3,\n",
    "                                                            \"normalize_design_space\": False}\n",
    "disc_dict"
   ]
  },
  {
   "cell_type": "code",
   "execution_count": 15,
   "id": "90e0e3ac",
   "metadata": {},
   "outputs": [
    {
     "name": "stderr",
     "output_type": "stream",
     "text": [
      "INFO:SoS.EE:configuring ...\n",
      "WARNING:SoS.EE.SoSOptimScenario:The differentiation method \"finite_differences\" will overload the linearization mode \"auto\" \n",
      "WARNING:SoS.EE.SoSOptimScenario:The differentiation method \"finite_differences\" will overload the linearization mode \"auto\" \n",
      "WARNING:SoS.EE.SoSOptimScenario:The differentiation method \"finite_differences\" will overload the linearization mode \"auto\" \n",
      "INFO:SoS.EE:configuring ...\n",
      "WARNING:SoS.EE.SoSOptimScenario:The differentiation method \"finite_differences\" will overload the linearization mode \"auto\" \n",
      "WARNING:SoS.EE.SoSOptimScenario:The differentiation method \"finite_differences\" will overload the linearization mode \"auto\" \n",
      "WARNING:SoS.EE.SoSOptimScenario:The differentiation method \"finite_differences\" will overload the linearization mode \"auto\" \n",
      "INFO:SoS.EE:configuring ...\n",
      "WARNING:gemseo.mda.mda_chain:No coupling in MDA, switching chain_linearize to True\n",
      "INFO:SoS.EE.Coupling:The MDA solver of the Coupling optim is set to MDAJacobi\n",
      "ERROR:SoS.EE.DataManager:Variable: optim.SellarOptimScenario.x value is not set!\n",
      "ERROR:SoS.EE.DataManager:Variable: optim.SellarOptimScenario.z value is not set!\n",
      "ERROR:SoS.EE.DataManager:Variable: optim.SellarOptimScenario.Sellar_Problem.local_dv value is not set!\n"
     ]
    }
   ],
   "source": [
    "#exec_eng.dm.set_values_from_dict(disc_dict)\n",
    "exec_eng.load_study_from_input_dict(disc_dict)"
   ]
  },
  {
   "cell_type": "code",
   "execution_count": 16,
   "id": "26bf654e",
   "metadata": {},
   "outputs": [
    {
     "data": {
      "text/plain": [
       "{'optim.SellarOptimScenario.x': 1.0,\n",
       " 'optim.SellarOptimScenario.y_1': 1.0,\n",
       " 'optim.SellarOptimScenario.y_2': 1.0,\n",
       " 'optim.SellarOptimScenario.z': array([1., 1.])}"
      ]
     },
     "execution_count": 16,
     "metadata": {},
     "output_type": "execute_result"
    }
   ],
   "source": [
    "# Sellar inputs\n",
    "values_dict = {}\n",
    "values_dict[f'{ns}.{sc_name}.x'] = 1.\n",
    "values_dict[f'{ns}.{sc_name}.y_1'] = 1.\n",
    "values_dict[f'{ns}.{sc_name}.y_2'] = 1.\n",
    "values_dict[f'{ns}.{sc_name}.z'] = array([1., 1.])\n",
    "values_dict"
   ]
  },
  {
   "cell_type": "code",
   "execution_count": 17,
   "id": "9bfaa19a",
   "metadata": {},
   "outputs": [
    {
     "name": "stderr",
     "output_type": "stream",
     "text": [
      "INFO:SoS.EE:configuring ...\n",
      "WARNING:gemseo.mda.mda_chain:No coupling in MDA, switching chain_linearize to True\n",
      "INFO:SoS.EE.Coupling:The MDA solver of the Coupling optim is set to MDAJacobi\n",
      "ERROR:SoS.EE.DataManager:Variable: optim.SellarOptimScenario.Sellar_Problem.local_dv value is not set!\n",
      "INFO:SoS.EE:configuring ...\n",
      "WARNING:gemseo.mda.mda_chain:No coupling in MDA, switching chain_linearize to True\n",
      "INFO:SoS.EE.Coupling:The MDA solver of the Coupling optim is set to MDAJacobi\n"
     ]
    }
   ],
   "source": [
    "#exec_eng.dm.set_values_from_dict(values_dict)\n",
    "exec_eng.load_study_from_input_dict(values_dict)\n",
    "exec_eng.configure()"
   ]
  },
  {
   "cell_type": "code",
   "execution_count": 18,
   "id": "6336bb99",
   "metadata": {},
   "outputs": [
    {
     "data": {
      "text/plain": [
       "['Nodes representation for Treeview optim',\n",
       " '|_ optim',\n",
       " '\\t|_ SellarOptimScenario',\n",
       " '\\t\\t|_ Sellar_Problem',\n",
       " '\\t\\t|_ Sellar_2',\n",
       " '\\t\\t|_ Sellar_1']"
      ]
     },
     "execution_count": 18,
     "metadata": {},
     "output_type": "execute_result"
    }
   ],
   "source": [
    "exp_tv_list = [f'Nodes representation for Treeview {ns}',\n",
    "               '|_ optim',\n",
    "               f'\\t|_ {sc_name}',\n",
    "               '\\t\\t|_ Sellar_Problem',\n",
    "               '\\t\\t|_ Sellar_2',\n",
    "               '\\t\\t|_ Sellar_1']\n",
    "exp_tv_list"
   ]
  },
  {
   "cell_type": "code",
   "execution_count": 19,
   "id": "ad6fa2c7",
   "metadata": {},
   "outputs": [
    {
     "data": {
      "text/plain": [
       "'Nodes representation for Treeview optim\\n|_ optim\\n\\t|_ SellarOptimScenario\\n\\t\\t|_ Sellar_Problem\\n\\t\\t|_ Sellar_2\\n\\t\\t|_ Sellar_1'"
      ]
     },
     "execution_count": 19,
     "metadata": {},
     "output_type": "execute_result"
    }
   ],
   "source": [
    "exp_tv_str = '\\n'.join(exp_tv_list)\n",
    "exp_tv_str"
   ]
  },
  {
   "cell_type": "code",
   "execution_count": 20,
   "id": "3954903b",
   "metadata": {},
   "outputs": [
    {
     "name": "stderr",
     "output_type": "stream",
     "text": [
      "INFO:SoS.EE:Nodes representation for Treeview optim\n",
      "|_ optim\n",
      "\t|_ SellarOptimScenario\n",
      "\t\t|_ Sellar_Problem\n",
      "\t\t|_ Sellar_2\n",
      "\t\t|_ Sellar_1\n"
     ]
    },
    {
     "data": {
      "text/plain": [
       "'Nodes representation for Treeview optim\\n|_ optim\\n\\t|_ SellarOptimScenario\\n\\t\\t|_ Sellar_Problem\\n\\t\\t|_ Sellar_2\\n\\t\\t|_ Sellar_1'"
      ]
     },
     "execution_count": 20,
     "metadata": {},
     "output_type": "execute_result"
    }
   ],
   "source": [
    "exec_eng.display_treeview_nodes()"
   ]
  },
  {
   "cell_type": "code",
   "execution_count": 21,
   "id": "2b1bd624",
   "metadata": {},
   "outputs": [
    {
     "data": {
      "text/plain": [
       "dict_keys(['optim', 'optim.SellarOptimScenario', 'optim.SellarOptimScenario.Sellar_Problem', 'optim.SellarOptimScenario.Sellar_2', 'optim.SellarOptimScenario.Sellar_1'])"
      ]
     },
     "execution_count": 21,
     "metadata": {},
     "output_type": "execute_result"
    }
   ],
   "source": [
    "exec_eng.dm.disciplines_id_map.keys()"
   ]
  },
  {
   "cell_type": "code",
   "execution_count": 22,
   "id": "84154cdd",
   "metadata": {},
   "outputs": [
    {
     "data": {
      "text/plain": [
       "'optim'"
      ]
     },
     "execution_count": 22,
     "metadata": {},
     "output_type": "execute_result"
    }
   ],
   "source": [
    "exec_eng.dm.name"
   ]
  },
  {
   "cell_type": "code",
   "execution_count": 23,
   "id": "138b6473",
   "metadata": {},
   "outputs": [
    {
     "data": {
      "text/plain": [
       "'MDAJacobi'"
      ]
     },
     "execution_count": 23,
     "metadata": {},
     "output_type": "execute_result"
    }
   ],
   "source": [
    "exec_eng.dm.get_data('optim.sub_mda_class')['value']"
   ]
  },
  {
   "cell_type": "code",
   "execution_count": 24,
   "id": "c33e8bf7",
   "metadata": {},
   "outputs": [
    {
     "name": "stderr",
     "output_type": "stream",
     "text": [
      "INFO:SoS.EE:Nodes representation for Treeview optim\n",
      "|_ optim\n",
      "\t-> acceleration\n",
      "\t-> authorize_self_coupled_disciplines\n",
      "\t-> cache_file_path\n",
      "\t-> cache_type\n",
      "\t-> chain_linearize\n",
      "\t-> debug_mode\n",
      "\t-> epsilon0\n",
      "\t-> group_mda_disciplines\n",
      "\t-> linear_solver_MDA\n",
      "\t-> linear_solver_MDA_options\n",
      "\t-> linear_solver_MDA_preconditioner\n",
      "\t-> linear_solver_MDO\n",
      "\t-> linear_solver_MDO_options\n",
      "\t-> linear_solver_MDO_preconditioner\n",
      "\t-> linearization_mode\n",
      "\t-> max_mda_iter\n",
      "\t-> n_processes\n",
      "\t-> n_subcouplings_parallel\n",
      "\t-> relax_factor\n",
      "\t-> sub_mda_class\n",
      "\t-> tolerance\n",
      "\t-> tolerance_gs\n",
      "\t-> use_lu_fact\n",
      "\t-> warm_start\n",
      "\t-> warm_start_threshold\n",
      "\t<- residuals_history\n",
      "\t|_ SellarOptimScenario\n",
      "\t\t-> algo\n",
      "\t\t-> algo_options\n",
      "\t\t-> cache_file_path\n",
      "\t\t-> cache_type\n",
      "\t\t-> debug_mode\n",
      "\t\t-> debug_mode_sellar\n",
      "\t\t-> design_space\n",
      "\t\t-> differentiation_method\n",
      "\t\t-> eq_constraints\n",
      "\t\t-> eval_jac\n",
      "\t\t-> eval_mode\n",
      "\t\t-> execute_at_xopt\n",
      "\t\t-> formulation\n",
      "\t\t-> ineq_constraints\n",
      "\t\t-> linearization_mode\n",
      "\t\t-> max_iter\n",
      "\t\t-> maximize_objective\n",
      "\t\t-> objective_name\n",
      "\t\t-> parallel_options\n",
      "\t\t-> x\n",
      "\t\t-> z\n",
      "\t\t<- c_1\n",
      "\t\t<- c_2\n",
      "\t\t<- design_space_out\n",
      "\t\t<- obj\n",
      "\t\t<- y_1\n",
      "\t\t<- y_1_bis\n",
      "\t\t<- y_2\n",
      "\t\t<- y_2_bis\n",
      "\t\t|_ Sellar_Problem\n",
      "\t\t\t-> cache_file_path\n",
      "\t\t\t-> cache_type\n",
      "\t\t\t-> debug_mode\n",
      "\t\t\t-> linearization_mode\n",
      "\t\t\t-> local_dv\n",
      "\t\t|_ Sellar_2\n",
      "\t\t\t-> cache_file_path\n",
      "\t\t\t-> cache_type\n",
      "\t\t\t-> debug_mode\n",
      "\t\t\t-> linearization_mode\n",
      "\t\t|_ Sellar_1\n",
      "\t\t\t-> cache_file_path\n",
      "\t\t\t-> cache_type\n",
      "\t\t\t-> debug_mode\n",
      "\t\t\t-> linearization_mode\n"
     ]
    },
    {
     "data": {
      "text/plain": [
       "'Nodes representation for Treeview optim\\n|_ optim\\n\\t-> acceleration\\n\\t-> authorize_self_coupled_disciplines\\n\\t-> cache_file_path\\n\\t-> cache_type\\n\\t-> chain_linearize\\n\\t-> debug_mode\\n\\t-> epsilon0\\n\\t-> group_mda_disciplines\\n\\t-> linear_solver_MDA\\n\\t-> linear_solver_MDA_options\\n\\t-> linear_solver_MDA_preconditioner\\n\\t-> linear_solver_MDO\\n\\t-> linear_solver_MDO_options\\n\\t-> linear_solver_MDO_preconditioner\\n\\t-> linearization_mode\\n\\t-> max_mda_iter\\n\\t-> n_processes\\n\\t-> n_subcouplings_parallel\\n\\t-> relax_factor\\n\\t-> sub_mda_class\\n\\t-> tolerance\\n\\t-> tolerance_gs\\n\\t-> use_lu_fact\\n\\t-> warm_start\\n\\t-> warm_start_threshold\\n\\t<- residuals_history\\n\\t|_ SellarOptimScenario\\n\\t\\t-> algo\\n\\t\\t-> algo_options\\n\\t\\t-> cache_file_path\\n\\t\\t-> cache_type\\n\\t\\t-> debug_mode\\n\\t\\t-> debug_mode_sellar\\n\\t\\t-> design_space\\n\\t\\t-> differentiation_method\\n\\t\\t-> eq_constraints\\n\\t\\t-> eval_jac\\n\\t\\t-> eval_mode\\n\\t\\t-> execute_at_xopt\\n\\t\\t-> formulation\\n\\t\\t-> ineq_constraints\\n\\t\\t-> linearization_mode\\n\\t\\t-> max_iter\\n\\t\\t-> maximize_objective\\n\\t\\t-> objective_name\\n\\t\\t-> parallel_options\\n\\t\\t-> x\\n\\t\\t-> z\\n\\t\\t<- c_1\\n\\t\\t<- c_2\\n\\t\\t<- design_space_out\\n\\t\\t<- obj\\n\\t\\t<- y_1\\n\\t\\t<- y_1_bis\\n\\t\\t<- y_2\\n\\t\\t<- y_2_bis\\n\\t\\t|_ Sellar_Problem\\n\\t\\t\\t-> cache_file_path\\n\\t\\t\\t-> cache_type\\n\\t\\t\\t-> debug_mode\\n\\t\\t\\t-> linearization_mode\\n\\t\\t\\t-> local_dv\\n\\t\\t|_ Sellar_2\\n\\t\\t\\t-> cache_file_path\\n\\t\\t\\t-> cache_type\\n\\t\\t\\t-> debug_mode\\n\\t\\t\\t-> linearization_mode\\n\\t\\t|_ Sellar_1\\n\\t\\t\\t-> cache_file_path\\n\\t\\t\\t-> cache_type\\n\\t\\t\\t-> debug_mode\\n\\t\\t\\t-> linearization_mode'"
      ]
     },
     "execution_count": 24,
     "metadata": {},
     "output_type": "execute_result"
    }
   ],
   "source": [
    "exec_eng.display_treeview_nodes(True)"
   ]
  },
  {
   "cell_type": "code",
   "execution_count": 25,
   "id": "e1d02cb3",
   "metadata": {},
   "outputs": [],
   "source": [
    "# XDSMize test\n",
    "#        exec_eng.root_process.xdsmize()\n",
    "# to visualize in an internet browser :\n",
    "# - download XDSMjs at https://github.com/OneraHub/XDSMjs and unzip\n",
    "# - replace existing xdsm.json inside by yours\n",
    "# - in the same folder, type in terminal 'python -m http.server 8080'\n",
    "# - open in browser http://localhost:8080/xdsm.html"
   ]
  },
  {
   "cell_type": "code",
   "execution_count": null,
   "id": "40da640a",
   "metadata": {},
   "outputs": [],
   "source": []
  },
  {
   "cell_type": "code",
   "execution_count": null,
   "id": "3ccf6c54",
   "metadata": {},
   "outputs": [],
   "source": []
  },
  {
   "cell_type": "code",
   "execution_count": null,
   "id": "d16dc2fb",
   "metadata": {},
   "outputs": [],
   "source": []
  },
  {
   "cell_type": "code",
   "execution_count": null,
   "id": "3e90b949",
   "metadata": {},
   "outputs": [],
   "source": []
  },
  {
   "cell_type": "code",
   "execution_count": null,
   "id": "4f375acd",
   "metadata": {},
   "outputs": [],
   "source": []
  },
  {
   "cell_type": "code",
   "execution_count": null,
   "id": "b7f00523",
   "metadata": {},
   "outputs": [],
   "source": []
  },
  {
   "cell_type": "code",
   "execution_count": null,
   "id": "489955e4",
   "metadata": {},
   "outputs": [],
   "source": []
  }
 ],
 "metadata": {
  "kernelspec": {
   "display_name": "Python 3 (ipykernel)",
   "language": "python",
   "name": "python3"
  },
  "language_info": {
   "codemirror_mode": {
    "name": "ipython",
    "version": 3
   },
   "file_extension": ".py",
   "mimetype": "text/x-python",
   "name": "python",
   "nbconvert_exporter": "python",
   "pygments_lexer": "ipython3",
   "version": "3.9.7"
  }
 },
 "nbformat": 4,
 "nbformat_minor": 5
}
