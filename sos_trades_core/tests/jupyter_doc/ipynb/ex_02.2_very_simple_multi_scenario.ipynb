{
 "cells": [
  {
   "cell_type": "code",
   "execution_count": 1,
   "id": "e668b41a",
   "metadata": {},
   "outputs": [],
   "source": [
    "if 0 :\n",
    "    %matplotlib inline\n",
    "else :\n",
    "    %matplotlib notebook"
   ]
  },
  {
   "cell_type": "markdown",
   "id": "b3f4409c",
   "metadata": {},
   "source": [
    "#  Import  libraries"
   ]
  },
  {
   "cell_type": "code",
   "execution_count": 2,
   "id": "765fed52",
   "metadata": {},
   "outputs": [
    {
     "name": "stdout",
     "output_type": "stream",
     "text": [
      "C:\\Users\\ng947ac\\Documents\\Daniel\\jupyter\\SoSTrades\\jupyter_doc\\_scripts\n",
      "C:\\Users\\ng947ac\\Documents\\Daniel\\git\\workspace\n",
      "C:\\Users\\ng947ac\\Documents\\Daniel\\git\\workspace\\sosgemseo\\src\\\n",
      "C:\\Users\\ng947ac\\Documents\\Daniel\\git\\workspace\\sostrades-core\n"
     ]
    }
   ],
   "source": [
    "import sys\n",
    "import os\n",
    "module_path = os.path.abspath('.') +\"\\\\_scripts\"\n",
    "print(module_path)\n",
    "\n",
    "if module_path not in sys.path:\n",
    "    sys.path.append(module_path)\n",
    "from _00_Import_packages_git3 import *"
   ]
  },
  {
   "cell_type": "code",
   "execution_count": 3,
   "id": "f59f4096",
   "metadata": {},
   "outputs": [],
   "source": [
    "from time import sleep\n",
    "from shutil import rmtree\n",
    "from pathlib import Path\n",
    "from os.path import join\n",
    "import pandas as pd\n",
    "import numpy as np\n",
    "import os\n",
    "\n",
    "from sos_trades_core.execution_engine.execution_engine import ExecutionEngine\n",
    "from sos_trades_core.execution_engine.sos_simple_multi_scenario import SoSSimpleMultiScenario\n",
    "from sos_trades_core.execution_engine.sos_very_simple_multi_scenario import SoSVerySimpleMultiScenario\n",
    "from sos_trades_core.execution_engine.scatter_data import SoSScatterData\n",
    "from sos_trades_core.execution_engine.sos_discipline_scatter import SoSDisciplineScatter\n",
    "from tempfile import gettempdir\n",
    "from sos_trades_core.tools.rw.load_dump_dm_data import DirectLoadDump\n",
    "from sos_trades_core.study_manager.base_study_manager import BaseStudyManager\n",
    "from sos_trades_core.execution_engine.sos_discipline import SoSDiscipline\n",
    "from sos_trades_core.execution_engine.sos_coupling import SoSCoupling"
   ]
  },
  {
   "cell_type": "markdown",
   "id": "079d9666",
   "metadata": {},
   "source": [
    "# TestScatter"
   ]
  },
  {
   "cell_type": "markdown",
   "id": "524a4a5d",
   "metadata": {},
   "source": [
    "SoSDiscipline test class"
   ]
  },
  {
   "cell_type": "markdown",
   "id": "fb500ad7",
   "metadata": {},
   "source": [
    "# setUp"
   ]
  },
  {
   "cell_type": "code",
   "execution_count": 4,
   "id": "df756823",
   "metadata": {},
   "outputs": [],
   "source": [
    "'''\n",
    "Initialize third data needed for testing\n",
    "'''\n",
    "dirs_to_del = []\n",
    "namespace = 'MyCase'\n",
    "study_name = f'{namespace}'\n",
    "repo = 'sos_trades_core.sos_processes.test'\n",
    "base_path = 'sos_trades_core.sos_wrapping.test_discs'\n",
    "\n",
    "root_dir = gettempdir()"
   ]
  },
  {
   "cell_type": "code",
   "execution_count": 5,
   "id": "dab63115",
   "metadata": {},
   "outputs": [],
   "source": [
    "exec_eng = ExecutionEngine(namespace)\n",
    "factory = exec_eng.factory"
   ]
  },
  {
   "cell_type": "markdown",
   "id": "087ec88f",
   "metadata": {},
   "source": [
    "# tearDown"
   ]
  },
  {
   "cell_type": "code",
   "execution_count": 6,
   "id": "6a4219ee",
   "metadata": {},
   "outputs": [],
   "source": [
    "for dir_to_del in dirs_to_del:\n",
    "     sleep(0.5)\n",
    "     if Path(dir_to_del).is_dir():\n",
    "          rmtree(dir_to_del)\n",
    "sleep(0.5)"
   ]
  },
  {
   "cell_type": "markdown",
   "id": "25b1dc90",
   "metadata": {},
   "source": [
    "# 02_consecutive_configuration "
   ]
  },
  {
   "cell_type": "code",
   "execution_count": 7,
   "id": "723c8647",
   "metadata": {},
   "outputs": [],
   "source": [
    "exec_eng = ExecutionEngine(namespace)\n",
    "factory = exec_eng.factory"
   ]
  },
  {
   "cell_type": "code",
   "execution_count": 8,
   "id": "c2247e3b",
   "metadata": {},
   "outputs": [
    {
     "data": {
      "text/html": [
       "<div>\n",
       "<style scoped>\n",
       "    .dataframe tbody tr th:only-of-type {\n",
       "        vertical-align: middle;\n",
       "    }\n",
       "\n",
       "    .dataframe tbody tr th {\n",
       "        vertical-align: top;\n",
       "    }\n",
       "\n",
       "    .dataframe thead th {\n",
       "        text-align: right;\n",
       "    }\n",
       "</style>\n",
       "<table border=\"1\" class=\"dataframe\">\n",
       "  <thead>\n",
       "    <tr style=\"text-align: right;\">\n",
       "      <th></th>\n",
       "      <th>0</th>\n",
       "    </tr>\n",
       "  </thead>\n",
       "  <tbody>\n",
       "    <tr>\n",
       "      <th>input_name</th>\n",
       "      <td>name_list</td>\n",
       "    </tr>\n",
       "    <tr>\n",
       "      <th>input_type</th>\n",
       "      <td>string_list</td>\n",
       "    </tr>\n",
       "    <tr>\n",
       "      <th>input_ns</th>\n",
       "      <td>ns_scatter_scenario</td>\n",
       "    </tr>\n",
       "    <tr>\n",
       "      <th>output_name</th>\n",
       "      <td>ac_name</td>\n",
       "    </tr>\n",
       "    <tr>\n",
       "      <th>scatter_ns</th>\n",
       "      <td>ns_ac</td>\n",
       "    </tr>\n",
       "    <tr>\n",
       "      <th>gather_ns</th>\n",
       "      <td>ns_scenario</td>\n",
       "    </tr>\n",
       "    <tr>\n",
       "      <th>ns_to_update</th>\n",
       "      <td>[ns_data_ac]</td>\n",
       "    </tr>\n",
       "  </tbody>\n",
       "</table>\n",
       "</div>"
      ],
      "text/plain": [
       "                                0\n",
       "input_name              name_list\n",
       "input_type            string_list\n",
       "input_ns      ns_scatter_scenario\n",
       "output_name               ac_name\n",
       "scatter_ns                  ns_ac\n",
       "gather_ns             ns_scenario\n",
       "ns_to_update         [ns_data_ac]"
      ]
     },
     "execution_count": 8,
     "metadata": {},
     "output_type": "execute_result"
    }
   ],
   "source": [
    "# scatter build map\n",
    "ac_map = {'input_name': 'name_list',\n",
    "            'input_type': 'string_list',\n",
    "            'input_ns': 'ns_scatter_scenario',\n",
    "            'output_name': 'ac_name',\n",
    "            'scatter_ns': 'ns_ac',\n",
    "            'gather_ns': 'ns_scenario',\n",
    "            'ns_to_update': ['ns_data_ac']}\n",
    "exec_eng.smaps_manager.add_build_map('name_list', ac_map)\n",
    "import pandas as pd\n",
    "pd.DataFrame.from_dict(ac_map ,orient='index')"
   ]
  },
  {
   "cell_type": "code",
   "execution_count": 9,
   "id": "316b43b4",
   "metadata": {},
   "outputs": [
    {
     "data": {
      "text/html": [
       "<div>\n",
       "<style scoped>\n",
       "    .dataframe tbody tr th:only-of-type {\n",
       "        vertical-align: middle;\n",
       "    }\n",
       "\n",
       "    .dataframe tbody tr th {\n",
       "        vertical-align: top;\n",
       "    }\n",
       "\n",
       "    .dataframe thead th {\n",
       "        text-align: right;\n",
       "    }\n",
       "</style>\n",
       "<table border=\"1\" class=\"dataframe\">\n",
       "  <thead>\n",
       "    <tr style=\"text-align: right;\">\n",
       "      <th></th>\n",
       "      <th>0</th>\n",
       "    </tr>\n",
       "  </thead>\n",
       "  <tbody>\n",
       "    <tr>\n",
       "      <th>input_name</th>\n",
       "      <td>scenario_list</td>\n",
       "    </tr>\n",
       "    <tr>\n",
       "      <th>input_type</th>\n",
       "      <td>string_list</td>\n",
       "    </tr>\n",
       "    <tr>\n",
       "      <th>input_ns</th>\n",
       "      <td>ns_scatter_scenario</td>\n",
       "    </tr>\n",
       "    <tr>\n",
       "      <th>output_name</th>\n",
       "      <td>scenario_name</td>\n",
       "    </tr>\n",
       "    <tr>\n",
       "      <th>scatter_ns</th>\n",
       "      <td>ns_scenario</td>\n",
       "    </tr>\n",
       "    <tr>\n",
       "      <th>gather_ns</th>\n",
       "      <td>ns_scatter_scenario</td>\n",
       "    </tr>\n",
       "    <tr>\n",
       "      <th>ns_to_update</th>\n",
       "      <td>[ns_disc3, ns_barrierr, ns_out_disc3]</td>\n",
       "    </tr>\n",
       "  </tbody>\n",
       "</table>\n",
       "</div>"
      ],
      "text/plain": [
       "                                                  0\n",
       "input_name                            scenario_list\n",
       "input_type                              string_list\n",
       "input_ns                        ns_scatter_scenario\n",
       "output_name                           scenario_name\n",
       "scatter_ns                              ns_scenario\n",
       "gather_ns                       ns_scatter_scenario\n",
       "ns_to_update  [ns_disc3, ns_barrierr, ns_out_disc3]"
      ]
     },
     "execution_count": 9,
     "metadata": {},
     "output_type": "execute_result"
    }
   ],
   "source": [
    "# scenario build map\n",
    "scenario_map =  {'input_name': 'scenario_list',\n",
    "                        'input_type': 'string_list',\n",
    "                        'input_ns': 'ns_scatter_scenario',\n",
    "                        'output_name': 'scenario_name',\n",
    "                        'scatter_ns': 'ns_scenario',\n",
    "                        'gather_ns': 'ns_scatter_scenario',\n",
    "                        'ns_to_update': ['ns_disc3', 'ns_barrierr', 'ns_out_disc3']}\n",
    "\n",
    "exec_eng.smaps_manager.add_build_map(\n",
    "     'scenario_list', scenario_map)\n",
    "import pandas as pd\n",
    "pd.DataFrame.from_dict(scenario_map ,orient='index')"
   ]
  },
  {
   "cell_type": "code",
   "execution_count": 10,
   "id": "46f35ce2",
   "metadata": {},
   "outputs": [
    {
     "data": {
      "text/plain": [
       "<sos_trades_core.execution_engine.namespace.Namespace at 0x25aab06cbb0>"
      ]
     },
     "execution_count": 10,
     "metadata": {},
     "output_type": "execute_result"
    }
   ],
   "source": [
    "# shared namespace\n",
    "exec_eng.ns_manager.add_ns('ns_barrierr', 'MyCase')\n",
    "exec_eng.ns_manager.add_ns(\n",
    "     'ns_scatter_scenario', 'MyCase.multi_scenarios')\n",
    "exec_eng.ns_manager.add_ns(\n",
    "     'ns_disc3', 'MyCase.multi_scenarios.Disc3')\n",
    "exec_eng.ns_manager.add_ns(\n",
    "     'ns_out_disc3', 'MyCase.multi_scenarios')\n",
    "exec_eng.ns_manager.add_ns(\n",
    "     'ns_data_ac', 'MyCase')"
   ]
  },
  {
   "cell_type": "code",
   "execution_count": 11,
   "id": "a722f0cd",
   "metadata": {},
   "outputs": [
    {
     "name": "stderr",
     "output_type": "stream",
     "text": [
      "INFO:SoS.EE:configuring ...\n",
      "WARNING:gemseo.mda.mda_chain:No coupling in MDA, switching chain_linearize to True\n",
      "INFO:SoS.EE.Coupling:The MDA solver of the Coupling MyCase is set to MDAJacobi\n",
      "INFO:SoS.EE:Nodes representation for Treeview MyCase\n",
      "|_ MyCase\n",
      "\t|_ multi_scenarios\n",
      "\t|_ Post-processing\n",
      "\t\t|_ Disc1\n",
      "\t\t|_ Disc3\n"
     ]
    },
    {
     "data": {
      "text/plain": [
       "'Nodes representation for Treeview MyCase\\n|_ MyCase\\n\\t|_ multi_scenarios\\n\\t|_ Post-processing\\n\\t\\t|_ Disc1\\n\\t\\t|_ Disc3'"
      ]
     },
     "execution_count": 11,
     "metadata": {},
     "output_type": "execute_result"
    }
   ],
   "source": [
    "# instantiate factory # get instantiator from Discipline class\n",
    "\n",
    "builder_list = factory.get_builder_from_process(repo=repo,\n",
    "                                                                  mod_id='test_disc1_scenario')\n",
    "\n",
    "scatter_list = exec_eng.factory.create_multi_scatter_builder_from_list(\n",
    "     'name_list', builder_list=builder_list, autogather=True)\n",
    "\n",
    "mod_path = f'{base_path}.disc3_scenario.Disc3'\n",
    "disc3_builder = exec_eng.factory.get_builder_from_module(\n",
    "     'Disc3', mod_path)\n",
    "scatter_list.append(disc3_builder)\n",
    "\n",
    "multi_scenarios = exec_eng.factory.create_very_simple_multi_scenario_builder(\n",
    "     'multi_scenarios', 'scenario_list', scatter_list, autogather=True, gather_node='Post-processing')\n",
    "\n",
    "exec_eng.factory.set_builders_to_coupling_builder(\n",
    "     multi_scenarios)\n",
    "exec_eng.configure()\n",
    "exec_eng.display_treeview_nodes()"
   ]
  },
  {
   "cell_type": "code",
   "execution_count": 12,
   "id": "cfc80ff3",
   "metadata": {},
   "outputs": [
    {
     "data": {
      "text/plain": [
       "{'MyCase.multi_scenarios.scenario_list': ['scenario_1', 'scenario_2'],\n",
       " 'MyCase.multi_scenarios.name_list': ['name_1', 'name_2']}"
      ]
     },
     "execution_count": 12,
     "metadata": {},
     "output_type": "execute_result"
    }
   ],
   "source": [
    "dict_values = {f'{study_name}.multi_scenarios.scenario_list': ['scenario_1', 'scenario_2'],\n",
    "                  f'{study_name}.multi_scenarios.name_list': ['name_1', 'name_2']}\n",
    "dict_values"
   ]
  },
  {
   "cell_type": "code",
   "execution_count": 13,
   "id": "9457c7dd",
   "metadata": {},
   "outputs": [
    {
     "name": "stderr",
     "output_type": "stream",
     "text": [
      "INFO:SoS.EE:configuring ...\n",
      "WARNING:gemseo.mda.mda_chain:No coupling in MDA, switching chain_linearize to True\n",
      "INFO:SoS.EE.Coupling:The MDA solver of the Coupling MyCase.multi_scenarios.scenario_1 is set to MDAJacobi\n",
      "WARNING:gemseo.mda.mda_chain:No coupling in MDA, switching chain_linearize to True\n",
      "INFO:SoS.EE.Coupling:The MDA solver of the Coupling MyCase.multi_scenarios.scenario_2 is set to MDAJacobi\n",
      "INFO:SoS.EE:configuring ...\n",
      "WARNING:gemseo.mda.mda_chain:No coupling in MDA, switching chain_linearize to True\n",
      "INFO:SoS.EE.Coupling:The MDA solver of the Coupling MyCase.multi_scenarios.scenario_1 is set to MDAJacobi\n",
      "WARNING:gemseo.mda.mda_chain:No coupling in MDA, switching chain_linearize to True\n",
      "INFO:SoS.EE.Coupling:The MDA solver of the Coupling MyCase.multi_scenarios.scenario_2 is set to MDAJacobi\n",
      "INFO:SoS.EE:configuring ...\n",
      "WARNING:gemseo.mda.mda_chain:No coupling in MDA, switching chain_linearize to True\n",
      "INFO:SoS.EE.Coupling:The MDA solver of the Coupling MyCase.multi_scenarios.scenario_1 is set to MDAJacobi\n",
      "WARNING:gemseo.mda.mda_chain:No coupling in MDA, switching chain_linearize to True\n",
      "INFO:SoS.EE.Coupling:The MDA solver of the Coupling MyCase.multi_scenarios.scenario_2 is set to MDAJacobi\n",
      "INFO:SoS.EE:configuring ...\n",
      "INFO:SoS.EE.Coupling:The MDA solver of the Coupling MyCase.multi_scenarios.scenario_1 is set to MDAJacobi\n",
      "INFO:SoS.EE.Coupling:The MDA solver of the Coupling MyCase.multi_scenarios.scenario_2 is set to MDAJacobi\n",
      "INFO:SoS.EE:configuring ...\n",
      "INFO:SoS.EE.Coupling:The MDA solver of the Coupling MyCase.multi_scenarios.scenario_1 is set to MDAJacobi\n",
      "INFO:SoS.EE.Coupling:The MDA solver of the Coupling MyCase.multi_scenarios.scenario_2 is set to MDAJacobi\n",
      "INFO:SoS.EE:configuring ...\n",
      "INFO:SoS.EE.Coupling:The MDA solver of the Coupling MyCase is set to MDAJacobi\n",
      "ERROR:SoS.EE.DataManager:Variable: MyCase.multi_scenarios.scenario_1.Disc3.z value is not set!\n",
      "ERROR:SoS.EE.DataManager:Variable: MyCase.multi_scenarios.scenario_1.Disc3.constant value is not set!\n",
      "ERROR:SoS.EE.DataManager:Variable: MyCase.multi_scenarios.scenario_1.Disc3.power value is not set!\n",
      "ERROR:SoS.EE.DataManager:Variable: MyCase.multi_scenarios.scenario_2.Disc3.z value is not set!\n",
      "ERROR:SoS.EE.DataManager:Variable: MyCase.multi_scenarios.scenario_2.Disc3.constant value is not set!\n",
      "ERROR:SoS.EE.DataManager:Variable: MyCase.multi_scenarios.scenario_2.Disc3.power value is not set!\n",
      "ERROR:SoS.EE.DataManager:Variable: MyCase.name_1.x value is not set!\n",
      "ERROR:SoS.EE.DataManager:Variable: MyCase.name_1.a value is not set!\n",
      "ERROR:SoS.EE.DataManager:Variable: MyCase.multi_scenarios.scenario_1.Disc1.name_1.b value is not set!\n",
      "ERROR:SoS.EE.DataManager:Variable: MyCase.name_2.x value is not set!\n",
      "ERROR:SoS.EE.DataManager:Variable: MyCase.name_2.a value is not set!\n",
      "ERROR:SoS.EE.DataManager:Variable: MyCase.multi_scenarios.scenario_1.Disc1.name_2.b value is not set!\n",
      "ERROR:SoS.EE.DataManager:Variable: MyCase.multi_scenarios.scenario_2.Disc1.name_1.b value is not set!\n",
      "ERROR:SoS.EE.DataManager:Variable: MyCase.multi_scenarios.scenario_2.Disc1.name_2.b value is not set!\n",
      "INFO:SoS.EE:Nodes representation for Treeview MyCase\n",
      "|_ MyCase\n",
      "\t|_ multi_scenarios\n",
      "\t\t|_ scenario_1\n",
      "\t\t\t|_ Disc1\n",
      "\t\t\t\t|_ name_1\n",
      "\t\t\t\t|_ name_2\n",
      "\t\t\t|_ Disc3\n",
      "\t\t|_ scenario_2\n",
      "\t\t\t|_ Disc1\n",
      "\t\t\t\t|_ name_1\n",
      "\t\t\t\t|_ name_2\n",
      "\t\t\t|_ Disc3\n",
      "\t|_ Post-processing\n",
      "\t\t|_ Disc1\n",
      "\t\t|_ Disc3\n",
      "\t|_ name_1\n",
      "\t|_ name_2\n"
     ]
    },
    {
     "data": {
      "text/plain": [
       "'Nodes representation for Treeview MyCase\\n|_ MyCase\\n\\t|_ multi_scenarios\\n\\t\\t|_ scenario_1\\n\\t\\t\\t|_ Disc1\\n\\t\\t\\t\\t|_ name_1\\n\\t\\t\\t\\t|_ name_2\\n\\t\\t\\t|_ Disc3\\n\\t\\t|_ scenario_2\\n\\t\\t\\t|_ Disc1\\n\\t\\t\\t\\t|_ name_1\\n\\t\\t\\t\\t|_ name_2\\n\\t\\t\\t|_ Disc3\\n\\t|_ Post-processing\\n\\t\\t|_ Disc1\\n\\t\\t|_ Disc3\\n\\t|_ name_1\\n\\t|_ name_2'"
      ]
     },
     "execution_count": 13,
     "metadata": {},
     "output_type": "execute_result"
    }
   ],
   "source": [
    "exec_eng.load_study_from_input_dict(dict_values)\n",
    "exec_eng.display_treeview_nodes()\n"
   ]
  },
  {
   "cell_type": "code",
   "execution_count": 14,
   "id": "396e5e04",
   "metadata": {},
   "outputs": [
    {
     "name": "stdout",
     "output_type": "stream",
     "text": [
      "['scenario_1', 'scenario_2'] ['scenario_1', 'scenario_2']\n"
     ]
    }
   ],
   "source": [
    "for disc in exec_eng.dm.get_disciplines_with_name('MyCase.multi_scenarios'):\n",
    "     if isinstance(disc, SoSVerySimpleMultiScenario):\n",
    "          print(list(disc.get_scattered_disciplines().keys()), [\n",
    "                                    'scenario_1', 'scenario_2'])"
   ]
  },
  {
   "cell_type": "code",
   "execution_count": 15,
   "id": "e63e0341",
   "metadata": {},
   "outputs": [
    {
     "data": {
      "text/plain": [
       "{'MyCase.multi_scenarios.scenario_list': ['scenario_1'],\n",
       " 'MyCase.multi_scenarios.name_list': ['name_1', 'name_2']}"
      ]
     },
     "execution_count": 15,
     "metadata": {},
     "output_type": "execute_result"
    }
   ],
   "source": [
    "dict_values[study_name +\n",
    "               '.multi_scenarios.scenario_list'] = ['scenario_1']\n",
    "dict_values"
   ]
  },
  {
   "cell_type": "code",
   "execution_count": 16,
   "id": "b7de4940",
   "metadata": {},
   "outputs": [
    {
     "name": "stderr",
     "output_type": "stream",
     "text": [
      "INFO:SoS.EE:configuring ...\n",
      "INFO:SoS.EE:configuring ...\n",
      "INFO:SoS.EE.Coupling:The MDA solver of the Coupling MyCase is set to MDAJacobi\n",
      "ERROR:SoS.EE.DataManager:Variable: MyCase.multi_scenarios.scenario_1.Disc3.z value is not set!\n",
      "ERROR:SoS.EE.DataManager:Variable: MyCase.multi_scenarios.scenario_1.Disc3.constant value is not set!\n",
      "ERROR:SoS.EE.DataManager:Variable: MyCase.multi_scenarios.scenario_1.Disc3.power value is not set!\n",
      "ERROR:SoS.EE.DataManager:Variable: MyCase.name_1.x value is not set!\n",
      "ERROR:SoS.EE.DataManager:Variable: MyCase.name_1.a value is not set!\n",
      "ERROR:SoS.EE.DataManager:Variable: MyCase.multi_scenarios.scenario_1.Disc1.name_1.b value is not set!\n",
      "ERROR:SoS.EE.DataManager:Variable: MyCase.name_2.x value is not set!\n",
      "ERROR:SoS.EE.DataManager:Variable: MyCase.name_2.a value is not set!\n",
      "ERROR:SoS.EE.DataManager:Variable: MyCase.multi_scenarios.scenario_1.Disc1.name_2.b value is not set!\n",
      "INFO:SoS.EE:Nodes representation for Treeview MyCase\n",
      "|_ MyCase\n",
      "\t|_ multi_scenarios\n",
      "\t\t|_ scenario_1\n",
      "\t\t\t|_ Disc1\n",
      "\t\t\t\t|_ name_1\n",
      "\t\t\t\t|_ name_2\n",
      "\t\t\t|_ Disc3\n",
      "\t|_ Post-processing\n",
      "\t\t|_ Disc1\n",
      "\t\t|_ Disc3\n",
      "\t|_ name_1\n",
      "\t|_ name_2\n"
     ]
    },
    {
     "data": {
      "text/plain": [
       "'Nodes representation for Treeview MyCase\\n|_ MyCase\\n\\t|_ multi_scenarios\\n\\t\\t|_ scenario_1\\n\\t\\t\\t|_ Disc1\\n\\t\\t\\t\\t|_ name_1\\n\\t\\t\\t\\t|_ name_2\\n\\t\\t\\t|_ Disc3\\n\\t|_ Post-processing\\n\\t\\t|_ Disc1\\n\\t\\t|_ Disc3\\n\\t|_ name_1\\n\\t|_ name_2'"
      ]
     },
     "execution_count": 16,
     "metadata": {},
     "output_type": "execute_result"
    }
   ],
   "source": [
    "exec_eng.load_study_from_input_dict(dict_values)\n",
    "exec_eng.display_treeview_nodes()\n"
   ]
  },
  {
   "cell_type": "code",
   "execution_count": 17,
   "id": "21c3ceac",
   "metadata": {},
   "outputs": [
    {
     "name": "stdout",
     "output_type": "stream",
     "text": [
      "[] []\n"
     ]
    }
   ],
   "source": [
    "print(\n",
    "     [key for key in exec_eng.dm.data_id_map.keys()\n",
    "      if 'scenario_2' in key and key.split('.')[-1] not in SoSDiscipline.NUM_DESC_IN and\n",
    "      key.split('.')[-1] not in SoSCoupling.DEFAULT_NUMERICAL_PARAM_OUT_OF_INIT and key.split('.')[-1] != SoSCoupling.RESIDUALS_HISTORY],\n",
    "     [])"
   ]
  },
  {
   "cell_type": "code",
   "execution_count": 18,
   "id": "b546b346",
   "metadata": {},
   "outputs": [
    {
     "name": "stdout",
     "output_type": "stream",
     "text": [
      "['scenario_1'] ['scenario_1']\n"
     ]
    }
   ],
   "source": [
    "for disc in exec_eng.dm.get_disciplines_with_name('MyCase.multi_scenarios'):\n",
    "     if isinstance(disc, SoSVerySimpleMultiScenario):\n",
    "          print(list(disc.get_scattered_disciplines().keys()), [\n",
    "                                    'scenario_1'])"
   ]
  },
  {
   "cell_type": "code",
   "execution_count": 19,
   "id": "ad41bb55",
   "metadata": {},
   "outputs": [
    {
     "data": {
      "text/plain": [
       "{'MyCase.multi_scenarios.scenario_list': ['scenario_1',\n",
       "  'scenario_2',\n",
       "  'scenario_3'],\n",
       " 'MyCase.multi_scenarios.name_list': ['name_1', 'name_2']}"
      ]
     },
     "execution_count": 19,
     "metadata": {},
     "output_type": "execute_result"
    }
   ],
   "source": [
    "dict_values[study_name +\n",
    "               '.multi_scenarios.scenario_list'] = ['scenario_1', 'scenario_2', 'scenario_3']\n",
    "dict_values"
   ]
  },
  {
   "cell_type": "code",
   "execution_count": 20,
   "id": "c8d94388",
   "metadata": {},
   "outputs": [
    {
     "name": "stderr",
     "output_type": "stream",
     "text": [
      "INFO:SoS.EE:configuring ...\n",
      "WARNING:gemseo.mda.mda_chain:No coupling in MDA, switching chain_linearize to True\n",
      "INFO:SoS.EE.Coupling:The MDA solver of the Coupling MyCase.multi_scenarios.scenario_2 is set to MDAJacobi\n",
      "WARNING:gemseo.mda.mda_chain:No coupling in MDA, switching chain_linearize to True\n",
      "INFO:SoS.EE.Coupling:The MDA solver of the Coupling MyCase.multi_scenarios.scenario_3 is set to MDAJacobi\n",
      "INFO:SoS.EE:configuring ...\n",
      "INFO:SoS.EE.Coupling:The MDA solver of the Coupling MyCase.multi_scenarios.scenario_1 is set to MDAJacobi\n",
      "WARNING:gemseo.mda.mda_chain:No coupling in MDA, switching chain_linearize to True\n",
      "INFO:SoS.EE.Coupling:The MDA solver of the Coupling MyCase.multi_scenarios.scenario_2 is set to MDAJacobi\n",
      "WARNING:gemseo.mda.mda_chain:No coupling in MDA, switching chain_linearize to True\n",
      "INFO:SoS.EE.Coupling:The MDA solver of the Coupling MyCase.multi_scenarios.scenario_3 is set to MDAJacobi\n",
      "INFO:SoS.EE:configuring ...\n",
      "INFO:SoS.EE.Coupling:The MDA solver of the Coupling MyCase.multi_scenarios.scenario_1 is set to MDAJacobi\n",
      "WARNING:gemseo.mda.mda_chain:No coupling in MDA, switching chain_linearize to True\n",
      "INFO:SoS.EE.Coupling:The MDA solver of the Coupling MyCase.multi_scenarios.scenario_2 is set to MDAJacobi\n",
      "WARNING:gemseo.mda.mda_chain:No coupling in MDA, switching chain_linearize to True\n",
      "INFO:SoS.EE.Coupling:The MDA solver of the Coupling MyCase.multi_scenarios.scenario_3 is set to MDAJacobi\n",
      "INFO:SoS.EE:configuring ...\n",
      "INFO:SoS.EE.Coupling:The MDA solver of the Coupling MyCase.multi_scenarios.scenario_1 is set to MDAJacobi\n",
      "INFO:SoS.EE.Coupling:The MDA solver of the Coupling MyCase.multi_scenarios.scenario_2 is set to MDAJacobi\n",
      "INFO:SoS.EE.Coupling:The MDA solver of the Coupling MyCase.multi_scenarios.scenario_3 is set to MDAJacobi\n",
      "INFO:SoS.EE:configuring ...\n",
      "INFO:SoS.EE.Coupling:The MDA solver of the Coupling MyCase.multi_scenarios.scenario_1 is set to MDAJacobi\n",
      "INFO:SoS.EE.Coupling:The MDA solver of the Coupling MyCase.multi_scenarios.scenario_2 is set to MDAJacobi\n",
      "INFO:SoS.EE.Coupling:The MDA solver of the Coupling MyCase.multi_scenarios.scenario_3 is set to MDAJacobi\n",
      "INFO:SoS.EE:configuring ...\n",
      "INFO:SoS.EE.Coupling:The MDA solver of the Coupling MyCase is set to MDAJacobi\n",
      "ERROR:SoS.EE.DataManager:Variable: MyCase.multi_scenarios.scenario_1.Disc3.z value is not set!\n",
      "ERROR:SoS.EE.DataManager:Variable: MyCase.multi_scenarios.scenario_1.Disc3.constant value is not set!\n",
      "ERROR:SoS.EE.DataManager:Variable: MyCase.multi_scenarios.scenario_1.Disc3.power value is not set!\n",
      "ERROR:SoS.EE.DataManager:Variable: MyCase.name_1.x value is not set!\n",
      "ERROR:SoS.EE.DataManager:Variable: MyCase.name_1.a value is not set!\n",
      "ERROR:SoS.EE.DataManager:Variable: MyCase.multi_scenarios.scenario_1.Disc1.name_1.b value is not set!\n",
      "ERROR:SoS.EE.DataManager:Variable: MyCase.name_2.x value is not set!\n",
      "ERROR:SoS.EE.DataManager:Variable: MyCase.name_2.a value is not set!\n",
      "ERROR:SoS.EE.DataManager:Variable: MyCase.multi_scenarios.scenario_1.Disc1.name_2.b value is not set!\n",
      "ERROR:SoS.EE.DataManager:Variable: MyCase.multi_scenarios.scenario_2.Disc3.z value is not set!\n",
      "ERROR:SoS.EE.DataManager:Variable: MyCase.multi_scenarios.scenario_2.Disc3.constant value is not set!\n",
      "ERROR:SoS.EE.DataManager:Variable: MyCase.multi_scenarios.scenario_2.Disc3.power value is not set!\n",
      "ERROR:SoS.EE.DataManager:Variable: MyCase.multi_scenarios.scenario_3.Disc3.z value is not set!\n",
      "ERROR:SoS.EE.DataManager:Variable: MyCase.multi_scenarios.scenario_3.Disc3.constant value is not set!\n",
      "ERROR:SoS.EE.DataManager:Variable: MyCase.multi_scenarios.scenario_3.Disc3.power value is not set!\n",
      "ERROR:SoS.EE.DataManager:Variable: MyCase.multi_scenarios.scenario_2.Disc1.name_1.b value is not set!\n",
      "ERROR:SoS.EE.DataManager:Variable: MyCase.multi_scenarios.scenario_2.Disc1.name_2.b value is not set!\n",
      "ERROR:SoS.EE.DataManager:Variable: MyCase.multi_scenarios.scenario_3.Disc1.name_1.b value is not set!\n",
      "ERROR:SoS.EE.DataManager:Variable: MyCase.multi_scenarios.scenario_3.Disc1.name_2.b value is not set!\n",
      "INFO:SoS.EE:Nodes representation for Treeview MyCase\n",
      "|_ MyCase\n",
      "\t|_ multi_scenarios\n",
      "\t\t|_ scenario_1\n",
      "\t\t\t|_ Disc1\n",
      "\t\t\t\t|_ name_1\n",
      "\t\t\t\t|_ name_2\n",
      "\t\t\t|_ Disc3\n",
      "\t\t|_ scenario_2\n",
      "\t\t\t|_ Disc1\n",
      "\t\t\t\t|_ name_1\n",
      "\t\t\t\t|_ name_2\n",
      "\t\t\t|_ Disc3\n",
      "\t\t|_ scenario_3\n",
      "\t\t\t|_ Disc1\n",
      "\t\t\t\t|_ name_1\n",
      "\t\t\t\t|_ name_2\n",
      "\t\t\t|_ Disc3\n",
      "\t|_ Post-processing\n",
      "\t\t|_ Disc1\n",
      "\t\t|_ Disc3\n",
      "\t|_ name_1\n",
      "\t|_ name_2\n"
     ]
    },
    {
     "data": {
      "text/plain": [
       "'Nodes representation for Treeview MyCase\\n|_ MyCase\\n\\t|_ multi_scenarios\\n\\t\\t|_ scenario_1\\n\\t\\t\\t|_ Disc1\\n\\t\\t\\t\\t|_ name_1\\n\\t\\t\\t\\t|_ name_2\\n\\t\\t\\t|_ Disc3\\n\\t\\t|_ scenario_2\\n\\t\\t\\t|_ Disc1\\n\\t\\t\\t\\t|_ name_1\\n\\t\\t\\t\\t|_ name_2\\n\\t\\t\\t|_ Disc3\\n\\t\\t|_ scenario_3\\n\\t\\t\\t|_ Disc1\\n\\t\\t\\t\\t|_ name_1\\n\\t\\t\\t\\t|_ name_2\\n\\t\\t\\t|_ Disc3\\n\\t|_ Post-processing\\n\\t\\t|_ Disc1\\n\\t\\t|_ Disc3\\n\\t|_ name_1\\n\\t|_ name_2'"
      ]
     },
     "execution_count": 20,
     "metadata": {},
     "output_type": "execute_result"
    }
   ],
   "source": [
    "exec_eng.load_study_from_input_dict(dict_values)\n",
    "exec_eng.display_treeview_nodes()"
   ]
  },
  {
   "cell_type": "code",
   "execution_count": 21,
   "id": "5e34bb45",
   "metadata": {},
   "outputs": [
    {
     "name": "stdout",
     "output_type": "stream",
     "text": [
      "['scenario_1', 'scenario_2', 'scenario_3'] ['scenario_1', 'scenario_2', 'scenario_3']\n"
     ]
    }
   ],
   "source": [
    "for disc in exec_eng.dm.get_disciplines_with_name('MyCase.multi_scenarios'):\n",
    "     if isinstance(disc, SoSVerySimpleMultiScenario):\n",
    "          print(list(disc.get_scattered_disciplines().keys()), [\n",
    "                                    'scenario_1', 'scenario_2', 'scenario_3'])"
   ]
  },
  {
   "cell_type": "code",
   "execution_count": 22,
   "id": "9f5aff3b",
   "metadata": {},
   "outputs": [
    {
     "data": {
      "text/plain": [
       "{'MyCase.multi_scenarios.scenario_list': [],\n",
       " 'MyCase.multi_scenarios.name_list': ['name_1', 'name_2']}"
      ]
     },
     "execution_count": 22,
     "metadata": {},
     "output_type": "execute_result"
    }
   ],
   "source": [
    "dict_values[study_name +\n",
    "               '.multi_scenarios.scenario_list'] = []\n",
    "dict_values"
   ]
  },
  {
   "cell_type": "code",
   "execution_count": 23,
   "id": "78bdf9f1",
   "metadata": {},
   "outputs": [
    {
     "name": "stderr",
     "output_type": "stream",
     "text": [
      "INFO:SoS.EE:configuring ...\n",
      "INFO:SoS.EE:configuring ...\n",
      "WARNING:gemseo.mda.mda_chain:No coupling in MDA, switching chain_linearize to True\n",
      "INFO:SoS.EE.Coupling:The MDA solver of the Coupling MyCase is set to MDAJacobi\n",
      "INFO:SoS.EE:Nodes representation for Treeview MyCase\n",
      "|_ MyCase\n",
      "\t|_ multi_scenarios\n",
      "\t|_ Post-processing\n",
      "\t\t|_ Disc1\n",
      "\t\t|_ Disc3\n"
     ]
    },
    {
     "data": {
      "text/plain": [
       "'Nodes representation for Treeview MyCase\\n|_ MyCase\\n\\t|_ multi_scenarios\\n\\t|_ Post-processing\\n\\t\\t|_ Disc1\\n\\t\\t|_ Disc3'"
      ]
     },
     "execution_count": 23,
     "metadata": {},
     "output_type": "execute_result"
    }
   ],
   "source": [
    "exec_eng.load_study_from_input_dict(dict_values)\n",
    "exec_eng.display_treeview_nodes()"
   ]
  },
  {
   "cell_type": "code",
   "execution_count": 24,
   "id": "b982cdc3",
   "metadata": {},
   "outputs": [
    {
     "name": "stdout",
     "output_type": "stream",
     "text": [
      "[] []\n"
     ]
    }
   ],
   "source": [
    "for disc in exec_eng.dm.get_disciplines_with_name('MyCase.multi_scenarios'):\n",
    "     if isinstance(disc, SoSVerySimpleMultiScenario):\n",
    "          print(\n",
    "               list(disc.get_scattered_disciplines().keys()), [])"
   ]
  },
  {
   "cell_type": "code",
   "execution_count": 25,
   "id": "783e6bec",
   "metadata": {},
   "outputs": [
    {
     "data": {
      "text/plain": [
       "{'MyCase.multi_scenarios.scenario_list': ['scenario_A', 'scenario_B'],\n",
       " 'MyCase.multi_scenarios.name_list': ['name_1', 'name_2']}"
      ]
     },
     "execution_count": 25,
     "metadata": {},
     "output_type": "execute_result"
    }
   ],
   "source": [
    "dict_values[study_name +\n",
    "               '.multi_scenarios.scenario_list'] = ['scenario_A', 'scenario_B']\n",
    "dict_values"
   ]
  },
  {
   "cell_type": "code",
   "execution_count": 26,
   "id": "6fe19a42",
   "metadata": {},
   "outputs": [
    {
     "name": "stdout",
     "output_type": "stream",
     "text": [
      "[] []\n",
      "[] []\n",
      "[] []\n"
     ]
    }
   ],
   "source": [
    "print(\n",
    "     [key for key in exec_eng.dm.data_id_map.keys() if 'scenario_1' in key and key.split('.')[-1] not in SoSDiscipline.NUM_DESC_IN and\n",
    "      key.split('.')[-1] not in SoSCoupling.DEFAULT_NUMERICAL_PARAM_OUT_OF_INIT and key.split('.')[-1] != SoSCoupling.RESIDUALS_HISTORY], [])\n",
    "print(\n",
    "     [key for key in exec_eng.dm.data_id_map.keys() if 'scenario_2' in key and key.split('.')[-1] not in SoSDiscipline.NUM_DESC_IN and\n",
    "      key.split('.')[-1] not in SoSCoupling.DEFAULT_NUMERICAL_PARAM_OUT_OF_INIT and key.split('.')[-1] != SoSCoupling.RESIDUALS_HISTORY], [])\n",
    "print(\n",
    "     [key for key in exec_eng.dm.data_id_map.keys() if 'scenario_3' in key and key.split('.')[-1] not in SoSDiscipline.NUM_DESC_IN and\n",
    "      key.split('.')[-1] not in SoSCoupling.DEFAULT_NUMERICAL_PARAM_OUT_OF_INIT and key.split('.')[-1] != SoSCoupling.RESIDUALS_HISTORY], [])"
   ]
  },
  {
   "cell_type": "code",
   "execution_count": 27,
   "id": "8a177ac6",
   "metadata": {},
   "outputs": [
    {
     "name": "stderr",
     "output_type": "stream",
     "text": [
      "INFO:SoS.EE:configuring ...\n",
      "WARNING:gemseo.mda.mda_chain:No coupling in MDA, switching chain_linearize to True\n",
      "INFO:SoS.EE.Coupling:The MDA solver of the Coupling MyCase.multi_scenarios.scenario_A is set to MDAJacobi\n",
      "WARNING:gemseo.mda.mda_chain:No coupling in MDA, switching chain_linearize to True\n",
      "INFO:SoS.EE.Coupling:The MDA solver of the Coupling MyCase.multi_scenarios.scenario_B is set to MDAJacobi\n",
      "INFO:SoS.EE:configuring ...\n",
      "WARNING:gemseo.mda.mda_chain:No coupling in MDA, switching chain_linearize to True\n",
      "INFO:SoS.EE.Coupling:The MDA solver of the Coupling MyCase.multi_scenarios.scenario_A is set to MDAJacobi\n",
      "WARNING:gemseo.mda.mda_chain:No coupling in MDA, switching chain_linearize to True\n",
      "INFO:SoS.EE.Coupling:The MDA solver of the Coupling MyCase.multi_scenarios.scenario_B is set to MDAJacobi\n",
      "INFO:SoS.EE:configuring ...\n",
      "WARNING:gemseo.mda.mda_chain:No coupling in MDA, switching chain_linearize to True\n",
      "INFO:SoS.EE.Coupling:The MDA solver of the Coupling MyCase.multi_scenarios.scenario_A is set to MDAJacobi\n",
      "WARNING:gemseo.mda.mda_chain:No coupling in MDA, switching chain_linearize to True\n",
      "INFO:SoS.EE.Coupling:The MDA solver of the Coupling MyCase.multi_scenarios.scenario_B is set to MDAJacobi\n",
      "INFO:SoS.EE:configuring ...\n",
      "INFO:SoS.EE.Coupling:The MDA solver of the Coupling MyCase.multi_scenarios.scenario_A is set to MDAJacobi\n",
      "INFO:SoS.EE.Coupling:The MDA solver of the Coupling MyCase.multi_scenarios.scenario_B is set to MDAJacobi\n",
      "INFO:SoS.EE:configuring ...\n",
      "INFO:SoS.EE.Coupling:The MDA solver of the Coupling MyCase.multi_scenarios.scenario_A is set to MDAJacobi\n",
      "INFO:SoS.EE.Coupling:The MDA solver of the Coupling MyCase.multi_scenarios.scenario_B is set to MDAJacobi\n",
      "INFO:SoS.EE:configuring ...\n",
      "INFO:SoS.EE.Coupling:The MDA solver of the Coupling MyCase is set to MDAJacobi\n",
      "ERROR:SoS.EE.DataManager:Variable: MyCase.multi_scenarios.scenario_A.Disc3.z value is not set!\n",
      "ERROR:SoS.EE.DataManager:Variable: MyCase.multi_scenarios.scenario_A.Disc3.constant value is not set!\n",
      "ERROR:SoS.EE.DataManager:Variable: MyCase.multi_scenarios.scenario_A.Disc3.power value is not set!\n",
      "ERROR:SoS.EE.DataManager:Variable: MyCase.multi_scenarios.scenario_B.Disc3.z value is not set!\n",
      "ERROR:SoS.EE.DataManager:Variable: MyCase.multi_scenarios.scenario_B.Disc3.constant value is not set!\n",
      "ERROR:SoS.EE.DataManager:Variable: MyCase.multi_scenarios.scenario_B.Disc3.power value is not set!\n",
      "ERROR:SoS.EE.DataManager:Variable: MyCase.name_1.x value is not set!\n",
      "ERROR:SoS.EE.DataManager:Variable: MyCase.name_1.a value is not set!\n",
      "ERROR:SoS.EE.DataManager:Variable: MyCase.multi_scenarios.scenario_A.Disc1.name_1.b value is not set!\n",
      "ERROR:SoS.EE.DataManager:Variable: MyCase.name_2.x value is not set!\n",
      "ERROR:SoS.EE.DataManager:Variable: MyCase.name_2.a value is not set!\n",
      "ERROR:SoS.EE.DataManager:Variable: MyCase.multi_scenarios.scenario_A.Disc1.name_2.b value is not set!\n",
      "ERROR:SoS.EE.DataManager:Variable: MyCase.multi_scenarios.scenario_B.Disc1.name_1.b value is not set!\n",
      "ERROR:SoS.EE.DataManager:Variable: MyCase.multi_scenarios.scenario_B.Disc1.name_2.b value is not set!\n",
      "INFO:SoS.EE:Nodes representation for Treeview MyCase\n",
      "|_ MyCase\n",
      "\t|_ multi_scenarios\n",
      "\t\t|_ scenario_A\n",
      "\t\t\t|_ Disc1\n",
      "\t\t\t\t|_ name_1\n",
      "\t\t\t\t|_ name_2\n",
      "\t\t\t|_ Disc3\n",
      "\t\t|_ scenario_B\n",
      "\t\t\t|_ Disc1\n",
      "\t\t\t\t|_ name_1\n",
      "\t\t\t\t|_ name_2\n",
      "\t\t\t|_ Disc3\n",
      "\t|_ Post-processing\n",
      "\t\t|_ Disc1\n",
      "\t\t|_ Disc3\n",
      "\t|_ name_1\n",
      "\t|_ name_2\n"
     ]
    },
    {
     "data": {
      "text/plain": [
       "'Nodes representation for Treeview MyCase\\n|_ MyCase\\n\\t|_ multi_scenarios\\n\\t\\t|_ scenario_A\\n\\t\\t\\t|_ Disc1\\n\\t\\t\\t\\t|_ name_1\\n\\t\\t\\t\\t|_ name_2\\n\\t\\t\\t|_ Disc3\\n\\t\\t|_ scenario_B\\n\\t\\t\\t|_ Disc1\\n\\t\\t\\t\\t|_ name_1\\n\\t\\t\\t\\t|_ name_2\\n\\t\\t\\t|_ Disc3\\n\\t|_ Post-processing\\n\\t\\t|_ Disc1\\n\\t\\t|_ Disc3\\n\\t|_ name_1\\n\\t|_ name_2'"
      ]
     },
     "execution_count": 27,
     "metadata": {},
     "output_type": "execute_result"
    }
   ],
   "source": [
    "exec_eng.load_study_from_input_dict(dict_values)\n",
    "exec_eng.display_treeview_nodes()"
   ]
  },
  {
   "cell_type": "code",
   "execution_count": 28,
   "id": "f9ec702a",
   "metadata": {},
   "outputs": [
    {
     "name": "stdout",
     "output_type": "stream",
     "text": [
      "['scenario_A', 'scenario_B'] ['scenario_A', 'scenario_B']\n"
     ]
    }
   ],
   "source": [
    "for disc in exec_eng.dm.get_disciplines_with_name('MyCase.multi_scenarios'):\n",
    "     if isinstance(disc, SoSVerySimpleMultiScenario):\n",
    "          print(list(disc.get_scattered_disciplines().keys()), [\n",
    "                                    'scenario_A', 'scenario_B'])"
   ]
  },
  {
   "cell_type": "code",
   "execution_count": 29,
   "id": "e68ce892",
   "metadata": {},
   "outputs": [
    {
     "data": {
      "text/plain": [
       "{'MyCase.multi_scenarios.scenario_list': ['scenario_A', 'scenario_B'],\n",
       " 'MyCase.multi_scenarios.name_list': ['name_1', 'name_2'],\n",
       " 'MyCase.name_1.a': 3,\n",
       " 'MyCase.name_2.a': 6,\n",
       " 'MyCase.multi_scenarios.scenario_A.Disc1.name_1.b': 4,\n",
       " 'MyCase.multi_scenarios.scenario_A.Disc1.name_2.b': 2,\n",
       " 'MyCase.multi_scenarios.scenario_A.Disc3.constant': 3,\n",
       " 'MyCase.multi_scenarios.scenario_A.Disc3.power': 2,\n",
       " 'MyCase.multi_scenarios.scenario_B.Disc1.name_1.b': 4,\n",
       " 'MyCase.multi_scenarios.scenario_B.Disc1.name_2.b': 2,\n",
       " 'MyCase.multi_scenarios.scenario_B.Disc3.constant': 3,\n",
       " 'MyCase.multi_scenarios.scenario_B.Disc3.power': 2,\n",
       " 'MyCase.multi_scenarios.scenario_A.Disc3.z': 1.2,\n",
       " 'MyCase.multi_scenarios.scenario_B.Disc3.z': 1.5,\n",
       " 'MyCase.name_1.x': 2,\n",
       " 'MyCase.name_2.x': 4}"
      ]
     },
     "execution_count": 29,
     "metadata": {},
     "output_type": "execute_result"
    }
   ],
   "source": [
    "scenario_list = ['scenario_A', 'scenario_B']\n",
    "for scenario in scenario_list:\n",
    "     a1 = 3\n",
    "     b1 = 4\n",
    "     a2 = 6\n",
    "     b2 = 2\n",
    "     x1 = 2\n",
    "     x2 = 4\n",
    "\n",
    "     dict_values[study_name + '.name_1.a'] = a1\n",
    "     dict_values[study_name + '.name_2.a'] = a2\n",
    "     dict_values[study_name + '.multi_scenarios.' +\n",
    "                    scenario + '.Disc1.name_1.b'] = b1\n",
    "     dict_values[study_name + '.multi_scenarios.' +\n",
    "                    scenario + '.Disc1.name_2.b'] = b2\n",
    "     dict_values[study_name + '.multi_scenarios.' +\n",
    "                    scenario + '.Disc3.constant'] = 3\n",
    "     dict_values[study_name + '.multi_scenarios.' +\n",
    "                    scenario + '.Disc3.power'] = 2\n",
    "dict_values[study_name +\n",
    "               '.multi_scenarios.scenario_A.Disc3.z'] = 1.2\n",
    "dict_values[study_name +\n",
    "               '.multi_scenarios.scenario_B.Disc3.z'] = 1.5\n",
    "dict_values[study_name + '.name_1.x'] = x1\n",
    "dict_values[study_name + '.name_2.x'] = x2\n",
    "dict_values"
   ]
  },
  {
   "cell_type": "code",
   "execution_count": 30,
   "id": "d486e598",
   "metadata": {},
   "outputs": [
    {
     "name": "stderr",
     "output_type": "stream",
     "text": [
      "INFO:SoS.EE:configuring ...\n",
      "INFO:SoS.EE.Coupling:The MDA solver of the Coupling MyCase is set to MDAJacobi\n"
     ]
    }
   ],
   "source": [
    "exec_eng.load_study_from_input_dict(dict_values)"
   ]
  },
  {
   "cell_type": "code",
   "execution_count": 31,
   "id": "762f7e07",
   "metadata": {},
   "outputs": [
    {
     "name": "stderr",
     "output_type": "stream",
     "text": [
      "INFO:SoS.EE:PROCESS EXECUTION MyCase STARTS...\n",
      "INFO:SoS.EE:PROCESS EXECUTION MyCase ENDS.\n"
     ]
    },
    {
     "data": {
      "text/plain": [
       "{'MyCase.name_1.x': array([2]),\n",
       " 'MyCase.name_1.a': array([3]),\n",
       " 'MyCase.multi_scenarios.scenario_A.Disc1.name_1.b': array([4]),\n",
       " 'MyCase.name_2.x': array([4]),\n",
       " 'MyCase.name_2.a': array([6]),\n",
       " 'MyCase.multi_scenarios.scenario_A.Disc1.name_2.b': array([2]),\n",
       " 'MyCase.multi_scenarios.name_list': [1, 1],\n",
       " 'MyCase.multi_scenarios.scenario_A.Disc3.z': array([1.2]),\n",
       " 'MyCase.multi_scenarios.scenario_A.Disc3.constant': array([3]),\n",
       " 'MyCase.multi_scenarios.scenario_A.Disc3.power': array([2]),\n",
       " 'MyCase.multi_scenarios.scenario_B.Disc1.name_1.b': array([4]),\n",
       " 'MyCase.multi_scenarios.scenario_B.Disc1.name_2.b': array([2]),\n",
       " 'MyCase.multi_scenarios.scenario_B.Disc3.z': array([1.5]),\n",
       " 'MyCase.multi_scenarios.scenario_B.Disc3.constant': array([3]),\n",
       " 'MyCase.multi_scenarios.scenario_B.Disc3.power': array([2]),\n",
       " 'MyCase.multi_scenarios.scenario_list': [1, 1],\n",
       " 'MyCase.multi_scenarios.scenario_A.Disc1.name_1.indicator': array([12]),\n",
       " 'MyCase.multi_scenarios.scenario_A.name_1.y': array([10]),\n",
       " 'MyCase.multi_scenarios.scenario_A.Disc1.name_2.indicator': array([12]),\n",
       " 'MyCase.multi_scenarios.scenario_A.name_2.y': array([26]),\n",
       " 'MyCase.multi_scenarios.scenario_A.y_dict': array([10., 26.]),\n",
       " 'MyCase.multi_scenarios.scenario_A.o': array([4.44]),\n",
       " 'MyCase.multi_scenarios.scenario_B.Disc1.name_1.indicator': array([12]),\n",
       " 'MyCase.multi_scenarios.scenario_B.name_1.y': array([10]),\n",
       " 'MyCase.multi_scenarios.scenario_B.Disc1.name_2.indicator': array([12]),\n",
       " 'MyCase.multi_scenarios.scenario_B.name_2.y': array([26]),\n",
       " 'MyCase.multi_scenarios.scenario_B.y_dict': array([10., 26.]),\n",
       " 'MyCase.multi_scenarios.scenario_B.o': array([5.25]),\n",
       " 'MyCase.multi_scenarios.y_dict': array([10., 26., 10., 26.]),\n",
       " 'MyCase.multi_scenarios.o_dict': array([4.44, 5.25])}"
      ]
     },
     "execution_count": 31,
     "metadata": {},
     "output_type": "execute_result"
    }
   ],
   "source": [
    "exec_eng.execute()"
   ]
  },
  {
   "cell_type": "code",
   "execution_count": 32,
   "id": "de37adec",
   "metadata": {},
   "outputs": [
    {
     "name": "stdout",
     "output_type": "stream",
     "text": [
      "['scenario_list'] ['scenario_list']\n",
      "['scenario_A', 'scenario_B'] ['scenario_A', 'scenario_B']\n",
      "['residuals_history'] ['residuals_history']\n"
     ]
    }
   ],
   "source": [
    "for disc in exec_eng.dm.get_disciplines_with_name('MyCase.multi_scenarios'):\n",
    "     if isinstance(disc, SoSVerySimpleMultiScenario):\n",
    "          print(\n",
    "               [key for key in list(disc.get_data_io_dict('in').keys()) if key not in disc.NUM_DESC_IN], ['scenario_list'])\n",
    "          print(exec_eng.dm.get_value(\n",
    "               f'{study_name}.multi_scenarios.scenario_list'), ['scenario_A', 'scenario_B'])\n",
    "          print(\n",
    "               list(exec_eng.dm.get_disciplines_with_name(\n",
    "                    f'{study_name}')[0].get_sosdisc_outputs().keys()),\n",
    "               ['residuals_history'])\n",
    "\n",
    "     elif isinstance(disc, SoSScatterData):\n",
    "          print(\n",
    "               list(disc.get_data_io_dict('in').keys()), ['x_dict', 'scenario_list'])\n",
    "          print(\n",
    "               list(disc.get_data_io_dict('out').keys()), ['scenario_A.x', 'scenario_B.x'])\n",
    "          print(exec_eng.dm.get_value(\n",
    "               f'{study_name}.multi_scenarios.x_dict'), {'scenario_A': 2, 'scenario_B': 4})\n",
    "          print(exec_eng.dm.get_value(\n",
    "               f'{study_name}.multi_scenarios.scenario_A.x'), 2)\n",
    "          print(exec_eng.dm.get_value(\n",
    "               f'{study_name}.multi_scenarios.scenario_B.x'), 4)"
   ]
  },
  {
   "cell_type": "code",
   "execution_count": null,
   "id": "9ccd755e",
   "metadata": {},
   "outputs": [],
   "source": []
  },
  {
   "cell_type": "code",
   "execution_count": null,
   "id": "6e51d676",
   "metadata": {},
   "outputs": [],
   "source": []
  },
  {
   "cell_type": "code",
   "execution_count": null,
   "id": "c7b8554c",
   "metadata": {},
   "outputs": [],
   "source": []
  },
  {
   "cell_type": "code",
   "execution_count": null,
   "id": "79d72ac0",
   "metadata": {},
   "outputs": [],
   "source": []
  }
 ],
 "metadata": {
  "kernelspec": {
   "display_name": "Python 3 (ipykernel)",
   "language": "python",
   "name": "python3"
  },
  "language_info": {
   "codemirror_mode": {
    "name": "ipython",
    "version": 3
   },
   "file_extension": ".py",
   "mimetype": "text/x-python",
   "name": "python",
   "nbconvert_exporter": "python",
   "pygments_lexer": "ipython3",
   "version": "3.9.7"
  }
 },
 "nbformat": 4,
 "nbformat_minor": 5
}
