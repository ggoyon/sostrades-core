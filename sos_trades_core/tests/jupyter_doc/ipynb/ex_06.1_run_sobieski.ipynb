{
 "cells": [
  {
   "cell_type": "code",
   "execution_count": 1,
   "id": "d9894c3a",
   "metadata": {},
   "outputs": [],
   "source": [
    "if 0 :\n",
    "    %matplotlib inline\n",
    "else :\n",
    "    %matplotlib notebook"
   ]
  },
  {
   "cell_type": "markdown",
   "id": "6461e492",
   "metadata": {},
   "source": [
    "#  Import  libraries"
   ]
  },
  {
   "cell_type": "code",
   "execution_count": 2,
   "id": "c024256e",
   "metadata": {},
   "outputs": [
    {
     "name": "stdout",
     "output_type": "stream",
     "text": [
      "C:\\Users\\ng947ac\\Documents\\Daniel\\jupyter\\SoSTrades\\jupyter_doc\\_scripts\n",
      "C:\\Users\\ng947ac\\Documents\\Daniel\\git\\workspace\n",
      "C:\\Users\\ng947ac\\Documents\\Daniel\\git\\workspace\\sosgemseo\\src\\\n",
      "C:\\Users\\ng947ac\\Documents\\Daniel\\git\\workspace\\sostrades-core\n"
     ]
    }
   ],
   "source": [
    "import sys\n",
    "import os\n",
    "module_path = os.path.abspath('.') +\"\\\\_scripts\"\n",
    "print(module_path)\n",
    "\n",
    "if module_path not in sys.path:\n",
    "    sys.path.append(module_path)\n",
    "from _00_Import_packages_git3 import *"
   ]
  },
  {
   "cell_type": "code",
   "execution_count": 3,
   "id": "b0caf97b",
   "metadata": {},
   "outputs": [],
   "source": [
    "#from sos_trades_core import *"
   ]
  },
  {
   "cell_type": "code",
   "execution_count": 4,
   "id": "55ebc8e0",
   "metadata": {},
   "outputs": [
    {
     "name": "stdout",
     "output_type": "stream",
     "text": [
      "3.9.7\n"
     ]
    }
   ],
   "source": [
    "from platform import python_version\n",
    "\n",
    "print(python_version())"
   ]
  },
  {
   "cell_type": "code",
   "execution_count": 5,
   "id": "64a494bb",
   "metadata": {},
   "outputs": [
    {
     "name": "stdout",
     "output_type": "stream",
     "text": [
      "1.20.3\n"
     ]
    }
   ],
   "source": [
    "import numpy\n",
    "print(numpy.__version__)"
   ]
  },
  {
   "cell_type": "code",
   "execution_count": 6,
   "id": "c373e89e",
   "metadata": {},
   "outputs": [
    {
     "name": "stdout",
     "output_type": "stream",
     "text": [
      "1.7.1\n"
     ]
    }
   ],
   "source": [
    "import scipy\n",
    "print(scipy.__version__)"
   ]
  },
  {
   "cell_type": "code",
   "execution_count": 7,
   "id": "a8c32ea6",
   "metadata": {},
   "outputs": [
    {
     "name": "stdout",
     "output_type": "stream",
     "text": [
      "1.3.0\n"
     ]
    }
   ],
   "source": [
    "import pandas\n",
    "print(pandas.__version__)"
   ]
  },
  {
   "cell_type": "code",
   "execution_count": 8,
   "id": "e5501680",
   "metadata": {},
   "outputs": [],
   "source": [
    "from numpy import array\n",
    "import pandas as pd\n",
    "from sos_trades_core.execution_engine.execution_engine import ExecutionEngine\n",
    "from numpy.testing import assert_array_equal, assert_array_almost_equal  # @UnresolvedImport\n",
    "import os\n",
    "from gemseo.core.mdo_scenario import MDOScenario"
   ]
  },
  {
   "cell_type": "markdown",
   "id": "15eec199",
   "metadata": {},
   "source": [
    " # 0) Set the  discipline : here SobieskiMission"
   ]
  },
  {
   "cell_type": "code",
   "execution_count": 9,
   "id": "d63f0e70",
   "metadata": {},
   "outputs": [],
   "source": [
    "#from sos_trades_core.sos_wrapping.test_discs.sellar import Sellar1\n",
    "from sos_trades_core.execution_engine.execution_engine import ExecutionEngine"
   ]
  },
  {
   "cell_type": "code",
   "execution_count": 10,
   "id": "0918458e",
   "metadata": {},
   "outputs": [],
   "source": [
    "ns_test = 'MyStudy'\n",
    "ee = ExecutionEngine(ns_test)\n",
    "ns_dict = {'ns_OptimSobieski': ns_test} # conform to shared variable x\n",
    "ee.ns_manager.add_ns_def(ns_dict)"
   ]
  },
  {
   "cell_type": "code",
   "execution_count": 11,
   "id": "839fab11",
   "metadata": {},
   "outputs": [],
   "source": [
    "# Choice of the discipline (File that provides the wrapper and associated wrapper)\n",
    "mod_path0 = 'sos_trades_core.sos_wrapping.test_discs.sos_Sobieski.SobieskiMission'"
   ]
  },
  {
   "cell_type": "code",
   "execution_count": 12,
   "id": "9bb9bf0a",
   "metadata": {},
   "outputs": [
    {
     "name": "stderr",
     "output_type": "stream",
     "text": [
      "INFO:SoS.EE:configuring ...\n",
      "WARNING:gemseo.mda.mda_chain:No coupling in MDA, switching chain_linearize to True\n",
      "INFO:SoS.EE.Coupling:The MDA solver of the Coupling MyStudy is set to MDAJacobi\n"
     ]
    }
   ],
   "source": [
    "disc_name = 'SobieskiMission'\n",
    "disc0_builder = ee.factory.get_builder_from_module(disc_name, mod_path0)\n",
    "ee.factory.set_builders_to_coupling_builder(disc0_builder)\n",
    "\n",
    "ee.configure() "
   ]
  },
  {
   "cell_type": "markdown",
   "id": "8cf61f08",
   "metadata": {},
   "source": [
    "# Display study structure"
   ]
  },
  {
   "cell_type": "code",
   "execution_count": 13,
   "id": "d1ceecef",
   "metadata": {},
   "outputs": [
    {
     "name": "stderr",
     "output_type": "stream",
     "text": [
      "INFO:SoS.EE:Nodes representation for Treeview MyStudy\n",
      "|_ MyStudy\n",
      "\t|_ SobieskiMission\n"
     ]
    },
    {
     "data": {
      "text/plain": [
       "'Nodes representation for Treeview MyStudy\\n|_ MyStudy\\n\\t|_ SobieskiMission'"
      ]
     },
     "execution_count": 13,
     "metadata": {},
     "output_type": "execute_result"
    }
   ],
   "source": [
    "ee.display_treeview_nodes()"
   ]
  },
  {
   "cell_type": "code",
   "execution_count": 14,
   "id": "236f7cf2",
   "metadata": {},
   "outputs": [
    {
     "name": "stderr",
     "output_type": "stream",
     "text": [
      "INFO:SoS.EE:Nodes representation for Treeview MyStudy\n",
      "|_ MyStudy\n",
      "\t-> acceleration\n",
      "\t-> authorize_self_coupled_disciplines\n",
      "\t-> cache_file_path\n",
      "\t-> cache_type\n",
      "\t-> chain_linearize\n",
      "\t-> debug_mode\n",
      "\t-> epsilon0\n",
      "\t-> group_mda_disciplines\n",
      "\t-> linear_solver_MDA\n",
      "\t-> linear_solver_MDA_options\n",
      "\t-> linear_solver_MDA_preconditioner\n",
      "\t-> linear_solver_MDO\n",
      "\t-> linear_solver_MDO_options\n",
      "\t-> linear_solver_MDO_preconditioner\n",
      "\t-> linearization_mode\n",
      "\t-> max_mda_iter\n",
      "\t-> n_processes\n",
      "\t-> n_subcouplings_parallel\n",
      "\t-> relax_factor\n",
      "\t-> sub_mda_class\n",
      "\t-> tolerance\n",
      "\t-> tolerance_gs\n",
      "\t-> use_lu_fact\n",
      "\t-> warm_start\n",
      "\t-> warm_start_threshold\n",
      "\t-> y_14\n",
      "\t-> y_24\n",
      "\t-> y_34\n",
      "\t-> z\n",
      "\t<- residuals_history\n",
      "\t<- y_4\n",
      "\t|_ SobieskiMission\n",
      "\t\t-> cache_file_path\n",
      "\t\t-> cache_type\n",
      "\t\t-> debug_mode\n",
      "\t\t-> linearization_mode\n"
     ]
    },
    {
     "data": {
      "text/plain": [
       "'Nodes representation for Treeview MyStudy\\n|_ MyStudy\\n\\t-> acceleration\\n\\t-> authorize_self_coupled_disciplines\\n\\t-> cache_file_path\\n\\t-> cache_type\\n\\t-> chain_linearize\\n\\t-> debug_mode\\n\\t-> epsilon0\\n\\t-> group_mda_disciplines\\n\\t-> linear_solver_MDA\\n\\t-> linear_solver_MDA_options\\n\\t-> linear_solver_MDA_preconditioner\\n\\t-> linear_solver_MDO\\n\\t-> linear_solver_MDO_options\\n\\t-> linear_solver_MDO_preconditioner\\n\\t-> linearization_mode\\n\\t-> max_mda_iter\\n\\t-> n_processes\\n\\t-> n_subcouplings_parallel\\n\\t-> relax_factor\\n\\t-> sub_mda_class\\n\\t-> tolerance\\n\\t-> tolerance_gs\\n\\t-> use_lu_fact\\n\\t-> warm_start\\n\\t-> warm_start_threshold\\n\\t-> y_14\\n\\t-> y_24\\n\\t-> y_34\\n\\t-> z\\n\\t<- residuals_history\\n\\t<- y_4\\n\\t|_ SobieskiMission\\n\\t\\t-> cache_file_path\\n\\t\\t-> cache_type\\n\\t\\t-> debug_mode\\n\\t\\t-> linearization_mode'"
      ]
     },
     "execution_count": 14,
     "metadata": {},
     "output_type": "execute_result"
    }
   ],
   "source": [
    "ee.display_treeview_nodes(True)"
   ]
  },
  {
   "cell_type": "markdown",
   "id": "6c126434",
   "metadata": {},
   "source": [
    "# Display discipline structure"
   ]
  },
  {
   "cell_type": "code",
   "execution_count": 15,
   "id": "06d74076",
   "metadata": {},
   "outputs": [],
   "source": [
    "my_disc0 = ee.root_process.sos_disciplines[0]"
   ]
  },
  {
   "cell_type": "code",
   "execution_count": 16,
   "id": "d0266953",
   "metadata": {},
   "outputs": [],
   "source": [
    "DESC_IN = my_disc0.DESC_IN\n",
    "DESC_OUT = my_disc0.DESC_OUT\n",
    "DESC_IN_df = pd.DataFrame.from_dict(DESC_IN,orient='index')\n",
    "DESC_OUT_df = pd.DataFrame.from_dict(DESC_OUT,orient='index')"
   ]
  },
  {
   "cell_type": "code",
   "execution_count": 17,
   "id": "63dc31ba",
   "metadata": {},
   "outputs": [
    {
     "data": {
      "text/html": [
       "<div>\n",
       "<style scoped>\n",
       "    .dataframe tbody tr th:only-of-type {\n",
       "        vertical-align: middle;\n",
       "    }\n",
       "\n",
       "    .dataframe tbody tr th {\n",
       "        vertical-align: top;\n",
       "    }\n",
       "\n",
       "    .dataframe thead th {\n",
       "        text-align: right;\n",
       "    }\n",
       "</style>\n",
       "<table border=\"1\" class=\"dataframe\">\n",
       "  <thead>\n",
       "    <tr style=\"text-align: right;\">\n",
       "      <th></th>\n",
       "      <th>type</th>\n",
       "      <th>default</th>\n",
       "      <th>visibility</th>\n",
       "      <th>namespace</th>\n",
       "    </tr>\n",
       "  </thead>\n",
       "  <tbody>\n",
       "    <tr>\n",
       "      <th>y_14</th>\n",
       "      <td>array</td>\n",
       "      <td>[50606.97417114, 7306.20262124]</td>\n",
       "      <td>Shared</td>\n",
       "      <td>ns_OptimSobieski</td>\n",
       "    </tr>\n",
       "    <tr>\n",
       "      <th>y_24</th>\n",
       "      <td>array</td>\n",
       "      <td>[4.15006276]</td>\n",
       "      <td>Shared</td>\n",
       "      <td>ns_OptimSobieski</td>\n",
       "    </tr>\n",
       "    <tr>\n",
       "      <th>y_34</th>\n",
       "      <td>array</td>\n",
       "      <td>[1.10754577]</td>\n",
       "      <td>Shared</td>\n",
       "      <td>ns_OptimSobieski</td>\n",
       "    </tr>\n",
       "    <tr>\n",
       "      <th>z</th>\n",
       "      <td>array</td>\n",
       "      <td>[0.05, 45000.0, 1.6, 5.5, 55.0, 1000.0]</td>\n",
       "      <td>Shared</td>\n",
       "      <td>ns_OptimSobieski</td>\n",
       "    </tr>\n",
       "  </tbody>\n",
       "</table>\n",
       "</div>"
      ],
      "text/plain": [
       "       type                                  default visibility  \\\n",
       "y_14  array          [50606.97417114, 7306.20262124]     Shared   \n",
       "y_24  array                             [4.15006276]     Shared   \n",
       "y_34  array                             [1.10754577]     Shared   \n",
       "z     array  [0.05, 45000.0, 1.6, 5.5, 55.0, 1000.0]     Shared   \n",
       "\n",
       "             namespace  \n",
       "y_14  ns_OptimSobieski  \n",
       "y_24  ns_OptimSobieski  \n",
       "y_34  ns_OptimSobieski  \n",
       "z     ns_OptimSobieski  "
      ]
     },
     "execution_count": 17,
     "metadata": {},
     "output_type": "execute_result"
    }
   ],
   "source": [
    "DESC_IN_df"
   ]
  },
  {
   "cell_type": "code",
   "execution_count": 18,
   "id": "6ad41e45",
   "metadata": {},
   "outputs": [
    {
     "data": {
      "text/html": [
       "<div>\n",
       "<style scoped>\n",
       "    .dataframe tbody tr th:only-of-type {\n",
       "        vertical-align: middle;\n",
       "    }\n",
       "\n",
       "    .dataframe tbody tr th {\n",
       "        vertical-align: top;\n",
       "    }\n",
       "\n",
       "    .dataframe thead th {\n",
       "        text-align: right;\n",
       "    }\n",
       "</style>\n",
       "<table border=\"1\" class=\"dataframe\">\n",
       "  <thead>\n",
       "    <tr style=\"text-align: right;\">\n",
       "      <th></th>\n",
       "      <th>type</th>\n",
       "      <th>visibility</th>\n",
       "      <th>namespace</th>\n",
       "    </tr>\n",
       "  </thead>\n",
       "  <tbody>\n",
       "    <tr>\n",
       "      <th>y_4</th>\n",
       "      <td>array</td>\n",
       "      <td>Shared</td>\n",
       "      <td>ns_OptimSobieski</td>\n",
       "    </tr>\n",
       "  </tbody>\n",
       "</table>\n",
       "</div>"
      ],
      "text/plain": [
       "      type visibility         namespace\n",
       "y_4  array     Shared  ns_OptimSobieski"
      ]
     },
     "execution_count": 18,
     "metadata": {},
     "output_type": "execute_result"
    }
   ],
   "source": [
    "DESC_OUT_df"
   ]
  },
  {
   "cell_type": "markdown",
   "id": "54ea1711",
   "metadata": {},
   "source": [
    "# Provide inputs"
   ]
  },
  {
   "cell_type": "code",
   "execution_count": 19,
   "id": "17a6c960",
   "metadata": {},
   "outputs": [],
   "source": [
    "import numpy as np"
   ]
  },
  {
   "cell_type": "code",
   "execution_count": 20,
   "id": "575d341c",
   "metadata": {},
   "outputs": [],
   "source": [
    "priv_in_values = {\n",
    "                  'MyStudy.y_14': [50606.9,7306.20],\n",
    "                  'MyStudy.y_24':  [4.15], \n",
    "                  'MyStudy.y_34': [1.10], \n",
    "                  'MyStudy.z': [0.05,45000,1.6,5.5,55,1000],\n",
    "                  }"
   ]
  },
  {
   "cell_type": "code",
   "execution_count": 21,
   "id": "98c99a23",
   "metadata": {},
   "outputs": [
    {
     "data": {
      "text/plain": [
       "{'MyStudy.y_14': [50606.9, 7306.2],\n",
       " 'MyStudy.y_24': [4.15],\n",
       " 'MyStudy.y_34': [1.1],\n",
       " 'MyStudy.z': [0.05, 45000, 1.6, 5.5, 55, 1000]}"
      ]
     },
     "execution_count": 21,
     "metadata": {},
     "output_type": "execute_result"
    }
   ],
   "source": [
    "priv_in_values"
   ]
  },
  {
   "cell_type": "code",
   "execution_count": 22,
   "id": "903adda6",
   "metadata": {},
   "outputs": [],
   "source": [
    "ee.dm.set_values_from_dict(priv_in_values)\n",
    "ee.root_process.update_from_dm()"
   ]
  },
  {
   "cell_type": "markdown",
   "id": "19576828",
   "metadata": {},
   "source": [
    "# Execute"
   ]
  },
  {
   "cell_type": "code",
   "execution_count": 23,
   "id": "0a77a0d2",
   "metadata": {},
   "outputs": [
    {
     "name": "stderr",
     "output_type": "stream",
     "text": [
      "INFO:SoS.EE:PROCESS EXECUTION MyStudy STARTS...\n",
      "INFO:SoS.EE:PROCESS EXECUTION MyStudy ENDS.\n"
     ]
    },
    {
     "name": "stdout",
     "output_type": "stream",
     "text": [
      "{'MyStudy.y_14': [50606.9, 7306.2], 'MyStudy.y_24': [4.15], 'MyStudy.y_34': [1.1], 'MyStudy.z': [0.05, 45000, 1.6, 5.5, 55, 1000], 'MyStudy.y_4': array([539.45633495])}\n"
     ]
    }
   ],
   "source": [
    "print(ee.execute())"
   ]
  },
  {
   "cell_type": "markdown",
   "id": "2d10f7cf",
   "metadata": {},
   "source": [
    "# Display Results"
   ]
  },
  {
   "cell_type": "code",
   "execution_count": 24,
   "id": "b634896f",
   "metadata": {},
   "outputs": [
    {
     "data": {
      "text/plain": [
       "array([539.45633495])"
      ]
     },
     "execution_count": 24,
     "metadata": {},
     "output_type": "execute_result"
    }
   ],
   "source": [
    "my_disc0.get_data_io_dict('out')['y_4']['value']"
   ]
  },
  {
   "cell_type": "code",
   "execution_count": 25,
   "id": "defdd52a",
   "metadata": {},
   "outputs": [],
   "source": [
    "my_disc0.compute_sos_jacobian()"
   ]
  },
  {
   "cell_type": "code",
   "execution_count": 26,
   "id": "fe71252e",
   "metadata": {},
   "outputs": [],
   "source": [
    "#my_disc0.jac"
   ]
  },
  {
   "cell_type": "code",
   "execution_count": 27,
   "id": "b58189f2",
   "metadata": {},
   "outputs": [
    {
     "data": {
      "text/html": [
       "<div>\n",
       "<style scoped>\n",
       "    .dataframe tbody tr th:only-of-type {\n",
       "        vertical-align: middle;\n",
       "    }\n",
       "\n",
       "    .dataframe tbody tr th {\n",
       "        vertical-align: top;\n",
       "    }\n",
       "\n",
       "    .dataframe thead th {\n",
       "        text-align: right;\n",
       "    }\n",
       "</style>\n",
       "<table border=\"1\" class=\"dataframe\">\n",
       "  <thead>\n",
       "    <tr style=\"text-align: right;\">\n",
       "      <th></th>\n",
       "      <th>y_4</th>\n",
       "    </tr>\n",
       "  </thead>\n",
       "  <tbody>\n",
       "    <tr>\n",
       "      <th>y_14</th>\n",
       "      <td>[[-0.01153569594573601, 0.07990279641349372]]</td>\n",
       "    </tr>\n",
       "    <tr>\n",
       "      <th>y_24</th>\n",
       "      <td>[[129.98947830112547]]</td>\n",
       "    </tr>\n",
       "    <tr>\n",
       "      <th>y_34</th>\n",
       "      <td>[[-490.41484995424616]]</td>\n",
       "    </tr>\n",
       "    <tr>\n",
       "      <th>z</th>\n",
       "      <td>[[0.0, 0.0, 337.16020934354424, 0.0, 0.0, 0.0]]</td>\n",
       "    </tr>\n",
       "  </tbody>\n",
       "</table>\n",
       "</div>"
      ],
      "text/plain": [
       "                                                  y_4\n",
       "y_14    [[-0.01153569594573601, 0.07990279641349372]]\n",
       "y_24                           [[129.98947830112547]]\n",
       "y_34                          [[-490.41484995424616]]\n",
       "z     [[0.0, 0.0, 337.16020934354424, 0.0, 0.0, 0.0]]"
      ]
     },
     "execution_count": 27,
     "metadata": {},
     "output_type": "execute_result"
    }
   ],
   "source": [
    "pd.DataFrame(my_disc0.jac)"
   ]
  },
  {
   "cell_type": "code",
   "execution_count": null,
   "id": "497c47de",
   "metadata": {},
   "outputs": [],
   "source": []
  },
  {
   "cell_type": "markdown",
   "id": "4e522d2d",
   "metadata": {
    "collapsed": true
   },
   "source": [
    "# 1) Set the discipline : here SobieskiStructure"
   ]
  },
  {
   "cell_type": "code",
   "execution_count": 28,
   "id": "bed02069",
   "metadata": {},
   "outputs": [],
   "source": [
    "ns_test = 'MyStudy'\n",
    "ee = ExecutionEngine(ns_test)\n",
    "ns_dict = {'ns_OptimSobieski': ns_test} # conform to shared variable x\n",
    "ee.ns_manager.add_ns_def(ns_dict)"
   ]
  },
  {
   "cell_type": "code",
   "execution_count": 29,
   "id": "6ea2e7ef",
   "metadata": {},
   "outputs": [],
   "source": [
    "# Choice of the discipline (File that provides the wrapper and associated wrapper)\n",
    "mod_path1 = 'sos_trades_core.sos_wrapping.test_discs.sos_Sobieski.SobieskiStructure'"
   ]
  },
  {
   "cell_type": "code",
   "execution_count": 30,
   "id": "9f610008",
   "metadata": {},
   "outputs": [
    {
     "name": "stderr",
     "output_type": "stream",
     "text": [
      "INFO:SoS.EE:configuring ...\n",
      "WARNING:gemseo.mda.mda_chain:No coupling in MDA, switching chain_linearize to True\n",
      "INFO:SoS.EE.Coupling:The MDA solver of the Coupling MyStudy is set to MDAJacobi\n"
     ]
    }
   ],
   "source": [
    "disc_name = 'SobieskiStructure'\n",
    "disc1_builder = ee.factory.get_builder_from_module(disc_name, mod_path1)\n",
    "ee.factory.set_builders_to_coupling_builder(disc1_builder)\n",
    "\n",
    "ee.configure() "
   ]
  },
  {
   "cell_type": "code",
   "execution_count": 31,
   "id": "7fe3fd54",
   "metadata": {},
   "outputs": [
    {
     "name": "stderr",
     "output_type": "stream",
     "text": [
      "INFO:SoS.EE:Nodes representation for Treeview MyStudy\n",
      "|_ MyStudy\n",
      "\t|_ SobieskiStructure\n"
     ]
    },
    {
     "data": {
      "text/plain": [
       "'Nodes representation for Treeview MyStudy\\n|_ MyStudy\\n\\t|_ SobieskiStructure'"
      ]
     },
     "execution_count": 31,
     "metadata": {},
     "output_type": "execute_result"
    }
   ],
   "source": [
    "ee.display_treeview_nodes()"
   ]
  },
  {
   "cell_type": "code",
   "execution_count": 32,
   "id": "bdf30ef0",
   "metadata": {},
   "outputs": [],
   "source": [
    "my_disc1 = ee.root_process.sos_disciplines[0]"
   ]
  },
  {
   "cell_type": "code",
   "execution_count": 33,
   "id": "ad887dc6",
   "metadata": {},
   "outputs": [],
   "source": [
    "DESC_IN = my_disc1.DESC_IN\n",
    "DESC_OUT = my_disc1.DESC_OUT\n",
    "DESC_IN_df = pd.DataFrame.from_dict(DESC_IN,orient='index')\n",
    "DESC_OUT_df = pd.DataFrame.from_dict(DESC_OUT,orient='index')"
   ]
  },
  {
   "cell_type": "code",
   "execution_count": 34,
   "id": "856e92b2",
   "metadata": {},
   "outputs": [
    {
     "data": {
      "text/html": [
       "<div>\n",
       "<style scoped>\n",
       "    .dataframe tbody tr th:only-of-type {\n",
       "        vertical-align: middle;\n",
       "    }\n",
       "\n",
       "    .dataframe tbody tr th {\n",
       "        vertical-align: top;\n",
       "    }\n",
       "\n",
       "    .dataframe thead th {\n",
       "        text-align: right;\n",
       "    }\n",
       "</style>\n",
       "<table border=\"1\" class=\"dataframe\">\n",
       "  <thead>\n",
       "    <tr style=\"text-align: right;\">\n",
       "      <th></th>\n",
       "      <th>type</th>\n",
       "      <th>default</th>\n",
       "      <th>visibility</th>\n",
       "      <th>namespace</th>\n",
       "    </tr>\n",
       "  </thead>\n",
       "  <tbody>\n",
       "    <tr>\n",
       "      <th>x_1</th>\n",
       "      <td>array</td>\n",
       "      <td>[0.25, 1.0]</td>\n",
       "      <td>Shared</td>\n",
       "      <td>ns_OptimSobieski</td>\n",
       "    </tr>\n",
       "    <tr>\n",
       "      <th>y_21</th>\n",
       "      <td>array</td>\n",
       "      <td>[50606.9741711]</td>\n",
       "      <td>Shared</td>\n",
       "      <td>ns_OptimSobieski</td>\n",
       "    </tr>\n",
       "    <tr>\n",
       "      <th>y_31</th>\n",
       "      <td>array</td>\n",
       "      <td>[6354.32430691]</td>\n",
       "      <td>Shared</td>\n",
       "      <td>ns_OptimSobieski</td>\n",
       "    </tr>\n",
       "    <tr>\n",
       "      <th>z</th>\n",
       "      <td>array</td>\n",
       "      <td>[0.05, 45000.0, 1.6, 5.5, 55.0, 1000.0]</td>\n",
       "      <td>Shared</td>\n",
       "      <td>ns_OptimSobieski</td>\n",
       "    </tr>\n",
       "  </tbody>\n",
       "</table>\n",
       "</div>"
      ],
      "text/plain": [
       "       type                                  default visibility  \\\n",
       "x_1   array                              [0.25, 1.0]     Shared   \n",
       "y_21  array                          [50606.9741711]     Shared   \n",
       "y_31  array                          [6354.32430691]     Shared   \n",
       "z     array  [0.05, 45000.0, 1.6, 5.5, 55.0, 1000.0]     Shared   \n",
       "\n",
       "             namespace  \n",
       "x_1   ns_OptimSobieski  \n",
       "y_21  ns_OptimSobieski  \n",
       "y_31  ns_OptimSobieski  \n",
       "z     ns_OptimSobieski  "
      ]
     },
     "execution_count": 34,
     "metadata": {},
     "output_type": "execute_result"
    }
   ],
   "source": [
    "DESC_IN_df"
   ]
  },
  {
   "cell_type": "code",
   "execution_count": 35,
   "id": "7a1c1d67",
   "metadata": {},
   "outputs": [
    {
     "data": {
      "text/html": [
       "<div>\n",
       "<style scoped>\n",
       "    .dataframe tbody tr th:only-of-type {\n",
       "        vertical-align: middle;\n",
       "    }\n",
       "\n",
       "    .dataframe tbody tr th {\n",
       "        vertical-align: top;\n",
       "    }\n",
       "\n",
       "    .dataframe thead th {\n",
       "        text-align: right;\n",
       "    }\n",
       "</style>\n",
       "<table border=\"1\" class=\"dataframe\">\n",
       "  <thead>\n",
       "    <tr style=\"text-align: right;\">\n",
       "      <th></th>\n",
       "      <th>type</th>\n",
       "      <th>visibility</th>\n",
       "      <th>namespace</th>\n",
       "    </tr>\n",
       "  </thead>\n",
       "  <tbody>\n",
       "    <tr>\n",
       "      <th>y_1</th>\n",
       "      <td>array</td>\n",
       "      <td>Shared</td>\n",
       "      <td>ns_OptimSobieski</td>\n",
       "    </tr>\n",
       "    <tr>\n",
       "      <th>y_11</th>\n",
       "      <td>array</td>\n",
       "      <td>Shared</td>\n",
       "      <td>ns_OptimSobieski</td>\n",
       "    </tr>\n",
       "    <tr>\n",
       "      <th>y_14</th>\n",
       "      <td>array</td>\n",
       "      <td>Shared</td>\n",
       "      <td>ns_OptimSobieski</td>\n",
       "    </tr>\n",
       "    <tr>\n",
       "      <th>g_1</th>\n",
       "      <td>array</td>\n",
       "      <td>Shared</td>\n",
       "      <td>ns_OptimSobieski</td>\n",
       "    </tr>\n",
       "    <tr>\n",
       "      <th>y_12</th>\n",
       "      <td>array</td>\n",
       "      <td>Shared</td>\n",
       "      <td>ns_OptimSobieski</td>\n",
       "    </tr>\n",
       "  </tbody>\n",
       "</table>\n",
       "</div>"
      ],
      "text/plain": [
       "       type visibility         namespace\n",
       "y_1   array     Shared  ns_OptimSobieski\n",
       "y_11  array     Shared  ns_OptimSobieski\n",
       "y_14  array     Shared  ns_OptimSobieski\n",
       "g_1   array     Shared  ns_OptimSobieski\n",
       "y_12  array     Shared  ns_OptimSobieski"
      ]
     },
     "execution_count": 35,
     "metadata": {},
     "output_type": "execute_result"
    }
   ],
   "source": [
    "DESC_OUT_df"
   ]
  },
  {
   "cell_type": "markdown",
   "id": "679722e6",
   "metadata": {},
   "source": [
    "#Provide inputs"
   ]
  },
  {
   "cell_type": "code",
   "execution_count": 36,
   "id": "50b7c070",
   "metadata": {},
   "outputs": [],
   "source": [
    "priv_in_values = {\n",
    "                  'MyStudy.x_1': [0.25,1.0],\n",
    "                  'MyStudy.y_21':  [50606.9], \n",
    "                  'MyStudy.y_31': [6354.32], \n",
    "                  'MyStudy.z': [0.05,45000,1.6,5.5,55,1000]\n",
    "                  }"
   ]
  },
  {
   "cell_type": "code",
   "execution_count": 37,
   "id": "f736001f",
   "metadata": {},
   "outputs": [
    {
     "data": {
      "text/plain": [
       "{'MyStudy.x_1': [0.25, 1.0],\n",
       " 'MyStudy.y_21': [50606.9],\n",
       " 'MyStudy.y_31': [6354.32],\n",
       " 'MyStudy.z': [0.05, 45000, 1.6, 5.5, 55, 1000]}"
      ]
     },
     "execution_count": 37,
     "metadata": {},
     "output_type": "execute_result"
    }
   ],
   "source": [
    "priv_in_values"
   ]
  },
  {
   "cell_type": "code",
   "execution_count": 38,
   "id": "375cfbc6",
   "metadata": {},
   "outputs": [],
   "source": [
    "ee.dm.set_values_from_dict(priv_in_values)\n",
    "ee.root_process.update_from_dm()"
   ]
  },
  {
   "cell_type": "code",
   "execution_count": 39,
   "id": "a1b8cac6",
   "metadata": {},
   "outputs": [
    {
     "name": "stderr",
     "output_type": "stream",
     "text": [
      "INFO:SoS.EE:PROCESS EXECUTION MyStudy STARTS...\n",
      "INFO:SoS.EE:PROCESS EXECUTION MyStudy ENDS.\n"
     ]
    },
    {
     "name": "stdout",
     "output_type": "stream",
     "text": [
      "{'MyStudy.x_1': [0.25, 1.0], 'MyStudy.y_21': [50606.9], 'MyStudy.y_31': [6354.32], 'MyStudy.z': [0.05, 45000, 1.6, 5.5, 55, 1000], 'MyStudy.y_1': array([5.06069601e+04, 7.30620262e+03, 9.50000000e-01]), 'MyStudy.y_11': array([0.15591899]), 'MyStudy.y_12': array([5.06069601e+04, 9.50000000e-01]), 'MyStudy.y_14': array([50606.96011166,  7306.20262124]), 'MyStudy.g_1': array([ 0.035     , -0.00666667, -0.0275    , -0.04      , -0.04833333,\n",
      "       -0.09      , -0.15      ])}\n"
     ]
    }
   ],
   "source": [
    "print(ee.execute())"
   ]
  },
  {
   "cell_type": "code",
   "execution_count": 40,
   "id": "894cc24c",
   "metadata": {},
   "outputs": [
    {
     "data": {
      "text/plain": [
       "array([5.06069601e+04, 7.30620262e+03, 9.50000000e-01])"
      ]
     },
     "execution_count": 40,
     "metadata": {},
     "output_type": "execute_result"
    }
   ],
   "source": [
    "my_disc1.get_data_io_dict('out')['y_1']['value']"
   ]
  },
  {
   "cell_type": "code",
   "execution_count": 41,
   "id": "3a17b1de",
   "metadata": {},
   "outputs": [
    {
     "data": {
      "text/plain": [
       "array([0.15591899])"
      ]
     },
     "execution_count": 41,
     "metadata": {},
     "output_type": "execute_result"
    }
   ],
   "source": [
    "my_disc1.get_data_io_dict('out')['y_11']['value']"
   ]
  },
  {
   "cell_type": "code",
   "execution_count": 42,
   "id": "3607e02e",
   "metadata": {},
   "outputs": [
    {
     "data": {
      "text/plain": [
       "array([50606.96011166,  7306.20262124])"
      ]
     },
     "execution_count": 42,
     "metadata": {},
     "output_type": "execute_result"
    }
   ],
   "source": [
    "my_disc1.get_data_io_dict('out')['y_14']['value']"
   ]
  },
  {
   "cell_type": "code",
   "execution_count": 43,
   "id": "febb1717",
   "metadata": {},
   "outputs": [
    {
     "data": {
      "text/plain": [
       "array([ 0.035     , -0.00666667, -0.0275    , -0.04      , -0.04833333,\n",
       "       -0.09      , -0.15      ])"
      ]
     },
     "execution_count": 43,
     "metadata": {},
     "output_type": "execute_result"
    }
   ],
   "source": [
    "my_disc1.get_data_io_dict('out')['g_1']['value']"
   ]
  },
  {
   "cell_type": "code",
   "execution_count": 44,
   "id": "d93a13c0",
   "metadata": {},
   "outputs": [
    {
     "data": {
      "text/plain": [
       "array([5.06069601e+04, 9.50000000e-01])"
      ]
     },
     "execution_count": 44,
     "metadata": {},
     "output_type": "execute_result"
    }
   ],
   "source": [
    "my_disc1.get_data_io_dict('out')['y_12']['value']"
   ]
  },
  {
   "cell_type": "code",
   "execution_count": 45,
   "id": "09acd4ef",
   "metadata": {},
   "outputs": [],
   "source": [
    "my_disc1.compute_sos_jacobian()"
   ]
  },
  {
   "cell_type": "code",
   "execution_count": 46,
   "id": "cd12fedd",
   "metadata": {},
   "outputs": [],
   "source": [
    "#my_disc1.jac"
   ]
  },
  {
   "cell_type": "code",
   "execution_count": 47,
   "id": "4ca17860",
   "metadata": {},
   "outputs": [
    {
     "data": {
      "text/html": [
       "<div>\n",
       "<style scoped>\n",
       "    .dataframe tbody tr th:only-of-type {\n",
       "        vertical-align: middle;\n",
       "    }\n",
       "\n",
       "    .dataframe tbody tr th {\n",
       "        vertical-align: top;\n",
       "    }\n",
       "\n",
       "    .dataframe thead th {\n",
       "        text-align: right;\n",
       "    }\n",
       "</style>\n",
       "<table border=\"1\" class=\"dataframe\">\n",
       "  <thead>\n",
       "    <tr style=\"text-align: right;\">\n",
       "      <th></th>\n",
       "      <th>y_1</th>\n",
       "      <th>g_1</th>\n",
       "      <th>y_12</th>\n",
       "      <th>y_14</th>\n",
       "      <th>y_11</th>\n",
       "    </tr>\n",
       "  </thead>\n",
       "  <tbody>\n",
       "    <tr>\n",
       "      <th>z</th>\n",
       "      <td>[[10552.552501360551, 0.0, 0.0, 603.6577153806...</td>\n",
       "      <td>[[-19.962499999999995, 0.0, 0.0, 0.04545454545...</td>\n",
       "      <td>[[10552.552501360551, 0.0, 0.0, 603.6577153806...</td>\n",
       "      <td>[[10552.552501360551, 0.0, 0.0, 603.6577153806...</td>\n",
       "      <td>[[2.415675167797657, 0.0, 0.0, -0.013152957544...</td>\n",
       "    </tr>\n",
       "    <tr>\n",
       "      <th>x_1</th>\n",
       "      <td>[[955.7149992340906, 74665.23431516337], [0.0,...</td>\n",
       "      <td>[[0.2666666666666669, -0.7500000000000001], [0...</td>\n",
       "      <td>[[955.7149992340906, 74665.23431516337], [-0.1...</td>\n",
       "      <td>[[955.7149992340906, 74665.23431516337], [0.0,...</td>\n",
       "      <td>[[-0.003186503279217559, -0.24894556868887197]]</td>\n",
       "    </tr>\n",
       "    <tr>\n",
       "      <th>y_21</th>\n",
       "      <td>[[0.13148732054655302], [0.0], [-0.0]]</td>\n",
       "      <td>[[0.0], [0.0], [0.0], [0.0], [0.0], [-0.0], [0...</td>\n",
       "      <td>[[0.13148732054655302], [-0.0]]</td>\n",
       "      <td>[[0.13148732054655302], [0.0]]</td>\n",
       "      <td>[[-4.383992910364444e-07]]</td>\n",
       "    </tr>\n",
       "    <tr>\n",
       "      <th>y_31</th>\n",
       "      <td>[[1.0], [0.0], [0.0]]</td>\n",
       "      <td>[[0.0], [0.0], [0.0], [0.0], [0.0], [0.0], [-0...</td>\n",
       "      <td>[[1.0], [0.0]]</td>\n",
       "      <td>[[1.0], [0.0]]</td>\n",
       "      <td>[[-3.334156397850009e-06]]</td>\n",
       "    </tr>\n",
       "  </tbody>\n",
       "</table>\n",
       "</div>"
      ],
      "text/plain": [
       "                                                    y_1  \\\n",
       "z     [[10552.552501360551, 0.0, 0.0, 603.6577153806...   \n",
       "x_1   [[955.7149992340906, 74665.23431516337], [0.0,...   \n",
       "y_21             [[0.13148732054655302], [0.0], [-0.0]]   \n",
       "y_31                              [[1.0], [0.0], [0.0]]   \n",
       "\n",
       "                                                    g_1  \\\n",
       "z     [[-19.962499999999995, 0.0, 0.0, 0.04545454545...   \n",
       "x_1   [[0.2666666666666669, -0.7500000000000001], [0...   \n",
       "y_21  [[0.0], [0.0], [0.0], [0.0], [0.0], [-0.0], [0...   \n",
       "y_31  [[0.0], [0.0], [0.0], [0.0], [0.0], [0.0], [-0...   \n",
       "\n",
       "                                                   y_12  \\\n",
       "z     [[10552.552501360551, 0.0, 0.0, 603.6577153806...   \n",
       "x_1   [[955.7149992340906, 74665.23431516337], [-0.1...   \n",
       "y_21                    [[0.13148732054655302], [-0.0]]   \n",
       "y_31                                     [[1.0], [0.0]]   \n",
       "\n",
       "                                                   y_14  \\\n",
       "z     [[10552.552501360551, 0.0, 0.0, 603.6577153806...   \n",
       "x_1   [[955.7149992340906, 74665.23431516337], [0.0,...   \n",
       "y_21                     [[0.13148732054655302], [0.0]]   \n",
       "y_31                                     [[1.0], [0.0]]   \n",
       "\n",
       "                                                   y_11  \n",
       "z     [[2.415675167797657, 0.0, 0.0, -0.013152957544...  \n",
       "x_1     [[-0.003186503279217559, -0.24894556868887197]]  \n",
       "y_21                         [[-4.383992910364444e-07]]  \n",
       "y_31                         [[-3.334156397850009e-06]]  "
      ]
     },
     "execution_count": 47,
     "metadata": {},
     "output_type": "execute_result"
    }
   ],
   "source": [
    " pd.DataFrame(my_disc1.jac)"
   ]
  },
  {
   "cell_type": "markdown",
   "id": "9143b5d7",
   "metadata": {},
   "source": [
    "# 2) Set the discipline : here SobieskiAerodynamics"
   ]
  },
  {
   "cell_type": "code",
   "execution_count": 48,
   "id": "a141dfc3",
   "metadata": {},
   "outputs": [],
   "source": [
    "ns_test = 'MyStudy'\n",
    "ee = ExecutionEngine(ns_test)\n",
    "ns_dict = {'ns_OptimSobieski': ns_test} # conform to shared variable x\n",
    "ee.ns_manager.add_ns_def(ns_dict)"
   ]
  },
  {
   "cell_type": "code",
   "execution_count": 49,
   "id": "83171ee6",
   "metadata": {},
   "outputs": [],
   "source": [
    "# Choice of the discipline (File that provides the wrapper and associated wrapper)\n",
    "mod_path2 = 'sos_trades_core.sos_wrapping.test_discs.sos_Sobieski.SobieskiAerodynamics'"
   ]
  },
  {
   "cell_type": "code",
   "execution_count": 50,
   "id": "3e0cde68",
   "metadata": {},
   "outputs": [
    {
     "name": "stderr",
     "output_type": "stream",
     "text": [
      "INFO:SoS.EE:configuring ...\n",
      "WARNING:gemseo.mda.mda_chain:No coupling in MDA, switching chain_linearize to True\n",
      "INFO:SoS.EE.Coupling:The MDA solver of the Coupling MyStudy is set to MDAJacobi\n"
     ]
    }
   ],
   "source": [
    "disc_name = 'SobieskiAerodynamics'\n",
    "disc2_builder = ee.factory.get_builder_from_module(disc_name, mod_path2)\n",
    "ee.factory.set_builders_to_coupling_builder(disc2_builder)\n",
    "\n",
    "ee.configure() "
   ]
  },
  {
   "cell_type": "code",
   "execution_count": 51,
   "id": "bc9b6239",
   "metadata": {},
   "outputs": [
    {
     "name": "stderr",
     "output_type": "stream",
     "text": [
      "INFO:SoS.EE:Nodes representation for Treeview MyStudy\n",
      "|_ MyStudy\n",
      "\t|_ SobieskiAerodynamics\n"
     ]
    },
    {
     "data": {
      "text/plain": [
       "'Nodes representation for Treeview MyStudy\\n|_ MyStudy\\n\\t|_ SobieskiAerodynamics'"
      ]
     },
     "execution_count": 51,
     "metadata": {},
     "output_type": "execute_result"
    }
   ],
   "source": [
    "ee.display_treeview_nodes()"
   ]
  },
  {
   "cell_type": "code",
   "execution_count": 52,
   "id": "49554562",
   "metadata": {},
   "outputs": [],
   "source": [
    "my_disc2 = ee.root_process.sos_disciplines[0]"
   ]
  },
  {
   "cell_type": "code",
   "execution_count": 53,
   "id": "ecbe16d2",
   "metadata": {},
   "outputs": [],
   "source": [
    "DESC_IN = my_disc2.DESC_IN\n",
    "DESC_OUT = my_disc2.DESC_OUT\n",
    "DESC_IN_df = pd.DataFrame.from_dict(DESC_IN,orient='index')\n",
    "DESC_OUT_df = pd.DataFrame.from_dict(DESC_OUT,orient='index')"
   ]
  },
  {
   "cell_type": "code",
   "execution_count": 54,
   "id": "507cdca2",
   "metadata": {},
   "outputs": [
    {
     "data": {
      "text/html": [
       "<div>\n",
       "<style scoped>\n",
       "    .dataframe tbody tr th:only-of-type {\n",
       "        vertical-align: middle;\n",
       "    }\n",
       "\n",
       "    .dataframe tbody tr th {\n",
       "        vertical-align: top;\n",
       "    }\n",
       "\n",
       "    .dataframe thead th {\n",
       "        text-align: right;\n",
       "    }\n",
       "</style>\n",
       "<table border=\"1\" class=\"dataframe\">\n",
       "  <thead>\n",
       "    <tr style=\"text-align: right;\">\n",
       "      <th></th>\n",
       "      <th>type</th>\n",
       "      <th>default</th>\n",
       "      <th>visibility</th>\n",
       "      <th>namespace</th>\n",
       "    </tr>\n",
       "  </thead>\n",
       "  <tbody>\n",
       "    <tr>\n",
       "      <th>x_2</th>\n",
       "      <td>array</td>\n",
       "      <td>[1.0]</td>\n",
       "      <td>Shared</td>\n",
       "      <td>ns_OptimSobieski</td>\n",
       "    </tr>\n",
       "    <tr>\n",
       "      <th>y_12</th>\n",
       "      <td>array</td>\n",
       "      <td>[50606.9742, 0.95]</td>\n",
       "      <td>Shared</td>\n",
       "      <td>ns_OptimSobieski</td>\n",
       "    </tr>\n",
       "    <tr>\n",
       "      <th>y_32</th>\n",
       "      <td>array</td>\n",
       "      <td>[0.50279625]</td>\n",
       "      <td>Shared</td>\n",
       "      <td>ns_OptimSobieski</td>\n",
       "    </tr>\n",
       "    <tr>\n",
       "      <th>z</th>\n",
       "      <td>array</td>\n",
       "      <td>[0.05, 45000.0, 1.6, 5.5, 55.0, 1000.0]</td>\n",
       "      <td>Shared</td>\n",
       "      <td>ns_OptimSobieski</td>\n",
       "    </tr>\n",
       "  </tbody>\n",
       "</table>\n",
       "</div>"
      ],
      "text/plain": [
       "       type                                  default visibility  \\\n",
       "x_2   array                                    [1.0]     Shared   \n",
       "y_12  array                       [50606.9742, 0.95]     Shared   \n",
       "y_32  array                             [0.50279625]     Shared   \n",
       "z     array  [0.05, 45000.0, 1.6, 5.5, 55.0, 1000.0]     Shared   \n",
       "\n",
       "             namespace  \n",
       "x_2   ns_OptimSobieski  \n",
       "y_12  ns_OptimSobieski  \n",
       "y_32  ns_OptimSobieski  \n",
       "z     ns_OptimSobieski  "
      ]
     },
     "execution_count": 54,
     "metadata": {},
     "output_type": "execute_result"
    }
   ],
   "source": [
    "DESC_IN_df"
   ]
  },
  {
   "cell_type": "code",
   "execution_count": 55,
   "id": "d4dac6ea",
   "metadata": {},
   "outputs": [
    {
     "data": {
      "text/html": [
       "<div>\n",
       "<style scoped>\n",
       "    .dataframe tbody tr th:only-of-type {\n",
       "        vertical-align: middle;\n",
       "    }\n",
       "\n",
       "    .dataframe tbody tr th {\n",
       "        vertical-align: top;\n",
       "    }\n",
       "\n",
       "    .dataframe thead th {\n",
       "        text-align: right;\n",
       "    }\n",
       "</style>\n",
       "<table border=\"1\" class=\"dataframe\">\n",
       "  <thead>\n",
       "    <tr style=\"text-align: right;\">\n",
       "      <th></th>\n",
       "      <th>type</th>\n",
       "      <th>visibility</th>\n",
       "      <th>namespace</th>\n",
       "    </tr>\n",
       "  </thead>\n",
       "  <tbody>\n",
       "    <tr>\n",
       "      <th>y_2</th>\n",
       "      <td>array</td>\n",
       "      <td>Shared</td>\n",
       "      <td>ns_OptimSobieski</td>\n",
       "    </tr>\n",
       "    <tr>\n",
       "      <th>y_21</th>\n",
       "      <td>array</td>\n",
       "      <td>Shared</td>\n",
       "      <td>ns_OptimSobieski</td>\n",
       "    </tr>\n",
       "    <tr>\n",
       "      <th>y_23</th>\n",
       "      <td>array</td>\n",
       "      <td>Shared</td>\n",
       "      <td>ns_OptimSobieski</td>\n",
       "    </tr>\n",
       "    <tr>\n",
       "      <th>y_24</th>\n",
       "      <td>array</td>\n",
       "      <td>Shared</td>\n",
       "      <td>ns_OptimSobieski</td>\n",
       "    </tr>\n",
       "    <tr>\n",
       "      <th>g_2</th>\n",
       "      <td>array</td>\n",
       "      <td>Shared</td>\n",
       "      <td>ns_OptimSobieski</td>\n",
       "    </tr>\n",
       "  </tbody>\n",
       "</table>\n",
       "</div>"
      ],
      "text/plain": [
       "       type visibility         namespace\n",
       "y_2   array     Shared  ns_OptimSobieski\n",
       "y_21  array     Shared  ns_OptimSobieski\n",
       "y_23  array     Shared  ns_OptimSobieski\n",
       "y_24  array     Shared  ns_OptimSobieski\n",
       "g_2   array     Shared  ns_OptimSobieski"
      ]
     },
     "execution_count": 55,
     "metadata": {},
     "output_type": "execute_result"
    }
   ],
   "source": [
    "DESC_OUT_df"
   ]
  },
  {
   "cell_type": "markdown",
   "id": "9fb1abf1",
   "metadata": {},
   "source": [
    "#Provide inputs"
   ]
  },
  {
   "cell_type": "code",
   "execution_count": 56,
   "id": "7521dc8a",
   "metadata": {},
   "outputs": [],
   "source": [
    "priv_in_values = {\n",
    "                  'MyStudy.x_2': [1.0],\n",
    "                  'MyStudy.y_12':  [50606.9,0.95], \n",
    "                  'MyStudy.y_32': [12194.2], \n",
    "                  'MyStudy.z': [0.05,45000,1.6,5.5,55,1000]\n",
    "                  }"
   ]
  },
  {
   "cell_type": "code",
   "execution_count": 57,
   "id": "0a346ad7",
   "metadata": {},
   "outputs": [
    {
     "data": {
      "text/plain": [
       "{'MyStudy.x_2': [1.0],\n",
       " 'MyStudy.y_12': [50606.9, 0.95],\n",
       " 'MyStudy.y_32': [12194.2],\n",
       " 'MyStudy.z': [0.05, 45000, 1.6, 5.5, 55, 1000]}"
      ]
     },
     "execution_count": 57,
     "metadata": {},
     "output_type": "execute_result"
    }
   ],
   "source": [
    "priv_in_values"
   ]
  },
  {
   "cell_type": "code",
   "execution_count": 58,
   "id": "567b6057",
   "metadata": {},
   "outputs": [],
   "source": [
    "ee.dm.set_values_from_dict(priv_in_values)\n",
    "ee.root_process.update_from_dm()"
   ]
  },
  {
   "cell_type": "code",
   "execution_count": 59,
   "id": "0e124c5e",
   "metadata": {},
   "outputs": [
    {
     "name": "stderr",
     "output_type": "stream",
     "text": [
      "INFO:SoS.EE:PROCESS EXECUTION MyStudy STARTS...\n",
      "INFO:SoS.EE:PROCESS EXECUTION MyStudy ENDS.\n"
     ]
    },
    {
     "name": "stdout",
     "output_type": "stream",
     "text": [
      "{'MyStudy.x_2': [1.0], 'MyStudy.y_12': [50606.9, 0.95], 'MyStudy.y_32': [12194.2], 'MyStudy.z': [0.05, 45000, 1.6, 5.5, 55, 1000], 'MyStudy.y_2': array([5.06069000e+04, 1.29535265e+04, 3.90680484e+00]), 'MyStudy.y_21': array([12953.52649046]), 'MyStudy.y_24': array([3.90680484]), 'MyStudy.g_2': array([-0.04])}\n"
     ]
    }
   ],
   "source": [
    "print(ee.execute())"
   ]
  },
  {
   "cell_type": "code",
   "execution_count": 60,
   "id": "0e33a456",
   "metadata": {},
   "outputs": [
    {
     "data": {
      "text/plain": [
       "array([5.06069000e+04, 1.29535265e+04, 3.90680484e+00])"
      ]
     },
     "execution_count": 60,
     "metadata": {},
     "output_type": "execute_result"
    }
   ],
   "source": [
    "my_disc2.get_data_io_dict('out')['y_2']['value']"
   ]
  },
  {
   "cell_type": "code",
   "execution_count": 61,
   "id": "ed0171d4",
   "metadata": {},
   "outputs": [
    {
     "data": {
      "text/plain": [
       "array([12953.52649046])"
      ]
     },
     "execution_count": 61,
     "metadata": {},
     "output_type": "execute_result"
    }
   ],
   "source": [
    "my_disc2.get_data_io_dict('out')['y_21']['value']"
   ]
  },
  {
   "cell_type": "code",
   "execution_count": 62,
   "id": "330e350f",
   "metadata": {},
   "outputs": [],
   "source": [
    "my_disc2.get_data_io_dict('out')['y_23']['value']"
   ]
  },
  {
   "cell_type": "code",
   "execution_count": 63,
   "id": "96f3ff89",
   "metadata": {},
   "outputs": [
    {
     "data": {
      "text/plain": [
       "array([3.90680484])"
      ]
     },
     "execution_count": 63,
     "metadata": {},
     "output_type": "execute_result"
    }
   ],
   "source": [
    "my_disc2.get_data_io_dict('out')['y_24']['value']"
   ]
  },
  {
   "cell_type": "code",
   "execution_count": 64,
   "id": "1805be92",
   "metadata": {},
   "outputs": [
    {
     "data": {
      "text/plain": [
       "array([-0.04])"
      ]
     },
     "execution_count": 64,
     "metadata": {},
     "output_type": "execute_result"
    }
   ],
   "source": [
    "my_disc2.get_data_io_dict('out')['g_2']['value']"
   ]
  },
  {
   "cell_type": "code",
   "execution_count": 65,
   "id": "b3d7a32a",
   "metadata": {},
   "outputs": [],
   "source": [
    "my_disc2.compute_sos_jacobian()"
   ]
  },
  {
   "cell_type": "code",
   "execution_count": 66,
   "id": "58bb66f6",
   "metadata": {},
   "outputs": [
    {
     "data": {
      "text/html": [
       "<div>\n",
       "<style scoped>\n",
       "    .dataframe tbody tr th:only-of-type {\n",
       "        vertical-align: middle;\n",
       "    }\n",
       "\n",
       "    .dataframe tbody tr th {\n",
       "        vertical-align: top;\n",
       "    }\n",
       "\n",
       "    .dataframe thead th {\n",
       "        text-align: right;\n",
       "    }\n",
       "</style>\n",
       "<table border=\"1\" class=\"dataframe\">\n",
       "  <thead>\n",
       "    <tr style=\"text-align: right;\">\n",
       "      <th></th>\n",
       "      <th>y_2</th>\n",
       "      <th>g_2</th>\n",
       "      <th>y_21</th>\n",
       "      <th>y_23</th>\n",
       "      <th>y_24</th>\n",
       "    </tr>\n",
       "  </thead>\n",
       "  <tbody>\n",
       "    <tr>\n",
       "      <th>z</th>\n",
       "      <td>[[0.0, 0.0, 0.0, 0.0, 0.0, 0.0], [165458.26978...</td>\n",
       "      <td>[[4.0000000000000036, 0.0, 0.0, 0.0, 0.0, 0.0]]</td>\n",
       "      <td>[[0.0, 0.0, 0.0, 0.0, 0.0, 0.0]]</td>\n",
       "      <td>[[165458.26978767998, -0.6207344668522053, 161...</td>\n",
       "      <td>[[-49.90248561683625, 0.00018721453357221788, ...</td>\n",
       "    </tr>\n",
       "    <tr>\n",
       "      <th>x_2</th>\n",
       "      <td>[[0.0], [1518.2348699672957], [-0.457902127580...</td>\n",
       "      <td>[[0.0]]</td>\n",
       "      <td>[[0.0]]</td>\n",
       "      <td>[[1518.2348699672957]]</td>\n",
       "      <td>[[-0.4579021275802293]]</td>\n",
       "    </tr>\n",
       "    <tr>\n",
       "      <th>y_12</th>\n",
       "      <td>[[1.0, 0.0], [0.0007526771845305045, -25.90575...</td>\n",
       "      <td>[[0.0, 0.0]]</td>\n",
       "      <td>[[1.0, 0.0]]</td>\n",
       "      <td>[[0.0007526771845305045, -25.905757693042016]]</td>\n",
       "      <td>[[7.697204601896314e-05, 0.007813219020899815]]</td>\n",
       "    </tr>\n",
       "    <tr>\n",
       "      <th>y_32</th>\n",
       "      <td>[[0.0], [0.0], [0.0]]</td>\n",
       "      <td>[[0.0]]</td>\n",
       "      <td>[[0.0]]</td>\n",
       "      <td>[[0.0]]</td>\n",
       "      <td>[[0.0]]</td>\n",
       "    </tr>\n",
       "  </tbody>\n",
       "</table>\n",
       "</div>"
      ],
      "text/plain": [
       "                                                    y_2  \\\n",
       "z     [[0.0, 0.0, 0.0, 0.0, 0.0, 0.0], [165458.26978...   \n",
       "x_2   [[0.0], [1518.2348699672957], [-0.457902127580...   \n",
       "y_12  [[1.0, 0.0], [0.0007526771845305045, -25.90575...   \n",
       "y_32                              [[0.0], [0.0], [0.0]]   \n",
       "\n",
       "                                                  g_2  \\\n",
       "z     [[4.0000000000000036, 0.0, 0.0, 0.0, 0.0, 0.0]]   \n",
       "x_2                                           [[0.0]]   \n",
       "y_12                                     [[0.0, 0.0]]   \n",
       "y_32                                          [[0.0]]   \n",
       "\n",
       "                                  y_21  \\\n",
       "z     [[0.0, 0.0, 0.0, 0.0, 0.0, 0.0]]   \n",
       "x_2                            [[0.0]]   \n",
       "y_12                      [[1.0, 0.0]]   \n",
       "y_32                           [[0.0]]   \n",
       "\n",
       "                                                   y_23  \\\n",
       "z     [[165458.26978767998, -0.6207344668522053, 161...   \n",
       "x_2                              [[1518.2348699672957]]   \n",
       "y_12     [[0.0007526771845305045, -25.905757693042016]]   \n",
       "y_32                                            [[0.0]]   \n",
       "\n",
       "                                                   y_24  \n",
       "z     [[-49.90248561683625, 0.00018721453357221788, ...  \n",
       "x_2                             [[-0.4579021275802293]]  \n",
       "y_12    [[7.697204601896314e-05, 0.007813219020899815]]  \n",
       "y_32                                            [[0.0]]  "
      ]
     },
     "execution_count": 66,
     "metadata": {},
     "output_type": "execute_result"
    }
   ],
   "source": [
    "#my_disc2.jac\n",
    "pd.DataFrame(my_disc2.jac)"
   ]
  },
  {
   "cell_type": "markdown",
   "id": "32b9c41b",
   "metadata": {},
   "source": [
    "# 3) Set the discipline : here SobieskiPropulsion"
   ]
  },
  {
   "cell_type": "code",
   "execution_count": 67,
   "id": "e8d5119c",
   "metadata": {},
   "outputs": [],
   "source": [
    "ns_test = 'MyStudy'\n",
    "ee = ExecutionEngine(ns_test)\n",
    "ns_dict = {'ns_OptimSobieski': ns_test} # conform to shared variable x\n",
    "ee.ns_manager.add_ns_def(ns_dict)"
   ]
  },
  {
   "cell_type": "code",
   "execution_count": 68,
   "id": "1fd6fc87",
   "metadata": {},
   "outputs": [],
   "source": [
    "# Choice of the discipline (File that provides the wrapper and associated wrapper)\n",
    "mod_path3 = 'sos_trades_core.sos_wrapping.test_discs.sos_Sobieski.SobieskiPropulsion'"
   ]
  },
  {
   "cell_type": "code",
   "execution_count": 69,
   "id": "3edb8589",
   "metadata": {},
   "outputs": [
    {
     "name": "stderr",
     "output_type": "stream",
     "text": [
      "INFO:SoS.EE:configuring ...\n",
      "WARNING:gemseo.mda.mda_chain:No coupling in MDA, switching chain_linearize to True\n",
      "INFO:SoS.EE.Coupling:The MDA solver of the Coupling MyStudy is set to MDAJacobi\n"
     ]
    }
   ],
   "source": [
    "disc_name = 'SobieskiPropulsion'\n",
    "disc3_builder = ee.factory.get_builder_from_module(disc_name, mod_path3)\n",
    "ee.factory.set_builders_to_coupling_builder(disc3_builder)\n",
    "\n",
    "ee.configure() "
   ]
  },
  {
   "cell_type": "code",
   "execution_count": 70,
   "id": "20a0bc6b",
   "metadata": {},
   "outputs": [
    {
     "name": "stderr",
     "output_type": "stream",
     "text": [
      "INFO:SoS.EE:Nodes representation for Treeview MyStudy\n",
      "|_ MyStudy\n",
      "\t|_ SobieskiPropulsion\n"
     ]
    },
    {
     "data": {
      "text/plain": [
       "'Nodes representation for Treeview MyStudy\\n|_ MyStudy\\n\\t|_ SobieskiPropulsion'"
      ]
     },
     "execution_count": 70,
     "metadata": {},
     "output_type": "execute_result"
    }
   ],
   "source": [
    "ee.display_treeview_nodes()"
   ]
  },
  {
   "cell_type": "code",
   "execution_count": 71,
   "id": "908cd7fa",
   "metadata": {},
   "outputs": [],
   "source": [
    "my_disc3 = ee.root_process.sos_disciplines[0]"
   ]
  },
  {
   "cell_type": "code",
   "execution_count": 72,
   "id": "4780ad1e",
   "metadata": {},
   "outputs": [],
   "source": [
    "DESC_IN = my_disc3.DESC_IN\n",
    "DESC_OUT = my_disc3.DESC_OUT\n",
    "DESC_IN_df = pd.DataFrame.from_dict(DESC_IN,orient='index')\n",
    "DESC_OUT_df = pd.DataFrame.from_dict(DESC_OUT,orient='index')"
   ]
  },
  {
   "cell_type": "code",
   "execution_count": 73,
   "id": "987046ac",
   "metadata": {},
   "outputs": [
    {
     "data": {
      "text/html": [
       "<div>\n",
       "<style scoped>\n",
       "    .dataframe tbody tr th:only-of-type {\n",
       "        vertical-align: middle;\n",
       "    }\n",
       "\n",
       "    .dataframe tbody tr th {\n",
       "        vertical-align: top;\n",
       "    }\n",
       "\n",
       "    .dataframe thead th {\n",
       "        text-align: right;\n",
       "    }\n",
       "</style>\n",
       "<table border=\"1\" class=\"dataframe\">\n",
       "  <thead>\n",
       "    <tr style=\"text-align: right;\">\n",
       "      <th></th>\n",
       "      <th>type</th>\n",
       "      <th>default</th>\n",
       "      <th>visibility</th>\n",
       "      <th>namespace</th>\n",
       "    </tr>\n",
       "  </thead>\n",
       "  <tbody>\n",
       "    <tr>\n",
       "      <th>x_3</th>\n",
       "      <td>array</td>\n",
       "      <td>[0.5]</td>\n",
       "      <td>Shared</td>\n",
       "      <td>ns_OptimSobieski</td>\n",
       "    </tr>\n",
       "    <tr>\n",
       "      <th>y_23</th>\n",
       "      <td>array</td>\n",
       "      <td>[12562.01206488]</td>\n",
       "      <td>Shared</td>\n",
       "      <td>ns_OptimSobieski</td>\n",
       "    </tr>\n",
       "    <tr>\n",
       "      <th>z</th>\n",
       "      <td>array</td>\n",
       "      <td>[0.05, 45000.0, 1.6, 5.5, 55.0, 1000.0]</td>\n",
       "      <td>Shared</td>\n",
       "      <td>ns_OptimSobieski</td>\n",
       "    </tr>\n",
       "  </tbody>\n",
       "</table>\n",
       "</div>"
      ],
      "text/plain": [
       "       type                                  default visibility  \\\n",
       "x_3   array                                    [0.5]     Shared   \n",
       "y_23  array                         [12562.01206488]     Shared   \n",
       "z     array  [0.05, 45000.0, 1.6, 5.5, 55.0, 1000.0]     Shared   \n",
       "\n",
       "             namespace  \n",
       "x_3   ns_OptimSobieski  \n",
       "y_23  ns_OptimSobieski  \n",
       "z     ns_OptimSobieski  "
      ]
     },
     "execution_count": 73,
     "metadata": {},
     "output_type": "execute_result"
    }
   ],
   "source": [
    "DESC_IN_df"
   ]
  },
  {
   "cell_type": "code",
   "execution_count": 74,
   "id": "71d7f4d3",
   "metadata": {},
   "outputs": [
    {
     "data": {
      "text/html": [
       "<div>\n",
       "<style scoped>\n",
       "    .dataframe tbody tr th:only-of-type {\n",
       "        vertical-align: middle;\n",
       "    }\n",
       "\n",
       "    .dataframe tbody tr th {\n",
       "        vertical-align: top;\n",
       "    }\n",
       "\n",
       "    .dataframe thead th {\n",
       "        text-align: right;\n",
       "    }\n",
       "</style>\n",
       "<table border=\"1\" class=\"dataframe\">\n",
       "  <thead>\n",
       "    <tr style=\"text-align: right;\">\n",
       "      <th></th>\n",
       "      <th>type</th>\n",
       "      <th>visibility</th>\n",
       "      <th>namespace</th>\n",
       "    </tr>\n",
       "  </thead>\n",
       "  <tbody>\n",
       "    <tr>\n",
       "      <th>y_3</th>\n",
       "      <td>array</td>\n",
       "      <td>Shared</td>\n",
       "      <td>ns_OptimSobieski</td>\n",
       "    </tr>\n",
       "    <tr>\n",
       "      <th>y_34</th>\n",
       "      <td>array</td>\n",
       "      <td>Shared</td>\n",
       "      <td>ns_OptimSobieski</td>\n",
       "    </tr>\n",
       "    <tr>\n",
       "      <th>y_31</th>\n",
       "      <td>array</td>\n",
       "      <td>Shared</td>\n",
       "      <td>ns_OptimSobieski</td>\n",
       "    </tr>\n",
       "    <tr>\n",
       "      <th>y_32</th>\n",
       "      <td>array</td>\n",
       "      <td>Shared</td>\n",
       "      <td>ns_OptimSobieski</td>\n",
       "    </tr>\n",
       "    <tr>\n",
       "      <th>g_3</th>\n",
       "      <td>array</td>\n",
       "      <td>Shared</td>\n",
       "      <td>ns_OptimSobieski</td>\n",
       "    </tr>\n",
       "  </tbody>\n",
       "</table>\n",
       "</div>"
      ],
      "text/plain": [
       "       type visibility         namespace\n",
       "y_3   array     Shared  ns_OptimSobieski\n",
       "y_34  array     Shared  ns_OptimSobieski\n",
       "y_31  array     Shared  ns_OptimSobieski\n",
       "y_32  array     Shared  ns_OptimSobieski\n",
       "g_3   array     Shared  ns_OptimSobieski"
      ]
     },
     "execution_count": 74,
     "metadata": {},
     "output_type": "execute_result"
    }
   ],
   "source": [
    "DESC_OUT_df"
   ]
  },
  {
   "cell_type": "markdown",
   "id": "4585dbaa",
   "metadata": {},
   "source": [
    "#Provide inputs"
   ]
  },
  {
   "cell_type": "code",
   "execution_count": 75,
   "id": "5769a1b0",
   "metadata": {},
   "outputs": [],
   "source": [
    "priv_in_values = {\n",
    "                  'MyStudy.x_3': [0.5],\n",
    "                  'MyStudy.y_23':  [12194.2], \n",
    "                  'MyStudy.z': [0.05,45000,1.6,5.5,55,1000]\n",
    "                  }"
   ]
  },
  {
   "cell_type": "code",
   "execution_count": 76,
   "id": "32222d98",
   "metadata": {},
   "outputs": [
    {
     "data": {
      "text/plain": [
       "{'MyStudy.x_3': [0.5],\n",
       " 'MyStudy.y_23': [12194.2],\n",
       " 'MyStudy.z': [0.05, 45000, 1.6, 5.5, 55, 1000]}"
      ]
     },
     "execution_count": 76,
     "metadata": {},
     "output_type": "execute_result"
    }
   ],
   "source": [
    "priv_in_values"
   ]
  },
  {
   "cell_type": "code",
   "execution_count": 77,
   "id": "a07235bb",
   "metadata": {},
   "outputs": [],
   "source": [
    "ee.dm.set_values_from_dict(priv_in_values)\n",
    "ee.root_process.update_from_dm()"
   ]
  },
  {
   "cell_type": "code",
   "execution_count": 78,
   "id": "80dc4855",
   "metadata": {},
   "outputs": [
    {
     "name": "stderr",
     "output_type": "stream",
     "text": [
      "INFO:SoS.EE:PROCESS EXECUTION MyStudy STARTS...\n",
      "INFO:SoS.EE:PROCESS EXECUTION MyStudy ENDS.\n"
     ]
    },
    {
     "name": "stdout",
     "output_type": "stream",
     "text": [
      "{'MyStudy.x_3': [0.5], 'MyStudy.y_23': [12194.2], 'MyStudy.z': [0.05, 45000, 1.6, 5.5, 55, 1000], 'MyStudy.y_3': array([1.10754577e+00, 6.35428754e+03, 5.02793480e-01]), 'MyStudy.y_34': array([1.10754577]), 'MyStudy.y_31': array([6354.28754235]), 'MyStudy.y_32': array([0.50279348]), 'MyStudy.g_3': array([-0.99720652, -0.00279348,  0.16206032, -0.02      ])}\n"
     ]
    }
   ],
   "source": [
    "print(ee.execute())"
   ]
  },
  {
   "cell_type": "code",
   "execution_count": 79,
   "id": "988fe0db",
   "metadata": {},
   "outputs": [
    {
     "data": {
      "text/plain": [
       "array([1.10754577e+00, 6.35428754e+03, 5.02793480e-01])"
      ]
     },
     "execution_count": 79,
     "metadata": {},
     "output_type": "execute_result"
    }
   ],
   "source": [
    "my_disc3.get_data_io_dict('out')['y_3']['value']"
   ]
  },
  {
   "cell_type": "code",
   "execution_count": 80,
   "id": "61091aa5",
   "metadata": {},
   "outputs": [
    {
     "data": {
      "text/plain": [
       "array([1.10754577])"
      ]
     },
     "execution_count": 80,
     "metadata": {},
     "output_type": "execute_result"
    }
   ],
   "source": [
    "my_disc3.get_data_io_dict('out')['y_34']['value']"
   ]
  },
  {
   "cell_type": "code",
   "execution_count": 81,
   "id": "900cdbe6",
   "metadata": {},
   "outputs": [
    {
     "data": {
      "text/plain": [
       "array([6354.28754235])"
      ]
     },
     "execution_count": 81,
     "metadata": {},
     "output_type": "execute_result"
    }
   ],
   "source": [
    "my_disc3.get_data_io_dict('out')['y_31']['value']"
   ]
  },
  {
   "cell_type": "code",
   "execution_count": 82,
   "id": "0ac869b7",
   "metadata": {},
   "outputs": [
    {
     "data": {
      "text/plain": [
       "array([0.50279348])"
      ]
     },
     "execution_count": 82,
     "metadata": {},
     "output_type": "execute_result"
    }
   ],
   "source": [
    "my_disc3.get_data_io_dict('out')['y_32']['value']"
   ]
  },
  {
   "cell_type": "code",
   "execution_count": 83,
   "id": "5d5762bd",
   "metadata": {},
   "outputs": [
    {
     "data": {
      "text/plain": [
       "array([-0.99720652, -0.00279348,  0.16206032, -0.02      ])"
      ]
     },
     "execution_count": 83,
     "metadata": {},
     "output_type": "execute_result"
    }
   ],
   "source": [
    "my_disc3.get_data_io_dict('out')['g_3']['value']"
   ]
  },
  {
   "cell_type": "code",
   "execution_count": 84,
   "id": "365e8b05",
   "metadata": {},
   "outputs": [],
   "source": [
    "my_disc3.compute_sos_jacobian()"
   ]
  },
  {
   "cell_type": "code",
   "execution_count": 85,
   "id": "9b848e48",
   "metadata": {},
   "outputs": [
    {
     "data": {
      "text/html": [
       "<div>\n",
       "<style scoped>\n",
       "    .dataframe tbody tr th:only-of-type {\n",
       "        vertical-align: middle;\n",
       "    }\n",
       "\n",
       "    .dataframe tbody tr th {\n",
       "        vertical-align: top;\n",
       "    }\n",
       "\n",
       "    .dataframe thead th {\n",
       "        text-align: right;\n",
       "    }\n",
       "</style>\n",
       "<table border=\"1\" class=\"dataframe\">\n",
       "  <thead>\n",
       "    <tr style=\"text-align: right;\">\n",
       "      <th></th>\n",
       "      <th>y_3</th>\n",
       "      <th>g_3</th>\n",
       "      <th>y_31</th>\n",
       "      <th>y_32</th>\n",
       "      <th>y_34</th>\n",
       "    </tr>\n",
       "  </thead>\n",
       "  <tbody>\n",
       "    <tr>\n",
       "      <th>x_3</th>\n",
       "      <td>[[0.17541115841822139], [-13344.003838931347],...</td>\n",
       "      <td>[[-1.0055869607345926], [1.0055869607345926], ...</td>\n",
       "      <td>[[-13344.003838931347]]</td>\n",
       "      <td>[[-1.0055869607345926]]</td>\n",
       "      <td>[[0.17541115841822139]]</td>\n",
       "    </tr>\n",
       "    <tr>\n",
       "      <th>z</th>\n",
       "      <td>[[0.0, 3.224819119999993e-06, 0.04351374841045...</td>\n",
       "      <td>[[0.0, 0.0, 0.0, 0.0, 0.0, 0.0], [-0.0, -0.0, ...</td>\n",
       "      <td>[[0.0, 0.0, 0.0, 0.0, 0.0, 0.0]]</td>\n",
       "      <td>[[0.0, 0.0, 0.0, 0.0, 0.0, 0.0]]</td>\n",
       "      <td>[[0.0, 3.224819119999993e-06, 0.04351374841045...</td>\n",
       "    </tr>\n",
       "    <tr>\n",
       "      <th>y_23</th>\n",
       "      <td>[[0.0], [0.547145521597618], [4.12321825431185...</td>\n",
       "      <td>[[4.1232182543118555e-05], [-4.123218254311855...</td>\n",
       "      <td>[[0.547145521597618]]</td>\n",
       "      <td>[[4.1232182543118555e-05]]</td>\n",
       "      <td>[[0.0]]</td>\n",
       "    </tr>\n",
       "  </tbody>\n",
       "</table>\n",
       "</div>"
      ],
      "text/plain": [
       "                                                    y_3  \\\n",
       "x_3   [[0.17541115841822139], [-13344.003838931347],...   \n",
       "z     [[0.0, 3.224819119999993e-06, 0.04351374841045...   \n",
       "y_23  [[0.0], [0.547145521597618], [4.12321825431185...   \n",
       "\n",
       "                                                    g_3  \\\n",
       "x_3   [[-1.0055869607345926], [1.0055869607345926], ...   \n",
       "z     [[0.0, 0.0, 0.0, 0.0, 0.0, 0.0], [-0.0, -0.0, ...   \n",
       "y_23  [[4.1232182543118555e-05], [-4.123218254311855...   \n",
       "\n",
       "                                  y_31                              y_32  \\\n",
       "x_3            [[-13344.003838931347]]           [[-1.0055869607345926]]   \n",
       "z     [[0.0, 0.0, 0.0, 0.0, 0.0, 0.0]]  [[0.0, 0.0, 0.0, 0.0, 0.0, 0.0]]   \n",
       "y_23             [[0.547145521597618]]        [[4.1232182543118555e-05]]   \n",
       "\n",
       "                                                   y_34  \n",
       "x_3                             [[0.17541115841822139]]  \n",
       "z     [[0.0, 3.224819119999993e-06, 0.04351374841045...  \n",
       "y_23                                            [[0.0]]  "
      ]
     },
     "execution_count": 85,
     "metadata": {},
     "output_type": "execute_result"
    }
   ],
   "source": [
    "#my_disc3.jac\n",
    "pd.DataFrame(my_disc3.jac)"
   ]
  },
  {
   "cell_type": "markdown",
   "id": "89ce3252",
   "metadata": {},
   "source": [
    "# 4) Sobieski builder list"
   ]
  },
  {
   "cell_type": "code",
   "execution_count": 86,
   "id": "6dc9b171",
   "metadata": {},
   "outputs": [],
   "source": [
    "#from sos_trades_core.sos_wrapping.test_discs.sellar import Sellar1\n",
    "from sos_trades_core.execution_engine.execution_engine import ExecutionEngine"
   ]
  },
  {
   "cell_type": "code",
   "execution_count": 87,
   "id": "ecca50ce",
   "metadata": {},
   "outputs": [],
   "source": [
    "ns_test = 'MyStudy'\n",
    "ee = ExecutionEngine(ns_test)\n",
    "ns_dict = {'ns_OptimSobieski': ns_test} # conform to shared variable x\n",
    "ee.ns_manager.add_ns_def(ns_dict)"
   ]
  },
  {
   "cell_type": "code",
   "execution_count": 88,
   "id": "ab774ae0",
   "metadata": {},
   "outputs": [],
   "source": [
    "mod_path0 = 'sos_trades_core.sos_wrapping.test_discs.sos_Sobieski.SobieskiMission'\n",
    "disc_name = 'SobieskiMission'\n",
    "disc0_builder = ee.factory.get_builder_from_module(disc_name, mod_path0)\n",
    "\n",
    "mod_path1 = 'sos_trades_core.sos_wrapping.test_discs.sos_Sobieski.SobieskiStructure'\n",
    "disc_name = 'SobieskiStructure'\n",
    "disc1_builder = ee.factory.get_builder_from_module(disc_name, mod_path1)\n",
    "\n",
    "mod_path2 = 'sos_trades_core.sos_wrapping.test_discs.sos_Sobieski.SobieskiAerodynamics'\n",
    "disc_name = 'SobieskiAerodynamics'\n",
    "disc2_builder = ee.factory.get_builder_from_module(disc_name, mod_path2)\n",
    "\n",
    "mod_path3 = 'sos_trades_core.sos_wrapping.test_discs.sos_Sobieski.SobieskiPropulsion'\n",
    "disc_name = 'SobieskiPropulsion'\n",
    "disc3_builder = ee.factory.get_builder_from_module(disc_name, mod_path3)"
   ]
  },
  {
   "cell_type": "code",
   "execution_count": 89,
   "id": "ca293a5f",
   "metadata": {},
   "outputs": [],
   "source": [
    "disc_list=[disc0_builder,disc1_builder,disc2_builder,disc2_builder]"
   ]
  },
  {
   "cell_type": "code",
   "execution_count": 90,
   "id": "9b2e2f98",
   "metadata": {},
   "outputs": [],
   "source": [
    "coupling_builder = ee.factory.create_builder_coupling(\"SobieskyCoupling\")\n",
    "coupling_builder.set_builder_info('cls_builder', disc_list)\n",
    "coupling_builder.set_builder_info('with_data_io', True)"
   ]
  },
  {
   "cell_type": "code",
   "execution_count": 91,
   "id": "1017a280",
   "metadata": {},
   "outputs": [],
   "source": [
    "#ee.factory.set_builders_to_coupling_builder([disc_list])\n",
    "ee.factory.set_builders_to_coupling_builder([coupling_builder])"
   ]
  },
  {
   "cell_type": "code",
   "execution_count": 92,
   "id": "839b9538",
   "metadata": {},
   "outputs": [
    {
     "name": "stderr",
     "output_type": "stream",
     "text": [
      "INFO:SoS.EE:configuring ...\n",
      "INFO:SoS.EE.Coupling:The MDA solver of the Coupling MyStudy.SobieskyCoupling is set to MDAJacobi\n",
      "INFO:SoS.EE.Coupling:The MDA solver of the Coupling MyStudy is set to MDAJacobi\n"
     ]
    }
   ],
   "source": [
    "ee.configure() "
   ]
  },
  {
   "cell_type": "code",
   "execution_count": 93,
   "id": "4520e240",
   "metadata": {},
   "outputs": [
    {
     "name": "stderr",
     "output_type": "stream",
     "text": [
      "INFO:SoS.EE:Nodes representation for Treeview MyStudy\n",
      "|_ MyStudy\n",
      "\t|_ SobieskyCoupling\n",
      "\t\t|_ SobieskiStructure\n",
      "\t\t|_ SobieskiAerodynamics\n",
      "\t\t|_ SobieskiMission\n"
     ]
    },
    {
     "data": {
      "text/plain": [
       "'Nodes representation for Treeview MyStudy\\n|_ MyStudy\\n\\t|_ SobieskyCoupling\\n\\t\\t|_ SobieskiStructure\\n\\t\\t|_ SobieskiAerodynamics\\n\\t\\t|_ SobieskiMission'"
      ]
     },
     "execution_count": 93,
     "metadata": {},
     "output_type": "execute_result"
    }
   ],
   "source": [
    "ee.display_treeview_nodes()"
   ]
  },
  {
   "cell_type": "code",
   "execution_count": 94,
   "id": "c1de3467",
   "metadata": {},
   "outputs": [],
   "source": [
    "priv_in_values = {\n",
    "                  'MyStudy.z': [0.05,45000,1.6,5.5,55.,1000],\n",
    "                  'MyStudy.y_14': [50606.9,7306.20],\n",
    "                  'MyStudy.y_24':  [4.15], \n",
    "                  'MyStudy.y_34': [1.10], \n",
    "                  'MyStudy.x_1': [0.25,1.0],\n",
    "                  'MyStudy.y_21':  [50606.9], \n",
    "                  'MyStudy.y_31': [6354.32], \n",
    "                  'MyStudy.x_2': [1.0],\n",
    "                  'MyStudy.y_12':  [50606.9,0.95], \n",
    "                  'MyStudy.y_32': [12194.2], \n",
    "                  'MyStudy.x_3': [0.5],\n",
    "                  'MyStudy.y_23':  [12194.2], \n",
    "                  }"
   ]
  },
  {
   "cell_type": "code",
   "execution_count": 95,
   "id": "0f976db5",
   "metadata": {},
   "outputs": [],
   "source": [
    "#ee.dm.set_values_from_dict(priv_in_values)\n",
    "#ee.root_process.update_from_dm()"
   ]
  },
  {
   "cell_type": "code",
   "execution_count": 96,
   "id": "e3e077b4",
   "metadata": {},
   "outputs": [
    {
     "name": "stderr",
     "output_type": "stream",
     "text": [
      "INFO:SoS.EE:configuring ...\n",
      "INFO:SoS.EE.Coupling:The MDA solver of the Coupling MyStudy.SobieskyCoupling is set to MDAJacobi\n",
      "INFO:SoS.EE:configuring ...\n",
      "INFO:SoS.EE.Coupling:The MDA solver of the Coupling MyStudy.SobieskyCoupling is set to MDAJacobi\n",
      "INFO:SoS.EE:configuring ...\n",
      "INFO:SoS.EE.Coupling:The MDA solver of the Coupling MyStudy is set to MDAJacobi\n"
     ]
    }
   ],
   "source": [
    "ee.load_study_from_input_dict(priv_in_values)"
   ]
  },
  {
   "cell_type": "code",
   "execution_count": 97,
   "id": "fd8d3b3b",
   "metadata": {},
   "outputs": [
    {
     "name": "stderr",
     "output_type": "stream",
     "text": [
      "INFO:SoS.EE:Nodes representation for Treeview MyStudy\n",
      "|_ MyStudy\n",
      "\t-> acceleration\n",
      "\t-> authorize_self_coupled_disciplines\n",
      "\t-> cache_file_path\n",
      "\t-> cache_type\n",
      "\t-> chain_linearize\n",
      "\t-> debug_mode\n",
      "\t-> epsilon0\n",
      "\t-> group_mda_disciplines\n",
      "\t-> linear_solver_MDA\n",
      "\t-> linear_solver_MDA_options\n",
      "\t-> linear_solver_MDA_preconditioner\n",
      "\t-> linear_solver_MDO\n",
      "\t-> linear_solver_MDO_options\n",
      "\t-> linear_solver_MDO_preconditioner\n",
      "\t-> linearization_mode\n",
      "\t-> max_mda_iter\n",
      "\t-> n_processes\n",
      "\t-> n_subcouplings_parallel\n",
      "\t-> relax_factor\n",
      "\t-> sub_mda_class\n",
      "\t-> tolerance\n",
      "\t-> tolerance_gs\n",
      "\t-> use_lu_fact\n",
      "\t-> warm_start\n",
      "\t-> warm_start_threshold\n",
      "\t-> x_1\n",
      "\t-> x_2\n",
      "\t-> y_12\n",
      "\t-> y_21\n",
      "\t-> y_31\n",
      "\t-> y_32\n",
      "\t-> y_34\n",
      "\t-> z\n",
      "\t<- g_1\n",
      "\t<- g_2\n",
      "\t<- residuals_history\n",
      "\t<- y_1\n",
      "\t<- y_11\n",
      "\t<- y_14\n",
      "\t<- y_2\n",
      "\t<- y_23\n",
      "\t<- y_24\n",
      "\t<- y_4\n",
      "\t|_ SobieskyCoupling\n",
      "\t\t-> acceleration\n",
      "\t\t-> authorize_self_coupled_disciplines\n",
      "\t\t-> cache_file_path\n",
      "\t\t-> cache_type\n",
      "\t\t-> chain_linearize\n",
      "\t\t-> debug_mode\n",
      "\t\t-> epsilon0\n",
      "\t\t-> group_mda_disciplines\n",
      "\t\t-> linear_solver_MDA\n",
      "\t\t-> linear_solver_MDA_options\n",
      "\t\t-> linear_solver_MDA_preconditioner\n",
      "\t\t-> linear_solver_MDO\n",
      "\t\t-> linear_solver_MDO_options\n",
      "\t\t-> linear_solver_MDO_preconditioner\n",
      "\t\t-> linearization_mode\n",
      "\t\t-> max_mda_iter\n",
      "\t\t-> n_processes\n",
      "\t\t-> n_subcouplings_parallel\n",
      "\t\t-> relax_factor\n",
      "\t\t-> sub_mda_class\n",
      "\t\t-> tolerance\n",
      "\t\t-> tolerance_gs\n",
      "\t\t-> use_lu_fact\n",
      "\t\t-> warm_start\n",
      "\t\t-> warm_start_threshold\n",
      "\t\t<- residuals_history\n",
      "\t\t|_ SobieskiStructure\n",
      "\t\t\t-> cache_file_path\n",
      "\t\t\t-> cache_type\n",
      "\t\t\t-> debug_mode\n",
      "\t\t\t-> linearization_mode\n",
      "\t\t|_ SobieskiAerodynamics\n",
      "\t\t\t-> cache_file_path\n",
      "\t\t\t-> cache_type\n",
      "\t\t\t-> debug_mode\n",
      "\t\t\t-> linearization_mode\n",
      "\t\t|_ SobieskiMission\n",
      "\t\t\t-> cache_file_path\n",
      "\t\t\t-> cache_type\n",
      "\t\t\t-> debug_mode\n",
      "\t\t\t-> linearization_mode\n"
     ]
    },
    {
     "data": {
      "text/plain": [
       "'Nodes representation for Treeview MyStudy\\n|_ MyStudy\\n\\t-> acceleration\\n\\t-> authorize_self_coupled_disciplines\\n\\t-> cache_file_path\\n\\t-> cache_type\\n\\t-> chain_linearize\\n\\t-> debug_mode\\n\\t-> epsilon0\\n\\t-> group_mda_disciplines\\n\\t-> linear_solver_MDA\\n\\t-> linear_solver_MDA_options\\n\\t-> linear_solver_MDA_preconditioner\\n\\t-> linear_solver_MDO\\n\\t-> linear_solver_MDO_options\\n\\t-> linear_solver_MDO_preconditioner\\n\\t-> linearization_mode\\n\\t-> max_mda_iter\\n\\t-> n_processes\\n\\t-> n_subcouplings_parallel\\n\\t-> relax_factor\\n\\t-> sub_mda_class\\n\\t-> tolerance\\n\\t-> tolerance_gs\\n\\t-> use_lu_fact\\n\\t-> warm_start\\n\\t-> warm_start_threshold\\n\\t-> x_1\\n\\t-> x_2\\n\\t-> y_12\\n\\t-> y_21\\n\\t-> y_31\\n\\t-> y_32\\n\\t-> y_34\\n\\t-> z\\n\\t<- g_1\\n\\t<- g_2\\n\\t<- residuals_history\\n\\t<- y_1\\n\\t<- y_11\\n\\t<- y_14\\n\\t<- y_2\\n\\t<- y_23\\n\\t<- y_24\\n\\t<- y_4\\n\\t|_ SobieskyCoupling\\n\\t\\t-> acceleration\\n\\t\\t-> authorize_self_coupled_disciplines\\n\\t\\t-> cache_file_path\\n\\t\\t-> cache_type\\n\\t\\t-> chain_linearize\\n\\t\\t-> debug_mode\\n\\t\\t-> epsilon0\\n\\t\\t-> group_mda_disciplines\\n\\t\\t-> linear_solver_MDA\\n\\t\\t-> linear_solver_MDA_options\\n\\t\\t-> linear_solver_MDA_preconditioner\\n\\t\\t-> linear_solver_MDO\\n\\t\\t-> linear_solver_MDO_options\\n\\t\\t-> linear_solver_MDO_preconditioner\\n\\t\\t-> linearization_mode\\n\\t\\t-> max_mda_iter\\n\\t\\t-> n_processes\\n\\t\\t-> n_subcouplings_parallel\\n\\t\\t-> relax_factor\\n\\t\\t-> sub_mda_class\\n\\t\\t-> tolerance\\n\\t\\t-> tolerance_gs\\n\\t\\t-> use_lu_fact\\n\\t\\t-> warm_start\\n\\t\\t-> warm_start_threshold\\n\\t\\t<- residuals_history\\n\\t\\t|_ SobieskiStructure\\n\\t\\t\\t-> cache_file_path\\n\\t\\t\\t-> cache_type\\n\\t\\t\\t-> debug_mode\\n\\t\\t\\t-> linearization_mode\\n\\t\\t|_ SobieskiAerodynamics\\n\\t\\t\\t-> cache_file_path\\n\\t\\t\\t-> cache_type\\n\\t\\t\\t-> debug_mode\\n\\t\\t\\t-> linearization_mode\\n\\t\\t|_ SobieskiMission\\n\\t\\t\\t-> cache_file_path\\n\\t\\t\\t-> cache_type\\n\\t\\t\\t-> debug_mode\\n\\t\\t\\t-> linearization_mode'"
      ]
     },
     "execution_count": 97,
     "metadata": {},
     "output_type": "execute_result"
    }
   ],
   "source": [
    "ee.display_treeview_nodes(True)"
   ]
  },
  {
   "cell_type": "code",
   "execution_count": 98,
   "id": "3cdbd5b2",
   "metadata": {},
   "outputs": [
    {
     "name": "stderr",
     "output_type": "stream",
     "text": [
      "INFO:SoS.EE:PROCESS EXECUTION MyStudy STARTS...\n",
      "INFO:SoS.EE.Coupling:MyStudy.SobieskyCoupling MDA history\n",
      "INFO:SoS.EE.Coupling:\tIt.\tRes. norm\n",
      "INFO:gemseo.mda.mda:\t1\t2.173919e+10\n",
      "INFO:gemseo.mda.mda:\t2\t3.668539e+09\n",
      "INFO:gemseo.mda.mda:\t3\t1.016098e+08\n",
      "INFO:gemseo.mda.mda:\t4\t1.860735e+05\n",
      "INFO:gemseo.mda.mda:\t5\t1.768542e+01\n",
      "INFO:gemseo.mda.mda:\t6\t4.916882e-04\n",
      "INFO:gemseo.mda.mda:\t7\t4.200776e-06\n",
      "INFO:gemseo.mda.mda:\t8\t0.000000e+00\n",
      "INFO:SoS.EE:PROCESS EXECUTION MyStudy ENDS.\n"
     ]
    },
    {
     "name": "stdout",
     "output_type": "stream",
     "text": [
      "{'MyStudy.x_1': [0.25, 1.0], 'MyStudy.y_21': array([12949.0434832]), 'MyStudy.y_31': [6354.32], 'MyStudy.z': [0.05, 45000, 1.6, 5.5, 55.0, 1000], 'MyStudy.x_2': [1.0], 'MyStudy.y_12': array([4.42517865e+04, 9.50000000e-01]), 'MyStudy.y_32': [12194.2], 'MyStudy.y_34': [1.1], 'MyStudy.y_1': array([4.42517865e+04, 7.30620262e+03, 9.50000000e-01]), 'MyStudy.y_11': array([0.18044962]), 'MyStudy.y_14': array([44251.78645414,  7306.20262124]), 'MyStudy.g_1': array([ 0.035     , -0.00666667, -0.0275    , -0.04      , -0.04833333,\n",
      "       -0.09      , -0.15      ]), 'MyStudy.y_2': array([4.42517865e+04, 1.29490435e+04, 3.41737878e+00]), 'MyStudy.y_24': array([3.41737878]), 'MyStudy.g_2': array([-0.04]), 'MyStudy.y_4': array([514.11217526])}\n"
     ]
    }
   ],
   "source": [
    "print(ee.execute())"
   ]
  },
  {
   "cell_type": "code",
   "execution_count": null,
   "id": "1cb7aacb",
   "metadata": {},
   "outputs": [],
   "source": []
  },
  {
   "cell_type": "code",
   "execution_count": null,
   "id": "25445d97",
   "metadata": {},
   "outputs": [],
   "source": []
  },
  {
   "cell_type": "code",
   "execution_count": null,
   "id": "d4922a64",
   "metadata": {},
   "outputs": [],
   "source": []
  },
  {
   "cell_type": "code",
   "execution_count": null,
   "id": "5a3f9109",
   "metadata": {},
   "outputs": [],
   "source": []
  },
  {
   "cell_type": "code",
   "execution_count": null,
   "id": "6ff0b644",
   "metadata": {},
   "outputs": [],
   "source": []
  }
 ],
 "metadata": {
  "kernelspec": {
   "display_name": "Python 3 (ipykernel)",
   "language": "python",
   "name": "python3"
  },
  "language_info": {
   "codemirror_mode": {
    "name": "ipython",
    "version": 3
   },
   "file_extension": ".py",
   "mimetype": "text/x-python",
   "name": "python",
   "nbconvert_exporter": "python",
   "pygments_lexer": "ipython3",
   "version": "3.9.7"
  }
 },
 "nbformat": 4,
 "nbformat_minor": 5
}
