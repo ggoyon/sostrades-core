{
 "cells": [
  {
   "cell_type": "code",
   "execution_count": 1,
   "id": "e668b41a",
   "metadata": {},
   "outputs": [],
   "source": [
    "if 0 :\n",
    "    %matplotlib inline\n",
    "else :\n",
    "    %matplotlib notebook"
   ]
  },
  {
   "cell_type": "markdown",
   "id": "b3f4409c",
   "metadata": {},
   "source": [
    "#  Import  libraries"
   ]
  },
  {
   "cell_type": "code",
   "execution_count": 2,
   "id": "765fed52",
   "metadata": {},
   "outputs": [
    {
     "name": "stdout",
     "output_type": "stream",
     "text": [
      "C:\\Users\\ng947ac\\Documents\\Daniel\\jupyter\\SoSTrades\\jupyter_doc\\_scripts\n",
      "C:\\Users\\ng947ac\\Documents\\Daniel\\git\\workspace\n",
      "C:\\Users\\ng947ac\\Documents\\Daniel\\git\\workspace\\sosgemseo\\src\\\n",
      "C:\\Users\\ng947ac\\Documents\\Daniel\\git\\workspace\\sostrades-core\n"
     ]
    }
   ],
   "source": [
    "import sys\n",
    "import os\n",
    "module_path = os.path.abspath('.') +\"\\\\_scripts\"\n",
    "print(module_path)\n",
    "\n",
    "if module_path not in sys.path:\n",
    "    sys.path.append(module_path)\n",
    "from _00_Import_packages_git3 import *"
   ]
  },
  {
   "cell_type": "code",
   "execution_count": 3,
   "id": "f59f4096",
   "metadata": {},
   "outputs": [],
   "source": [
    "from numpy import array\n",
    "import pandas as pd\n",
    "from sos_trades_core.execution_engine.execution_engine import ExecutionEngine\n",
    "from numpy.testing import assert_array_equal, assert_array_almost_equal  # @UnresolvedImport\n",
    "import os\n",
    "from gemseo.core.mdo_scenario import MDOScenario"
   ]
  },
  {
   "cell_type": "markdown",
   "id": "dffc465e",
   "metadata": {},
   "source": [
    "# SoSDoeScenario setUp"
   ]
  },
  {
   "cell_type": "code",
   "execution_count": 4,
   "id": "7e31db5b",
   "metadata": {},
   "outputs": [
    {
     "name": "stdout",
     "output_type": "stream",
     "text": [
      "DoEEval\n"
     ]
    }
   ],
   "source": [
    "study_name = 'doe'\n",
    "ns = f'{study_name}'\n",
    "sc_name = \"DoEEval\"\n",
    "#c_name = \"DiscAllTypes\"\n",
    "print(sc_name)"
   ]
  },
  {
   "cell_type": "markdown",
   "id": "1f185ea9",
   "metadata": {},
   "source": [
    "See §2 for Discipmline description"
   ]
  },
  {
   "cell_type": "code",
   "execution_count": 5,
   "id": "6491a38b",
   "metadata": {},
   "outputs": [],
   "source": [
    "dspace_dict_eval = {'variable': ['z', 'h'],\n",
    "               'lower_bnd': [0., [-10.,0.]],\n",
    "               'upper_bnd': [10., [10.,10.]],\n",
    "               'enable_variable': [True, True],\n",
    "               'activated_elem': [[True], [True, True]]}\n",
    "#                   'type' : ['float',['float','float'],'float','float']"
   ]
  },
  {
   "cell_type": "code",
   "execution_count": 6,
   "id": "f1594447",
   "metadata": {},
   "outputs": [
    {
     "data": {
      "text/html": [
       "<div>\n",
       "<style scoped>\n",
       "    .dataframe tbody tr th:only-of-type {\n",
       "        vertical-align: middle;\n",
       "    }\n",
       "\n",
       "    .dataframe tbody tr th {\n",
       "        vertical-align: top;\n",
       "    }\n",
       "\n",
       "    .dataframe thead th {\n",
       "        text-align: right;\n",
       "    }\n",
       "</style>\n",
       "<table border=\"1\" class=\"dataframe\">\n",
       "  <thead>\n",
       "    <tr style=\"text-align: right;\">\n",
       "      <th></th>\n",
       "      <th>variable</th>\n",
       "      <th>lower_bnd</th>\n",
       "      <th>upper_bnd</th>\n",
       "      <th>enable_variable</th>\n",
       "      <th>activated_elem</th>\n",
       "    </tr>\n",
       "  </thead>\n",
       "  <tbody>\n",
       "    <tr>\n",
       "      <th>0</th>\n",
       "      <td>z</td>\n",
       "      <td>0.0</td>\n",
       "      <td>10.0</td>\n",
       "      <td>True</td>\n",
       "      <td>[True]</td>\n",
       "    </tr>\n",
       "    <tr>\n",
       "      <th>1</th>\n",
       "      <td>h</td>\n",
       "      <td>[-10.0, 0.0]</td>\n",
       "      <td>[10.0, 10.0]</td>\n",
       "      <td>True</td>\n",
       "      <td>[True, True]</td>\n",
       "    </tr>\n",
       "  </tbody>\n",
       "</table>\n",
       "</div>"
      ],
      "text/plain": [
       "  variable     lower_bnd     upper_bnd  enable_variable activated_elem\n",
       "0        z           0.0          10.0             True         [True]\n",
       "1        h  [-10.0, 0.0]  [10.0, 10.0]             True   [True, True]"
      ]
     },
     "execution_count": 6,
     "metadata": {},
     "output_type": "execute_result"
    }
   ],
   "source": [
    "dspace_eval = pd.DataFrame(dspace_dict_eval)\n",
    "dspace_eval"
   ]
  },
  {
   "cell_type": "code",
   "execution_count": 7,
   "id": "49f5a9e4",
   "metadata": {},
   "outputs": [
    {
     "data": {
      "text/html": [
       "<div>\n",
       "<style scoped>\n",
       "    .dataframe tbody tr th:only-of-type {\n",
       "        vertical-align: middle;\n",
       "    }\n",
       "\n",
       "    .dataframe tbody tr th {\n",
       "        vertical-align: top;\n",
       "    }\n",
       "\n",
       "    .dataframe thead th {\n",
       "        text-align: right;\n",
       "    }\n",
       "</style>\n",
       "<table border=\"1\" class=\"dataframe\">\n",
       "  <thead>\n",
       "    <tr style=\"text-align: right;\">\n",
       "      <th></th>\n",
       "      <th>selected_input</th>\n",
       "      <th>full_name</th>\n",
       "    </tr>\n",
       "  </thead>\n",
       "  <tbody>\n",
       "    <tr>\n",
       "      <th>0</th>\n",
       "      <td>True</td>\n",
       "      <td>DoEEval.z</td>\n",
       "    </tr>\n",
       "    <tr>\n",
       "      <th>1</th>\n",
       "      <td>True</td>\n",
       "      <td>DoEEval.DiscAllTypes.h</td>\n",
       "    </tr>\n",
       "    <tr>\n",
       "      <th>2</th>\n",
       "      <td>False</td>\n",
       "      <td>DoEEval.DiscAllTypes.dict_in</td>\n",
       "    </tr>\n",
       "    <tr>\n",
       "      <th>3</th>\n",
       "      <td>False</td>\n",
       "      <td>DoEEval.DiscAllTypes.df_in</td>\n",
       "    </tr>\n",
       "    <tr>\n",
       "      <th>4</th>\n",
       "      <td>False</td>\n",
       "      <td>DoEEval.weather</td>\n",
       "    </tr>\n",
       "    <tr>\n",
       "      <th>5</th>\n",
       "      <td>False</td>\n",
       "      <td>DoEEval.DiscAllTypes.dict_of_dict_in</td>\n",
       "    </tr>\n",
       "    <tr>\n",
       "      <th>6</th>\n",
       "      <td>False</td>\n",
       "      <td>DoEEval.DiscAllTypes.dict_of_df_in</td>\n",
       "    </tr>\n",
       "  </tbody>\n",
       "</table>\n",
       "</div>"
      ],
      "text/plain": [
       "   selected_input                             full_name\n",
       "0            True                             DoEEval.z\n",
       "1            True                DoEEval.DiscAllTypes.h\n",
       "2           False          DoEEval.DiscAllTypes.dict_in\n",
       "3           False            DoEEval.DiscAllTypes.df_in\n",
       "4           False                       DoEEval.weather\n",
       "5           False  DoEEval.DiscAllTypes.dict_of_dict_in\n",
       "6           False    DoEEval.DiscAllTypes.dict_of_df_in"
      ]
     },
     "execution_count": 7,
     "metadata": {},
     "output_type": "execute_result"
    }
   ],
   "source": [
    "input_selection_z_h = {'selected_input': [True, True, False, False, False, False, False],\n",
    "                                   'full_name': ['DoEEval.z', \n",
    "                                                 'DoEEval.DiscAllTypes.h', \n",
    "                                                 'DoEEval.DiscAllTypes.dict_in',\n",
    "                                                 'DoEEval.DiscAllTypes.df_in',\n",
    "                                                 'DoEEval.weather',\n",
    "                                                 'DoEEval.DiscAllTypes.dict_of_dict_in',\n",
    "                                                 'DoEEval.DiscAllTypes.dict_of_df_in',                                                              \n",
    "                                                ]}\n",
    "input_selection_z_h = pd.DataFrame(input_selection_z_h)\n",
    "input_selection_z_h "
   ]
  },
  {
   "cell_type": "code",
   "execution_count": 8,
   "id": "0cf88ccf",
   "metadata": {},
   "outputs": [
    {
     "data": {
      "text/html": [
       "<div>\n",
       "<style scoped>\n",
       "    .dataframe tbody tr th:only-of-type {\n",
       "        vertical-align: middle;\n",
       "    }\n",
       "\n",
       "    .dataframe tbody tr th {\n",
       "        vertical-align: top;\n",
       "    }\n",
       "\n",
       "    .dataframe thead th {\n",
       "        text-align: right;\n",
       "    }\n",
       "</style>\n",
       "<table border=\"1\" class=\"dataframe\">\n",
       "  <thead>\n",
       "    <tr style=\"text-align: right;\">\n",
       "      <th></th>\n",
       "      <th>selected_output</th>\n",
       "      <th>full_name</th>\n",
       "    </tr>\n",
       "  </thead>\n",
       "  <tbody>\n",
       "    <tr>\n",
       "      <th>0</th>\n",
       "      <td>True</td>\n",
       "      <td>DoEEval.df_out</td>\n",
       "    </tr>\n",
       "    <tr>\n",
       "      <th>1</th>\n",
       "      <td>True</td>\n",
       "      <td>DoEEval.o</td>\n",
       "    </tr>\n",
       "    <tr>\n",
       "      <th>2</th>\n",
       "      <td>True</td>\n",
       "      <td>DoEEval.dict_out</td>\n",
       "    </tr>\n",
       "    <tr>\n",
       "      <th>3</th>\n",
       "      <td>False</td>\n",
       "      <td>DoEEval.residuals_history</td>\n",
       "    </tr>\n",
       "  </tbody>\n",
       "</table>\n",
       "</div>"
      ],
      "text/plain": [
       "   selected_output                  full_name\n",
       "0             True             DoEEval.df_out\n",
       "1             True                  DoEEval.o\n",
       "2             True           DoEEval.dict_out\n",
       "3            False  DoEEval.residuals_history"
      ]
     },
     "execution_count": 8,
     "metadata": {},
     "output_type": "execute_result"
    }
   ],
   "source": [
    "output_selection_o_df__out_dict__out = {'selected_output': [True, True, True, False],\n",
    "                                              'full_name': ['DoEEval.df_out', \n",
    "                                                            'DoEEval.o', \n",
    "                                                            'DoEEval.dict_out',\n",
    "                                                            'DoEEval.residuals_history']}\n",
    "output_selection_o_df__out_dict__out = pd.DataFrame(output_selection_o_df__out_dict__out)\n",
    "output_selection_o_df__out_dict__out"
   ]
  },
  {
   "cell_type": "code",
   "execution_count": 9,
   "id": "c2f7c314",
   "metadata": {},
   "outputs": [],
   "source": [
    "repo = 'sos_trades_core.sos_processes.test'\n",
    "proc_name = 'test_DiscAllTypes_doe_eval'"
   ]
  },
  {
   "cell_type": "markdown",
   "id": "15c0d86b",
   "metadata": {},
   "source": [
    "# Doe scenario execution"
   ]
  },
  {
   "cell_type": "markdown",
   "id": "a3d62527",
   "metadata": {},
   "source": [
    "# 1 Set Doe optim scenario lhs or fullfact"
   ]
  },
  {
   "cell_type": "code",
   "execution_count": 10,
   "id": "07993237",
   "metadata": {},
   "outputs": [
    {
     "data": {
      "text/plain": [
       "['CustomDOE',\n",
       " 'DiagonalDOE',\n",
       " 'OT_SOBOL',\n",
       " 'OT_RANDOM',\n",
       " 'OT_HASELGROVE',\n",
       " 'OT_REVERSE_HALTON',\n",
       " 'OT_HALTON',\n",
       " 'OT_FAURE',\n",
       " 'OT_MONTE_CARLO',\n",
       " 'OT_FACTORIAL',\n",
       " 'OT_COMPOSITE',\n",
       " 'OT_AXIAL',\n",
       " 'OT_OPT_LHS',\n",
       " 'OT_LHS',\n",
       " 'OT_LHSC',\n",
       " 'OT_FULLFACT',\n",
       " 'OT_SOBOL_INDICES',\n",
       " 'fullfact',\n",
       " 'ff2n',\n",
       " 'pbdesign',\n",
       " 'bbdesign',\n",
       " 'ccdesign',\n",
       " 'lhs']"
      ]
     },
     "execution_count": 10,
     "metadata": {},
     "output_type": "execute_result"
    }
   ],
   "source": [
    "from gemseo.api import (\n",
    "    configure_logger,\n",
    "    get_algorithm_options_schema,\n",
    "    get_available_doe_algorithms,\n",
    ")\n",
    "get_available_doe_algorithms()"
   ]
  },
  {
   "cell_type": "code",
   "execution_count": 11,
   "id": "4d3cc9a0",
   "metadata": {},
   "outputs": [],
   "source": [
    "#my_doe_algo = \"lhs\"\n",
    "my_doe_algo = \"fullfact\""
   ]
  },
  {
   "cell_type": "code",
   "execution_count": 12,
   "id": "5e8b2920",
   "metadata": {},
   "outputs": [
    {
     "name": "stderr",
     "output_type": "stream",
     "text": [
      "INFO:SoS.EE:configuring ...\n",
      "WARNING:gemseo.mda.mda_chain:No coupling in MDA, switching chain_linearize to True\n",
      "INFO:SoS.EE.Coupling:The MDA solver of the Coupling doe is set to MDAJacobi\n"
     ]
    }
   ],
   "source": [
    "exec_eng = ExecutionEngine(study_name)\n",
    "factory = exec_eng.factory\n",
    "builder = factory.get_builder_from_process(repo=repo,mod_id=proc_name)\n",
    "exec_eng.factory.set_builders_to_coupling_builder(builder)\n",
    "exec_eng.configure()"
   ]
  },
  {
   "cell_type": "code",
   "execution_count": 13,
   "id": "603209f3",
   "metadata": {},
   "outputs": [
    {
     "name": "stderr",
     "output_type": "stream",
     "text": [
      "INFO:SoS.EE:Nodes representation for Treeview doe\n",
      "|_ doe\n",
      "\t|_ DoEEval\n",
      "\t\t|_ DiscAllTypes\n"
     ]
    },
    {
     "data": {
      "text/plain": [
       "'Nodes representation for Treeview doe\\n|_ doe\\n\\t|_ DoEEval\\n\\t\\t|_ DiscAllTypes'"
      ]
     },
     "execution_count": 13,
     "metadata": {},
     "output_type": "execute_result"
    }
   ],
   "source": [
    "exec_eng.display_treeview_nodes()"
   ]
  },
  {
   "cell_type": "code",
   "execution_count": 14,
   "id": "240b826c",
   "metadata": {},
   "outputs": [
    {
     "name": "stderr",
     "output_type": "stream",
     "text": [
      "INFO:SoS.EE:Nodes representation for Treeview doe\n",
      "|_ doe\n",
      "\t-> acceleration\n",
      "\t-> authorize_self_coupled_disciplines\n",
      "\t-> cache_file_path\n",
      "\t-> cache_type\n",
      "\t-> chain_linearize\n",
      "\t-> debug_mode\n",
      "\t-> epsilon0\n",
      "\t-> group_mda_disciplines\n",
      "\t-> linear_solver_MDA\n",
      "\t-> linear_solver_MDA_options\n",
      "\t-> linear_solver_MDA_preconditioner\n",
      "\t-> linear_solver_MDO\n",
      "\t-> linear_solver_MDO_options\n",
      "\t-> linear_solver_MDO_preconditioner\n",
      "\t-> linearization_mode\n",
      "\t-> max_mda_iter\n",
      "\t-> n_processes\n",
      "\t-> n_subcouplings_parallel\n",
      "\t-> relax_factor\n",
      "\t-> sub_mda_class\n",
      "\t-> tolerance\n",
      "\t-> tolerance_gs\n",
      "\t-> use_lu_fact\n",
      "\t-> warm_start\n",
      "\t-> warm_start_threshold\n",
      "\t<- residuals_history\n",
      "\t|_ DoEEval\n",
      "\t\t-> cache_file_path\n",
      "\t\t-> cache_type\n",
      "\t\t-> debug_mode\n",
      "\t\t-> eval_inputs\n",
      "\t\t-> eval_outputs\n",
      "\t\t-> linearization_mode\n",
      "\t\t-> n_processes\n",
      "\t\t-> sampling_algo\n",
      "\t\t-> wait_time_between_fork\n",
      "\t\t-> weather\n",
      "\t\t-> z\n",
      "\t\t<- df_out\n",
      "\t\t<- dict_out\n",
      "\t\t<- doe_samples_dataframe\n",
      "\t\t<- o\n",
      "\t\t|_ DiscAllTypes\n",
      "\t\t\t-> cache_file_path\n",
      "\t\t\t-> cache_type\n",
      "\t\t\t-> debug_mode\n",
      "\t\t\t-> df_in\n",
      "\t\t\t-> dict_in\n",
      "\t\t\t-> dict_of_df_in\n",
      "\t\t\t-> dict_of_dict_in\n",
      "\t\t\t-> h\n",
      "\t\t\t-> linearization_mode\n"
     ]
    },
    {
     "data": {
      "text/plain": [
       "'Nodes representation for Treeview doe\\n|_ doe\\n\\t-> acceleration\\n\\t-> authorize_self_coupled_disciplines\\n\\t-> cache_file_path\\n\\t-> cache_type\\n\\t-> chain_linearize\\n\\t-> debug_mode\\n\\t-> epsilon0\\n\\t-> group_mda_disciplines\\n\\t-> linear_solver_MDA\\n\\t-> linear_solver_MDA_options\\n\\t-> linear_solver_MDA_preconditioner\\n\\t-> linear_solver_MDO\\n\\t-> linear_solver_MDO_options\\n\\t-> linear_solver_MDO_preconditioner\\n\\t-> linearization_mode\\n\\t-> max_mda_iter\\n\\t-> n_processes\\n\\t-> n_subcouplings_parallel\\n\\t-> relax_factor\\n\\t-> sub_mda_class\\n\\t-> tolerance\\n\\t-> tolerance_gs\\n\\t-> use_lu_fact\\n\\t-> warm_start\\n\\t-> warm_start_threshold\\n\\t<- residuals_history\\n\\t|_ DoEEval\\n\\t\\t-> cache_file_path\\n\\t\\t-> cache_type\\n\\t\\t-> debug_mode\\n\\t\\t-> eval_inputs\\n\\t\\t-> eval_outputs\\n\\t\\t-> linearization_mode\\n\\t\\t-> n_processes\\n\\t\\t-> sampling_algo\\n\\t\\t-> wait_time_between_fork\\n\\t\\t-> weather\\n\\t\\t-> z\\n\\t\\t<- df_out\\n\\t\\t<- dict_out\\n\\t\\t<- doe_samples_dataframe\\n\\t\\t<- o\\n\\t\\t|_ DiscAllTypes\\n\\t\\t\\t-> cache_file_path\\n\\t\\t\\t-> cache_type\\n\\t\\t\\t-> debug_mode\\n\\t\\t\\t-> df_in\\n\\t\\t\\t-> dict_in\\n\\t\\t\\t-> dict_of_df_in\\n\\t\\t\\t-> dict_of_dict_in\\n\\t\\t\\t-> h\\n\\t\\t\\t-> linearization_mode'"
      ]
     },
     "execution_count": 14,
     "metadata": {},
     "output_type": "execute_result"
    }
   ],
   "source": [
    "exec_eng.display_treeview_nodes(True)"
   ]
  },
  {
   "cell_type": "code",
   "execution_count": 15,
   "id": "d4cd4c8a",
   "metadata": {},
   "outputs": [
    {
     "data": {
      "text/plain": [
       "'MDAJacobi'"
      ]
     },
     "execution_count": 15,
     "metadata": {},
     "output_type": "execute_result"
    }
   ],
   "source": [
    "exec_eng.dm.get_data('doe.sub_mda_class')['value']"
   ]
  },
  {
   "cell_type": "markdown",
   "id": "2e0afe56",
   "metadata": {},
   "source": [
    "Possible algo options:"
   ]
  },
  {
   "cell_type": "code",
   "execution_count": 16,
   "id": "a5efd6cd",
   "metadata": {},
   "outputs": [
    {
     "name": "stdout",
     "output_type": "stream",
     "text": [
      "['n_samples', 'levels', 'eval_jac', 'n_processes', 'wait_time_between_samples', 'max_time']\n"
     ]
    }
   ],
   "source": [
    "from gemseo.algos.doe.doe_factory import DOEFactory\n",
    "driver_lib = DOEFactory().create(my_doe_algo)\n",
    "driver_lib.init_options_grammar(my_doe_algo)\n",
    "algo_options_keys = list(driver_lib.opt_grammar.properties_dict.keys())\n",
    "print(algo_options_keys)"
   ]
  },
  {
   "cell_type": "code",
   "execution_count": 17,
   "id": "dc855073",
   "metadata": {},
   "outputs": [
    {
     "data": {
      "text/plain": [
       "['n_samples',\n",
       " 'levels',\n",
       " 'eval_jac',\n",
       " 'n_processes',\n",
       " 'wait_time_between_samples',\n",
       " 'max_time']"
      ]
     },
     "execution_count": 17,
     "metadata": {},
     "output_type": "execute_result"
    }
   ],
   "source": [
    "schema_dict = driver_lib.opt_grammar.schema.to_dict()\n",
    "properties = schema_dict.get(driver_lib.opt_grammar.PROPERTIES_FIELD)\n",
    "algo_options_keys = list(properties.keys()) \n",
    "algo_options_keys"
   ]
  },
  {
   "cell_type": "code",
   "execution_count": 18,
   "id": "658c1cf7",
   "metadata": {},
   "outputs": [
    {
     "data": {
      "text/plain": [
       "{'doe.DoEEval.sampling_algo': 'fullfact',\n",
       " 'doe.DoEEval.design_space':   variable     lower_bnd     upper_bnd  enable_variable activated_elem\n",
       " 0        z           0.0          10.0             True         [True]\n",
       " 1        h  [-10.0, 0.0]  [10.0, 10.0]             True   [True, True],\n",
       " 'doe.DoEEval.algo_options': {'n_samples': 100, 'fake_option': 'fake_option'},\n",
       " 'doe.DoEEval.eval_inputs':    selected_input                             full_name\n",
       " 0            True                             DoEEval.z\n",
       " 1            True                DoEEval.DiscAllTypes.h\n",
       " 2           False          DoEEval.DiscAllTypes.dict_in\n",
       " 3           False            DoEEval.DiscAllTypes.df_in\n",
       " 4           False                       DoEEval.weather\n",
       " 5           False  DoEEval.DiscAllTypes.dict_of_dict_in\n",
       " 6           False    DoEEval.DiscAllTypes.dict_of_df_in,\n",
       " 'doe.DoEEval.eval_outputs':    selected_output                  full_name\n",
       " 0             True             DoEEval.df_out\n",
       " 1             True                  DoEEval.o\n",
       " 2             True           DoEEval.dict_out\n",
       " 3            False  DoEEval.residuals_history}"
      ]
     },
     "execution_count": 18,
     "metadata": {},
     "output_type": "execute_result"
    }
   ],
   "source": [
    "#-- set up disciplines in Scenario\n",
    "disc_dict = {}\n",
    "# Doe inputs\n",
    "# 'lhs', 'CustomDOE', 'fullfact', ...\n",
    "n_samples = 100\n",
    "disc_dict[f'{ns}.{sc_name}.sampling_algo'] = my_doe_algo\n",
    "disc_dict[f'{ns}.{sc_name}.design_space'] = dspace_eval\n",
    "disc_dict[f'{ns}.{sc_name}.algo_options'] = {'n_samples': n_samples, 'fake_option': 'fake_option'}\n",
    "disc_dict[f'{ns}.{sc_name}.eval_inputs'] = input_selection_z_h\n",
    "disc_dict[f'{ns}.{sc_name}.eval_outputs'] = output_selection_o_df__out_dict__out\n",
    "\n",
    "\n",
    "disc_dict"
   ]
  },
  {
   "cell_type": "code",
   "execution_count": 19,
   "id": "c782484c",
   "metadata": {},
   "outputs": [
    {
     "data": {
      "text/html": [
       "<div>\n",
       "<style scoped>\n",
       "    .dataframe tbody tr th:only-of-type {\n",
       "        vertical-align: middle;\n",
       "    }\n",
       "\n",
       "    .dataframe tbody tr th {\n",
       "        vertical-align: top;\n",
       "    }\n",
       "\n",
       "    .dataframe thead th {\n",
       "        text-align: right;\n",
       "    }\n",
       "</style>\n",
       "<table border=\"1\" class=\"dataframe\">\n",
       "  <thead>\n",
       "    <tr style=\"text-align: right;\">\n",
       "      <th></th>\n",
       "      <th>0</th>\n",
       "    </tr>\n",
       "  </thead>\n",
       "  <tbody>\n",
       "    <tr>\n",
       "      <th>doe.DoEEval.sampling_algo</th>\n",
       "      <td>fullfact</td>\n",
       "    </tr>\n",
       "    <tr>\n",
       "      <th>doe.DoEEval.design_space</th>\n",
       "      <td>variable     lower_bnd     upper_bnd  enable...</td>\n",
       "    </tr>\n",
       "    <tr>\n",
       "      <th>doe.DoEEval.algo_options</th>\n",
       "      <td>{'n_samples': 100, 'fake_option': 'fake_option'}</td>\n",
       "    </tr>\n",
       "    <tr>\n",
       "      <th>doe.DoEEval.eval_inputs</th>\n",
       "      <td>selected_input                             ...</td>\n",
       "    </tr>\n",
       "    <tr>\n",
       "      <th>doe.DoEEval.eval_outputs</th>\n",
       "      <td>selected_output                  full_name\n",
       "...</td>\n",
       "    </tr>\n",
       "  </tbody>\n",
       "</table>\n",
       "</div>"
      ],
      "text/plain": [
       "                                                                           0\n",
       "doe.DoEEval.sampling_algo                                           fullfact\n",
       "doe.DoEEval.design_space     variable     lower_bnd     upper_bnd  enable...\n",
       "doe.DoEEval.algo_options    {'n_samples': 100, 'fake_option': 'fake_option'}\n",
       "doe.DoEEval.eval_inputs       selected_input                             ...\n",
       "doe.DoEEval.eval_outputs      selected_output                  full_name\n",
       "..."
      ]
     },
     "execution_count": 19,
     "metadata": {},
     "output_type": "execute_result"
    }
   ],
   "source": [
    "#my_dict = exec_eng.get_anonimated_data_dict()\n",
    "pd.DataFrame.from_dict(disc_dict,orient='index')"
   ]
  },
  {
   "cell_type": "code",
   "execution_count": 20,
   "id": "20e79291",
   "metadata": {},
   "outputs": [
    {
     "name": "stderr",
     "output_type": "stream",
     "text": [
      "INFO:SoS.EE:configuring ...\n",
      "INFO:SoS.EE:configuring ...\n",
      "INFO:SoS.EE:configuring ...\n",
      "WARNING:gemseo.mda.mda_chain:No coupling in MDA, switching chain_linearize to True\n",
      "INFO:SoS.EE.Coupling:The MDA solver of the Coupling doe is set to MDAJacobi\n",
      "ERROR:SoS.EE.DataManager:Variable: doe.DoEEval.DiscAllTypes.h value is not set!\n",
      "ERROR:SoS.EE.DataManager:Variable: doe.DoEEval.DiscAllTypes.dict_in value is not set!\n",
      "ERROR:SoS.EE.DataManager:Variable: doe.DoEEval.DiscAllTypes.df_in value is not set!\n",
      "ERROR:SoS.EE.DataManager:Variable: doe.DoEEval.DiscAllTypes.dict_of_dict_in value is not set!\n",
      "ERROR:SoS.EE.DataManager:Variable: doe.DoEEval.DiscAllTypes.dict_of_df_in value is not set!\n"
     ]
    }
   ],
   "source": [
    "#exec_eng.dm.set_values_from_dict(disc_dict) #KO!\n",
    "exec_eng.load_study_from_input_dict(disc_dict)"
   ]
  },
  {
   "cell_type": "markdown",
   "id": "3d091459",
   "metadata": {},
   "source": [
    "# 2 Display Disciplines I/O variables"
   ]
  },
  {
   "cell_type": "code",
   "execution_count": 21,
   "id": "8add250d",
   "metadata": {},
   "outputs": [],
   "source": [
    "disc = exec_eng.dm.get_disciplines_with_name(\"doe.\" + \"DoEEval.DiscAllTypes\")[0]"
   ]
  },
  {
   "cell_type": "code",
   "execution_count": 22,
   "id": "0463f5e9",
   "metadata": {},
   "outputs": [
    {
     "data": {
      "text/plain": [
       "sos_trades_core.sos_wrapping.test_discs.disc_all_types.DiscAllTypes"
      ]
     },
     "execution_count": 22,
     "metadata": {},
     "output_type": "execute_result"
    }
   ],
   "source": [
    "type(disc)"
   ]
  },
  {
   "cell_type": "code",
   "execution_count": 23,
   "id": "173e9156",
   "metadata": {},
   "outputs": [],
   "source": [
    "DESC_IN = disc.DESC_IN\n",
    "DESC_OUT = disc.DESC_OUT\n",
    "DESC_IN_df = pd.DataFrame.from_dict(DESC_IN,orient='index')\n",
    "DESC_OUT_df = pd.DataFrame.from_dict(DESC_OUT,orient='index')"
   ]
  },
  {
   "cell_type": "code",
   "execution_count": 24,
   "id": "b503c7fa",
   "metadata": {},
   "outputs": [
    {
     "data": {
      "text/html": [
       "<div>\n",
       "<style scoped>\n",
       "    .dataframe tbody tr th:only-of-type {\n",
       "        vertical-align: middle;\n",
       "    }\n",
       "\n",
       "    .dataframe tbody tr th {\n",
       "        vertical-align: top;\n",
       "    }\n",
       "\n",
       "    .dataframe thead th {\n",
       "        text-align: right;\n",
       "    }\n",
       "</style>\n",
       "<table border=\"1\" class=\"dataframe\">\n",
       "  <thead>\n",
       "    <tr style=\"text-align: right;\">\n",
       "      <th></th>\n",
       "      <th>type</th>\n",
       "      <th>default</th>\n",
       "      <th>unit</th>\n",
       "      <th>user_level</th>\n",
       "      <th>visibility</th>\n",
       "      <th>namespace</th>\n",
       "    </tr>\n",
       "  </thead>\n",
       "  <tbody>\n",
       "    <tr>\n",
       "      <th>z</th>\n",
       "      <td>float</td>\n",
       "      <td>90.0</td>\n",
       "      <td>kg</td>\n",
       "      <td>1</td>\n",
       "      <td>Shared</td>\n",
       "      <td>ns_test</td>\n",
       "    </tr>\n",
       "    <tr>\n",
       "      <th>h</th>\n",
       "      <td>array</td>\n",
       "      <td>NaN</td>\n",
       "      <td>kg</td>\n",
       "      <td>1</td>\n",
       "      <td>NaN</td>\n",
       "      <td>NaN</td>\n",
       "    </tr>\n",
       "    <tr>\n",
       "      <th>dict_in</th>\n",
       "      <td>dict</td>\n",
       "      <td>NaN</td>\n",
       "      <td>kg</td>\n",
       "      <td>1</td>\n",
       "      <td>NaN</td>\n",
       "      <td>NaN</td>\n",
       "    </tr>\n",
       "    <tr>\n",
       "      <th>df_in</th>\n",
       "      <td>dataframe</td>\n",
       "      <td>NaN</td>\n",
       "      <td>kg</td>\n",
       "      <td>1</td>\n",
       "      <td>NaN</td>\n",
       "      <td>NaN</td>\n",
       "    </tr>\n",
       "    <tr>\n",
       "      <th>weather</th>\n",
       "      <td>string</td>\n",
       "      <td>cloudy, it is Toulouse ...</td>\n",
       "      <td>NaN</td>\n",
       "      <td>1</td>\n",
       "      <td>Shared</td>\n",
       "      <td>ns_test</td>\n",
       "    </tr>\n",
       "    <tr>\n",
       "      <th>dict_of_dict_in</th>\n",
       "      <td>dict</td>\n",
       "      <td>NaN</td>\n",
       "      <td>NaN</td>\n",
       "      <td>1</td>\n",
       "      <td>NaN</td>\n",
       "      <td>NaN</td>\n",
       "    </tr>\n",
       "    <tr>\n",
       "      <th>dict_of_df_in</th>\n",
       "      <td>dict</td>\n",
       "      <td>NaN</td>\n",
       "      <td>NaN</td>\n",
       "      <td>1</td>\n",
       "      <td>NaN</td>\n",
       "      <td>NaN</td>\n",
       "    </tr>\n",
       "  </tbody>\n",
       "</table>\n",
       "</div>"
      ],
      "text/plain": [
       "                      type                     default unit  user_level  \\\n",
       "z                    float                        90.0   kg           1   \n",
       "h                    array                         NaN   kg           1   \n",
       "dict_in               dict                         NaN   kg           1   \n",
       "df_in            dataframe                         NaN   kg           1   \n",
       "weather             string  cloudy, it is Toulouse ...  NaN           1   \n",
       "dict_of_dict_in       dict                         NaN  NaN           1   \n",
       "dict_of_df_in         dict                         NaN  NaN           1   \n",
       "\n",
       "                visibility namespace  \n",
       "z                   Shared   ns_test  \n",
       "h                      NaN       NaN  \n",
       "dict_in                NaN       NaN  \n",
       "df_in                  NaN       NaN  \n",
       "weather             Shared   ns_test  \n",
       "dict_of_dict_in        NaN       NaN  \n",
       "dict_of_df_in          NaN       NaN  "
      ]
     },
     "execution_count": 24,
     "metadata": {},
     "output_type": "execute_result"
    }
   ],
   "source": [
    "DESC_IN_df"
   ]
  },
  {
   "cell_type": "code",
   "execution_count": 25,
   "id": "4f63fa85",
   "metadata": {},
   "outputs": [
    {
     "data": {
      "text/html": [
       "<div>\n",
       "<style scoped>\n",
       "    .dataframe tbody tr th:only-of-type {\n",
       "        vertical-align: middle;\n",
       "    }\n",
       "\n",
       "    .dataframe tbody tr th {\n",
       "        vertical-align: top;\n",
       "    }\n",
       "\n",
       "    .dataframe thead th {\n",
       "        text-align: right;\n",
       "    }\n",
       "</style>\n",
       "<table border=\"1\" class=\"dataframe\">\n",
       "  <thead>\n",
       "    <tr style=\"text-align: right;\">\n",
       "      <th></th>\n",
       "      <th>type</th>\n",
       "      <th>unit</th>\n",
       "      <th>user_level</th>\n",
       "      <th>visibility</th>\n",
       "      <th>namespace</th>\n",
       "    </tr>\n",
       "  </thead>\n",
       "  <tbody>\n",
       "    <tr>\n",
       "      <th>df_out</th>\n",
       "      <td>dataframe</td>\n",
       "      <td>kg</td>\n",
       "      <td>1</td>\n",
       "      <td>Shared</td>\n",
       "      <td>ns_test</td>\n",
       "    </tr>\n",
       "    <tr>\n",
       "      <th>o</th>\n",
       "      <td>array</td>\n",
       "      <td>kg</td>\n",
       "      <td>1</td>\n",
       "      <td>Shared</td>\n",
       "      <td>ns_test</td>\n",
       "    </tr>\n",
       "    <tr>\n",
       "      <th>dict_out</th>\n",
       "      <td>dict</td>\n",
       "      <td>kg</td>\n",
       "      <td>1</td>\n",
       "      <td>Shared</td>\n",
       "      <td>ns_test</td>\n",
       "    </tr>\n",
       "  </tbody>\n",
       "</table>\n",
       "</div>"
      ],
      "text/plain": [
       "               type unit  user_level visibility namespace\n",
       "df_out    dataframe   kg           1     Shared   ns_test\n",
       "o             array   kg           1     Shared   ns_test\n",
       "dict_out       dict   kg           1     Shared   ns_test"
      ]
     },
     "execution_count": 25,
     "metadata": {},
     "output_type": "execute_result"
    }
   ],
   "source": [
    "DESC_OUT_df"
   ]
  },
  {
   "cell_type": "markdown",
   "id": "3d46d809",
   "metadata": {},
   "source": [
    "# 3 Provide Discipline inputs"
   ]
  },
  {
   "cell_type": "code",
   "execution_count": 26,
   "id": "8a327d5c",
   "metadata": {},
   "outputs": [
    {
     "data": {
      "text/plain": [
       "array([0., 0., 0., 0.])"
      ]
     },
     "execution_count": 26,
     "metadata": {},
     "output_type": "execute_result"
    }
   ],
   "source": [
    "h_data = array([0., 0., 0., 0.])\n",
    "h_data"
   ]
  },
  {
   "cell_type": "code",
   "execution_count": 27,
   "id": "6971e49a",
   "metadata": {},
   "outputs": [
    {
     "data": {
      "text/plain": [
       "{'key0': 0.0, 'key1': 0.0}"
      ]
     },
     "execution_count": 27,
     "metadata": {},
     "output_type": "execute_result"
    }
   ],
   "source": [
    "dict_in_data = {'key0': 0., 'key1': 0.}\n",
    "dict_in_data"
   ]
  },
  {
   "cell_type": "code",
   "execution_count": 28,
   "id": "c74d65ec",
   "metadata": {},
   "outputs": [
    {
     "data": {
      "text/html": [
       "<div>\n",
       "<style scoped>\n",
       "    .dataframe tbody tr th:only-of-type {\n",
       "        vertical-align: middle;\n",
       "    }\n",
       "\n",
       "    .dataframe tbody tr th {\n",
       "        vertical-align: top;\n",
       "    }\n",
       "\n",
       "    .dataframe thead th {\n",
       "        text-align: right;\n",
       "    }\n",
       "</style>\n",
       "<table border=\"1\" class=\"dataframe\">\n",
       "  <thead>\n",
       "    <tr style=\"text-align: right;\">\n",
       "      <th></th>\n",
       "      <th>variable</th>\n",
       "      <th>c2</th>\n",
       "      <th>c3</th>\n",
       "    </tr>\n",
       "  </thead>\n",
       "  <tbody>\n",
       "    <tr>\n",
       "      <th>0</th>\n",
       "      <td>0.0</td>\n",
       "      <td>1.0</td>\n",
       "      <td>2.0</td>\n",
       "    </tr>\n",
       "    <tr>\n",
       "      <th>1</th>\n",
       "      <td>0.1</td>\n",
       "      <td>1.1</td>\n",
       "      <td>2.1</td>\n",
       "    </tr>\n",
       "    <tr>\n",
       "      <th>2</th>\n",
       "      <td>0.2</td>\n",
       "      <td>1.2</td>\n",
       "      <td>2.2</td>\n",
       "    </tr>\n",
       "    <tr>\n",
       "      <th>3</th>\n",
       "      <td>-9.0</td>\n",
       "      <td>-8.7</td>\n",
       "      <td>1000.0</td>\n",
       "    </tr>\n",
       "  </tbody>\n",
       "</table>\n",
       "</div>"
      ],
      "text/plain": [
       "   variable   c2      c3\n",
       "0       0.0  1.0     2.0\n",
       "1       0.1  1.1     2.1\n",
       "2       0.2  1.2     2.2\n",
       "3      -9.0 -8.7  1000.0"
      ]
     },
     "execution_count": 28,
     "metadata": {},
     "output_type": "execute_result"
    }
   ],
   "source": [
    "df_in_data = pd.DataFrame(array([[0.0, 1.0, 2.0], [0.1, 1.1, 2.1],\n",
    "                             [0.2, 1.2, 2.2], [-9., -8.7, 1e3]]),\n",
    "                            columns=['variable', 'c2', 'c3'])\n",
    "df_in_data"
   ]
  },
  {
   "cell_type": "code",
   "execution_count": 29,
   "id": "c83deea9",
   "metadata": {},
   "outputs": [],
   "source": [
    "weather_data = 'cloudy, it is Toulouse ...'"
   ]
  },
  {
   "cell_type": "code",
   "execution_count": 30,
   "id": "847834e0",
   "metadata": {},
   "outputs": [
    {
     "data": {
      "text/plain": [
       "{'key_A': {'subKey1': 0.1234, 'subKey2': 111.111, 'subKey3': 2036},\n",
       " 'key_B': {'subKey1': 1.2345, 'subKey2': 222.222, 'subKey3': 2036}}"
      ]
     },
     "execution_count": 30,
     "metadata": {},
     "output_type": "execute_result"
    }
   ],
   "source": [
    "dict_of_dict_in_data = {'key_A': {'subKey1': 0.1234, 'subKey2': 111.111, 'subKey3': 2036},\n",
    "                         'key_B': {'subKey1': 1.2345, 'subKey2': 222.222, 'subKey3': 2036}}\n",
    "dict_of_dict_in_data"
   ]
  },
  {
   "cell_type": "code",
   "execution_count": 31,
   "id": "ef54f6da",
   "metadata": {},
   "outputs": [
    {
     "data": {
      "text/html": [
       "<div>\n",
       "<style scoped>\n",
       "    .dataframe tbody tr th:only-of-type {\n",
       "        vertical-align: middle;\n",
       "    }\n",
       "\n",
       "    .dataframe tbody tr th {\n",
       "        vertical-align: top;\n",
       "    }\n",
       "\n",
       "    .dataframe thead th {\n",
       "        text-align: right;\n",
       "    }\n",
       "</style>\n",
       "<table border=\"1\" class=\"dataframe\">\n",
       "  <thead>\n",
       "    <tr style=\"text-align: right;\">\n",
       "      <th></th>\n",
       "      <th>key1</th>\n",
       "      <th>key2</th>\n",
       "      <th>key3</th>\n",
       "      <th>key4</th>\n",
       "    </tr>\n",
       "  </thead>\n",
       "  <tbody>\n",
       "    <tr>\n",
       "      <th>0</th>\n",
       "      <td>5.000000</td>\n",
       "      <td>-0.050000</td>\n",
       "      <td>500000.0</td>\n",
       "      <td>3125.0000</td>\n",
       "    </tr>\n",
       "    <tr>\n",
       "      <th>1</th>\n",
       "      <td>2.900000</td>\n",
       "      <td>1.000000</td>\n",
       "      <td>0.0</td>\n",
       "      <td>-209.1000</td>\n",
       "    </tr>\n",
       "    <tr>\n",
       "      <th>2</th>\n",
       "      <td>0.000007</td>\n",
       "      <td>666.666667</td>\n",
       "      <td>17.0</td>\n",
       "      <td>3.1416</td>\n",
       "    </tr>\n",
       "    <tr>\n",
       "      <th>3</th>\n",
       "      <td>-19.000000</td>\n",
       "      <td>-2.000000</td>\n",
       "      <td>-1000.0</td>\n",
       "      <td>6.6000</td>\n",
       "    </tr>\n",
       "  </tbody>\n",
       "</table>\n",
       "</div>"
      ],
      "text/plain": [
       "        key1        key2      key3       key4\n",
       "0   5.000000   -0.050000  500000.0  3125.0000\n",
       "1   2.900000    1.000000       0.0  -209.1000\n",
       "2   0.000007  666.666667      17.0     3.1416\n",
       "3 -19.000000   -2.000000   -1000.0     6.6000"
      ]
     },
     "execution_count": 31,
     "metadata": {},
     "output_type": "execute_result"
    }
   ],
   "source": [
    "a_df = pd.DataFrame(array([[5., -.05, 5.e5, 5.**5], [2.9, 1., 0., -209.1],\n",
    "                    [0.7e-5, 2e3 / 3, 17., 3.1416], [-19., -2., -1e3, 6.6]]),\n",
    "                     columns=['key1', 'key2', 'key3', 'key4'])\n",
    "a_df"
   ]
  },
  {
   "cell_type": "code",
   "execution_count": 32,
   "id": "3cd13e33",
   "metadata": {},
   "outputs": [
    {
     "data": {
      "text/plain": [
       "{'key_C':         key1        key2      key3       key4\n",
       " 0   5.000000   -0.050000  500000.0  3125.0000\n",
       " 1   2.900000    1.000000       0.0  -209.1000\n",
       " 2   0.000007  666.666667      17.0     3.1416\n",
       " 3 -19.000000   -2.000000   -1000.0     6.6000,\n",
       " 'key_D':         key1        key2          key3         key4\n",
       " 0  15.708000    -0.15708  1.570800e+06  9817.500000\n",
       " 1   9.110640     3.14160  0.000000e+00  -656.908560\n",
       " 2   0.000022  2094.40000  5.340720e+01     9.869651\n",
       " 3 -59.690400    -6.28320 -3.141600e+03    20.734560}"
      ]
     },
     "execution_count": 32,
     "metadata": {},
     "output_type": "execute_result"
    }
   ],
   "source": [
    "dict_of_df_in_data = {'key_C': a_df,\n",
    "                      'key_D': a_df * 3.1416}\n",
    "dict_of_df_in_data "
   ]
  },
  {
   "cell_type": "code",
   "execution_count": 33,
   "id": "470e2dab",
   "metadata": {},
   "outputs": [
    {
     "data": {
      "text/html": [
       "<div>\n",
       "<style scoped>\n",
       "    .dataframe tbody tr th:only-of-type {\n",
       "        vertical-align: middle;\n",
       "    }\n",
       "\n",
       "    .dataframe tbody tr th {\n",
       "        vertical-align: top;\n",
       "    }\n",
       "\n",
       "    .dataframe thead th {\n",
       "        text-align: right;\n",
       "    }\n",
       "</style>\n",
       "<table border=\"1\" class=\"dataframe\">\n",
       "  <thead>\n",
       "    <tr style=\"text-align: right;\">\n",
       "      <th></th>\n",
       "      <th>key1</th>\n",
       "      <th>key2</th>\n",
       "      <th>key3</th>\n",
       "      <th>key4</th>\n",
       "    </tr>\n",
       "  </thead>\n",
       "  <tbody>\n",
       "    <tr>\n",
       "      <th>0</th>\n",
       "      <td>5.000000</td>\n",
       "      <td>-0.050000</td>\n",
       "      <td>500000.0</td>\n",
       "      <td>3125.0000</td>\n",
       "    </tr>\n",
       "    <tr>\n",
       "      <th>1</th>\n",
       "      <td>2.900000</td>\n",
       "      <td>1.000000</td>\n",
       "      <td>0.0</td>\n",
       "      <td>-209.1000</td>\n",
       "    </tr>\n",
       "    <tr>\n",
       "      <th>2</th>\n",
       "      <td>0.000007</td>\n",
       "      <td>666.666667</td>\n",
       "      <td>17.0</td>\n",
       "      <td>3.1416</td>\n",
       "    </tr>\n",
       "    <tr>\n",
       "      <th>3</th>\n",
       "      <td>-19.000000</td>\n",
       "      <td>-2.000000</td>\n",
       "      <td>-1000.0</td>\n",
       "      <td>6.6000</td>\n",
       "    </tr>\n",
       "  </tbody>\n",
       "</table>\n",
       "</div>"
      ],
      "text/plain": [
       "        key1        key2      key3       key4\n",
       "0   5.000000   -0.050000  500000.0  3125.0000\n",
       "1   2.900000    1.000000       0.0  -209.1000\n",
       "2   0.000007  666.666667      17.0     3.1416\n",
       "3 -19.000000   -2.000000   -1000.0     6.6000"
      ]
     },
     "execution_count": 33,
     "metadata": {},
     "output_type": "execute_result"
    }
   ],
   "source": [
    "dict_of_df_in_data['key_C']"
   ]
  },
  {
   "cell_type": "code",
   "execution_count": 34,
   "id": "6624669a",
   "metadata": {},
   "outputs": [
    {
     "data": {
      "text/html": [
       "<div>\n",
       "<style scoped>\n",
       "    .dataframe tbody tr th:only-of-type {\n",
       "        vertical-align: middle;\n",
       "    }\n",
       "\n",
       "    .dataframe tbody tr th {\n",
       "        vertical-align: top;\n",
       "    }\n",
       "\n",
       "    .dataframe thead th {\n",
       "        text-align: right;\n",
       "    }\n",
       "</style>\n",
       "<table border=\"1\" class=\"dataframe\">\n",
       "  <thead>\n",
       "    <tr style=\"text-align: right;\">\n",
       "      <th></th>\n",
       "      <th>key1</th>\n",
       "      <th>key2</th>\n",
       "      <th>key3</th>\n",
       "      <th>key4</th>\n",
       "    </tr>\n",
       "  </thead>\n",
       "  <tbody>\n",
       "    <tr>\n",
       "      <th>0</th>\n",
       "      <td>15.708000</td>\n",
       "      <td>-0.15708</td>\n",
       "      <td>1.570800e+06</td>\n",
       "      <td>9817.500000</td>\n",
       "    </tr>\n",
       "    <tr>\n",
       "      <th>1</th>\n",
       "      <td>9.110640</td>\n",
       "      <td>3.14160</td>\n",
       "      <td>0.000000e+00</td>\n",
       "      <td>-656.908560</td>\n",
       "    </tr>\n",
       "    <tr>\n",
       "      <th>2</th>\n",
       "      <td>0.000022</td>\n",
       "      <td>2094.40000</td>\n",
       "      <td>5.340720e+01</td>\n",
       "      <td>9.869651</td>\n",
       "    </tr>\n",
       "    <tr>\n",
       "      <th>3</th>\n",
       "      <td>-59.690400</td>\n",
       "      <td>-6.28320</td>\n",
       "      <td>-3.141600e+03</td>\n",
       "      <td>20.734560</td>\n",
       "    </tr>\n",
       "  </tbody>\n",
       "</table>\n",
       "</div>"
      ],
      "text/plain": [
       "        key1        key2          key3         key4\n",
       "0  15.708000    -0.15708  1.570800e+06  9817.500000\n",
       "1   9.110640     3.14160  0.000000e+00  -656.908560\n",
       "2   0.000022  2094.40000  5.340720e+01     9.869651\n",
       "3 -59.690400    -6.28320 -3.141600e+03    20.734560"
      ]
     },
     "execution_count": 34,
     "metadata": {},
     "output_type": "execute_result"
    }
   ],
   "source": [
    "dict_of_df_in_data['key_D']"
   ]
  },
  {
   "cell_type": "code",
   "execution_count": 35,
   "id": "12a9acce",
   "metadata": {},
   "outputs": [
    {
     "data": {
      "text/html": [
       "<div>\n",
       "<style scoped>\n",
       "    .dataframe tbody tr th:only-of-type {\n",
       "        vertical-align: middle;\n",
       "    }\n",
       "\n",
       "    .dataframe tbody tr th {\n",
       "        vertical-align: top;\n",
       "    }\n",
       "\n",
       "    .dataframe thead th {\n",
       "        text-align: right;\n",
       "    }\n",
       "</style>\n",
       "<table border=\"1\" class=\"dataframe\">\n",
       "  <thead>\n",
       "    <tr style=\"text-align: right;\">\n",
       "      <th></th>\n",
       "      <th>0</th>\n",
       "    </tr>\n",
       "  </thead>\n",
       "  <tbody>\n",
       "    <tr>\n",
       "      <th>doe.DoEEval.z</th>\n",
       "      <td>1.0</td>\n",
       "    </tr>\n",
       "    <tr>\n",
       "      <th>doe.DoEEval.DiscAllTypes.h</th>\n",
       "      <td>[0.0, 0.0, 0.0, 0.0]</td>\n",
       "    </tr>\n",
       "    <tr>\n",
       "      <th>doe.DoEEval.DiscAllTypes.dict_in</th>\n",
       "      <td>{'key0': 0.0, 'key1': 0.0}</td>\n",
       "    </tr>\n",
       "    <tr>\n",
       "      <th>doe.DoEEval.DiscAllTypes.df_in</th>\n",
       "      <td>variable   c2      c3\n",
       "0       0.0  1.0     ...</td>\n",
       "    </tr>\n",
       "    <tr>\n",
       "      <th>doe.DoEEval.weather</th>\n",
       "      <td>cloudy, it is Toulouse ...</td>\n",
       "    </tr>\n",
       "    <tr>\n",
       "      <th>doe.DoEEval.DiscAllTypes.dict_of_dict_in</th>\n",
       "      <td>{'key_A': {'subKey1': 0.1234, 'subKey2': 111.1...</td>\n",
       "    </tr>\n",
       "    <tr>\n",
       "      <th>doe.DoEEval.DiscAllTypes.dict_of_df_in</th>\n",
       "      <td>{'key_C': ['key1', 'key2', 'key3', 'key4'], 'k...</td>\n",
       "    </tr>\n",
       "  </tbody>\n",
       "</table>\n",
       "</div>"
      ],
      "text/plain": [
       "                                                                                          0\n",
       "doe.DoEEval.z                                                                           1.0\n",
       "doe.DoEEval.DiscAllTypes.h                                             [0.0, 0.0, 0.0, 0.0]\n",
       "doe.DoEEval.DiscAllTypes.dict_in                                 {'key0': 0.0, 'key1': 0.0}\n",
       "doe.DoEEval.DiscAllTypes.df_in               variable   c2      c3\n",
       "0       0.0  1.0     ...\n",
       "doe.DoEEval.weather                                              cloudy, it is Toulouse ...\n",
       "doe.DoEEval.DiscAllTypes.dict_of_dict_in  {'key_A': {'subKey1': 0.1234, 'subKey2': 111.1...\n",
       "doe.DoEEval.DiscAllTypes.dict_of_df_in    {'key_C': ['key1', 'key2', 'key3', 'key4'], 'k..."
      ]
     },
     "execution_count": 35,
     "metadata": {},
     "output_type": "execute_result"
    }
   ],
   "source": [
    "# DiscAllTypes inputs\n",
    "\n",
    "values_dict = {}\n",
    "values_dict[f'{ns}.{sc_name}.z'] = 1.  \n",
    "values_dict[f'{ns}.{sc_name}.DiscAllTypes.h'] = h_data\n",
    "values_dict[f'{ns}.{sc_name}.DiscAllTypes.dict_in'] = dict_in_data\n",
    "values_dict[f'{ns}.{sc_name}.DiscAllTypes.df_in'] = df_in_data\n",
    "values_dict[f'{ns}.{sc_name}.weather'] =  weather_data\n",
    "values_dict[f'{ns}.{sc_name}.DiscAllTypes.dict_of_dict_in'] = dict_of_dict_in_data\n",
    "values_dict[f'{ns}.{sc_name}.DiscAllTypes.dict_of_df_in'] = dict_of_df_in_data\n",
    "#values_dict['doe.DiscAllTypesDoeScenario.DiscAllTypes.cache_type'] = 'MemoryFullCache' #KO !! Problem with dict_in\n",
    "\n",
    "values_dict\n",
    "my_dict = exec_eng.get_anonimated_data_dict()\n",
    "pd.DataFrame.from_dict(values_dict,orient='index')"
   ]
  },
  {
   "cell_type": "code",
   "execution_count": 36,
   "id": "5cc45bae",
   "metadata": {},
   "outputs": [
    {
     "name": "stderr",
     "output_type": "stream",
     "text": [
      "INFO:SoS.EE:configuring ...\n",
      "WARNING:gemseo.mda.mda_chain:No coupling in MDA, switching chain_linearize to True\n",
      "INFO:SoS.EE.Coupling:The MDA solver of the Coupling doe is set to MDAJacobi\n",
      "INFO:SoS.EE:configuring ...\n",
      "WARNING:gemseo.mda.mda_chain:No coupling in MDA, switching chain_linearize to True\n",
      "INFO:SoS.EE.Coupling:The MDA solver of the Coupling doe is set to MDAJacobi\n"
     ]
    }
   ],
   "source": [
    "#exec_eng.dm.set_values_from_dict(values_dict)\n",
    "exec_eng.load_study_from_input_dict(values_dict)\n",
    "exec_eng.configure()"
   ]
  },
  {
   "cell_type": "markdown",
   "id": "a6bde00c",
   "metadata": {},
   "source": [
    "# 4 Run Doe scenario"
   ]
  },
  {
   "cell_type": "code",
   "execution_count": 37,
   "id": "d14d1e0f",
   "metadata": {
    "scrolled": true
   },
   "outputs": [
    {
     "name": "stderr",
     "output_type": "stream",
     "text": [
      "INFO:SoS.EE:PROCESS EXECUTION doe STARTS...\n",
      "INFO:SoS.EE.DOE:{'n_samples': 100, 'fake_option': 'fake_option'}\n",
      "INFO:gemseo.algos.doe.doe_lib:Full factorial design required. Number of samples along each direction for a design vector of size 3 with 100 samples: 4\n",
      "INFO:gemseo.algos.doe.doe_lib:Final number of samples for DOE = 64 vs 100 requested\n",
      "INFO:SoS.EE.DOE:running sos eval in sequential\n",
      "  0%|                                                                        | 0/64 [00:00<?, ?it/s]INFO:SoS.EE.DOE:   Scenario_1 is running.\n",
      "INFO:SoS.EE:configuring ...\n",
      "WARNING:gemseo.mda.mda_chain:No coupling in MDA, switching chain_linearize to True\n",
      "INFO:SoS.EE.Coupling:The MDA solver of the Coupling doe is set to MDAJacobi\n",
      "  2%|█                                                               | 1/64 [00:00<00:32,  1.91it/s]INFO:SoS.EE.DOE:   Scenario_2 is running.\n",
      "INFO:SoS.EE:configuring ...\n",
      "WARNING:gemseo.mda.mda_chain:No coupling in MDA, switching chain_linearize to True\n",
      "INFO:SoS.EE.Coupling:The MDA solver of the Coupling doe is set to MDAJacobi\n",
      "  3%|██                                                              | 2/64 [00:01<00:32,  1.90it/s]INFO:SoS.EE.DOE:   Scenario_3 is running.\n",
      "INFO:SoS.EE:configuring ...\n",
      "WARNING:gemseo.mda.mda_chain:No coupling in MDA, switching chain_linearize to True\n",
      "INFO:SoS.EE.Coupling:The MDA solver of the Coupling doe is set to MDAJacobi\n",
      "  5%|███                                                             | 3/64 [00:01<00:32,  1.90it/s]INFO:SoS.EE.DOE:   Scenario_4 is running.\n",
      "INFO:SoS.EE:configuring ...\n",
      "WARNING:gemseo.mda.mda_chain:No coupling in MDA, switching chain_linearize to True\n",
      "INFO:SoS.EE.Coupling:The MDA solver of the Coupling doe is set to MDAJacobi\n",
      "  6%|████                                                            | 4/64 [00:02<00:31,  1.90it/s]INFO:SoS.EE.DOE:   Scenario_5 is running.\n",
      "INFO:SoS.EE:configuring ...\n",
      "WARNING:gemseo.mda.mda_chain:No coupling in MDA, switching chain_linearize to True\n",
      "INFO:SoS.EE.Coupling:The MDA solver of the Coupling doe is set to MDAJacobi\n",
      "  8%|█████                                                           | 5/64 [00:02<00:30,  1.90it/s]INFO:SoS.EE.DOE:   Scenario_6 is running.\n",
      "INFO:SoS.EE:configuring ...\n",
      "WARNING:gemseo.mda.mda_chain:No coupling in MDA, switching chain_linearize to True\n",
      "INFO:SoS.EE.Coupling:The MDA solver of the Coupling doe is set to MDAJacobi\n",
      "  9%|██████                                                          | 6/64 [00:03<00:30,  1.90it/s]INFO:SoS.EE.DOE:   Scenario_7 is running.\n",
      "INFO:SoS.EE:configuring ...\n",
      "WARNING:gemseo.mda.mda_chain:No coupling in MDA, switching chain_linearize to True\n",
      "INFO:SoS.EE.Coupling:The MDA solver of the Coupling doe is set to MDAJacobi\n",
      " 11%|███████                                                         | 7/64 [00:03<00:29,  1.91it/s]INFO:SoS.EE.DOE:   Scenario_8 is running.\n",
      "INFO:SoS.EE:configuring ...\n",
      "WARNING:gemseo.mda.mda_chain:No coupling in MDA, switching chain_linearize to True\n",
      "INFO:SoS.EE.Coupling:The MDA solver of the Coupling doe is set to MDAJacobi\n",
      " 12%|████████                                                        | 8/64 [00:04<00:29,  1.90it/s]INFO:SoS.EE.DOE:   Scenario_9 is running.\n",
      "INFO:SoS.EE:configuring ...\n",
      "WARNING:gemseo.mda.mda_chain:No coupling in MDA, switching chain_linearize to True\n",
      "INFO:SoS.EE.Coupling:The MDA solver of the Coupling doe is set to MDAJacobi\n",
      " 14%|█████████                                                       | 9/64 [00:04<00:28,  1.90it/s]INFO:SoS.EE.DOE:   Scenario_10 is running.\n",
      "INFO:SoS.EE:configuring ...\n",
      "WARNING:gemseo.mda.mda_chain:No coupling in MDA, switching chain_linearize to True\n",
      "INFO:SoS.EE.Coupling:The MDA solver of the Coupling doe is set to MDAJacobi\n",
      " 16%|█████████▊                                                     | 10/64 [00:05<00:28,  1.90it/s]INFO:SoS.EE.DOE:   Scenario_11 is running.\n",
      "INFO:SoS.EE:configuring ...\n",
      "WARNING:gemseo.mda.mda_chain:No coupling in MDA, switching chain_linearize to True\n",
      "INFO:SoS.EE.Coupling:The MDA solver of the Coupling doe is set to MDAJacobi\n",
      " 17%|██████████▊                                                    | 11/64 [00:05<00:27,  1.90it/s]INFO:SoS.EE.DOE:   Scenario_12 is running.\n",
      "INFO:SoS.EE:configuring ...\n",
      "WARNING:gemseo.mda.mda_chain:No coupling in MDA, switching chain_linearize to True\n",
      "INFO:SoS.EE.Coupling:The MDA solver of the Coupling doe is set to MDAJacobi\n",
      " 19%|███████████▊                                                   | 12/64 [00:06<00:27,  1.90it/s]INFO:SoS.EE.DOE:   Scenario_13 is running.\n",
      "INFO:SoS.EE:configuring ...\n",
      "WARNING:gemseo.mda.mda_chain:No coupling in MDA, switching chain_linearize to True\n",
      "INFO:SoS.EE.Coupling:The MDA solver of the Coupling doe is set to MDAJacobi\n",
      " 20%|████████████▊                                                  | 13/64 [00:06<00:26,  1.89it/s]INFO:SoS.EE.DOE:   Scenario_14 is running.\n",
      "INFO:SoS.EE:configuring ...\n",
      "WARNING:gemseo.mda.mda_chain:No coupling in MDA, switching chain_linearize to True\n",
      "INFO:SoS.EE.Coupling:The MDA solver of the Coupling doe is set to MDAJacobi\n",
      " 22%|█████████████▊                                                 | 14/64 [00:07<00:26,  1.89it/s]INFO:SoS.EE.DOE:   Scenario_15 is running.\n",
      "INFO:SoS.EE:configuring ...\n",
      "WARNING:gemseo.mda.mda_chain:No coupling in MDA, switching chain_linearize to True\n",
      "INFO:SoS.EE.Coupling:The MDA solver of the Coupling doe is set to MDAJacobi\n",
      " 23%|██████████████▊                                                | 15/64 [00:07<00:25,  1.90it/s]INFO:SoS.EE.DOE:   Scenario_16 is running.\n",
      "INFO:SoS.EE:configuring ...\n",
      "WARNING:gemseo.mda.mda_chain:No coupling in MDA, switching chain_linearize to True\n",
      "INFO:SoS.EE.Coupling:The MDA solver of the Coupling doe is set to MDAJacobi\n",
      " 25%|███████████████▊                                               | 16/64 [00:08<00:25,  1.90it/s]INFO:SoS.EE.DOE:   Scenario_17 is running.\n",
      "INFO:SoS.EE:configuring ...\n",
      "WARNING:gemseo.mda.mda_chain:No coupling in MDA, switching chain_linearize to True\n",
      "INFO:SoS.EE.Coupling:The MDA solver of the Coupling doe is set to MDAJacobi\n",
      " 27%|████████████████▋                                              | 17/64 [00:08<00:24,  1.90it/s]INFO:SoS.EE.DOE:   Scenario_18 is running.\n",
      "INFO:SoS.EE:configuring ...\n",
      "WARNING:gemseo.mda.mda_chain:No coupling in MDA, switching chain_linearize to True\n",
      "INFO:SoS.EE.Coupling:The MDA solver of the Coupling doe is set to MDAJacobi\n",
      " 28%|█████████████████▋                                             | 18/64 [00:09<00:24,  1.90it/s]INFO:SoS.EE.DOE:   Scenario_19 is running.\n",
      "INFO:SoS.EE:configuring ...\n",
      "WARNING:gemseo.mda.mda_chain:No coupling in MDA, switching chain_linearize to True\n",
      "INFO:SoS.EE.Coupling:The MDA solver of the Coupling doe is set to MDAJacobi\n",
      " 30%|██████████████████▋                                            | 19/64 [00:10<00:23,  1.90it/s]INFO:SoS.EE.DOE:   Scenario_20 is running.\n",
      "INFO:SoS.EE:configuring ...\n",
      "WARNING:gemseo.mda.mda_chain:No coupling in MDA, switching chain_linearize to True\n",
      "INFO:SoS.EE.Coupling:The MDA solver of the Coupling doe is set to MDAJacobi\n",
      " 31%|███████████████████▋                                           | 20/64 [00:10<00:23,  1.90it/s]INFO:SoS.EE.DOE:   Scenario_21 is running.\n",
      "INFO:SoS.EE:configuring ...\n",
      "WARNING:gemseo.mda.mda_chain:No coupling in MDA, switching chain_linearize to True\n",
      "INFO:SoS.EE.Coupling:The MDA solver of the Coupling doe is set to MDAJacobi\n",
      " 33%|████████████████████▋                                          | 21/64 [00:11<00:22,  1.91it/s]INFO:SoS.EE.DOE:   Scenario_22 is running.\n",
      "INFO:SoS.EE:configuring ...\n",
      "WARNING:gemseo.mda.mda_chain:No coupling in MDA, switching chain_linearize to True\n",
      "INFO:SoS.EE.Coupling:The MDA solver of the Coupling doe is set to MDAJacobi\n",
      " 34%|█████████████████████▋                                         | 22/64 [00:11<00:21,  1.91it/s]INFO:SoS.EE.DOE:   Scenario_23 is running.\n",
      "INFO:SoS.EE:configuring ...\n",
      "WARNING:gemseo.mda.mda_chain:No coupling in MDA, switching chain_linearize to True\n",
      "INFO:SoS.EE.Coupling:The MDA solver of the Coupling doe is set to MDAJacobi\n",
      " 36%|██████████████████████▋                                        | 23/64 [00:12<00:21,  1.91it/s]INFO:SoS.EE.DOE:   Scenario_24 is running.\n",
      "INFO:SoS.EE:configuring ...\n",
      "WARNING:gemseo.mda.mda_chain:No coupling in MDA, switching chain_linearize to True\n"
     ]
    },
    {
     "name": "stderr",
     "output_type": "stream",
     "text": [
      "INFO:SoS.EE.Coupling:The MDA solver of the Coupling doe is set to MDAJacobi\n",
      " 38%|███████████████████████▋                                       | 24/64 [00:12<00:20,  1.91it/s]INFO:SoS.EE.DOE:   Scenario_25 is running.\n",
      "INFO:SoS.EE:configuring ...\n",
      "WARNING:gemseo.mda.mda_chain:No coupling in MDA, switching chain_linearize to True\n",
      "INFO:SoS.EE.Coupling:The MDA solver of the Coupling doe is set to MDAJacobi\n",
      " 39%|████████████████████████▌                                      | 25/64 [00:13<00:20,  1.91it/s]INFO:SoS.EE.DOE:   Scenario_26 is running.\n",
      "INFO:SoS.EE:configuring ...\n",
      "WARNING:gemseo.mda.mda_chain:No coupling in MDA, switching chain_linearize to True\n",
      "INFO:SoS.EE.Coupling:The MDA solver of the Coupling doe is set to MDAJacobi\n",
      " 41%|█████████████████████████▌                                     | 26/64 [00:13<00:20,  1.90it/s]INFO:SoS.EE.DOE:   Scenario_27 is running.\n",
      "INFO:SoS.EE:configuring ...\n",
      "WARNING:gemseo.mda.mda_chain:No coupling in MDA, switching chain_linearize to True\n",
      "INFO:SoS.EE.Coupling:The MDA solver of the Coupling doe is set to MDAJacobi\n",
      " 42%|██████████████████████████▌                                    | 27/64 [00:14<00:19,  1.89it/s]INFO:SoS.EE.DOE:   Scenario_28 is running.\n",
      "INFO:SoS.EE:configuring ...\n",
      "WARNING:gemseo.mda.mda_chain:No coupling in MDA, switching chain_linearize to True\n",
      "INFO:SoS.EE.Coupling:The MDA solver of the Coupling doe is set to MDAJacobi\n",
      " 44%|███████████████████████████▌                                   | 28/64 [00:14<00:18,  1.90it/s]INFO:SoS.EE.DOE:   Scenario_29 is running.\n",
      "INFO:SoS.EE:configuring ...\n",
      "WARNING:gemseo.mda.mda_chain:No coupling in MDA, switching chain_linearize to True\n",
      "INFO:SoS.EE.Coupling:The MDA solver of the Coupling doe is set to MDAJacobi\n",
      " 45%|████████████████████████████▌                                  | 29/64 [00:15<00:18,  1.90it/s]INFO:SoS.EE.DOE:   Scenario_30 is running.\n",
      "INFO:SoS.EE:configuring ...\n",
      "WARNING:gemseo.mda.mda_chain:No coupling in MDA, switching chain_linearize to True\n",
      "INFO:SoS.EE.Coupling:The MDA solver of the Coupling doe is set to MDAJacobi\n",
      " 47%|█████████████████████████████▌                                 | 30/64 [00:15<00:18,  1.89it/s]INFO:SoS.EE.DOE:   Scenario_31 is running.\n",
      "INFO:SoS.EE:configuring ...\n",
      "WARNING:gemseo.mda.mda_chain:No coupling in MDA, switching chain_linearize to True\n",
      "INFO:SoS.EE.Coupling:The MDA solver of the Coupling doe is set to MDAJacobi\n",
      " 48%|██████████████████████████████▌                                | 31/64 [00:16<00:17,  1.88it/s]INFO:SoS.EE.DOE:   Scenario_32 is running.\n",
      "INFO:SoS.EE:configuring ...\n",
      "WARNING:gemseo.mda.mda_chain:No coupling in MDA, switching chain_linearize to True\n",
      "INFO:SoS.EE.Coupling:The MDA solver of the Coupling doe is set to MDAJacobi\n",
      " 50%|███████████████████████████████▌                               | 32/64 [00:16<00:16,  1.90it/s]INFO:SoS.EE.DOE:   Scenario_33 is running.\n",
      "INFO:SoS.EE:configuring ...\n",
      "WARNING:gemseo.mda.mda_chain:No coupling in MDA, switching chain_linearize to True\n",
      "INFO:SoS.EE.Coupling:The MDA solver of the Coupling doe is set to MDAJacobi\n",
      " 52%|████████████████████████████████▍                              | 33/64 [00:17<00:16,  1.89it/s]INFO:SoS.EE.DOE:   Scenario_34 is running.\n",
      "INFO:SoS.EE:configuring ...\n",
      "WARNING:gemseo.mda.mda_chain:No coupling in MDA, switching chain_linearize to True\n",
      "INFO:SoS.EE.Coupling:The MDA solver of the Coupling doe is set to MDAJacobi\n",
      " 53%|█████████████████████████████████▍                             | 34/64 [00:17<00:15,  1.88it/s]INFO:SoS.EE.DOE:   Scenario_35 is running.\n",
      "INFO:SoS.EE:configuring ...\n",
      "WARNING:gemseo.mda.mda_chain:No coupling in MDA, switching chain_linearize to True\n",
      "INFO:SoS.EE.Coupling:The MDA solver of the Coupling doe is set to MDAJacobi\n",
      " 55%|██████████████████████████████████▍                            | 35/64 [00:18<00:15,  1.89it/s]INFO:SoS.EE.DOE:   Scenario_36 is running.\n",
      "INFO:SoS.EE:configuring ...\n",
      "WARNING:gemseo.mda.mda_chain:No coupling in MDA, switching chain_linearize to True\n",
      "INFO:SoS.EE.Coupling:The MDA solver of the Coupling doe is set to MDAJacobi\n",
      " 56%|███████████████████████████████████▍                           | 36/64 [00:18<00:14,  1.89it/s]INFO:SoS.EE.DOE:   Scenario_37 is running.\n",
      "INFO:SoS.EE:configuring ...\n",
      "WARNING:gemseo.mda.mda_chain:No coupling in MDA, switching chain_linearize to True\n",
      "INFO:SoS.EE.Coupling:The MDA solver of the Coupling doe is set to MDAJacobi\n",
      " 58%|████████████████████████████████████▍                          | 37/64 [00:19<00:14,  1.89it/s]INFO:SoS.EE.DOE:   Scenario_38 is running.\n",
      "INFO:SoS.EE:configuring ...\n",
      "WARNING:gemseo.mda.mda_chain:No coupling in MDA, switching chain_linearize to True\n",
      "INFO:SoS.EE.Coupling:The MDA solver of the Coupling doe is set to MDAJacobi\n",
      " 59%|█████████████████████████████████████▍                         | 38/64 [00:20<00:13,  1.90it/s]INFO:SoS.EE.DOE:   Scenario_39 is running.\n",
      "INFO:SoS.EE:configuring ...\n",
      "WARNING:gemseo.mda.mda_chain:No coupling in MDA, switching chain_linearize to True\n",
      "INFO:SoS.EE.Coupling:The MDA solver of the Coupling doe is set to MDAJacobi\n",
      " 61%|██████████████████████████████████████▍                        | 39/64 [00:20<00:13,  1.90it/s]INFO:SoS.EE.DOE:   Scenario_40 is running.\n",
      "INFO:SoS.EE:configuring ...\n",
      "WARNING:gemseo.mda.mda_chain:No coupling in MDA, switching chain_linearize to True\n",
      "INFO:SoS.EE.Coupling:The MDA solver of the Coupling doe is set to MDAJacobi\n",
      " 62%|███████████████████████████████████████▍                       | 40/64 [00:21<00:12,  1.90it/s]INFO:SoS.EE.DOE:   Scenario_41 is running.\n",
      "INFO:SoS.EE:configuring ...\n",
      "WARNING:gemseo.mda.mda_chain:No coupling in MDA, switching chain_linearize to True\n",
      "INFO:SoS.EE.Coupling:The MDA solver of the Coupling doe is set to MDAJacobi\n",
      " 64%|████████████████████████████████████████▎                      | 41/64 [00:21<00:12,  1.90it/s]INFO:SoS.EE.DOE:   Scenario_42 is running.\n",
      "INFO:SoS.EE:configuring ...\n",
      "WARNING:gemseo.mda.mda_chain:No coupling in MDA, switching chain_linearize to True\n",
      "INFO:SoS.EE.Coupling:The MDA solver of the Coupling doe is set to MDAJacobi\n",
      " 66%|█████████████████████████████████████████▎                     | 42/64 [00:22<00:11,  1.90it/s]INFO:SoS.EE.DOE:   Scenario_43 is running.\n",
      "INFO:SoS.EE:configuring ...\n",
      "WARNING:gemseo.mda.mda_chain:No coupling in MDA, switching chain_linearize to True\n",
      "INFO:SoS.EE.Coupling:The MDA solver of the Coupling doe is set to MDAJacobi\n",
      " 67%|██████████████████████████████████████████▎                    | 43/64 [00:22<00:11,  1.90it/s]INFO:SoS.EE.DOE:   Scenario_44 is running.\n",
      "INFO:SoS.EE:configuring ...\n",
      "WARNING:gemseo.mda.mda_chain:No coupling in MDA, switching chain_linearize to True\n",
      "INFO:SoS.EE.Coupling:The MDA solver of the Coupling doe is set to MDAJacobi\n",
      " 69%|███████████████████████████████████████████▎                   | 44/64 [00:23<00:10,  1.90it/s]INFO:SoS.EE.DOE:   Scenario_45 is running.\n",
      "INFO:SoS.EE:configuring ...\n",
      "WARNING:gemseo.mda.mda_chain:No coupling in MDA, switching chain_linearize to True\n",
      "INFO:SoS.EE.Coupling:The MDA solver of the Coupling doe is set to MDAJacobi\n",
      " 70%|████████████████████████████████████████████▎                  | 45/64 [00:23<00:10,  1.89it/s]INFO:SoS.EE.DOE:   Scenario_46 is running.\n",
      "INFO:SoS.EE:configuring ...\n",
      "WARNING:gemseo.mda.mda_chain:No coupling in MDA, switching chain_linearize to True\n",
      "INFO:SoS.EE.Coupling:The MDA solver of the Coupling doe is set to MDAJacobi\n",
      " 72%|█████████████████████████████████████████████▎                 | 46/64 [00:24<00:09,  1.89it/s]INFO:SoS.EE.DOE:   Scenario_47 is running.\n",
      "INFO:SoS.EE:configuring ...\n",
      "WARNING:gemseo.mda.mda_chain:No coupling in MDA, switching chain_linearize to True\n",
      "INFO:SoS.EE.Coupling:The MDA solver of the Coupling doe is set to MDAJacobi\n",
      " 73%|██████████████████████████████████████████████▎                | 47/64 [00:24<00:09,  1.89it/s]INFO:SoS.EE.DOE:   Scenario_48 is running.\n",
      "INFO:SoS.EE:configuring ...\n",
      "WARNING:gemseo.mda.mda_chain:No coupling in MDA, switching chain_linearize to True\n",
      "INFO:SoS.EE.Coupling:The MDA solver of the Coupling doe is set to MDAJacobi\n",
      " 75%|███████████████████████████████████████████████▎               | 48/64 [00:25<00:08,  1.89it/s]INFO:SoS.EE.DOE:   Scenario_49 is running.\n",
      "INFO:SoS.EE:configuring ...\n",
      "WARNING:gemseo.mda.mda_chain:No coupling in MDA, switching chain_linearize to True\n"
     ]
    },
    {
     "name": "stderr",
     "output_type": "stream",
     "text": [
      "INFO:SoS.EE.Coupling:The MDA solver of the Coupling doe is set to MDAJacobi\n",
      " 77%|████████████████████████████████████████████████▏              | 49/64 [00:25<00:07,  1.89it/s]INFO:SoS.EE.DOE:   Scenario_50 is running.\n",
      "INFO:SoS.EE:configuring ...\n",
      "WARNING:gemseo.mda.mda_chain:No coupling in MDA, switching chain_linearize to True\n",
      "INFO:SoS.EE.Coupling:The MDA solver of the Coupling doe is set to MDAJacobi\n",
      " 78%|█████████████████████████████████████████████████▏             | 50/64 [00:26<00:07,  1.89it/s]INFO:SoS.EE.DOE:   Scenario_51 is running.\n",
      "INFO:SoS.EE:configuring ...\n",
      "WARNING:gemseo.mda.mda_chain:No coupling in MDA, switching chain_linearize to True\n",
      "INFO:SoS.EE.Coupling:The MDA solver of the Coupling doe is set to MDAJacobi\n",
      " 80%|██████████████████████████████████████████████████▏            | 51/64 [00:26<00:06,  1.89it/s]INFO:SoS.EE.DOE:   Scenario_52 is running.\n",
      "INFO:SoS.EE:configuring ...\n",
      "WARNING:gemseo.mda.mda_chain:No coupling in MDA, switching chain_linearize to True\n",
      "INFO:SoS.EE.Coupling:The MDA solver of the Coupling doe is set to MDAJacobi\n",
      " 81%|███████████████████████████████████████████████████▏           | 52/64 [00:27<00:06,  1.88it/s]INFO:SoS.EE.DOE:   Scenario_53 is running.\n",
      "INFO:SoS.EE:configuring ...\n",
      "WARNING:gemseo.mda.mda_chain:No coupling in MDA, switching chain_linearize to True\n",
      "INFO:SoS.EE.Coupling:The MDA solver of the Coupling doe is set to MDAJacobi\n",
      " 83%|████████████████████████████████████████████████████▏          | 53/64 [00:27<00:05,  1.89it/s]INFO:SoS.EE.DOE:   Scenario_54 is running.\n",
      "INFO:SoS.EE:configuring ...\n",
      "WARNING:gemseo.mda.mda_chain:No coupling in MDA, switching chain_linearize to True\n",
      "INFO:SoS.EE.Coupling:The MDA solver of the Coupling doe is set to MDAJacobi\n",
      " 84%|█████████████████████████████████████████████████████▏         | 54/64 [00:28<00:05,  1.90it/s]INFO:SoS.EE.DOE:   Scenario_55 is running.\n",
      "INFO:SoS.EE:configuring ...\n",
      "WARNING:gemseo.mda.mda_chain:No coupling in MDA, switching chain_linearize to True\n",
      "INFO:SoS.EE.Coupling:The MDA solver of the Coupling doe is set to MDAJacobi\n",
      " 86%|██████████████████████████████████████████████████████▏        | 55/64 [00:28<00:04,  1.90it/s]INFO:SoS.EE.DOE:   Scenario_56 is running.\n",
      "INFO:SoS.EE:configuring ...\n",
      "WARNING:gemseo.mda.mda_chain:No coupling in MDA, switching chain_linearize to True\n",
      "INFO:SoS.EE.Coupling:The MDA solver of the Coupling doe is set to MDAJacobi\n",
      " 88%|███████████████████████████████████████████████████████▏       | 56/64 [00:29<00:04,  1.90it/s]INFO:SoS.EE.DOE:   Scenario_57 is running.\n",
      "INFO:SoS.EE:configuring ...\n",
      "WARNING:gemseo.mda.mda_chain:No coupling in MDA, switching chain_linearize to True\n",
      "INFO:SoS.EE.Coupling:The MDA solver of the Coupling doe is set to MDAJacobi\n",
      " 89%|████████████████████████████████████████████████████████       | 57/64 [00:30<00:03,  1.90it/s]INFO:SoS.EE.DOE:   Scenario_58 is running.\n",
      "INFO:SoS.EE:configuring ...\n",
      "WARNING:gemseo.mda.mda_chain:No coupling in MDA, switching chain_linearize to True\n",
      "INFO:SoS.EE.Coupling:The MDA solver of the Coupling doe is set to MDAJacobi\n",
      " 91%|█████████████████████████████████████████████████████████      | 58/64 [00:30<00:03,  1.90it/s]INFO:SoS.EE.DOE:   Scenario_59 is running.\n",
      "INFO:SoS.EE:configuring ...\n",
      "WARNING:gemseo.mda.mda_chain:No coupling in MDA, switching chain_linearize to True\n",
      "INFO:SoS.EE.Coupling:The MDA solver of the Coupling doe is set to MDAJacobi\n",
      " 92%|██████████████████████████████████████████████████████████     | 59/64 [00:31<00:02,  1.91it/s]INFO:SoS.EE.DOE:   Scenario_60 is running.\n",
      "INFO:SoS.EE:configuring ...\n",
      "WARNING:gemseo.mda.mda_chain:No coupling in MDA, switching chain_linearize to True\n",
      "INFO:SoS.EE.Coupling:The MDA solver of the Coupling doe is set to MDAJacobi\n",
      " 94%|███████████████████████████████████████████████████████████    | 60/64 [00:31<00:02,  1.90it/s]INFO:SoS.EE.DOE:   Scenario_61 is running.\n",
      "INFO:SoS.EE:configuring ...\n",
      "WARNING:gemseo.mda.mda_chain:No coupling in MDA, switching chain_linearize to True\n",
      "INFO:SoS.EE.Coupling:The MDA solver of the Coupling doe is set to MDAJacobi\n",
      " 95%|████████████████████████████████████████████████████████████   | 61/64 [00:32<00:01,  1.90it/s]INFO:SoS.EE.DOE:   Scenario_62 is running.\n",
      "INFO:SoS.EE:configuring ...\n",
      "WARNING:gemseo.mda.mda_chain:No coupling in MDA, switching chain_linearize to True\n",
      "INFO:SoS.EE.Coupling:The MDA solver of the Coupling doe is set to MDAJacobi\n",
      " 97%|█████████████████████████████████████████████████████████████  | 62/64 [00:32<00:01,  1.89it/s]INFO:SoS.EE.DOE:   Scenario_63 is running.\n",
      "INFO:SoS.EE:configuring ...\n",
      "WARNING:gemseo.mda.mda_chain:No coupling in MDA, switching chain_linearize to True\n",
      "INFO:SoS.EE.Coupling:The MDA solver of the Coupling doe is set to MDAJacobi\n",
      " 98%|██████████████████████████████████████████████████████████████ | 63/64 [00:33<00:00,  1.90it/s]INFO:SoS.EE.DOE:   Scenario_64 is running.\n",
      "INFO:SoS.EE:configuring ...\n",
      "WARNING:gemseo.mda.mda_chain:No coupling in MDA, switching chain_linearize to True\n",
      "INFO:SoS.EE.Coupling:The MDA solver of the Coupling doe is set to MDAJacobi\n",
      "100%|███████████████████████████████████████████████████████████████| 64/64 [00:33<00:00,  1.90it/s]\n",
      "INFO:SoS.EE:PROCESS EXECUTION doe ENDS.\n"
     ]
    }
   ],
   "source": [
    "res = exec_eng.execute()\n",
    "# res is without interest (return not the expected values but probably default values ) !"
   ]
  },
  {
   "cell_type": "code",
   "execution_count": null,
   "id": "6001c775",
   "metadata": {},
   "outputs": [],
   "source": []
  },
  {
   "cell_type": "code",
   "execution_count": null,
   "id": "f95ebaae",
   "metadata": {},
   "outputs": [],
   "source": []
  },
  {
   "cell_type": "markdown",
   "id": "57979091",
   "metadata": {},
   "source": [
    "# 5 Display Doe  Scenario results"
   ]
  },
  {
   "cell_type": "code",
   "execution_count": 38,
   "id": "ac8a49ab",
   "metadata": {},
   "outputs": [],
   "source": [
    "# retrieve discipline to check the result...\n",
    "doe_disc = exec_eng.dm.get_disciplines_with_name(\"doe.\" + sc_name)[0]"
   ]
  },
  {
   "cell_type": "code",
   "execution_count": 39,
   "id": "a02fc43e",
   "metadata": {},
   "outputs": [
    {
     "data": {
      "text/plain": [
       "sos_trades_core.sos_wrapping.analysis_discs.doe_eval.DoeEval"
      ]
     },
     "execution_count": 39,
     "metadata": {},
     "output_type": "execute_result"
    }
   ],
   "source": [
    "type(doe_disc)"
   ]
  },
  {
   "cell_type": "code",
   "execution_count": 40,
   "id": "555b30f7",
   "metadata": {},
   "outputs": [
    {
     "data": {
      "text/plain": [
       "'doe.DoEEval'"
      ]
     },
     "execution_count": 40,
     "metadata": {},
     "output_type": "execute_result"
    }
   ],
   "source": [
    "doe_disc.get_disc_full_name()"
   ]
  },
  {
   "cell_type": "code",
   "execution_count": 41,
   "id": "d1069a43",
   "metadata": {},
   "outputs": [
    {
     "data": {
      "text/html": [
       "<div>\n",
       "<style scoped>\n",
       "    .dataframe tbody tr th:only-of-type {\n",
       "        vertical-align: middle;\n",
       "    }\n",
       "\n",
       "    .dataframe tbody tr th {\n",
       "        vertical-align: top;\n",
       "    }\n",
       "\n",
       "    .dataframe thead th {\n",
       "        text-align: right;\n",
       "    }\n",
       "</style>\n",
       "<table border=\"1\" class=\"dataframe\">\n",
       "  <thead>\n",
       "    <tr style=\"text-align: right;\">\n",
       "      <th></th>\n",
       "      <th>0</th>\n",
       "    </tr>\n",
       "  </thead>\n",
       "  <tbody>\n",
       "    <tr>\n",
       "      <th>sampling_algo</th>\n",
       "      <td>fullfact</td>\n",
       "    </tr>\n",
       "    <tr>\n",
       "      <th>eval_inputs</th>\n",
       "      <td>selected_input               full_name\n",
       "0   ...</td>\n",
       "    </tr>\n",
       "    <tr>\n",
       "      <th>eval_outputs</th>\n",
       "      <td>selected_output         full_name\n",
       "0        ...</td>\n",
       "    </tr>\n",
       "    <tr>\n",
       "      <th>n_processes</th>\n",
       "      <td>1</td>\n",
       "    </tr>\n",
       "    <tr>\n",
       "      <th>wait_time_between_fork</th>\n",
       "      <td>0.0</td>\n",
       "    </tr>\n",
       "    <tr>\n",
       "      <th>linearization_mode</th>\n",
       "      <td>auto</td>\n",
       "    </tr>\n",
       "    <tr>\n",
       "      <th>cache_type</th>\n",
       "      <td>SimpleCache</td>\n",
       "    </tr>\n",
       "    <tr>\n",
       "      <th>cache_file_path</th>\n",
       "      <td>None</td>\n",
       "    </tr>\n",
       "    <tr>\n",
       "      <th>debug_mode</th>\n",
       "      <td></td>\n",
       "    </tr>\n",
       "    <tr>\n",
       "      <th>design_space</th>\n",
       "      <td>variable     lower_bnd     upper_bnd  enable...</td>\n",
       "    </tr>\n",
       "    <tr>\n",
       "      <th>algo_options</th>\n",
       "      <td>{'n_samples': 100, 'fake_option': 'fake_option'}</td>\n",
       "    </tr>\n",
       "  </tbody>\n",
       "</table>\n",
       "</div>"
      ],
      "text/plain": [
       "                                                                        0\n",
       "sampling_algo                                                    fullfact\n",
       "eval_inputs                selected_input               full_name\n",
       "0   ...\n",
       "eval_outputs               selected_output         full_name\n",
       "0        ...\n",
       "n_processes                                                             1\n",
       "wait_time_between_fork                                                0.0\n",
       "linearization_mode                                                   auto\n",
       "cache_type                                                    SimpleCache\n",
       "cache_file_path                                                      None\n",
       "debug_mode                                                               \n",
       "design_space              variable     lower_bnd     upper_bnd  enable...\n",
       "algo_options             {'n_samples': 100, 'fake_option': 'fake_option'}"
      ]
     },
     "execution_count": 41,
     "metadata": {},
     "output_type": "execute_result"
    }
   ],
   "source": [
    "doe_disc_input = doe_disc.get_sosdisc_inputs()\n",
    "pd.DataFrame.from_dict(doe_disc_input,orient='index')"
   ]
  },
  {
   "cell_type": "code",
   "execution_count": 42,
   "id": "0499ac00",
   "metadata": {},
   "outputs": [],
   "source": [
    "#doe_disc_output = doe_disc.get_sosdisc_outputs()\n",
    "doe_disc_output = doe_disc.get_sosdisc_outputs('doe_samples_dataframe')"
   ]
  },
  {
   "cell_type": "code",
   "execution_count": 43,
   "id": "bcb5d045",
   "metadata": {},
   "outputs": [
    {
     "data": {
      "text/html": [
       "<div>\n",
       "<style scoped>\n",
       "    .dataframe tbody tr th:only-of-type {\n",
       "        vertical-align: middle;\n",
       "    }\n",
       "\n",
       "    .dataframe tbody tr th {\n",
       "        vertical-align: top;\n",
       "    }\n",
       "\n",
       "    .dataframe thead th {\n",
       "        text-align: right;\n",
       "    }\n",
       "</style>\n",
       "<table border=\"1\" class=\"dataframe\">\n",
       "  <thead>\n",
       "    <tr style=\"text-align: right;\">\n",
       "      <th></th>\n",
       "      <th>scenario</th>\n",
       "      <th>DoEEval.z</th>\n",
       "      <th>DoEEval.DiscAllTypes.h</th>\n",
       "    </tr>\n",
       "  </thead>\n",
       "  <tbody>\n",
       "    <tr>\n",
       "      <th>0</th>\n",
       "      <td>scenario_1</td>\n",
       "      <td>[0.0]</td>\n",
       "      <td>-10.000000</td>\n",
       "    </tr>\n",
       "    <tr>\n",
       "      <th>1</th>\n",
       "      <td>scenario_2</td>\n",
       "      <td>[3.333333333333333]</td>\n",
       "      <td>-10.000000</td>\n",
       "    </tr>\n",
       "    <tr>\n",
       "      <th>2</th>\n",
       "      <td>scenario_3</td>\n",
       "      <td>[6.666666666666666]</td>\n",
       "      <td>-10.000000</td>\n",
       "    </tr>\n",
       "    <tr>\n",
       "      <th>3</th>\n",
       "      <td>scenario_4</td>\n",
       "      <td>[10.0]</td>\n",
       "      <td>-10.000000</td>\n",
       "    </tr>\n",
       "    <tr>\n",
       "      <th>4</th>\n",
       "      <td>scenario_5</td>\n",
       "      <td>[0.0]</td>\n",
       "      <td>-3.333333</td>\n",
       "    </tr>\n",
       "    <tr>\n",
       "      <th>...</th>\n",
       "      <td>...</td>\n",
       "      <td>...</td>\n",
       "      <td>...</td>\n",
       "    </tr>\n",
       "    <tr>\n",
       "      <th>59</th>\n",
       "      <td>scenario_60</td>\n",
       "      <td>[10.0]</td>\n",
       "      <td>3.333333</td>\n",
       "    </tr>\n",
       "    <tr>\n",
       "      <th>60</th>\n",
       "      <td>scenario_61</td>\n",
       "      <td>[0.0]</td>\n",
       "      <td>10.000000</td>\n",
       "    </tr>\n",
       "    <tr>\n",
       "      <th>61</th>\n",
       "      <td>scenario_62</td>\n",
       "      <td>[3.333333333333333]</td>\n",
       "      <td>10.000000</td>\n",
       "    </tr>\n",
       "    <tr>\n",
       "      <th>62</th>\n",
       "      <td>scenario_63</td>\n",
       "      <td>[6.666666666666666]</td>\n",
       "      <td>10.000000</td>\n",
       "    </tr>\n",
       "    <tr>\n",
       "      <th>63</th>\n",
       "      <td>scenario_64</td>\n",
       "      <td>[10.0]</td>\n",
       "      <td>10.000000</td>\n",
       "    </tr>\n",
       "  </tbody>\n",
       "</table>\n",
       "<p>64 rows × 3 columns</p>\n",
       "</div>"
      ],
      "text/plain": [
       "       scenario            DoEEval.z  DoEEval.DiscAllTypes.h\n",
       "0    scenario_1                [0.0]              -10.000000\n",
       "1    scenario_2  [3.333333333333333]              -10.000000\n",
       "2    scenario_3  [6.666666666666666]              -10.000000\n",
       "3    scenario_4               [10.0]              -10.000000\n",
       "4    scenario_5                [0.0]               -3.333333\n",
       "..          ...                  ...                     ...\n",
       "59  scenario_60               [10.0]                3.333333\n",
       "60  scenario_61                [0.0]               10.000000\n",
       "61  scenario_62  [3.333333333333333]               10.000000\n",
       "62  scenario_63  [6.666666666666666]               10.000000\n",
       "63  scenario_64               [10.0]               10.000000\n",
       "\n",
       "[64 rows x 3 columns]"
      ]
     },
     "execution_count": 43,
     "metadata": {},
     "output_type": "execute_result"
    }
   ],
   "source": [
    "doe_disc_output"
   ]
  },
  {
   "cell_type": "code",
   "execution_count": 45,
   "id": "19cd08e1",
   "metadata": {},
   "outputs": [
    {
     "data": {
      "text/plain": [
       "2"
      ]
     },
     "execution_count": 45,
     "metadata": {},
     "output_type": "execute_result"
    }
   ],
   "source": [
    "dimension = sum([len(sublist) if isinstance(\n",
    "    sublist, list) else 1 for sublist in list(dspace_eval['variable'].values)])\n",
    "dimension"
   ]
  },
  {
   "cell_type": "code",
   "execution_count": 46,
   "id": "1fbd0325",
   "metadata": {},
   "outputs": [
    {
     "data": {
      "text/plain": [
       "10"
      ]
     },
     "execution_count": 46,
     "metadata": {},
     "output_type": "execute_result"
    }
   ],
   "source": [
    "theoretical_fullfact_levels = int(n_samples ** (1.0 / dimension))\n",
    "theoretical_fullfact_levels"
   ]
  },
  {
   "cell_type": "code",
   "execution_count": 47,
   "id": "4b1d01b7",
   "metadata": {},
   "outputs": [
    {
     "data": {
      "text/plain": [
       "100"
      ]
     },
     "execution_count": 47,
     "metadata": {},
     "output_type": "execute_result"
    }
   ],
   "source": [
    "theoretical_fullfact_samples = theoretical_fullfact_levels ** dimension\n",
    "theoretical_fullfact_samples"
   ]
  },
  {
   "cell_type": "code",
   "execution_count": 48,
   "id": "d8fe15f8",
   "metadata": {},
   "outputs": [
    {
     "data": {
      "text/plain": [
       "64"
      ]
     },
     "execution_count": 48,
     "metadata": {},
     "output_type": "execute_result"
    }
   ],
   "source": [
    "len(doe_disc_output)"
   ]
  },
  {
   "cell_type": "code",
   "execution_count": null,
   "id": "5f3bae42",
   "metadata": {},
   "outputs": [],
   "source": []
  },
  {
   "cell_type": "code",
   "execution_count": null,
   "id": "df1612dc",
   "metadata": {},
   "outputs": [],
   "source": []
  }
 ],
 "metadata": {
  "kernelspec": {
   "display_name": "Python 3 (ipykernel)",
   "language": "python",
   "name": "python3"
  },
  "language_info": {
   "codemirror_mode": {
    "name": "ipython",
    "version": 3
   },
   "file_extension": ".py",
   "mimetype": "text/x-python",
   "name": "python",
   "nbconvert_exporter": "python",
   "pygments_lexer": "ipython3",
   "version": "3.9.7"
  }
 },
 "nbformat": 4,
 "nbformat_minor": 5
}
