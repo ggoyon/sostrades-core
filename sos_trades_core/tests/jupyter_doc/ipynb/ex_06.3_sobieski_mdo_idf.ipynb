{
 "cells": [
  {
   "cell_type": "code",
   "execution_count": 1,
   "id": "d9894c3a",
   "metadata": {},
   "outputs": [],
   "source": [
    "if 0 :\n",
    "    %matplotlib inline\n",
    "else :\n",
    "    %matplotlib notebook"
   ]
  },
  {
   "cell_type": "markdown",
   "id": "6461e492",
   "metadata": {},
   "source": [
    "#  Import  libraries"
   ]
  },
  {
   "cell_type": "code",
   "execution_count": 2,
   "id": "a441eaaa",
   "metadata": {},
   "outputs": [
    {
     "name": "stdout",
     "output_type": "stream",
     "text": [
      "C:\\Users\\ng947ac\\Documents\\Daniel\\jupyter\\SoSTrades\\jupyter_doc\\_scripts\n",
      "C:\\Users\\ng947ac\\Documents\\Daniel\\git\\workspace\n",
      "C:\\Users\\ng947ac\\Documents\\Daniel\\git\\workspace\\sosgemseo\\src\\\n",
      "C:\\Users\\ng947ac\\Documents\\Daniel\\git\\workspace\\sostrades-core\n"
     ]
    }
   ],
   "source": [
    "import sys\n",
    "import os\n",
    "module_path = os.path.abspath('.') +\"\\\\_scripts\"\n",
    "print(module_path)\n",
    "\n",
    "if module_path not in sys.path:\n",
    "    sys.path.append(module_path)\n",
    "from _00_Import_packages_git3 import *"
   ]
  },
  {
   "cell_type": "code",
   "execution_count": 3,
   "id": "55ebc8e0",
   "metadata": {},
   "outputs": [
    {
     "name": "stdout",
     "output_type": "stream",
     "text": [
      "3.9.7\n"
     ]
    }
   ],
   "source": [
    "from platform import python_version\n",
    "\n",
    "print(python_version())"
   ]
  },
  {
   "cell_type": "code",
   "execution_count": 4,
   "id": "64a494bb",
   "metadata": {},
   "outputs": [
    {
     "name": "stdout",
     "output_type": "stream",
     "text": [
      "1.20.3\n"
     ]
    }
   ],
   "source": [
    "import numpy\n",
    "print(numpy.__version__)"
   ]
  },
  {
   "cell_type": "code",
   "execution_count": 5,
   "id": "c373e89e",
   "metadata": {},
   "outputs": [
    {
     "name": "stdout",
     "output_type": "stream",
     "text": [
      "1.7.1\n"
     ]
    }
   ],
   "source": [
    "import scipy\n",
    "print(scipy.__version__)"
   ]
  },
  {
   "cell_type": "code",
   "execution_count": 6,
   "id": "a8c32ea6",
   "metadata": {},
   "outputs": [
    {
     "name": "stdout",
     "output_type": "stream",
     "text": [
      "1.3.0\n"
     ]
    }
   ],
   "source": [
    "import pandas\n",
    "print(pandas.__version__)"
   ]
  },
  {
   "cell_type": "code",
   "execution_count": 7,
   "id": "e5501680",
   "metadata": {},
   "outputs": [],
   "source": [
    "from numpy import array\n",
    "import pandas as pd\n",
    "from sos_trades_core.execution_engine.execution_engine import ExecutionEngine\n",
    "from numpy.testing import assert_array_equal, assert_array_almost_equal  # @UnresolvedImport\n",
    "import os\n",
    "from gemseo.core.mdo_scenario import MDOScenario"
   ]
  },
  {
   "cell_type": "markdown",
   "id": "89ce3252",
   "metadata": {},
   "source": [
    "# 1) Set up"
   ]
  },
  {
   "cell_type": "code",
   "execution_count": 8,
   "id": "6dc9b171",
   "metadata": {},
   "outputs": [],
   "source": [
    "#from sos_trades_core.sos_wrapping.test_discs.sellar import Sellar1\n",
    "from sos_trades_core.execution_engine.execution_engine import ExecutionEngine"
   ]
  },
  {
   "cell_type": "code",
   "execution_count": 9,
   "id": "ecca50ce",
   "metadata": {},
   "outputs": [],
   "source": [
    "study_name = 'optim'\n",
    "ns = f'{study_name}'\n",
    "sc_name = \"SobOptimScenario\""
   ]
  },
  {
   "cell_type": "code",
   "execution_count": 10,
   "id": "c165bc67",
   "metadata": {},
   "outputs": [],
   "source": [
    "repo = 'sos_trades_core.sos_processes.test'\n",
    "proc_name = 'test_sobieski_opt'"
   ]
  },
  {
   "cell_type": "markdown",
   "id": "5227f4a9",
   "metadata": {},
   "source": [
    "# 2) Sobieski optim builder"
   ]
  },
  {
   "cell_type": "code",
   "execution_count": 11,
   "id": "9f99713c",
   "metadata": {},
   "outputs": [],
   "source": [
    "exec_eng = ExecutionEngine(study_name)\n",
    "factory = exec_eng.factory\n",
    "builder = factory.get_builder_from_process(repo=repo,mod_id=proc_name)\n",
    "exec_eng.factory.set_builders_to_coupling_builder(builder)"
   ]
  },
  {
   "cell_type": "code",
   "execution_count": 12,
   "id": "839b9538",
   "metadata": {},
   "outputs": [
    {
     "name": "stderr",
     "output_type": "stream",
     "text": [
      "INFO:SoS.EE:configuring ...\n",
      "WARNING:gemseo.mda.mda_chain:No coupling in MDA, switching chain_linearize to True\n",
      "INFO:SoS.EE.Coupling:The MDA solver of the Coupling optim is set to MDAJacobi\n"
     ]
    }
   ],
   "source": [
    "exec_eng.configure() "
   ]
  },
  {
   "cell_type": "code",
   "execution_count": 13,
   "id": "4520e240",
   "metadata": {},
   "outputs": [
    {
     "name": "stderr",
     "output_type": "stream",
     "text": [
      "INFO:SoS.EE:Nodes representation for Treeview optim\n",
      "|_ optim\n",
      "\t|_ SobOptimScenario\n",
      "\t\t|_ struct\n",
      "\t\t|_ aero\n",
      "\t\t|_ prop\n",
      "\t\t|_ mission\n"
     ]
    },
    {
     "data": {
      "text/plain": [
       "'Nodes representation for Treeview optim\\n|_ optim\\n\\t|_ SobOptimScenario\\n\\t\\t|_ struct\\n\\t\\t|_ aero\\n\\t\\t|_ prop\\n\\t\\t|_ mission'"
      ]
     },
     "execution_count": 13,
     "metadata": {},
     "output_type": "execute_result"
    }
   ],
   "source": [
    "exec_eng.display_treeview_nodes()"
   ]
  },
  {
   "cell_type": "code",
   "execution_count": 14,
   "id": "65baafe0",
   "metadata": {},
   "outputs": [
    {
     "name": "stderr",
     "output_type": "stream",
     "text": [
      "INFO:SoS.EE:Nodes representation for Treeview optim\n",
      "|_ optim\n",
      "\t-> acceleration\n",
      "\t-> authorize_self_coupled_disciplines\n",
      "\t-> cache_file_path\n",
      "\t-> cache_type\n",
      "\t-> chain_linearize\n",
      "\t-> debug_mode\n",
      "\t-> epsilon0\n",
      "\t-> group_mda_disciplines\n",
      "\t-> linear_solver_MDA\n",
      "\t-> linear_solver_MDA_options\n",
      "\t-> linear_solver_MDA_preconditioner\n",
      "\t-> linear_solver_MDO\n",
      "\t-> linear_solver_MDO_options\n",
      "\t-> linear_solver_MDO_preconditioner\n",
      "\t-> linearization_mode\n",
      "\t-> max_mda_iter\n",
      "\t-> n_processes\n",
      "\t-> n_subcouplings_parallel\n",
      "\t-> relax_factor\n",
      "\t-> sub_mda_class\n",
      "\t-> tolerance\n",
      "\t-> tolerance_gs\n",
      "\t-> use_lu_fact\n",
      "\t-> warm_start\n",
      "\t-> warm_start_threshold\n",
      "\t<- residuals_history\n",
      "\t|_ SobOptimScenario\n",
      "\t\t-> algo\n",
      "\t\t-> algo_options\n",
      "\t\t-> cache_file_path\n",
      "\t\t-> cache_type\n",
      "\t\t-> debug_mode\n",
      "\t\t-> design_space\n",
      "\t\t-> differentiation_method\n",
      "\t\t-> eq_constraints\n",
      "\t\t-> eval_jac\n",
      "\t\t-> eval_mode\n",
      "\t\t-> execute_at_xopt\n",
      "\t\t-> formulation\n",
      "\t\t-> ineq_constraints\n",
      "\t\t-> linearization_mode\n",
      "\t\t-> max_iter\n",
      "\t\t-> maximize_objective\n",
      "\t\t-> objective_name\n",
      "\t\t-> parallel_options\n",
      "\t\t-> x_1\n",
      "\t\t-> x_2\n",
      "\t\t-> x_3\n",
      "\t\t-> z\n",
      "\t\t<- design_space_out\n",
      "\t\t<- g_1\n",
      "\t\t<- g_2\n",
      "\t\t<- g_3\n",
      "\t\t<- y_1\n",
      "\t\t<- y_11\n",
      "\t\t<- y_12\n",
      "\t\t<- y_14\n",
      "\t\t<- y_2\n",
      "\t\t<- y_21\n",
      "\t\t<- y_23\n",
      "\t\t<- y_24\n",
      "\t\t<- y_3\n",
      "\t\t<- y_31\n",
      "\t\t<- y_32\n",
      "\t\t<- y_34\n",
      "\t\t<- y_4\n",
      "\t\t|_ struct\n",
      "\t\t\t-> cache_file_path\n",
      "\t\t\t-> cache_type\n",
      "\t\t\t-> debug_mode\n",
      "\t\t\t-> linearization_mode\n",
      "\t\t|_ aero\n",
      "\t\t\t-> cache_file_path\n",
      "\t\t\t-> cache_type\n",
      "\t\t\t-> debug_mode\n",
      "\t\t\t-> linearization_mode\n",
      "\t\t|_ prop\n",
      "\t\t\t-> cache_file_path\n",
      "\t\t\t-> cache_type\n",
      "\t\t\t-> debug_mode\n",
      "\t\t\t-> linearization_mode\n",
      "\t\t|_ mission\n",
      "\t\t\t-> cache_file_path\n",
      "\t\t\t-> cache_type\n",
      "\t\t\t-> debug_mode\n",
      "\t\t\t-> linearization_mode\n"
     ]
    },
    {
     "data": {
      "text/plain": [
       "'Nodes representation for Treeview optim\\n|_ optim\\n\\t-> acceleration\\n\\t-> authorize_self_coupled_disciplines\\n\\t-> cache_file_path\\n\\t-> cache_type\\n\\t-> chain_linearize\\n\\t-> debug_mode\\n\\t-> epsilon0\\n\\t-> group_mda_disciplines\\n\\t-> linear_solver_MDA\\n\\t-> linear_solver_MDA_options\\n\\t-> linear_solver_MDA_preconditioner\\n\\t-> linear_solver_MDO\\n\\t-> linear_solver_MDO_options\\n\\t-> linear_solver_MDO_preconditioner\\n\\t-> linearization_mode\\n\\t-> max_mda_iter\\n\\t-> n_processes\\n\\t-> n_subcouplings_parallel\\n\\t-> relax_factor\\n\\t-> sub_mda_class\\n\\t-> tolerance\\n\\t-> tolerance_gs\\n\\t-> use_lu_fact\\n\\t-> warm_start\\n\\t-> warm_start_threshold\\n\\t<- residuals_history\\n\\t|_ SobOptimScenario\\n\\t\\t-> algo\\n\\t\\t-> algo_options\\n\\t\\t-> cache_file_path\\n\\t\\t-> cache_type\\n\\t\\t-> debug_mode\\n\\t\\t-> design_space\\n\\t\\t-> differentiation_method\\n\\t\\t-> eq_constraints\\n\\t\\t-> eval_jac\\n\\t\\t-> eval_mode\\n\\t\\t-> execute_at_xopt\\n\\t\\t-> formulation\\n\\t\\t-> ineq_constraints\\n\\t\\t-> linearization_mode\\n\\t\\t-> max_iter\\n\\t\\t-> maximize_objective\\n\\t\\t-> objective_name\\n\\t\\t-> parallel_options\\n\\t\\t-> x_1\\n\\t\\t-> x_2\\n\\t\\t-> x_3\\n\\t\\t-> z\\n\\t\\t<- design_space_out\\n\\t\\t<- g_1\\n\\t\\t<- g_2\\n\\t\\t<- g_3\\n\\t\\t<- y_1\\n\\t\\t<- y_11\\n\\t\\t<- y_12\\n\\t\\t<- y_14\\n\\t\\t<- y_2\\n\\t\\t<- y_21\\n\\t\\t<- y_23\\n\\t\\t<- y_24\\n\\t\\t<- y_3\\n\\t\\t<- y_31\\n\\t\\t<- y_32\\n\\t\\t<- y_34\\n\\t\\t<- y_4\\n\\t\\t|_ struct\\n\\t\\t\\t-> cache_file_path\\n\\t\\t\\t-> cache_type\\n\\t\\t\\t-> debug_mode\\n\\t\\t\\t-> linearization_mode\\n\\t\\t|_ aero\\n\\t\\t\\t-> cache_file_path\\n\\t\\t\\t-> cache_type\\n\\t\\t\\t-> debug_mode\\n\\t\\t\\t-> linearization_mode\\n\\t\\t|_ prop\\n\\t\\t\\t-> cache_file_path\\n\\t\\t\\t-> cache_type\\n\\t\\t\\t-> debug_mode\\n\\t\\t\\t-> linearization_mode\\n\\t\\t|_ mission\\n\\t\\t\\t-> cache_file_path\\n\\t\\t\\t-> cache_type\\n\\t\\t\\t-> debug_mode\\n\\t\\t\\t-> linearization_mode'"
      ]
     },
     "execution_count": 14,
     "metadata": {},
     "output_type": "execute_result"
    }
   ],
   "source": [
    "exec_eng.display_treeview_nodes(True)"
   ]
  },
  {
   "cell_type": "markdown",
   "id": "db281ce3",
   "metadata": {},
   "source": [
    "# 3) Design Space"
   ]
  },
  {
   "cell_type": "code",
   "execution_count": 15,
   "id": "0b5785af",
   "metadata": {},
   "outputs": [],
   "source": [
    "dspace_dict = {'variable': ['z', 'x_1', 'x_2', 'x_3'],\n",
    "               'value': [\n",
    "                        [0.05, 45000.0,1.6,5.5,55.0,1000.0], \n",
    "                        [0.25, 1.0], \n",
    "                        [1.0],\n",
    "                        [0.5]],\n",
    "               'lower_bnd': [\n",
    "                        [0.01,30000.0,1.4,2.5,40.0,500.0], \n",
    "                        [0.1,0.75], \n",
    "                        [0.75],\n",
    "                        [0.1]],\n",
    "               'upper_bnd': [\n",
    "                        [0.09,60000.0,1.8,8.5,70.0,1500.0], \n",
    "                        [0.4,1.25], \n",
    "                        [1.25],\n",
    "                        [1.0]],\n",
    "               'enable_variable': [True, True, True, True],\n",
    "               'activated_elem': [[True, True, True, True, True, True], [True, True], [True], [True]]}"
   ]
  },
  {
   "cell_type": "code",
   "execution_count": 16,
   "id": "c8704661",
   "metadata": {},
   "outputs": [
    {
     "data": {
      "text/html": [
       "<div>\n",
       "<style scoped>\n",
       "    .dataframe tbody tr th:only-of-type {\n",
       "        vertical-align: middle;\n",
       "    }\n",
       "\n",
       "    .dataframe tbody tr th {\n",
       "        vertical-align: top;\n",
       "    }\n",
       "\n",
       "    .dataframe thead th {\n",
       "        text-align: right;\n",
       "    }\n",
       "</style>\n",
       "<table border=\"1\" class=\"dataframe\">\n",
       "  <thead>\n",
       "    <tr style=\"text-align: right;\">\n",
       "      <th></th>\n",
       "      <th>variable</th>\n",
       "      <th>value</th>\n",
       "      <th>lower_bnd</th>\n",
       "      <th>upper_bnd</th>\n",
       "      <th>enable_variable</th>\n",
       "      <th>activated_elem</th>\n",
       "    </tr>\n",
       "  </thead>\n",
       "  <tbody>\n",
       "    <tr>\n",
       "      <th>0</th>\n",
       "      <td>z</td>\n",
       "      <td>[0.05, 45000.0, 1.6, 5.5, 55.0, 1000.0]</td>\n",
       "      <td>[0.01, 30000.0, 1.4, 2.5, 40.0, 500.0]</td>\n",
       "      <td>[0.09, 60000.0, 1.8, 8.5, 70.0, 1500.0]</td>\n",
       "      <td>True</td>\n",
       "      <td>[True, True, True, True, True, True]</td>\n",
       "    </tr>\n",
       "    <tr>\n",
       "      <th>1</th>\n",
       "      <td>x_1</td>\n",
       "      <td>[0.25, 1.0]</td>\n",
       "      <td>[0.1, 0.75]</td>\n",
       "      <td>[0.4, 1.25]</td>\n",
       "      <td>True</td>\n",
       "      <td>[True, True]</td>\n",
       "    </tr>\n",
       "    <tr>\n",
       "      <th>2</th>\n",
       "      <td>x_2</td>\n",
       "      <td>[1.0]</td>\n",
       "      <td>[0.75]</td>\n",
       "      <td>[1.25]</td>\n",
       "      <td>True</td>\n",
       "      <td>[True]</td>\n",
       "    </tr>\n",
       "    <tr>\n",
       "      <th>3</th>\n",
       "      <td>x_3</td>\n",
       "      <td>[0.5]</td>\n",
       "      <td>[0.1]</td>\n",
       "      <td>[1.0]</td>\n",
       "      <td>True</td>\n",
       "      <td>[True]</td>\n",
       "    </tr>\n",
       "  </tbody>\n",
       "</table>\n",
       "</div>"
      ],
      "text/plain": [
       "  variable                                    value  \\\n",
       "0        z  [0.05, 45000.0, 1.6, 5.5, 55.0, 1000.0]   \n",
       "1      x_1                              [0.25, 1.0]   \n",
       "2      x_2                                    [1.0]   \n",
       "3      x_3                                    [0.5]   \n",
       "\n",
       "                                lower_bnd  \\\n",
       "0  [0.01, 30000.0, 1.4, 2.5, 40.0, 500.0]   \n",
       "1                             [0.1, 0.75]   \n",
       "2                                  [0.75]   \n",
       "3                                   [0.1]   \n",
       "\n",
       "                                 upper_bnd  enable_variable  \\\n",
       "0  [0.09, 60000.0, 1.8, 8.5, 70.0, 1500.0]             True   \n",
       "1                              [0.4, 1.25]             True   \n",
       "2                                   [1.25]             True   \n",
       "3                                    [1.0]             True   \n",
       "\n",
       "                         activated_elem  \n",
       "0  [True, True, True, True, True, True]  \n",
       "1                          [True, True]  \n",
       "2                                [True]  \n",
       "3                                [True]  "
      ]
     },
     "execution_count": 16,
     "metadata": {},
     "output_type": "execute_result"
    }
   ],
   "source": [
    "dspace = pd.DataFrame(dspace_dict)\n",
    "dspace"
   ]
  },
  {
   "cell_type": "code",
   "execution_count": 17,
   "id": "0c19842b",
   "metadata": {},
   "outputs": [],
   "source": [
    "#dspace.to_dict('list')"
   ]
  },
  {
   "cell_type": "code",
   "execution_count": 18,
   "id": "9a20b7f4",
   "metadata": {},
   "outputs": [],
   "source": [
    "dspace_coupl_dict = {'variable': ['y_14','y_32','y_31','y_24','y_34','y_23','y_21','y_12'],\n",
    "               'value': [\n",
    "                        [50606.9741711,7306.20262124], \n",
    "                        [0.50279625], \n",
    "                        [6354.32430691],\n",
    "                        [4.15006276],\n",
    "                        [1.10754577],\n",
    "                        [12194.2671934],\n",
    "                        [50606.9741711],\n",
    "                        [50606.9742,0.95]\n",
    "                        ],\n",
    "               'lower_bnd':  [\n",
    "                        [24850.0,-7700.0], \n",
    "                        [0.235], \n",
    "                        [2960.0],\n",
    "                        [0.44],\n",
    "                        [0.44],\n",
    "                        [3365.0],\n",
    "                        [24850.0],\n",
    "                        [24850.0,0.45]\n",
    "                        ],\n",
    "               'upper_bnd':   [\n",
    "                        [77100.0,45000.0], \n",
    "                        [0.795], \n",
    "                        [10185.0],\n",
    "                        [11.13],\n",
    "                        [1.98],\n",
    "                        [26400.0],\n",
    "                        [77250.0],\n",
    "                        [77250.0,1.5]\n",
    "                        ],\n",
    "               'enable_variable': [True, True, True, True, True, True, True, True],\n",
    "               'activated_elem': [[True, True], [True], [True], [True], [True], [True], [True],[True, True]]}"
   ]
  },
  {
   "cell_type": "code",
   "execution_count": 19,
   "id": "5a7ff8ae",
   "metadata": {},
   "outputs": [
    {
     "data": {
      "text/html": [
       "<div>\n",
       "<style scoped>\n",
       "    .dataframe tbody tr th:only-of-type {\n",
       "        vertical-align: middle;\n",
       "    }\n",
       "\n",
       "    .dataframe tbody tr th {\n",
       "        vertical-align: top;\n",
       "    }\n",
       "\n",
       "    .dataframe thead th {\n",
       "        text-align: right;\n",
       "    }\n",
       "</style>\n",
       "<table border=\"1\" class=\"dataframe\">\n",
       "  <thead>\n",
       "    <tr style=\"text-align: right;\">\n",
       "      <th></th>\n",
       "      <th>variable</th>\n",
       "      <th>value</th>\n",
       "      <th>lower_bnd</th>\n",
       "      <th>upper_bnd</th>\n",
       "      <th>enable_variable</th>\n",
       "      <th>activated_elem</th>\n",
       "    </tr>\n",
       "  </thead>\n",
       "  <tbody>\n",
       "    <tr>\n",
       "      <th>0</th>\n",
       "      <td>y_14</td>\n",
       "      <td>[50606.9741711, 7306.20262124]</td>\n",
       "      <td>[24850.0, -7700.0]</td>\n",
       "      <td>[77100.0, 45000.0]</td>\n",
       "      <td>True</td>\n",
       "      <td>[True, True]</td>\n",
       "    </tr>\n",
       "    <tr>\n",
       "      <th>1</th>\n",
       "      <td>y_32</td>\n",
       "      <td>[0.50279625]</td>\n",
       "      <td>[0.235]</td>\n",
       "      <td>[0.795]</td>\n",
       "      <td>True</td>\n",
       "      <td>[True]</td>\n",
       "    </tr>\n",
       "    <tr>\n",
       "      <th>2</th>\n",
       "      <td>y_31</td>\n",
       "      <td>[6354.32430691]</td>\n",
       "      <td>[2960.0]</td>\n",
       "      <td>[10185.0]</td>\n",
       "      <td>True</td>\n",
       "      <td>[True]</td>\n",
       "    </tr>\n",
       "    <tr>\n",
       "      <th>3</th>\n",
       "      <td>y_24</td>\n",
       "      <td>[4.15006276]</td>\n",
       "      <td>[0.44]</td>\n",
       "      <td>[11.13]</td>\n",
       "      <td>True</td>\n",
       "      <td>[True]</td>\n",
       "    </tr>\n",
       "    <tr>\n",
       "      <th>4</th>\n",
       "      <td>y_34</td>\n",
       "      <td>[1.10754577]</td>\n",
       "      <td>[0.44]</td>\n",
       "      <td>[1.98]</td>\n",
       "      <td>True</td>\n",
       "      <td>[True]</td>\n",
       "    </tr>\n",
       "    <tr>\n",
       "      <th>5</th>\n",
       "      <td>y_23</td>\n",
       "      <td>[12194.2671934]</td>\n",
       "      <td>[3365.0]</td>\n",
       "      <td>[26400.0]</td>\n",
       "      <td>True</td>\n",
       "      <td>[True]</td>\n",
       "    </tr>\n",
       "    <tr>\n",
       "      <th>6</th>\n",
       "      <td>y_21</td>\n",
       "      <td>[50606.9741711]</td>\n",
       "      <td>[24850.0]</td>\n",
       "      <td>[77250.0]</td>\n",
       "      <td>True</td>\n",
       "      <td>[True]</td>\n",
       "    </tr>\n",
       "    <tr>\n",
       "      <th>7</th>\n",
       "      <td>y_12</td>\n",
       "      <td>[50606.9742, 0.95]</td>\n",
       "      <td>[24850.0, 0.45]</td>\n",
       "      <td>[77250.0, 1.5]</td>\n",
       "      <td>True</td>\n",
       "      <td>[True, True]</td>\n",
       "    </tr>\n",
       "  </tbody>\n",
       "</table>\n",
       "</div>"
      ],
      "text/plain": [
       "  variable                           value           lower_bnd  \\\n",
       "0     y_14  [50606.9741711, 7306.20262124]  [24850.0, -7700.0]   \n",
       "1     y_32                    [0.50279625]             [0.235]   \n",
       "2     y_31                 [6354.32430691]            [2960.0]   \n",
       "3     y_24                    [4.15006276]              [0.44]   \n",
       "4     y_34                    [1.10754577]              [0.44]   \n",
       "5     y_23                 [12194.2671934]            [3365.0]   \n",
       "6     y_21                 [50606.9741711]           [24850.0]   \n",
       "7     y_12              [50606.9742, 0.95]     [24850.0, 0.45]   \n",
       "\n",
       "            upper_bnd  enable_variable activated_elem  \n",
       "0  [77100.0, 45000.0]             True   [True, True]  \n",
       "1             [0.795]             True         [True]  \n",
       "2           [10185.0]             True         [True]  \n",
       "3             [11.13]             True         [True]  \n",
       "4              [1.98]             True         [True]  \n",
       "5           [26400.0]             True         [True]  \n",
       "6           [77250.0]             True         [True]  \n",
       "7      [77250.0, 1.5]             True   [True, True]  "
      ]
     },
     "execution_count": 19,
     "metadata": {},
     "output_type": "execute_result"
    }
   ],
   "source": [
    "dspace_coupl = pd.DataFrame(dspace_coupl_dict)\n",
    "dspace_coupl"
   ]
  },
  {
   "cell_type": "code",
   "execution_count": 20,
   "id": "b039922a",
   "metadata": {},
   "outputs": [
    {
     "data": {
      "text/html": [
       "<div>\n",
       "<style scoped>\n",
       "    .dataframe tbody tr th:only-of-type {\n",
       "        vertical-align: middle;\n",
       "    }\n",
       "\n",
       "    .dataframe tbody tr th {\n",
       "        vertical-align: top;\n",
       "    }\n",
       "\n",
       "    .dataframe thead th {\n",
       "        text-align: right;\n",
       "    }\n",
       "</style>\n",
       "<table border=\"1\" class=\"dataframe\">\n",
       "  <thead>\n",
       "    <tr style=\"text-align: right;\">\n",
       "      <th></th>\n",
       "      <th>variable</th>\n",
       "      <th>value</th>\n",
       "      <th>lower_bnd</th>\n",
       "      <th>upper_bnd</th>\n",
       "      <th>enable_variable</th>\n",
       "      <th>activated_elem</th>\n",
       "    </tr>\n",
       "  </thead>\n",
       "  <tbody>\n",
       "    <tr>\n",
       "      <th>0</th>\n",
       "      <td>z</td>\n",
       "      <td>[0.05, 45000.0, 1.6, 5.5, 55.0, 1000.0]</td>\n",
       "      <td>[0.01, 30000.0, 1.4, 2.5, 40.0, 500.0]</td>\n",
       "      <td>[0.09, 60000.0, 1.8, 8.5, 70.0, 1500.0]</td>\n",
       "      <td>True</td>\n",
       "      <td>[True, True, True, True, True, True]</td>\n",
       "    </tr>\n",
       "    <tr>\n",
       "      <th>1</th>\n",
       "      <td>x_1</td>\n",
       "      <td>[0.25, 1.0]</td>\n",
       "      <td>[0.1, 0.75]</td>\n",
       "      <td>[0.4, 1.25]</td>\n",
       "      <td>True</td>\n",
       "      <td>[True, True]</td>\n",
       "    </tr>\n",
       "    <tr>\n",
       "      <th>2</th>\n",
       "      <td>x_2</td>\n",
       "      <td>[1.0]</td>\n",
       "      <td>[0.75]</td>\n",
       "      <td>[1.25]</td>\n",
       "      <td>True</td>\n",
       "      <td>[True]</td>\n",
       "    </tr>\n",
       "    <tr>\n",
       "      <th>3</th>\n",
       "      <td>x_3</td>\n",
       "      <td>[0.5]</td>\n",
       "      <td>[0.1]</td>\n",
       "      <td>[1.0]</td>\n",
       "      <td>True</td>\n",
       "      <td>[True]</td>\n",
       "    </tr>\n",
       "    <tr>\n",
       "      <th>0</th>\n",
       "      <td>y_14</td>\n",
       "      <td>[50606.9741711, 7306.20262124]</td>\n",
       "      <td>[24850.0, -7700.0]</td>\n",
       "      <td>[77100.0, 45000.0]</td>\n",
       "      <td>True</td>\n",
       "      <td>[True, True]</td>\n",
       "    </tr>\n",
       "    <tr>\n",
       "      <th>1</th>\n",
       "      <td>y_32</td>\n",
       "      <td>[0.50279625]</td>\n",
       "      <td>[0.235]</td>\n",
       "      <td>[0.795]</td>\n",
       "      <td>True</td>\n",
       "      <td>[True]</td>\n",
       "    </tr>\n",
       "    <tr>\n",
       "      <th>2</th>\n",
       "      <td>y_31</td>\n",
       "      <td>[6354.32430691]</td>\n",
       "      <td>[2960.0]</td>\n",
       "      <td>[10185.0]</td>\n",
       "      <td>True</td>\n",
       "      <td>[True]</td>\n",
       "    </tr>\n",
       "    <tr>\n",
       "      <th>3</th>\n",
       "      <td>y_24</td>\n",
       "      <td>[4.15006276]</td>\n",
       "      <td>[0.44]</td>\n",
       "      <td>[11.13]</td>\n",
       "      <td>True</td>\n",
       "      <td>[True]</td>\n",
       "    </tr>\n",
       "    <tr>\n",
       "      <th>4</th>\n",
       "      <td>y_34</td>\n",
       "      <td>[1.10754577]</td>\n",
       "      <td>[0.44]</td>\n",
       "      <td>[1.98]</td>\n",
       "      <td>True</td>\n",
       "      <td>[True]</td>\n",
       "    </tr>\n",
       "    <tr>\n",
       "      <th>5</th>\n",
       "      <td>y_23</td>\n",
       "      <td>[12194.2671934]</td>\n",
       "      <td>[3365.0]</td>\n",
       "      <td>[26400.0]</td>\n",
       "      <td>True</td>\n",
       "      <td>[True]</td>\n",
       "    </tr>\n",
       "    <tr>\n",
       "      <th>6</th>\n",
       "      <td>y_21</td>\n",
       "      <td>[50606.9741711]</td>\n",
       "      <td>[24850.0]</td>\n",
       "      <td>[77250.0]</td>\n",
       "      <td>True</td>\n",
       "      <td>[True]</td>\n",
       "    </tr>\n",
       "    <tr>\n",
       "      <th>7</th>\n",
       "      <td>y_12</td>\n",
       "      <td>[50606.9742, 0.95]</td>\n",
       "      <td>[24850.0, 0.45]</td>\n",
       "      <td>[77250.0, 1.5]</td>\n",
       "      <td>True</td>\n",
       "      <td>[True, True]</td>\n",
       "    </tr>\n",
       "  </tbody>\n",
       "</table>\n",
       "</div>"
      ],
      "text/plain": [
       "  variable                                    value  \\\n",
       "0        z  [0.05, 45000.0, 1.6, 5.5, 55.0, 1000.0]   \n",
       "1      x_1                              [0.25, 1.0]   \n",
       "2      x_2                                    [1.0]   \n",
       "3      x_3                                    [0.5]   \n",
       "0     y_14           [50606.9741711, 7306.20262124]   \n",
       "1     y_32                             [0.50279625]   \n",
       "2     y_31                          [6354.32430691]   \n",
       "3     y_24                             [4.15006276]   \n",
       "4     y_34                             [1.10754577]   \n",
       "5     y_23                          [12194.2671934]   \n",
       "6     y_21                          [50606.9741711]   \n",
       "7     y_12                       [50606.9742, 0.95]   \n",
       "\n",
       "                                lower_bnd  \\\n",
       "0  [0.01, 30000.0, 1.4, 2.5, 40.0, 500.0]   \n",
       "1                             [0.1, 0.75]   \n",
       "2                                  [0.75]   \n",
       "3                                   [0.1]   \n",
       "0                      [24850.0, -7700.0]   \n",
       "1                                 [0.235]   \n",
       "2                                [2960.0]   \n",
       "3                                  [0.44]   \n",
       "4                                  [0.44]   \n",
       "5                                [3365.0]   \n",
       "6                               [24850.0]   \n",
       "7                         [24850.0, 0.45]   \n",
       "\n",
       "                                 upper_bnd  enable_variable  \\\n",
       "0  [0.09, 60000.0, 1.8, 8.5, 70.0, 1500.0]             True   \n",
       "1                              [0.4, 1.25]             True   \n",
       "2                                   [1.25]             True   \n",
       "3                                    [1.0]             True   \n",
       "0                       [77100.0, 45000.0]             True   \n",
       "1                                  [0.795]             True   \n",
       "2                                [10185.0]             True   \n",
       "3                                  [11.13]             True   \n",
       "4                                   [1.98]             True   \n",
       "5                                [26400.0]             True   \n",
       "6                                [77250.0]             True   \n",
       "7                           [77250.0, 1.5]             True   \n",
       "\n",
       "                         activated_elem  \n",
       "0  [True, True, True, True, True, True]  \n",
       "1                          [True, True]  \n",
       "2                                [True]  \n",
       "3                                [True]  \n",
       "0                          [True, True]  \n",
       "1                                [True]  \n",
       "2                                [True]  \n",
       "3                                [True]  \n",
       "4                                [True]  \n",
       "5                                [True]  \n",
       "6                                [True]  \n",
       "7                          [True, True]  "
      ]
     },
     "execution_count": 20,
     "metadata": {},
     "output_type": "execute_result"
    }
   ],
   "source": [
    "# merge dataframe (add lines)\n",
    "frames = [dspace,dspace_coupl]\n",
    "dspace_all = pd.concat(frames)\n",
    "dspace_all"
   ]
  },
  {
   "cell_type": "code",
   "execution_count": 21,
   "id": "dec9b15d",
   "metadata": {},
   "outputs": [],
   "source": [
    "# convert dataframe to dict\n",
    "dspace_all_dict = dspace_all.to_dict('list')"
   ]
  },
  {
   "cell_type": "markdown",
   "id": "cae1d464",
   "metadata": {},
   "source": [
    "# 4) Optim and Sobieski inputs"
   ]
  },
  {
   "cell_type": "code",
   "execution_count": 22,
   "id": "6230914d",
   "metadata": {},
   "outputs": [
    {
     "data": {
      "text/plain": [
       "{'optim.SobOptimScenario.max_iter': 20,\n",
       " 'optim.SobOptimScenario.algo': 'SLSQP',\n",
       " 'optim.SobOptimScenario.design_space':   variable                                    value  \\\n",
       " 0        z  [0.05, 45000.0, 1.6, 5.5, 55.0, 1000.0]   \n",
       " 1      x_1                              [0.25, 1.0]   \n",
       " 2      x_2                                    [1.0]   \n",
       " 3      x_3                                    [0.5]   \n",
       " 0     y_14           [50606.9741711, 7306.20262124]   \n",
       " 1     y_32                             [0.50279625]   \n",
       " 2     y_31                          [6354.32430691]   \n",
       " 3     y_24                             [4.15006276]   \n",
       " 4     y_34                             [1.10754577]   \n",
       " 5     y_23                          [12194.2671934]   \n",
       " 6     y_21                          [50606.9741711]   \n",
       " 7     y_12                       [50606.9742, 0.95]   \n",
       " \n",
       "                                 lower_bnd  \\\n",
       " 0  [0.01, 30000.0, 1.4, 2.5, 40.0, 500.0]   \n",
       " 1                             [0.1, 0.75]   \n",
       " 2                                  [0.75]   \n",
       " 3                                   [0.1]   \n",
       " 0                      [24850.0, -7700.0]   \n",
       " 1                                 [0.235]   \n",
       " 2                                [2960.0]   \n",
       " 3                                  [0.44]   \n",
       " 4                                  [0.44]   \n",
       " 5                                [3365.0]   \n",
       " 6                               [24850.0]   \n",
       " 7                         [24850.0, 0.45]   \n",
       " \n",
       "                                  upper_bnd  enable_variable  \\\n",
       " 0  [0.09, 60000.0, 1.8, 8.5, 70.0, 1500.0]             True   \n",
       " 1                              [0.4, 1.25]             True   \n",
       " 2                                   [1.25]             True   \n",
       " 3                                    [1.0]             True   \n",
       " 0                       [77100.0, 45000.0]             True   \n",
       " 1                                  [0.795]             True   \n",
       " 2                                [10185.0]             True   \n",
       " 3                                  [11.13]             True   \n",
       " 4                                   [1.98]             True   \n",
       " 5                                [26400.0]             True   \n",
       " 6                                [77250.0]             True   \n",
       " 7                           [77250.0, 1.5]             True   \n",
       " \n",
       "                          activated_elem  \n",
       " 0  [True, True, True, True, True, True]  \n",
       " 1                          [True, True]  \n",
       " 2                                [True]  \n",
       " 3                                [True]  \n",
       " 0                          [True, True]  \n",
       " 1                                [True]  \n",
       " 2                                [True]  \n",
       " 3                                [True]  \n",
       " 4                                [True]  \n",
       " 5                                [True]  \n",
       " 6                                [True]  \n",
       " 7                          [True, True]  ,\n",
       " 'optim.SobOptimScenario.formulation': 'IDF',\n",
       " 'optim.SobOptimScenario.objective_name': 'y_4',\n",
       " 'optim.SobOptimScenario.maximize_objective': True,\n",
       " 'optim.SobOptimScenario.ineq_constraints': ['g_1', 'g_2', 'g_3'],\n",
       " 'optim.SobOptimScenario.algo_options': {'ftol_rel': 1e-10,\n",
       "  'ineq_tolerance': 0.002,\n",
       "  'normalize_design_space': True},\n",
       " 'optim.tolerance': 1e-10,\n",
       " 'optim.max_mda_iter': 50,\n",
       " 'optim.warm_start': True,\n",
       " 'optim.use_lu_fact': True}"
      ]
     },
     "execution_count": 22,
     "metadata": {},
     "output_type": "execute_result"
    }
   ],
   "source": [
    "#-- set up disciplines in Scenario\n",
    "disc_dict = {}\n",
    "# Optim inputs\n",
    "disc_dict[f'{ns}.{sc_name}.max_iter'] = 20\n",
    "# SLSQP, NLOPT_SLSQP\n",
    "disc_dict[f'{ns}.{sc_name}.algo'] = \"SLSQP\"\n",
    "disc_dict[f'{ns}.{sc_name}.design_space'] = dspace_all \n",
    "disc_dict[f'{ns}.{sc_name}.formulation'] = 'IDF'\n",
    "disc_dict[f'{ns}.{sc_name}.objective_name'] = 'y_4'\n",
    "disc_dict[f'{ns}.{sc_name}.maximize_objective'] = True\n",
    "disc_dict[f'{ns}.{sc_name}.ineq_constraints'] = [f'g_1', f'g_2', f'g_3']\n",
    "disc_dict[f'{ns}.{sc_name}.algo_options'] = {\"ftol_rel\": 1e-10,\n",
    "                                                            \"ineq_tolerance\": 2e-3,\n",
    "                                                            \"normalize_design_space\": True}\n",
    "disc_dict[f'{ns}.tolerance'] = 1e-10\n",
    "disc_dict[f'{ns}.max_mda_iter'] = 50\n",
    "disc_dict[f'{ns}.warm_start'] = True\n",
    "disc_dict[f'{ns}.use_lu_fact'] = True\n",
    "disc_dict"
   ]
  },
  {
   "cell_type": "code",
   "execution_count": 23,
   "id": "e53bb9ac",
   "metadata": {},
   "outputs": [
    {
     "name": "stderr",
     "output_type": "stream",
     "text": [
      "INFO:SoS.EE:configuring ...\n",
      "WARNING:SoS.EE.SoSOptimScenario:The differentiation method \"finite_differences\" will overload the linearization mode \"auto\" \n",
      "WARNING:SoS.EE.SoSOptimScenario:The differentiation method \"finite_differences\" will overload the linearization mode \"auto\" \n",
      "WARNING:SoS.EE.SoSOptimScenario:The differentiation method \"finite_differences\" will overload the linearization mode \"auto\" \n",
      "WARNING:SoS.EE.SoSOptimScenario:The differentiation method \"finite_differences\" will overload the linearization mode \"auto\" \n",
      "INFO:SoS.EE:configuring ...\n",
      "WARNING:SoS.EE.SoSOptimScenario:The differentiation method \"finite_differences\" will overload the linearization mode \"auto\" \n",
      "WARNING:SoS.EE.SoSOptimScenario:The differentiation method \"finite_differences\" will overload the linearization mode \"auto\" \n",
      "WARNING:SoS.EE.SoSOptimScenario:The differentiation method \"finite_differences\" will overload the linearization mode \"auto\" \n",
      "WARNING:SoS.EE.SoSOptimScenario:The differentiation method \"finite_differences\" will overload the linearization mode \"auto\" \n",
      "INFO:SoS.EE:configuring ...\n",
      "WARNING:gemseo.mda.mda_chain:No coupling in MDA, switching chain_linearize to True\n",
      "INFO:SoS.EE.Coupling:The MDA solver of the Coupling optim is set to MDAJacobi\n"
     ]
    }
   ],
   "source": [
    "#exec_eng.dm.set_values_from_dict(disc_dict)\n",
    "exec_eng.load_study_from_input_dict(disc_dict)"
   ]
  },
  {
   "cell_type": "code",
   "execution_count": 24,
   "id": "7c484f8b",
   "metadata": {},
   "outputs": [],
   "source": [
    "# discipline inputs"
   ]
  },
  {
   "cell_type": "code",
   "execution_count": 25,
   "id": "c1de3467",
   "metadata": {},
   "outputs": [
    {
     "data": {
      "text/plain": [
       "{'optim.SobOptimScenario.z': [0.05, 45000, 1.6, 5.5, 55.0, 1000],\n",
       " 'optim.SobOptimScenario.y_14': [50606.9, 7306.2],\n",
       " 'optim.SobOptimScenario.y_24': [4.15],\n",
       " 'optim.SobOptimScenario.y_34': [1.1],\n",
       " 'optim.SobOptimScenario.x_1': [0.25, 1.0],\n",
       " 'optim.SobOptimScenario.y_21': [50606.9],\n",
       " 'optim.SobOptimScenario.y_31': [6354.32],\n",
       " 'optim.SobOptimScenario.x_2': [1.0],\n",
       " 'optim.SobOptimScenario.y_12': [50606.9, 0.95],\n",
       " 'optim.SobOptimScenario.y_32': [12194.2],\n",
       " 'optim.SobOptimScenario.x_3': [0.5],\n",
       " 'optim.SobOptimScenario.y_23': [12194.2]}"
      ]
     },
     "execution_count": 25,
     "metadata": {},
     "output_type": "execute_result"
    }
   ],
   "source": [
    "values_dict = {\n",
    "                  f'{ns}.{sc_name}.z': [0.05,45000,1.6,5.5,55.,1000],\n",
    "                  f'{ns}.{sc_name}.y_14': [50606.9,7306.20],\n",
    "                  f'{ns}.{sc_name}.y_24': [4.15], \n",
    "                  f'{ns}.{sc_name}.y_34': [1.10], \n",
    "                  f'{ns}.{sc_name}.x_1': [0.25,1.0],\n",
    "                  f'{ns}.{sc_name}.y_21': [50606.9], \n",
    "                  f'{ns}.{sc_name}.y_31':[6354.32], \n",
    "                  f'{ns}.{sc_name}.x_2': [1.0],\n",
    "                  f'{ns}.{sc_name}.y_12': [50606.9,0.95], \n",
    "                  f'{ns}.{sc_name}.y_32': [12194.2], \n",
    "                  f'{ns}.{sc_name}.x_3': [0.5],\n",
    "                  f'{ns}.{sc_name}.y_23': [12194.2] \n",
    "                  }\n",
    "values_dict"
   ]
  },
  {
   "cell_type": "code",
   "execution_count": 26,
   "id": "e3e077b4",
   "metadata": {},
   "outputs": [
    {
     "name": "stderr",
     "output_type": "stream",
     "text": [
      "INFO:SoS.EE:configuring ...\n",
      "WARNING:gemseo.mda.mda_chain:No coupling in MDA, switching chain_linearize to True\n",
      "INFO:SoS.EE.Coupling:The MDA solver of the Coupling optim is set to MDAJacobi\n"
     ]
    }
   ],
   "source": [
    "#exec_eng.dm.set_values_from_dict(values_dict)\n",
    "exec_eng.load_study_from_input_dict(values_dict)"
   ]
  },
  {
   "cell_type": "code",
   "execution_count": 27,
   "id": "1cfeeb26",
   "metadata": {},
   "outputs": [
    {
     "name": "stderr",
     "output_type": "stream",
     "text": [
      "INFO:SoS.EE:configuring ...\n",
      "WARNING:gemseo.mda.mda_chain:No coupling in MDA, switching chain_linearize to True\n",
      "INFO:SoS.EE.Coupling:The MDA solver of the Coupling optim is set to MDAJacobi\n"
     ]
    }
   ],
   "source": [
    "exec_eng.configure()"
   ]
  },
  {
   "cell_type": "code",
   "execution_count": 28,
   "id": "0b81e076",
   "metadata": {},
   "outputs": [
    {
     "data": {
      "text/plain": [
       "{'optim.sub_mda_class': 'MDAJacobi',\n",
       " 'optim.max_mda_iter': 50,\n",
       " 'optim.n_processes': 1,\n",
       " 'optim.chain_linearize': False,\n",
       " 'optim.tolerance': 1e-10,\n",
       " 'optim.use_lu_fact': True,\n",
       " 'optim.warm_start': True,\n",
       " 'optim.acceleration': 'm2d',\n",
       " 'optim.warm_start_threshold': -1,\n",
       " 'optim.n_subcouplings_parallel': 1,\n",
       " 'optim.tolerance_gs': 10.0,\n",
       " 'optim.relax_factor': 0.99,\n",
       " 'optim.epsilon0': 1e-06,\n",
       " 'optim.linear_solver_MDO': 'GMRES',\n",
       " 'optim.linear_solver_MDO_preconditioner': 'None',\n",
       " 'optim.linear_solver_MDO_options': {'max_iter': 1000, 'tol': 1e-08},\n",
       " 'optim.linear_solver_MDA': 'GMRES',\n",
       " 'optim.linear_solver_MDA_preconditioner': 'None',\n",
       " 'optim.linear_solver_MDA_options': {'max_iter': 1000, 'tol': 1e-08},\n",
       " 'optim.group_mda_disciplines': False,\n",
       " 'optim.authorize_self_coupled_disciplines': False,\n",
       " 'optim.linearization_mode': 'auto',\n",
       " 'optim.cache_type': 'SimpleCache',\n",
       " 'optim.cache_file_path': None,\n",
       " 'optim.debug_mode': '',\n",
       " 'optim.SobOptimScenario.max_iter': 20,\n",
       " 'optim.SobOptimScenario.ineq_constraints': ['g_1', 'g_2', 'g_3'],\n",
       " 'optim.SobOptimScenario.eq_constraints': [],\n",
       " 'optim.SobOptimScenario.algo': 'SLSQP',\n",
       " 'optim.SobOptimScenario.design_space':   variable                                    value  \\\n",
       " 0        z  [0.05, 45000.0, 1.6, 5.5, 55.0, 1000.0]   \n",
       " 1      x_1                              [0.25, 1.0]   \n",
       " 2      x_2                                    [1.0]   \n",
       " 3      x_3                                    [0.5]   \n",
       " 0     y_14           [50606.9741711, 7306.20262124]   \n",
       " 1     y_32                             [0.50279625]   \n",
       " 2     y_31                          [6354.32430691]   \n",
       " 3     y_24                             [4.15006276]   \n",
       " 4     y_34                             [1.10754577]   \n",
       " 5     y_23                          [12194.2671934]   \n",
       " 6     y_21                          [50606.9741711]   \n",
       " 7     y_12                       [50606.9742, 0.95]   \n",
       " \n",
       "                                 lower_bnd  \\\n",
       " 0  [0.01, 30000.0, 1.4, 2.5, 40.0, 500.0]   \n",
       " 1                             [0.1, 0.75]   \n",
       " 2                                  [0.75]   \n",
       " 3                                   [0.1]   \n",
       " 0                      [24850.0, -7700.0]   \n",
       " 1                                 [0.235]   \n",
       " 2                                [2960.0]   \n",
       " 3                                  [0.44]   \n",
       " 4                                  [0.44]   \n",
       " 5                                [3365.0]   \n",
       " 6                               [24850.0]   \n",
       " 7                         [24850.0, 0.45]   \n",
       " \n",
       "                                  upper_bnd  enable_variable  \\\n",
       " 0  [0.09, 60000.0, 1.8, 8.5, 70.0, 1500.0]             True   \n",
       " 1                              [0.4, 1.25]             True   \n",
       " 2                                   [1.25]             True   \n",
       " 3                                    [1.0]             True   \n",
       " 0                       [77100.0, 45000.0]             True   \n",
       " 1                                  [0.795]             True   \n",
       " 2                                [10185.0]             True   \n",
       " 3                                  [11.13]             True   \n",
       " 4                                   [1.98]             True   \n",
       " 5                                [26400.0]             True   \n",
       " 6                                [77250.0]             True   \n",
       " 7                           [77250.0, 1.5]             True   \n",
       " \n",
       "                          activated_elem  \n",
       " 0  [True, True, True, True, True, True]  \n",
       " 1                          [True, True]  \n",
       " 2                                [True]  \n",
       " 3                                [True]  \n",
       " 0                          [True, True]  \n",
       " 1                                [True]  \n",
       " 2                                [True]  \n",
       " 3                                [True]  \n",
       " 4                                [True]  \n",
       " 5                                [True]  \n",
       " 6                                [True]  \n",
       " 7                          [True, True]  ,\n",
       " 'optim.SobOptimScenario.formulation': 'IDF',\n",
       " 'optim.SobOptimScenario.maximize_objective': True,\n",
       " 'optim.SobOptimScenario.objective_name': 'y_4',\n",
       " 'optim.SobOptimScenario.differentiation_method': 'finite_differences',\n",
       " 'optim.SobOptimScenario.algo_options': {'xtol_rel': 1e-09,\n",
       "  'xtol_abs': 1e-09,\n",
       "  'ftol_rel': 1e-10,\n",
       "  'ftol_abs': 1e-09,\n",
       "  'max_time': 0,\n",
       "  'disp': 0,\n",
       "  'eq_tolerance': 0.01,\n",
       "  'ineq_tolerance': 0.002,\n",
       "  'max_iter': 999,\n",
       "  'normalize_design_space': True},\n",
       " 'optim.SobOptimScenario.parallel_options': {'parallel': False,\n",
       "  'n_processes': 8,\n",
       "  'use_threading': False,\n",
       "  'wait_time_between_fork': 0},\n",
       " 'optim.SobOptimScenario.eval_mode': False,\n",
       " 'optim.SobOptimScenario.eval_jac': False,\n",
       " 'optim.SobOptimScenario.execute_at_xopt': True,\n",
       " 'optim.SobOptimScenario.linearization_mode': 'auto',\n",
       " 'optim.SobOptimScenario.cache_type': 'SimpleCache',\n",
       " 'optim.SobOptimScenario.cache_file_path': None,\n",
       " 'optim.SobOptimScenario.debug_mode': '',\n",
       " 'optim.SobOptimScenario.design_space_out': None,\n",
       " 'optim.SobOptimScenario.x_1': [0.25, 1.0],\n",
       " 'optim.SobOptimScenario.y_21': [50606.9],\n",
       " 'optim.SobOptimScenario.y_31': [6354.32],\n",
       " 'optim.SobOptimScenario.z': [0.05, 45000, 1.6, 5.5, 55.0, 1000],\n",
       " 'optim.SobOptimScenario.struct.linearization_mode': 'auto',\n",
       " 'optim.SobOptimScenario.struct.cache_type': 'SimpleCache',\n",
       " 'optim.SobOptimScenario.struct.cache_file_path': None,\n",
       " 'optim.SobOptimScenario.struct.debug_mode': '',\n",
       " 'optim.SobOptimScenario.y_1': None,\n",
       " 'optim.SobOptimScenario.y_11': None,\n",
       " 'optim.SobOptimScenario.y_14': [50606.9, 7306.2],\n",
       " 'optim.SobOptimScenario.g_1': None,\n",
       " 'optim.SobOptimScenario.y_12': [50606.9, 0.95],\n",
       " 'optim.SobOptimScenario.x_2': [1.0],\n",
       " 'optim.SobOptimScenario.y_32': [12194.2],\n",
       " 'optim.SobOptimScenario.aero.linearization_mode': 'auto',\n",
       " 'optim.SobOptimScenario.aero.cache_type': 'SimpleCache',\n",
       " 'optim.SobOptimScenario.aero.cache_file_path': None,\n",
       " 'optim.SobOptimScenario.aero.debug_mode': '',\n",
       " 'optim.SobOptimScenario.y_2': None,\n",
       " 'optim.SobOptimScenario.y_23': [12194.2],\n",
       " 'optim.SobOptimScenario.y_24': [4.15],\n",
       " 'optim.SobOptimScenario.g_2': None,\n",
       " 'optim.SobOptimScenario.x_3': [0.5],\n",
       " 'optim.SobOptimScenario.prop.linearization_mode': 'auto',\n",
       " 'optim.SobOptimScenario.prop.cache_type': 'SimpleCache',\n",
       " 'optim.SobOptimScenario.prop.cache_file_path': None,\n",
       " 'optim.SobOptimScenario.prop.debug_mode': '',\n",
       " 'optim.SobOptimScenario.y_3': None,\n",
       " 'optim.SobOptimScenario.y_34': [1.1],\n",
       " 'optim.SobOptimScenario.g_3': None,\n",
       " 'optim.SobOptimScenario.mission.linearization_mode': 'auto',\n",
       " 'optim.SobOptimScenario.mission.cache_type': 'SimpleCache',\n",
       " 'optim.SobOptimScenario.mission.cache_file_path': None,\n",
       " 'optim.SobOptimScenario.mission.debug_mode': '',\n",
       " 'optim.SobOptimScenario.y_4': None,\n",
       " 'optim.residuals_history': Empty DataFrame\n",
       " Columns: []\n",
       " Index: []}"
      ]
     },
     "execution_count": 28,
     "metadata": {},
     "output_type": "execute_result"
    }
   ],
   "source": [
    "exec_eng.dm.get_data_dict_values()"
   ]
  },
  {
   "cell_type": "code",
   "execution_count": 29,
   "id": "3d47d27b",
   "metadata": {},
   "outputs": [],
   "source": [
    "#opt_disc.get_sos_disciplines()"
   ]
  },
  {
   "cell_type": "code",
   "execution_count": 30,
   "id": "dd75d7e1",
   "metadata": {},
   "outputs": [],
   "source": [
    "#help(opt_disc)"
   ]
  },
  {
   "cell_type": "code",
   "execution_count": 31,
   "id": "2132dbe2",
   "metadata": {},
   "outputs": [],
   "source": [
    "#opt_disc.disciplines"
   ]
  },
  {
   "cell_type": "code",
   "execution_count": 32,
   "id": "fd8d3b3b",
   "metadata": {},
   "outputs": [
    {
     "name": "stderr",
     "output_type": "stream",
     "text": [
      "INFO:SoS.EE:Nodes representation for Treeview optim\n",
      "|_ optim\n",
      "\t|_ SobOptimScenario\n",
      "\t\t|_ struct\n",
      "\t\t|_ aero\n",
      "\t\t|_ prop\n",
      "\t\t|_ mission\n"
     ]
    },
    {
     "data": {
      "text/plain": [
       "'Nodes representation for Treeview optim\\n|_ optim\\n\\t|_ SobOptimScenario\\n\\t\\t|_ struct\\n\\t\\t|_ aero\\n\\t\\t|_ prop\\n\\t\\t|_ mission'"
      ]
     },
     "execution_count": 32,
     "metadata": {},
     "output_type": "execute_result"
    }
   ],
   "source": [
    "exec_eng.display_treeview_nodes()"
   ]
  },
  {
   "cell_type": "code",
   "execution_count": 33,
   "id": "22fa85c1",
   "metadata": {},
   "outputs": [
    {
     "name": "stderr",
     "output_type": "stream",
     "text": [
      "INFO:SoS.EE:Nodes representation for Treeview optim\n",
      "|_ optim\n",
      "\t-> acceleration\n",
      "\t-> authorize_self_coupled_disciplines\n",
      "\t-> cache_file_path\n",
      "\t-> cache_type\n",
      "\t-> chain_linearize\n",
      "\t-> debug_mode\n",
      "\t-> epsilon0\n",
      "\t-> group_mda_disciplines\n",
      "\t-> linear_solver_MDA\n",
      "\t-> linear_solver_MDA_options\n",
      "\t-> linear_solver_MDA_preconditioner\n",
      "\t-> linear_solver_MDO\n",
      "\t-> linear_solver_MDO_options\n",
      "\t-> linear_solver_MDO_preconditioner\n",
      "\t-> linearization_mode\n",
      "\t-> max_mda_iter\n",
      "\t-> n_processes\n",
      "\t-> n_subcouplings_parallel\n",
      "\t-> relax_factor\n",
      "\t-> sub_mda_class\n",
      "\t-> tolerance\n",
      "\t-> tolerance_gs\n",
      "\t-> use_lu_fact\n",
      "\t-> warm_start\n",
      "\t-> warm_start_threshold\n",
      "\t<- residuals_history\n",
      "\t|_ SobOptimScenario\n",
      "\t\t-> algo\n",
      "\t\t-> algo_options\n",
      "\t\t-> cache_file_path\n",
      "\t\t-> cache_type\n",
      "\t\t-> debug_mode\n",
      "\t\t-> design_space\n",
      "\t\t-> differentiation_method\n",
      "\t\t-> eq_constraints\n",
      "\t\t-> eval_jac\n",
      "\t\t-> eval_mode\n",
      "\t\t-> execute_at_xopt\n",
      "\t\t-> formulation\n",
      "\t\t-> ineq_constraints\n",
      "\t\t-> linearization_mode\n",
      "\t\t-> max_iter\n",
      "\t\t-> maximize_objective\n",
      "\t\t-> objective_name\n",
      "\t\t-> parallel_options\n",
      "\t\t-> x_1\n",
      "\t\t-> x_2\n",
      "\t\t-> x_3\n",
      "\t\t-> z\n",
      "\t\t<- design_space_out\n",
      "\t\t<- g_1\n",
      "\t\t<- g_2\n",
      "\t\t<- g_3\n",
      "\t\t<- y_1\n",
      "\t\t<- y_11\n",
      "\t\t<- y_12\n",
      "\t\t<- y_14\n",
      "\t\t<- y_2\n",
      "\t\t<- y_21\n",
      "\t\t<- y_23\n",
      "\t\t<- y_24\n",
      "\t\t<- y_3\n",
      "\t\t<- y_31\n",
      "\t\t<- y_32\n",
      "\t\t<- y_34\n",
      "\t\t<- y_4\n",
      "\t\t|_ struct\n",
      "\t\t\t-> cache_file_path\n",
      "\t\t\t-> cache_type\n",
      "\t\t\t-> debug_mode\n",
      "\t\t\t-> linearization_mode\n",
      "\t\t|_ aero\n",
      "\t\t\t-> cache_file_path\n",
      "\t\t\t-> cache_type\n",
      "\t\t\t-> debug_mode\n",
      "\t\t\t-> linearization_mode\n",
      "\t\t|_ prop\n",
      "\t\t\t-> cache_file_path\n",
      "\t\t\t-> cache_type\n",
      "\t\t\t-> debug_mode\n",
      "\t\t\t-> linearization_mode\n",
      "\t\t|_ mission\n",
      "\t\t\t-> cache_file_path\n",
      "\t\t\t-> cache_type\n",
      "\t\t\t-> debug_mode\n",
      "\t\t\t-> linearization_mode\n"
     ]
    },
    {
     "data": {
      "text/plain": [
       "'Nodes representation for Treeview optim\\n|_ optim\\n\\t-> acceleration\\n\\t-> authorize_self_coupled_disciplines\\n\\t-> cache_file_path\\n\\t-> cache_type\\n\\t-> chain_linearize\\n\\t-> debug_mode\\n\\t-> epsilon0\\n\\t-> group_mda_disciplines\\n\\t-> linear_solver_MDA\\n\\t-> linear_solver_MDA_options\\n\\t-> linear_solver_MDA_preconditioner\\n\\t-> linear_solver_MDO\\n\\t-> linear_solver_MDO_options\\n\\t-> linear_solver_MDO_preconditioner\\n\\t-> linearization_mode\\n\\t-> max_mda_iter\\n\\t-> n_processes\\n\\t-> n_subcouplings_parallel\\n\\t-> relax_factor\\n\\t-> sub_mda_class\\n\\t-> tolerance\\n\\t-> tolerance_gs\\n\\t-> use_lu_fact\\n\\t-> warm_start\\n\\t-> warm_start_threshold\\n\\t<- residuals_history\\n\\t|_ SobOptimScenario\\n\\t\\t-> algo\\n\\t\\t-> algo_options\\n\\t\\t-> cache_file_path\\n\\t\\t-> cache_type\\n\\t\\t-> debug_mode\\n\\t\\t-> design_space\\n\\t\\t-> differentiation_method\\n\\t\\t-> eq_constraints\\n\\t\\t-> eval_jac\\n\\t\\t-> eval_mode\\n\\t\\t-> execute_at_xopt\\n\\t\\t-> formulation\\n\\t\\t-> ineq_constraints\\n\\t\\t-> linearization_mode\\n\\t\\t-> max_iter\\n\\t\\t-> maximize_objective\\n\\t\\t-> objective_name\\n\\t\\t-> parallel_options\\n\\t\\t-> x_1\\n\\t\\t-> x_2\\n\\t\\t-> x_3\\n\\t\\t-> z\\n\\t\\t<- design_space_out\\n\\t\\t<- g_1\\n\\t\\t<- g_2\\n\\t\\t<- g_3\\n\\t\\t<- y_1\\n\\t\\t<- y_11\\n\\t\\t<- y_12\\n\\t\\t<- y_14\\n\\t\\t<- y_2\\n\\t\\t<- y_21\\n\\t\\t<- y_23\\n\\t\\t<- y_24\\n\\t\\t<- y_3\\n\\t\\t<- y_31\\n\\t\\t<- y_32\\n\\t\\t<- y_34\\n\\t\\t<- y_4\\n\\t\\t|_ struct\\n\\t\\t\\t-> cache_file_path\\n\\t\\t\\t-> cache_type\\n\\t\\t\\t-> debug_mode\\n\\t\\t\\t-> linearization_mode\\n\\t\\t|_ aero\\n\\t\\t\\t-> cache_file_path\\n\\t\\t\\t-> cache_type\\n\\t\\t\\t-> debug_mode\\n\\t\\t\\t-> linearization_mode\\n\\t\\t|_ prop\\n\\t\\t\\t-> cache_file_path\\n\\t\\t\\t-> cache_type\\n\\t\\t\\t-> debug_mode\\n\\t\\t\\t-> linearization_mode\\n\\t\\t|_ mission\\n\\t\\t\\t-> cache_file_path\\n\\t\\t\\t-> cache_type\\n\\t\\t\\t-> debug_mode\\n\\t\\t\\t-> linearization_mode'"
      ]
     },
     "execution_count": 33,
     "metadata": {},
     "output_type": "execute_result"
    }
   ],
   "source": [
    "exec_eng.display_treeview_nodes(True)"
   ]
  },
  {
   "cell_type": "code",
   "execution_count": 34,
   "id": "63976221",
   "metadata": {},
   "outputs": [
    {
     "name": "stdout",
     "output_type": "stream",
     "text": [
      "key optim.sub_mda_class\n",
      "key optim.max_mda_iter\n",
      "key optim.n_processes\n",
      "key optim.chain_linearize\n",
      "key optim.tolerance\n",
      "key optim.use_lu_fact\n",
      "key optim.warm_start\n",
      "key optim.acceleration\n",
      "key optim.warm_start_threshold\n",
      "key optim.n_subcouplings_parallel\n",
      "key optim.tolerance_gs\n",
      "key optim.relax_factor\n",
      "key optim.epsilon0\n",
      "key optim.linear_solver_MDO\n",
      "key optim.linear_solver_MDO_preconditioner\n",
      "key optim.linear_solver_MDO_options\n",
      "key optim.linear_solver_MDA\n",
      "key optim.linear_solver_MDA_preconditioner\n",
      "key optim.linear_solver_MDA_options\n",
      "key optim.group_mda_disciplines\n",
      "key optim.authorize_self_coupled_disciplines\n",
      "key optim.linearization_mode\n",
      "key optim.cache_type\n",
      "key optim.cache_file_path\n",
      "key optim.debug_mode\n",
      "key optim.SobOptimScenario.max_iter\n",
      "key optim.SobOptimScenario.ineq_constraints\n",
      "key optim.SobOptimScenario.eq_constraints\n",
      "key optim.SobOptimScenario.algo\n",
      "key optim.SobOptimScenario.design_space\n",
      "key optim.SobOptimScenario.formulation\n",
      "key optim.SobOptimScenario.maximize_objective\n",
      "key optim.SobOptimScenario.objective_name\n",
      "key optim.SobOptimScenario.differentiation_method\n",
      "key optim.SobOptimScenario.algo_options\n",
      "key optim.SobOptimScenario.parallel_options\n",
      "key optim.SobOptimScenario.eval_mode\n",
      "key optim.SobOptimScenario.eval_jac\n",
      "key optim.SobOptimScenario.execute_at_xopt\n",
      "key optim.SobOptimScenario.linearization_mode\n",
      "key optim.SobOptimScenario.cache_type\n",
      "key optim.SobOptimScenario.cache_file_path\n",
      "key optim.SobOptimScenario.debug_mode\n",
      "key optim.SobOptimScenario.design_space_out\n",
      "key optim.SobOptimScenario.x_1\n",
      "key optim.SobOptimScenario.y_21\n",
      "key optim.SobOptimScenario.y_31\n",
      "key optim.SobOptimScenario.z\n",
      "key optim.SobOptimScenario.struct.linearization_mode\n",
      "key optim.SobOptimScenario.struct.cache_type\n",
      "key optim.SobOptimScenario.struct.cache_file_path\n",
      "key optim.SobOptimScenario.struct.debug_mode\n",
      "key optim.SobOptimScenario.y_1\n",
      "key optim.SobOptimScenario.y_11\n",
      "key optim.SobOptimScenario.y_14\n",
      "key optim.SobOptimScenario.g_1\n",
      "key optim.SobOptimScenario.y_12\n",
      "key optim.SobOptimScenario.x_2\n",
      "key optim.SobOptimScenario.y_32\n",
      "key optim.SobOptimScenario.aero.linearization_mode\n",
      "key optim.SobOptimScenario.aero.cache_type\n",
      "key optim.SobOptimScenario.aero.cache_file_path\n",
      "key optim.SobOptimScenario.aero.debug_mode\n",
      "key optim.SobOptimScenario.y_2\n",
      "key optim.SobOptimScenario.y_23\n",
      "key optim.SobOptimScenario.y_24\n",
      "key optim.SobOptimScenario.g_2\n",
      "key optim.SobOptimScenario.x_3\n",
      "key optim.SobOptimScenario.prop.linearization_mode\n",
      "key optim.SobOptimScenario.prop.cache_type\n",
      "key optim.SobOptimScenario.prop.cache_file_path\n",
      "key optim.SobOptimScenario.prop.debug_mode\n",
      "key optim.SobOptimScenario.y_3\n",
      "key optim.SobOptimScenario.y_34\n",
      "key optim.SobOptimScenario.g_3\n",
      "key optim.SobOptimScenario.mission.linearization_mode\n",
      "key optim.SobOptimScenario.mission.cache_type\n",
      "key optim.SobOptimScenario.mission.cache_file_path\n",
      "key optim.SobOptimScenario.mission.debug_mode\n",
      "key optim.SobOptimScenario.y_4\n",
      "key optim.residuals_history\n"
     ]
    }
   ],
   "source": [
    "for key in exec_eng.dm.data_id_map:\n",
    "    print(\"key\", key)"
   ]
  },
  {
   "cell_type": "code",
   "execution_count": 35,
   "id": "2cd690a1",
   "metadata": {},
   "outputs": [
    {
     "data": {
      "text/plain": [
       "{'optim.sub_mda_class': 'MDAJacobi',\n",
       " 'optim.max_mda_iter': 50,\n",
       " 'optim.n_processes': 1,\n",
       " 'optim.chain_linearize': False,\n",
       " 'optim.tolerance': 1e-10,\n",
       " 'optim.use_lu_fact': True,\n",
       " 'optim.warm_start': True,\n",
       " 'optim.acceleration': 'm2d',\n",
       " 'optim.warm_start_threshold': -1,\n",
       " 'optim.n_subcouplings_parallel': 1,\n",
       " 'optim.tolerance_gs': 10.0,\n",
       " 'optim.relax_factor': 0.99,\n",
       " 'optim.epsilon0': 1e-06,\n",
       " 'optim.linear_solver_MDO': 'GMRES',\n",
       " 'optim.linear_solver_MDO_preconditioner': 'None',\n",
       " 'optim.linear_solver_MDO_options': {'max_iter': 1000, 'tol': 1e-08},\n",
       " 'optim.linear_solver_MDA': 'GMRES',\n",
       " 'optim.linear_solver_MDA_preconditioner': 'None',\n",
       " 'optim.linear_solver_MDA_options': {'max_iter': 1000, 'tol': 1e-08},\n",
       " 'optim.group_mda_disciplines': False,\n",
       " 'optim.authorize_self_coupled_disciplines': False,\n",
       " 'optim.linearization_mode': 'auto',\n",
       " 'optim.cache_type': 'SimpleCache',\n",
       " 'optim.cache_file_path': None,\n",
       " 'optim.debug_mode': '',\n",
       " 'optim.SobOptimScenario.max_iter': 20,\n",
       " 'optim.SobOptimScenario.ineq_constraints': ['g_1', 'g_2', 'g_3'],\n",
       " 'optim.SobOptimScenario.eq_constraints': [],\n",
       " 'optim.SobOptimScenario.algo': 'SLSQP',\n",
       " 'optim.SobOptimScenario.design_space':   variable                                    value  \\\n",
       " 0        z  [0.05, 45000.0, 1.6, 5.5, 55.0, 1000.0]   \n",
       " 1      x_1                              [0.25, 1.0]   \n",
       " 2      x_2                                    [1.0]   \n",
       " 3      x_3                                    [0.5]   \n",
       " 0     y_14           [50606.9741711, 7306.20262124]   \n",
       " 1     y_32                             [0.50279625]   \n",
       " 2     y_31                          [6354.32430691]   \n",
       " 3     y_24                             [4.15006276]   \n",
       " 4     y_34                             [1.10754577]   \n",
       " 5     y_23                          [12194.2671934]   \n",
       " 6     y_21                          [50606.9741711]   \n",
       " 7     y_12                       [50606.9742, 0.95]   \n",
       " \n",
       "                                 lower_bnd  \\\n",
       " 0  [0.01, 30000.0, 1.4, 2.5, 40.0, 500.0]   \n",
       " 1                             [0.1, 0.75]   \n",
       " 2                                  [0.75]   \n",
       " 3                                   [0.1]   \n",
       " 0                      [24850.0, -7700.0]   \n",
       " 1                                 [0.235]   \n",
       " 2                                [2960.0]   \n",
       " 3                                  [0.44]   \n",
       " 4                                  [0.44]   \n",
       " 5                                [3365.0]   \n",
       " 6                               [24850.0]   \n",
       " 7                         [24850.0, 0.45]   \n",
       " \n",
       "                                  upper_bnd  enable_variable  \\\n",
       " 0  [0.09, 60000.0, 1.8, 8.5, 70.0, 1500.0]             True   \n",
       " 1                              [0.4, 1.25]             True   \n",
       " 2                                   [1.25]             True   \n",
       " 3                                    [1.0]             True   \n",
       " 0                       [77100.0, 45000.0]             True   \n",
       " 1                                  [0.795]             True   \n",
       " 2                                [10185.0]             True   \n",
       " 3                                  [11.13]             True   \n",
       " 4                                   [1.98]             True   \n",
       " 5                                [26400.0]             True   \n",
       " 6                                [77250.0]             True   \n",
       " 7                           [77250.0, 1.5]             True   \n",
       " \n",
       "                          activated_elem  \n",
       " 0  [True, True, True, True, True, True]  \n",
       " 1                          [True, True]  \n",
       " 2                                [True]  \n",
       " 3                                [True]  \n",
       " 0                          [True, True]  \n",
       " 1                                [True]  \n",
       " 2                                [True]  \n",
       " 3                                [True]  \n",
       " 4                                [True]  \n",
       " 5                                [True]  \n",
       " 6                                [True]  \n",
       " 7                          [True, True]  ,\n",
       " 'optim.SobOptimScenario.formulation': 'IDF',\n",
       " 'optim.SobOptimScenario.maximize_objective': True,\n",
       " 'optim.SobOptimScenario.objective_name': 'y_4',\n",
       " 'optim.SobOptimScenario.differentiation_method': 'finite_differences',\n",
       " 'optim.SobOptimScenario.algo_options': {'xtol_rel': 1e-09,\n",
       "  'xtol_abs': 1e-09,\n",
       "  'ftol_rel': 1e-10,\n",
       "  'ftol_abs': 1e-09,\n",
       "  'max_time': 0,\n",
       "  'disp': 0,\n",
       "  'eq_tolerance': 0.01,\n",
       "  'ineq_tolerance': 0.002,\n",
       "  'max_iter': 999,\n",
       "  'normalize_design_space': True},\n",
       " 'optim.SobOptimScenario.parallel_options': {'parallel': False,\n",
       "  'n_processes': 8,\n",
       "  'use_threading': False,\n",
       "  'wait_time_between_fork': 0},\n",
       " 'optim.SobOptimScenario.eval_mode': False,\n",
       " 'optim.SobOptimScenario.eval_jac': False,\n",
       " 'optim.SobOptimScenario.execute_at_xopt': True,\n",
       " 'optim.SobOptimScenario.linearization_mode': 'auto',\n",
       " 'optim.SobOptimScenario.cache_type': 'SimpleCache',\n",
       " 'optim.SobOptimScenario.cache_file_path': None,\n",
       " 'optim.SobOptimScenario.debug_mode': '',\n",
       " 'optim.SobOptimScenario.design_space_out': None,\n",
       " 'optim.SobOptimScenario.x_1': [0.25, 1.0],\n",
       " 'optim.SobOptimScenario.y_21': [50606.9],\n",
       " 'optim.SobOptimScenario.y_31': [6354.32],\n",
       " 'optim.SobOptimScenario.z': [0.05, 45000, 1.6, 5.5, 55.0, 1000],\n",
       " 'optim.SobOptimScenario.struct.linearization_mode': 'auto',\n",
       " 'optim.SobOptimScenario.struct.cache_type': 'SimpleCache',\n",
       " 'optim.SobOptimScenario.struct.cache_file_path': None,\n",
       " 'optim.SobOptimScenario.struct.debug_mode': '',\n",
       " 'optim.SobOptimScenario.y_1': None,\n",
       " 'optim.SobOptimScenario.y_11': None,\n",
       " 'optim.SobOptimScenario.y_14': [50606.9, 7306.2],\n",
       " 'optim.SobOptimScenario.g_1': None,\n",
       " 'optim.SobOptimScenario.y_12': [50606.9, 0.95],\n",
       " 'optim.SobOptimScenario.x_2': [1.0],\n",
       " 'optim.SobOptimScenario.y_32': [12194.2],\n",
       " 'optim.SobOptimScenario.aero.linearization_mode': 'auto',\n",
       " 'optim.SobOptimScenario.aero.cache_type': 'SimpleCache',\n",
       " 'optim.SobOptimScenario.aero.cache_file_path': None,\n",
       " 'optim.SobOptimScenario.aero.debug_mode': '',\n",
       " 'optim.SobOptimScenario.y_2': None,\n",
       " 'optim.SobOptimScenario.y_23': [12194.2],\n",
       " 'optim.SobOptimScenario.y_24': [4.15],\n",
       " 'optim.SobOptimScenario.g_2': None,\n",
       " 'optim.SobOptimScenario.x_3': [0.5],\n",
       " 'optim.SobOptimScenario.prop.linearization_mode': 'auto',\n",
       " 'optim.SobOptimScenario.prop.cache_type': 'SimpleCache',\n",
       " 'optim.SobOptimScenario.prop.cache_file_path': None,\n",
       " 'optim.SobOptimScenario.prop.debug_mode': '',\n",
       " 'optim.SobOptimScenario.y_3': None,\n",
       " 'optim.SobOptimScenario.y_34': [1.1],\n",
       " 'optim.SobOptimScenario.g_3': None,\n",
       " 'optim.SobOptimScenario.mission.linearization_mode': 'auto',\n",
       " 'optim.SobOptimScenario.mission.cache_type': 'SimpleCache',\n",
       " 'optim.SobOptimScenario.mission.cache_file_path': None,\n",
       " 'optim.SobOptimScenario.mission.debug_mode': '',\n",
       " 'optim.SobOptimScenario.y_4': None,\n",
       " 'optim.residuals_history': Empty DataFrame\n",
       " Columns: []\n",
       " Index: []}"
      ]
     },
     "execution_count": 35,
     "metadata": {},
     "output_type": "execute_result"
    }
   ],
   "source": [
    "exec_eng.dm.get_data_dict_values()"
   ]
  },
  {
   "cell_type": "code",
   "execution_count": 36,
   "id": "3598f930",
   "metadata": {},
   "outputs": [
    {
     "data": {
      "text/plain": [
       "'IDF'"
      ]
     },
     "execution_count": 36,
     "metadata": {},
     "output_type": "execute_result"
    }
   ],
   "source": [
    "exec_eng.dm.get_data('optim.SobOptimScenario.formulation')['value']"
   ]
  },
  {
   "cell_type": "code",
   "execution_count": 37,
   "id": "e62064f1",
   "metadata": {},
   "outputs": [
    {
     "data": {
      "text/plain": [
       "'GMRES'"
      ]
     },
     "execution_count": 37,
     "metadata": {},
     "output_type": "execute_result"
    }
   ],
   "source": [
    "exec_eng.dm.get_data('optim.linear_solver_MDO')['value']"
   ]
  },
  {
   "cell_type": "code",
   "execution_count": 38,
   "id": "0e5585ee",
   "metadata": {},
   "outputs": [
    {
     "data": {
      "text/plain": [
       "'MDAJacobi'"
      ]
     },
     "execution_count": 38,
     "metadata": {},
     "output_type": "execute_result"
    }
   ],
   "source": [
    "exec_eng.dm.get_data('optim.sub_mda_class')['value']"
   ]
  },
  {
   "cell_type": "code",
   "execution_count": 39,
   "id": "eed2e7ae",
   "metadata": {},
   "outputs": [
    {
     "data": {
      "text/plain": [
       "1e-10"
      ]
     },
     "execution_count": 39,
     "metadata": {},
     "output_type": "execute_result"
    }
   ],
   "source": [
    "exec_eng.dm.get_data('optim.tolerance')['value']"
   ]
  },
  {
   "cell_type": "code",
   "execution_count": 40,
   "id": "6d0fb5f9",
   "metadata": {},
   "outputs": [
    {
     "data": {
      "text/plain": [
       "50"
      ]
     },
     "execution_count": 40,
     "metadata": {},
     "output_type": "execute_result"
    }
   ],
   "source": [
    "exec_eng.dm.get_data('optim.max_mda_iter')['value']"
   ]
  },
  {
   "cell_type": "code",
   "execution_count": 41,
   "id": "244d23e4",
   "metadata": {},
   "outputs": [
    {
     "data": {
      "text/plain": [
       "True"
      ]
     },
     "execution_count": 41,
     "metadata": {},
     "output_type": "execute_result"
    }
   ],
   "source": [
    "exec_eng.dm.get_data('optim.warm_start')['value']"
   ]
  },
  {
   "cell_type": "code",
   "execution_count": 42,
   "id": "05a8b25c",
   "metadata": {},
   "outputs": [
    {
     "data": {
      "text/plain": [
       "True"
      ]
     },
     "execution_count": 42,
     "metadata": {},
     "output_type": "execute_result"
    }
   ],
   "source": [
    "exec_eng.dm.get_data('optim.use_lu_fact')['value']"
   ]
  },
  {
   "cell_type": "code",
   "execution_count": 43,
   "id": "23579cd7",
   "metadata": {},
   "outputs": [
    {
     "data": {
      "text/plain": [
       "{'xtol_rel': 1e-09,\n",
       " 'xtol_abs': 1e-09,\n",
       " 'ftol_rel': 1e-10,\n",
       " 'ftol_abs': 1e-09,\n",
       " 'max_time': 0,\n",
       " 'disp': 0,\n",
       " 'eq_tolerance': 0.01,\n",
       " 'ineq_tolerance': 0.002,\n",
       " 'max_iter': 999,\n",
       " 'normalize_design_space': True}"
      ]
     },
     "execution_count": 43,
     "metadata": {},
     "output_type": "execute_result"
    }
   ],
   "source": [
    "exec_eng.dm.get_data(f'{ns}.{sc_name}.algo_options')['value']"
   ]
  },
  {
   "cell_type": "code",
   "execution_count": 44,
   "id": "797f6cdc",
   "metadata": {},
   "outputs": [
    {
     "data": {
      "text/plain": [
       "'optim.SobOptimScenario'"
      ]
     },
     "execution_count": 44,
     "metadata": {},
     "output_type": "execute_result"
    }
   ],
   "source": [
    "# retrieve discipline to check the result...\n",
    "opt_disc = exec_eng.dm.get_disciplines_with_name(\"optim.\" + sc_name)[0]\n",
    "opt_disc.get_disc_full_name()"
   ]
  },
  {
   "cell_type": "code",
   "execution_count": 45,
   "id": "3a15be23",
   "metadata": {},
   "outputs": [],
   "source": [
    "# retrieve discipline to check the result...\n",
    "#help(opt_disc)"
   ]
  },
  {
   "cell_type": "code",
   "execution_count": 46,
   "id": "6db362d3",
   "metadata": {},
   "outputs": [],
   "source": [
    "#opt_disc.disciplines"
   ]
  },
  {
   "cell_type": "code",
   "execution_count": 47,
   "id": "1b7367af",
   "metadata": {},
   "outputs": [
    {
     "name": "stderr",
     "output_type": "stream",
     "text": [
      "INFO:SoS.EE:Nodes representation for Treeview optim\n",
      "|_ optim\n",
      "\t|_ SobOptimScenario\n",
      "\t\t|_ struct\n",
      "\t\t|_ aero\n",
      "\t\t|_ prop\n",
      "\t\t|_ mission\n"
     ]
    },
    {
     "data": {
      "text/plain": [
       "'Nodes representation for Treeview optim\\n|_ optim\\n\\t|_ SobOptimScenario\\n\\t\\t|_ struct\\n\\t\\t|_ aero\\n\\t\\t|_ prop\\n\\t\\t|_ mission'"
      ]
     },
     "execution_count": 47,
     "metadata": {},
     "output_type": "execute_result"
    }
   ],
   "source": [
    "exec_eng.display_treeview_nodes()"
   ]
  },
  {
   "cell_type": "code",
   "execution_count": 48,
   "id": "65e3e72c",
   "metadata": {},
   "outputs": [
    {
     "name": "stderr",
     "output_type": "stream",
     "text": [
      "INFO:gemseo.utils.xdsmizer:Generating HTML XDSM file in : my_xdsm_idf_sob.html\n"
     ]
    }
   ],
   "source": [
    "opt_disc.xdsmize(html_output=True, print_statuses=False,open_browser=False,outfilename='my_xdsm_idf_sob.html')"
   ]
  },
  {
   "cell_type": "markdown",
   "id": "e2d2d730",
   "metadata": {},
   "source": [
    "# 5) Execute"
   ]
  },
  {
   "cell_type": "code",
   "execution_count": 49,
   "id": "3cdbd5b2",
   "metadata": {},
   "outputs": [
    {
     "name": "stderr",
     "output_type": "stream",
     "text": [
      "INFO:SoS.EE:PROCESS EXECUTION optim STARTS...\n",
      "INFO:gemseo.core.mdo_scenario: \n",
      "INFO:gemseo.core.mdo_scenario:*** Start MDO Scenario execution ***\n",
      "INFO:gemseo.core.mdo_scenario:SobOptimScenario\n",
      "   Disciplines: struct aero prop mission\n",
      "   MDOFormulation: IDF\n",
      "   Algorithm: None\n",
      "WARNING:SoS.EE.SoSOptimScenario:Double definition of algorithm option max_iter, keeping value: 20\n",
      "INFO:SoS.EE.SoSOptimScenario:{'xtol_rel': 1e-09, 'xtol_abs': 1e-09, 'ftol_rel': 1e-10, 'ftol_abs': 1e-09, 'max_time': 0, 'disp': 0, 'eq_tolerance': 0.01, 'ineq_tolerance': 0.002, 'normalize_design_space': True}\n",
      "INFO:gemseo.algos.opt.opt_lib:Optimization problem:\n",
      "   Minimize: -optim.SobOptimScenario.y_4(optim.SobOptimScenario.z, optim.SobOptimScenario.y_14, optim.SobOptimScenario.y_24, optim.SobOptimScenario.y_34)\n",
      "   With respect to: optim.SobOptimScenario.z, optim.SobOptimScenario.x_1, optim.SobOptimScenario.x_2, optim.SobOptimScenario.x_3, optim.SobOptimScenario.y_14, optim.SobOptimScenario.y_32, optim.SobOptimScenario.y_31, optim.SobOptimScenario.y_24, optim.SobOptimScenario.y_34, optim.SobOptimScenario.y_23, optim.SobOptimScenario.y_21, optim.SobOptimScenario.y_12\n",
      "   Subject to constraints:\n",
      "      optim.SobOptimScenario.g_1(optim.SobOptimScenario.z, optim.SobOptimScenario.x_1, optim.SobOptimScenario.y_31, optim.SobOptimScenario.y_21) <= 0.0\n",
      "      optim.SobOptimScenario.g_2(optim.SobOptimScenario.z, optim.SobOptimScenario.x_2, optim.SobOptimScenario.y_32, optim.SobOptimScenario.y_12) <= 0.0\n",
      "      optim.SobOptimScenario.g_3(optim.SobOptimScenario.z, optim.SobOptimScenario.x_3, optim.SobOptimScenario.y_23) <= 0.0\n",
      "      optim.SobOptimScenario.y_12_optim.SobOptimScenario.y_14(optim.SobOptimScenario.z, optim.SobOptimScenario.x_1, optim.SobOptimScenario.y_31, optim.SobOptimScenario.y_21): optim.SobOptimScenario.y_12(optim.SobOptimScenario.z, optim.SobOptimScenario.x_1, optim.SobOptimScenario.y_31, optim.SobOptimScenario.y_21) - optim.SobOptimScenario.y_12 == 0.0\n",
      "                                                                                                                                                                               optim.SobOptimScenario.y_14(optim.SobOptimScenario.z, optim.SobOptimScenario.x_1, optim.SobOptimScenario.y_31, optim.SobOptimScenario.y_21) - optim.SobOptimScenario.y_14 == 0.0\n",
      "      optim.SobOptimScenario.y_21_optim.SobOptimScenario.y_23_optim.SobOptimScenario.y_24(optim.SobOptimScenario.z, optim.SobOptimScenario.x_2, optim.SobOptimScenario.y_32, optim.SobOptimScenario.y_12): optim.SobOptimScenario.y_21(optim.SobOptimScenario.z, optim.SobOptimScenario.x_2, optim.SobOptimScenario.y_32, optim.SobOptimScenario.y_12) - optim.SobOptimScenario.y_21 == 0.0\n",
      "                                                                                                                                                                                                           optim.SobOptimScenario.y_23(optim.SobOptimScenario.z, optim.SobOptimScenario.x_2, optim.SobOptimScenario.y_32, optim.SobOptimScenario.y_12) - optim.SobOptimScenario.y_23 == 0.0\n",
      "                                                                                                                                                                                                           optim.SobOptimScenario.y_24(optim.SobOptimScenario.z, optim.SobOptimScenario.x_2, optim.SobOptimScenario.y_32, optim.SobOptimScenario.y_12) - optim.SobOptimScenario.y_24 == 0.0\n",
      "      optim.SobOptimScenario.y_31_optim.SobOptimScenario.y_32_optim.SobOptimScenario.y_34(optim.SobOptimScenario.z, optim.SobOptimScenario.x_3, optim.SobOptimScenario.y_23): optim.SobOptimScenario.y_31(optim.SobOptimScenario.z, optim.SobOptimScenario.x_3, optim.SobOptimScenario.y_23) - optim.SobOptimScenario.y_31 == 0.0\n",
      "                                                                                                                                                                              optim.SobOptimScenario.y_32(optim.SobOptimScenario.z, optim.SobOptimScenario.x_3, optim.SobOptimScenario.y_23) - optim.SobOptimScenario.y_32 == 0.0\n",
      "                                                                                                                                                                              optim.SobOptimScenario.y_34(optim.SobOptimScenario.z, optim.SobOptimScenario.x_3, optim.SobOptimScenario.y_23) - optim.SobOptimScenario.y_34 == 0.0\n",
      "INFO:gemseo.algos.opt.opt_lib:Design space:\n",
      "+-----------------------------+-------------+--------------------+-------------+-------+\n",
      "| name                        | lower_bound |       value        | upper_bound | type  |\n",
      "+-----------------------------+-------------+--------------------+-------------+-------+\n",
      "| optim.SobOptimScenario.z    |     0.01    |        0.05        |     0.09    | float |\n",
      "| optim.SobOptimScenario.z    |    30000    |       45000        |    60000    | float |\n",
      "| optim.SobOptimScenario.z    |     1.4     |        1.6         |     1.8     | float |\n",
      "| optim.SobOptimScenario.z    |     2.5     |        5.5         |     8.5     | float |\n",
      "| optim.SobOptimScenario.z    |      40     |         55         |      70     | float |\n",
      "| optim.SobOptimScenario.z    |     500     |        1000        |     1500    | float |\n",
      "| optim.SobOptimScenario.x_1  |     0.1     |        0.25        |     0.4     | float |\n",
      "| optim.SobOptimScenario.x_1  |     0.75    |         1          |     1.25    | float |\n",
      "| optim.SobOptimScenario.x_2  |     0.75    |         1          |     1.25    | float |\n",
      "| optim.SobOptimScenario.x_3  |     0.1     |        0.5         |      1      | float |\n",
      "| optim.SobOptimScenario.y_14 |    24850    |   50606.9741711    |    77100    | float |\n",
      "| optim.SobOptimScenario.y_14 |    -7700    |   7306.20262124    |    45000    | float |\n",
      "| optim.SobOptimScenario.y_32 |    0.235    | 0.5027962499999999 |    0.795    | float |\n",
      "| optim.SobOptimScenario.y_31 |     2960    |   6354.32430691    |    10185    | float |\n",
      "| optim.SobOptimScenario.y_24 |     0.44    |     4.15006276     |    11.13    | float |\n",
      "| optim.SobOptimScenario.y_34 |     0.44    |     1.10754577     |     1.98    | float |\n",
      "| optim.SobOptimScenario.y_23 |     3365    |   12194.2671934    |    26400    | float |\n",
      "| optim.SobOptimScenario.y_21 |    24850    |   50606.9741711    |    77250    | float |\n",
      "| optim.SobOptimScenario.y_12 |    24850    |     50606.9742     |    77250    | float |\n",
      "| optim.SobOptimScenario.y_12 |     0.45    |        0.95        |     1.5     | float |\n",
      "+-----------------------------+-------------+--------------------+-------------+-------+\n",
      "INFO:gemseo.algos.driver_lib:Optimization:   0%|          | 0/20 [00:00<?, ?it]\n",
      "WARNING:gemseo.algos.design_space:All components of the normalized vector should be between 0 and 1. Upper bounds violated: [1.000001].\n",
      "WARNING:gemseo.algos.design_space:All components of the normalized vector should be between 0 and 1. Upper bounds violated: [1.000001].\n",
      "WARNING:gemseo.algos.design_space:All components of the normalized vector should be between 0 and 1. Upper bounds violated: [1.000001].\n",
      "WARNING:gemseo.algos.design_space:All components of the normalized vector should be between 0 and 1. Upper bounds violated: [1.000001].\n",
      "WARNING:gemseo.algos.design_space:All components of the normalized vector should be between 0 and 1. Upper bounds violated: [1.000001].\n",
      "WARNING:gemseo.algos.design_space:All components of the normalized vector should be between 0 and 1. Upper bounds violated: [1.000001].\n",
      "WARNING:gemseo.algos.design_space:All components of the normalized vector should be between 0 and 1. Upper bounds violated: [1.000001].\n",
      "INFO:gemseo.algos.driver_lib:Optimization:  15%|█▌        | 3/20 [00:00<00:00, 111.41 it/sec, obj=3.83e+3]\n",
      "WARNING:gemseo.algos.design_space:All components of the normalized vector should be between 0 and 1. Upper bounds violated: [1.00000017].\n",
      "WARNING:gemseo.algos.design_space:All components of the normalized vector should be between 0 and 1. Upper bounds violated: [1.00000017].\n",
      "WARNING:gemseo.algos.design_space:All components of the normalized vector should be between 0 and 1. Upper bounds violated: [1.00000017].\n",
      "WARNING:gemseo.algos.design_space:All components of the normalized vector should be between 0 and 1. Upper bounds violated: [1.00000017].\n"
     ]
    },
    {
     "name": "stderr",
     "output_type": "stream",
     "text": [
      "WARNING:gemseo.algos.design_space:All components of the normalized vector should be between 0 and 1. Upper bounds violated: [1.00000017].\n",
      "WARNING:gemseo.algos.design_space:All components of the normalized vector should be between 0 and 1. Upper bounds violated: [1.00000017].\n",
      "WARNING:gemseo.algos.design_space:All components of the normalized vector should be between 0 and 1. Upper bounds violated: [1.00000017].\n",
      "INFO:gemseo.algos.driver_lib:Optimization:  25%|██▌       | 5/20 [00:00<00:00, 59.73 it/sec, obj=3.96e+3]\n",
      "WARNING:gemseo.algos.design_space:All components of the normalized vector should be between 0 and 1. Upper bounds violated: [1.00000094].\n",
      "WARNING:gemseo.algos.design_space:All components of the normalized vector should be between 0 and 1. Upper bounds violated: [1.00000094].\n",
      "WARNING:gemseo.algos.design_space:All components of the normalized vector should be between 0 and 1. Upper bounds violated: [1.00000094].\n",
      "WARNING:gemseo.algos.design_space:All components of the normalized vector should be between 0 and 1. Upper bounds violated: [1.00000094].\n",
      "WARNING:gemseo.algos.design_space:All components of the normalized vector should be between 0 and 1. Upper bounds violated: [1.00000094].\n",
      "WARNING:gemseo.algos.design_space:All components of the normalized vector should be between 0 and 1. Upper bounds violated: [1.00000094].\n",
      "WARNING:gemseo.algos.design_space:All components of the normalized vector should be between 0 and 1. Upper bounds violated: [1.00000094].\n",
      "INFO:gemseo.algos.driver_lib:Optimization:  30%|███       | 6/20 [00:00<00:00, 38.62 it/sec, obj=3.96e+3]\n",
      "INFO:gemseo.algos.driver_lib:Optimization result:\n",
      "Objective value = 3963.4090518946323\n",
      "The result is feasible.\n",
      "Status: 8\n",
      "Optimizer message: Positive directional derivative for linesearch\n",
      "Number of calls to the objective function by the optimizer: 7\n",
      "Constraints values:\n",
      "   optim.SobOptimScenario.g_1 = [-0.01805353 -0.03334101 -0.04424525 -0.05183116 -0.05732317 -0.1372085\n",
      " -0.1027915 ]\n",
      "   optim.SobOptimScenario.g_2 = 7.994749475770391e-07\n",
      "   optim.SobOptimScenario.g_3 = [-7.67189821e-01 -2.32810179e-01  5.95299488e-06 -1.83254913e-01]\n",
      "   optim.SobOptimScenario.y_12_optim.SobOptimScenario.y_14 = [ 2.04218686e-06  6.16389521e-07  2.04804959e-06 -8.69406946e-07]\n",
      "   optim.SobOptimScenario.y_21_optim.SobOptimScenario.y_23_optim.SobOptimScenario.y_24 = [ 0.00000000e+00  1.75567087e-07 -5.48854611e-07]\n",
      "   optim.SobOptimScenario.y_31_optim.SobOptimScenario.y_32_optim.SobOptimScenario.y_34 = [1.99472014e-12 6.33223632e-13 6.91953198e-07]\n",
      "INFO:gemseo.algos.driver_lib:Design space:\n",
      "+-----------------------------+-------------+---------------------+-------------+-------+\n",
      "| name                        | lower_bound |        value        | upper_bound | type  |\n",
      "+-----------------------------+-------------+---------------------+-------------+-------+\n",
      "| optim.SobOptimScenario.z    |     0.01    | 0.06000019986873688 |     0.09    | float |\n",
      "| optim.SobOptimScenario.z    |    30000    |        60000        |    60000    | float |\n",
      "| optim.SobOptimScenario.z    |     1.4     |  1.400000669209475  |     1.8     | float |\n",
      "| optim.SobOptimScenario.z    |     2.5     |         2.5         |     8.5     | float |\n",
      "| optim.SobOptimScenario.z    |      40     |          70         |      70     | float |\n",
      "| optim.SobOptimScenario.z    |     500     |         1500        |     1500    | float |\n",
      "| optim.SobOptimScenario.x_1  |     0.1     |  0.3999991050238104 |     0.4     | float |\n",
      "| optim.SobOptimScenario.x_1  |     0.75    |         0.75        |     1.25    | float |\n",
      "| optim.SobOptimScenario.x_2  |     0.75    |  0.7500000228966361 |     1.25    | float |\n",
      "| optim.SobOptimScenario.x_3  |     0.1     |  0.1562457677234874 |      1      | float |\n",
      "| optim.SobOptimScenario.y_14 |    24850    |  44749.75316510558  |    77100    | float |\n",
      "| optim.SobOptimScenario.y_14 |    -7700    |  19350.65595967659  |    45000    | float |\n",
      "| optim.SobOptimScenario.y_32 |    0.235    |  0.7328101785830977 |    0.795    | float |\n",
      "| optim.SobOptimScenario.y_31 |     2960    |  9437.322830866971  |    10185    | float |\n",
      "| optim.SobOptimScenario.y_24 |     0.44    |  8.057442540119684  |    11.13    | float |\n",
      "| optim.SobOptimScenario.y_34 |     0.44    |  0.9239321278858581 |     1.98    | float |\n",
      "| optim.SobOptimScenario.y_23 |     3365    |  5553.840805231233  |    26400    | float |\n",
      "| optim.SobOptimScenario.y_21 |    24850    |  44749.75316510557  |    77250    | float |\n",
      "| optim.SobOptimScenario.y_12 |    24850    |  44749.75316510557  |    77250    | float |\n",
      "| optim.SobOptimScenario.y_12 |     0.45    |  0.9027908557139629 |     1.5     | float |\n",
      "+-----------------------------+-------------+---------------------+-------------+-------+\n",
      "INFO:gemseo.core.mdo_scenario:*** MDO Scenario run terminated in 0:00:00.553366 ***\n",
      "INFO:SoS.EE.SoSOptimScenario:Post run at xopt\n",
      "INFO:SoS.EE.SoSOptimScenario:Executing at xopt point [6.00001999e-02 6.00000000e+04 1.40000067e+00 2.50000000e+00\n",
      " 7.00000000e+01 1.50000000e+03 3.99999105e-01 7.50000000e-01\n",
      " 7.50000023e-01 1.56245768e-01 4.47497532e+04 1.93506560e+04\n",
      " 7.32810179e-01 9.43732283e+03 8.05744254e+00 9.23932128e-01\n",
      " 5.55384081e+03 4.47497532e+04 4.47497532e+04 9.02790856e-01]\n",
      "INFO:SoS.EE.SoSOptimScenario:x_opt from problem solution is [6.00001999e-02 6.00000000e+04 1.40000067e+00 2.50000000e+00\n",
      " 7.00000000e+01 1.50000000e+03 3.99999105e-01 7.50000000e-01\n",
      " 7.50000023e-01 1.56245768e-01 4.47497532e+04 1.93506560e+04\n",
      " 7.32810179e-01 9.43732283e+03 8.05744254e+00 9.23932128e-01\n",
      " 5.55384081e+03 4.47497532e+04 4.47497532e+04 9.02790856e-01]\n",
      "INFO:SoS.EE.SoSOptimScenario:list of functions to evaluate [optim.SobOptimScenario.y_12_optim.SobOptimScenario.y_14(optim.SobOptimScenario.z, optim.SobOptimScenario.x_1, optim.SobOptimScenario.y_31, optim.SobOptimScenario.y_21): optim.SobOptimScenario.y_12(optim.SobOptimScenario.z, optim.SobOptimScenario.x_1, optim.SobOptimScenario.y_31, optim.SobOptimScenario.y_21) - optim.SobOptimScenario.y_12 == 0.0\n",
      "                                                                                                                                                                         optim.SobOptimScenario.y_14(optim.SobOptimScenario.z, optim.SobOptimScenario.x_1, optim.SobOptimScenario.y_31, optim.SobOptimScenario.y_21) - optim.SobOptimScenario.y_14 == 0.0, optim.SobOptimScenario.y_21_optim.SobOptimScenario.y_23_optim.SobOptimScenario.y_24(optim.SobOptimScenario.z, optim.SobOptimScenario.x_2, optim.SobOptimScenario.y_32, optim.SobOptimScenario.y_12): optim.SobOptimScenario.y_21(optim.SobOptimScenario.z, optim.SobOptimScenario.x_2, optim.SobOptimScenario.y_32, optim.SobOptimScenario.y_12) - optim.SobOptimScenario.y_21 == 0.0\n",
      "                                                                                                                                                                                                     optim.SobOptimScenario.y_23(optim.SobOptimScenario.z, optim.SobOptimScenario.x_2, optim.SobOptimScenario.y_32, optim.SobOptimScenario.y_12) - optim.SobOptimScenario.y_23 == 0.0\n",
      "                                                                                                                                                                                                     optim.SobOptimScenario.y_24(optim.SobOptimScenario.z, optim.SobOptimScenario.x_2, optim.SobOptimScenario.y_32, optim.SobOptimScenario.y_12) - optim.SobOptimScenario.y_24 == 0.0, optim.SobOptimScenario.y_31_optim.SobOptimScenario.y_32_optim.SobOptimScenario.y_34(optim.SobOptimScenario.z, optim.SobOptimScenario.x_3, optim.SobOptimScenario.y_23): optim.SobOptimScenario.y_31(optim.SobOptimScenario.z, optim.SobOptimScenario.x_3, optim.SobOptimScenario.y_23) - optim.SobOptimScenario.y_31 == 0.0\n",
      "                                                                                                                                                                        optim.SobOptimScenario.y_32(optim.SobOptimScenario.z, optim.SobOptimScenario.x_3, optim.SobOptimScenario.y_23) - optim.SobOptimScenario.y_32 == 0.0\n",
      "                                                                                                                                                                        optim.SobOptimScenario.y_34(optim.SobOptimScenario.z, optim.SobOptimScenario.x_3, optim.SobOptimScenario.y_23) - optim.SobOptimScenario.y_34 == 0.0, optim.SobOptimScenario.g_1(optim.SobOptimScenario.z, optim.SobOptimScenario.x_1, optim.SobOptimScenario.y_31, optim.SobOptimScenario.y_21) <= 0.0, optim.SobOptimScenario.g_2(optim.SobOptimScenario.z, optim.SobOptimScenario.x_2, optim.SobOptimScenario.y_32, optim.SobOptimScenario.y_12) <= 0.0, optim.SobOptimScenario.g_3(optim.SobOptimScenario.z, optim.SobOptimScenario.x_3, optim.SobOptimScenario.y_23) <= 0.0, -optim.SobOptimScenario.y_4(optim.SobOptimScenario.z, optim.SobOptimScenario.y_14, optim.SobOptimScenario.y_24, optim.SobOptimScenario.y_34)]\n"
     ]
    },
    {
     "name": "stderr",
     "output_type": "stream",
     "text": [
      "INFO:SoS.EE:PROCESS EXECUTION optim ENDS.\n"
     ]
    },
    {
     "name": "stdout",
     "output_type": "stream",
     "text": [
      "{'optim.SobOptimScenario.max_iter': array([20]), 'optim.SobOptimScenario.ineq_constraints': [1, 1, 1], 'optim.SobOptimScenario.eq_constraints': [], 'optim.SobOptimScenario.algo': 1, 'optim.SobOptimScenario.design_space': array(['z', 'x_1', 'x_2', 'x_3', 'y_14', 'y_32', 'y_31', 'y_24', 'y_34',\n",
      "       'y_23', 'y_21', 'y_12',\n",
      "       list([0.05, 45000.0, 1.6, 5.5, 55.0, 1000.0]), list([0.25, 1.0]),\n",
      "       list([1.0]), list([0.5]), list([50606.9741711, 7306.20262124]),\n",
      "       list([0.50279625]), list([6354.32430691]), list([4.15006276]),\n",
      "       list([1.10754577]), list([12194.2671934]), list([50606.9741711]),\n",
      "       list([50606.9742, 0.95]),\n",
      "       list([0.01, 30000.0, 1.4, 2.5, 40.0, 500.0]), list([0.1, 0.75]),\n",
      "       list([0.75]), list([0.1]), list([24850.0, -7700.0]), list([0.235]),\n",
      "       list([2960.0]), list([0.44]), list([0.44]), list([3365.0]),\n",
      "       list([24850.0]), list([24850.0, 0.45]),\n",
      "       list([0.09, 60000.0, 1.8, 8.5, 70.0, 1500.0]), list([0.4, 1.25]),\n",
      "       list([1.25]), list([1.0]), list([77100.0, 45000.0]), list([0.795]),\n",
      "       list([10185.0]), list([11.13]), list([1.98]), list([26400.0]),\n",
      "       list([77250.0]), list([77250.0, 1.5]), True, True, True, True,\n",
      "       True, True, True, True, True, True, True, True,\n",
      "       list([True, True, True, True, True, True]), list([True, True]),\n",
      "       list([True]), list([True]), list([True, True]), list([True]),\n",
      "       list([True]), list([True]), list([True]), list([True]),\n",
      "       list([True]), list([True, True])], dtype=object), 'optim.SobOptimScenario.formulation': 1, 'optim.SobOptimScenario.objective_name': 1, 'optim.SobOptimScenario.differentiation_method': 1, 'optim.SobOptimScenario.algo_options': array([1.00e-09, 1.00e-09, 1.00e-10, 1.00e-09, 0.00e+00, 0.00e+00,\n",
      "       1.00e-02, 2.00e-03, 9.99e+02, 1.00e+00]), 'optim.SobOptimScenario.parallel_options': array([0., 8., 0., 0.]), 'optim.SobOptimScenario.design_space_out': array(['z', 'x_1', 'x_2', 'x_3', 'y_14', 'y_32', 'y_31', 'y_24', 'y_34',\n",
      "       'y_23', 'y_21', 'y_12',\n",
      "       list([0.06000019986873688, 60000.0, 1.4000006692094749, 2.5, 70.0, 1500.0]),\n",
      "       list([0.3999991050238104, 0.75]), list([0.7500000228966361]),\n",
      "       list([0.15624576772348736]),\n",
      "       list([44749.753165105576, 19350.655959676587]),\n",
      "       list([0.7328101785830977]), list([9437.322830866971]),\n",
      "       list([8.057442540119684]), list([0.9239321278858581]),\n",
      "       list([5553.840805231233]), list([44749.75316510557]),\n",
      "       list([44749.75316510557, 0.9027908557139629]),\n",
      "       list([0.01, 30000.0, 1.4, 2.5, 40.0, 500.0]), list([0.1, 0.75]),\n",
      "       list([0.75]), list([0.1]), list([24850.0, -7700.0]), list([0.235]),\n",
      "       list([2960.0]), list([0.44]), list([0.44]), list([3365.0]),\n",
      "       list([24850.0]), list([24850.0, 0.45]),\n",
      "       list([0.09, 60000.0, 1.8, 8.5, 70.0, 1500.0]), list([0.4, 1.25]),\n",
      "       list([1.25]), list([1.0]), list([77100.0, 45000.0]), list([0.795]),\n",
      "       list([10185.0]), list([11.13]), list([1.98]), list([26400.0]),\n",
      "       list([77250.0]), list([77250.0, 1.5]), True, True, True, True,\n",
      "       True, True, True, True, True, True, True, True,\n",
      "       list([True, True, True, True, True, True]), list([True, True]),\n",
      "       list([True]), list([True]), list([True, True]), list([True]),\n",
      "       list([True]), list([True]), list([True]), list([True]),\n",
      "       list([True]), list([True, True])], dtype=object)}\n"
     ]
    }
   ],
   "source": [
    "print(exec_eng.execute())"
   ]
  },
  {
   "cell_type": "markdown",
   "id": "215a3270",
   "metadata": {},
   "source": [
    "# 6) Explore results"
   ]
  },
  {
   "cell_type": "code",
   "execution_count": 50,
   "id": "25445d97",
   "metadata": {},
   "outputs": [],
   "source": [
    "# retrieve discipline to check the result...\n",
    "opt_disc = exec_eng.dm.get_disciplines_with_name(\"optim.\" + sc_name)[0]"
   ]
  },
  {
   "cell_type": "code",
   "execution_count": 51,
   "id": "d4922a64",
   "metadata": {},
   "outputs": [
    {
     "data": {
      "text/plain": [
       "'optim.SobOptimScenario'"
      ]
     },
     "execution_count": 51,
     "metadata": {},
     "output_type": "execute_result"
    }
   ],
   "source": [
    "opt_disc.get_disc_full_name()"
   ]
  },
  {
   "cell_type": "code",
   "execution_count": 52,
   "id": "5a3f9109",
   "metadata": {},
   "outputs": [],
   "source": [
    "DESC_IN = opt_disc.DESC_IN\n",
    "DESC_OUT = opt_disc.DESC_OUT\n",
    "DESC_IN_df = pd.DataFrame.from_dict(DESC_IN,orient='index')\n",
    "DESC_OUT_df = pd.DataFrame.from_dict(DESC_OUT,orient='index')"
   ]
  },
  {
   "cell_type": "code",
   "execution_count": 53,
   "id": "6ff0b644",
   "metadata": {},
   "outputs": [
    {
     "data": {
      "text/html": [
       "<div>\n",
       "<style scoped>\n",
       "    .dataframe tbody tr th:only-of-type {\n",
       "        vertical-align: middle;\n",
       "    }\n",
       "\n",
       "    .dataframe tbody tr th {\n",
       "        vertical-align: top;\n",
       "    }\n",
       "\n",
       "    .dataframe thead th {\n",
       "        text-align: right;\n",
       "    }\n",
       "</style>\n",
       "<table border=\"1\" class=\"dataframe\">\n",
       "  <thead>\n",
       "    <tr style=\"text-align: right;\">\n",
       "      <th></th>\n",
       "      <th>type</th>\n",
       "      <th>default</th>\n",
       "      <th>structuring</th>\n",
       "      <th>possible_values</th>\n",
       "      <th>dataframe_descriptor</th>\n",
       "      <th>dataframe_edition_locked</th>\n",
       "    </tr>\n",
       "  </thead>\n",
       "  <tbody>\n",
       "    <tr>\n",
       "      <th>max_iter</th>\n",
       "      <td>float</td>\n",
       "      <td>NaN</td>\n",
       "      <td>NaN</td>\n",
       "      <td>NaN</td>\n",
       "      <td>NaN</td>\n",
       "      <td>NaN</td>\n",
       "    </tr>\n",
       "    <tr>\n",
       "      <th>ineq_constraints</th>\n",
       "      <td>string_list</td>\n",
       "      <td>[]</td>\n",
       "      <td>True</td>\n",
       "      <td>NaN</td>\n",
       "      <td>NaN</td>\n",
       "      <td>NaN</td>\n",
       "    </tr>\n",
       "    <tr>\n",
       "      <th>eq_constraints</th>\n",
       "      <td>string_list</td>\n",
       "      <td>[]</td>\n",
       "      <td>True</td>\n",
       "      <td>NaN</td>\n",
       "      <td>NaN</td>\n",
       "      <td>NaN</td>\n",
       "    </tr>\n",
       "    <tr>\n",
       "      <th>algo</th>\n",
       "      <td>string</td>\n",
       "      <td>NaN</td>\n",
       "      <td>True</td>\n",
       "      <td>NaN</td>\n",
       "      <td>NaN</td>\n",
       "      <td>NaN</td>\n",
       "    </tr>\n",
       "    <tr>\n",
       "      <th>design_space</th>\n",
       "      <td>dataframe</td>\n",
       "      <td>NaN</td>\n",
       "      <td>True</td>\n",
       "      <td>NaN</td>\n",
       "      <td>NaN</td>\n",
       "      <td>NaN</td>\n",
       "    </tr>\n",
       "    <tr>\n",
       "      <th>formulation</th>\n",
       "      <td>string</td>\n",
       "      <td>NaN</td>\n",
       "      <td>True</td>\n",
       "      <td>NaN</td>\n",
       "      <td>NaN</td>\n",
       "      <td>NaN</td>\n",
       "    </tr>\n",
       "    <tr>\n",
       "      <th>maximize_objective</th>\n",
       "      <td>bool</td>\n",
       "      <td>False</td>\n",
       "      <td>True</td>\n",
       "      <td>NaN</td>\n",
       "      <td>NaN</td>\n",
       "      <td>NaN</td>\n",
       "    </tr>\n",
       "    <tr>\n",
       "      <th>objective_name</th>\n",
       "      <td>string</td>\n",
       "      <td>NaN</td>\n",
       "      <td>True</td>\n",
       "      <td>NaN</td>\n",
       "      <td>NaN</td>\n",
       "      <td>NaN</td>\n",
       "    </tr>\n",
       "    <tr>\n",
       "      <th>differentiation_method</th>\n",
       "      <td>string</td>\n",
       "      <td>finite_differences</td>\n",
       "      <td>True</td>\n",
       "      <td>[user, finite_differences, complex_step]</td>\n",
       "      <td>NaN</td>\n",
       "      <td>NaN</td>\n",
       "    </tr>\n",
       "    <tr>\n",
       "      <th>algo_options</th>\n",
       "      <td>dict</td>\n",
       "      <td>NaN</td>\n",
       "      <td>True</td>\n",
       "      <td>NaN</td>\n",
       "      <td>{'variable': ('string', None, False), 'value':...</td>\n",
       "      <td>False</td>\n",
       "    </tr>\n",
       "    <tr>\n",
       "      <th>parallel_options</th>\n",
       "      <td>dict</td>\n",
       "      <td>{'parallel': False, 'n_processes': 8, 'use_thr...</td>\n",
       "      <td>True</td>\n",
       "      <td>NaN</td>\n",
       "      <td>{'variable': ('string', None, False), 'value':...</td>\n",
       "      <td>False</td>\n",
       "    </tr>\n",
       "    <tr>\n",
       "      <th>eval_mode</th>\n",
       "      <td>bool</td>\n",
       "      <td>False</td>\n",
       "      <td>True</td>\n",
       "      <td>[True, False]</td>\n",
       "      <td>NaN</td>\n",
       "      <td>NaN</td>\n",
       "    </tr>\n",
       "    <tr>\n",
       "      <th>eval_jac</th>\n",
       "      <td>bool</td>\n",
       "      <td>False</td>\n",
       "      <td>NaN</td>\n",
       "      <td>[True, False]</td>\n",
       "      <td>NaN</td>\n",
       "      <td>NaN</td>\n",
       "    </tr>\n",
       "    <tr>\n",
       "      <th>execute_at_xopt</th>\n",
       "      <td>bool</td>\n",
       "      <td>True</td>\n",
       "      <td>NaN</td>\n",
       "      <td>NaN</td>\n",
       "      <td>NaN</td>\n",
       "      <td>NaN</td>\n",
       "    </tr>\n",
       "  </tbody>\n",
       "</table>\n",
       "</div>"
      ],
      "text/plain": [
       "                               type  \\\n",
       "max_iter                      float   \n",
       "ineq_constraints        string_list   \n",
       "eq_constraints          string_list   \n",
       "algo                         string   \n",
       "design_space              dataframe   \n",
       "formulation                  string   \n",
       "maximize_objective             bool   \n",
       "objective_name               string   \n",
       "differentiation_method       string   \n",
       "algo_options                   dict   \n",
       "parallel_options               dict   \n",
       "eval_mode                      bool   \n",
       "eval_jac                       bool   \n",
       "execute_at_xopt                bool   \n",
       "\n",
       "                                                                  default  \\\n",
       "max_iter                                                              NaN   \n",
       "ineq_constraints                                                       []   \n",
       "eq_constraints                                                         []   \n",
       "algo                                                                  NaN   \n",
       "design_space                                                          NaN   \n",
       "formulation                                                           NaN   \n",
       "maximize_objective                                                  False   \n",
       "objective_name                                                        NaN   \n",
       "differentiation_method                                 finite_differences   \n",
       "algo_options                                                          NaN   \n",
       "parallel_options        {'parallel': False, 'n_processes': 8, 'use_thr...   \n",
       "eval_mode                                                           False   \n",
       "eval_jac                                                            False   \n",
       "execute_at_xopt                                                      True   \n",
       "\n",
       "                       structuring                           possible_values  \\\n",
       "max_iter                       NaN                                       NaN   \n",
       "ineq_constraints              True                                       NaN   \n",
       "eq_constraints                True                                       NaN   \n",
       "algo                          True                                       NaN   \n",
       "design_space                  True                                       NaN   \n",
       "formulation                   True                                       NaN   \n",
       "maximize_objective            True                                       NaN   \n",
       "objective_name                True                                       NaN   \n",
       "differentiation_method        True  [user, finite_differences, complex_step]   \n",
       "algo_options                  True                                       NaN   \n",
       "parallel_options              True                                       NaN   \n",
       "eval_mode                     True                             [True, False]   \n",
       "eval_jac                       NaN                             [True, False]   \n",
       "execute_at_xopt                NaN                                       NaN   \n",
       "\n",
       "                                                     dataframe_descriptor  \\\n",
       "max_iter                                                              NaN   \n",
       "ineq_constraints                                                      NaN   \n",
       "eq_constraints                                                        NaN   \n",
       "algo                                                                  NaN   \n",
       "design_space                                                          NaN   \n",
       "formulation                                                           NaN   \n",
       "maximize_objective                                                    NaN   \n",
       "objective_name                                                        NaN   \n",
       "differentiation_method                                                NaN   \n",
       "algo_options            {'variable': ('string', None, False), 'value':...   \n",
       "parallel_options        {'variable': ('string', None, False), 'value':...   \n",
       "eval_mode                                                             NaN   \n",
       "eval_jac                                                              NaN   \n",
       "execute_at_xopt                                                       NaN   \n",
       "\n",
       "                       dataframe_edition_locked  \n",
       "max_iter                                    NaN  \n",
       "ineq_constraints                            NaN  \n",
       "eq_constraints                              NaN  \n",
       "algo                                        NaN  \n",
       "design_space                                NaN  \n",
       "formulation                                 NaN  \n",
       "maximize_objective                          NaN  \n",
       "objective_name                              NaN  \n",
       "differentiation_method                      NaN  \n",
       "algo_options                              False  \n",
       "parallel_options                          False  \n",
       "eval_mode                                   NaN  \n",
       "eval_jac                                    NaN  \n",
       "execute_at_xopt                             NaN  "
      ]
     },
     "execution_count": 53,
     "metadata": {},
     "output_type": "execute_result"
    }
   ],
   "source": [
    "DESC_IN_df"
   ]
  },
  {
   "cell_type": "code",
   "execution_count": 54,
   "id": "41a56111",
   "metadata": {},
   "outputs": [
    {
     "data": {
      "text/html": [
       "<div>\n",
       "<style scoped>\n",
       "    .dataframe tbody tr th:only-of-type {\n",
       "        vertical-align: middle;\n",
       "    }\n",
       "\n",
       "    .dataframe tbody tr th {\n",
       "        vertical-align: top;\n",
       "    }\n",
       "\n",
       "    .dataframe thead th {\n",
       "        text-align: right;\n",
       "    }\n",
       "</style>\n",
       "<table border=\"1\" class=\"dataframe\">\n",
       "  <thead>\n",
       "    <tr style=\"text-align: right;\">\n",
       "      <th></th>\n",
       "      <th>type</th>\n",
       "    </tr>\n",
       "  </thead>\n",
       "  <tbody>\n",
       "    <tr>\n",
       "      <th>design_space_out</th>\n",
       "      <td>dataframe</td>\n",
       "    </tr>\n",
       "  </tbody>\n",
       "</table>\n",
       "</div>"
      ],
      "text/plain": [
       "                       type\n",
       "design_space_out  dataframe"
      ]
     },
     "execution_count": 54,
     "metadata": {},
     "output_type": "execute_result"
    }
   ],
   "source": [
    "DESC_OUT_df"
   ]
  },
  {
   "cell_type": "code",
   "execution_count": 55,
   "id": "e4dd1e1a",
   "metadata": {},
   "outputs": [
    {
     "data": {
      "text/plain": [
       "'IDF'"
      ]
     },
     "execution_count": 55,
     "metadata": {},
     "output_type": "execute_result"
    }
   ],
   "source": [
    "opt_disc.get_data_io_dict('in')['formulation']['value']"
   ]
  },
  {
   "cell_type": "code",
   "execution_count": 56,
   "id": "0808ee50",
   "metadata": {},
   "outputs": [
    {
     "data": {
      "text/plain": [
       "'SLSQP'"
      ]
     },
     "execution_count": 56,
     "metadata": {},
     "output_type": "execute_result"
    }
   ],
   "source": [
    "opt_disc.get_data_io_dict('in')['algo']['value']"
   ]
  },
  {
   "cell_type": "code",
   "execution_count": 57,
   "id": "1bd424e0",
   "metadata": {},
   "outputs": [
    {
     "data": {
      "text/plain": [
       "'y_4'"
      ]
     },
     "execution_count": 57,
     "metadata": {},
     "output_type": "execute_result"
    }
   ],
   "source": [
    "opt_disc.get_data_io_dict('in')['objective_name']['value']"
   ]
  },
  {
   "cell_type": "code",
   "execution_count": 58,
   "id": "073edeff",
   "metadata": {},
   "outputs": [
    {
     "data": {
      "text/plain": [
       "3963.4090518946323"
      ]
     },
     "execution_count": 58,
     "metadata": {},
     "output_type": "execute_result"
    }
   ],
   "source": [
    "opt_disc.optimization_result.f_opt"
   ]
  },
  {
   "cell_type": "code",
   "execution_count": 59,
   "id": "b9204f6d",
   "metadata": {},
   "outputs": [
    {
     "data": {
      "text/plain": [
       "array([6.00001999e-02, 6.00000000e+04, 1.40000067e+00, 2.50000000e+00,\n",
       "       7.00000000e+01, 1.50000000e+03, 3.99999105e-01, 7.50000000e-01,\n",
       "       7.50000023e-01, 1.56245768e-01, 4.47497532e+04, 1.93506560e+04,\n",
       "       7.32810179e-01, 9.43732283e+03, 8.05744254e+00, 9.23932128e-01,\n",
       "       5.55384081e+03, 4.47497532e+04, 4.47497532e+04, 9.02790856e-01])"
      ]
     },
     "execution_count": 59,
     "metadata": {},
     "output_type": "execute_result"
    }
   ],
   "source": [
    "opt_disc.optimization_result.x_opt"
   ]
  },
  {
   "cell_type": "code",
   "execution_count": 60,
   "id": "d34e5d27",
   "metadata": {},
   "outputs": [
    {
     "name": "stderr",
     "output_type": "stream",
     "text": [
      "INFO:SoS.EE.SoSOptimScenario:Executing at xopt point [6.00001999e-02 6.00000000e+04 1.40000067e+00 2.50000000e+00\n",
      " 7.00000000e+01 1.50000000e+03 3.99999105e-01 7.50000000e-01\n",
      " 7.50000023e-01 1.56245768e-01 4.47497532e+04 1.93506560e+04\n",
      " 7.32810179e-01 9.43732283e+03 8.05744254e+00 9.23932128e-01\n",
      " 5.55384081e+03 4.47497532e+04 4.47497532e+04 9.02790856e-01]\n",
      "INFO:SoS.EE.SoSOptimScenario:x_opt from problem solution is [6.00001999e-02 6.00000000e+04 1.40000067e+00 2.50000000e+00\n",
      " 7.00000000e+01 1.50000000e+03 3.99999105e-01 7.50000000e-01\n",
      " 7.50000023e-01 1.56245768e-01 4.47497532e+04 1.93506560e+04\n",
      " 7.32810179e-01 9.43732283e+03 8.05744254e+00 9.23932128e-01\n",
      " 5.55384081e+03 4.47497532e+04 4.47497532e+04 9.02790856e-01]\n",
      "INFO:SoS.EE.SoSOptimScenario:list of functions to evaluate [optim.SobOptimScenario.y_12_optim.SobOptimScenario.y_14(optim.SobOptimScenario.z, optim.SobOptimScenario.x_1, optim.SobOptimScenario.y_31, optim.SobOptimScenario.y_21): optim.SobOptimScenario.y_12(optim.SobOptimScenario.z, optim.SobOptimScenario.x_1, optim.SobOptimScenario.y_31, optim.SobOptimScenario.y_21) - optim.SobOptimScenario.y_12 == 0.0\n",
      "                                                                                                                                                                         optim.SobOptimScenario.y_14(optim.SobOptimScenario.z, optim.SobOptimScenario.x_1, optim.SobOptimScenario.y_31, optim.SobOptimScenario.y_21) - optim.SobOptimScenario.y_14 == 0.0, optim.SobOptimScenario.y_21_optim.SobOptimScenario.y_23_optim.SobOptimScenario.y_24(optim.SobOptimScenario.z, optim.SobOptimScenario.x_2, optim.SobOptimScenario.y_32, optim.SobOptimScenario.y_12): optim.SobOptimScenario.y_21(optim.SobOptimScenario.z, optim.SobOptimScenario.x_2, optim.SobOptimScenario.y_32, optim.SobOptimScenario.y_12) - optim.SobOptimScenario.y_21 == 0.0\n",
      "                                                                                                                                                                                                     optim.SobOptimScenario.y_23(optim.SobOptimScenario.z, optim.SobOptimScenario.x_2, optim.SobOptimScenario.y_32, optim.SobOptimScenario.y_12) - optim.SobOptimScenario.y_23 == 0.0\n",
      "                                                                                                                                                                                                     optim.SobOptimScenario.y_24(optim.SobOptimScenario.z, optim.SobOptimScenario.x_2, optim.SobOptimScenario.y_32, optim.SobOptimScenario.y_12) - optim.SobOptimScenario.y_24 == 0.0, optim.SobOptimScenario.y_31_optim.SobOptimScenario.y_32_optim.SobOptimScenario.y_34(optim.SobOptimScenario.z, optim.SobOptimScenario.x_3, optim.SobOptimScenario.y_23): optim.SobOptimScenario.y_31(optim.SobOptimScenario.z, optim.SobOptimScenario.x_3, optim.SobOptimScenario.y_23) - optim.SobOptimScenario.y_31 == 0.0\n",
      "                                                                                                                                                                        optim.SobOptimScenario.y_32(optim.SobOptimScenario.z, optim.SobOptimScenario.x_3, optim.SobOptimScenario.y_23) - optim.SobOptimScenario.y_32 == 0.0\n",
      "                                                                                                                                                                        optim.SobOptimScenario.y_34(optim.SobOptimScenario.z, optim.SobOptimScenario.x_3, optim.SobOptimScenario.y_23) - optim.SobOptimScenario.y_34 == 0.0, optim.SobOptimScenario.g_1(optim.SobOptimScenario.z, optim.SobOptimScenario.x_1, optim.SobOptimScenario.y_31, optim.SobOptimScenario.y_21) <= 0.0, optim.SobOptimScenario.g_2(optim.SobOptimScenario.z, optim.SobOptimScenario.x_2, optim.SobOptimScenario.y_32, optim.SobOptimScenario.y_12) <= 0.0, optim.SobOptimScenario.g_3(optim.SobOptimScenario.z, optim.SobOptimScenario.x_3, optim.SobOptimScenario.y_23) <= 0.0, -optim.SobOptimScenario.y_4(optim.SobOptimScenario.z, optim.SobOptimScenario.y_14, optim.SobOptimScenario.y_24, optim.SobOptimScenario.y_34)]\n"
     ]
    }
   ],
   "source": [
    "opt_disc._post_run()"
   ]
  },
  {
   "cell_type": "code",
   "execution_count": 61,
   "id": "c880a613",
   "metadata": {},
   "outputs": [
    {
     "data": {
      "text/html": [
       "<div>\n",
       "<style scoped>\n",
       "    .dataframe tbody tr th:only-of-type {\n",
       "        vertical-align: middle;\n",
       "    }\n",
       "\n",
       "    .dataframe tbody tr th {\n",
       "        vertical-align: top;\n",
       "    }\n",
       "\n",
       "    .dataframe thead th {\n",
       "        text-align: right;\n",
       "    }\n",
       "</style>\n",
       "<table border=\"1\" class=\"dataframe\">\n",
       "  <thead>\n",
       "    <tr style=\"text-align: right;\">\n",
       "      <th></th>\n",
       "      <th>variable</th>\n",
       "      <th>value</th>\n",
       "      <th>lower_bnd</th>\n",
       "      <th>upper_bnd</th>\n",
       "      <th>enable_variable</th>\n",
       "      <th>activated_elem</th>\n",
       "    </tr>\n",
       "  </thead>\n",
       "  <tbody>\n",
       "    <tr>\n",
       "      <th>0</th>\n",
       "      <td>z</td>\n",
       "      <td>[0.06000019986873688, 60000.0, 1.4000006692094...</td>\n",
       "      <td>[0.01, 30000.0, 1.4, 2.5, 40.0, 500.0]</td>\n",
       "      <td>[0.09, 60000.0, 1.8, 8.5, 70.0, 1500.0]</td>\n",
       "      <td>True</td>\n",
       "      <td>[True, True, True, True, True, True]</td>\n",
       "    </tr>\n",
       "    <tr>\n",
       "      <th>1</th>\n",
       "      <td>x_1</td>\n",
       "      <td>[0.3999991050238104, 0.75]</td>\n",
       "      <td>[0.1, 0.75]</td>\n",
       "      <td>[0.4, 1.25]</td>\n",
       "      <td>True</td>\n",
       "      <td>[True, True]</td>\n",
       "    </tr>\n",
       "    <tr>\n",
       "      <th>2</th>\n",
       "      <td>x_2</td>\n",
       "      <td>[0.7500000228966361]</td>\n",
       "      <td>[0.75]</td>\n",
       "      <td>[1.25]</td>\n",
       "      <td>True</td>\n",
       "      <td>[True]</td>\n",
       "    </tr>\n",
       "    <tr>\n",
       "      <th>3</th>\n",
       "      <td>x_3</td>\n",
       "      <td>[0.15624576772348736]</td>\n",
       "      <td>[0.1]</td>\n",
       "      <td>[1.0]</td>\n",
       "      <td>True</td>\n",
       "      <td>[True]</td>\n",
       "    </tr>\n",
       "    <tr>\n",
       "      <th>0</th>\n",
       "      <td>y_14</td>\n",
       "      <td>[44749.753165105576, 19350.655959676587]</td>\n",
       "      <td>[24850.0, -7700.0]</td>\n",
       "      <td>[77100.0, 45000.0]</td>\n",
       "      <td>True</td>\n",
       "      <td>[True, True]</td>\n",
       "    </tr>\n",
       "    <tr>\n",
       "      <th>1</th>\n",
       "      <td>y_32</td>\n",
       "      <td>[0.7328101785830977]</td>\n",
       "      <td>[0.235]</td>\n",
       "      <td>[0.795]</td>\n",
       "      <td>True</td>\n",
       "      <td>[True]</td>\n",
       "    </tr>\n",
       "    <tr>\n",
       "      <th>2</th>\n",
       "      <td>y_31</td>\n",
       "      <td>[9437.322830866971]</td>\n",
       "      <td>[2960.0]</td>\n",
       "      <td>[10185.0]</td>\n",
       "      <td>True</td>\n",
       "      <td>[True]</td>\n",
       "    </tr>\n",
       "    <tr>\n",
       "      <th>3</th>\n",
       "      <td>y_24</td>\n",
       "      <td>[8.057442540119684]</td>\n",
       "      <td>[0.44]</td>\n",
       "      <td>[11.13]</td>\n",
       "      <td>True</td>\n",
       "      <td>[True]</td>\n",
       "    </tr>\n",
       "    <tr>\n",
       "      <th>4</th>\n",
       "      <td>y_34</td>\n",
       "      <td>[0.9239321278858581]</td>\n",
       "      <td>[0.44]</td>\n",
       "      <td>[1.98]</td>\n",
       "      <td>True</td>\n",
       "      <td>[True]</td>\n",
       "    </tr>\n",
       "    <tr>\n",
       "      <th>5</th>\n",
       "      <td>y_23</td>\n",
       "      <td>[5553.840805231233]</td>\n",
       "      <td>[3365.0]</td>\n",
       "      <td>[26400.0]</td>\n",
       "      <td>True</td>\n",
       "      <td>[True]</td>\n",
       "    </tr>\n",
       "    <tr>\n",
       "      <th>6</th>\n",
       "      <td>y_21</td>\n",
       "      <td>[44749.75316510557]</td>\n",
       "      <td>[24850.0]</td>\n",
       "      <td>[77250.0]</td>\n",
       "      <td>True</td>\n",
       "      <td>[True]</td>\n",
       "    </tr>\n",
       "    <tr>\n",
       "      <th>7</th>\n",
       "      <td>y_12</td>\n",
       "      <td>[44749.75316510557, 0.9027908557139629]</td>\n",
       "      <td>[24850.0, 0.45]</td>\n",
       "      <td>[77250.0, 1.5]</td>\n",
       "      <td>True</td>\n",
       "      <td>[True, True]</td>\n",
       "    </tr>\n",
       "  </tbody>\n",
       "</table>\n",
       "</div>"
      ],
      "text/plain": [
       "  variable                                              value  \\\n",
       "0        z  [0.06000019986873688, 60000.0, 1.4000006692094...   \n",
       "1      x_1                         [0.3999991050238104, 0.75]   \n",
       "2      x_2                               [0.7500000228966361]   \n",
       "3      x_3                              [0.15624576772348736]   \n",
       "0     y_14           [44749.753165105576, 19350.655959676587]   \n",
       "1     y_32                               [0.7328101785830977]   \n",
       "2     y_31                                [9437.322830866971]   \n",
       "3     y_24                                [8.057442540119684]   \n",
       "4     y_34                               [0.9239321278858581]   \n",
       "5     y_23                                [5553.840805231233]   \n",
       "6     y_21                                [44749.75316510557]   \n",
       "7     y_12            [44749.75316510557, 0.9027908557139629]   \n",
       "\n",
       "                                lower_bnd  \\\n",
       "0  [0.01, 30000.0, 1.4, 2.5, 40.0, 500.0]   \n",
       "1                             [0.1, 0.75]   \n",
       "2                                  [0.75]   \n",
       "3                                   [0.1]   \n",
       "0                      [24850.0, -7700.0]   \n",
       "1                                 [0.235]   \n",
       "2                                [2960.0]   \n",
       "3                                  [0.44]   \n",
       "4                                  [0.44]   \n",
       "5                                [3365.0]   \n",
       "6                               [24850.0]   \n",
       "7                         [24850.0, 0.45]   \n",
       "\n",
       "                                 upper_bnd  enable_variable  \\\n",
       "0  [0.09, 60000.0, 1.8, 8.5, 70.0, 1500.0]             True   \n",
       "1                              [0.4, 1.25]             True   \n",
       "2                                   [1.25]             True   \n",
       "3                                    [1.0]             True   \n",
       "0                       [77100.0, 45000.0]             True   \n",
       "1                                  [0.795]             True   \n",
       "2                                [10185.0]             True   \n",
       "3                                  [11.13]             True   \n",
       "4                                   [1.98]             True   \n",
       "5                                [26400.0]             True   \n",
       "6                                [77250.0]             True   \n",
       "7                           [77250.0, 1.5]             True   \n",
       "\n",
       "                         activated_elem  \n",
       "0  [True, True, True, True, True, True]  \n",
       "1                          [True, True]  \n",
       "2                                [True]  \n",
       "3                                [True]  \n",
       "0                          [True, True]  \n",
       "1                                [True]  \n",
       "2                                [True]  \n",
       "3                                [True]  \n",
       "4                                [True]  \n",
       "5                                [True]  \n",
       "6                                [True]  \n",
       "7                          [True, True]  "
      ]
     },
     "execution_count": 61,
     "metadata": {},
     "output_type": "execute_result"
    }
   ],
   "source": [
    "opt_disc.get_data_io_dict('out')['design_space_out']['value'] "
   ]
  },
  {
   "cell_type": "code",
   "execution_count": 62,
   "id": "c17aba20",
   "metadata": {},
   "outputs": [
    {
     "data": {
      "text/plain": [
       "{'optim.sub_mda_class': 'MDAJacobi',\n",
       " 'optim.max_mda_iter': 50,\n",
       " 'optim.n_processes': 1,\n",
       " 'optim.chain_linearize': False,\n",
       " 'optim.tolerance': 1e-10,\n",
       " 'optim.use_lu_fact': True,\n",
       " 'optim.warm_start': True,\n",
       " 'optim.acceleration': 'm2d',\n",
       " 'optim.warm_start_threshold': -1,\n",
       " 'optim.n_subcouplings_parallel': 1,\n",
       " 'optim.tolerance_gs': 10.0,\n",
       " 'optim.relax_factor': 0.99,\n",
       " 'optim.epsilon0': 1e-06,\n",
       " 'optim.linear_solver_MDO': 'GMRES',\n",
       " 'optim.linear_solver_MDO_preconditioner': 'None',\n",
       " 'optim.linear_solver_MDO_options': {'max_iter': 1000, 'tol': 1e-08},\n",
       " 'optim.linear_solver_MDA': 'GMRES',\n",
       " 'optim.linear_solver_MDA_preconditioner': 'None',\n",
       " 'optim.linear_solver_MDA_options': {'max_iter': 1000, 'tol': 1e-08},\n",
       " 'optim.group_mda_disciplines': False,\n",
       " 'optim.authorize_self_coupled_disciplines': False,\n",
       " 'optim.linearization_mode': 'auto',\n",
       " 'optim.cache_type': 'SimpleCache',\n",
       " 'optim.cache_file_path': None,\n",
       " 'optim.debug_mode': '',\n",
       " 'optim.SobOptimScenario.max_iter': 20,\n",
       " 'optim.SobOptimScenario.ineq_constraints': ['g_1', 'g_2', 'g_3'],\n",
       " 'optim.SobOptimScenario.eq_constraints': [],\n",
       " 'optim.SobOptimScenario.algo': 'SLSQP',\n",
       " 'optim.SobOptimScenario.design_space':   variable                                    value  \\\n",
       " 0        z  [0.05, 45000.0, 1.6, 5.5, 55.0, 1000.0]   \n",
       " 1      x_1                              [0.25, 1.0]   \n",
       " 2      x_2                                    [1.0]   \n",
       " 3      x_3                                    [0.5]   \n",
       " 0     y_14           [50606.9741711, 7306.20262124]   \n",
       " 1     y_32                             [0.50279625]   \n",
       " 2     y_31                          [6354.32430691]   \n",
       " 3     y_24                             [4.15006276]   \n",
       " 4     y_34                             [1.10754577]   \n",
       " 5     y_23                          [12194.2671934]   \n",
       " 6     y_21                          [50606.9741711]   \n",
       " 7     y_12                       [50606.9742, 0.95]   \n",
       " \n",
       "                                 lower_bnd  \\\n",
       " 0  [0.01, 30000.0, 1.4, 2.5, 40.0, 500.0]   \n",
       " 1                             [0.1, 0.75]   \n",
       " 2                                  [0.75]   \n",
       " 3                                   [0.1]   \n",
       " 0                      [24850.0, -7700.0]   \n",
       " 1                                 [0.235]   \n",
       " 2                                [2960.0]   \n",
       " 3                                  [0.44]   \n",
       " 4                                  [0.44]   \n",
       " 5                                [3365.0]   \n",
       " 6                               [24850.0]   \n",
       " 7                         [24850.0, 0.45]   \n",
       " \n",
       "                                  upper_bnd  enable_variable  \\\n",
       " 0  [0.09, 60000.0, 1.8, 8.5, 70.0, 1500.0]             True   \n",
       " 1                              [0.4, 1.25]             True   \n",
       " 2                                   [1.25]             True   \n",
       " 3                                    [1.0]             True   \n",
       " 0                       [77100.0, 45000.0]             True   \n",
       " 1                                  [0.795]             True   \n",
       " 2                                [10185.0]             True   \n",
       " 3                                  [11.13]             True   \n",
       " 4                                   [1.98]             True   \n",
       " 5                                [26400.0]             True   \n",
       " 6                                [77250.0]             True   \n",
       " 7                           [77250.0, 1.5]             True   \n",
       " \n",
       "                          activated_elem  \n",
       " 0  [True, True, True, True, True, True]  \n",
       " 1                          [True, True]  \n",
       " 2                                [True]  \n",
       " 3                                [True]  \n",
       " 0                          [True, True]  \n",
       " 1                                [True]  \n",
       " 2                                [True]  \n",
       " 3                                [True]  \n",
       " 4                                [True]  \n",
       " 5                                [True]  \n",
       " 6                                [True]  \n",
       " 7                          [True, True]  ,\n",
       " 'optim.SobOptimScenario.formulation': 'IDF',\n",
       " 'optim.SobOptimScenario.maximize_objective': True,\n",
       " 'optim.SobOptimScenario.objective_name': 'y_4',\n",
       " 'optim.SobOptimScenario.differentiation_method': 'finite_differences',\n",
       " 'optim.SobOptimScenario.algo_options': {'xtol_rel': 1e-09,\n",
       "  'xtol_abs': 1e-09,\n",
       "  'ftol_rel': 1e-10,\n",
       "  'ftol_abs': 1e-09,\n",
       "  'max_time': 0,\n",
       "  'disp': 0,\n",
       "  'eq_tolerance': 0.01,\n",
       "  'ineq_tolerance': 0.002,\n",
       "  'max_iter': 999,\n",
       "  'normalize_design_space': True},\n",
       " 'optim.SobOptimScenario.parallel_options': {'parallel': False,\n",
       "  'n_processes': 8,\n",
       "  'use_threading': False,\n",
       "  'wait_time_between_fork': 0},\n",
       " 'optim.SobOptimScenario.eval_mode': False,\n",
       " 'optim.SobOptimScenario.eval_jac': False,\n",
       " 'optim.SobOptimScenario.execute_at_xopt': True,\n",
       " 'optim.SobOptimScenario.linearization_mode': 'auto',\n",
       " 'optim.SobOptimScenario.cache_type': 'SimpleCache',\n",
       " 'optim.SobOptimScenario.cache_file_path': None,\n",
       " 'optim.SobOptimScenario.debug_mode': '',\n",
       " 'optim.SobOptimScenario.design_space_out':   variable                                              value  \\\n",
       " 0        z  [0.06000019986873688, 60000.0, 1.4000006692094...   \n",
       " 1      x_1                         [0.3999991050238104, 0.75]   \n",
       " 2      x_2                               [0.7500000228966361]   \n",
       " 3      x_3                              [0.15624576772348736]   \n",
       " 0     y_14           [44749.753165105576, 19350.655959676587]   \n",
       " 1     y_32                               [0.7328101785830977]   \n",
       " 2     y_31                                [9437.322830866971]   \n",
       " 3     y_24                                [8.057442540119684]   \n",
       " 4     y_34                               [0.9239321278858581]   \n",
       " 5     y_23                                [5553.840805231233]   \n",
       " 6     y_21                                [44749.75316510557]   \n",
       " 7     y_12            [44749.75316510557, 0.9027908557139629]   \n",
       " \n",
       "                                 lower_bnd  \\\n",
       " 0  [0.01, 30000.0, 1.4, 2.5, 40.0, 500.0]   \n",
       " 1                             [0.1, 0.75]   \n",
       " 2                                  [0.75]   \n",
       " 3                                   [0.1]   \n",
       " 0                      [24850.0, -7700.0]   \n",
       " 1                                 [0.235]   \n",
       " 2                                [2960.0]   \n",
       " 3                                  [0.44]   \n",
       " 4                                  [0.44]   \n",
       " 5                                [3365.0]   \n",
       " 6                               [24850.0]   \n",
       " 7                         [24850.0, 0.45]   \n",
       " \n",
       "                                  upper_bnd  enable_variable  \\\n",
       " 0  [0.09, 60000.0, 1.8, 8.5, 70.0, 1500.0]             True   \n",
       " 1                              [0.4, 1.25]             True   \n",
       " 2                                   [1.25]             True   \n",
       " 3                                    [1.0]             True   \n",
       " 0                       [77100.0, 45000.0]             True   \n",
       " 1                                  [0.795]             True   \n",
       " 2                                [10185.0]             True   \n",
       " 3                                  [11.13]             True   \n",
       " 4                                   [1.98]             True   \n",
       " 5                                [26400.0]             True   \n",
       " 6                                [77250.0]             True   \n",
       " 7                           [77250.0, 1.5]             True   \n",
       " \n",
       "                          activated_elem  \n",
       " 0  [True, True, True, True, True, True]  \n",
       " 1                          [True, True]  \n",
       " 2                                [True]  \n",
       " 3                                [True]  \n",
       " 0                          [True, True]  \n",
       " 1                                [True]  \n",
       " 2                                [True]  \n",
       " 3                                [True]  \n",
       " 4                                [True]  \n",
       " 5                                [True]  \n",
       " 6                                [True]  \n",
       " 7                          [True, True]  ,\n",
       " 'optim.SobOptimScenario.x_1': [0.25, 1.0],\n",
       " 'optim.SobOptimScenario.y_21': array([44749.75316511]),\n",
       " 'optim.SobOptimScenario.y_31': array([9437.32283088]),\n",
       " 'optim.SobOptimScenario.z': [0.05, 45000, 1.6, 5.5, 55.0, 1000],\n",
       " 'optim.SobOptimScenario.struct.linearization_mode': 'auto',\n",
       " 'optim.SobOptimScenario.struct.cache_type': 'SimpleCache',\n",
       " 'optim.SobOptimScenario.struct.cache_file_path': None,\n",
       " 'optim.SobOptimScenario.struct.debug_mode': '',\n",
       " 'optim.SobOptimScenario.y_1': array([4.47498602e+04, 1.93506101e+04, 9.02791503e-01]),\n",
       " 'optim.SobOptimScenario.y_11': array([0.56636867]),\n",
       " 'optim.SobOptimScenario.y_14': array([44749.8601757 , 19350.61014193]),\n",
       " 'optim.SobOptimScenario.g_1': array([-0.01805353, -0.03334101, -0.04424525, -0.05183116, -0.05732317,\n",
       "        -0.1372085 , -0.1027915 ]),\n",
       " 'optim.SobOptimScenario.y_12': array([4.47498602e+04, 9.02791503e-01]),\n",
       " 'optim.SobOptimScenario.x_2': [1.0],\n",
       " 'optim.SobOptimScenario.y_32': array([0.73281018]),\n",
       " 'optim.SobOptimScenario.aero.linearization_mode': 'auto',\n",
       " 'optim.SobOptimScenario.aero.cache_type': 'SimpleCache',\n",
       " 'optim.SobOptimScenario.aero.cache_file_path': None,\n",
       " 'optim.SobOptimScenario.aero.debug_mode': '',\n",
       " 'optim.SobOptimScenario.y_2': array([4.47497532e+04, 5.55384485e+03, 8.05743667e+00]),\n",
       " 'optim.SobOptimScenario.y_23': array([5553.84484942]),\n",
       " 'optim.SobOptimScenario.y_24': array([8.05743667]),\n",
       " 'optim.SobOptimScenario.g_2': array([7.99474948e-07]),\n",
       " 'optim.SobOptimScenario.x_3': [0.5],\n",
       " 'optim.SobOptimScenario.prop.linearization_mode': 'auto',\n",
       " 'optim.SobOptimScenario.prop.cache_type': 'SimpleCache',\n",
       " 'optim.SobOptimScenario.prop.cache_file_path': None,\n",
       " 'optim.SobOptimScenario.prop.debug_mode': '',\n",
       " 'optim.SobOptimScenario.y_3': array([9.23933193e-01, 9.43732283e+03, 7.32810179e-01]),\n",
       " 'optim.SobOptimScenario.y_34': array([0.92393319]),\n",
       " 'optim.SobOptimScenario.g_3': array([-7.67189821e-01, -2.32810179e-01,  5.95299488e-06, -1.83254913e-01]),\n",
       " 'optim.SobOptimScenario.mission.linearization_mode': 'auto',\n",
       " 'optim.SobOptimScenario.mission.cache_type': 'SimpleCache',\n",
       " 'optim.SobOptimScenario.mission.cache_file_path': None,\n",
       " 'optim.SobOptimScenario.mission.debug_mode': '',\n",
       " 'optim.SobOptimScenario.y_4': array([3963.40905189]),\n",
       " 'optim.residuals_history': Empty DataFrame\n",
       " Columns: []\n",
       " Index: []}"
      ]
     },
     "execution_count": 62,
     "metadata": {},
     "output_type": "execute_result"
    }
   ],
   "source": [
    "exec_eng.dm.get_data_dict_values()"
   ]
  },
  {
   "cell_type": "code",
   "execution_count": null,
   "id": "b8c42143",
   "metadata": {},
   "outputs": [],
   "source": []
  },
  {
   "cell_type": "code",
   "execution_count": null,
   "id": "81429938",
   "metadata": {},
   "outputs": [],
   "source": []
  },
  {
   "cell_type": "code",
   "execution_count": null,
   "id": "6211f72b",
   "metadata": {},
   "outputs": [],
   "source": []
  }
 ],
 "metadata": {
  "kernelspec": {
   "display_name": "Python 3 (ipykernel)",
   "language": "python",
   "name": "python3"
  },
  "language_info": {
   "codemirror_mode": {
    "name": "ipython",
    "version": 3
   },
   "file_extension": ".py",
   "mimetype": "text/x-python",
   "name": "python",
   "nbconvert_exporter": "python",
   "pygments_lexer": "ipython3",
   "version": "3.9.7"
  }
 },
 "nbformat": 4,
 "nbformat_minor": 5
}
