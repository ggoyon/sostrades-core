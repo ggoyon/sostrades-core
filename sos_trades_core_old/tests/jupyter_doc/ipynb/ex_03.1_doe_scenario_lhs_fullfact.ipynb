{
 "cells": [
  {
   "cell_type": "code",
   "execution_count": 1,
   "id": "e668b41a",
   "metadata": {},
   "outputs": [],
   "source": [
    "if 0 :\n",
    "    %matplotlib inline\n",
    "else :\n",
    "    %matplotlib notebook"
   ]
  },
  {
   "cell_type": "markdown",
   "id": "b3f4409c",
   "metadata": {},
   "source": [
    "#  Import  libraries"
   ]
  },
  {
   "cell_type": "code",
   "execution_count": 2,
   "id": "765fed52",
   "metadata": {},
   "outputs": [
    {
     "name": "stdout",
     "output_type": "stream",
     "text": [
      "C:\\Users\\ng947ac\\Documents\\Daniel\\jupyter\\SoSTrades\\jupyter_doc\\_scripts\n",
      "C:\\Users\\ng947ac\\Documents\\Daniel\\git\\workspace\n",
      "C:\\Users\\ng947ac\\Documents\\Daniel\\git\\workspace\\sosgemseo\\src\\\n",
      "C:\\Users\\ng947ac\\Documents\\Daniel\\git\\workspace\\sostrades-core\n"
     ]
    }
   ],
   "source": [
    "import sys\n",
    "import os\n",
    "module_path = os.path.abspath('.') +\"\\\\_scripts\"\n",
    "print(module_path)\n",
    "\n",
    "if module_path not in sys.path:\n",
    "    sys.path.append(module_path)\n",
    "from _00_Import_packages_git3 import *"
   ]
  },
  {
   "cell_type": "code",
   "execution_count": 3,
   "id": "f59f4096",
   "metadata": {},
   "outputs": [],
   "source": [
    "from numpy import array\n",
    "import pandas as pd\n",
    "from sos_trades_core.execution_engine.execution_engine import ExecutionEngine\n",
    "from numpy.testing import assert_array_equal, assert_array_almost_equal  # @UnresolvedImport\n",
    "import os\n",
    "from gemseo.core.mdo_scenario import MDOScenario"
   ]
  },
  {
   "cell_type": "markdown",
   "id": "dffc465e",
   "metadata": {},
   "source": [
    "# SoSDoeScenario setUp"
   ]
  },
  {
   "cell_type": "code",
   "execution_count": 4,
   "id": "7e31db5b",
   "metadata": {},
   "outputs": [
    {
     "name": "stdout",
     "output_type": "stream",
     "text": [
      "SellarDoeScenario\n"
     ]
    }
   ],
   "source": [
    "study_name = 'doe'\n",
    "ns = f'{study_name}'\n",
    "sc_name = \"SellarDoeScenario\"\n",
    "c_name = \"SellarCoupling\"\n",
    "print(sc_name)"
   ]
  },
  {
   "cell_type": "markdown",
   "id": "1f185ea9",
   "metadata": {},
   "source": [
    "See §2 for Discipmline description"
   ]
  },
  {
   "cell_type": "code",
   "execution_count": 5,
   "id": "4dbd5bc6",
   "metadata": {},
   "outputs": [],
   "source": [
    "dspace_dict = {'variable': ['x', 'z', 'y_1', 'y_2'],\n",
    "               'value': [[1.], [5., 2.], [1.], [1.]],\n",
    "               'lower_bnd': [[0.], [-10., 0.], [-100.], [-100.]],\n",
    "               'upper_bnd': [[10.], [10., 10.], [100.], [100.]],\n",
    "               'enable_variable': [True, True, True, True],\n",
    "               'activated_elem': [[True], [True, True], [True], [True]]}"
   ]
  },
  {
   "cell_type": "code",
   "execution_count": 6,
   "id": "a79d5d33",
   "metadata": {},
   "outputs": [
    {
     "data": {
      "text/html": [
       "<div>\n",
       "<style scoped>\n",
       "    .dataframe tbody tr th:only-of-type {\n",
       "        vertical-align: middle;\n",
       "    }\n",
       "\n",
       "    .dataframe tbody tr th {\n",
       "        vertical-align: top;\n",
       "    }\n",
       "\n",
       "    .dataframe thead th {\n",
       "        text-align: right;\n",
       "    }\n",
       "</style>\n",
       "<table border=\"1\" class=\"dataframe\">\n",
       "  <thead>\n",
       "    <tr style=\"text-align: right;\">\n",
       "      <th></th>\n",
       "      <th>variable</th>\n",
       "      <th>value</th>\n",
       "      <th>lower_bnd</th>\n",
       "      <th>upper_bnd</th>\n",
       "      <th>enable_variable</th>\n",
       "      <th>activated_elem</th>\n",
       "    </tr>\n",
       "  </thead>\n",
       "  <tbody>\n",
       "    <tr>\n",
       "      <th>0</th>\n",
       "      <td>x</td>\n",
       "      <td>[1.0]</td>\n",
       "      <td>[0.0]</td>\n",
       "      <td>[10.0]</td>\n",
       "      <td>True</td>\n",
       "      <td>[True]</td>\n",
       "    </tr>\n",
       "    <tr>\n",
       "      <th>1</th>\n",
       "      <td>z</td>\n",
       "      <td>[5.0, 2.0]</td>\n",
       "      <td>[-10.0, 0.0]</td>\n",
       "      <td>[10.0, 10.0]</td>\n",
       "      <td>True</td>\n",
       "      <td>[True, True]</td>\n",
       "    </tr>\n",
       "    <tr>\n",
       "      <th>2</th>\n",
       "      <td>y_1</td>\n",
       "      <td>[1.0]</td>\n",
       "      <td>[-100.0]</td>\n",
       "      <td>[100.0]</td>\n",
       "      <td>True</td>\n",
       "      <td>[True]</td>\n",
       "    </tr>\n",
       "    <tr>\n",
       "      <th>3</th>\n",
       "      <td>y_2</td>\n",
       "      <td>[1.0]</td>\n",
       "      <td>[-100.0]</td>\n",
       "      <td>[100.0]</td>\n",
       "      <td>True</td>\n",
       "      <td>[True]</td>\n",
       "    </tr>\n",
       "  </tbody>\n",
       "</table>\n",
       "</div>"
      ],
      "text/plain": [
       "  variable       value     lower_bnd     upper_bnd  enable_variable  \\\n",
       "0        x       [1.0]         [0.0]        [10.0]             True   \n",
       "1        z  [5.0, 2.0]  [-10.0, 0.0]  [10.0, 10.0]             True   \n",
       "2      y_1       [1.0]      [-100.0]       [100.0]             True   \n",
       "3      y_2       [1.0]      [-100.0]       [100.0]             True   \n",
       "\n",
       "  activated_elem  \n",
       "0         [True]  \n",
       "1   [True, True]  \n",
       "2         [True]  \n",
       "3         [True]  "
      ]
     },
     "execution_count": 6,
     "metadata": {},
     "output_type": "execute_result"
    }
   ],
   "source": [
    "dspace = pd.DataFrame(dspace_dict)\n",
    "dspace"
   ]
  },
  {
   "cell_type": "code",
   "execution_count": 7,
   "id": "3f57e831",
   "metadata": {},
   "outputs": [
    {
     "name": "stdout",
     "output_type": "stream",
     "text": [
      "C:\\Temp\n"
     ]
    }
   ],
   "source": [
    "from tempfile import gettempdir\n",
    "root_dir = gettempdir()\n",
    "print(root_dir)\n",
    "dspace.to_csv(root_dir+'\\\\ds.csv')"
   ]
  },
  {
   "cell_type": "code",
   "execution_count": 8,
   "id": "c2f7c314",
   "metadata": {},
   "outputs": [],
   "source": [
    "repo = 'sos_trades_core.sos_processes.test'\n",
    "proc_name = 'test_sellar_doe'"
   ]
  },
  {
   "cell_type": "markdown",
   "id": "15c0d86b",
   "metadata": {},
   "source": [
    "# Doe scenario execution"
   ]
  },
  {
   "cell_type": "markdown",
   "id": "a3d62527",
   "metadata": {},
   "source": [
    "# 1 Set Doe optim scenario lhs or fullfact"
   ]
  },
  {
   "cell_type": "code",
   "execution_count": 9,
   "id": "bf8faab2",
   "metadata": {},
   "outputs": [],
   "source": [
    "#my_formulation = \"DisciplinaryOpt\"\n",
    "my_formulation = \"MDF\"\n",
    "#my_formulation = \"IDF\"\n",
    "#my_formulation =  \"BiLevel \""
   ]
  },
  {
   "cell_type": "code",
   "execution_count": 10,
   "id": "07993237",
   "metadata": {},
   "outputs": [
    {
     "data": {
      "text/plain": [
       "['CustomDOE',\n",
       " 'DiagonalDOE',\n",
       " 'OT_SOBOL',\n",
       " 'OT_RANDOM',\n",
       " 'OT_HASELGROVE',\n",
       " 'OT_REVERSE_HALTON',\n",
       " 'OT_HALTON',\n",
       " 'OT_FAURE',\n",
       " 'OT_MONTE_CARLO',\n",
       " 'OT_FACTORIAL',\n",
       " 'OT_COMPOSITE',\n",
       " 'OT_AXIAL',\n",
       " 'OT_OPT_LHS',\n",
       " 'OT_LHS',\n",
       " 'OT_LHSC',\n",
       " 'OT_FULLFACT',\n",
       " 'OT_SOBOL_INDICES',\n",
       " 'fullfact',\n",
       " 'ff2n',\n",
       " 'pbdesign',\n",
       " 'bbdesign',\n",
       " 'ccdesign',\n",
       " 'lhs']"
      ]
     },
     "execution_count": 10,
     "metadata": {},
     "output_type": "execute_result"
    }
   ],
   "source": [
    "from gemseo.api import (\n",
    "    configure_logger,\n",
    "    get_algorithm_options_schema,\n",
    "    get_available_doe_algorithms,\n",
    ")\n",
    "get_available_doe_algorithms()"
   ]
  },
  {
   "cell_type": "code",
   "execution_count": 11,
   "id": "4d3cc9a0",
   "metadata": {},
   "outputs": [],
   "source": [
    "my_doe_algo = \"lhs\"\n",
    "#my_doe_algo = \"fullfact\"\n"
   ]
  },
  {
   "cell_type": "code",
   "execution_count": 12,
   "id": "bfad3df9",
   "metadata": {},
   "outputs": [
    {
     "name": "stdout",
     "output_type": "stream",
     "text": [
      "\n",
      " Sellar doe solution check with  MDF  formulation\n"
     ]
    }
   ],
   "source": [
    "print(\"\\n Sellar doe solution check with \",my_formulation ,\" formulation\")"
   ]
  },
  {
   "cell_type": "code",
   "execution_count": 13,
   "id": "5e8b2920",
   "metadata": {},
   "outputs": [
    {
     "name": "stderr",
     "output_type": "stream",
     "text": [
      "INFO:SoS.EE:configuring ...\n",
      "WARNING:gemseo.mda.mda_chain:No coupling in MDA, switching chain_linearize to True\n",
      "INFO:SoS.EE.Coupling:The MDA solver of the Coupling doe is set to MDAJacobi\n"
     ]
    }
   ],
   "source": [
    "exec_eng = ExecutionEngine(study_name)\n",
    "factory = exec_eng.factory\n",
    "builder = factory.get_builder_from_process(repo=repo,mod_id=proc_name)\n",
    "exec_eng.factory.set_builders_to_coupling_builder(builder)\n",
    "exec_eng.configure()"
   ]
  },
  {
   "cell_type": "code",
   "execution_count": 14,
   "id": "603209f3",
   "metadata": {},
   "outputs": [
    {
     "name": "stderr",
     "output_type": "stream",
     "text": [
      "INFO:SoS.EE:Nodes representation for Treeview doe\n",
      "|_ doe\n",
      "\t|_ SellarDoeScenario\n",
      "\t\t|_ Sellar_Problem\n",
      "\t\t|_ Sellar_2\n",
      "\t\t|_ Sellar_1\n"
     ]
    },
    {
     "data": {
      "text/plain": [
       "'Nodes representation for Treeview doe\\n|_ doe\\n\\t|_ SellarDoeScenario\\n\\t\\t|_ Sellar_Problem\\n\\t\\t|_ Sellar_2\\n\\t\\t|_ Sellar_1'"
      ]
     },
     "execution_count": 14,
     "metadata": {},
     "output_type": "execute_result"
    }
   ],
   "source": [
    "exec_eng.display_treeview_nodes()"
   ]
  },
  {
   "cell_type": "code",
   "execution_count": 15,
   "id": "240b826c",
   "metadata": {},
   "outputs": [
    {
     "name": "stderr",
     "output_type": "stream",
     "text": [
      "INFO:SoS.EE:Nodes representation for Treeview doe\n",
      "|_ doe\n",
      "\t-> acceleration\n",
      "\t-> authorize_self_coupled_disciplines\n",
      "\t-> cache_file_path\n",
      "\t-> cache_type\n",
      "\t-> chain_linearize\n",
      "\t-> debug_mode\n",
      "\t-> epsilon0\n",
      "\t-> group_mda_disciplines\n",
      "\t-> linear_solver_MDA\n",
      "\t-> linear_solver_MDA_options\n",
      "\t-> linear_solver_MDA_preconditioner\n",
      "\t-> linear_solver_MDO\n",
      "\t-> linear_solver_MDO_options\n",
      "\t-> linear_solver_MDO_preconditioner\n",
      "\t-> linearization_mode\n",
      "\t-> max_mda_iter\n",
      "\t-> n_processes\n",
      "\t-> n_subcouplings_parallel\n",
      "\t-> relax_factor\n",
      "\t-> sub_mda_class\n",
      "\t-> tolerance\n",
      "\t-> tolerance_gs\n",
      "\t-> use_lu_fact\n",
      "\t-> warm_start\n",
      "\t-> warm_start_threshold\n",
      "\t<- residuals_history\n",
      "\t|_ SellarDoeScenario\n",
      "\t\t-> algo\n",
      "\t\t-> algo_options\n",
      "\t\t-> cache_file_path\n",
      "\t\t-> cache_type\n",
      "\t\t-> debug_mode\n",
      "\t\t-> debug_mode_sellar\n",
      "\t\t-> design_space\n",
      "\t\t-> differentiation_method\n",
      "\t\t-> eval_jac\n",
      "\t\t-> eval_mode\n",
      "\t\t-> execute_at_xopt\n",
      "\t\t-> formulation\n",
      "\t\t-> linearization_mode\n",
      "\t\t-> maximize_objective\n",
      "\t\t-> n_samples\n",
      "\t\t-> objective_name\n",
      "\t\t-> parallel_options\n",
      "\t\t-> x\n",
      "\t\t-> z\n",
      "\t\t<- c_1\n",
      "\t\t<- c_2\n",
      "\t\t<- design_space_out\n",
      "\t\t<- doe_ds_io\n",
      "\t\t<- obj\n",
      "\t\t<- optim_result\n",
      "\t\t<- y_1\n",
      "\t\t<- y_1_bis\n",
      "\t\t<- y_2\n",
      "\t\t<- y_2_bis\n",
      "\t\t|_ Sellar_Problem\n",
      "\t\t\t-> cache_file_path\n",
      "\t\t\t-> cache_type\n",
      "\t\t\t-> debug_mode\n",
      "\t\t\t-> linearization_mode\n",
      "\t\t\t-> local_dv\n",
      "\t\t|_ Sellar_2\n",
      "\t\t\t-> cache_file_path\n",
      "\t\t\t-> cache_type\n",
      "\t\t\t-> debug_mode\n",
      "\t\t\t-> linearization_mode\n",
      "\t\t|_ Sellar_1\n",
      "\t\t\t-> cache_file_path\n",
      "\t\t\t-> cache_type\n",
      "\t\t\t-> debug_mode\n",
      "\t\t\t-> linearization_mode\n"
     ]
    },
    {
     "data": {
      "text/plain": [
       "'Nodes representation for Treeview doe\\n|_ doe\\n\\t-> acceleration\\n\\t-> authorize_self_coupled_disciplines\\n\\t-> cache_file_path\\n\\t-> cache_type\\n\\t-> chain_linearize\\n\\t-> debug_mode\\n\\t-> epsilon0\\n\\t-> group_mda_disciplines\\n\\t-> linear_solver_MDA\\n\\t-> linear_solver_MDA_options\\n\\t-> linear_solver_MDA_preconditioner\\n\\t-> linear_solver_MDO\\n\\t-> linear_solver_MDO_options\\n\\t-> linear_solver_MDO_preconditioner\\n\\t-> linearization_mode\\n\\t-> max_mda_iter\\n\\t-> n_processes\\n\\t-> n_subcouplings_parallel\\n\\t-> relax_factor\\n\\t-> sub_mda_class\\n\\t-> tolerance\\n\\t-> tolerance_gs\\n\\t-> use_lu_fact\\n\\t-> warm_start\\n\\t-> warm_start_threshold\\n\\t<- residuals_history\\n\\t|_ SellarDoeScenario\\n\\t\\t-> algo\\n\\t\\t-> algo_options\\n\\t\\t-> cache_file_path\\n\\t\\t-> cache_type\\n\\t\\t-> debug_mode\\n\\t\\t-> debug_mode_sellar\\n\\t\\t-> design_space\\n\\t\\t-> differentiation_method\\n\\t\\t-> eval_jac\\n\\t\\t-> eval_mode\\n\\t\\t-> execute_at_xopt\\n\\t\\t-> formulation\\n\\t\\t-> linearization_mode\\n\\t\\t-> maximize_objective\\n\\t\\t-> n_samples\\n\\t\\t-> objective_name\\n\\t\\t-> parallel_options\\n\\t\\t-> x\\n\\t\\t-> z\\n\\t\\t<- c_1\\n\\t\\t<- c_2\\n\\t\\t<- design_space_out\\n\\t\\t<- doe_ds_io\\n\\t\\t<- obj\\n\\t\\t<- optim_result\\n\\t\\t<- y_1\\n\\t\\t<- y_1_bis\\n\\t\\t<- y_2\\n\\t\\t<- y_2_bis\\n\\t\\t|_ Sellar_Problem\\n\\t\\t\\t-> cache_file_path\\n\\t\\t\\t-> cache_type\\n\\t\\t\\t-> debug_mode\\n\\t\\t\\t-> linearization_mode\\n\\t\\t\\t-> local_dv\\n\\t\\t|_ Sellar_2\\n\\t\\t\\t-> cache_file_path\\n\\t\\t\\t-> cache_type\\n\\t\\t\\t-> debug_mode\\n\\t\\t\\t-> linearization_mode\\n\\t\\t|_ Sellar_1\\n\\t\\t\\t-> cache_file_path\\n\\t\\t\\t-> cache_type\\n\\t\\t\\t-> debug_mode\\n\\t\\t\\t-> linearization_mode'"
      ]
     },
     "execution_count": 15,
     "metadata": {},
     "output_type": "execute_result"
    }
   ],
   "source": [
    "exec_eng.display_treeview_nodes(True)"
   ]
  },
  {
   "cell_type": "code",
   "execution_count": 16,
   "id": "d4cd4c8a",
   "metadata": {},
   "outputs": [
    {
     "data": {
      "text/plain": [
       "'MDAJacobi'"
      ]
     },
     "execution_count": 16,
     "metadata": {},
     "output_type": "execute_result"
    }
   ],
   "source": [
    "exec_eng.dm.get_data('doe.sub_mda_class')['value']"
   ]
  },
  {
   "cell_type": "markdown",
   "id": "2e0afe56",
   "metadata": {},
   "source": [
    "Possible algo options:"
   ]
  },
  {
   "cell_type": "code",
   "execution_count": 17,
   "id": "a5efd6cd",
   "metadata": {},
   "outputs": [
    {
     "name": "stdout",
     "output_type": "stream",
     "text": [
      "['criterion', 'iterations', 'n_samples', 'eval_jac', 'n_processes', 'wait_time_between_samples', 'seed', 'max_time']\n"
     ]
    }
   ],
   "source": [
    "from gemseo.algos.doe.doe_factory import DOEFactory\n",
    "driver_lib = DOEFactory().create(my_doe_algo)\n",
    "driver_lib.init_options_grammar(my_doe_algo)\n",
    "algo_options_keys = list(driver_lib.opt_grammar.properties_dict.keys())\n",
    "print(algo_options_keys)"
   ]
  },
  {
   "cell_type": "code",
   "execution_count": 18,
   "id": "dc855073",
   "metadata": {},
   "outputs": [
    {
     "data": {
      "text/plain": [
       "['criterion',\n",
       " 'iterations',\n",
       " 'n_samples',\n",
       " 'eval_jac',\n",
       " 'n_processes',\n",
       " 'wait_time_between_samples',\n",
       " 'seed',\n",
       " 'max_time']"
      ]
     },
     "execution_count": 18,
     "metadata": {},
     "output_type": "execute_result"
    }
   ],
   "source": [
    "schema_dict = driver_lib.opt_grammar.schema.to_dict()\n",
    "properties = schema_dict.get(driver_lib.opt_grammar.PROPERTIES_FIELD)\n",
    "algo_options_keys = list(properties.keys()) \n",
    "algo_options_keys"
   ]
  },
  {
   "cell_type": "code",
   "execution_count": 19,
   "id": "658c1cf7",
   "metadata": {},
   "outputs": [
    {
     "data": {
      "text/plain": [
       "{'doe.SellarDoeScenario.n_samples': 100,\n",
       " 'doe.SellarDoeScenario.algo': 'lhs',\n",
       " 'doe.SellarDoeScenario.design_space':   variable       value     lower_bnd     upper_bnd  enable_variable  \\\n",
       " 0        x       [1.0]         [0.0]        [10.0]             True   \n",
       " 1        z  [5.0, 2.0]  [-10.0, 0.0]  [10.0, 10.0]             True   \n",
       " 2      y_1       [1.0]      [-100.0]       [100.0]             True   \n",
       " 3      y_2       [1.0]      [-100.0]       [100.0]             True   \n",
       " \n",
       "   activated_elem  \n",
       " 0         [True]  \n",
       " 1   [True, True]  \n",
       " 2         [True]  \n",
       " 3         [True]  ,\n",
       " 'doe.SellarDoeScenario.formulation': 'MDF',\n",
       " 'doe.SellarDoeScenario.objective_name': 'obj'}"
      ]
     },
     "execution_count": 19,
     "metadata": {},
     "output_type": "execute_result"
    }
   ],
   "source": [
    "#-- set up disciplines in Scenario\n",
    "disc_dict = {}\n",
    "# Doe inputs\n",
    "disc_dict[f'{ns}.SellarDoeScenario.n_samples'] = 100\n",
    "# 'lhs', 'CustomDOE', 'fullfact', ...\n",
    "disc_dict[f'{ns}.SellarDoeScenario.algo'] = my_doe_algo\n",
    "disc_dict[f'{ns}.SellarDoeScenario.design_space'] = dspace\n",
    "\n",
    "disc_dict[f'{ns}.SellarDoeScenario.formulation'] = my_formulation\n",
    "disc_dict[f'{ns}.SellarDoeScenario.objective_name'] = 'obj'\n",
    "#disc_dict[f'{ns}.SellarDoeScenario.ineq_constraints'] = [f'c_1', f'c_2']\n",
    "#disc_dict[f'{ns}.SellarDoeScenario.algo_options'] = {'levels': 'None'\n",
    "#                                                    }\n",
    "\n",
    "disc_dict"
   ]
  },
  {
   "cell_type": "markdown",
   "id": "38556f7c",
   "metadata": {},
   "source": [
    "Remark: in fact it is a <b> DoE optim </b> (with 'obj' variable taken as obj function) ! Here dspace variable was used."
   ]
  },
  {
   "cell_type": "code",
   "execution_count": 20,
   "id": "c782484c",
   "metadata": {},
   "outputs": [
    {
     "data": {
      "text/html": [
       "<div>\n",
       "<style scoped>\n",
       "    .dataframe tbody tr th:only-of-type {\n",
       "        vertical-align: middle;\n",
       "    }\n",
       "\n",
       "    .dataframe tbody tr th {\n",
       "        vertical-align: top;\n",
       "    }\n",
       "\n",
       "    .dataframe thead th {\n",
       "        text-align: right;\n",
       "    }\n",
       "</style>\n",
       "<table border=\"1\" class=\"dataframe\">\n",
       "  <thead>\n",
       "    <tr style=\"text-align: right;\">\n",
       "      <th></th>\n",
       "      <th>0</th>\n",
       "    </tr>\n",
       "  </thead>\n",
       "  <tbody>\n",
       "    <tr>\n",
       "      <th>doe.SellarDoeScenario.n_samples</th>\n",
       "      <td>100</td>\n",
       "    </tr>\n",
       "    <tr>\n",
       "      <th>doe.SellarDoeScenario.algo</th>\n",
       "      <td>lhs</td>\n",
       "    </tr>\n",
       "    <tr>\n",
       "      <th>doe.SellarDoeScenario.design_space</th>\n",
       "      <td>variable       value     lower_bnd     upper...</td>\n",
       "    </tr>\n",
       "    <tr>\n",
       "      <th>doe.SellarDoeScenario.formulation</th>\n",
       "      <td>MDF</td>\n",
       "    </tr>\n",
       "    <tr>\n",
       "      <th>doe.SellarDoeScenario.objective_name</th>\n",
       "      <td>obj</td>\n",
       "    </tr>\n",
       "  </tbody>\n",
       "</table>\n",
       "</div>"
      ],
      "text/plain": [
       "                                                                                      0\n",
       "doe.SellarDoeScenario.n_samples                                                     100\n",
       "doe.SellarDoeScenario.algo                                                          lhs\n",
       "doe.SellarDoeScenario.design_space      variable       value     lower_bnd     upper...\n",
       "doe.SellarDoeScenario.formulation                                                   MDF\n",
       "doe.SellarDoeScenario.objective_name                                                obj"
      ]
     },
     "execution_count": 20,
     "metadata": {},
     "output_type": "execute_result"
    }
   ],
   "source": [
    "my_dict = exec_eng.get_anonimated_data_dict()\n",
    "pd.DataFrame.from_dict(disc_dict,orient='index')"
   ]
  },
  {
   "cell_type": "code",
   "execution_count": 21,
   "id": "20e79291",
   "metadata": {},
   "outputs": [
    {
     "name": "stderr",
     "output_type": "stream",
     "text": [
      "INFO:SoS.EE:configuring ...\n",
      "WARNING:SoS.EE.SoSDOEScenario:The differentiation method \"finite_differences\" will overload the linearization mode \"auto\" \n",
      "WARNING:SoS.EE.SoSDOEScenario:The differentiation method \"finite_differences\" will overload the linearization mode \"auto\" \n",
      "WARNING:SoS.EE.SoSDOEScenario:The differentiation method \"finite_differences\" will overload the linearization mode \"auto\" \n",
      "INFO:SoS.EE:configuring ...\n",
      "WARNING:SoS.EE.SoSDOEScenario:The differentiation method \"finite_differences\" will overload the linearization mode \"auto\" \n",
      "WARNING:SoS.EE.SoSDOEScenario:The differentiation method \"finite_differences\" will overload the linearization mode \"auto\" \n",
      "WARNING:SoS.EE.SoSDOEScenario:The differentiation method \"finite_differences\" will overload the linearization mode \"auto\" \n",
      "INFO:SoS.EE:configuring ...\n",
      "WARNING:gemseo.mda.mda_chain:No coupling in MDA, switching chain_linearize to True\n",
      "INFO:SoS.EE.Coupling:The MDA solver of the Coupling doe is set to MDAJacobi\n",
      "ERROR:SoS.EE.DataManager:Variable: doe.SellarDoeScenario.x value is not set!\n",
      "ERROR:SoS.EE.DataManager:Variable: doe.SellarDoeScenario.z value is not set!\n",
      "ERROR:SoS.EE.DataManager:Variable: doe.SellarDoeScenario.Sellar_Problem.local_dv value is not set!\n"
     ]
    }
   ],
   "source": [
    "#exec_eng.dm.set_values_from_dict(disc_dict)\n",
    "exec_eng.load_study_from_input_dict(disc_dict)"
   ]
  },
  {
   "cell_type": "markdown",
   "id": "3d091459",
   "metadata": {},
   "source": [
    "# 2 Display Disciplines I/O variables"
   ]
  },
  {
   "cell_type": "code",
   "execution_count": 22,
   "id": "8add250d",
   "metadata": {},
   "outputs": [],
   "source": [
    "sellar1 = exec_eng.dm.get_disciplines_with_name(\"doe.\" + \"SellarDoeScenario.Sellar_1\")[0]"
   ]
  },
  {
   "cell_type": "code",
   "execution_count": 23,
   "id": "0463f5e9",
   "metadata": {},
   "outputs": [
    {
     "data": {
      "text/plain": [
       "sos_trades_core.sos_wrapping.test_discs.sellar.Sellar1"
      ]
     },
     "execution_count": 23,
     "metadata": {},
     "output_type": "execute_result"
    }
   ],
   "source": [
    "type(sellar1)"
   ]
  },
  {
   "cell_type": "code",
   "execution_count": 24,
   "id": "173e9156",
   "metadata": {},
   "outputs": [],
   "source": [
    "DESC_IN = sellar1.DESC_IN\n",
    "DESC_OUT = sellar1.DESC_OUT\n",
    "DESC_IN_df = pd.DataFrame.from_dict(DESC_IN,orient='index')\n",
    "DESC_OUT_df = pd.DataFrame.from_dict(DESC_OUT,orient='index')"
   ]
  },
  {
   "cell_type": "code",
   "execution_count": 25,
   "id": "b503c7fa",
   "metadata": {},
   "outputs": [
    {
     "data": {
      "text/html": [
       "<div>\n",
       "<style scoped>\n",
       "    .dataframe tbody tr th:only-of-type {\n",
       "        vertical-align: middle;\n",
       "    }\n",
       "\n",
       "    .dataframe tbody tr th {\n",
       "        vertical-align: top;\n",
       "    }\n",
       "\n",
       "    .dataframe thead th {\n",
       "        text-align: right;\n",
       "    }\n",
       "</style>\n",
       "<table border=\"1\" class=\"dataframe\">\n",
       "  <thead>\n",
       "    <tr style=\"text-align: right;\">\n",
       "      <th></th>\n",
       "      <th>type</th>\n",
       "      <th>visibility</th>\n",
       "      <th>namespace</th>\n",
       "    </tr>\n",
       "  </thead>\n",
       "  <tbody>\n",
       "    <tr>\n",
       "      <th>x</th>\n",
       "      <td>float</td>\n",
       "      <td>Shared</td>\n",
       "      <td>ns_OptimSellar</td>\n",
       "    </tr>\n",
       "    <tr>\n",
       "      <th>y_2</th>\n",
       "      <td>float</td>\n",
       "      <td>Shared</td>\n",
       "      <td>ns_OptimSellar</td>\n",
       "    </tr>\n",
       "    <tr>\n",
       "      <th>z</th>\n",
       "      <td>array</td>\n",
       "      <td>Shared</td>\n",
       "      <td>ns_OptimSellar</td>\n",
       "    </tr>\n",
       "  </tbody>\n",
       "</table>\n",
       "</div>"
      ],
      "text/plain": [
       "      type visibility       namespace\n",
       "x    float     Shared  ns_OptimSellar\n",
       "y_2  float     Shared  ns_OptimSellar\n",
       "z    array     Shared  ns_OptimSellar"
      ]
     },
     "execution_count": 25,
     "metadata": {},
     "output_type": "execute_result"
    }
   ],
   "source": [
    "DESC_IN_df"
   ]
  },
  {
   "cell_type": "code",
   "execution_count": 26,
   "id": "4f63fa85",
   "metadata": {},
   "outputs": [
    {
     "data": {
      "text/html": [
       "<div>\n",
       "<style scoped>\n",
       "    .dataframe tbody tr th:only-of-type {\n",
       "        vertical-align: middle;\n",
       "    }\n",
       "\n",
       "    .dataframe tbody tr th {\n",
       "        vertical-align: top;\n",
       "    }\n",
       "\n",
       "    .dataframe thead th {\n",
       "        text-align: right;\n",
       "    }\n",
       "</style>\n",
       "<table border=\"1\" class=\"dataframe\">\n",
       "  <thead>\n",
       "    <tr style=\"text-align: right;\">\n",
       "      <th></th>\n",
       "      <th>type</th>\n",
       "      <th>visibility</th>\n",
       "      <th>namespace</th>\n",
       "    </tr>\n",
       "  </thead>\n",
       "  <tbody>\n",
       "    <tr>\n",
       "      <th>y_1</th>\n",
       "      <td>float</td>\n",
       "      <td>Shared</td>\n",
       "      <td>ns_OptimSellar</td>\n",
       "    </tr>\n",
       "    <tr>\n",
       "      <th>y_1_bis</th>\n",
       "      <td>float</td>\n",
       "      <td>Shared</td>\n",
       "      <td>ns_OptimSellar</td>\n",
       "    </tr>\n",
       "  </tbody>\n",
       "</table>\n",
       "</div>"
      ],
      "text/plain": [
       "          type visibility       namespace\n",
       "y_1      float     Shared  ns_OptimSellar\n",
       "y_1_bis  float     Shared  ns_OptimSellar"
      ]
     },
     "execution_count": 26,
     "metadata": {},
     "output_type": "execute_result"
    }
   ],
   "source": [
    "DESC_OUT_df"
   ]
  },
  {
   "cell_type": "code",
   "execution_count": 27,
   "id": "a24b0116",
   "metadata": {},
   "outputs": [],
   "source": [
    "sellar2 = exec_eng.dm.get_disciplines_with_name(\"doe.\" + \"SellarDoeScenario.Sellar_2\")[0]"
   ]
  },
  {
   "cell_type": "code",
   "execution_count": 28,
   "id": "6e49bd6a",
   "metadata": {},
   "outputs": [],
   "source": [
    "DESC_IN = sellar2.DESC_IN\n",
    "DESC_OUT = sellar2.DESC_OUT\n",
    "DESC_IN_df = pd.DataFrame.from_dict(DESC_IN,orient='index')\n",
    "DESC_OUT_df = pd.DataFrame.from_dict(DESC_OUT,orient='index')"
   ]
  },
  {
   "cell_type": "code",
   "execution_count": 29,
   "id": "bd9e607a",
   "metadata": {},
   "outputs": [
    {
     "data": {
      "text/html": [
       "<div>\n",
       "<style scoped>\n",
       "    .dataframe tbody tr th:only-of-type {\n",
       "        vertical-align: middle;\n",
       "    }\n",
       "\n",
       "    .dataframe tbody tr th {\n",
       "        vertical-align: top;\n",
       "    }\n",
       "\n",
       "    .dataframe thead th {\n",
       "        text-align: right;\n",
       "    }\n",
       "</style>\n",
       "<table border=\"1\" class=\"dataframe\">\n",
       "  <thead>\n",
       "    <tr style=\"text-align: right;\">\n",
       "      <th></th>\n",
       "      <th>type</th>\n",
       "      <th>visibility</th>\n",
       "      <th>namespace</th>\n",
       "      <th>default</th>\n",
       "    </tr>\n",
       "  </thead>\n",
       "  <tbody>\n",
       "    <tr>\n",
       "      <th>y_1</th>\n",
       "      <td>float</td>\n",
       "      <td>Shared</td>\n",
       "      <td>ns_OptimSellar</td>\n",
       "      <td>NaN</td>\n",
       "    </tr>\n",
       "    <tr>\n",
       "      <th>z</th>\n",
       "      <td>array</td>\n",
       "      <td>Shared</td>\n",
       "      <td>ns_OptimSellar</td>\n",
       "      <td>NaN</td>\n",
       "    </tr>\n",
       "    <tr>\n",
       "      <th>debug_mode_sellar</th>\n",
       "      <td>bool</td>\n",
       "      <td>Shared</td>\n",
       "      <td>ns_OptimSellar</td>\n",
       "      <td>False</td>\n",
       "    </tr>\n",
       "  </tbody>\n",
       "</table>\n",
       "</div>"
      ],
      "text/plain": [
       "                    type visibility       namespace default\n",
       "y_1                float     Shared  ns_OptimSellar     NaN\n",
       "z                  array     Shared  ns_OptimSellar     NaN\n",
       "debug_mode_sellar   bool     Shared  ns_OptimSellar   False"
      ]
     },
     "execution_count": 29,
     "metadata": {},
     "output_type": "execute_result"
    }
   ],
   "source": [
    "DESC_IN_df"
   ]
  },
  {
   "cell_type": "code",
   "execution_count": 30,
   "id": "848a5e1b",
   "metadata": {},
   "outputs": [
    {
     "data": {
      "text/html": [
       "<div>\n",
       "<style scoped>\n",
       "    .dataframe tbody tr th:only-of-type {\n",
       "        vertical-align: middle;\n",
       "    }\n",
       "\n",
       "    .dataframe tbody tr th {\n",
       "        vertical-align: top;\n",
       "    }\n",
       "\n",
       "    .dataframe thead th {\n",
       "        text-align: right;\n",
       "    }\n",
       "</style>\n",
       "<table border=\"1\" class=\"dataframe\">\n",
       "  <thead>\n",
       "    <tr style=\"text-align: right;\">\n",
       "      <th></th>\n",
       "      <th>type</th>\n",
       "      <th>visibility</th>\n",
       "      <th>namespace</th>\n",
       "    </tr>\n",
       "  </thead>\n",
       "  <tbody>\n",
       "    <tr>\n",
       "      <th>y_2</th>\n",
       "      <td>float</td>\n",
       "      <td>Shared</td>\n",
       "      <td>ns_OptimSellar</td>\n",
       "    </tr>\n",
       "    <tr>\n",
       "      <th>y_2_bis</th>\n",
       "      <td>float</td>\n",
       "      <td>Shared</td>\n",
       "      <td>ns_OptimSellar</td>\n",
       "    </tr>\n",
       "  </tbody>\n",
       "</table>\n",
       "</div>"
      ],
      "text/plain": [
       "          type visibility       namespace\n",
       "y_2      float     Shared  ns_OptimSellar\n",
       "y_2_bis  float     Shared  ns_OptimSellar"
      ]
     },
     "execution_count": 30,
     "metadata": {},
     "output_type": "execute_result"
    }
   ],
   "source": [
    "DESC_OUT_df"
   ]
  },
  {
   "cell_type": "code",
   "execution_count": 31,
   "id": "f4cbb66c",
   "metadata": {},
   "outputs": [],
   "source": [
    "sellarP = exec_eng.dm.get_disciplines_with_name(\"doe.\" + \"SellarDoeScenario.Sellar_Problem\")[0]"
   ]
  },
  {
   "cell_type": "code",
   "execution_count": 32,
   "id": "18d0f88d",
   "metadata": {},
   "outputs": [],
   "source": [
    "DESC_IN = sellarP.DESC_IN\n",
    "DESC_OUT = sellarP.DESC_OUT\n",
    "DESC_IN_df = pd.DataFrame.from_dict(DESC_IN,orient='index')\n",
    "DESC_OUT_df = pd.DataFrame.from_dict(DESC_OUT,orient='index')"
   ]
  },
  {
   "cell_type": "code",
   "execution_count": 33,
   "id": "6d00f9e0",
   "metadata": {},
   "outputs": [
    {
     "data": {
      "text/html": [
       "<div>\n",
       "<style scoped>\n",
       "    .dataframe tbody tr th:only-of-type {\n",
       "        vertical-align: middle;\n",
       "    }\n",
       "\n",
       "    .dataframe tbody tr th {\n",
       "        vertical-align: top;\n",
       "    }\n",
       "\n",
       "    .dataframe thead th {\n",
       "        text-align: right;\n",
       "    }\n",
       "</style>\n",
       "<table border=\"1\" class=\"dataframe\">\n",
       "  <thead>\n",
       "    <tr style=\"text-align: right;\">\n",
       "      <th></th>\n",
       "      <th>type</th>\n",
       "      <th>visibility</th>\n",
       "      <th>namespace</th>\n",
       "    </tr>\n",
       "  </thead>\n",
       "  <tbody>\n",
       "    <tr>\n",
       "      <th>x</th>\n",
       "      <td>float</td>\n",
       "      <td>Shared</td>\n",
       "      <td>ns_OptimSellar</td>\n",
       "    </tr>\n",
       "    <tr>\n",
       "      <th>y_1</th>\n",
       "      <td>float</td>\n",
       "      <td>Shared</td>\n",
       "      <td>ns_OptimSellar</td>\n",
       "    </tr>\n",
       "    <tr>\n",
       "      <th>y_2</th>\n",
       "      <td>float</td>\n",
       "      <td>Shared</td>\n",
       "      <td>ns_OptimSellar</td>\n",
       "    </tr>\n",
       "    <tr>\n",
       "      <th>z</th>\n",
       "      <td>array</td>\n",
       "      <td>Shared</td>\n",
       "      <td>ns_OptimSellar</td>\n",
       "    </tr>\n",
       "    <tr>\n",
       "      <th>local_dv</th>\n",
       "      <td>float</td>\n",
       "      <td>NaN</td>\n",
       "      <td>NaN</td>\n",
       "    </tr>\n",
       "  </tbody>\n",
       "</table>\n",
       "</div>"
      ],
      "text/plain": [
       "           type visibility       namespace\n",
       "x         float     Shared  ns_OptimSellar\n",
       "y_1       float     Shared  ns_OptimSellar\n",
       "y_2       float     Shared  ns_OptimSellar\n",
       "z         array     Shared  ns_OptimSellar\n",
       "local_dv  float        NaN             NaN"
      ]
     },
     "execution_count": 33,
     "metadata": {},
     "output_type": "execute_result"
    }
   ],
   "source": [
    "DESC_IN_df"
   ]
  },
  {
   "cell_type": "code",
   "execution_count": 34,
   "id": "f65e0dc0",
   "metadata": {
    "scrolled": false
   },
   "outputs": [
    {
     "data": {
      "text/html": [
       "<div>\n",
       "<style scoped>\n",
       "    .dataframe tbody tr th:only-of-type {\n",
       "        vertical-align: middle;\n",
       "    }\n",
       "\n",
       "    .dataframe tbody tr th {\n",
       "        vertical-align: top;\n",
       "    }\n",
       "\n",
       "    .dataframe thead th {\n",
       "        text-align: right;\n",
       "    }\n",
       "</style>\n",
       "<table border=\"1\" class=\"dataframe\">\n",
       "  <thead>\n",
       "    <tr style=\"text-align: right;\">\n",
       "      <th></th>\n",
       "      <th>type</th>\n",
       "      <th>visibility</th>\n",
       "      <th>namespace</th>\n",
       "    </tr>\n",
       "  </thead>\n",
       "  <tbody>\n",
       "    <tr>\n",
       "      <th>c_1</th>\n",
       "      <td>array</td>\n",
       "      <td>Shared</td>\n",
       "      <td>ns_OptimSellar</td>\n",
       "    </tr>\n",
       "    <tr>\n",
       "      <th>c_2</th>\n",
       "      <td>array</td>\n",
       "      <td>Shared</td>\n",
       "      <td>ns_OptimSellar</td>\n",
       "    </tr>\n",
       "    <tr>\n",
       "      <th>obj</th>\n",
       "      <td>array</td>\n",
       "      <td>Shared</td>\n",
       "      <td>ns_OptimSellar</td>\n",
       "    </tr>\n",
       "  </tbody>\n",
       "</table>\n",
       "</div>"
      ],
      "text/plain": [
       "      type visibility       namespace\n",
       "c_1  array     Shared  ns_OptimSellar\n",
       "c_2  array     Shared  ns_OptimSellar\n",
       "obj  array     Shared  ns_OptimSellar"
      ]
     },
     "execution_count": 34,
     "metadata": {},
     "output_type": "execute_result"
    }
   ],
   "source": [
    "DESC_OUT_df"
   ]
  },
  {
   "cell_type": "code",
   "execution_count": null,
   "id": "ce1f2890",
   "metadata": {},
   "outputs": [],
   "source": []
  },
  {
   "cell_type": "markdown",
   "id": "3d46d809",
   "metadata": {},
   "source": [
    "# 3 Provide Discipline inputs"
   ]
  },
  {
   "cell_type": "code",
   "execution_count": 35,
   "id": "d3c4d21e",
   "metadata": {},
   "outputs": [
    {
     "data": {
      "text/html": [
       "<div>\n",
       "<style scoped>\n",
       "    .dataframe tbody tr th:only-of-type {\n",
       "        vertical-align: middle;\n",
       "    }\n",
       "\n",
       "    .dataframe tbody tr th {\n",
       "        vertical-align: top;\n",
       "    }\n",
       "\n",
       "    .dataframe thead th {\n",
       "        text-align: right;\n",
       "    }\n",
       "</style>\n",
       "<table border=\"1\" class=\"dataframe\">\n",
       "  <thead>\n",
       "    <tr style=\"text-align: right;\">\n",
       "      <th></th>\n",
       "      <th>0</th>\n",
       "    </tr>\n",
       "  </thead>\n",
       "  <tbody>\n",
       "    <tr>\n",
       "      <th>doe.SellarDoeScenario.x</th>\n",
       "      <td>1.0</td>\n",
       "    </tr>\n",
       "    <tr>\n",
       "      <th>doe.SellarDoeScenario.y_1</th>\n",
       "      <td>1.0</td>\n",
       "    </tr>\n",
       "    <tr>\n",
       "      <th>doe.SellarDoeScenario.y_2</th>\n",
       "      <td>1.0</td>\n",
       "    </tr>\n",
       "    <tr>\n",
       "      <th>doe.SellarDoeScenario.z</th>\n",
       "      <td>[1.0, 1.0]</td>\n",
       "    </tr>\n",
       "    <tr>\n",
       "      <th>doe.SellarDoeScenario.Sellar_Problem.local_dv</th>\n",
       "      <td>10.0</td>\n",
       "    </tr>\n",
       "  </tbody>\n",
       "</table>\n",
       "</div>"
      ],
      "text/plain": [
       "                                                        0\n",
       "doe.SellarDoeScenario.x                               1.0\n",
       "doe.SellarDoeScenario.y_1                             1.0\n",
       "doe.SellarDoeScenario.y_2                             1.0\n",
       "doe.SellarDoeScenario.z                        [1.0, 1.0]\n",
       "doe.SellarDoeScenario.Sellar_Problem.local_dv        10.0"
      ]
     },
     "execution_count": 35,
     "metadata": {},
     "output_type": "execute_result"
    }
   ],
   "source": [
    "# Sellar inputs\n",
    "local_dv = 10.\n",
    "values_dict = {}\n",
    "values_dict[f'{ns}.{sc_name}.x'] = 1.  \n",
    "values_dict[f'{ns}.{sc_name}.y_1'] = 1. \n",
    "values_dict[f'{ns}.{sc_name}.y_2'] = 1. \n",
    "values_dict[f'{ns}.{sc_name}.z'] = array([1., 1.])\n",
    "values_dict[f'{ns}.{sc_name}.Sellar_Problem.local_dv'] = local_dv\n",
    "#values_dict[f'{ns}.cache_type'] = 'MemoryFullCache'  # KO !!!\n",
    "#values_dict[f'{ns}.{sc_name}.cache_type'] = 'MemoryFullCache' #OK but remain SimpleCache\n",
    "#values_dict[f'{ns}.{sc_name}.Sellar_1.cache_type'] = 'MemoryFullCache'\n",
    "#values_dict[f'{ns}.{sc_name}.Sellar_2.cache_type'] = 'MemoryFullCache'\n",
    "#values_dict[f'{ns}.{sc_name}.Sellar_Problem.cache_type'] = 'MemoryFullCache'  # KO !!! Problem with local_dv (the variable that is not shared)\n",
    "\n",
    "values_dict\n",
    "my_dict = exec_eng.get_anonimated_data_dict()\n",
    "pd.DataFrame.from_dict(values_dict,orient='index')"
   ]
  },
  {
   "cell_type": "code",
   "execution_count": 36,
   "id": "5cc45bae",
   "metadata": {},
   "outputs": [
    {
     "name": "stderr",
     "output_type": "stream",
     "text": [
      "INFO:SoS.EE:configuring ...\n",
      "WARNING:SoS.EE.SoSDOEScenario:The differentiation method \"finite_differences\" will overload the linearization mode \"auto\" \n",
      "WARNING:SoS.EE.SoSDOEScenario:The differentiation method \"finite_differences\" will overload the linearization mode \"auto\" \n",
      "WARNING:SoS.EE.SoSDOEScenario:The differentiation method \"finite_differences\" will overload the linearization mode \"auto\" \n",
      "INFO:SoS.EE:configuring ...\n",
      "WARNING:gemseo.mda.mda_chain:No coupling in MDA, switching chain_linearize to True\n",
      "INFO:SoS.EE.Coupling:The MDA solver of the Coupling doe is set to MDAJacobi\n",
      "INFO:SoS.EE:configuring ...\n",
      "WARNING:gemseo.mda.mda_chain:No coupling in MDA, switching chain_linearize to True\n",
      "INFO:SoS.EE.Coupling:The MDA solver of the Coupling doe is set to MDAJacobi\n"
     ]
    }
   ],
   "source": [
    "#exec_eng.dm.set_values_from_dict(values_dict)\n",
    "exec_eng.load_study_from_input_dict(values_dict)\n",
    "exec_eng.configure()"
   ]
  },
  {
   "cell_type": "markdown",
   "id": "a6bde00c",
   "metadata": {},
   "source": [
    "# 4 Run Doe scenario"
   ]
  },
  {
   "cell_type": "code",
   "execution_count": 37,
   "id": "d14d1e0f",
   "metadata": {
    "scrolled": true
   },
   "outputs": [
    {
     "name": "stderr",
     "output_type": "stream",
     "text": [
      "INFO:SoS.EE:PROCESS EXECUTION doe STARTS...\n",
      "INFO:gemseo.core.doe_scenario: \n",
      "INFO:gemseo.core.doe_scenario:*** Start DOE Scenario execution ***\n",
      "INFO:gemseo.core.doe_scenario:SellarDoeScenario\n",
      "   Disciplines: Sellar_Problem Sellar_2 Sellar_1\n",
      "   MDOFormulation: MDF\n",
      "   Algorithm: None\n",
      "INFO:SoS.EE.SoSDOEScenario:{'iterations': 5, 'eval_jac': False, 'n_processes': 1, 'wait_time_between_samples': 0.0, 'seed': 1, 'max_time': 0}\n",
      "INFO:gemseo.algos.doe.doe_lib:Optimization problem:\n",
      "   Minimize: doe.SellarDoeScenario.obj(doe.SellarDoeScenario.x, doe.SellarDoeScenario.z)\n",
      "   With respect to: doe.SellarDoeScenario.x, doe.SellarDoeScenario.z\n",
      "INFO:gemseo.algos.driver_lib:DOE sampling:   0%|          | 0/100 [00:00<?, ?it]\n"
     ]
    },
    {
     "name": "stdout",
     "output_type": "stream",
     "text": [
      "my_options\n",
      "{'iterations': 5, 'eval_jac': False, 'n_processes': 1, 'wait_time_between_samples': 0.0, 'seed': 1, 'max_time': 0}\n"
     ]
    },
    {
     "name": "stderr",
     "output_type": "stream",
     "text": [
      "WARNING:gemseo.mda.mda:epslion0 attribute is not set in case of MDF formulation\n",
      "INFO:gemseo.mda.mda:\t1\t1.000000e+00\n",
      "INFO:gemseo.mda.mda:\t2\t1.955732e-01\n",
      "INFO:gemseo.mda.mda:\t3\t3.745010e-02\n",
      "INFO:gemseo.mda.mda:\t4\t2.219543e-03\n",
      "INFO:gemseo.mda.mda:\t5\t4.204470e-06\n",
      "INFO:gemseo.mda.mda:\t6\t1.331353e-11\n",
      "INFO:gemseo.mda.mda:\t1\t9.375378e-01\n",
      "INFO:gemseo.mda.mda:\t2\t1.848855e-01\n",
      "INFO:gemseo.mda.mda:\t3\t3.592528e-02\n",
      "INFO:gemseo.mda.mda:\t4\t2.281063e-03\n",
      "INFO:gemseo.mda.mda:\t5\t3.021333e-06\n",
      "INFO:gemseo.mda.mda:\t6\t9.930774e-12\n",
      "INFO:gemseo.algos.driver_lib:DOE sampling:   2%|▏         | 2/100 [00:00<00:00, 776.64 it/sec, obj=110]\n",
      "INFO:gemseo.mda.mda:\t1\t6.617839e-01\n",
      "INFO:gemseo.mda.mda:\t2\t1.459518e-01\n",
      "INFO:gemseo.mda.mda:\t3\t2.866878e-02\n",
      "INFO:gemseo.mda.mda:\t4\t2.025604e-03\n",
      "INFO:gemseo.mda.mda:\t5\t2.036568e-06\n",
      "INFO:gemseo.mda.mda:\t6\t9.048144e-12\n",
      "INFO:gemseo.mda.mda:\t1\t4.367449e-01\n",
      "INFO:gemseo.mda.mda:\t2\t1.071167e-01\n",
      "INFO:gemseo.mda.mda:\t3\t2.123486e-02\n",
      "INFO:gemseo.mda.mda:\t4\t9.974994e-04\n",
      "INFO:gemseo.mda.mda:\t5\t6.342035e-06\n",
      "INFO:gemseo.mda.mda:\t6\t4.326168e-11\n",
      "INFO:gemseo.algos.driver_lib:DOE sampling:   4%|▍         | 4/100 [00:00<00:00, 433.69 it/sec, obj=18.8]\n",
      "INFO:gemseo.mda.mda:\t1\t5.813958e+00\n",
      "INFO:gemseo.mda.mda:\t2\t5.204531e-01\n",
      "INFO:gemseo.mda.mda:\t3\t1.033297e-01\n",
      "INFO:gemseo.mda.mda:\t4\t4.103419e-03\n",
      "INFO:gemseo.mda.mda:\t5\t1.911479e-07\n",
      "INFO:gemseo.mda.mda:\t1\t2.441036e+00\n",
      "INFO:gemseo.mda.mda:\t2\t3.198477e-01\n",
      "INFO:gemseo.mda.mda:\t3\t6.316113e-02\n",
      "INFO:gemseo.mda.mda:\t4\t3.431218e-03\n",
      "INFO:gemseo.mda.mda:\t5\t3.925297e-07\n",
      "INFO:gemseo.mda.mda:\t1\t2.786863e+00\n",
      "INFO:gemseo.mda.mda:\t2\t3.656449e-01\n",
      "INFO:gemseo.mda.mda:\t3\t7.010129e-02\n",
      "INFO:gemseo.mda.mda:\t4\t3.327605e-03\n",
      "INFO:gemseo.mda.mda:\t5\t2.149119e-06\n",
      "INFO:gemseo.mda.mda:\t6\t2.024294e-12\n",
      "INFO:gemseo.algos.driver_lib:DOE sampling:   7%|▋         | 7/100 [00:00<00:00, 276.18 it/sec, obj=82.9]\n",
      "INFO:gemseo.mda.mda:\t1\t4.706268e+00\n",
      "INFO:gemseo.mda.mda:\t2\t4.631366e-01\n",
      "INFO:gemseo.mda.mda:\t3\t9.184613e-02\n",
      "INFO:gemseo.mda.mda:\t4\t3.958257e-03\n",
      "INFO:gemseo.mda.mda:\t5\t2.004016e-07\n",
      "INFO:gemseo.mda.mda:\t1\t5.885015e+00\n",
      "INFO:gemseo.mda.mda:\t2\t5.257473e-01\n",
      "INFO:gemseo.mda.mda:\t3\t1.042734e-01\n",
      "INFO:gemseo.mda.mda:\t4\t4.110717e-03\n",
      "INFO:gemseo.mda.mda:\t5\t1.323173e-07\n",
      "INFO:gemseo.mda.mda:\t1\t2.420358e+00\n",
      "INFO:gemseo.mda.mda:\t2\t3.197545e-01\n",
      "INFO:gemseo.mda.mda:\t3\t6.308136e-02\n",
      "INFO:gemseo.mda.mda:\t4\t3.399679e-03\n",
      "INFO:gemseo.mda.mda:\t5\t6.400969e-07\n",
      "INFO:gemseo.algos.driver_lib:DOE sampling:  10%|█         | 10/100 [00:00<00:00, 206.14 it/sec, obj=125]\n",
      "INFO:gemseo.mda.mda:\t1\t1.157944e+00\n",
      "INFO:gemseo.mda.mda:\t2\t2.091554e-01\n",
      "INFO:gemseo.mda.mda:\t3\t4.095892e-02\n",
      "INFO:gemseo.mda.mda:\t4\t2.595342e-03\n",
      "INFO:gemseo.mda.mda:\t5\t1.956069e-06\n",
      "INFO:gemseo.mda.mda:\t6\t5.047532e-12\n",
      "INFO:gemseo.mda.mda:\t1\t4.138497e-01\n",
      "INFO:gemseo.mda.mda:\t2\t1.064962e-01\n",
      "INFO:gemseo.mda.mda:\t3\t2.098243e-02\n",
      "INFO:gemseo.mda.mda:\t4\t1.584608e-03\n",
      "INFO:gemseo.mda.mda:\t5\t1.555699e-06\n",
      "INFO:gemseo.mda.mda:\t6\t9.845051e-12\n",
      "INFO:gemseo.mda.mda:\t1\t1.484362e+00\n",
      "INFO:gemseo.mda.mda:\t2\t2.395335e-01\n",
      "INFO:gemseo.mda.mda:\t3\t4.674426e-02\n",
      "INFO:gemseo.mda.mda:\t4\t2.981744e-03\n",
      "INFO:gemseo.mda.mda:\t5\t3.282706e-07\n",
      "INFO:gemseo.algos.driver_lib:DOE sampling:  13%|█▎        | 13/100 [00:00<00:00, 160.07 it/sec, obj=41]\n",
      "INFO:gemseo.mda.mda:\t1\t2.066401e+00\n",
      "INFO:gemseo.mda.mda:\t2\t2.924103e-01\n",
      "INFO:gemseo.mda.mda:\t3\t5.698915e-02\n",
      "INFO:gemseo.mda.mda:\t4\t3.282514e-03\n",
      "INFO:gemseo.mda.mda:\t5\t2.862235e-07\n",
      "INFO:gemseo.mda.mda:\t1\t2.269044e+00\n",
      "INFO:gemseo.mda.mda:\t2\t3.259560e-01\n",
      "INFO:gemseo.mda.mda:\t3\t6.231459e-02\n",
      "INFO:gemseo.mda.mda:\t4\t3.106117e-03\n",
      "INFO:gemseo.mda.mda:\t5\t2.675837e-06\n",
      "INFO:gemseo.mda.mda:\t6\t3.274914e-12\n",
      "INFO:gemseo.mda.mda:\t1\t4.603828e+00\n",
      "INFO:gemseo.mda.mda:\t2\t4.930641e-01\n",
      "INFO:gemseo.mda.mda:\t3\t9.366816e-02\n",
      "INFO:gemseo.mda.mda:\t4\t3.728904e-03\n",
      "INFO:gemseo.mda.mda:\t5\t1.695632e-06\n",
      "INFO:gemseo.mda.mda:\t6\t8.349562e-13\n",
      "INFO:gemseo.algos.driver_lib:DOE sampling:  16%|█▌        | 16/100 [00:00<00:00, 129.89 it/sec, obj=95.1]\n",
      "INFO:gemseo.mda.mda:\t1\t5.191121e+00\n",
      "INFO:gemseo.mda.mda:\t2\t4.963455e-01\n",
      "INFO:gemseo.mda.mda:\t3\t9.771065e-02\n",
      "INFO:gemseo.mda.mda:\t4\t4.007730e-03\n",
      "INFO:gemseo.mda.mda:\t5\t1.809835e-07\n",
      "INFO:gemseo.mda.mda:\t1\t3.058525e+00\n",
      "INFO:gemseo.mda.mda:\t2\t3.681487e-01\n",
      "INFO:gemseo.mda.mda:\t3\t7.197197e-02\n",
      "INFO:gemseo.mda.mda:\t4\t3.610865e-03\n",
      "INFO:gemseo.mda.mda:\t5\t2.513129e-07\n",
      "INFO:gemseo.mda.mda:\t1\t9.046451e-01\n",
      "INFO:gemseo.mda.mda:\t2\t1.809584e-01\n",
      "INFO:gemseo.mda.mda:\t3\t3.510586e-02\n",
      "INFO:gemseo.mda.mda:\t4\t2.224293e-03\n",
      "INFO:gemseo.mda.mda:\t5\t3.229630e-06\n",
      "INFO:gemseo.mda.mda:\t6\t1.105067e-11\n",
      "INFO:gemseo.algos.driver_lib:DOE sampling:  19%|█▉        | 19/100 [00:00<00:00, 104.58 it/sec, obj=26.7]\n",
      "INFO:gemseo.mda.mda:\t1\t6.879369e-01\n",
      "INFO:gemseo.mda.mda:\t2\t1.488668e-01\n",
      "INFO:gemseo.mda.mda:\t3\t2.908829e-02\n",
      "INFO:gemseo.mda.mda:\t4\t2.203140e-03\n",
      "INFO:gemseo.mda.mda:\t5\t4.786931e-07\n",
      "INFO:gemseo.mda.mda:\t1\t3.582121e+00\n",
      "INFO:gemseo.mda.mda:\t2\t4.108175e-01\n",
      "INFO:gemseo.mda.mda:\t3\t7.992477e-02\n",
      "INFO:gemseo.mda.mda:\t4\t3.641849e-03\n",
      "INFO:gemseo.mda.mda:\t5\t1.156007e-06\n",
      "INFO:gemseo.mda.mda:\t6\t7.783111e-13\n",
      "INFO:gemseo.algos.driver_lib:DOE sampling:  21%|██        | 21/100 [00:01<00:00, 92.25 it/sec, obj=126]\n",
      "INFO:gemseo.mda.mda:\t1\t1.859313e+00\n",
      "INFO:gemseo.mda.mda:\t2\t2.769742e-01\n",
      "INFO:gemseo.mda.mda:\t3\t5.437970e-02\n",
      "INFO:gemseo.mda.mda:\t4\t3.108382e-03\n",
      "INFO:gemseo.mda.mda:\t5\t1.231429e-06\n",
      "INFO:gemseo.mda.mda:\t6\t1.844482e-12\n",
      "INFO:gemseo.mda.mda:\t1\t5.617771e+00\n",
      "INFO:gemseo.mda.mda:\t2\t5.177867e-01\n",
      "INFO:gemseo.mda.mda:\t3\t1.021022e-01\n",
      "INFO:gemseo.mda.mda:\t4\t4.064206e-03\n",
      "INFO:gemseo.mda.mda:\t5\t1.639066e-07\n",
      "INFO:gemseo.algos.driver_lib:DOE sampling:  23%|██▎       | 23/100 [00:01<00:00, 82.15 it/sec, obj=112]\n",
      "INFO:gemseo.mda.mda:\t1\t6.692166e-01\n",
      "INFO:gemseo.mda.mda:\t2\t1.476854e-01\n",
      "INFO:gemseo.mda.mda:\t3\t2.882523e-02\n",
      "INFO:gemseo.mda.mda:\t4\t1.946340e-03\n",
      "INFO:gemseo.mda.mda:\t5\t2.955540e-06\n",
      "INFO:gemseo.mda.mda:\t6\t1.330235e-11\n",
      "INFO:gemseo.mda.mda:\t1\t3.727141e+00\n",
      "INFO:gemseo.mda.mda:\t2\t4.186695e-01\n",
      "INFO:gemseo.mda.mda:\t3\t8.160518e-02\n",
      "INFO:gemseo.mda.mda:\t4\t3.685478e-03\n",
      "INFO:gemseo.mda.mda:\t5\t1.044277e-06\n",
      "INFO:gemseo.mda.mda:\t6\t6.666342e-13\n",
      "INFO:gemseo.algos.driver_lib:DOE sampling:  25%|██▌       | 25/100 [00:01<00:01, 73.25 it/sec, obj=104]\n",
      "INFO:gemseo.mda.mda:\t1\t2.108123e+00\n",
      "INFO:gemseo.mda.mda:\t2\t3.046580e-01\n",
      "INFO:gemseo.mda.mda:\t3\t5.910169e-02\n",
      "INFO:gemseo.mda.mda:\t4\t3.134783e-03\n",
      "INFO:gemseo.mda.mda:\t5\t1.943647e-06\n",
      "INFO:gemseo.mda.mda:\t6\t2.558489e-12\n",
      "INFO:gemseo.mda.mda:\t1\t3.409239e+00\n",
      "INFO:gemseo.mda.mda:\t2\t3.867618e-01\n",
      "INFO:gemseo.mda.mda:\t3\t7.650970e-02\n",
      "INFO:gemseo.mda.mda:\t4\t3.715087e-03\n",
      "INFO:gemseo.mda.mda:\t5\t2.451956e-07\n",
      "INFO:gemseo.algos.driver_lib:DOE sampling:  27%|██▋       | 27/100 [00:01<00:01, 65.94 it/sec, obj=160]\n",
      "INFO:gemseo.mda.mda:\t1\t1.983795e+00\n",
      "INFO:gemseo.mda.mda:\t2\t2.913972e-01\n",
      "INFO:gemseo.mda.mda:\t3\t5.681912e-02\n",
      "INFO:gemseo.mda.mda:\t4\t3.113190e-03\n",
      "INFO:gemseo.mda.mda:\t5\t1.690799e-06\n",
      "INFO:gemseo.mda.mda:\t6\t2.377266e-12\n",
      "INFO:gemseo.mda.mda:\t1\t4.695433e+00\n",
      "INFO:gemseo.mda.mda:\t2\t4.625293e-01\n",
      "INFO:gemseo.mda.mda:\t3\t9.172484e-02\n",
      "INFO:gemseo.mda.mda:\t4\t3.956148e-03\n",
      "INFO:gemseo.mda.mda:\t5\t2.082868e-07\n",
      "INFO:gemseo.algos.driver_lib:DOE sampling:  29%|██▉       | 29/100 [00:01<00:01, 61.54 it/sec, obj=168]\n",
      "INFO:gemseo.mda.mda:\t1\t8.604687e-01\n",
      "INFO:gemseo.mda.mda:\t2\t1.812573e-01\n",
      "INFO:gemseo.mda.mda:\t3\t3.359075e-02\n",
      "INFO:gemseo.mda.mda:\t4\t1.707258e-03\n",
      "INFO:gemseo.mda.mda:\t5\t7.287934e-06\n",
      "INFO:gemseo.mda.mda:\t6\t2.904969e-11\n",
      "INFO:gemseo.mda.mda:\t1\t4.966827e-01\n",
      "INFO:gemseo.mda.mda:\t2\t1.203782e-01\n",
      "INFO:gemseo.mda.mda:\t3\t2.342930e-02\n",
      "INFO:gemseo.mda.mda:\t4\t1.538175e-03\n",
      "INFO:gemseo.mda.mda:\t5\t3.843359e-06\n",
      "INFO:gemseo.mda.mda:\t6\t2.251035e-11\n",
      "INFO:gemseo.algos.driver_lib:DOE sampling:  31%|███       | 31/100 [00:01<00:01, 57.06 it/sec, obj=44.2]\n",
      "INFO:gemseo.mda.mda:\t1\t3.396736e+00\n",
      "INFO:gemseo.mda.mda:\t2\t3.861767e-01\n",
      "INFO:gemseo.mda.mda:\t3\t7.641277e-02\n",
      "INFO:gemseo.mda.mda:\t4\t3.705724e-03\n",
      "INFO:gemseo.mda.mda:\t5\t3.295425e-07\n",
      "INFO:gemseo.mda.mda:\t1\t1.438498e+00\n",
      "INFO:gemseo.mda.mda:\t2\t2.401811e-01\n",
      "INFO:gemseo.mda.mda:\t3\t4.686967e-02\n",
      "INFO:gemseo.mda.mda:\t4\t2.791101e-03\n",
      "INFO:gemseo.mda.mda:\t5\t2.036745e-06\n",
      "INFO:gemseo.mda.mda:\t6\t4.167220e-12\n",
      "INFO:gemseo.algos.driver_lib:DOE sampling:  33%|███▎      | 33/100 [00:01<00:01, 53.06 it/sec, obj=73.2]\n",
      "INFO:gemseo.mda.mda:\t1\t3.451960e+00\n"
     ]
    },
    {
     "name": "stderr",
     "output_type": "stream",
     "text": [
      "INFO:gemseo.mda.mda:\t2\t4.243300e-01\n",
      "INFO:gemseo.mda.mda:\t3\t8.013566e-02\n",
      "INFO:gemseo.mda.mda:\t4\t3.439378e-03\n",
      "INFO:gemseo.mda.mda:\t5\t2.429816e-06\n",
      "INFO:gemseo.mda.mda:\t6\t1.757197e-12\n",
      "INFO:gemseo.mda.mda:\t1\t3.460779e-01\n",
      "INFO:gemseo.mda.mda:\t2\t9.433252e-02\n",
      "INFO:gemseo.mda.mda:\t3\t1.880801e-02\n",
      "INFO:gemseo.mda.mda:\t4\t1.499387e-03\n",
      "INFO:gemseo.mda.mda:\t5\t4.736531e-07\n",
      "INFO:gemseo.algos.driver_lib:DOE sampling:  35%|███▌      | 35/100 [00:02<00:01, 48.94 it/sec, obj=38.2]\n",
      "INFO:gemseo.mda.mda:\t1\t6.008166e-01\n",
      "INFO:gemseo.mda.mda:\t2\t1.381801e-01\n",
      "INFO:gemseo.mda.mda:\t3\t2.634698e-02\n",
      "INFO:gemseo.mda.mda:\t4\t1.429545e-03\n",
      "INFO:gemseo.mda.mda:\t5\t6.376662e-06\n",
      "INFO:gemseo.mda.mda:\t6\t3.429246e-11\n",
      "INFO:gemseo.mda.mda:\t1\t5.963261e+00\n",
      "INFO:gemseo.mda.mda:\t2\t5.314305e-01\n",
      "INFO:gemseo.mda.mda:\t3\t1.052321e-01\n",
      "INFO:gemseo.mda.mda:\t4\t4.114724e-03\n",
      "INFO:gemseo.mda.mda:\t5\t1.332438e-07\n",
      "INFO:gemseo.algos.driver_lib:DOE sampling:  37%|███▋      | 37/100 [00:02<00:01, 45.37 it/sec, obj=165]\n",
      "INFO:gemseo.mda.mda:\t1\t6.088839e+00\n",
      "INFO:gemseo.mda.mda:\t2\t5.647823e-01\n",
      "INFO:gemseo.mda.mda:\t3\t1.083188e-01\n",
      "INFO:gemseo.mda.mda:\t4\t3.994698e-03\n",
      "INFO:gemseo.mda.mda:\t5\t1.074647e-06\n",
      "INFO:gemseo.mda.mda:\t6\t3.618420e-13\n",
      "INFO:gemseo.mda.mda:\t1\t4.232812e+00\n",
      "INFO:gemseo.mda.mda:\t2\t4.366263e-01\n",
      "INFO:gemseo.mda.mda:\t3\t8.652755e-02\n",
      "INFO:gemseo.mda.mda:\t4\t3.879326e-03\n",
      "INFO:gemseo.mda.mda:\t5\t2.389459e-07\n",
      "INFO:gemseo.algos.driver_lib:DOE sampling:  39%|███▉      | 39/100 [00:02<00:01, 42.75 it/sec, obj=174]\n",
      "INFO:gemseo.mda.mda:\t1\t4.455369e-01\n",
      "INFO:gemseo.mda.mda:\t2\t1.086626e-01\n",
      "INFO:gemseo.mda.mda:\t3\t2.153759e-02\n",
      "INFO:gemseo.mda.mda:\t4\t9.917339e-04\n",
      "INFO:gemseo.mda.mda:\t5\t6.492425e-06\n",
      "INFO:gemseo.mda.mda:\t6\t4.393300e-11\n",
      "INFO:gemseo.mda.mda:\t1\t2.355092e+00\n",
      "INFO:gemseo.mda.mda:\t2\t3.149128e-01\n",
      "INFO:gemseo.mda.mda:\t3\t6.210952e-02\n",
      "INFO:gemseo.mda.mda:\t4\t3.372977e-03\n",
      "INFO:gemseo.mda.mda:\t5\t6.742621e-07\n",
      "INFO:gemseo.algos.driver_lib:DOE sampling:  41%|████      | 41/100 [00:02<00:01, 40.04 it/sec, obj=136]\n",
      "INFO:gemseo.mda.mda:\t1\t4.621101e+00\n",
      "INFO:gemseo.mda.mda:\t2\t4.616781e-01\n",
      "INFO:gemseo.mda.mda:\t3\t9.117466e-02\n",
      "INFO:gemseo.mda.mda:\t4\t3.938184e-03\n",
      "INFO:gemseo.mda.mda:\t5\t1.620511e-07\n",
      "INFO:gemseo.mda.mda:\t1\t2.075224e+00\n",
      "INFO:gemseo.mda.mda:\t2\t3.149379e-01\n",
      "INFO:gemseo.mda.mda:\t3\t5.949253e-02\n",
      "INFO:gemseo.mda.mda:\t4\t2.931801e-03\n",
      "INFO:gemseo.mda.mda:\t5\t3.547490e-06\n",
      "INFO:gemseo.mda.mda:\t6\t4.915999e-12\n",
      "INFO:gemseo.algos.driver_lib:DOE sampling:  43%|████▎     | 43/100 [00:02<00:01, 37.28 it/sec, obj=86.6]\n",
      "INFO:gemseo.mda.mda:\t1\t4.123652e+00\n",
      "INFO:gemseo.mda.mda:\t2\t4.600982e-01\n",
      "INFO:gemseo.mda.mda:\t3\t8.780291e-02\n",
      "INFO:gemseo.mda.mda:\t4\t3.658159e-03\n",
      "INFO:gemseo.mda.mda:\t5\t1.708518e-06\n",
      "INFO:gemseo.mda.mda:\t6\t9.710242e-13\n",
      "INFO:gemseo.mda.mda:\t1\t1.627280e+00\n",
      "INFO:gemseo.mda.mda:\t2\t2.648823e-01\n",
      "INFO:gemseo.mda.mda:\t3\t5.090076e-02\n",
      "INFO:gemseo.mda.mda:\t4\t2.795894e-03\n",
      "INFO:gemseo.mda.mda:\t5\t2.997085e-06\n",
      "INFO:gemseo.mda.mda:\t6\t5.456543e-12\n",
      "INFO:gemseo.algos.driver_lib:DOE sampling:  45%|████▌     | 45/100 [00:02<00:01, 34.94 it/sec, obj=99.6]\n",
      "INFO:gemseo.mda.mda:\t1\t2.404467e+00\n",
      "INFO:gemseo.mda.mda:\t2\t3.318945e-01\n",
      "INFO:gemseo.mda.mda:\t3\t6.405475e-02\n",
      "INFO:gemseo.mda.mda:\t4\t3.228186e-03\n",
      "INFO:gemseo.mda.mda:\t5\t2.047052e-06\n",
      "INFO:gemseo.mda.mda:\t6\t2.306107e-12\n",
      "INFO:gemseo.mda.mda:\t1\t2.936424e+00\n",
      "INFO:gemseo.mda.mda:\t2\t3.728677e-01\n",
      "INFO:gemseo.mda.mda:\t3\t7.191097e-02\n",
      "INFO:gemseo.mda.mda:\t4\t3.413935e-03\n",
      "INFO:gemseo.mda.mda:\t5\t1.780947e-06\n",
      "INFO:gemseo.mda.mda:\t6\t1.560654e-12\n",
      "INFO:gemseo.algos.driver_lib:DOE sampling:  47%|████▋     | 47/100 [00:03<00:01, 33.15 it/sec, obj=87.5]\n",
      "INFO:gemseo.mda.mda:\t1\t3.302116e+00\n",
      "INFO:gemseo.mda.mda:\t2\t4.106114e-01\n",
      "INFO:gemseo.mda.mda:\t3\t7.787888e-02\n",
      "INFO:gemseo.mda.mda:\t4\t3.422948e-03\n",
      "INFO:gemseo.mda.mda:\t5\t2.334143e-06\n",
      "INFO:gemseo.mda.mda:\t6\t1.783000e-12\n",
      "INFO:gemseo.mda.mda:\t1\t1.713586e+00\n",
      "INFO:gemseo.mda.mda:\t2\t2.671048e-01\n",
      "INFO:gemseo.mda.mda:\t3\t5.209230e-02\n",
      "INFO:gemseo.mda.mda:\t4\t2.967465e-03\n",
      "INFO:gemseo.mda.mda:\t5\t1.860637e-06\n",
      "INFO:gemseo.mda.mda:\t6\t3.112841e-12\n",
      "INFO:gemseo.algos.driver_lib:DOE sampling:  49%|████▉     | 49/100 [00:03<00:01, 31.40 it/sec, obj=59.8]\n",
      "INFO:gemseo.mda.mda:\t1\t2.964150e+00\n",
      "INFO:gemseo.mda.mda:\t2\t3.600027e-01\n",
      "INFO:gemseo.mda.mda:\t3\t7.060771e-02\n",
      "INFO:gemseo.mda.mda:\t4\t3.593704e-03\n",
      "INFO:gemseo.mda.mda:\t5\t2.266767e-07\n",
      "INFO:gemseo.mda.mda:\t1\t6.256911e+00\n",
      "INFO:gemseo.mda.mda:\t2\t5.636890e-01\n",
      "INFO:gemseo.mda.mda:\t3\t1.091652e-01\n",
      "INFO:gemseo.mda.mda:\t4\t4.054196e-03\n",
      "INFO:gemseo.mda.mda:\t5\t8.201230e-07\n",
      "INFO:gemseo.algos.driver_lib:DOE sampling:  51%|█████     | 51/100 [00:03<00:01, 30.16 it/sec, obj=157]\n",
      "INFO:gemseo.mda.mda:\t1\t4.871286e-01\n",
      "INFO:gemseo.mda.mda:\t2\t1.188607e-01\n",
      "INFO:gemseo.mda.mda:\t3\t2.324523e-02\n",
      "INFO:gemseo.mda.mda:\t4\t1.609030e-03\n",
      "INFO:gemseo.mda.mda:\t5\t3.002905e-06\n",
      "INFO:gemseo.mda.mda:\t6\t1.751074e-11\n",
      "INFO:gemseo.mda.mda:\t1\t4.576922e-01\n",
      "INFO:gemseo.mda.mda:\t2\t1.141079e-01\n",
      "INFO:gemseo.mda.mda:\t3\t2.249836e-02\n",
      "INFO:gemseo.mda.mda:\t4\t1.771592e-03\n",
      "INFO:gemseo.mda.mda:\t5\t6.281260e-07\n",
      "INFO:gemseo.algos.driver_lib:DOE sampling:  53%|█████▎    | 53/100 [00:03<00:01, 28.93 it/sec, obj=79.7]\n",
      "INFO:gemseo.mda.mda:\t1\t5.435612e+00\n",
      "INFO:gemseo.mda.mda:\t2\t5.225153e-01\n",
      "INFO:gemseo.mda.mda:\t3\t1.011315e-01\n",
      "INFO:gemseo.mda.mda:\t4\t3.949100e-03\n",
      "INFO:gemseo.mda.mda:\t5\t9.467808e-07\n",
      "INFO:gemseo.mda.mda:\t1\t2.802603e+00\n",
      "INFO:gemseo.mda.mda:\t2\t3.468282e-01\n",
      "INFO:gemseo.mda.mda:\t3\t6.830691e-02\n",
      "INFO:gemseo.mda.mda:\t4\t3.555530e-03\n",
      "INFO:gemseo.mda.mda:\t5\t2.290952e-07\n",
      "INFO:gemseo.algos.driver_lib:DOE sampling:  55%|█████▌    | 55/100 [00:03<00:01, 27.92 it/sec, obj=159]\n",
      "INFO:gemseo.mda.mda:\t1\t6.182322e-01\n",
      "INFO:gemseo.mda.mda:\t2\t1.397333e-01\n",
      "INFO:gemseo.mda.mda:\t3\t2.661951e-02\n",
      "INFO:gemseo.mda.mda:\t4\t2.044943e-03\n",
      "INFO:gemseo.mda.mda:\t5\t7.712787e-07\n",
      "INFO:gemseo.mda.mda:\t1\t8.940921e-01\n",
      "INFO:gemseo.mda.mda:\t2\t1.841851e-01\n",
      "INFO:gemseo.mda.mda:\t3\t3.464852e-02\n",
      "INFO:gemseo.mda.mda:\t4\t1.919120e-03\n",
      "INFO:gemseo.mda.mda:\t5\t5.908156e-06\n",
      "INFO:gemseo.mda.mda:\t6\t2.181166e-11\n",
      "INFO:gemseo.algos.driver_lib:DOE sampling:  57%|█████▋    | 57/100 [00:03<00:01, 26.72 it/sec, obj=71.5]\n",
      "INFO:gemseo.mda.mda:\t1\t1.575748e+00\n",
      "INFO:gemseo.mda.mda:\t2\t2.493651e-01\n",
      "INFO:gemseo.mda.mda:\t3\t4.910761e-02\n",
      "INFO:gemseo.mda.mda:\t4\t2.983282e-03\n",
      "INFO:gemseo.mda.mda:\t5\t9.983816e-07\n",
      "INFO:gemseo.mda.mda:\t1\t6.021520e+00\n",
      "INFO:gemseo.mda.mda:\t2\t5.562444e-01\n",
      "INFO:gemseo.mda.mda:\t3\t1.072473e-01\n",
      "INFO:gemseo.mda.mda:\t4\t4.008556e-03\n",
      "INFO:gemseo.mda.mda:\t5\t9.564623e-07\n",
      "INFO:gemseo.algos.driver_lib:DOE sampling:  59%|█████▉    | 59/100 [00:03<00:01, 25.73 it/sec, obj=209]\n",
      "INFO:gemseo.mda.mda:\t1\t4.684535e+00\n",
      "INFO:gemseo.mda.mda:\t2\t4.737154e-01\n",
      "INFO:gemseo.mda.mda:\t3\t9.254244e-02\n",
      "INFO:gemseo.mda.mda:\t4\t3.878748e-03\n",
      "INFO:gemseo.mda.mda:\t5\t7.899212e-07\n",
      "INFO:gemseo.mda.mda:\t1\t5.785820e-01\n",
      "INFO:gemseo.mda.mda:\t2\t1.343178e-01\n",
      "INFO:gemseo.mda.mda:\t3\t2.580837e-02\n",
      "INFO:gemseo.mda.mda:\t4\t1.526641e-03\n",
      "INFO:gemseo.mda.mda:\t5\t5.338925e-06\n",
      "INFO:gemseo.mda.mda:\t6\t2.877957e-11\n",
      "INFO:gemseo.algos.driver_lib:DOE sampling:  61%|██████    | 61/100 [00:04<00:01, 24.85 it/sec, obj=23.7]\n",
      "INFO:gemseo.mda.mda:\t1\t2.626969e+00\n",
      "INFO:gemseo.mda.mda:\t2\t3.401275e-01\n",
      "INFO:gemseo.mda.mda:\t3\t6.663089e-02\n",
      "INFO:gemseo.mda.mda:\t4\t3.413804e-03\n",
      "INFO:gemseo.mda.mda:\t5\t1.103129e-06\n",
      "INFO:gemseo.mda.mda:\t6\t1.091168e-12\n",
      "INFO:gemseo.mda.mda:\t1\t3.396318e+00\n",
      "INFO:gemseo.mda.mda:\t2\t3.940867e-01\n",
      "INFO:gemseo.mda.mda:\t3\t7.716354e-02\n",
      "INFO:gemseo.mda.mda:\t4\t3.633787e-03\n",
      "INFO:gemseo.mda.mda:\t5\t9.278302e-07\n",
      "INFO:gemseo.algos.driver_lib:DOE sampling:  63%|██████▎   | 63/100 [00:04<00:01, 24.06 it/sec, obj=78.5]\n",
      "INFO:gemseo.mda.mda:\t1\t9.019852e-01\n",
      "INFO:gemseo.mda.mda:\t2\t1.777410e-01\n",
      "INFO:gemseo.mda.mda:\t3\t3.495882e-02\n",
      "INFO:gemseo.mda.mda:\t4\t2.386303e-03\n",
      "INFO:gemseo.mda.mda:\t5\t1.574301e-06\n",
      "INFO:gemseo.mda.mda:\t6\t5.180929e-12\n",
      "INFO:gemseo.mda.mda:\t1\t1.006116e+00\n",
      "INFO:gemseo.mda.mda:\t2\t2.019319e-01\n",
      "INFO:gemseo.mda.mda:\t3\t3.744349e-02\n",
      "INFO:gemseo.mda.mda:\t4\t1.946594e-03\n",
      "INFO:gemseo.mda.mda:\t5\t6.655391e-06\n",
      "INFO:gemseo.mda.mda:\t6\t2.225161e-11\n",
      "INFO:gemseo.algos.driver_lib:DOE sampling:  65%|██████▌   | 65/100 [00:04<00:01, 23.16 it/sec, obj=30.1]\n",
      "INFO:gemseo.mda.mda:\t1\t1.294715e+00\n",
      "INFO:gemseo.mda.mda:\t2\t2.267967e-01\n",
      "INFO:gemseo.mda.mda:\t3\t4.404222e-02\n",
      "INFO:gemseo.mda.mda:\t4\t2.634286e-03\n",
      "INFO:gemseo.mda.mda:\t5\t2.599366e-06\n",
      "INFO:gemseo.mda.mda:\t6\t6.048491e-12\n"
     ]
    },
    {
     "name": "stderr",
     "output_type": "stream",
     "text": [
      "INFO:gemseo.mda.mda:\t1\t5.174560e+00\n",
      "INFO:gemseo.mda.mda:\t2\t4.884947e-01\n",
      "INFO:gemseo.mda.mda:\t3\t9.690643e-02\n",
      "INFO:gemseo.mda.mda:\t4\t4.025889e-03\n",
      "INFO:gemseo.mda.mda:\t5\t1.609725e-07\n",
      "INFO:gemseo.algos.driver_lib:DOE sampling:  67%|██████▋   | 67/100 [00:04<00:01, 22.26 it/sec, obj=142]\n",
      "INFO:gemseo.mda.mda:\t1\t1.848685e+00\n",
      "INFO:gemseo.mda.mda:\t2\t2.729755e-01\n",
      "INFO:gemseo.mda.mda:\t3\t5.336177e-02\n",
      "INFO:gemseo.mda.mda:\t4\t3.187705e-03\n",
      "INFO:gemseo.mda.mda:\t5\t2.897213e-07\n",
      "INFO:gemseo.mda.mda:\t1\t1.578940e+00\n",
      "INFO:gemseo.mda.mda:\t2\t2.500564e-01\n",
      "INFO:gemseo.mda.mda:\t3\t4.921428e-02\n",
      "INFO:gemseo.mda.mda:\t4\t2.976197e-03\n",
      "INFO:gemseo.mda.mda:\t5\t1.086791e-06\n",
      "INFO:gemseo.mda.mda:\t6\t1.952531e-12\n",
      "INFO:gemseo.algos.driver_lib:DOE sampling:  69%|██████▉   | 69/100 [00:04<00:01, 21.51 it/sec, obj=91.2]\n",
      "INFO:gemseo.mda.mda:\t1\t2.053831e+00\n",
      "INFO:gemseo.mda.mda:\t2\t3.159633e-01\n",
      "INFO:gemseo.mda.mda:\t3\t5.930947e-02\n",
      "INFO:gemseo.mda.mda:\t4\t2.877289e-03\n",
      "INFO:gemseo.mda.mda:\t5\t3.937362e-06\n",
      "INFO:gemseo.mda.mda:\t6\t5.566104e-12\n",
      "INFO:gemseo.mda.mda:\t1\t1.028183e+00\n",
      "INFO:gemseo.mda.mda:\t2\t2.047902e-01\n",
      "INFO:gemseo.mda.mda:\t3\t3.800944e-02\n",
      "INFO:gemseo.mda.mda:\t4\t1.984286e-03\n",
      "INFO:gemseo.mda.mda:\t5\t6.517726e-06\n",
      "INFO:gemseo.mda.mda:\t6\t2.122959e-11\n",
      "INFO:gemseo.algos.driver_lib:DOE sampling:  71%|███████   | 71/100 [00:04<00:01, 20.82 it/sec, obj=38.6]\n",
      "INFO:gemseo.mda.mda:\t1\t3.849271e+00\n",
      "INFO:gemseo.mda.mda:\t2\t4.289439e-01\n",
      "INFO:gemseo.mda.mda:\t3\t8.331880e-02\n",
      "INFO:gemseo.mda.mda:\t4\t3.693539e-03\n",
      "INFO:gemseo.mda.mda:\t5\t1.148302e-06\n",
      "INFO:gemseo.mda.mda:\t6\t7.053381e-13\n",
      "INFO:gemseo.mda.mda:\t1\t3.408799e-01\n",
      "INFO:gemseo.mda.mda:\t2\t8.816699e-02\n",
      "INFO:gemseo.mda.mda:\t3\t1.794761e-02\n",
      "INFO:gemseo.mda.mda:\t4\t8.525330e-04\n",
      "INFO:gemseo.mda.mda:\t5\t5.262058e-06\n",
      "INFO:gemseo.mda.mda:\t6\t3.998752e-11\n",
      "INFO:gemseo.algos.driver_lib:DOE sampling:  73%|███████▎  | 73/100 [00:04<00:01, 20.11 it/sec, obj=20.9]\n",
      "INFO:gemseo.mda.mda:\t1\t2.934172e-01\n",
      "INFO:gemseo.mda.mda:\t2\t8.126870e-02\n",
      "INFO:gemseo.mda.mda:\t3\t1.608596e-02\n",
      "INFO:gemseo.mda.mda:\t4\t9.914824e-04\n",
      "INFO:gemseo.mda.mda:\t5\t3.564619e-06\n",
      "INFO:gemseo.mda.mda:\t6\t2.837187e-11\n",
      "INFO:gemseo.mda.mda:\t1\t4.635538e+00\n",
      "INFO:gemseo.mda.mda:\t2\t4.677668e-01\n",
      "INFO:gemseo.mda.mda:\t3\t9.175142e-02\n",
      "INFO:gemseo.mda.mda:\t4\t3.921241e-03\n",
      "INFO:gemseo.mda.mda:\t5\t2.191241e-07\n",
      "INFO:gemseo.algos.driver_lib:DOE sampling:  75%|███████▌  | 75/100 [00:05<00:01, 19.49 it/sec, obj=183]\n",
      "INFO:gemseo.mda.mda:\t1\t1.258123e+00\n",
      "INFO:gemseo.mda.mda:\t2\t2.236772e-01\n",
      "INFO:gemseo.mda.mda:\t3\t4.330773e-02\n",
      "INFO:gemseo.mda.mda:\t4\t2.576882e-03\n",
      "INFO:gemseo.mda.mda:\t5\t2.889605e-06\n",
      "INFO:gemseo.mda.mda:\t6\t6.981618e-12\n",
      "INFO:gemseo.mda.mda:\t1\t3.335827e+00\n",
      "INFO:gemseo.mda.mda:\t2\t3.820514e-01\n",
      "INFO:gemseo.mda.mda:\t3\t7.559337e-02\n",
      "INFO:gemseo.mda.mda:\t4\t3.694685e-03\n",
      "INFO:gemseo.mda.mda:\t5\t2.943562e-07\n",
      "INFO:gemseo.algos.driver_lib:DOE sampling:  77%|███████▋  | 77/100 [00:05<00:01, 18.94 it/sec, obj=172]\n",
      "INFO:gemseo.mda.mda:\t1\t3.610158e+00\n",
      "INFO:gemseo.mda.mda:\t2\t4.030995e-01\n",
      "INFO:gemseo.mda.mda:\t3\t7.921961e-02\n",
      "INFO:gemseo.mda.mda:\t4\t3.749107e-03\n",
      "INFO:gemseo.mda.mda:\t5\t2.042160e-07\n",
      "INFO:gemseo.mda.mda:\t1\t1.371923e+00\n",
      "INFO:gemseo.mda.mda:\t2\t2.478961e-01\n",
      "INFO:gemseo.mda.mda:\t3\t4.608886e-02\n",
      "INFO:gemseo.mda.mda:\t4\t2.356841e-03\n",
      "INFO:gemseo.mda.mda:\t5\t5.584772e-06\n",
      "INFO:gemseo.mda.mda:\t6\t1.303565e-11\n",
      "INFO:gemseo.algos.driver_lib:DOE sampling:  79%|███████▉  | 79/100 [00:05<00:01, 18.35 it/sec, obj=119]\n",
      "INFO:gemseo.mda.mda:\t1\t2.064985e+00\n",
      "INFO:gemseo.mda.mda:\t2\t2.943539e-01\n",
      "INFO:gemseo.mda.mda:\t3\t5.781369e-02\n",
      "INFO:gemseo.mda.mda:\t4\t3.212326e-03\n",
      "INFO:gemseo.mda.mda:\t5\t1.116715e-06\n",
      "INFO:gemseo.mda.mda:\t6\t1.474780e-12\n",
      "INFO:gemseo.mda.mda:\t1\t6.904307e-01\n",
      "INFO:gemseo.mda.mda:\t2\t1.525050e-01\n",
      "INFO:gemseo.mda.mda:\t3\t2.916835e-02\n",
      "INFO:gemseo.mda.mda:\t4\t1.738709e-03\n",
      "INFO:gemseo.mda.mda:\t5\t5.170870e-06\n",
      "INFO:gemseo.mda.mda:\t6\t2.387677e-11\n",
      "INFO:gemseo.algos.driver_lib:DOE sampling:  81%|████████  | 81/100 [00:05<00:01, 17.81 it/sec, obj=57]\n",
      "INFO:gemseo.mda.mda:\t1\t3.564705e+00\n",
      "INFO:gemseo.mda.mda:\t2\t4.195480e-01\n",
      "INFO:gemseo.mda.mda:\t3\t8.054707e-02\n",
      "INFO:gemseo.mda.mda:\t4\t3.563254e-03\n",
      "INFO:gemseo.mda.mda:\t5\t1.696943e-06\n",
      "INFO:gemseo.mda.mda:\t6\t1.162730e-12\n",
      "INFO:gemseo.mda.mda:\t1\t3.242433e-01\n",
      "INFO:gemseo.mda.mda:\t2\t8.968892e-02\n",
      "INFO:gemseo.mda.mda:\t3\t1.764709e-02\n",
      "INFO:gemseo.mda.mda:\t4\t1.309872e-03\n",
      "INFO:gemseo.mda.mda:\t5\t1.816687e-06\n",
      "INFO:gemseo.mda.mda:\t6\t1.343534e-11\n",
      "INFO:gemseo.algos.driver_lib:DOE sampling:  83%|████████▎ | 83/100 [00:05<00:00, 17.25 it/sec, obj=43.7]\n",
      "INFO:gemseo.mda.mda:\t1\t1.226348e+00\n",
      "INFO:gemseo.mda.mda:\t2\t2.154462e-01\n",
      "INFO:gemseo.mda.mda:\t3\t4.120024e-02\n",
      "INFO:gemseo.mda.mda:\t4\t2.770690e-03\n",
      "INFO:gemseo.mda.mda:\t5\t4.777260e-07\n",
      "INFO:gemseo.mda.mda:\t1\t8.636552e-01\n",
      "INFO:gemseo.mda.mda:\t2\t1.720781e-01\n",
      "INFO:gemseo.mda.mda:\t3\t3.388654e-02\n",
      "INFO:gemseo.mda.mda:\t4\t2.399747e-03\n",
      "INFO:gemseo.mda.mda:\t5\t9.534016e-07\n",
      "INFO:gemseo.algos.driver_lib:DOE sampling:  85%|████████▌ | 85/100 [00:05<00:00, 16.82 it/sec, obj=103]\n",
      "INFO:gemseo.mda.mda:\t1\t1.854443e+00\n",
      "INFO:gemseo.mda.mda:\t2\t2.762502e-01\n",
      "INFO:gemseo.mda.mda:\t3\t5.426648e-02\n",
      "INFO:gemseo.mda.mda:\t4\t3.111062e-03\n",
      "INFO:gemseo.mda.mda:\t5\t1.185353e-06\n",
      "INFO:gemseo.mda.mda:\t6\t1.778464e-12\n",
      "INFO:gemseo.mda.mda:\t1\t7.054819e-01\n",
      "INFO:gemseo.mda.mda:\t2\t1.523916e-01\n",
      "INFO:gemseo.mda.mda:\t3\t2.988674e-02\n",
      "INFO:gemseo.mda.mda:\t4\t2.071044e-03\n",
      "INFO:gemseo.mda.mda:\t5\t2.248394e-06\n",
      "INFO:gemseo.mda.mda:\t6\t9.490719e-12\n",
      "INFO:gemseo.algos.driver_lib:DOE sampling:  87%|████████▋ | 87/100 [00:06<00:00, 16.42 it/sec, obj=28]\n",
      "INFO:gemseo.mda.mda:\t1\t5.556771e+00\n",
      "INFO:gemseo.mda.mda:\t2\t5.254165e-01\n",
      "INFO:gemseo.mda.mda:\t3\t1.020806e-01\n",
      "INFO:gemseo.mda.mda:\t4\t3.981819e-03\n",
      "INFO:gemseo.mda.mda:\t5\t8.283725e-07\n",
      "INFO:gemseo.mda.mda:\t1\t1.213877e+00\n",
      "INFO:gemseo.mda.mda:\t2\t2.321599e-01\n",
      "INFO:gemseo.mda.mda:\t3\t4.248477e-02\n",
      "INFO:gemseo.mda.mda:\t4\t2.084779e-03\n",
      "INFO:gemseo.mda.mda:\t5\t6.977321e-06\n",
      "INFO:gemseo.mda.mda:\t6\t1.928895e-11\n",
      "INFO:gemseo.algos.driver_lib:DOE sampling:  89%|████████▉ | 89/100 [00:06<00:00, 15.98 it/sec, obj=43]\n",
      "INFO:gemseo.mda.mda:\t1\t5.726902e-02\n",
      "INFO:gemseo.mda.mda:\t2\t2.358759e-02\n",
      "INFO:gemseo.mda.mda:\t3\t5.017865e-03\n",
      "INFO:gemseo.mda.mda:\t4\t2.407978e-04\n",
      "INFO:gemseo.mda.mda:\t5\t2.217906e-07\n",
      "INFO:gemseo.mda.mda:\t1\t1.039425e+00\n",
      "INFO:gemseo.mda.mda:\t2\t1.926951e-01\n",
      "INFO:gemseo.mda.mda:\t3\t3.787474e-02\n",
      "INFO:gemseo.mda.mda:\t4\t2.616219e-03\n",
      "INFO:gemseo.mda.mda:\t5\t6.119252e-07\n",
      "INFO:gemseo.algos.driver_lib:DOE sampling:  91%|█████████ | 91/100 [00:06<00:00, 15.69 it/sec, obj=43.9]\n",
      "INFO:gemseo.mda.mda:\t1\t4.095291e+00\n",
      "INFO:gemseo.mda.mda:\t2\t4.287677e-01\n",
      "INFO:gemseo.mda.mda:\t3\t8.494299e-02\n",
      "INFO:gemseo.mda.mda:\t4\t3.852673e-03\n",
      "INFO:gemseo.mda.mda:\t5\t2.683209e-07\n",
      "INFO:gemseo.mda.mda:\t1\t5.550505e-01\n",
      "INFO:gemseo.mda.mda:\t2\t1.293252e-01\n",
      "INFO:gemseo.mda.mda:\t3\t2.494901e-02\n",
      "INFO:gemseo.mda.mda:\t4\t1.114339e-03\n",
      "INFO:gemseo.mda.mda:\t5\t7.499056e-06\n",
      "INFO:gemseo.mda.mda:\t6\t4.481790e-11\n",
      "INFO:gemseo.algos.driver_lib:DOE sampling:  93%|█████████▎| 93/100 [00:06<00:00, 15.38 it/sec, obj=24.2]\n",
      "INFO:gemseo.mda.mda:\t1\t4.700581e+00\n",
      "INFO:gemseo.mda.mda:\t2\t4.827882e-01\n",
      "INFO:gemseo.mda.mda:\t3\t9.339743e-02\n",
      "INFO:gemseo.mda.mda:\t4\t3.835112e-03\n",
      "INFO:gemseo.mda.mda:\t5\t1.092674e-06\n",
      "INFO:gemseo.mda.mda:\t6\t5.176646e-13\n",
      "INFO:gemseo.mda.mda:\t1\t1.945573e+00\n",
      "INFO:gemseo.mda.mda:\t2\t2.990433e-01\n",
      "INFO:gemseo.mda.mda:\t3\t5.696815e-02\n",
      "INFO:gemseo.mda.mda:\t4\t2.922400e-03\n",
      "INFO:gemseo.mda.mda:\t5\t3.195017e-06\n",
      "INFO:gemseo.mda.mda:\t6\t4.747274e-12\n",
      "INFO:gemseo.algos.driver_lib:DOE sampling:  95%|█████████▌| 95/100 [00:06<00:00, 15.04 it/sec, obj=132]\n",
      "INFO:gemseo.mda.mda:\t1\t2.708423e+00\n",
      "INFO:gemseo.mda.mda:\t2\t3.645736e-01\n",
      "INFO:gemseo.mda.mda:\t3\t6.934846e-02\n",
      "INFO:gemseo.mda.mda:\t4\t3.250007e-03\n",
      "INFO:gemseo.mda.mda:\t5\t2.590050e-06\n",
      "INFO:gemseo.mda.mda:\t6\t2.548409e-12\n",
      "INFO:gemseo.mda.mda:\t1\t2.683360e+00\n",
      "INFO:gemseo.mda.mda:\t2\t3.377383e-01\n",
      "INFO:gemseo.mda.mda:\t3\t6.662196e-02\n",
      "INFO:gemseo.mda.mda:\t4\t3.519768e-03\n",
      "INFO:gemseo.mda.mda:\t5\t2.629810e-07\n",
      "INFO:gemseo.algos.driver_lib:DOE sampling:  97%|█████████▋| 97/100 [00:06<00:00, 14.66 it/sec, obj=68.2]\n",
      "INFO:gemseo.mda.mda:\t1\t5.140699e+00\n",
      "INFO:gemseo.mda.mda:\t2\t5.249272e-01\n",
      "INFO:gemseo.mda.mda:\t3\t9.960763e-02\n",
      "INFO:gemseo.mda.mda:\t4\t3.814997e-03\n",
      "INFO:gemseo.mda.mda:\t5\t1.566742e-06\n",
      "INFO:gemseo.mda.mda:\t6\t6.658284e-13\n",
      "INFO:gemseo.mda.mda:\t1\t6.036291e-01\n",
      "INFO:gemseo.mda.mda:\t2\t1.369595e-01\n"
     ]
    },
    {
     "name": "stderr",
     "output_type": "stream",
     "text": [
      "INFO:gemseo.mda.mda:\t3\t2.666302e-02\n",
      "INFO:gemseo.mda.mda:\t4\t2.066306e-03\n",
      "INFO:gemseo.mda.mda:\t5\t4.547889e-07\n",
      "INFO:gemseo.algos.driver_lib:DOE sampling:  99%|█████████▉| 99/100 [00:06<00:00, 14.29 it/sec, obj=45.7]\n",
      "INFO:gemseo.mda.mda:\t1\t1.406017e+00\n",
      "INFO:gemseo.mda.mda:\t2\t2.555851e-01\n",
      "INFO:gemseo.mda.mda:\t3\t4.689056e-02\n",
      "INFO:gemseo.mda.mda:\t4\t2.287045e-03\n",
      "INFO:gemseo.mda.mda:\t5\t6.367944e-06\n",
      "INFO:gemseo.mda.mda:\t6\t1.473268e-11\n",
      "INFO:gemseo.algos.driver_lib:DOE sampling: 100%|██████████| 100/100 [00:07<00:00, 14.12 it/sec, obj=54.8]\n",
      "INFO:gemseo.algos.driver_lib:Optimization result:\n",
      "Objective value = 13.915272626028926\n",
      "The result is feasible.\n",
      "Status: None\n",
      "Optimizer message: None\n",
      "Number of calls to the objective function by the optimizer: 100\n",
      "INFO:gemseo.algos.driver_lib:Design space:\n",
      "+-------------------------+-------------+---------------------+-------------+-------+\n",
      "| name                    | lower_bound |        value        | upper_bound | type  |\n",
      "+-------------------------+-------------+---------------------+-------------+-------+\n",
      "| doe.SellarDoeScenario.x |      0      |  1.009834683383305  |      10     | float |\n",
      "| doe.SellarDoeScenario.z |     -10     | -0.6505756714525628 |      10     | float |\n",
      "| doe.SellarDoeScenario.z |      0      |  0.7692322615669314 |      10     | float |\n",
      "+-------------------------+-------------+---------------------+-------------+-------+\n",
      "INFO:gemseo.core.doe_scenario:*** DOE Scenario run terminated ***\n",
      "INFO:SoS.EE:PROCESS EXECUTION doe ENDS.\n"
     ]
    }
   ],
   "source": [
    "res = exec_eng.execute()\n",
    "# res is without interest (return not the expected values but probably default values ) !"
   ]
  },
  {
   "cell_type": "code",
   "execution_count": null,
   "id": "6001c775",
   "metadata": {},
   "outputs": [],
   "source": []
  },
  {
   "cell_type": "code",
   "execution_count": null,
   "id": "f95ebaae",
   "metadata": {},
   "outputs": [],
   "source": []
  },
  {
   "cell_type": "markdown",
   "id": "c213e4e8",
   "metadata": {},
   "source": [
    "Remark : all options that are None are no kept and so appear with a warning (this is the case of default None options thar are not setted with not None value)"
   ]
  },
  {
   "cell_type": "markdown",
   "id": "57979091",
   "metadata": {},
   "source": [
    "# 5 Display Doe  Scenario results"
   ]
  },
  {
   "cell_type": "code",
   "execution_count": 38,
   "id": "ac8a49ab",
   "metadata": {},
   "outputs": [],
   "source": [
    "# retrieve discipline to check the result...\n",
    "doe_disc = exec_eng.dm.get_disciplines_with_name(\"doe.\" + sc_name)[0]"
   ]
  },
  {
   "cell_type": "code",
   "execution_count": 39,
   "id": "a02fc43e",
   "metadata": {},
   "outputs": [
    {
     "data": {
      "text/plain": [
       "sos_trades_core.execution_engine.sos_doe_scenario.SoSDOEScenario"
      ]
     },
     "execution_count": 39,
     "metadata": {},
     "output_type": "execute_result"
    }
   ],
   "source": [
    "type(doe_disc)"
   ]
  },
  {
   "cell_type": "code",
   "execution_count": 40,
   "id": "555b30f7",
   "metadata": {},
   "outputs": [
    {
     "data": {
      "text/plain": [
       "'doe.SellarDoeScenario'"
      ]
     },
     "execution_count": 40,
     "metadata": {},
     "output_type": "execute_result"
    }
   ],
   "source": [
    "doe_disc.get_disc_full_name()"
   ]
  },
  {
   "cell_type": "code",
   "execution_count": 41,
   "id": "70be4822",
   "metadata": {},
   "outputs": [
    {
     "name": "stdout",
     "output_type": "stream",
     "text": [
      "Optimization problem:\n",
      "   Minimize: doe.SellarDoeScenario.obj(doe.SellarDoeScenario.x, doe.SellarDoeScenario.z)\n",
      "   With respect to: doe.SellarDoeScenario.x, doe.SellarDoeScenario.z\n"
     ]
    }
   ],
   "source": [
    "opt_P = doe_disc.opt_problem\n",
    "print(opt_P)"
   ]
  },
  {
   "cell_type": "code",
   "execution_count": 42,
   "id": "d1069a43",
   "metadata": {},
   "outputs": [
    {
     "data": {
      "text/html": [
       "<div>\n",
       "<style scoped>\n",
       "    .dataframe tbody tr th:only-of-type {\n",
       "        vertical-align: middle;\n",
       "    }\n",
       "\n",
       "    .dataframe tbody tr th {\n",
       "        vertical-align: top;\n",
       "    }\n",
       "\n",
       "    .dataframe thead th {\n",
       "        text-align: right;\n",
       "    }\n",
       "</style>\n",
       "<table border=\"1\" class=\"dataframe\">\n",
       "  <thead>\n",
       "    <tr style=\"text-align: right;\">\n",
       "      <th></th>\n",
       "      <th>0</th>\n",
       "    </tr>\n",
       "  </thead>\n",
       "  <tbody>\n",
       "    <tr>\n",
       "      <th>n_samples</th>\n",
       "      <td>100</td>\n",
       "    </tr>\n",
       "    <tr>\n",
       "      <th>algo</th>\n",
       "      <td>lhs</td>\n",
       "    </tr>\n",
       "    <tr>\n",
       "      <th>design_space</th>\n",
       "      <td>variable       value     lower_bnd     upper...</td>\n",
       "    </tr>\n",
       "    <tr>\n",
       "      <th>formulation</th>\n",
       "      <td>MDF</td>\n",
       "    </tr>\n",
       "    <tr>\n",
       "      <th>maximize_objective</th>\n",
       "      <td>False</td>\n",
       "    </tr>\n",
       "    <tr>\n",
       "      <th>objective_name</th>\n",
       "      <td>obj</td>\n",
       "    </tr>\n",
       "    <tr>\n",
       "      <th>differentiation_method</th>\n",
       "      <td>finite_differences</td>\n",
       "    </tr>\n",
       "    <tr>\n",
       "      <th>algo_options</th>\n",
       "      <td>{'iterations': 5, 'eval_jac': False, 'n_proces...</td>\n",
       "    </tr>\n",
       "    <tr>\n",
       "      <th>parallel_options</th>\n",
       "      <td>{'parallel': False, 'n_processes': 8, 'use_thr...</td>\n",
       "    </tr>\n",
       "    <tr>\n",
       "      <th>eval_mode</th>\n",
       "      <td>False</td>\n",
       "    </tr>\n",
       "    <tr>\n",
       "      <th>eval_jac</th>\n",
       "      <td>False</td>\n",
       "    </tr>\n",
       "    <tr>\n",
       "      <th>execute_at_xopt</th>\n",
       "      <td>True</td>\n",
       "    </tr>\n",
       "    <tr>\n",
       "      <th>linearization_mode</th>\n",
       "      <td>auto</td>\n",
       "    </tr>\n",
       "    <tr>\n",
       "      <th>cache_type</th>\n",
       "      <td>SimpleCache</td>\n",
       "    </tr>\n",
       "    <tr>\n",
       "      <th>cache_file_path</th>\n",
       "      <td>None</td>\n",
       "    </tr>\n",
       "    <tr>\n",
       "      <th>debug_mode</th>\n",
       "      <td></td>\n",
       "    </tr>\n",
       "  </tbody>\n",
       "</table>\n",
       "</div>"
      ],
      "text/plain": [
       "                                                                        0\n",
       "n_samples                                                             100\n",
       "algo                                                                  lhs\n",
       "design_space              variable       value     lower_bnd     upper...\n",
       "formulation                                                           MDF\n",
       "maximize_objective                                                  False\n",
       "objective_name                                                        obj\n",
       "differentiation_method                                 finite_differences\n",
       "algo_options            {'iterations': 5, 'eval_jac': False, 'n_proces...\n",
       "parallel_options        {'parallel': False, 'n_processes': 8, 'use_thr...\n",
       "eval_mode                                                           False\n",
       "eval_jac                                                            False\n",
       "execute_at_xopt                                                      True\n",
       "linearization_mode                                                   auto\n",
       "cache_type                                                    SimpleCache\n",
       "cache_file_path                                                      None\n",
       "debug_mode                                                               "
      ]
     },
     "execution_count": 42,
     "metadata": {},
     "output_type": "execute_result"
    }
   ],
   "source": [
    "doe_disc_input = doe_disc.get_sosdisc_inputs()\n",
    "pd.DataFrame.from_dict(doe_disc_input,orient='index')"
   ]
  },
  {
   "cell_type": "code",
   "execution_count": 43,
   "id": "0499ac00",
   "metadata": {},
   "outputs": [],
   "source": [
    "doe_disc_output = doe_disc.get_sosdisc_outputs()"
   ]
  },
  {
   "cell_type": "code",
   "execution_count": 44,
   "id": "bcb5d045",
   "metadata": {},
   "outputs": [],
   "source": [
    "# doe_disc_output"
   ]
  },
  {
   "cell_type": "markdown",
   "id": "0111d5a8",
   "metadata": {},
   "source": [
    "# 5.1 Table of computed points"
   ]
  },
  {
   "cell_type": "code",
   "execution_count": 45,
   "id": "c0fab98b",
   "metadata": {},
   "outputs": [
    {
     "data": {
      "text/html": [
       "<div>\n",
       "<style scoped>\n",
       "    .dataframe tbody tr th:only-of-type {\n",
       "        vertical-align: middle;\n",
       "    }\n",
       "\n",
       "    .dataframe tbody tr th {\n",
       "        vertical-align: top;\n",
       "    }\n",
       "\n",
       "    .dataframe thead tr th {\n",
       "        text-align: left;\n",
       "    }\n",
       "</style>\n",
       "<table border=\"1\" class=\"dataframe\">\n",
       "  <thead>\n",
       "    <tr>\n",
       "      <th></th>\n",
       "      <th colspan=\"3\" halign=\"left\">design_parameters</th>\n",
       "      <th>functions</th>\n",
       "    </tr>\n",
       "    <tr>\n",
       "      <th></th>\n",
       "      <th>doe.SellarDoeScenario.x</th>\n",
       "      <th colspan=\"2\" halign=\"left\">doe.SellarDoeScenario.z</th>\n",
       "      <th>doe.SellarDoeScenario.obj</th>\n",
       "    </tr>\n",
       "    <tr>\n",
       "      <th></th>\n",
       "      <th>0</th>\n",
       "      <th>0</th>\n",
       "      <th>1</th>\n",
       "      <th>0</th>\n",
       "    </tr>\n",
       "  </thead>\n",
       "  <tbody>\n",
       "    <tr>\n",
       "      <th>0</th>\n",
       "      <td>9.379764</td>\n",
       "      <td>1.515949</td>\n",
       "      <td>5.631736</td>\n",
       "      <td>118.714541</td>\n",
       "    </tr>\n",
       "    <tr>\n",
       "      <th>1</th>\n",
       "      <td>8.886448</td>\n",
       "      <td>-1.196271</td>\n",
       "      <td>6.523436</td>\n",
       "      <td>110.493389</td>\n",
       "    </tr>\n",
       "    <tr>\n",
       "      <th>2</th>\n",
       "      <td>3.713714</td>\n",
       "      <td>-1.994758</td>\n",
       "      <td>4.822571</td>\n",
       "      <td>39.894420</td>\n",
       "    </tr>\n",
       "    <tr>\n",
       "      <th>3</th>\n",
       "      <td>0.041702</td>\n",
       "      <td>1.749067</td>\n",
       "      <td>3.617234</td>\n",
       "      <td>18.808762</td>\n",
       "    </tr>\n",
       "    <tr>\n",
       "      <th>4</th>\n",
       "      <td>6.954955</td>\n",
       "      <td>-9.316161</td>\n",
       "      <td>9.918161</td>\n",
       "      <td>169.817929</td>\n",
       "    </tr>\n",
       "    <tr>\n",
       "      <th>...</th>\n",
       "      <td>...</td>\n",
       "      <td>...</td>\n",
       "      <td>...</td>\n",
       "      <td>...</td>\n",
       "    </tr>\n",
       "    <tr>\n",
       "      <th>95</th>\n",
       "      <td>6.661678</td>\n",
       "      <td>5.719822</td>\n",
       "      <td>7.645988</td>\n",
       "      <td>105.062729</td>\n",
       "    </tr>\n",
       "    <tr>\n",
       "      <th>96</th>\n",
       "      <td>2.358656</td>\n",
       "      <td>-6.389327</td>\n",
       "      <td>5.297002</td>\n",
       "      <td>68.185137</td>\n",
       "    </tr>\n",
       "    <tr>\n",
       "      <th>97</th>\n",
       "      <td>3.011475</td>\n",
       "      <td>8.776000</td>\n",
       "      <td>9.837792</td>\n",
       "      <td>113.215059</td>\n",
       "    </tr>\n",
       "    <tr>\n",
       "      <th>98</th>\n",
       "      <td>4.804455</td>\n",
       "      <td>-2.413481</td>\n",
       "      <td>1.131552</td>\n",
       "      <td>45.682186</td>\n",
       "    </tr>\n",
       "    <tr>\n",
       "      <th>99</th>\n",
       "      <td>4.001988</td>\n",
       "      <td>2.954436</td>\n",
       "      <td>9.746571</td>\n",
       "      <td>54.826284</td>\n",
       "    </tr>\n",
       "  </tbody>\n",
       "</table>\n",
       "<p>100 rows × 4 columns</p>\n",
       "</div>"
      ],
      "text/plain": [
       "         design_parameters                                    \\\n",
       "   doe.SellarDoeScenario.x doe.SellarDoeScenario.z             \n",
       "                         0                       0         1   \n",
       "0                 9.379764                1.515949  5.631736   \n",
       "1                 8.886448               -1.196271  6.523436   \n",
       "2                 3.713714               -1.994758  4.822571   \n",
       "3                 0.041702                1.749067  3.617234   \n",
       "4                 6.954955               -9.316161  9.918161   \n",
       "..                     ...                     ...       ...   \n",
       "95                6.661678                5.719822  7.645988   \n",
       "96                2.358656               -6.389327  5.297002   \n",
       "97                3.011475                8.776000  9.837792   \n",
       "98                4.804455               -2.413481  1.131552   \n",
       "99                4.001988                2.954436  9.746571   \n",
       "\n",
       "                   functions  \n",
       "   doe.SellarDoeScenario.obj  \n",
       "                           0  \n",
       "0                 118.714541  \n",
       "1                 110.493389  \n",
       "2                  39.894420  \n",
       "3                  18.808762  \n",
       "4                 169.817929  \n",
       "..                       ...  \n",
       "95                105.062729  \n",
       "96                 68.185137  \n",
       "97                113.215059  \n",
       "98                 45.682186  \n",
       "99                 54.826284  \n",
       "\n",
       "[100 rows x 4 columns]"
      ]
     },
     "execution_count": 45,
     "metadata": {},
     "output_type": "execute_result"
    }
   ],
   "source": [
    "doe_disc.get_data_io_dict('out')['doe_ds_io']['value']"
   ]
  },
  {
   "cell_type": "code",
   "execution_count": 46,
   "id": "5fbbab76",
   "metadata": {},
   "outputs": [],
   "source": [
    "XY_pd= doe_disc_output['doe_ds_io']"
   ]
  },
  {
   "cell_type": "code",
   "execution_count": 47,
   "id": "c052e07d",
   "metadata": {},
   "outputs": [
    {
     "data": {
      "text/html": [
       "<div>\n",
       "<style scoped>\n",
       "    .dataframe tbody tr th:only-of-type {\n",
       "        vertical-align: middle;\n",
       "    }\n",
       "\n",
       "    .dataframe tbody tr th {\n",
       "        vertical-align: top;\n",
       "    }\n",
       "\n",
       "    .dataframe thead tr th {\n",
       "        text-align: left;\n",
       "    }\n",
       "</style>\n",
       "<table border=\"1\" class=\"dataframe\">\n",
       "  <thead>\n",
       "    <tr>\n",
       "      <th></th>\n",
       "      <th>doe.SellarDoeScenario.x</th>\n",
       "      <th colspan=\"2\" halign=\"left\">doe.SellarDoeScenario.z</th>\n",
       "    </tr>\n",
       "    <tr>\n",
       "      <th></th>\n",
       "      <th>0</th>\n",
       "      <th>0</th>\n",
       "      <th>1</th>\n",
       "    </tr>\n",
       "  </thead>\n",
       "  <tbody>\n",
       "    <tr>\n",
       "      <th>0</th>\n",
       "      <td>9.379764</td>\n",
       "      <td>1.515949</td>\n",
       "      <td>5.631736</td>\n",
       "    </tr>\n",
       "    <tr>\n",
       "      <th>1</th>\n",
       "      <td>8.886448</td>\n",
       "      <td>-1.196271</td>\n",
       "      <td>6.523436</td>\n",
       "    </tr>\n",
       "    <tr>\n",
       "      <th>2</th>\n",
       "      <td>3.713714</td>\n",
       "      <td>-1.994758</td>\n",
       "      <td>4.822571</td>\n",
       "    </tr>\n",
       "    <tr>\n",
       "      <th>3</th>\n",
       "      <td>0.041702</td>\n",
       "      <td>1.749067</td>\n",
       "      <td>3.617234</td>\n",
       "    </tr>\n",
       "    <tr>\n",
       "      <th>4</th>\n",
       "      <td>6.954955</td>\n",
       "      <td>-9.316161</td>\n",
       "      <td>9.918161</td>\n",
       "    </tr>\n",
       "    <tr>\n",
       "      <th>...</th>\n",
       "      <td>...</td>\n",
       "      <td>...</td>\n",
       "      <td>...</td>\n",
       "    </tr>\n",
       "    <tr>\n",
       "      <th>95</th>\n",
       "      <td>6.661678</td>\n",
       "      <td>5.719822</td>\n",
       "      <td>7.645988</td>\n",
       "    </tr>\n",
       "    <tr>\n",
       "      <th>96</th>\n",
       "      <td>2.358656</td>\n",
       "      <td>-6.389327</td>\n",
       "      <td>5.297002</td>\n",
       "    </tr>\n",
       "    <tr>\n",
       "      <th>97</th>\n",
       "      <td>3.011475</td>\n",
       "      <td>8.776000</td>\n",
       "      <td>9.837792</td>\n",
       "    </tr>\n",
       "    <tr>\n",
       "      <th>98</th>\n",
       "      <td>4.804455</td>\n",
       "      <td>-2.413481</td>\n",
       "      <td>1.131552</td>\n",
       "    </tr>\n",
       "    <tr>\n",
       "      <th>99</th>\n",
       "      <td>4.001988</td>\n",
       "      <td>2.954436</td>\n",
       "      <td>9.746571</td>\n",
       "    </tr>\n",
       "  </tbody>\n",
       "</table>\n",
       "<p>100 rows × 3 columns</p>\n",
       "</div>"
      ],
      "text/plain": [
       "   doe.SellarDoeScenario.x doe.SellarDoeScenario.z          \n",
       "                         0                       0         1\n",
       "0                 9.379764                1.515949  5.631736\n",
       "1                 8.886448               -1.196271  6.523436\n",
       "2                 3.713714               -1.994758  4.822571\n",
       "3                 0.041702                1.749067  3.617234\n",
       "4                 6.954955               -9.316161  9.918161\n",
       "..                     ...                     ...       ...\n",
       "95                6.661678                5.719822  7.645988\n",
       "96                2.358656               -6.389327  5.297002\n",
       "97                3.011475                8.776000  9.837792\n",
       "98                4.804455               -2.413481  1.131552\n",
       "99                4.001988                2.954436  9.746571\n",
       "\n",
       "[100 rows x 3 columns]"
      ]
     },
     "execution_count": 47,
     "metadata": {},
     "output_type": "execute_result"
    }
   ],
   "source": [
    "X_pd = XY_pd['design_parameters']\n",
    "X_pd"
   ]
  },
  {
   "cell_type": "code",
   "execution_count": 48,
   "id": "963fd304",
   "metadata": {},
   "outputs": [],
   "source": [
    "X_pd.to_csv('X_pd.csv',index=False)"
   ]
  },
  {
   "cell_type": "code",
   "execution_count": 49,
   "id": "c52f26bb",
   "metadata": {
    "scrolled": true
   },
   "outputs": [
    {
     "data": {
      "text/html": [
       "<div>\n",
       "<style scoped>\n",
       "    .dataframe tbody tr th:only-of-type {\n",
       "        vertical-align: middle;\n",
       "    }\n",
       "\n",
       "    .dataframe tbody tr th {\n",
       "        vertical-align: top;\n",
       "    }\n",
       "\n",
       "    .dataframe thead tr th {\n",
       "        text-align: left;\n",
       "    }\n",
       "</style>\n",
       "<table border=\"1\" class=\"dataframe\">\n",
       "  <thead>\n",
       "    <tr>\n",
       "      <th></th>\n",
       "      <th>doe.SellarDoeScenario.obj</th>\n",
       "    </tr>\n",
       "    <tr>\n",
       "      <th></th>\n",
       "      <th>0</th>\n",
       "    </tr>\n",
       "  </thead>\n",
       "  <tbody>\n",
       "    <tr>\n",
       "      <th>0</th>\n",
       "      <td>118.714541</td>\n",
       "    </tr>\n",
       "    <tr>\n",
       "      <th>1</th>\n",
       "      <td>110.493389</td>\n",
       "    </tr>\n",
       "    <tr>\n",
       "      <th>2</th>\n",
       "      <td>39.894420</td>\n",
       "    </tr>\n",
       "    <tr>\n",
       "      <th>3</th>\n",
       "      <td>18.808762</td>\n",
       "    </tr>\n",
       "    <tr>\n",
       "      <th>4</th>\n",
       "      <td>169.817929</td>\n",
       "    </tr>\n",
       "    <tr>\n",
       "      <th>...</th>\n",
       "      <td>...</td>\n",
       "    </tr>\n",
       "    <tr>\n",
       "      <th>95</th>\n",
       "      <td>105.062729</td>\n",
       "    </tr>\n",
       "    <tr>\n",
       "      <th>96</th>\n",
       "      <td>68.185137</td>\n",
       "    </tr>\n",
       "    <tr>\n",
       "      <th>97</th>\n",
       "      <td>113.215059</td>\n",
       "    </tr>\n",
       "    <tr>\n",
       "      <th>98</th>\n",
       "      <td>45.682186</td>\n",
       "    </tr>\n",
       "    <tr>\n",
       "      <th>99</th>\n",
       "      <td>54.826284</td>\n",
       "    </tr>\n",
       "  </tbody>\n",
       "</table>\n",
       "<p>100 rows × 1 columns</p>\n",
       "</div>"
      ],
      "text/plain": [
       "   doe.SellarDoeScenario.obj\n",
       "                           0\n",
       "0                 118.714541\n",
       "1                 110.493389\n",
       "2                  39.894420\n",
       "3                  18.808762\n",
       "4                 169.817929\n",
       "..                       ...\n",
       "95                105.062729\n",
       "96                 68.185137\n",
       "97                113.215059\n",
       "98                 45.682186\n",
       "99                 54.826284\n",
       "\n",
       "[100 rows x 1 columns]"
      ]
     },
     "execution_count": 49,
     "metadata": {},
     "output_type": "execute_result"
    }
   ],
   "source": [
    "Y_pd = XY_pd['functions']\n",
    "Y_pd"
   ]
  },
  {
   "cell_type": "markdown",
   "id": "1f3547ec",
   "metadata": {},
   "source": [
    "# 5.2 Optimum"
   ]
  },
  {
   "cell_type": "code",
   "execution_count": 50,
   "id": "04726873",
   "metadata": {},
   "outputs": [
    {
     "data": {
      "text/plain": [
       "{'x_opt': array([ 1.00983468, -0.65057567,  0.76923226]),\n",
       " 'f_opt': 13.915272626028926}"
      ]
     },
     "execution_count": 50,
     "metadata": {},
     "output_type": "execute_result"
    }
   ],
   "source": [
    "my_optim_result = doe_disc_output['optim_result']\n",
    "my_optim_result"
   ]
  },
  {
   "cell_type": "code",
   "execution_count": 51,
   "id": "d0296d25",
   "metadata": {},
   "outputs": [
    {
     "data": {
      "text/plain": [
       "array([ 1.00983468, -0.65057567,  0.76923226])"
      ]
     },
     "execution_count": 51,
     "metadata": {},
     "output_type": "execute_result"
    }
   ],
   "source": [
    "my_optim_result['x_opt']"
   ]
  },
  {
   "cell_type": "code",
   "execution_count": 52,
   "id": "e4cdac6e",
   "metadata": {},
   "outputs": [
    {
     "data": {
      "text/plain": [
       "13.915272626028926"
      ]
     },
     "execution_count": 52,
     "metadata": {},
     "output_type": "execute_result"
    }
   ],
   "source": [
    "my_optim_result['f_opt']"
   ]
  },
  {
   "cell_type": "markdown",
   "id": "e67a1802",
   "metadata": {},
   "source": [
    "# 5.4 \"design_space_out\""
   ]
  },
  {
   "cell_type": "code",
   "execution_count": 53,
   "id": "728e89bf",
   "metadata": {},
   "outputs": [
    {
     "data": {
      "text/html": [
       "<div>\n",
       "<style scoped>\n",
       "    .dataframe tbody tr th:only-of-type {\n",
       "        vertical-align: middle;\n",
       "    }\n",
       "\n",
       "    .dataframe tbody tr th {\n",
       "        vertical-align: top;\n",
       "    }\n",
       "\n",
       "    .dataframe thead th {\n",
       "        text-align: right;\n",
       "    }\n",
       "</style>\n",
       "<table border=\"1\" class=\"dataframe\">\n",
       "  <thead>\n",
       "    <tr style=\"text-align: right;\">\n",
       "      <th></th>\n",
       "      <th>variable</th>\n",
       "      <th>value</th>\n",
       "      <th>lower_bnd</th>\n",
       "      <th>upper_bnd</th>\n",
       "      <th>enable_variable</th>\n",
       "      <th>activated_elem</th>\n",
       "    </tr>\n",
       "  </thead>\n",
       "  <tbody>\n",
       "    <tr>\n",
       "      <th>0</th>\n",
       "      <td>x</td>\n",
       "      <td>[1.0098346833833052]</td>\n",
       "      <td>[0.0]</td>\n",
       "      <td>[10.0]</td>\n",
       "      <td>True</td>\n",
       "      <td>[True]</td>\n",
       "    </tr>\n",
       "    <tr>\n",
       "      <th>1</th>\n",
       "      <td>z</td>\n",
       "      <td>[-0.6505756714525628, 0.7692322615669314]</td>\n",
       "      <td>[-10.0, 0.0]</td>\n",
       "      <td>[10.0, 10.0]</td>\n",
       "      <td>True</td>\n",
       "      <td>[True, True]</td>\n",
       "    </tr>\n",
       "    <tr>\n",
       "      <th>2</th>\n",
       "      <td>y_1</td>\n",
       "      <td>[1.0]</td>\n",
       "      <td>[-100.0]</td>\n",
       "      <td>[100.0]</td>\n",
       "      <td>True</td>\n",
       "      <td>[True]</td>\n",
       "    </tr>\n",
       "    <tr>\n",
       "      <th>3</th>\n",
       "      <td>y_2</td>\n",
       "      <td>[1.0]</td>\n",
       "      <td>[-100.0]</td>\n",
       "      <td>[100.0]</td>\n",
       "      <td>True</td>\n",
       "      <td>[True]</td>\n",
       "    </tr>\n",
       "  </tbody>\n",
       "</table>\n",
       "</div>"
      ],
      "text/plain": [
       "  variable                                      value     lower_bnd  \\\n",
       "0        x                       [1.0098346833833052]         [0.0]   \n",
       "1        z  [-0.6505756714525628, 0.7692322615669314]  [-10.0, 0.0]   \n",
       "2      y_1                                      [1.0]      [-100.0]   \n",
       "3      y_2                                      [1.0]      [-100.0]   \n",
       "\n",
       "      upper_bnd  enable_variable activated_elem  \n",
       "0        [10.0]             True         [True]  \n",
       "1  [10.0, 10.0]             True   [True, True]  \n",
       "2       [100.0]             True         [True]  \n",
       "3       [100.0]             True         [True]  "
      ]
     },
     "execution_count": 53,
     "metadata": {},
     "output_type": "execute_result"
    }
   ],
   "source": [
    "doe_disc_output['design_space_out']"
   ]
  },
  {
   "cell_type": "markdown",
   "id": "32e05500",
   "metadata": {},
   "source": [
    "# 5.5 From gemseo "
   ]
  },
  {
   "cell_type": "code",
   "execution_count": 54,
   "id": "716249e4",
   "metadata": {},
   "outputs": [
    {
     "name": "stdout",
     "output_type": "stream",
     "text": [
      "doe.SellarDoeScenario.obj(doe.SellarDoeScenario.x, doe.SellarDoeScenario.z)\n",
      "[]\n",
      "finite_differences\n",
      "1e-06\n"
     ]
    }
   ],
   "source": [
    "print(opt_P.objective)\n",
    "print(opt_P.constraints)\n",
    "print(opt_P.differentiation_method)\n",
    "print(opt_P.fd_step)"
   ]
  },
  {
   "cell_type": "code",
   "execution_count": 55,
   "id": "f8cae3a6",
   "metadata": {},
   "outputs": [],
   "source": [
    "dataset = opt_P.export_to_dataset(\"dataset_name\")"
   ]
  },
  {
   "cell_type": "code",
   "execution_count": 56,
   "id": "e27fa8ea",
   "metadata": {},
   "outputs": [
    {
     "data": {
      "text/html": [
       "<div>\n",
       "<style scoped>\n",
       "    .dataframe tbody tr th:only-of-type {\n",
       "        vertical-align: middle;\n",
       "    }\n",
       "\n",
       "    .dataframe tbody tr th {\n",
       "        vertical-align: top;\n",
       "    }\n",
       "\n",
       "    .dataframe thead tr th {\n",
       "        text-align: left;\n",
       "    }\n",
       "</style>\n",
       "<table border=\"1\" class=\"dataframe\">\n",
       "  <thead>\n",
       "    <tr>\n",
       "      <th></th>\n",
       "      <th colspan=\"3\" halign=\"left\">design_parameters</th>\n",
       "      <th>functions</th>\n",
       "    </tr>\n",
       "    <tr>\n",
       "      <th></th>\n",
       "      <th>doe.SellarDoeScenario.x</th>\n",
       "      <th colspan=\"2\" halign=\"left\">doe.SellarDoeScenario.z</th>\n",
       "      <th>doe.SellarDoeScenario.obj</th>\n",
       "    </tr>\n",
       "    <tr>\n",
       "      <th></th>\n",
       "      <th>0</th>\n",
       "      <th>0</th>\n",
       "      <th>1</th>\n",
       "      <th>0</th>\n",
       "    </tr>\n",
       "  </thead>\n",
       "  <tbody>\n",
       "    <tr>\n",
       "      <th>0</th>\n",
       "      <td>9.379764</td>\n",
       "      <td>1.515949</td>\n",
       "      <td>5.631736</td>\n",
       "      <td>118.714541</td>\n",
       "    </tr>\n",
       "    <tr>\n",
       "      <th>1</th>\n",
       "      <td>8.886448</td>\n",
       "      <td>-1.196271</td>\n",
       "      <td>6.523436</td>\n",
       "      <td>110.493389</td>\n",
       "    </tr>\n",
       "    <tr>\n",
       "      <th>2</th>\n",
       "      <td>3.713714</td>\n",
       "      <td>-1.994758</td>\n",
       "      <td>4.822571</td>\n",
       "      <td>39.894420</td>\n",
       "    </tr>\n",
       "    <tr>\n",
       "      <th>3</th>\n",
       "      <td>0.041702</td>\n",
       "      <td>1.749067</td>\n",
       "      <td>3.617234</td>\n",
       "      <td>18.808762</td>\n",
       "    </tr>\n",
       "    <tr>\n",
       "      <th>4</th>\n",
       "      <td>6.954955</td>\n",
       "      <td>-9.316161</td>\n",
       "      <td>9.918161</td>\n",
       "      <td>169.817929</td>\n",
       "    </tr>\n",
       "    <tr>\n",
       "      <th>...</th>\n",
       "      <td>...</td>\n",
       "      <td>...</td>\n",
       "      <td>...</td>\n",
       "      <td>...</td>\n",
       "    </tr>\n",
       "    <tr>\n",
       "      <th>95</th>\n",
       "      <td>6.661678</td>\n",
       "      <td>5.719822</td>\n",
       "      <td>7.645988</td>\n",
       "      <td>105.062729</td>\n",
       "    </tr>\n",
       "    <tr>\n",
       "      <th>96</th>\n",
       "      <td>2.358656</td>\n",
       "      <td>-6.389327</td>\n",
       "      <td>5.297002</td>\n",
       "      <td>68.185137</td>\n",
       "    </tr>\n",
       "    <tr>\n",
       "      <th>97</th>\n",
       "      <td>3.011475</td>\n",
       "      <td>8.776000</td>\n",
       "      <td>9.837792</td>\n",
       "      <td>113.215059</td>\n",
       "    </tr>\n",
       "    <tr>\n",
       "      <th>98</th>\n",
       "      <td>4.804455</td>\n",
       "      <td>-2.413481</td>\n",
       "      <td>1.131552</td>\n",
       "      <td>45.682186</td>\n",
       "    </tr>\n",
       "    <tr>\n",
       "      <th>99</th>\n",
       "      <td>4.001988</td>\n",
       "      <td>2.954436</td>\n",
       "      <td>9.746571</td>\n",
       "      <td>54.826284</td>\n",
       "    </tr>\n",
       "  </tbody>\n",
       "</table>\n",
       "<p>100 rows × 4 columns</p>\n",
       "</div>"
      ],
      "text/plain": [
       "         design_parameters                                    \\\n",
       "   doe.SellarDoeScenario.x doe.SellarDoeScenario.z             \n",
       "                         0                       0         1   \n",
       "0                 9.379764                1.515949  5.631736   \n",
       "1                 8.886448               -1.196271  6.523436   \n",
       "2                 3.713714               -1.994758  4.822571   \n",
       "3                 0.041702                1.749067  3.617234   \n",
       "4                 6.954955               -9.316161  9.918161   \n",
       "..                     ...                     ...       ...   \n",
       "95                6.661678                5.719822  7.645988   \n",
       "96                2.358656               -6.389327  5.297002   \n",
       "97                3.011475                8.776000  9.837792   \n",
       "98                4.804455               -2.413481  1.131552   \n",
       "99                4.001988                2.954436  9.746571   \n",
       "\n",
       "                   functions  \n",
       "   doe.SellarDoeScenario.obj  \n",
       "                           0  \n",
       "0                 118.714541  \n",
       "1                 110.493389  \n",
       "2                  39.894420  \n",
       "3                  18.808762  \n",
       "4                 169.817929  \n",
       "..                       ...  \n",
       "95                105.062729  \n",
       "96                 68.185137  \n",
       "97                113.215059  \n",
       "98                 45.682186  \n",
       "99                 54.826284  \n",
       "\n",
       "[100 rows x 4 columns]"
      ]
     },
     "execution_count": 56,
     "metadata": {},
     "output_type": "execute_result"
    }
   ],
   "source": [
    "XY_pd=dataset.export_to_dataframe()\n",
    "XY_pd"
   ]
  },
  {
   "cell_type": "code",
   "execution_count": 57,
   "id": "9b55a487",
   "metadata": {},
   "outputs": [
    {
     "data": {
      "text/html": [
       "<div>\n",
       "<style scoped>\n",
       "    .dataframe tbody tr th:only-of-type {\n",
       "        vertical-align: middle;\n",
       "    }\n",
       "\n",
       "    .dataframe tbody tr th {\n",
       "        vertical-align: top;\n",
       "    }\n",
       "\n",
       "    .dataframe thead tr th {\n",
       "        text-align: left;\n",
       "    }\n",
       "</style>\n",
       "<table border=\"1\" class=\"dataframe\">\n",
       "  <thead>\n",
       "    <tr>\n",
       "      <th></th>\n",
       "      <th>doe.SellarDoeScenario.x</th>\n",
       "      <th colspan=\"2\" halign=\"left\">doe.SellarDoeScenario.z</th>\n",
       "    </tr>\n",
       "    <tr>\n",
       "      <th></th>\n",
       "      <th>0</th>\n",
       "      <th>0</th>\n",
       "      <th>1</th>\n",
       "    </tr>\n",
       "  </thead>\n",
       "  <tbody>\n",
       "    <tr>\n",
       "      <th>0</th>\n",
       "      <td>9.379764</td>\n",
       "      <td>1.515949</td>\n",
       "      <td>5.631736</td>\n",
       "    </tr>\n",
       "    <tr>\n",
       "      <th>1</th>\n",
       "      <td>8.886448</td>\n",
       "      <td>-1.196271</td>\n",
       "      <td>6.523436</td>\n",
       "    </tr>\n",
       "    <tr>\n",
       "      <th>2</th>\n",
       "      <td>3.713714</td>\n",
       "      <td>-1.994758</td>\n",
       "      <td>4.822571</td>\n",
       "    </tr>\n",
       "    <tr>\n",
       "      <th>3</th>\n",
       "      <td>0.041702</td>\n",
       "      <td>1.749067</td>\n",
       "      <td>3.617234</td>\n",
       "    </tr>\n",
       "    <tr>\n",
       "      <th>4</th>\n",
       "      <td>6.954955</td>\n",
       "      <td>-9.316161</td>\n",
       "      <td>9.918161</td>\n",
       "    </tr>\n",
       "    <tr>\n",
       "      <th>...</th>\n",
       "      <td>...</td>\n",
       "      <td>...</td>\n",
       "      <td>...</td>\n",
       "    </tr>\n",
       "    <tr>\n",
       "      <th>95</th>\n",
       "      <td>6.661678</td>\n",
       "      <td>5.719822</td>\n",
       "      <td>7.645988</td>\n",
       "    </tr>\n",
       "    <tr>\n",
       "      <th>96</th>\n",
       "      <td>2.358656</td>\n",
       "      <td>-6.389327</td>\n",
       "      <td>5.297002</td>\n",
       "    </tr>\n",
       "    <tr>\n",
       "      <th>97</th>\n",
       "      <td>3.011475</td>\n",
       "      <td>8.776000</td>\n",
       "      <td>9.837792</td>\n",
       "    </tr>\n",
       "    <tr>\n",
       "      <th>98</th>\n",
       "      <td>4.804455</td>\n",
       "      <td>-2.413481</td>\n",
       "      <td>1.131552</td>\n",
       "    </tr>\n",
       "    <tr>\n",
       "      <th>99</th>\n",
       "      <td>4.001988</td>\n",
       "      <td>2.954436</td>\n",
       "      <td>9.746571</td>\n",
       "    </tr>\n",
       "  </tbody>\n",
       "</table>\n",
       "<p>100 rows × 3 columns</p>\n",
       "</div>"
      ],
      "text/plain": [
       "   doe.SellarDoeScenario.x doe.SellarDoeScenario.z          \n",
       "                         0                       0         1\n",
       "0                 9.379764                1.515949  5.631736\n",
       "1                 8.886448               -1.196271  6.523436\n",
       "2                 3.713714               -1.994758  4.822571\n",
       "3                 0.041702                1.749067  3.617234\n",
       "4                 6.954955               -9.316161  9.918161\n",
       "..                     ...                     ...       ...\n",
       "95                6.661678                5.719822  7.645988\n",
       "96                2.358656               -6.389327  5.297002\n",
       "97                3.011475                8.776000  9.837792\n",
       "98                4.804455               -2.413481  1.131552\n",
       "99                4.001988                2.954436  9.746571\n",
       "\n",
       "[100 rows x 3 columns]"
      ]
     },
     "execution_count": 57,
     "metadata": {},
     "output_type": "execute_result"
    }
   ],
   "source": [
    "X_pd = XY_pd['design_parameters']\n",
    "X_pd"
   ]
  },
  {
   "cell_type": "code",
   "execution_count": 58,
   "id": "d2a437a3",
   "metadata": {},
   "outputs": [
    {
     "data": {
      "text/html": [
       "<div>\n",
       "<style scoped>\n",
       "    .dataframe tbody tr th:only-of-type {\n",
       "        vertical-align: middle;\n",
       "    }\n",
       "\n",
       "    .dataframe tbody tr th {\n",
       "        vertical-align: top;\n",
       "    }\n",
       "\n",
       "    .dataframe thead tr th {\n",
       "        text-align: left;\n",
       "    }\n",
       "</style>\n",
       "<table border=\"1\" class=\"dataframe\">\n",
       "  <thead>\n",
       "    <tr>\n",
       "      <th></th>\n",
       "      <th>doe.SellarDoeScenario.obj</th>\n",
       "    </tr>\n",
       "    <tr>\n",
       "      <th></th>\n",
       "      <th>0</th>\n",
       "    </tr>\n",
       "  </thead>\n",
       "  <tbody>\n",
       "    <tr>\n",
       "      <th>0</th>\n",
       "      <td>118.714541</td>\n",
       "    </tr>\n",
       "    <tr>\n",
       "      <th>1</th>\n",
       "      <td>110.493389</td>\n",
       "    </tr>\n",
       "    <tr>\n",
       "      <th>2</th>\n",
       "      <td>39.894420</td>\n",
       "    </tr>\n",
       "    <tr>\n",
       "      <th>3</th>\n",
       "      <td>18.808762</td>\n",
       "    </tr>\n",
       "    <tr>\n",
       "      <th>4</th>\n",
       "      <td>169.817929</td>\n",
       "    </tr>\n",
       "    <tr>\n",
       "      <th>...</th>\n",
       "      <td>...</td>\n",
       "    </tr>\n",
       "    <tr>\n",
       "      <th>95</th>\n",
       "      <td>105.062729</td>\n",
       "    </tr>\n",
       "    <tr>\n",
       "      <th>96</th>\n",
       "      <td>68.185137</td>\n",
       "    </tr>\n",
       "    <tr>\n",
       "      <th>97</th>\n",
       "      <td>113.215059</td>\n",
       "    </tr>\n",
       "    <tr>\n",
       "      <th>98</th>\n",
       "      <td>45.682186</td>\n",
       "    </tr>\n",
       "    <tr>\n",
       "      <th>99</th>\n",
       "      <td>54.826284</td>\n",
       "    </tr>\n",
       "  </tbody>\n",
       "</table>\n",
       "<p>100 rows × 1 columns</p>\n",
       "</div>"
      ],
      "text/plain": [
       "   doe.SellarDoeScenario.obj\n",
       "                           0\n",
       "0                 118.714541\n",
       "1                 110.493389\n",
       "2                  39.894420\n",
       "3                  18.808762\n",
       "4                 169.817929\n",
       "..                       ...\n",
       "95                105.062729\n",
       "96                 68.185137\n",
       "97                113.215059\n",
       "98                 45.682186\n",
       "99                 54.826284\n",
       "\n",
       "[100 rows x 1 columns]"
      ]
     },
     "execution_count": 58,
     "metadata": {},
     "output_type": "execute_result"
    }
   ],
   "source": [
    "Y_pd = XY_pd['functions']\n",
    "Y_pd"
   ]
  },
  {
   "cell_type": "code",
   "execution_count": 59,
   "id": "6cf6b472",
   "metadata": {},
   "outputs": [
    {
     "data": {
      "text/plain": [
       "13.915272626028926"
      ]
     },
     "execution_count": 59,
     "metadata": {},
     "output_type": "execute_result"
    }
   ],
   "source": [
    "import numpy as np\n",
    "min(np.array(Y_pd['doe.SellarDoeScenario.obj']['0']))"
   ]
  },
  {
   "cell_type": "code",
   "execution_count": 60,
   "id": "fd2ae1c1",
   "metadata": {},
   "outputs": [
    {
     "data": {
      "text/plain": [
       "13.915272626028926"
      ]
     },
     "execution_count": 60,
     "metadata": {},
     "output_type": "execute_result"
    }
   ],
   "source": [
    "doe_disc.optimization_result.f_opt"
   ]
  },
  {
   "cell_type": "code",
   "execution_count": 61,
   "id": "1b62ce1d",
   "metadata": {},
   "outputs": [
    {
     "data": {
      "text/plain": [
       "array([ 1.00983468, -0.65057567,  0.76923226])"
      ]
     },
     "execution_count": 61,
     "metadata": {},
     "output_type": "execute_result"
    }
   ],
   "source": [
    "doe_disc.optimization_result.x_opt"
   ]
  },
  {
   "cell_type": "code",
   "execution_count": 62,
   "id": "f773f962",
   "metadata": {},
   "outputs": [
    {
     "name": "stderr",
     "output_type": "stream",
     "text": [
      "INFO:gemseo.core.scenario:* Scenario Executions statistics *\n",
      "INFO:gemseo.core.scenario:* Discipline: Sellar_Problem\n",
      "INFO:gemseo.core.scenario:Executions number: 100\n",
      "INFO:gemseo.core.scenario:Execution time:  0.021747300000006575 s\n",
      "INFO:gemseo.core.scenario:Linearizations number: 0\n",
      "INFO:gemseo.core.scenario:* Discipline: Sellar_2\n",
      "INFO:gemseo.core.scenario:Executions number: 558\n",
      "INFO:gemseo.core.scenario:Execution time:  0.0887464000000131 s\n",
      "INFO:gemseo.core.scenario:Linearizations number: 0\n",
      "INFO:gemseo.core.scenario:* Discipline: Sellar_1\n",
      "INFO:gemseo.core.scenario:Executions number: 558\n",
      "INFO:gemseo.core.scenario:Execution time:  0.1064440999999956 s\n",
      "INFO:gemseo.core.scenario:Linearizations number: 0\n",
      "INFO:gemseo.core.scenario:Total number of executions calls 1216\n",
      "INFO:gemseo.core.scenario:Total number of linearizations 0\n"
     ]
    }
   ],
   "source": [
    "doe_disc.print_execution_metrics()"
   ]
  },
  {
   "cell_type": "code",
   "execution_count": 63,
   "id": "a767671b",
   "metadata": {},
   "outputs": [
    {
     "data": {
      "text/plain": [
       "{'x_0': array([9.37976388, 1.51594904, 5.63173624]),\n",
       " 'optimizer_name': 'lhs',\n",
       " 'x_opt': array([ 1.00983468, -0.65057567,  0.76923226]),\n",
       " 'message': None,\n",
       " 'f_opt': 13.915272626028926,\n",
       " 'constraints_values': {},\n",
       " 'constraints_grad': {},\n",
       " 'status': None,\n",
       " 'n_obj_call': 100,\n",
       " 'n_grad_call': None,\n",
       " 'n_constr_call': None,\n",
       " 'is_feasible': True}"
      ]
     },
     "execution_count": 63,
     "metadata": {},
     "output_type": "execute_result"
    }
   ],
   "source": [
    "doe_disc.get_optimum().__dict__"
   ]
  },
  {
   "cell_type": "markdown",
   "id": "497bb13a",
   "metadata": {},
   "source": [
    "# 6 The full XY_pd table"
   ]
  },
  {
   "cell_type": "markdown",
   "id": "057fafab",
   "metadata": {},
   "source": [
    "need 'MemoryFullCache' : but error when using 'MemoryFullCache' in SoSTrades !"
   ]
  },
  {
   "cell_type": "markdown",
   "id": "52eb174f",
   "metadata": {},
   "source": [
    "It works in Test 53_MDA_num_param but with Disc1 inputs a,b are floats"
   ]
  },
  {
   "cell_type": "code",
   "execution_count": 64,
   "id": "a89794f7",
   "metadata": {},
   "outputs": [
    {
     "ename": "AttributeError",
     "evalue": "'SimpleCache' object has no attribute 'export_to_dataset'",
     "output_type": "error",
     "traceback": [
      "\u001b[1;31m---------------------------------------------------------------------------\u001b[0m",
      "\u001b[1;31mAttributeError\u001b[0m                            Traceback (most recent call last)",
      "\u001b[1;32mC:\\Temp/ipykernel_20832/3674847396.py\u001b[0m in \u001b[0;36m<module>\u001b[1;34m\u001b[0m\n\u001b[1;32m----> 1\u001b[1;33m \u001b[0mdataset\u001b[0m \u001b[1;33m=\u001b[0m \u001b[0msellar1\u001b[0m\u001b[1;33m.\u001b[0m\u001b[0mcache\u001b[0m\u001b[1;33m.\u001b[0m\u001b[0mexport_to_dataset\u001b[0m\u001b[1;33m(\u001b[0m\u001b[1;33m)\u001b[0m\u001b[1;33m\u001b[0m\u001b[1;33m\u001b[0m\u001b[0m\n\u001b[0m\u001b[0;32m      2\u001b[0m \u001b[0msellar1_XY_pd\u001b[0m\u001b[1;33m=\u001b[0m\u001b[0mdataset\u001b[0m\u001b[1;33m.\u001b[0m\u001b[0mexport_to_dataframe\u001b[0m\u001b[1;33m(\u001b[0m\u001b[1;33m)\u001b[0m\u001b[1;33m\u001b[0m\u001b[1;33m\u001b[0m\u001b[0m\n\u001b[0;32m      3\u001b[0m \u001b[0msellar1_XY_pd\u001b[0m\u001b[1;33m\u001b[0m\u001b[1;33m\u001b[0m\u001b[0m\n",
      "\u001b[1;31mAttributeError\u001b[0m: 'SimpleCache' object has no attribute 'export_to_dataset'"
     ]
    }
   ],
   "source": [
    "dataset = sellar1.cache.export_to_dataset()\n",
    "sellar1_XY_pd=dataset.export_to_dataframe()\n",
    "sellar1_XY_pd"
   ]
  },
  {
   "cell_type": "code",
   "execution_count": null,
   "id": "5815ab65",
   "metadata": {},
   "outputs": [],
   "source": [
    "dataset = sellar2.cache.export_to_dataset()\n",
    "sellar2_XY_pd=dataset.export_to_dataframe()\n",
    "sellar2_XY_pd"
   ]
  },
  {
   "cell_type": "code",
   "execution_count": null,
   "id": "299b0f47",
   "metadata": {},
   "outputs": [],
   "source": [
    "#dataset = sellarP.cache.export_to_dataset()\n",
    "#sellarP_XY_pd=dataset.export_to_dataframe()\n",
    "#sellarP_XY_pd"
   ]
  },
  {
   "cell_type": "code",
   "execution_count": null,
   "id": "602cdac5",
   "metadata": {},
   "outputs": [],
   "source": [
    "sellarDoEScenario = exec_eng.dm.get_disciplines_with_name(\"doe.\" + \"SellarDoeScenario\")[0]"
   ]
  },
  {
   "cell_type": "code",
   "execution_count": null,
   "id": "bf07d5d3",
   "metadata": {},
   "outputs": [],
   "source": [
    "type(sellarDoEScenario.cache)"
   ]
  },
  {
   "cell_type": "code",
   "execution_count": null,
   "id": "5f3bae42",
   "metadata": {},
   "outputs": [],
   "source": []
  },
  {
   "cell_type": "code",
   "execution_count": null,
   "id": "5afad1c5",
   "metadata": {},
   "outputs": [],
   "source": []
  },
  {
   "cell_type": "code",
   "execution_count": null,
   "id": "6e4411a4",
   "metadata": {},
   "outputs": [],
   "source": []
  },
  {
   "cell_type": "code",
   "execution_count": null,
   "id": "ad304ac2",
   "metadata": {},
   "outputs": [],
   "source": []
  },
  {
   "cell_type": "code",
   "execution_count": null,
   "id": "db312afc",
   "metadata": {},
   "outputs": [],
   "source": []
  },
  {
   "cell_type": "code",
   "execution_count": null,
   "id": "e6dedaf2",
   "metadata": {},
   "outputs": [],
   "source": []
  },
  {
   "cell_type": "code",
   "execution_count": null,
   "id": "1b90972e",
   "metadata": {},
   "outputs": [],
   "source": []
  },
  {
   "cell_type": "code",
   "execution_count": null,
   "id": "c66026c1",
   "metadata": {},
   "outputs": [],
   "source": []
  },
  {
   "cell_type": "code",
   "execution_count": null,
   "id": "cdbd0273",
   "metadata": {},
   "outputs": [],
   "source": []
  },
  {
   "cell_type": "code",
   "execution_count": null,
   "id": "91b1ac40",
   "metadata": {},
   "outputs": [],
   "source": []
  },
  {
   "cell_type": "code",
   "execution_count": null,
   "id": "2c389b99",
   "metadata": {},
   "outputs": [],
   "source": []
  },
  {
   "cell_type": "code",
   "execution_count": null,
   "id": "c55d9f7f",
   "metadata": {},
   "outputs": [],
   "source": []
  },
  {
   "cell_type": "code",
   "execution_count": null,
   "id": "df1612dc",
   "metadata": {},
   "outputs": [],
   "source": []
  }
 ],
 "metadata": {
  "kernelspec": {
   "display_name": "Python 3 (ipykernel)",
   "language": "python",
   "name": "python3"
  },
  "language_info": {
   "codemirror_mode": {
    "name": "ipython",
    "version": 3
   },
   "file_extension": ".py",
   "mimetype": "text/x-python",
   "name": "python",
   "nbconvert_exporter": "python",
   "pygments_lexer": "ipython3",
   "version": "3.9.7"
  }
 },
 "nbformat": 4,
 "nbformat_minor": 5
}
