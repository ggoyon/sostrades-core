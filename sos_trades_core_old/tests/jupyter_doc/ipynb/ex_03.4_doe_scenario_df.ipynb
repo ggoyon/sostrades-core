{
 "cells": [
  {
   "cell_type": "code",
   "execution_count": 1,
   "id": "e668b41a",
   "metadata": {},
   "outputs": [],
   "source": [
    "if 0 :\n",
    "    %matplotlib inline\n",
    "else :\n",
    "    %matplotlib notebook"
   ]
  },
  {
   "cell_type": "markdown",
   "id": "b3f4409c",
   "metadata": {},
   "source": [
    "#  Import  libraries"
   ]
  },
  {
   "cell_type": "code",
   "execution_count": 2,
   "id": "765fed52",
   "metadata": {},
   "outputs": [
    {
     "name": "stdout",
     "output_type": "stream",
     "text": [
      "C:\\Users\\ng947ac\\Documents\\Daniel\\jupyter\\SoSTrades\\jupyter_doc\\_scripts\n",
      "C:\\Users\\ng947ac\\Documents\\Daniel\\git\\workspace\n",
      "C:\\Users\\ng947ac\\Documents\\Daniel\\git\\workspace\\sosgemseo\\src\\\n",
      "C:\\Users\\ng947ac\\Documents\\Daniel\\git\\workspace\\sostrades-core\n"
     ]
    }
   ],
   "source": [
    "import sys\n",
    "import os\n",
    "module_path = os.path.abspath('.') +\"\\\\_scripts\"\n",
    "print(module_path)\n",
    "\n",
    "if module_path not in sys.path:\n",
    "    sys.path.append(module_path)\n",
    "from _00_Import_packages_git3 import *"
   ]
  },
  {
   "cell_type": "code",
   "execution_count": 3,
   "id": "f59f4096",
   "metadata": {},
   "outputs": [],
   "source": [
    "from numpy import array\n",
    "import pandas as pd\n",
    "from sos_trades_core.execution_engine.execution_engine import ExecutionEngine\n",
    "from numpy.testing import assert_array_equal, assert_array_almost_equal  # @UnresolvedImport\n",
    "import os\n",
    "from gemseo.core.mdo_scenario import MDOScenario"
   ]
  },
  {
   "cell_type": "markdown",
   "id": "dffc465e",
   "metadata": {},
   "source": [
    "# SoSDoeScenario setUp"
   ]
  },
  {
   "cell_type": "code",
   "execution_count": 4,
   "id": "7e31db5b",
   "metadata": {},
   "outputs": [
    {
     "name": "stdout",
     "output_type": "stream",
     "text": [
      "DiscAllTypesDoeScenario\n"
     ]
    }
   ],
   "source": [
    "study_name = 'doe'\n",
    "ns = f'{study_name}'\n",
    "sc_name = \"DiscAllTypesDoeScenario\"\n",
    "c_name = \"DiscAllTypesCoupling\"\n",
    "print(sc_name)"
   ]
  },
  {
   "cell_type": "markdown",
   "id": "1f185ea9",
   "metadata": {},
   "source": [
    "See §2 for Discipmline description"
   ]
  },
  {
   "cell_type": "code",
   "execution_count": 5,
   "id": "d7a05c91",
   "metadata": {},
   "outputs": [],
   "source": [
    "dspace_dict = {'variable': ['z', 'h'],\n",
    "               'value': [[1.], [5., 2.]],\n",
    "               'lower_bnd': [[0.], [-10., 0.]],\n",
    "               'upper_bnd': [[10.], [10., 10.]],\n",
    "               'enable_variable': [True, True],\n",
    "               'activated_elem': [[True], [True, True]]}"
   ]
  },
  {
   "cell_type": "code",
   "execution_count": 6,
   "id": "00d8c4cd",
   "metadata": {},
   "outputs": [
    {
     "data": {
      "text/html": [
       "<div>\n",
       "<style scoped>\n",
       "    .dataframe tbody tr th:only-of-type {\n",
       "        vertical-align: middle;\n",
       "    }\n",
       "\n",
       "    .dataframe tbody tr th {\n",
       "        vertical-align: top;\n",
       "    }\n",
       "\n",
       "    .dataframe thead th {\n",
       "        text-align: right;\n",
       "    }\n",
       "</style>\n",
       "<table border=\"1\" class=\"dataframe\">\n",
       "  <thead>\n",
       "    <tr style=\"text-align: right;\">\n",
       "      <th></th>\n",
       "      <th>variable</th>\n",
       "      <th>value</th>\n",
       "      <th>lower_bnd</th>\n",
       "      <th>upper_bnd</th>\n",
       "      <th>enable_variable</th>\n",
       "      <th>activated_elem</th>\n",
       "    </tr>\n",
       "  </thead>\n",
       "  <tbody>\n",
       "    <tr>\n",
       "      <th>0</th>\n",
       "      <td>z</td>\n",
       "      <td>[1.0]</td>\n",
       "      <td>[0.0]</td>\n",
       "      <td>[10.0]</td>\n",
       "      <td>True</td>\n",
       "      <td>[True]</td>\n",
       "    </tr>\n",
       "    <tr>\n",
       "      <th>1</th>\n",
       "      <td>h</td>\n",
       "      <td>[5.0, 2.0]</td>\n",
       "      <td>[-10.0, 0.0]</td>\n",
       "      <td>[10.0, 10.0]</td>\n",
       "      <td>True</td>\n",
       "      <td>[True, True]</td>\n",
       "    </tr>\n",
       "  </tbody>\n",
       "</table>\n",
       "</div>"
      ],
      "text/plain": [
       "  variable       value     lower_bnd     upper_bnd  enable_variable  \\\n",
       "0        z       [1.0]         [0.0]        [10.0]             True   \n",
       "1        h  [5.0, 2.0]  [-10.0, 0.0]  [10.0, 10.0]             True   \n",
       "\n",
       "  activated_elem  \n",
       "0         [True]  \n",
       "1   [True, True]  "
      ]
     },
     "execution_count": 6,
     "metadata": {},
     "output_type": "execute_result"
    }
   ],
   "source": [
    "dspace = pd.DataFrame(dspace_dict)\n",
    "dspace"
   ]
  },
  {
   "cell_type": "code",
   "execution_count": null,
   "id": "1bf0c5a8",
   "metadata": {},
   "outputs": [],
   "source": []
  },
  {
   "cell_type": "code",
   "execution_count": 7,
   "id": "3f57e831",
   "metadata": {},
   "outputs": [
    {
     "name": "stdout",
     "output_type": "stream",
     "text": [
      "C:\\Temp\n"
     ]
    }
   ],
   "source": [
    "from tempfile import gettempdir\n",
    "root_dir = gettempdir()\n",
    "print(root_dir)\n",
    "dspace.to_csv(root_dir+'\\\\ds.csv')"
   ]
  },
  {
   "cell_type": "code",
   "execution_count": 8,
   "id": "c2f7c314",
   "metadata": {},
   "outputs": [],
   "source": [
    "repo = 'sos_trades_core.sos_processes.test'\n",
    "proc_name = 'test_DiscAllTypes_doe'"
   ]
  },
  {
   "cell_type": "markdown",
   "id": "15c0d86b",
   "metadata": {},
   "source": [
    "# Doe scenario execution"
   ]
  },
  {
   "cell_type": "markdown",
   "id": "a3d62527",
   "metadata": {},
   "source": [
    "# 1 Set Doe optim scenario lhs or fullfact"
   ]
  },
  {
   "cell_type": "code",
   "execution_count": 9,
   "id": "bf8faab2",
   "metadata": {},
   "outputs": [],
   "source": [
    "#my_formulation = \"DisciplinaryOpt\"\n",
    "my_formulation = \"MDF\"\n",
    "#my_formulation = \"IDF\"\n",
    "#my_formulation =  \"BiLevel \""
   ]
  },
  {
   "cell_type": "code",
   "execution_count": 10,
   "id": "07993237",
   "metadata": {},
   "outputs": [
    {
     "data": {
      "text/plain": [
       "['CustomDOE',\n",
       " 'DiagonalDOE',\n",
       " 'OT_SOBOL',\n",
       " 'OT_RANDOM',\n",
       " 'OT_HASELGROVE',\n",
       " 'OT_REVERSE_HALTON',\n",
       " 'OT_HALTON',\n",
       " 'OT_FAURE',\n",
       " 'OT_MONTE_CARLO',\n",
       " 'OT_FACTORIAL',\n",
       " 'OT_COMPOSITE',\n",
       " 'OT_AXIAL',\n",
       " 'OT_OPT_LHS',\n",
       " 'OT_LHS',\n",
       " 'OT_LHSC',\n",
       " 'OT_FULLFACT',\n",
       " 'OT_SOBOL_INDICES',\n",
       " 'fullfact',\n",
       " 'ff2n',\n",
       " 'pbdesign',\n",
       " 'bbdesign',\n",
       " 'ccdesign',\n",
       " 'lhs']"
      ]
     },
     "execution_count": 10,
     "metadata": {},
     "output_type": "execute_result"
    }
   ],
   "source": [
    "from gemseo.api import (\n",
    "    configure_logger,\n",
    "    get_algorithm_options_schema,\n",
    "    get_available_doe_algorithms,\n",
    ")\n",
    "get_available_doe_algorithms()"
   ]
  },
  {
   "cell_type": "code",
   "execution_count": 11,
   "id": "4d3cc9a0",
   "metadata": {},
   "outputs": [],
   "source": [
    "my_doe_algo = \"lhs\"\n",
    "#my_doe_algo = \"fullfact\""
   ]
  },
  {
   "cell_type": "code",
   "execution_count": 12,
   "id": "bfad3df9",
   "metadata": {},
   "outputs": [
    {
     "name": "stdout",
     "output_type": "stream",
     "text": [
      "\n",
      " DiscAllTypes doe solution check with  MDF  formulation\n"
     ]
    }
   ],
   "source": [
    "print(\"\\n DiscAllTypes doe solution check with \",my_formulation ,\" formulation\")"
   ]
  },
  {
   "cell_type": "code",
   "execution_count": 13,
   "id": "5e8b2920",
   "metadata": {},
   "outputs": [
    {
     "name": "stderr",
     "output_type": "stream",
     "text": [
      "INFO:SoS.EE:configuring ...\n",
      "WARNING:gemseo.mda.mda_chain:No coupling in MDA, switching chain_linearize to True\n",
      "INFO:SoS.EE.Coupling:The MDA solver of the Coupling doe is set to MDAJacobi\n"
     ]
    }
   ],
   "source": [
    "exec_eng = ExecutionEngine(study_name)\n",
    "factory = exec_eng.factory\n",
    "builder = factory.get_builder_from_process(repo=repo,mod_id=proc_name)\n",
    "exec_eng.factory.set_builders_to_coupling_builder(builder)\n",
    "exec_eng.configure()"
   ]
  },
  {
   "cell_type": "code",
   "execution_count": 14,
   "id": "603209f3",
   "metadata": {},
   "outputs": [
    {
     "name": "stderr",
     "output_type": "stream",
     "text": [
      "INFO:SoS.EE:Nodes representation for Treeview doe\n",
      "|_ doe\n",
      "\t|_ DiscAllTypesDoeScenario\n",
      "\t\t|_ DiscAllTypes\n"
     ]
    },
    {
     "data": {
      "text/plain": [
       "'Nodes representation for Treeview doe\\n|_ doe\\n\\t|_ DiscAllTypesDoeScenario\\n\\t\\t|_ DiscAllTypes'"
      ]
     },
     "execution_count": 14,
     "metadata": {},
     "output_type": "execute_result"
    }
   ],
   "source": [
    "exec_eng.display_treeview_nodes()"
   ]
  },
  {
   "cell_type": "code",
   "execution_count": 15,
   "id": "d4cd4c8a",
   "metadata": {},
   "outputs": [
    {
     "data": {
      "text/plain": [
       "'MDAJacobi'"
      ]
     },
     "execution_count": 15,
     "metadata": {},
     "output_type": "execute_result"
    }
   ],
   "source": [
    "exec_eng.dm.get_data('doe.sub_mda_class')['value']"
   ]
  },
  {
   "cell_type": "markdown",
   "id": "2e0afe56",
   "metadata": {},
   "source": [
    "Possible algo options:"
   ]
  },
  {
   "cell_type": "code",
   "execution_count": 16,
   "id": "a5efd6cd",
   "metadata": {},
   "outputs": [
    {
     "name": "stdout",
     "output_type": "stream",
     "text": [
      "['criterion', 'iterations', 'n_samples', 'eval_jac', 'n_processes', 'wait_time_between_samples', 'seed', 'max_time']\n"
     ]
    }
   ],
   "source": [
    "from gemseo.algos.doe.doe_factory import DOEFactory\n",
    "driver_lib = DOEFactory().create(my_doe_algo)\n",
    "driver_lib.init_options_grammar(my_doe_algo)\n",
    "algo_options_keys = list(driver_lib.opt_grammar.properties_dict.keys())\n",
    "print(algo_options_keys)"
   ]
  },
  {
   "cell_type": "code",
   "execution_count": 17,
   "id": "658c1cf7",
   "metadata": {},
   "outputs": [
    {
     "data": {
      "text/plain": [
       "{'doe.DiscAllTypesDoeScenario.n_samples': 100,\n",
       " 'doe.DiscAllTypesDoeScenario.algo': 'lhs',\n",
       " 'doe.DiscAllTypesDoeScenario.design_space':   variable       value     lower_bnd     upper_bnd  enable_variable  \\\n",
       " 0        z       [1.0]         [0.0]        [10.0]             True   \n",
       " 1        h  [5.0, 2.0]  [-10.0, 0.0]  [10.0, 10.0]             True   \n",
       " \n",
       "   activated_elem  \n",
       " 0         [True]  \n",
       " 1   [True, True]  ,\n",
       " 'doe.DiscAllTypesDoeScenario.formulation': 'MDF',\n",
       " 'doe.DiscAllTypesDoeScenario.objective_name': 'o'}"
      ]
     },
     "execution_count": 17,
     "metadata": {},
     "output_type": "execute_result"
    }
   ],
   "source": [
    "#-- set up disciplines in Scenario\n",
    "disc_dict = {}\n",
    "# Doe inputs\n",
    "disc_dict[f'{ns}.DiscAllTypesDoeScenario.n_samples'] = 100\n",
    "# 'lhs', 'CustomDOE', 'fullfact', ...\n",
    "disc_dict[f'{ns}.DiscAllTypesDoeScenario.algo'] = 'lhs'\n",
    "disc_dict[f'{ns}.DiscAllTypesDoeScenario.design_space'] = dspace\n",
    "\n",
    "disc_dict[f'{ns}.DiscAllTypesDoeScenario.formulation'] = 'MDF'\n",
    "disc_dict[f'{ns}.DiscAllTypesDoeScenario.objective_name'] = 'o'\n",
    "#disc_dict[f'{ns}.DiscAllTypesDoeScenario.ineq_constraints'] = [f'c_1', f'c_2']\n",
    "#disc_dict[f'{ns}.DiscAllTypesDoeScenario.algo_options'] = {'levels': 'None'\n",
    "#                                                    }\n",
    "\n",
    "disc_dict"
   ]
  },
  {
   "cell_type": "markdown",
   "id": "38556f7c",
   "metadata": {},
   "source": [
    "Remark: in fact it is a <b> DoE optim </b> (with 'obj' variable taken as obj function) ! Here dspace variable was used."
   ]
  },
  {
   "cell_type": "code",
   "execution_count": 18,
   "id": "c782484c",
   "metadata": {},
   "outputs": [
    {
     "data": {
      "text/html": [
       "<div>\n",
       "<style scoped>\n",
       "    .dataframe tbody tr th:only-of-type {\n",
       "        vertical-align: middle;\n",
       "    }\n",
       "\n",
       "    .dataframe tbody tr th {\n",
       "        vertical-align: top;\n",
       "    }\n",
       "\n",
       "    .dataframe thead th {\n",
       "        text-align: right;\n",
       "    }\n",
       "</style>\n",
       "<table border=\"1\" class=\"dataframe\">\n",
       "  <thead>\n",
       "    <tr style=\"text-align: right;\">\n",
       "      <th></th>\n",
       "      <th>0</th>\n",
       "    </tr>\n",
       "  </thead>\n",
       "  <tbody>\n",
       "    <tr>\n",
       "      <th>doe.DiscAllTypesDoeScenario.n_samples</th>\n",
       "      <td>100</td>\n",
       "    </tr>\n",
       "    <tr>\n",
       "      <th>doe.DiscAllTypesDoeScenario.algo</th>\n",
       "      <td>lhs</td>\n",
       "    </tr>\n",
       "    <tr>\n",
       "      <th>doe.DiscAllTypesDoeScenario.design_space</th>\n",
       "      <td>variable       value     lower_bnd     upper...</td>\n",
       "    </tr>\n",
       "    <tr>\n",
       "      <th>doe.DiscAllTypesDoeScenario.formulation</th>\n",
       "      <td>MDF</td>\n",
       "    </tr>\n",
       "    <tr>\n",
       "      <th>doe.DiscAllTypesDoeScenario.objective_name</th>\n",
       "      <td>o</td>\n",
       "    </tr>\n",
       "  </tbody>\n",
       "</table>\n",
       "</div>"
      ],
      "text/plain": [
       "                                                                                            0\n",
       "doe.DiscAllTypesDoeScenario.n_samples                                                     100\n",
       "doe.DiscAllTypesDoeScenario.algo                                                          lhs\n",
       "doe.DiscAllTypesDoeScenario.design_space      variable       value     lower_bnd     upper...\n",
       "doe.DiscAllTypesDoeScenario.formulation                                                   MDF\n",
       "doe.DiscAllTypesDoeScenario.objective_name                                                  o"
      ]
     },
     "execution_count": 18,
     "metadata": {},
     "output_type": "execute_result"
    }
   ],
   "source": [
    "my_dict = exec_eng.get_anonimated_data_dict()\n",
    "pd.DataFrame.from_dict(disc_dict,orient='index')"
   ]
  },
  {
   "cell_type": "code",
   "execution_count": 19,
   "id": "20e79291",
   "metadata": {},
   "outputs": [
    {
     "name": "stderr",
     "output_type": "stream",
     "text": [
      "INFO:SoS.EE:configuring ...\n",
      "WARNING:gemseo.mda.mda_chain:No coupling in MDA, switching chain_linearize to True\n",
      "WARNING:SoS.EE.SoSDOEScenario:The differentiation method \"finite_differences\" will overload the linearization mode \"auto\" \n",
      "INFO:SoS.EE:configuring ...\n",
      "WARNING:gemseo.mda.mda_chain:No coupling in MDA, switching chain_linearize to True\n",
      "WARNING:SoS.EE.SoSDOEScenario:The differentiation method \"finite_differences\" will overload the linearization mode \"auto\" \n",
      "INFO:SoS.EE:configuring ...\n",
      "WARNING:gemseo.mda.mda_chain:No coupling in MDA, switching chain_linearize to True\n",
      "INFO:SoS.EE.Coupling:The MDA solver of the Coupling doe is set to MDAJacobi\n",
      "ERROR:SoS.EE.DataManager:Variable: doe.DiscAllTypesDoeScenario.DiscAllTypes.h value is not set!\n",
      "ERROR:SoS.EE.DataManager:Variable: doe.DiscAllTypesDoeScenario.DiscAllTypes.dict_in value is not set!\n",
      "ERROR:SoS.EE.DataManager:Variable: doe.DiscAllTypesDoeScenario.DiscAllTypes.df_in value is not set!\n",
      "ERROR:SoS.EE.DataManager:Variable: doe.DiscAllTypesDoeScenario.DiscAllTypes.dict_of_dict_in value is not set!\n",
      "ERROR:SoS.EE.DataManager:Variable: doe.DiscAllTypesDoeScenario.DiscAllTypes.dict_of_df_in value is not set!\n"
     ]
    }
   ],
   "source": [
    "#exec_eng.dm.set_values_from_dict(disc_dict)\n",
    "exec_eng.load_study_from_input_dict(disc_dict)"
   ]
  },
  {
   "cell_type": "markdown",
   "id": "3d091459",
   "metadata": {},
   "source": [
    "# 2 Display Disciplines I/O variables"
   ]
  },
  {
   "cell_type": "code",
   "execution_count": 20,
   "id": "8add250d",
   "metadata": {},
   "outputs": [],
   "source": [
    "disc = exec_eng.dm.get_disciplines_with_name(\"doe.\" + \"DiscAllTypesDoeScenario.DiscAllTypes\")[0]"
   ]
  },
  {
   "cell_type": "code",
   "execution_count": 21,
   "id": "0463f5e9",
   "metadata": {},
   "outputs": [
    {
     "data": {
      "text/plain": [
       "sos_trades_core.sos_wrapping.test_discs.disc_all_types.DiscAllTypes"
      ]
     },
     "execution_count": 21,
     "metadata": {},
     "output_type": "execute_result"
    }
   ],
   "source": [
    "type(disc)"
   ]
  },
  {
   "cell_type": "code",
   "execution_count": 22,
   "id": "173e9156",
   "metadata": {},
   "outputs": [],
   "source": [
    "DESC_IN = disc.DESC_IN\n",
    "DESC_OUT = disc.DESC_OUT\n",
    "DESC_IN_df = pd.DataFrame.from_dict(DESC_IN,orient='index')\n",
    "DESC_OUT_df = pd.DataFrame.from_dict(DESC_OUT,orient='index')"
   ]
  },
  {
   "cell_type": "code",
   "execution_count": 23,
   "id": "b503c7fa",
   "metadata": {},
   "outputs": [
    {
     "data": {
      "text/html": [
       "<div>\n",
       "<style scoped>\n",
       "    .dataframe tbody tr th:only-of-type {\n",
       "        vertical-align: middle;\n",
       "    }\n",
       "\n",
       "    .dataframe tbody tr th {\n",
       "        vertical-align: top;\n",
       "    }\n",
       "\n",
       "    .dataframe thead th {\n",
       "        text-align: right;\n",
       "    }\n",
       "</style>\n",
       "<table border=\"1\" class=\"dataframe\">\n",
       "  <thead>\n",
       "    <tr style=\"text-align: right;\">\n",
       "      <th></th>\n",
       "      <th>type</th>\n",
       "      <th>default</th>\n",
       "      <th>unit</th>\n",
       "      <th>user_level</th>\n",
       "      <th>visibility</th>\n",
       "      <th>namespace</th>\n",
       "    </tr>\n",
       "  </thead>\n",
       "  <tbody>\n",
       "    <tr>\n",
       "      <th>z</th>\n",
       "      <td>float</td>\n",
       "      <td>90.0</td>\n",
       "      <td>kg</td>\n",
       "      <td>1</td>\n",
       "      <td>Shared</td>\n",
       "      <td>ns_test</td>\n",
       "    </tr>\n",
       "    <tr>\n",
       "      <th>h</th>\n",
       "      <td>array</td>\n",
       "      <td>NaN</td>\n",
       "      <td>kg</td>\n",
       "      <td>1</td>\n",
       "      <td>NaN</td>\n",
       "      <td>NaN</td>\n",
       "    </tr>\n",
       "    <tr>\n",
       "      <th>dict_in</th>\n",
       "      <td>dict</td>\n",
       "      <td>NaN</td>\n",
       "      <td>kg</td>\n",
       "      <td>1</td>\n",
       "      <td>NaN</td>\n",
       "      <td>NaN</td>\n",
       "    </tr>\n",
       "    <tr>\n",
       "      <th>df_in</th>\n",
       "      <td>dataframe</td>\n",
       "      <td>NaN</td>\n",
       "      <td>kg</td>\n",
       "      <td>1</td>\n",
       "      <td>NaN</td>\n",
       "      <td>NaN</td>\n",
       "    </tr>\n",
       "    <tr>\n",
       "      <th>weather</th>\n",
       "      <td>string</td>\n",
       "      <td>cloudy, it is Toulouse ...</td>\n",
       "      <td>NaN</td>\n",
       "      <td>1</td>\n",
       "      <td>Shared</td>\n",
       "      <td>ns_test</td>\n",
       "    </tr>\n",
       "    <tr>\n",
       "      <th>dict_of_dict_in</th>\n",
       "      <td>dict</td>\n",
       "      <td>NaN</td>\n",
       "      <td>NaN</td>\n",
       "      <td>1</td>\n",
       "      <td>NaN</td>\n",
       "      <td>NaN</td>\n",
       "    </tr>\n",
       "    <tr>\n",
       "      <th>dict_of_df_in</th>\n",
       "      <td>dict</td>\n",
       "      <td>NaN</td>\n",
       "      <td>NaN</td>\n",
       "      <td>1</td>\n",
       "      <td>NaN</td>\n",
       "      <td>NaN</td>\n",
       "    </tr>\n",
       "  </tbody>\n",
       "</table>\n",
       "</div>"
      ],
      "text/plain": [
       "                      type                     default unit  user_level  \\\n",
       "z                    float                        90.0   kg           1   \n",
       "h                    array                         NaN   kg           1   \n",
       "dict_in               dict                         NaN   kg           1   \n",
       "df_in            dataframe                         NaN   kg           1   \n",
       "weather             string  cloudy, it is Toulouse ...  NaN           1   \n",
       "dict_of_dict_in       dict                         NaN  NaN           1   \n",
       "dict_of_df_in         dict                         NaN  NaN           1   \n",
       "\n",
       "                visibility namespace  \n",
       "z                   Shared   ns_test  \n",
       "h                      NaN       NaN  \n",
       "dict_in                NaN       NaN  \n",
       "df_in                  NaN       NaN  \n",
       "weather             Shared   ns_test  \n",
       "dict_of_dict_in        NaN       NaN  \n",
       "dict_of_df_in          NaN       NaN  "
      ]
     },
     "execution_count": 23,
     "metadata": {},
     "output_type": "execute_result"
    }
   ],
   "source": [
    "DESC_IN_df"
   ]
  },
  {
   "cell_type": "code",
   "execution_count": 24,
   "id": "4f63fa85",
   "metadata": {},
   "outputs": [
    {
     "data": {
      "text/html": [
       "<div>\n",
       "<style scoped>\n",
       "    .dataframe tbody tr th:only-of-type {\n",
       "        vertical-align: middle;\n",
       "    }\n",
       "\n",
       "    .dataframe tbody tr th {\n",
       "        vertical-align: top;\n",
       "    }\n",
       "\n",
       "    .dataframe thead th {\n",
       "        text-align: right;\n",
       "    }\n",
       "</style>\n",
       "<table border=\"1\" class=\"dataframe\">\n",
       "  <thead>\n",
       "    <tr style=\"text-align: right;\">\n",
       "      <th></th>\n",
       "      <th>type</th>\n",
       "      <th>unit</th>\n",
       "      <th>user_level</th>\n",
       "      <th>visibility</th>\n",
       "      <th>namespace</th>\n",
       "    </tr>\n",
       "  </thead>\n",
       "  <tbody>\n",
       "    <tr>\n",
       "      <th>df_out</th>\n",
       "      <td>dataframe</td>\n",
       "      <td>kg</td>\n",
       "      <td>1</td>\n",
       "      <td>Shared</td>\n",
       "      <td>ns_test</td>\n",
       "    </tr>\n",
       "    <tr>\n",
       "      <th>o</th>\n",
       "      <td>array</td>\n",
       "      <td>kg</td>\n",
       "      <td>1</td>\n",
       "      <td>Shared</td>\n",
       "      <td>ns_test</td>\n",
       "    </tr>\n",
       "    <tr>\n",
       "      <th>dict_out</th>\n",
       "      <td>dict</td>\n",
       "      <td>kg</td>\n",
       "      <td>1</td>\n",
       "      <td>Shared</td>\n",
       "      <td>ns_test</td>\n",
       "    </tr>\n",
       "  </tbody>\n",
       "</table>\n",
       "</div>"
      ],
      "text/plain": [
       "               type unit  user_level visibility namespace\n",
       "df_out    dataframe   kg           1     Shared   ns_test\n",
       "o             array   kg           1     Shared   ns_test\n",
       "dict_out       dict   kg           1     Shared   ns_test"
      ]
     },
     "execution_count": 24,
     "metadata": {},
     "output_type": "execute_result"
    }
   ],
   "source": [
    "DESC_OUT_df"
   ]
  },
  {
   "cell_type": "markdown",
   "id": "3d46d809",
   "metadata": {},
   "source": [
    "# 3 Provide Discipline inputs"
   ]
  },
  {
   "cell_type": "code",
   "execution_count": 25,
   "id": "908b963c",
   "metadata": {},
   "outputs": [
    {
     "data": {
      "text/plain": [
       "array([0., 0., 0., 0.])"
      ]
     },
     "execution_count": 25,
     "metadata": {},
     "output_type": "execute_result"
    }
   ],
   "source": [
    "h_data = array([0., 0., 0., 0.])\n",
    "h_data"
   ]
  },
  {
   "cell_type": "code",
   "execution_count": 26,
   "id": "a24a2109",
   "metadata": {},
   "outputs": [
    {
     "data": {
      "text/plain": [
       "{'key0': 0.0, 'key1': 0.0}"
      ]
     },
     "execution_count": 26,
     "metadata": {},
     "output_type": "execute_result"
    }
   ],
   "source": [
    "dict_in_data = {'key0': 0., 'key1': 0.}\n",
    "dict_in_data"
   ]
  },
  {
   "cell_type": "code",
   "execution_count": 27,
   "id": "6e6d5927",
   "metadata": {},
   "outputs": [
    {
     "data": {
      "text/html": [
       "<div>\n",
       "<style scoped>\n",
       "    .dataframe tbody tr th:only-of-type {\n",
       "        vertical-align: middle;\n",
       "    }\n",
       "\n",
       "    .dataframe tbody tr th {\n",
       "        vertical-align: top;\n",
       "    }\n",
       "\n",
       "    .dataframe thead th {\n",
       "        text-align: right;\n",
       "    }\n",
       "</style>\n",
       "<table border=\"1\" class=\"dataframe\">\n",
       "  <thead>\n",
       "    <tr style=\"text-align: right;\">\n",
       "      <th></th>\n",
       "      <th>variable</th>\n",
       "      <th>c2</th>\n",
       "      <th>c3</th>\n",
       "    </tr>\n",
       "  </thead>\n",
       "  <tbody>\n",
       "    <tr>\n",
       "      <th>0</th>\n",
       "      <td>0.0</td>\n",
       "      <td>1.0</td>\n",
       "      <td>2.0</td>\n",
       "    </tr>\n",
       "    <tr>\n",
       "      <th>1</th>\n",
       "      <td>0.1</td>\n",
       "      <td>1.1</td>\n",
       "      <td>2.1</td>\n",
       "    </tr>\n",
       "    <tr>\n",
       "      <th>2</th>\n",
       "      <td>0.2</td>\n",
       "      <td>1.2</td>\n",
       "      <td>2.2</td>\n",
       "    </tr>\n",
       "    <tr>\n",
       "      <th>3</th>\n",
       "      <td>-9.0</td>\n",
       "      <td>-8.7</td>\n",
       "      <td>1000.0</td>\n",
       "    </tr>\n",
       "  </tbody>\n",
       "</table>\n",
       "</div>"
      ],
      "text/plain": [
       "   variable   c2      c3\n",
       "0       0.0  1.0     2.0\n",
       "1       0.1  1.1     2.1\n",
       "2       0.2  1.2     2.2\n",
       "3      -9.0 -8.7  1000.0"
      ]
     },
     "execution_count": 27,
     "metadata": {},
     "output_type": "execute_result"
    }
   ],
   "source": [
    "df_in_data = pd.DataFrame(array([[0.0, 1.0, 2.0], [0.1, 1.1, 2.1],\n",
    "                             [0.2, 1.2, 2.2], [-9., -8.7, 1e3]]),\n",
    "                            columns=['variable', 'c2', 'c3'])\n",
    "df_in_data"
   ]
  },
  {
   "cell_type": "code",
   "execution_count": 28,
   "id": "ff378d8c",
   "metadata": {},
   "outputs": [],
   "source": [
    "weather_data = 'cloudy, it is Toulouse ...'"
   ]
  },
  {
   "cell_type": "code",
   "execution_count": 29,
   "id": "86a16232",
   "metadata": {},
   "outputs": [
    {
     "data": {
      "text/plain": [
       "{'key_A': {'subKey1': 0.1234, 'subKey2': 111.111, 'subKey3': 2036},\n",
       " 'key_B': {'subKey1': 1.2345, 'subKey2': 222.222, 'subKey3': 2036}}"
      ]
     },
     "execution_count": 29,
     "metadata": {},
     "output_type": "execute_result"
    }
   ],
   "source": [
    "dict_of_dict_in_data = {'key_A': {'subKey1': 0.1234, 'subKey2': 111.111, 'subKey3': 2036},\n",
    "                         'key_B': {'subKey1': 1.2345, 'subKey2': 222.222, 'subKey3': 2036}}\n",
    "dict_of_dict_in_data"
   ]
  },
  {
   "cell_type": "code",
   "execution_count": 30,
   "id": "0e4795b4",
   "metadata": {},
   "outputs": [
    {
     "data": {
      "text/html": [
       "<div>\n",
       "<style scoped>\n",
       "    .dataframe tbody tr th:only-of-type {\n",
       "        vertical-align: middle;\n",
       "    }\n",
       "\n",
       "    .dataframe tbody tr th {\n",
       "        vertical-align: top;\n",
       "    }\n",
       "\n",
       "    .dataframe thead th {\n",
       "        text-align: right;\n",
       "    }\n",
       "</style>\n",
       "<table border=\"1\" class=\"dataframe\">\n",
       "  <thead>\n",
       "    <tr style=\"text-align: right;\">\n",
       "      <th></th>\n",
       "      <th>key1</th>\n",
       "      <th>key2</th>\n",
       "      <th>key3</th>\n",
       "      <th>key4</th>\n",
       "    </tr>\n",
       "  </thead>\n",
       "  <tbody>\n",
       "    <tr>\n",
       "      <th>0</th>\n",
       "      <td>5.000000</td>\n",
       "      <td>-0.050000</td>\n",
       "      <td>500000.0</td>\n",
       "      <td>3125.0000</td>\n",
       "    </tr>\n",
       "    <tr>\n",
       "      <th>1</th>\n",
       "      <td>2.900000</td>\n",
       "      <td>1.000000</td>\n",
       "      <td>0.0</td>\n",
       "      <td>-209.1000</td>\n",
       "    </tr>\n",
       "    <tr>\n",
       "      <th>2</th>\n",
       "      <td>0.000007</td>\n",
       "      <td>666.666667</td>\n",
       "      <td>17.0</td>\n",
       "      <td>3.1416</td>\n",
       "    </tr>\n",
       "    <tr>\n",
       "      <th>3</th>\n",
       "      <td>-19.000000</td>\n",
       "      <td>-2.000000</td>\n",
       "      <td>-1000.0</td>\n",
       "      <td>6.6000</td>\n",
       "    </tr>\n",
       "  </tbody>\n",
       "</table>\n",
       "</div>"
      ],
      "text/plain": [
       "        key1        key2      key3       key4\n",
       "0   5.000000   -0.050000  500000.0  3125.0000\n",
       "1   2.900000    1.000000       0.0  -209.1000\n",
       "2   0.000007  666.666667      17.0     3.1416\n",
       "3 -19.000000   -2.000000   -1000.0     6.6000"
      ]
     },
     "execution_count": 30,
     "metadata": {},
     "output_type": "execute_result"
    }
   ],
   "source": [
    "a_df = pd.DataFrame(array([[5., -.05, 5.e5, 5.**5], [2.9, 1., 0., -209.1],\n",
    "                    [0.7e-5, 2e3 / 3, 17., 3.1416], [-19., -2., -1e3, 6.6]]),\n",
    "                     columns=['key1', 'key2', 'key3', 'key4'])\n",
    "a_df"
   ]
  },
  {
   "cell_type": "code",
   "execution_count": 31,
   "id": "d7da572f",
   "metadata": {},
   "outputs": [
    {
     "data": {
      "text/plain": [
       "{'key_C':         key1        key2      key3       key4\n",
       " 0   5.000000   -0.050000  500000.0  3125.0000\n",
       " 1   2.900000    1.000000       0.0  -209.1000\n",
       " 2   0.000007  666.666667      17.0     3.1416\n",
       " 3 -19.000000   -2.000000   -1000.0     6.6000,\n",
       " 'key_D':         key1        key2          key3         key4\n",
       " 0  15.708000    -0.15708  1.570800e+06  9817.500000\n",
       " 1   9.110640     3.14160  0.000000e+00  -656.908560\n",
       " 2   0.000022  2094.40000  5.340720e+01     9.869651\n",
       " 3 -59.690400    -6.28320 -3.141600e+03    20.734560}"
      ]
     },
     "execution_count": 31,
     "metadata": {},
     "output_type": "execute_result"
    }
   ],
   "source": [
    "dict_of_df_in_data = {'key_C': a_df,\n",
    "                      'key_D': a_df * 3.1416}\n",
    "dict_of_df_in_data "
   ]
  },
  {
   "cell_type": "code",
   "execution_count": 32,
   "id": "7f81a356",
   "metadata": {},
   "outputs": [
    {
     "data": {
      "text/html": [
       "<div>\n",
       "<style scoped>\n",
       "    .dataframe tbody tr th:only-of-type {\n",
       "        vertical-align: middle;\n",
       "    }\n",
       "\n",
       "    .dataframe tbody tr th {\n",
       "        vertical-align: top;\n",
       "    }\n",
       "\n",
       "    .dataframe thead th {\n",
       "        text-align: right;\n",
       "    }\n",
       "</style>\n",
       "<table border=\"1\" class=\"dataframe\">\n",
       "  <thead>\n",
       "    <tr style=\"text-align: right;\">\n",
       "      <th></th>\n",
       "      <th>key1</th>\n",
       "      <th>key2</th>\n",
       "      <th>key3</th>\n",
       "      <th>key4</th>\n",
       "    </tr>\n",
       "  </thead>\n",
       "  <tbody>\n",
       "    <tr>\n",
       "      <th>0</th>\n",
       "      <td>5.000000</td>\n",
       "      <td>-0.050000</td>\n",
       "      <td>500000.0</td>\n",
       "      <td>3125.0000</td>\n",
       "    </tr>\n",
       "    <tr>\n",
       "      <th>1</th>\n",
       "      <td>2.900000</td>\n",
       "      <td>1.000000</td>\n",
       "      <td>0.0</td>\n",
       "      <td>-209.1000</td>\n",
       "    </tr>\n",
       "    <tr>\n",
       "      <th>2</th>\n",
       "      <td>0.000007</td>\n",
       "      <td>666.666667</td>\n",
       "      <td>17.0</td>\n",
       "      <td>3.1416</td>\n",
       "    </tr>\n",
       "    <tr>\n",
       "      <th>3</th>\n",
       "      <td>-19.000000</td>\n",
       "      <td>-2.000000</td>\n",
       "      <td>-1000.0</td>\n",
       "      <td>6.6000</td>\n",
       "    </tr>\n",
       "  </tbody>\n",
       "</table>\n",
       "</div>"
      ],
      "text/plain": [
       "        key1        key2      key3       key4\n",
       "0   5.000000   -0.050000  500000.0  3125.0000\n",
       "1   2.900000    1.000000       0.0  -209.1000\n",
       "2   0.000007  666.666667      17.0     3.1416\n",
       "3 -19.000000   -2.000000   -1000.0     6.6000"
      ]
     },
     "execution_count": 32,
     "metadata": {},
     "output_type": "execute_result"
    }
   ],
   "source": [
    "dict_of_df_in_data['key_C']"
   ]
  },
  {
   "cell_type": "code",
   "execution_count": 33,
   "id": "470f93bf",
   "metadata": {},
   "outputs": [
    {
     "data": {
      "text/html": [
       "<div>\n",
       "<style scoped>\n",
       "    .dataframe tbody tr th:only-of-type {\n",
       "        vertical-align: middle;\n",
       "    }\n",
       "\n",
       "    .dataframe tbody tr th {\n",
       "        vertical-align: top;\n",
       "    }\n",
       "\n",
       "    .dataframe thead th {\n",
       "        text-align: right;\n",
       "    }\n",
       "</style>\n",
       "<table border=\"1\" class=\"dataframe\">\n",
       "  <thead>\n",
       "    <tr style=\"text-align: right;\">\n",
       "      <th></th>\n",
       "      <th>key1</th>\n",
       "      <th>key2</th>\n",
       "      <th>key3</th>\n",
       "      <th>key4</th>\n",
       "    </tr>\n",
       "  </thead>\n",
       "  <tbody>\n",
       "    <tr>\n",
       "      <th>0</th>\n",
       "      <td>15.708000</td>\n",
       "      <td>-0.15708</td>\n",
       "      <td>1.570800e+06</td>\n",
       "      <td>9817.500000</td>\n",
       "    </tr>\n",
       "    <tr>\n",
       "      <th>1</th>\n",
       "      <td>9.110640</td>\n",
       "      <td>3.14160</td>\n",
       "      <td>0.000000e+00</td>\n",
       "      <td>-656.908560</td>\n",
       "    </tr>\n",
       "    <tr>\n",
       "      <th>2</th>\n",
       "      <td>0.000022</td>\n",
       "      <td>2094.40000</td>\n",
       "      <td>5.340720e+01</td>\n",
       "      <td>9.869651</td>\n",
       "    </tr>\n",
       "    <tr>\n",
       "      <th>3</th>\n",
       "      <td>-59.690400</td>\n",
       "      <td>-6.28320</td>\n",
       "      <td>-3.141600e+03</td>\n",
       "      <td>20.734560</td>\n",
       "    </tr>\n",
       "  </tbody>\n",
       "</table>\n",
       "</div>"
      ],
      "text/plain": [
       "        key1        key2          key3         key4\n",
       "0  15.708000    -0.15708  1.570800e+06  9817.500000\n",
       "1   9.110640     3.14160  0.000000e+00  -656.908560\n",
       "2   0.000022  2094.40000  5.340720e+01     9.869651\n",
       "3 -59.690400    -6.28320 -3.141600e+03    20.734560"
      ]
     },
     "execution_count": 33,
     "metadata": {},
     "output_type": "execute_result"
    }
   ],
   "source": [
    "dict_of_df_in_data['key_D']"
   ]
  },
  {
   "cell_type": "code",
   "execution_count": 34,
   "id": "d3c4d21e",
   "metadata": {},
   "outputs": [
    {
     "data": {
      "text/html": [
       "<div>\n",
       "<style scoped>\n",
       "    .dataframe tbody tr th:only-of-type {\n",
       "        vertical-align: middle;\n",
       "    }\n",
       "\n",
       "    .dataframe tbody tr th {\n",
       "        vertical-align: top;\n",
       "    }\n",
       "\n",
       "    .dataframe thead th {\n",
       "        text-align: right;\n",
       "    }\n",
       "</style>\n",
       "<table border=\"1\" class=\"dataframe\">\n",
       "  <thead>\n",
       "    <tr style=\"text-align: right;\">\n",
       "      <th></th>\n",
       "      <th>0</th>\n",
       "    </tr>\n",
       "  </thead>\n",
       "  <tbody>\n",
       "    <tr>\n",
       "      <th>doe.DiscAllTypesDoeScenario.z</th>\n",
       "      <td>1.0</td>\n",
       "    </tr>\n",
       "    <tr>\n",
       "      <th>doe.DiscAllTypesDoeScenario.DiscAllTypes.h</th>\n",
       "      <td>[0.0, 0.0, 0.0, 0.0]</td>\n",
       "    </tr>\n",
       "    <tr>\n",
       "      <th>doe.DiscAllTypesDoeScenario.DiscAllTypes.dict_in</th>\n",
       "      <td>{'key0': 0.0, 'key1': 0.0}</td>\n",
       "    </tr>\n",
       "    <tr>\n",
       "      <th>doe.DiscAllTypesDoeScenario.DiscAllTypes.df_in</th>\n",
       "      <td>variable   c2      c3\n",
       "0       0.0  1.0     ...</td>\n",
       "    </tr>\n",
       "    <tr>\n",
       "      <th>doe.DiscAllTypesDoeScenario.weather</th>\n",
       "      <td>cloudy, it is Toulouse ...</td>\n",
       "    </tr>\n",
       "    <tr>\n",
       "      <th>doe.DiscAllTypesDoeScenario.DiscAllTypes.dict_of_dict_in</th>\n",
       "      <td>{'key_A': {'subKey1': 0.1234, 'subKey2': 111.1...</td>\n",
       "    </tr>\n",
       "    <tr>\n",
       "      <th>doe.DiscAllTypesDoeScenario.DiscAllTypes.dict_of_df_in</th>\n",
       "      <td>{'key_C': ['key1', 'key2', 'key3', 'key4'], 'k...</td>\n",
       "    </tr>\n",
       "  </tbody>\n",
       "</table>\n",
       "</div>"
      ],
      "text/plain": [
       "                                                                                                    0\n",
       "doe.DiscAllTypesDoeScenario.z                                                                     1.0\n",
       "doe.DiscAllTypesDoeScenario.DiscAllTypes.h                                       [0.0, 0.0, 0.0, 0.0]\n",
       "doe.DiscAllTypesDoeScenario.DiscAllTypes.dict_in                           {'key0': 0.0, 'key1': 0.0}\n",
       "doe.DiscAllTypesDoeScenario.DiscAllTypes.df_in         variable   c2      c3\n",
       "0       0.0  1.0     ...\n",
       "doe.DiscAllTypesDoeScenario.weather                                        cloudy, it is Toulouse ...\n",
       "doe.DiscAllTypesDoeScenario.DiscAllTypes.dict_o...  {'key_A': {'subKey1': 0.1234, 'subKey2': 111.1...\n",
       "doe.DiscAllTypesDoeScenario.DiscAllTypes.dict_o...  {'key_C': ['key1', 'key2', 'key3', 'key4'], 'k..."
      ]
     },
     "execution_count": 34,
     "metadata": {},
     "output_type": "execute_result"
    }
   ],
   "source": [
    "# DiscAllTypes inputs\n",
    "\n",
    "values_dict = {}\n",
    "values_dict[f'{ns}.{sc_name}.z'] = 1.  \n",
    "values_dict['doe.DiscAllTypesDoeScenario.DiscAllTypes.h'] = h_data\n",
    "values_dict['doe.DiscAllTypesDoeScenario.DiscAllTypes.dict_in'] = dict_in_data\n",
    "values_dict['doe.DiscAllTypesDoeScenario.DiscAllTypes.df_in'] = df_in_data\n",
    "values_dict[f'{ns}.{sc_name}.weather'] =  weather_data\n",
    "values_dict['doe.DiscAllTypesDoeScenario.DiscAllTypes.dict_of_dict_in'] = dict_of_dict_in_data\n",
    "values_dict['doe.DiscAllTypesDoeScenario.DiscAllTypes.dict_of_df_in'] = dict_of_df_in_data\n",
    "#values_dict['doe.DiscAllTypesDoeScenario.DiscAllTypes.cache_type'] = 'MemoryFullCache' #KO !! Problem with dict_in\n",
    "\n",
    "values_dict\n",
    "my_dict = exec_eng.get_anonimated_data_dict()\n",
    "pd.DataFrame.from_dict(values_dict,orient='index')"
   ]
  },
  {
   "cell_type": "code",
   "execution_count": 35,
   "id": "5cc45bae",
   "metadata": {},
   "outputs": [
    {
     "name": "stderr",
     "output_type": "stream",
     "text": [
      "INFO:SoS.EE:configuring ...\n",
      "WARNING:gemseo.mda.mda_chain:No coupling in MDA, switching chain_linearize to True\n",
      "WARNING:SoS.EE.SoSDOEScenario:The differentiation method \"finite_differences\" will overload the linearization mode \"auto\" \n",
      "INFO:SoS.EE:configuring ...\n",
      "WARNING:gemseo.mda.mda_chain:No coupling in MDA, switching chain_linearize to True\n",
      "INFO:SoS.EE.Coupling:The MDA solver of the Coupling doe is set to MDAJacobi\n",
      "INFO:SoS.EE:configuring ...\n",
      "WARNING:gemseo.mda.mda_chain:No coupling in MDA, switching chain_linearize to True\n",
      "INFO:SoS.EE.Coupling:The MDA solver of the Coupling doe is set to MDAJacobi\n"
     ]
    }
   ],
   "source": [
    "#exec_eng.dm.set_values_from_dict(values_dict)\n",
    "exec_eng.load_study_from_input_dict(values_dict)\n",
    "exec_eng.configure()"
   ]
  },
  {
   "cell_type": "markdown",
   "id": "a6bde00c",
   "metadata": {},
   "source": [
    "# 4 Run Doe scenario"
   ]
  },
  {
   "cell_type": "code",
   "execution_count": 36,
   "id": "d14d1e0f",
   "metadata": {
    "scrolled": true
   },
   "outputs": [
    {
     "name": "stderr",
     "output_type": "stream",
     "text": [
      "INFO:SoS.EE:PROCESS EXECUTION doe STARTS...\n",
      "INFO:gemseo.core.doe_scenario: \n",
      "INFO:gemseo.core.doe_scenario:*** Start DOE Scenario execution ***\n",
      "INFO:gemseo.core.doe_scenario:DiscAllTypesDoeScenario\n",
      "   Disciplines: DiscAllTypes\n",
      "   MDOFormulation: MDF\n",
      "   Algorithm: None\n",
      "INFO:SoS.EE.SoSDOEScenario:{'iterations': 5, 'eval_jac': False, 'n_processes': 1, 'wait_time_between_samples': 0.0, 'seed': 1, 'max_time': 0}\n",
      "INFO:gemseo.algos.doe.doe_lib:Optimization problem:\n",
      "   Minimize: doe.DiscAllTypesDoeScenario.o(doe.DiscAllTypesDoeScenario.z, doe.DiscAllTypesDoeScenario.DiscAllTypes.h)\n",
      "   With respect to: doe.DiscAllTypesDoeScenario.z, doe.DiscAllTypesDoeScenario.DiscAllTypes.h\n",
      "INFO:gemseo.algos.driver_lib:DOE sampling:   0%|          | 0/100 [00:00<?, ?it]\n",
      "INFO:gemseo.algos.driver_lib:DOE sampling:  87%|████████▋ | 87/100 [00:00<00:00, 875.09 it/sec, obj=0.18]\n",
      "INFO:gemseo.algos.driver_lib:DOE sampling: 100%|██████████| 100/100 [00:00<00:00, 718.78 it/sec, obj=1.27]\n",
      "INFO:gemseo.algos.driver_lib:Optimization result:\n",
      "Objective value = 0.013274191644466958\n",
      "The result is feasible.\n",
      "Status: None\n",
      "Optimizer message: None\n",
      "Number of calls to the objective function by the optimizer: 100\n",
      "INFO:gemseo.algos.driver_lib:Design space:\n",
      "+--------------------------------------------+-------------+--------------------+-------------+-------+\n",
      "| name                                       | lower_bound |       value        | upper_bound | type  |\n",
      "+--------------------------------------------+-------------+--------------------+-------------+-------+\n",
      "| doe.DiscAllTypesDoeScenario.z              |      0      | 0.0417022004702574 |      10     | float |\n",
      "| doe.DiscAllTypesDoeScenario.DiscAllTypes.h |     -10     |  1.7490668861813   |      10     | float |\n",
      "| doe.DiscAllTypesDoeScenario.DiscAllTypes.h |      0      | 3.617234050834533  |      10     | float |\n",
      "+--------------------------------------------+-------------+--------------------+-------------+-------+\n",
      "INFO:gemseo.core.doe_scenario:*** DOE Scenario run terminated ***\n",
      "INFO:SoS.EE:PROCESS EXECUTION doe ENDS.\n"
     ]
    },
    {
     "name": "stdout",
     "output_type": "stream",
     "text": [
      "my_options\n",
      "{'iterations': 5, 'eval_jac': False, 'n_processes': 1, 'wait_time_between_samples': 0.0, 'seed': 1, 'max_time': 0}\n"
     ]
    }
   ],
   "source": [
    "res = exec_eng.execute()\n",
    "# res is without interest (retourn not the expected values but probably default values ) !"
   ]
  },
  {
   "cell_type": "markdown",
   "id": "c213e4e8",
   "metadata": {},
   "source": [
    "Remark : all options that are None are no kept and so appear with a warning (this is the case of default None options thar are not setted with not None value)"
   ]
  },
  {
   "cell_type": "markdown",
   "id": "57979091",
   "metadata": {},
   "source": [
    "# 5 Display Doe  Scenario results"
   ]
  },
  {
   "cell_type": "code",
   "execution_count": 37,
   "id": "ac8a49ab",
   "metadata": {},
   "outputs": [],
   "source": [
    "# retrieve discipline to check the result...\n",
    "doe_disc = exec_eng.dm.get_disciplines_with_name(\"doe.\" + sc_name)[0]"
   ]
  },
  {
   "cell_type": "code",
   "execution_count": 38,
   "id": "a02fc43e",
   "metadata": {},
   "outputs": [
    {
     "data": {
      "text/plain": [
       "sos_trades_core.execution_engine.sos_doe_scenario.SoSDOEScenario"
      ]
     },
     "execution_count": 38,
     "metadata": {},
     "output_type": "execute_result"
    }
   ],
   "source": [
    "type(doe_disc)"
   ]
  },
  {
   "cell_type": "code",
   "execution_count": 39,
   "id": "555b30f7",
   "metadata": {},
   "outputs": [
    {
     "data": {
      "text/plain": [
       "'doe.DiscAllTypesDoeScenario'"
      ]
     },
     "execution_count": 39,
     "metadata": {},
     "output_type": "execute_result"
    }
   ],
   "source": [
    "doe_disc.get_disc_full_name()"
   ]
  },
  {
   "cell_type": "code",
   "execution_count": 40,
   "id": "70be4822",
   "metadata": {},
   "outputs": [
    {
     "name": "stdout",
     "output_type": "stream",
     "text": [
      "Optimization problem:\n",
      "   Minimize: doe.DiscAllTypesDoeScenario.o(doe.DiscAllTypesDoeScenario.z, doe.DiscAllTypesDoeScenario.DiscAllTypes.h)\n",
      "   With respect to: doe.DiscAllTypesDoeScenario.z, doe.DiscAllTypesDoeScenario.DiscAllTypes.h\n"
     ]
    }
   ],
   "source": [
    "opt_P = doe_disc.opt_problem\n",
    "print(opt_P)"
   ]
  },
  {
   "cell_type": "code",
   "execution_count": 41,
   "id": "d1069a43",
   "metadata": {},
   "outputs": [
    {
     "data": {
      "text/html": [
       "<div>\n",
       "<style scoped>\n",
       "    .dataframe tbody tr th:only-of-type {\n",
       "        vertical-align: middle;\n",
       "    }\n",
       "\n",
       "    .dataframe tbody tr th {\n",
       "        vertical-align: top;\n",
       "    }\n",
       "\n",
       "    .dataframe thead th {\n",
       "        text-align: right;\n",
       "    }\n",
       "</style>\n",
       "<table border=\"1\" class=\"dataframe\">\n",
       "  <thead>\n",
       "    <tr style=\"text-align: right;\">\n",
       "      <th></th>\n",
       "      <th>0</th>\n",
       "    </tr>\n",
       "  </thead>\n",
       "  <tbody>\n",
       "    <tr>\n",
       "      <th>n_samples</th>\n",
       "      <td>100</td>\n",
       "    </tr>\n",
       "    <tr>\n",
       "      <th>algo</th>\n",
       "      <td>lhs</td>\n",
       "    </tr>\n",
       "    <tr>\n",
       "      <th>design_space</th>\n",
       "      <td>variable       value     lower_bnd     upper...</td>\n",
       "    </tr>\n",
       "    <tr>\n",
       "      <th>formulation</th>\n",
       "      <td>MDF</td>\n",
       "    </tr>\n",
       "    <tr>\n",
       "      <th>maximize_objective</th>\n",
       "      <td>False</td>\n",
       "    </tr>\n",
       "    <tr>\n",
       "      <th>objective_name</th>\n",
       "      <td>o</td>\n",
       "    </tr>\n",
       "    <tr>\n",
       "      <th>differentiation_method</th>\n",
       "      <td>finite_differences</td>\n",
       "    </tr>\n",
       "    <tr>\n",
       "      <th>algo_options</th>\n",
       "      <td>{'iterations': 5, 'eval_jac': False, 'n_proces...</td>\n",
       "    </tr>\n",
       "    <tr>\n",
       "      <th>parallel_options</th>\n",
       "      <td>{'parallel': False, 'n_processes': 8, 'use_thr...</td>\n",
       "    </tr>\n",
       "    <tr>\n",
       "      <th>eval_mode</th>\n",
       "      <td>False</td>\n",
       "    </tr>\n",
       "    <tr>\n",
       "      <th>eval_jac</th>\n",
       "      <td>False</td>\n",
       "    </tr>\n",
       "    <tr>\n",
       "      <th>execute_at_xopt</th>\n",
       "      <td>True</td>\n",
       "    </tr>\n",
       "    <tr>\n",
       "      <th>linearization_mode</th>\n",
       "      <td>auto</td>\n",
       "    </tr>\n",
       "    <tr>\n",
       "      <th>cache_type</th>\n",
       "      <td>SimpleCache</td>\n",
       "    </tr>\n",
       "    <tr>\n",
       "      <th>cache_file_path</th>\n",
       "      <td>None</td>\n",
       "    </tr>\n",
       "    <tr>\n",
       "      <th>debug_mode</th>\n",
       "      <td></td>\n",
       "    </tr>\n",
       "  </tbody>\n",
       "</table>\n",
       "</div>"
      ],
      "text/plain": [
       "                                                                        0\n",
       "n_samples                                                             100\n",
       "algo                                                                  lhs\n",
       "design_space              variable       value     lower_bnd     upper...\n",
       "formulation                                                           MDF\n",
       "maximize_objective                                                  False\n",
       "objective_name                                                          o\n",
       "differentiation_method                                 finite_differences\n",
       "algo_options            {'iterations': 5, 'eval_jac': False, 'n_proces...\n",
       "parallel_options        {'parallel': False, 'n_processes': 8, 'use_thr...\n",
       "eval_mode                                                           False\n",
       "eval_jac                                                            False\n",
       "execute_at_xopt                                                      True\n",
       "linearization_mode                                                   auto\n",
       "cache_type                                                    SimpleCache\n",
       "cache_file_path                                                      None\n",
       "debug_mode                                                               "
      ]
     },
     "execution_count": 41,
     "metadata": {},
     "output_type": "execute_result"
    }
   ],
   "source": [
    "doe_disc_input = doe_disc.get_sosdisc_inputs()\n",
    "pd.DataFrame.from_dict(doe_disc_input,orient='index')"
   ]
  },
  {
   "cell_type": "code",
   "execution_count": 42,
   "id": "0499ac00",
   "metadata": {},
   "outputs": [],
   "source": [
    "doe_disc_output = doe_disc.get_sosdisc_outputs()"
   ]
  },
  {
   "cell_type": "code",
   "execution_count": 43,
   "id": "bcb5d045",
   "metadata": {},
   "outputs": [],
   "source": [
    "# doe_disc_output"
   ]
  },
  {
   "cell_type": "markdown",
   "id": "0111d5a8",
   "metadata": {},
   "source": [
    "# 5.1 Table of computed points"
   ]
  },
  {
   "cell_type": "code",
   "execution_count": 44,
   "id": "5fbbab76",
   "metadata": {},
   "outputs": [
    {
     "data": {
      "text/html": [
       "<div>\n",
       "<style scoped>\n",
       "    .dataframe tbody tr th:only-of-type {\n",
       "        vertical-align: middle;\n",
       "    }\n",
       "\n",
       "    .dataframe tbody tr th {\n",
       "        vertical-align: top;\n",
       "    }\n",
       "\n",
       "    .dataframe thead tr th {\n",
       "        text-align: left;\n",
       "    }\n",
       "</style>\n",
       "<table border=\"1\" class=\"dataframe\">\n",
       "  <thead>\n",
       "    <tr>\n",
       "      <th></th>\n",
       "      <th colspan=\"3\" halign=\"left\">design_parameters</th>\n",
       "      <th>functions</th>\n",
       "    </tr>\n",
       "    <tr>\n",
       "      <th></th>\n",
       "      <th>doe.DiscAllTypesDoeScenario.z</th>\n",
       "      <th colspan=\"2\" halign=\"left\">doe.DiscAllTypesDoeScenario.DiscAllTypes.h</th>\n",
       "      <th>doe.DiscAllTypesDoeScenario.o</th>\n",
       "    </tr>\n",
       "    <tr>\n",
       "      <th></th>\n",
       "      <th>0</th>\n",
       "      <th>0</th>\n",
       "      <th>1</th>\n",
       "      <th>0</th>\n",
       "    </tr>\n",
       "  </thead>\n",
       "  <tbody>\n",
       "    <tr>\n",
       "      <th>0</th>\n",
       "      <td>9.379764</td>\n",
       "      <td>1.515949</td>\n",
       "      <td>5.631736</td>\n",
       "      <td>2.985665</td>\n",
       "    </tr>\n",
       "    <tr>\n",
       "      <th>1</th>\n",
       "      <td>8.886448</td>\n",
       "      <td>-1.196271</td>\n",
       "      <td>6.523436</td>\n",
       "      <td>2.828638</td>\n",
       "    </tr>\n",
       "    <tr>\n",
       "      <th>2</th>\n",
       "      <td>3.713714</td>\n",
       "      <td>-1.994758</td>\n",
       "      <td>4.822571</td>\n",
       "      <td>1.182109</td>\n",
       "    </tr>\n",
       "    <tr>\n",
       "      <th>3</th>\n",
       "      <td>0.041702</td>\n",
       "      <td>1.749067</td>\n",
       "      <td>3.617234</td>\n",
       "      <td>0.013274</td>\n",
       "    </tr>\n",
       "    <tr>\n",
       "      <th>4</th>\n",
       "      <td>6.954955</td>\n",
       "      <td>-9.316161</td>\n",
       "      <td>9.918161</td>\n",
       "      <td>2.213826</td>\n",
       "    </tr>\n",
       "    <tr>\n",
       "      <th>...</th>\n",
       "      <td>...</td>\n",
       "      <td>...</td>\n",
       "      <td>...</td>\n",
       "      <td>...</td>\n",
       "    </tr>\n",
       "    <tr>\n",
       "      <th>95</th>\n",
       "      <td>6.661678</td>\n",
       "      <td>5.719822</td>\n",
       "      <td>7.645988</td>\n",
       "      <td>2.120473</td>\n",
       "    </tr>\n",
       "    <tr>\n",
       "      <th>96</th>\n",
       "      <td>2.358656</td>\n",
       "      <td>-6.389327</td>\n",
       "      <td>5.297002</td>\n",
       "      <td>0.750782</td>\n",
       "    </tr>\n",
       "    <tr>\n",
       "      <th>97</th>\n",
       "      <td>3.011475</td>\n",
       "      <td>8.776000</td>\n",
       "      <td>9.837792</td>\n",
       "      <td>0.958580</td>\n",
       "    </tr>\n",
       "    <tr>\n",
       "      <th>98</th>\n",
       "      <td>4.804455</td>\n",
       "      <td>-2.413481</td>\n",
       "      <td>1.131552</td>\n",
       "      <td>1.529302</td>\n",
       "    </tr>\n",
       "    <tr>\n",
       "      <th>99</th>\n",
       "      <td>4.001988</td>\n",
       "      <td>2.954436</td>\n",
       "      <td>9.746571</td>\n",
       "      <td>1.273869</td>\n",
       "    </tr>\n",
       "  </tbody>\n",
       "</table>\n",
       "<p>100 rows × 4 columns</p>\n",
       "</div>"
      ],
      "text/plain": [
       "               design_parameters                                             \\\n",
       "   doe.DiscAllTypesDoeScenario.z doe.DiscAllTypesDoeScenario.DiscAllTypes.h   \n",
       "                               0                                          0   \n",
       "0                       9.379764                                   1.515949   \n",
       "1                       8.886448                                  -1.196271   \n",
       "2                       3.713714                                  -1.994758   \n",
       "3                       0.041702                                   1.749067   \n",
       "4                       6.954955                                  -9.316161   \n",
       "..                           ...                                        ...   \n",
       "95                      6.661678                                   5.719822   \n",
       "96                      2.358656                                  -6.389327   \n",
       "97                      3.011475                                   8.776000   \n",
       "98                      4.804455                                  -2.413481   \n",
       "99                      4.001988                                   2.954436   \n",
       "\n",
       "                                 functions  \n",
       "             doe.DiscAllTypesDoeScenario.o  \n",
       "           1                             0  \n",
       "0   5.631736                      2.985665  \n",
       "1   6.523436                      2.828638  \n",
       "2   4.822571                      1.182109  \n",
       "3   3.617234                      0.013274  \n",
       "4   9.918161                      2.213826  \n",
       "..       ...                           ...  \n",
       "95  7.645988                      2.120473  \n",
       "96  5.297002                      0.750782  \n",
       "97  9.837792                      0.958580  \n",
       "98  1.131552                      1.529302  \n",
       "99  9.746571                      1.273869  \n",
       "\n",
       "[100 rows x 4 columns]"
      ]
     },
     "execution_count": 44,
     "metadata": {},
     "output_type": "execute_result"
    }
   ],
   "source": [
    "XY_pd= doe_disc_output['doe_ds_io']\n",
    "XY_pd"
   ]
  },
  {
   "cell_type": "code",
   "execution_count": 45,
   "id": "c052e07d",
   "metadata": {},
   "outputs": [
    {
     "data": {
      "text/html": [
       "<div>\n",
       "<style scoped>\n",
       "    .dataframe tbody tr th:only-of-type {\n",
       "        vertical-align: middle;\n",
       "    }\n",
       "\n",
       "    .dataframe tbody tr th {\n",
       "        vertical-align: top;\n",
       "    }\n",
       "\n",
       "    .dataframe thead tr th {\n",
       "        text-align: left;\n",
       "    }\n",
       "</style>\n",
       "<table border=\"1\" class=\"dataframe\">\n",
       "  <thead>\n",
       "    <tr>\n",
       "      <th></th>\n",
       "      <th>doe.DiscAllTypesDoeScenario.z</th>\n",
       "      <th colspan=\"2\" halign=\"left\">doe.DiscAllTypesDoeScenario.DiscAllTypes.h</th>\n",
       "    </tr>\n",
       "    <tr>\n",
       "      <th></th>\n",
       "      <th>0</th>\n",
       "      <th>0</th>\n",
       "      <th>1</th>\n",
       "    </tr>\n",
       "  </thead>\n",
       "  <tbody>\n",
       "    <tr>\n",
       "      <th>0</th>\n",
       "      <td>9.379764</td>\n",
       "      <td>1.515949</td>\n",
       "      <td>5.631736</td>\n",
       "    </tr>\n",
       "    <tr>\n",
       "      <th>1</th>\n",
       "      <td>8.886448</td>\n",
       "      <td>-1.196271</td>\n",
       "      <td>6.523436</td>\n",
       "    </tr>\n",
       "    <tr>\n",
       "      <th>2</th>\n",
       "      <td>3.713714</td>\n",
       "      <td>-1.994758</td>\n",
       "      <td>4.822571</td>\n",
       "    </tr>\n",
       "    <tr>\n",
       "      <th>3</th>\n",
       "      <td>0.041702</td>\n",
       "      <td>1.749067</td>\n",
       "      <td>3.617234</td>\n",
       "    </tr>\n",
       "    <tr>\n",
       "      <th>4</th>\n",
       "      <td>6.954955</td>\n",
       "      <td>-9.316161</td>\n",
       "      <td>9.918161</td>\n",
       "    </tr>\n",
       "    <tr>\n",
       "      <th>...</th>\n",
       "      <td>...</td>\n",
       "      <td>...</td>\n",
       "      <td>...</td>\n",
       "    </tr>\n",
       "    <tr>\n",
       "      <th>95</th>\n",
       "      <td>6.661678</td>\n",
       "      <td>5.719822</td>\n",
       "      <td>7.645988</td>\n",
       "    </tr>\n",
       "    <tr>\n",
       "      <th>96</th>\n",
       "      <td>2.358656</td>\n",
       "      <td>-6.389327</td>\n",
       "      <td>5.297002</td>\n",
       "    </tr>\n",
       "    <tr>\n",
       "      <th>97</th>\n",
       "      <td>3.011475</td>\n",
       "      <td>8.776000</td>\n",
       "      <td>9.837792</td>\n",
       "    </tr>\n",
       "    <tr>\n",
       "      <th>98</th>\n",
       "      <td>4.804455</td>\n",
       "      <td>-2.413481</td>\n",
       "      <td>1.131552</td>\n",
       "    </tr>\n",
       "    <tr>\n",
       "      <th>99</th>\n",
       "      <td>4.001988</td>\n",
       "      <td>2.954436</td>\n",
       "      <td>9.746571</td>\n",
       "    </tr>\n",
       "  </tbody>\n",
       "</table>\n",
       "<p>100 rows × 3 columns</p>\n",
       "</div>"
      ],
      "text/plain": [
       "   doe.DiscAllTypesDoeScenario.z doe.DiscAllTypesDoeScenario.DiscAllTypes.h  \\\n",
       "                               0                                          0   \n",
       "0                       9.379764                                   1.515949   \n",
       "1                       8.886448                                  -1.196271   \n",
       "2                       3.713714                                  -1.994758   \n",
       "3                       0.041702                                   1.749067   \n",
       "4                       6.954955                                  -9.316161   \n",
       "..                           ...                                        ...   \n",
       "95                      6.661678                                   5.719822   \n",
       "96                      2.358656                                  -6.389327   \n",
       "97                      3.011475                                   8.776000   \n",
       "98                      4.804455                                  -2.413481   \n",
       "99                      4.001988                                   2.954436   \n",
       "\n",
       "              \n",
       "           1  \n",
       "0   5.631736  \n",
       "1   6.523436  \n",
       "2   4.822571  \n",
       "3   3.617234  \n",
       "4   9.918161  \n",
       "..       ...  \n",
       "95  7.645988  \n",
       "96  5.297002  \n",
       "97  9.837792  \n",
       "98  1.131552  \n",
       "99  9.746571  \n",
       "\n",
       "[100 rows x 3 columns]"
      ]
     },
     "execution_count": 45,
     "metadata": {},
     "output_type": "execute_result"
    }
   ],
   "source": [
    "X_pd = XY_pd['design_parameters']\n",
    "X_pd"
   ]
  },
  {
   "cell_type": "code",
   "execution_count": 46,
   "id": "963fd304",
   "metadata": {},
   "outputs": [],
   "source": [
    "#X_pd.to_csv('X_pd.csv',index=False)"
   ]
  },
  {
   "cell_type": "code",
   "execution_count": 47,
   "id": "c52f26bb",
   "metadata": {
    "scrolled": true
   },
   "outputs": [
    {
     "data": {
      "text/html": [
       "<div>\n",
       "<style scoped>\n",
       "    .dataframe tbody tr th:only-of-type {\n",
       "        vertical-align: middle;\n",
       "    }\n",
       "\n",
       "    .dataframe tbody tr th {\n",
       "        vertical-align: top;\n",
       "    }\n",
       "\n",
       "    .dataframe thead tr th {\n",
       "        text-align: left;\n",
       "    }\n",
       "</style>\n",
       "<table border=\"1\" class=\"dataframe\">\n",
       "  <thead>\n",
       "    <tr>\n",
       "      <th></th>\n",
       "      <th>doe.DiscAllTypesDoeScenario.o</th>\n",
       "    </tr>\n",
       "    <tr>\n",
       "      <th></th>\n",
       "      <th>0</th>\n",
       "    </tr>\n",
       "  </thead>\n",
       "  <tbody>\n",
       "    <tr>\n",
       "      <th>0</th>\n",
       "      <td>2.985665</td>\n",
       "    </tr>\n",
       "    <tr>\n",
       "      <th>1</th>\n",
       "      <td>2.828638</td>\n",
       "    </tr>\n",
       "    <tr>\n",
       "      <th>2</th>\n",
       "      <td>1.182109</td>\n",
       "    </tr>\n",
       "    <tr>\n",
       "      <th>3</th>\n",
       "      <td>0.013274</td>\n",
       "    </tr>\n",
       "    <tr>\n",
       "      <th>4</th>\n",
       "      <td>2.213826</td>\n",
       "    </tr>\n",
       "    <tr>\n",
       "      <th>...</th>\n",
       "      <td>...</td>\n",
       "    </tr>\n",
       "    <tr>\n",
       "      <th>95</th>\n",
       "      <td>2.120473</td>\n",
       "    </tr>\n",
       "    <tr>\n",
       "      <th>96</th>\n",
       "      <td>0.750782</td>\n",
       "    </tr>\n",
       "    <tr>\n",
       "      <th>97</th>\n",
       "      <td>0.958580</td>\n",
       "    </tr>\n",
       "    <tr>\n",
       "      <th>98</th>\n",
       "      <td>1.529302</td>\n",
       "    </tr>\n",
       "    <tr>\n",
       "      <th>99</th>\n",
       "      <td>1.273869</td>\n",
       "    </tr>\n",
       "  </tbody>\n",
       "</table>\n",
       "<p>100 rows × 1 columns</p>\n",
       "</div>"
      ],
      "text/plain": [
       "   doe.DiscAllTypesDoeScenario.o\n",
       "                               0\n",
       "0                       2.985665\n",
       "1                       2.828638\n",
       "2                       1.182109\n",
       "3                       0.013274\n",
       "4                       2.213826\n",
       "..                           ...\n",
       "95                      2.120473\n",
       "96                      0.750782\n",
       "97                      0.958580\n",
       "98                      1.529302\n",
       "99                      1.273869\n",
       "\n",
       "[100 rows x 1 columns]"
      ]
     },
     "execution_count": 47,
     "metadata": {},
     "output_type": "execute_result"
    }
   ],
   "source": [
    "Y_pd = XY_pd['functions']\n",
    "Y_pd"
   ]
  },
  {
   "cell_type": "markdown",
   "id": "1f3547ec",
   "metadata": {},
   "source": [
    "# 5.2 Optimum"
   ]
  },
  {
   "cell_type": "code",
   "execution_count": 48,
   "id": "04726873",
   "metadata": {},
   "outputs": [
    {
     "data": {
      "text/plain": [
       "{'x_opt': array([0.0417022 , 1.74906689, 3.61723405]),\n",
       " 'f_opt': 0.013274191644466958}"
      ]
     },
     "execution_count": 48,
     "metadata": {},
     "output_type": "execute_result"
    }
   ],
   "source": [
    "my_optim_result = doe_disc_output['optim_result']\n",
    "my_optim_result"
   ]
  },
  {
   "cell_type": "code",
   "execution_count": 49,
   "id": "d0296d25",
   "metadata": {},
   "outputs": [
    {
     "data": {
      "text/plain": [
       "array([0.0417022 , 1.74906689, 3.61723405])"
      ]
     },
     "execution_count": 49,
     "metadata": {},
     "output_type": "execute_result"
    }
   ],
   "source": [
    "my_optim_result['x_opt']"
   ]
  },
  {
   "cell_type": "code",
   "execution_count": 50,
   "id": "e4cdac6e",
   "metadata": {},
   "outputs": [
    {
     "data": {
      "text/plain": [
       "0.013274191644466958"
      ]
     },
     "execution_count": 50,
     "metadata": {},
     "output_type": "execute_result"
    }
   ],
   "source": [
    "my_optim_result['f_opt']"
   ]
  },
  {
   "cell_type": "markdown",
   "id": "32e05500",
   "metadata": {},
   "source": [
    "# 5.3 From gemseo "
   ]
  },
  {
   "cell_type": "code",
   "execution_count": 51,
   "id": "716249e4",
   "metadata": {},
   "outputs": [
    {
     "name": "stdout",
     "output_type": "stream",
     "text": [
      "doe.DiscAllTypesDoeScenario.o(doe.DiscAllTypesDoeScenario.z, doe.DiscAllTypesDoeScenario.DiscAllTypes.h)\n",
      "[]\n",
      "finite_differences\n",
      "1e-06\n"
     ]
    }
   ],
   "source": [
    "print(opt_P.objective)\n",
    "print(opt_P.constraints)\n",
    "print(opt_P.differentiation_method)\n",
    "print(opt_P.fd_step)"
   ]
  },
  {
   "cell_type": "code",
   "execution_count": 52,
   "id": "f8cae3a6",
   "metadata": {},
   "outputs": [],
   "source": [
    "dataset = opt_P.export_to_dataset(\"dataset_name\")"
   ]
  },
  {
   "cell_type": "code",
   "execution_count": 53,
   "id": "e27fa8ea",
   "metadata": {},
   "outputs": [
    {
     "data": {
      "text/html": [
       "<div>\n",
       "<style scoped>\n",
       "    .dataframe tbody tr th:only-of-type {\n",
       "        vertical-align: middle;\n",
       "    }\n",
       "\n",
       "    .dataframe tbody tr th {\n",
       "        vertical-align: top;\n",
       "    }\n",
       "\n",
       "    .dataframe thead tr th {\n",
       "        text-align: left;\n",
       "    }\n",
       "</style>\n",
       "<table border=\"1\" class=\"dataframe\">\n",
       "  <thead>\n",
       "    <tr>\n",
       "      <th></th>\n",
       "      <th colspan=\"3\" halign=\"left\">design_parameters</th>\n",
       "      <th>functions</th>\n",
       "    </tr>\n",
       "    <tr>\n",
       "      <th></th>\n",
       "      <th>doe.DiscAllTypesDoeScenario.z</th>\n",
       "      <th colspan=\"2\" halign=\"left\">doe.DiscAllTypesDoeScenario.DiscAllTypes.h</th>\n",
       "      <th>doe.DiscAllTypesDoeScenario.o</th>\n",
       "    </tr>\n",
       "    <tr>\n",
       "      <th></th>\n",
       "      <th>0</th>\n",
       "      <th>0</th>\n",
       "      <th>1</th>\n",
       "      <th>0</th>\n",
       "    </tr>\n",
       "  </thead>\n",
       "  <tbody>\n",
       "    <tr>\n",
       "      <th>0</th>\n",
       "      <td>9.379764</td>\n",
       "      <td>1.515949</td>\n",
       "      <td>5.631736</td>\n",
       "      <td>2.985665</td>\n",
       "    </tr>\n",
       "    <tr>\n",
       "      <th>1</th>\n",
       "      <td>8.886448</td>\n",
       "      <td>-1.196271</td>\n",
       "      <td>6.523436</td>\n",
       "      <td>2.828638</td>\n",
       "    </tr>\n",
       "    <tr>\n",
       "      <th>2</th>\n",
       "      <td>3.713714</td>\n",
       "      <td>-1.994758</td>\n",
       "      <td>4.822571</td>\n",
       "      <td>1.182109</td>\n",
       "    </tr>\n",
       "    <tr>\n",
       "      <th>3</th>\n",
       "      <td>0.041702</td>\n",
       "      <td>1.749067</td>\n",
       "      <td>3.617234</td>\n",
       "      <td>0.013274</td>\n",
       "    </tr>\n",
       "    <tr>\n",
       "      <th>4</th>\n",
       "      <td>6.954955</td>\n",
       "      <td>-9.316161</td>\n",
       "      <td>9.918161</td>\n",
       "      <td>2.213826</td>\n",
       "    </tr>\n",
       "    <tr>\n",
       "      <th>...</th>\n",
       "      <td>...</td>\n",
       "      <td>...</td>\n",
       "      <td>...</td>\n",
       "      <td>...</td>\n",
       "    </tr>\n",
       "    <tr>\n",
       "      <th>95</th>\n",
       "      <td>6.661678</td>\n",
       "      <td>5.719822</td>\n",
       "      <td>7.645988</td>\n",
       "      <td>2.120473</td>\n",
       "    </tr>\n",
       "    <tr>\n",
       "      <th>96</th>\n",
       "      <td>2.358656</td>\n",
       "      <td>-6.389327</td>\n",
       "      <td>5.297002</td>\n",
       "      <td>0.750782</td>\n",
       "    </tr>\n",
       "    <tr>\n",
       "      <th>97</th>\n",
       "      <td>3.011475</td>\n",
       "      <td>8.776000</td>\n",
       "      <td>9.837792</td>\n",
       "      <td>0.958580</td>\n",
       "    </tr>\n",
       "    <tr>\n",
       "      <th>98</th>\n",
       "      <td>4.804455</td>\n",
       "      <td>-2.413481</td>\n",
       "      <td>1.131552</td>\n",
       "      <td>1.529302</td>\n",
       "    </tr>\n",
       "    <tr>\n",
       "      <th>99</th>\n",
       "      <td>4.001988</td>\n",
       "      <td>2.954436</td>\n",
       "      <td>9.746571</td>\n",
       "      <td>1.273869</td>\n",
       "    </tr>\n",
       "  </tbody>\n",
       "</table>\n",
       "<p>100 rows × 4 columns</p>\n",
       "</div>"
      ],
      "text/plain": [
       "               design_parameters                                             \\\n",
       "   doe.DiscAllTypesDoeScenario.z doe.DiscAllTypesDoeScenario.DiscAllTypes.h   \n",
       "                               0                                          0   \n",
       "0                       9.379764                                   1.515949   \n",
       "1                       8.886448                                  -1.196271   \n",
       "2                       3.713714                                  -1.994758   \n",
       "3                       0.041702                                   1.749067   \n",
       "4                       6.954955                                  -9.316161   \n",
       "..                           ...                                        ...   \n",
       "95                      6.661678                                   5.719822   \n",
       "96                      2.358656                                  -6.389327   \n",
       "97                      3.011475                                   8.776000   \n",
       "98                      4.804455                                  -2.413481   \n",
       "99                      4.001988                                   2.954436   \n",
       "\n",
       "                                 functions  \n",
       "             doe.DiscAllTypesDoeScenario.o  \n",
       "           1                             0  \n",
       "0   5.631736                      2.985665  \n",
       "1   6.523436                      2.828638  \n",
       "2   4.822571                      1.182109  \n",
       "3   3.617234                      0.013274  \n",
       "4   9.918161                      2.213826  \n",
       "..       ...                           ...  \n",
       "95  7.645988                      2.120473  \n",
       "96  5.297002                      0.750782  \n",
       "97  9.837792                      0.958580  \n",
       "98  1.131552                      1.529302  \n",
       "99  9.746571                      1.273869  \n",
       "\n",
       "[100 rows x 4 columns]"
      ]
     },
     "execution_count": 53,
     "metadata": {},
     "output_type": "execute_result"
    }
   ],
   "source": [
    "XY_pd=dataset.export_to_dataframe()\n",
    "XY_pd"
   ]
  },
  {
   "cell_type": "code",
   "execution_count": 54,
   "id": "9b55a487",
   "metadata": {},
   "outputs": [
    {
     "data": {
      "text/html": [
       "<div>\n",
       "<style scoped>\n",
       "    .dataframe tbody tr th:only-of-type {\n",
       "        vertical-align: middle;\n",
       "    }\n",
       "\n",
       "    .dataframe tbody tr th {\n",
       "        vertical-align: top;\n",
       "    }\n",
       "\n",
       "    .dataframe thead tr th {\n",
       "        text-align: left;\n",
       "    }\n",
       "</style>\n",
       "<table border=\"1\" class=\"dataframe\">\n",
       "  <thead>\n",
       "    <tr>\n",
       "      <th></th>\n",
       "      <th>doe.DiscAllTypesDoeScenario.z</th>\n",
       "      <th colspan=\"2\" halign=\"left\">doe.DiscAllTypesDoeScenario.DiscAllTypes.h</th>\n",
       "    </tr>\n",
       "    <tr>\n",
       "      <th></th>\n",
       "      <th>0</th>\n",
       "      <th>0</th>\n",
       "      <th>1</th>\n",
       "    </tr>\n",
       "  </thead>\n",
       "  <tbody>\n",
       "    <tr>\n",
       "      <th>0</th>\n",
       "      <td>9.379764</td>\n",
       "      <td>1.515949</td>\n",
       "      <td>5.631736</td>\n",
       "    </tr>\n",
       "    <tr>\n",
       "      <th>1</th>\n",
       "      <td>8.886448</td>\n",
       "      <td>-1.196271</td>\n",
       "      <td>6.523436</td>\n",
       "    </tr>\n",
       "    <tr>\n",
       "      <th>2</th>\n",
       "      <td>3.713714</td>\n",
       "      <td>-1.994758</td>\n",
       "      <td>4.822571</td>\n",
       "    </tr>\n",
       "    <tr>\n",
       "      <th>3</th>\n",
       "      <td>0.041702</td>\n",
       "      <td>1.749067</td>\n",
       "      <td>3.617234</td>\n",
       "    </tr>\n",
       "    <tr>\n",
       "      <th>4</th>\n",
       "      <td>6.954955</td>\n",
       "      <td>-9.316161</td>\n",
       "      <td>9.918161</td>\n",
       "    </tr>\n",
       "    <tr>\n",
       "      <th>...</th>\n",
       "      <td>...</td>\n",
       "      <td>...</td>\n",
       "      <td>...</td>\n",
       "    </tr>\n",
       "    <tr>\n",
       "      <th>95</th>\n",
       "      <td>6.661678</td>\n",
       "      <td>5.719822</td>\n",
       "      <td>7.645988</td>\n",
       "    </tr>\n",
       "    <tr>\n",
       "      <th>96</th>\n",
       "      <td>2.358656</td>\n",
       "      <td>-6.389327</td>\n",
       "      <td>5.297002</td>\n",
       "    </tr>\n",
       "    <tr>\n",
       "      <th>97</th>\n",
       "      <td>3.011475</td>\n",
       "      <td>8.776000</td>\n",
       "      <td>9.837792</td>\n",
       "    </tr>\n",
       "    <tr>\n",
       "      <th>98</th>\n",
       "      <td>4.804455</td>\n",
       "      <td>-2.413481</td>\n",
       "      <td>1.131552</td>\n",
       "    </tr>\n",
       "    <tr>\n",
       "      <th>99</th>\n",
       "      <td>4.001988</td>\n",
       "      <td>2.954436</td>\n",
       "      <td>9.746571</td>\n",
       "    </tr>\n",
       "  </tbody>\n",
       "</table>\n",
       "<p>100 rows × 3 columns</p>\n",
       "</div>"
      ],
      "text/plain": [
       "   doe.DiscAllTypesDoeScenario.z doe.DiscAllTypesDoeScenario.DiscAllTypes.h  \\\n",
       "                               0                                          0   \n",
       "0                       9.379764                                   1.515949   \n",
       "1                       8.886448                                  -1.196271   \n",
       "2                       3.713714                                  -1.994758   \n",
       "3                       0.041702                                   1.749067   \n",
       "4                       6.954955                                  -9.316161   \n",
       "..                           ...                                        ...   \n",
       "95                      6.661678                                   5.719822   \n",
       "96                      2.358656                                  -6.389327   \n",
       "97                      3.011475                                   8.776000   \n",
       "98                      4.804455                                  -2.413481   \n",
       "99                      4.001988                                   2.954436   \n",
       "\n",
       "              \n",
       "           1  \n",
       "0   5.631736  \n",
       "1   6.523436  \n",
       "2   4.822571  \n",
       "3   3.617234  \n",
       "4   9.918161  \n",
       "..       ...  \n",
       "95  7.645988  \n",
       "96  5.297002  \n",
       "97  9.837792  \n",
       "98  1.131552  \n",
       "99  9.746571  \n",
       "\n",
       "[100 rows x 3 columns]"
      ]
     },
     "execution_count": 54,
     "metadata": {},
     "output_type": "execute_result"
    }
   ],
   "source": [
    "X_pd = XY_pd['design_parameters']\n",
    "X_pd"
   ]
  },
  {
   "cell_type": "code",
   "execution_count": 55,
   "id": "d2a437a3",
   "metadata": {},
   "outputs": [
    {
     "data": {
      "text/html": [
       "<div>\n",
       "<style scoped>\n",
       "    .dataframe tbody tr th:only-of-type {\n",
       "        vertical-align: middle;\n",
       "    }\n",
       "\n",
       "    .dataframe tbody tr th {\n",
       "        vertical-align: top;\n",
       "    }\n",
       "\n",
       "    .dataframe thead tr th {\n",
       "        text-align: left;\n",
       "    }\n",
       "</style>\n",
       "<table border=\"1\" class=\"dataframe\">\n",
       "  <thead>\n",
       "    <tr>\n",
       "      <th></th>\n",
       "      <th>doe.DiscAllTypesDoeScenario.o</th>\n",
       "    </tr>\n",
       "    <tr>\n",
       "      <th></th>\n",
       "      <th>0</th>\n",
       "    </tr>\n",
       "  </thead>\n",
       "  <tbody>\n",
       "    <tr>\n",
       "      <th>0</th>\n",
       "      <td>2.985665</td>\n",
       "    </tr>\n",
       "    <tr>\n",
       "      <th>1</th>\n",
       "      <td>2.828638</td>\n",
       "    </tr>\n",
       "    <tr>\n",
       "      <th>2</th>\n",
       "      <td>1.182109</td>\n",
       "    </tr>\n",
       "    <tr>\n",
       "      <th>3</th>\n",
       "      <td>0.013274</td>\n",
       "    </tr>\n",
       "    <tr>\n",
       "      <th>4</th>\n",
       "      <td>2.213826</td>\n",
       "    </tr>\n",
       "    <tr>\n",
       "      <th>...</th>\n",
       "      <td>...</td>\n",
       "    </tr>\n",
       "    <tr>\n",
       "      <th>95</th>\n",
       "      <td>2.120473</td>\n",
       "    </tr>\n",
       "    <tr>\n",
       "      <th>96</th>\n",
       "      <td>0.750782</td>\n",
       "    </tr>\n",
       "    <tr>\n",
       "      <th>97</th>\n",
       "      <td>0.958580</td>\n",
       "    </tr>\n",
       "    <tr>\n",
       "      <th>98</th>\n",
       "      <td>1.529302</td>\n",
       "    </tr>\n",
       "    <tr>\n",
       "      <th>99</th>\n",
       "      <td>1.273869</td>\n",
       "    </tr>\n",
       "  </tbody>\n",
       "</table>\n",
       "<p>100 rows × 1 columns</p>\n",
       "</div>"
      ],
      "text/plain": [
       "   doe.DiscAllTypesDoeScenario.o\n",
       "                               0\n",
       "0                       2.985665\n",
       "1                       2.828638\n",
       "2                       1.182109\n",
       "3                       0.013274\n",
       "4                       2.213826\n",
       "..                           ...\n",
       "95                      2.120473\n",
       "96                      0.750782\n",
       "97                      0.958580\n",
       "98                      1.529302\n",
       "99                      1.273869\n",
       "\n",
       "[100 rows x 1 columns]"
      ]
     },
     "execution_count": 55,
     "metadata": {},
     "output_type": "execute_result"
    }
   ],
   "source": [
    "Y_pd = XY_pd['functions']\n",
    "Y_pd"
   ]
  },
  {
   "cell_type": "code",
   "execution_count": 56,
   "id": "6cf6b472",
   "metadata": {},
   "outputs": [
    {
     "data": {
      "text/plain": [
       "0.013274191644466958"
      ]
     },
     "execution_count": 56,
     "metadata": {},
     "output_type": "execute_result"
    }
   ],
   "source": [
    "import numpy as np\n",
    "min(np.array(Y_pd['doe.DiscAllTypesDoeScenario.o']['0']))"
   ]
  },
  {
   "cell_type": "code",
   "execution_count": 57,
   "id": "fd2ae1c1",
   "metadata": {},
   "outputs": [
    {
     "data": {
      "text/plain": [
       "0.013274191644466958"
      ]
     },
     "execution_count": 57,
     "metadata": {},
     "output_type": "execute_result"
    }
   ],
   "source": [
    "doe_disc.optimization_result.f_opt"
   ]
  },
  {
   "cell_type": "code",
   "execution_count": 58,
   "id": "1b62ce1d",
   "metadata": {},
   "outputs": [
    {
     "data": {
      "text/plain": [
       "array([0.0417022 , 1.74906689, 3.61723405])"
      ]
     },
     "execution_count": 58,
     "metadata": {},
     "output_type": "execute_result"
    }
   ],
   "source": [
    "doe_disc.optimization_result.x_opt"
   ]
  },
  {
   "cell_type": "code",
   "execution_count": 59,
   "id": "f773f962",
   "metadata": {},
   "outputs": [
    {
     "name": "stderr",
     "output_type": "stream",
     "text": [
      "INFO:gemseo.core.scenario:* Scenario Executions statistics *\n",
      "INFO:gemseo.core.scenario:* Discipline: DiscAllTypes\n",
      "INFO:gemseo.core.scenario:Executions number: 100\n",
      "INFO:gemseo.core.scenario:Execution time:  0.09279199999999843 s\n",
      "INFO:gemseo.core.scenario:Linearizations number: 0\n",
      "INFO:gemseo.core.scenario:Total number of executions calls 100\n",
      "INFO:gemseo.core.scenario:Total number of linearizations 0\n"
     ]
    }
   ],
   "source": [
    "doe_disc.print_execution_metrics()"
   ]
  },
  {
   "cell_type": "code",
   "execution_count": 60,
   "id": "a767671b",
   "metadata": {},
   "outputs": [
    {
     "data": {
      "text/plain": [
       "{'x_0': array([9.37976388, 1.51594904, 5.63173624]),\n",
       " 'optimizer_name': 'lhs',\n",
       " 'x_opt': array([0.0417022 , 1.74906689, 3.61723405]),\n",
       " 'message': None,\n",
       " 'f_opt': 0.013274191644466958,\n",
       " 'constraints_values': {},\n",
       " 'constraints_grad': {},\n",
       " 'status': None,\n",
       " 'n_obj_call': 100,\n",
       " 'n_grad_call': None,\n",
       " 'n_constr_call': None,\n",
       " 'is_feasible': True}"
      ]
     },
     "execution_count": 60,
     "metadata": {},
     "output_type": "execute_result"
    }
   ],
   "source": [
    "doe_disc.get_optimum().__dict__"
   ]
  },
  {
   "cell_type": "markdown",
   "id": "48e3c1c9",
   "metadata": {},
   "source": [
    "# 6 The full XY_pd table"
   ]
  },
  {
   "cell_type": "markdown",
   "id": "17e11d26",
   "metadata": {},
   "source": [
    "need 'MemoryFullCache' : but error when using 'MemoryFullCache' in SoSTrades "
   ]
  },
  {
   "cell_type": "code",
   "execution_count": 61,
   "id": "1563f66c",
   "metadata": {},
   "outputs": [],
   "source": [
    "#dataset = disc.cache.export_to_dataset()\n",
    "#XY_pd=dataset.export_to_dataframe()"
   ]
  },
  {
   "cell_type": "code",
   "execution_count": 62,
   "id": "faabbbec",
   "metadata": {},
   "outputs": [],
   "source": [
    "#XY_pd"
   ]
  },
  {
   "cell_type": "code",
   "execution_count": null,
   "id": "fb4bcb31",
   "metadata": {},
   "outputs": [],
   "source": []
  },
  {
   "cell_type": "code",
   "execution_count": null,
   "id": "921a6f47",
   "metadata": {},
   "outputs": [],
   "source": []
  },
  {
   "cell_type": "code",
   "execution_count": null,
   "id": "612f4c55",
   "metadata": {},
   "outputs": [],
   "source": []
  },
  {
   "cell_type": "code",
   "execution_count": null,
   "id": "0a0ba7c3",
   "metadata": {},
   "outputs": [],
   "source": []
  },
  {
   "cell_type": "code",
   "execution_count": null,
   "id": "c69da2d3",
   "metadata": {},
   "outputs": [],
   "source": []
  },
  {
   "cell_type": "code",
   "execution_count": null,
   "id": "9cb06d43",
   "metadata": {},
   "outputs": [],
   "source": []
  }
 ],
 "metadata": {
  "kernelspec": {
   "display_name": "Python 3 (ipykernel)",
   "language": "python",
   "name": "python3"
  },
  "language_info": {
   "codemirror_mode": {
    "name": "ipython",
    "version": 3
   },
   "file_extension": ".py",
   "mimetype": "text/x-python",
   "name": "python",
   "nbconvert_exporter": "python",
   "pygments_lexer": "ipython3",
   "version": "3.9.7"
  }
 },
 "nbformat": 4,
 "nbformat_minor": 5
}
