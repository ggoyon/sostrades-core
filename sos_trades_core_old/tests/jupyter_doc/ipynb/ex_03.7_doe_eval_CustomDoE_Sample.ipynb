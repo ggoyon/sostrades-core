{
 "cells": [
  {
   "cell_type": "code",
   "execution_count": 1,
   "id": "e668b41a",
   "metadata": {},
   "outputs": [],
   "source": [
    "if 0 :\n",
    "    %matplotlib inline\n",
    "else :\n",
    "    %matplotlib notebook"
   ]
  },
  {
   "cell_type": "markdown",
   "id": "b3f4409c",
   "metadata": {},
   "source": [
    "#  Import  libraries"
   ]
  },
  {
   "cell_type": "code",
   "execution_count": 2,
   "id": "765fed52",
   "metadata": {},
   "outputs": [
    {
     "name": "stdout",
     "output_type": "stream",
     "text": [
      "C:\\Users\\ng947ac\\Documents\\Daniel\\jupyter\\SoSTrades\\jupyter_doc\\_scripts\n",
      "C:\\Users\\ng947ac\\Documents\\Daniel\\git\\workspace\n",
      "C:\\Users\\ng947ac\\Documents\\Daniel\\git\\workspace\\sosgemseo\\src\\\n",
      "C:\\Users\\ng947ac\\Documents\\Daniel\\git\\workspace\\sostrades-core\n"
     ]
    }
   ],
   "source": [
    "import sys\n",
    "import os\n",
    "module_path = os.path.abspath('.') +\"\\\\_scripts\"\n",
    "print(module_path)\n",
    "\n",
    "if module_path not in sys.path:\n",
    "    sys.path.append(module_path)\n",
    "from _00_Import_packages_git3 import *"
   ]
  },
  {
   "cell_type": "code",
   "execution_count": 3,
   "id": "f59f4096",
   "metadata": {},
   "outputs": [],
   "source": [
    "from numpy import array\n",
    "import pandas as pd\n",
    "from sos_trades_core.execution_engine.execution_engine import ExecutionEngine\n",
    "from numpy.testing import assert_array_equal, assert_array_almost_equal  # @UnresolvedImport\n",
    "import os\n",
    "from gemseo.core.mdo_scenario import MDOScenario"
   ]
  },
  {
   "cell_type": "markdown",
   "id": "dffc465e",
   "metadata": {},
   "source": [
    "# SoSDoeScenario setUp"
   ]
  },
  {
   "cell_type": "code",
   "execution_count": 4,
   "id": "7e31db5b",
   "metadata": {},
   "outputs": [
    {
     "name": "stdout",
     "output_type": "stream",
     "text": [
      "DoEEval\n"
     ]
    }
   ],
   "source": [
    "study_name = 'doe'\n",
    "ns = f'{study_name}'\n",
    "sc_name = \"DoEEval\"\n",
    "c_name = \"SellarCoupling\"\n",
    "print(sc_name)"
   ]
  },
  {
   "cell_type": "markdown",
   "id": "1f185ea9",
   "metadata": {},
   "source": [
    "See §2 for Discipmline description"
   ]
  },
  {
   "cell_type": "code",
   "execution_count": 5,
   "id": "49f5a9e4",
   "metadata": {},
   "outputs": [
    {
     "data": {
      "text/html": [
       "<div>\n",
       "<style scoped>\n",
       "    .dataframe tbody tr th:only-of-type {\n",
       "        vertical-align: middle;\n",
       "    }\n",
       "\n",
       "    .dataframe tbody tr th {\n",
       "        vertical-align: top;\n",
       "    }\n",
       "\n",
       "    .dataframe thead th {\n",
       "        text-align: right;\n",
       "    }\n",
       "</style>\n",
       "<table border=\"1\" class=\"dataframe\">\n",
       "  <thead>\n",
       "    <tr style=\"text-align: right;\">\n",
       "      <th></th>\n",
       "      <th>selected_input</th>\n",
       "      <th>full_name</th>\n",
       "    </tr>\n",
       "  </thead>\n",
       "  <tbody>\n",
       "    <tr>\n",
       "      <th>0</th>\n",
       "      <td>False</td>\n",
       "      <td>DoEEval.Sellar_Problem.local_dv</td>\n",
       "    </tr>\n",
       "    <tr>\n",
       "      <th>1</th>\n",
       "      <td>True</td>\n",
       "      <td>x</td>\n",
       "    </tr>\n",
       "    <tr>\n",
       "      <th>2</th>\n",
       "      <td>False</td>\n",
       "      <td>y_1</td>\n",
       "    </tr>\n",
       "    <tr>\n",
       "      <th>3</th>\n",
       "      <td>False</td>\n",
       "      <td>y_2</td>\n",
       "    </tr>\n",
       "    <tr>\n",
       "      <th>4</th>\n",
       "      <td>True</td>\n",
       "      <td>z</td>\n",
       "    </tr>\n",
       "  </tbody>\n",
       "</table>\n",
       "</div>"
      ],
      "text/plain": [
       "   selected_input                        full_name\n",
       "0           False  DoEEval.Sellar_Problem.local_dv\n",
       "1            True                                x\n",
       "2           False                              y_1\n",
       "3           False                              y_2\n",
       "4            True                                z"
      ]
     },
     "execution_count": 5,
     "metadata": {},
     "output_type": "execute_result"
    }
   ],
   "source": [
    "input_selection_x_z = {'selected_input': [False, True, False, False, True],\n",
    "                       'full_name': ['DoEEval.Sellar_Problem.local_dv', 'x', 'y_1',\n",
    "                                     'y_2',\n",
    "                                     'z']}\n",
    "input_selection_x_z = pd.DataFrame(input_selection_x_z)\n",
    "input_selection_x_z "
   ]
  },
  {
   "cell_type": "code",
   "execution_count": 6,
   "id": "0cf88ccf",
   "metadata": {},
   "outputs": [],
   "source": [
    "output_selection_obj_y1_y2 = {'selected_output': [False, False, True, True, True],\n",
    "                              'full_name': ['c_1', 'c_2', 'obj', 'y_1', 'y_2']}\n",
    "output_selection_obj_y1_y2 = pd.DataFrame(output_selection_obj_y1_y2)"
   ]
  },
  {
   "cell_type": "code",
   "execution_count": 7,
   "id": "c2f7c314",
   "metadata": {},
   "outputs": [],
   "source": [
    "repo = 'sos_trades_core.sos_processes.test'\n",
    "proc_name = \"test_sellar_doe_eval\""
   ]
  },
  {
   "cell_type": "markdown",
   "id": "15c0d86b",
   "metadata": {},
   "source": [
    "# Doe scenario execution"
   ]
  },
  {
   "cell_type": "code",
   "execution_count": null,
   "id": "cc7af149",
   "metadata": {},
   "outputs": [],
   "source": []
  },
  {
   "cell_type": "markdown",
   "id": "a3d62527",
   "metadata": {},
   "source": [
    "# 1 Set Doe optim scenario doe_eval_CustomDoE"
   ]
  },
  {
   "cell_type": "code",
   "execution_count": 8,
   "id": "07993237",
   "metadata": {},
   "outputs": [
    {
     "data": {
      "text/plain": [
       "['CustomDOE',\n",
       " 'DiagonalDOE',\n",
       " 'OT_SOBOL',\n",
       " 'OT_RANDOM',\n",
       " 'OT_HASELGROVE',\n",
       " 'OT_REVERSE_HALTON',\n",
       " 'OT_HALTON',\n",
       " 'OT_FAURE',\n",
       " 'OT_MONTE_CARLO',\n",
       " 'OT_FACTORIAL',\n",
       " 'OT_COMPOSITE',\n",
       " 'OT_AXIAL',\n",
       " 'OT_OPT_LHS',\n",
       " 'OT_LHS',\n",
       " 'OT_LHSC',\n",
       " 'OT_FULLFACT',\n",
       " 'OT_SOBOL_INDICES',\n",
       " 'fullfact',\n",
       " 'ff2n',\n",
       " 'pbdesign',\n",
       " 'bbdesign',\n",
       " 'ccdesign',\n",
       " 'lhs']"
      ]
     },
     "execution_count": 8,
     "metadata": {},
     "output_type": "execute_result"
    }
   ],
   "source": [
    "from gemseo.api import (\n",
    "    configure_logger,\n",
    "    get_algorithm_options_schema,\n",
    "    get_available_doe_algorithms,\n",
    ")\n",
    "get_available_doe_algorithms()"
   ]
  },
  {
   "cell_type": "code",
   "execution_count": 9,
   "id": "819e555f",
   "metadata": {},
   "outputs": [],
   "source": [
    "my_doe_algo = 'CustomDOE'"
   ]
  },
  {
   "cell_type": "code",
   "execution_count": 10,
   "id": "5e8b2920",
   "metadata": {},
   "outputs": [
    {
     "name": "stderr",
     "output_type": "stream",
     "text": [
      "INFO:SoS.EE:configuring ...\n",
      "INFO:SoS.EE.Coupling:The MDA solver of the Coupling doe.DoEEval is set to MDAJacobi\n",
      "WARNING:gemseo.mda.mda_chain:No coupling in MDA, switching chain_linearize to True\n",
      "INFO:SoS.EE.Coupling:The MDA solver of the Coupling doe is set to MDAJacobi\n"
     ]
    }
   ],
   "source": [
    "exec_eng = ExecutionEngine(study_name)\n",
    "factory = exec_eng.factory\n",
    "builder = factory.get_builder_from_process(repo=repo,mod_id=proc_name)\n",
    "exec_eng.factory.set_builders_to_coupling_builder(builder)\n",
    "exec_eng.configure()"
   ]
  },
  {
   "cell_type": "code",
   "execution_count": 11,
   "id": "603209f3",
   "metadata": {},
   "outputs": [
    {
     "name": "stderr",
     "output_type": "stream",
     "text": [
      "INFO:SoS.EE:Nodes representation for Treeview doe\n",
      "|_ doe\n",
      "\t|_ DoEEval\n",
      "\t\t|_ Sellar_2\n",
      "\t\t|_ Sellar_1\n",
      "\t\t|_ Sellar_Problem\n"
     ]
    },
    {
     "data": {
      "text/plain": [
       "'Nodes representation for Treeview doe\\n|_ doe\\n\\t|_ DoEEval\\n\\t\\t|_ Sellar_2\\n\\t\\t|_ Sellar_1\\n\\t\\t|_ Sellar_Problem'"
      ]
     },
     "execution_count": 11,
     "metadata": {},
     "output_type": "execute_result"
    }
   ],
   "source": [
    "exec_eng.display_treeview_nodes()"
   ]
  },
  {
   "cell_type": "code",
   "execution_count": 12,
   "id": "240b826c",
   "metadata": {},
   "outputs": [
    {
     "name": "stderr",
     "output_type": "stream",
     "text": [
      "INFO:SoS.EE:Nodes representation for Treeview doe\n",
      "|_ doe\n",
      "\t-> acceleration\n",
      "\t-> authorize_self_coupled_disciplines\n",
      "\t-> cache_file_path\n",
      "\t-> cache_type\n",
      "\t-> chain_linearize\n",
      "\t-> debug_mode\n",
      "\t-> debug_mode_sellar\n",
      "\t-> epsilon0\n",
      "\t-> group_mda_disciplines\n",
      "\t-> linear_solver_MDA\n",
      "\t-> linear_solver_MDA_options\n",
      "\t-> linear_solver_MDA_preconditioner\n",
      "\t-> linear_solver_MDO\n",
      "\t-> linear_solver_MDO_options\n",
      "\t-> linear_solver_MDO_preconditioner\n",
      "\t-> linearization_mode\n",
      "\t-> max_mda_iter\n",
      "\t-> n_processes\n",
      "\t-> n_subcouplings_parallel\n",
      "\t-> relax_factor\n",
      "\t-> sub_mda_class\n",
      "\t-> tolerance\n",
      "\t-> tolerance_gs\n",
      "\t-> use_lu_fact\n",
      "\t-> warm_start\n",
      "\t-> warm_start_threshold\n",
      "\t-> x\n",
      "\t-> y_1\n",
      "\t-> y_2\n",
      "\t-> z\n",
      "\t<- c_1\n",
      "\t<- c_2\n",
      "\t<- obj\n",
      "\t<- residuals_history\n",
      "\t<- y_1_bis\n",
      "\t<- y_2_bis\n",
      "\t|_ DoEEval\n",
      "\t\t-> acceleration\n",
      "\t\t-> authorize_self_coupled_disciplines\n",
      "\t\t-> cache_file_path\n",
      "\t\t-> cache_type\n",
      "\t\t-> chain_linearize\n",
      "\t\t-> debug_mode\n",
      "\t\t-> epsilon0\n",
      "\t\t-> eval_inputs\n",
      "\t\t-> eval_outputs\n",
      "\t\t-> group_mda_disciplines\n",
      "\t\t-> linear_solver_MDA\n",
      "\t\t-> linear_solver_MDA_options\n",
      "\t\t-> linear_solver_MDA_preconditioner\n",
      "\t\t-> linear_solver_MDO\n",
      "\t\t-> linear_solver_MDO_options\n",
      "\t\t-> linear_solver_MDO_preconditioner\n",
      "\t\t-> linearization_mode\n",
      "\t\t-> max_mda_iter\n",
      "\t\t-> n_processes\n",
      "\t\t-> n_subcouplings_parallel\n",
      "\t\t-> relax_factor\n",
      "\t\t-> sampling_algo\n",
      "\t\t-> sub_mda_class\n",
      "\t\t-> tolerance\n",
      "\t\t-> tolerance_gs\n",
      "\t\t-> use_lu_fact\n",
      "\t\t-> wait_time_between_fork\n",
      "\t\t-> warm_start\n",
      "\t\t-> warm_start_threshold\n",
      "\t\t<- doe_samples_dataframe\n",
      "\t\t<- residuals_history\n",
      "\t\t|_ Sellar_2\n",
      "\t\t\t-> cache_file_path\n",
      "\t\t\t-> cache_type\n",
      "\t\t\t-> debug_mode\n",
      "\t\t\t-> linearization_mode\n",
      "\t\t|_ Sellar_1\n",
      "\t\t\t-> cache_file_path\n",
      "\t\t\t-> cache_type\n",
      "\t\t\t-> debug_mode\n",
      "\t\t\t-> linearization_mode\n",
      "\t\t|_ Sellar_Problem\n",
      "\t\t\t-> cache_file_path\n",
      "\t\t\t-> cache_type\n",
      "\t\t\t-> debug_mode\n",
      "\t\t\t-> linearization_mode\n",
      "\t\t\t-> local_dv\n"
     ]
    },
    {
     "data": {
      "text/plain": [
       "'Nodes representation for Treeview doe\\n|_ doe\\n\\t-> acceleration\\n\\t-> authorize_self_coupled_disciplines\\n\\t-> cache_file_path\\n\\t-> cache_type\\n\\t-> chain_linearize\\n\\t-> debug_mode\\n\\t-> debug_mode_sellar\\n\\t-> epsilon0\\n\\t-> group_mda_disciplines\\n\\t-> linear_solver_MDA\\n\\t-> linear_solver_MDA_options\\n\\t-> linear_solver_MDA_preconditioner\\n\\t-> linear_solver_MDO\\n\\t-> linear_solver_MDO_options\\n\\t-> linear_solver_MDO_preconditioner\\n\\t-> linearization_mode\\n\\t-> max_mda_iter\\n\\t-> n_processes\\n\\t-> n_subcouplings_parallel\\n\\t-> relax_factor\\n\\t-> sub_mda_class\\n\\t-> tolerance\\n\\t-> tolerance_gs\\n\\t-> use_lu_fact\\n\\t-> warm_start\\n\\t-> warm_start_threshold\\n\\t-> x\\n\\t-> y_1\\n\\t-> y_2\\n\\t-> z\\n\\t<- c_1\\n\\t<- c_2\\n\\t<- obj\\n\\t<- residuals_history\\n\\t<- y_1_bis\\n\\t<- y_2_bis\\n\\t|_ DoEEval\\n\\t\\t-> acceleration\\n\\t\\t-> authorize_self_coupled_disciplines\\n\\t\\t-> cache_file_path\\n\\t\\t-> cache_type\\n\\t\\t-> chain_linearize\\n\\t\\t-> debug_mode\\n\\t\\t-> epsilon0\\n\\t\\t-> eval_inputs\\n\\t\\t-> eval_outputs\\n\\t\\t-> group_mda_disciplines\\n\\t\\t-> linear_solver_MDA\\n\\t\\t-> linear_solver_MDA_options\\n\\t\\t-> linear_solver_MDA_preconditioner\\n\\t\\t-> linear_solver_MDO\\n\\t\\t-> linear_solver_MDO_options\\n\\t\\t-> linear_solver_MDO_preconditioner\\n\\t\\t-> linearization_mode\\n\\t\\t-> max_mda_iter\\n\\t\\t-> n_processes\\n\\t\\t-> n_subcouplings_parallel\\n\\t\\t-> relax_factor\\n\\t\\t-> sampling_algo\\n\\t\\t-> sub_mda_class\\n\\t\\t-> tolerance\\n\\t\\t-> tolerance_gs\\n\\t\\t-> use_lu_fact\\n\\t\\t-> wait_time_between_fork\\n\\t\\t-> warm_start\\n\\t\\t-> warm_start_threshold\\n\\t\\t<- doe_samples_dataframe\\n\\t\\t<- residuals_history\\n\\t\\t|_ Sellar_2\\n\\t\\t\\t-> cache_file_path\\n\\t\\t\\t-> cache_type\\n\\t\\t\\t-> debug_mode\\n\\t\\t\\t-> linearization_mode\\n\\t\\t|_ Sellar_1\\n\\t\\t\\t-> cache_file_path\\n\\t\\t\\t-> cache_type\\n\\t\\t\\t-> debug_mode\\n\\t\\t\\t-> linearization_mode\\n\\t\\t|_ Sellar_Problem\\n\\t\\t\\t-> cache_file_path\\n\\t\\t\\t-> cache_type\\n\\t\\t\\t-> debug_mode\\n\\t\\t\\t-> linearization_mode\\n\\t\\t\\t-> local_dv'"
      ]
     },
     "execution_count": 12,
     "metadata": {},
     "output_type": "execute_result"
    }
   ],
   "source": [
    "exec_eng.display_treeview_nodes(True)"
   ]
  },
  {
   "cell_type": "code",
   "execution_count": 13,
   "id": "d4cd4c8a",
   "metadata": {},
   "outputs": [
    {
     "data": {
      "text/plain": [
       "'MDAJacobi'"
      ]
     },
     "execution_count": 13,
     "metadata": {},
     "output_type": "execute_result"
    }
   ],
   "source": [
    "exec_eng.dm.get_data('doe.sub_mda_class')['value']"
   ]
  },
  {
   "cell_type": "markdown",
   "id": "2e0afe56",
   "metadata": {},
   "source": [
    "Possible algo options:"
   ]
  },
  {
   "cell_type": "code",
   "execution_count": 14,
   "id": "a5efd6cd",
   "metadata": {},
   "outputs": [
    {
     "name": "stdout",
     "output_type": "stream",
     "text": [
      "['doe_file', 'samples', 'delimiter', 'comments', 'skiprows', 'eval_jac', 'n_processes', 'max_time', 'wait_time_between_samples']\n"
     ]
    }
   ],
   "source": [
    "from gemseo.algos.doe.doe_factory import DOEFactory\n",
    "driver_lib = DOEFactory().create(my_doe_algo)\n",
    "driver_lib.init_options_grammar(my_doe_algo)\n",
    "algo_options_keys = list(driver_lib.opt_grammar.properties_dict.keys())\n",
    "print(algo_options_keys)"
   ]
  },
  {
   "cell_type": "code",
   "execution_count": 15,
   "id": "dc855073",
   "metadata": {},
   "outputs": [
    {
     "data": {
      "text/plain": [
       "['doe_file',\n",
       " 'samples',\n",
       " 'delimiter',\n",
       " 'comments',\n",
       " 'skiprows',\n",
       " 'eval_jac',\n",
       " 'n_processes',\n",
       " 'max_time',\n",
       " 'wait_time_between_samples']"
      ]
     },
     "execution_count": 15,
     "metadata": {},
     "output_type": "execute_result"
    }
   ],
   "source": [
    "schema_dict = driver_lib.opt_grammar.schema.to_dict()\n",
    "properties = schema_dict.get(driver_lib.opt_grammar.PROPERTIES_FIELD)\n",
    "algo_options_keys = list(properties.keys()) \n",
    "algo_options_keys"
   ]
  },
  {
   "cell_type": "code",
   "execution_count": 16,
   "id": "acbce52b",
   "metadata": {},
   "outputs": [
    {
     "data": {
      "text/html": [
       "<div>\n",
       "<style scoped>\n",
       "    .dataframe tbody tr th:only-of-type {\n",
       "        vertical-align: middle;\n",
       "    }\n",
       "\n",
       "    .dataframe tbody tr th {\n",
       "        vertical-align: top;\n",
       "    }\n",
       "\n",
       "    .dataframe thead th {\n",
       "        text-align: right;\n",
       "    }\n",
       "</style>\n",
       "<table border=\"1\" class=\"dataframe\">\n",
       "  <thead>\n",
       "    <tr style=\"text-align: right;\">\n",
       "      <th></th>\n",
       "      <th>x</th>\n",
       "      <th>z</th>\n",
       "    </tr>\n",
       "  </thead>\n",
       "  <tbody>\n",
       "    <tr>\n",
       "      <th>0</th>\n",
       "      <td>9.379764</td>\n",
       "      <td>[1.515949043849158, 5.6317362409322165]</td>\n",
       "    </tr>\n",
       "    <tr>\n",
       "      <th>1</th>\n",
       "      <td>8.886448</td>\n",
       "      <td>[-1.1962705421254114, 6.523436208612142]</td>\n",
       "    </tr>\n",
       "    <tr>\n",
       "      <th>2</th>\n",
       "      <td>3.713714</td>\n",
       "      <td>[-1.9947578026244557, 4.822570933860785]</td>\n",
       "    </tr>\n",
       "    <tr>\n",
       "      <th>3</th>\n",
       "      <td>0.041702</td>\n",
       "      <td>[1.7490668861813, 3.617234050834533]</td>\n",
       "    </tr>\n",
       "    <tr>\n",
       "      <th>4</th>\n",
       "      <td>6.954955</td>\n",
       "      <td>[-9.316161097119341, 9.918161285133076]</td>\n",
       "    </tr>\n",
       "  </tbody>\n",
       "</table>\n",
       "</div>"
      ],
      "text/plain": [
       "          x                                         z\n",
       "0  9.379764   [1.515949043849158, 5.6317362409322165]\n",
       "1  8.886448  [-1.1962705421254114, 6.523436208612142]\n",
       "2  3.713714  [-1.9947578026244557, 4.822570933860785]\n",
       "3  0.041702      [1.7490668861813, 3.617234050834533]\n",
       "4  6.954955   [-9.316161097119341, 9.918161285133076]"
      ]
     },
     "execution_count": 16,
     "metadata": {},
     "output_type": "execute_result"
    }
   ],
   "source": [
    "x_values = [9.379763880395856, 8.88644794300546, 3.7137135749628882, 0.0417022004702574, 6.954954792150857]\n",
    "z_values = [array([1.515949043849158, 5.6317362409322165]),\n",
    "            array([-1.1962705421254114, 6.523436208612142]),\n",
    "            array([-1.9947578026244557, 4.822570933860785]), array([1.7490668861813, 3.617234050834533]),\n",
    "            array([-9.316161097119341, 9.918161285133076])]\n",
    "\n",
    "samples_dict = {'x': x_values, 'z': z_values}\n",
    "samples_df = pd.DataFrame(samples_dict)\n",
    "samples_df"
   ]
  },
  {
   "cell_type": "code",
   "execution_count": 17,
   "id": "658c1cf7",
   "metadata": {},
   "outputs": [
    {
     "data": {
      "text/plain": [
       "{'doe.DoEEval.sampling_algo': 'CustomDOE',\n",
       " 'doe.DoEEval.algo_options': {'levels': -1},\n",
       " 'doe.DoEEval.eval_inputs':    selected_input                        full_name\n",
       " 0           False  DoEEval.Sellar_Problem.local_dv\n",
       " 1            True                                x\n",
       " 2           False                              y_1\n",
       " 3           False                              y_2\n",
       " 4            True                                z,\n",
       " 'doe.DoEEval.eval_outputs':    selected_output full_name\n",
       " 0            False       c_1\n",
       " 1            False       c_2\n",
       " 2             True       obj\n",
       " 3             True       y_1\n",
       " 4             True       y_2,\n",
       " 'doe.DoEEval.custom_samples_df':           x                                         z\n",
       " 0  9.379764   [1.515949043849158, 5.6317362409322165]\n",
       " 1  8.886448  [-1.1962705421254114, 6.523436208612142]\n",
       " 2  3.713714  [-1.9947578026244557, 4.822570933860785]\n",
       " 3  0.041702      [1.7490668861813, 3.617234050834533]\n",
       " 4  6.954955   [-9.316161097119341, 9.918161285133076]}"
      ]
     },
     "execution_count": 17,
     "metadata": {},
     "output_type": "execute_result"
    }
   ],
   "source": [
    "#-- set up disciplines in Scenario\n",
    "disc_dict = {}\n",
    "# Doe inputs\n",
    "\n",
    "disc_dict[f'{ns}.DoEEval.sampling_algo'] = my_doe_algo\n",
    "disc_dict[f'{ns}.DoEEval.algo_options'] = {'levels': -1}\n",
    "\n",
    "disc_dict[f'{ns}.DoEEval.eval_inputs'] = input_selection_x_z\n",
    "disc_dict[f'{ns}.DoEEval.eval_outputs'] = output_selection_obj_y1_y2\n",
    "disc_dict[f'{ns}.DoEEval.custom_samples_df'] = samples_df\n",
    "\n",
    "disc_dict"
   ]
  },
  {
   "cell_type": "code",
   "execution_count": 18,
   "id": "c782484c",
   "metadata": {},
   "outputs": [
    {
     "data": {
      "text/html": [
       "<div>\n",
       "<style scoped>\n",
       "    .dataframe tbody tr th:only-of-type {\n",
       "        vertical-align: middle;\n",
       "    }\n",
       "\n",
       "    .dataframe tbody tr th {\n",
       "        vertical-align: top;\n",
       "    }\n",
       "\n",
       "    .dataframe thead th {\n",
       "        text-align: right;\n",
       "    }\n",
       "</style>\n",
       "<table border=\"1\" class=\"dataframe\">\n",
       "  <thead>\n",
       "    <tr style=\"text-align: right;\">\n",
       "      <th></th>\n",
       "      <th>0</th>\n",
       "    </tr>\n",
       "  </thead>\n",
       "  <tbody>\n",
       "    <tr>\n",
       "      <th>doe.DoEEval.sampling_algo</th>\n",
       "      <td>CustomDOE</td>\n",
       "    </tr>\n",
       "    <tr>\n",
       "      <th>doe.DoEEval.algo_options</th>\n",
       "      <td>{'levels': -1}</td>\n",
       "    </tr>\n",
       "    <tr>\n",
       "      <th>doe.DoEEval.eval_inputs</th>\n",
       "      <td>selected_input                        full_...</td>\n",
       "    </tr>\n",
       "    <tr>\n",
       "      <th>doe.DoEEval.eval_outputs</th>\n",
       "      <td>selected_output full_name\n",
       "0            Fals...</td>\n",
       "    </tr>\n",
       "    <tr>\n",
       "      <th>doe.DoEEval.custom_samples_df</th>\n",
       "      <td>x                                   ...</td>\n",
       "    </tr>\n",
       "  </tbody>\n",
       "</table>\n",
       "</div>"
      ],
      "text/plain": [
       "                                                                               0\n",
       "doe.DoEEval.sampling_algo                                              CustomDOE\n",
       "doe.DoEEval.algo_options                                          {'levels': -1}\n",
       "doe.DoEEval.eval_inputs           selected_input                        full_...\n",
       "doe.DoEEval.eval_outputs          selected_output full_name\n",
       "0            Fals...\n",
       "doe.DoEEval.custom_samples_df            x                                   ..."
      ]
     },
     "execution_count": 18,
     "metadata": {},
     "output_type": "execute_result"
    }
   ],
   "source": [
    "#my_dict = exec_eng.get_anonimated_data_dict()\n",
    "pd.DataFrame.from_dict(disc_dict,orient='index')"
   ]
  },
  {
   "cell_type": "code",
   "execution_count": 19,
   "id": "20e79291",
   "metadata": {},
   "outputs": [
    {
     "name": "stderr",
     "output_type": "stream",
     "text": [
      "INFO:SoS.EE:configuring ...\n",
      "INFO:SoS.EE.Coupling:The MDA solver of the Coupling doe.DoEEval is set to MDAJacobi\n",
      "INFO:SoS.EE:configuring ...\n",
      "INFO:SoS.EE.Coupling:The MDA solver of the Coupling doe.DoEEval is set to MDAJacobi\n",
      "INFO:SoS.EE:configuring ...\n",
      "INFO:SoS.EE:configuring ...\n",
      "WARNING:gemseo.mda.mda_chain:No coupling in MDA, switching chain_linearize to True\n",
      "INFO:SoS.EE.Coupling:The MDA solver of the Coupling doe is set to MDAJacobi\n",
      "ERROR:SoS.EE.DataManager:Variable: doe.x value is not set!\n",
      "ERROR:SoS.EE.DataManager:Variable: doe.z value is not set!\n",
      "ERROR:SoS.EE.DataManager:Variable: doe.DoEEval.Sellar_Problem.local_dv value is not set!\n"
     ]
    }
   ],
   "source": [
    "#exec_eng.dm.set_values_from_dict(disc_dict) #KO!\n",
    "exec_eng.load_study_from_input_dict(disc_dict)"
   ]
  },
  {
   "cell_type": "markdown",
   "id": "3d091459",
   "metadata": {},
   "source": [
    "# 2 Display Disciplines I/O variables"
   ]
  },
  {
   "cell_type": "code",
   "execution_count": 20,
   "id": "8add250d",
   "metadata": {},
   "outputs": [],
   "source": [
    "sellar1 = exec_eng.dm.get_disciplines_with_name(\"doe.\" + \"DoEEval.Sellar_1\")[0]"
   ]
  },
  {
   "cell_type": "code",
   "execution_count": 21,
   "id": "0463f5e9",
   "metadata": {},
   "outputs": [
    {
     "data": {
      "text/plain": [
       "sos_trades_core.sos_wrapping.test_discs.sellar.Sellar1"
      ]
     },
     "execution_count": 21,
     "metadata": {},
     "output_type": "execute_result"
    }
   ],
   "source": [
    "type(sellar1)"
   ]
  },
  {
   "cell_type": "code",
   "execution_count": 22,
   "id": "173e9156",
   "metadata": {},
   "outputs": [],
   "source": [
    "DESC_IN = sellar1.DESC_IN\n",
    "DESC_OUT = sellar1.DESC_OUT\n",
    "DESC_IN_df = pd.DataFrame.from_dict(DESC_IN,orient='index')\n",
    "DESC_OUT_df = pd.DataFrame.from_dict(DESC_OUT,orient='index')"
   ]
  },
  {
   "cell_type": "code",
   "execution_count": 23,
   "id": "b503c7fa",
   "metadata": {},
   "outputs": [
    {
     "data": {
      "text/html": [
       "<div>\n",
       "<style scoped>\n",
       "    .dataframe tbody tr th:only-of-type {\n",
       "        vertical-align: middle;\n",
       "    }\n",
       "\n",
       "    .dataframe tbody tr th {\n",
       "        vertical-align: top;\n",
       "    }\n",
       "\n",
       "    .dataframe thead th {\n",
       "        text-align: right;\n",
       "    }\n",
       "</style>\n",
       "<table border=\"1\" class=\"dataframe\">\n",
       "  <thead>\n",
       "    <tr style=\"text-align: right;\">\n",
       "      <th></th>\n",
       "      <th>type</th>\n",
       "      <th>visibility</th>\n",
       "      <th>namespace</th>\n",
       "    </tr>\n",
       "  </thead>\n",
       "  <tbody>\n",
       "    <tr>\n",
       "      <th>x</th>\n",
       "      <td>float</td>\n",
       "      <td>Shared</td>\n",
       "      <td>ns_OptimSellar</td>\n",
       "    </tr>\n",
       "    <tr>\n",
       "      <th>y_2</th>\n",
       "      <td>float</td>\n",
       "      <td>Shared</td>\n",
       "      <td>ns_OptimSellar</td>\n",
       "    </tr>\n",
       "    <tr>\n",
       "      <th>z</th>\n",
       "      <td>array</td>\n",
       "      <td>Shared</td>\n",
       "      <td>ns_OptimSellar</td>\n",
       "    </tr>\n",
       "  </tbody>\n",
       "</table>\n",
       "</div>"
      ],
      "text/plain": [
       "      type visibility       namespace\n",
       "x    float     Shared  ns_OptimSellar\n",
       "y_2  float     Shared  ns_OptimSellar\n",
       "z    array     Shared  ns_OptimSellar"
      ]
     },
     "execution_count": 23,
     "metadata": {},
     "output_type": "execute_result"
    }
   ],
   "source": [
    "DESC_IN_df"
   ]
  },
  {
   "cell_type": "code",
   "execution_count": 24,
   "id": "4f63fa85",
   "metadata": {},
   "outputs": [
    {
     "data": {
      "text/html": [
       "<div>\n",
       "<style scoped>\n",
       "    .dataframe tbody tr th:only-of-type {\n",
       "        vertical-align: middle;\n",
       "    }\n",
       "\n",
       "    .dataframe tbody tr th {\n",
       "        vertical-align: top;\n",
       "    }\n",
       "\n",
       "    .dataframe thead th {\n",
       "        text-align: right;\n",
       "    }\n",
       "</style>\n",
       "<table border=\"1\" class=\"dataframe\">\n",
       "  <thead>\n",
       "    <tr style=\"text-align: right;\">\n",
       "      <th></th>\n",
       "      <th>type</th>\n",
       "      <th>visibility</th>\n",
       "      <th>namespace</th>\n",
       "    </tr>\n",
       "  </thead>\n",
       "  <tbody>\n",
       "    <tr>\n",
       "      <th>y_1</th>\n",
       "      <td>float</td>\n",
       "      <td>Shared</td>\n",
       "      <td>ns_OptimSellar</td>\n",
       "    </tr>\n",
       "    <tr>\n",
       "      <th>y_1_bis</th>\n",
       "      <td>float</td>\n",
       "      <td>Shared</td>\n",
       "      <td>ns_OptimSellar</td>\n",
       "    </tr>\n",
       "  </tbody>\n",
       "</table>\n",
       "</div>"
      ],
      "text/plain": [
       "          type visibility       namespace\n",
       "y_1      float     Shared  ns_OptimSellar\n",
       "y_1_bis  float     Shared  ns_OptimSellar"
      ]
     },
     "execution_count": 24,
     "metadata": {},
     "output_type": "execute_result"
    }
   ],
   "source": [
    "DESC_OUT_df"
   ]
  },
  {
   "cell_type": "code",
   "execution_count": 25,
   "id": "a24b0116",
   "metadata": {},
   "outputs": [],
   "source": [
    "sellar2 = exec_eng.dm.get_disciplines_with_name(\"doe.\" + \"DoEEval.Sellar_2\")[0]"
   ]
  },
  {
   "cell_type": "code",
   "execution_count": 26,
   "id": "6e49bd6a",
   "metadata": {},
   "outputs": [],
   "source": [
    "DESC_IN = sellar2.DESC_IN\n",
    "DESC_OUT = sellar2.DESC_OUT\n",
    "DESC_IN_df = pd.DataFrame.from_dict(DESC_IN,orient='index')\n",
    "DESC_OUT_df = pd.DataFrame.from_dict(DESC_OUT,orient='index')"
   ]
  },
  {
   "cell_type": "code",
   "execution_count": 27,
   "id": "bd9e607a",
   "metadata": {},
   "outputs": [
    {
     "data": {
      "text/html": [
       "<div>\n",
       "<style scoped>\n",
       "    .dataframe tbody tr th:only-of-type {\n",
       "        vertical-align: middle;\n",
       "    }\n",
       "\n",
       "    .dataframe tbody tr th {\n",
       "        vertical-align: top;\n",
       "    }\n",
       "\n",
       "    .dataframe thead th {\n",
       "        text-align: right;\n",
       "    }\n",
       "</style>\n",
       "<table border=\"1\" class=\"dataframe\">\n",
       "  <thead>\n",
       "    <tr style=\"text-align: right;\">\n",
       "      <th></th>\n",
       "      <th>type</th>\n",
       "      <th>visibility</th>\n",
       "      <th>namespace</th>\n",
       "      <th>default</th>\n",
       "    </tr>\n",
       "  </thead>\n",
       "  <tbody>\n",
       "    <tr>\n",
       "      <th>y_1</th>\n",
       "      <td>float</td>\n",
       "      <td>Shared</td>\n",
       "      <td>ns_OptimSellar</td>\n",
       "      <td>NaN</td>\n",
       "    </tr>\n",
       "    <tr>\n",
       "      <th>z</th>\n",
       "      <td>array</td>\n",
       "      <td>Shared</td>\n",
       "      <td>ns_OptimSellar</td>\n",
       "      <td>NaN</td>\n",
       "    </tr>\n",
       "    <tr>\n",
       "      <th>debug_mode_sellar</th>\n",
       "      <td>bool</td>\n",
       "      <td>Shared</td>\n",
       "      <td>ns_OptimSellar</td>\n",
       "      <td>False</td>\n",
       "    </tr>\n",
       "  </tbody>\n",
       "</table>\n",
       "</div>"
      ],
      "text/plain": [
       "                    type visibility       namespace default\n",
       "y_1                float     Shared  ns_OptimSellar     NaN\n",
       "z                  array     Shared  ns_OptimSellar     NaN\n",
       "debug_mode_sellar   bool     Shared  ns_OptimSellar   False"
      ]
     },
     "execution_count": 27,
     "metadata": {},
     "output_type": "execute_result"
    }
   ],
   "source": [
    "DESC_IN_df"
   ]
  },
  {
   "cell_type": "code",
   "execution_count": 28,
   "id": "848a5e1b",
   "metadata": {},
   "outputs": [
    {
     "data": {
      "text/html": [
       "<div>\n",
       "<style scoped>\n",
       "    .dataframe tbody tr th:only-of-type {\n",
       "        vertical-align: middle;\n",
       "    }\n",
       "\n",
       "    .dataframe tbody tr th {\n",
       "        vertical-align: top;\n",
       "    }\n",
       "\n",
       "    .dataframe thead th {\n",
       "        text-align: right;\n",
       "    }\n",
       "</style>\n",
       "<table border=\"1\" class=\"dataframe\">\n",
       "  <thead>\n",
       "    <tr style=\"text-align: right;\">\n",
       "      <th></th>\n",
       "      <th>type</th>\n",
       "      <th>visibility</th>\n",
       "      <th>namespace</th>\n",
       "    </tr>\n",
       "  </thead>\n",
       "  <tbody>\n",
       "    <tr>\n",
       "      <th>y_2</th>\n",
       "      <td>float</td>\n",
       "      <td>Shared</td>\n",
       "      <td>ns_OptimSellar</td>\n",
       "    </tr>\n",
       "    <tr>\n",
       "      <th>y_2_bis</th>\n",
       "      <td>float</td>\n",
       "      <td>Shared</td>\n",
       "      <td>ns_OptimSellar</td>\n",
       "    </tr>\n",
       "  </tbody>\n",
       "</table>\n",
       "</div>"
      ],
      "text/plain": [
       "          type visibility       namespace\n",
       "y_2      float     Shared  ns_OptimSellar\n",
       "y_2_bis  float     Shared  ns_OptimSellar"
      ]
     },
     "execution_count": 28,
     "metadata": {},
     "output_type": "execute_result"
    }
   ],
   "source": [
    "DESC_OUT_df"
   ]
  },
  {
   "cell_type": "code",
   "execution_count": 29,
   "id": "f4cbb66c",
   "metadata": {},
   "outputs": [],
   "source": [
    "sellarP = exec_eng.dm.get_disciplines_with_name(\"doe.\" + \"DoEEval.Sellar_Problem\")[0]"
   ]
  },
  {
   "cell_type": "code",
   "execution_count": 30,
   "id": "18d0f88d",
   "metadata": {},
   "outputs": [],
   "source": [
    "DESC_IN = sellarP.DESC_IN\n",
    "DESC_OUT = sellarP.DESC_OUT\n",
    "DESC_IN_df = pd.DataFrame.from_dict(DESC_IN,orient='index')\n",
    "DESC_OUT_df = pd.DataFrame.from_dict(DESC_OUT,orient='index')"
   ]
  },
  {
   "cell_type": "code",
   "execution_count": 31,
   "id": "6d00f9e0",
   "metadata": {},
   "outputs": [
    {
     "data": {
      "text/html": [
       "<div>\n",
       "<style scoped>\n",
       "    .dataframe tbody tr th:only-of-type {\n",
       "        vertical-align: middle;\n",
       "    }\n",
       "\n",
       "    .dataframe tbody tr th {\n",
       "        vertical-align: top;\n",
       "    }\n",
       "\n",
       "    .dataframe thead th {\n",
       "        text-align: right;\n",
       "    }\n",
       "</style>\n",
       "<table border=\"1\" class=\"dataframe\">\n",
       "  <thead>\n",
       "    <tr style=\"text-align: right;\">\n",
       "      <th></th>\n",
       "      <th>type</th>\n",
       "      <th>visibility</th>\n",
       "      <th>namespace</th>\n",
       "    </tr>\n",
       "  </thead>\n",
       "  <tbody>\n",
       "    <tr>\n",
       "      <th>x</th>\n",
       "      <td>float</td>\n",
       "      <td>Shared</td>\n",
       "      <td>ns_OptimSellar</td>\n",
       "    </tr>\n",
       "    <tr>\n",
       "      <th>y_1</th>\n",
       "      <td>float</td>\n",
       "      <td>Shared</td>\n",
       "      <td>ns_OptimSellar</td>\n",
       "    </tr>\n",
       "    <tr>\n",
       "      <th>y_2</th>\n",
       "      <td>float</td>\n",
       "      <td>Shared</td>\n",
       "      <td>ns_OptimSellar</td>\n",
       "    </tr>\n",
       "    <tr>\n",
       "      <th>z</th>\n",
       "      <td>array</td>\n",
       "      <td>Shared</td>\n",
       "      <td>ns_OptimSellar</td>\n",
       "    </tr>\n",
       "    <tr>\n",
       "      <th>local_dv</th>\n",
       "      <td>float</td>\n",
       "      <td>NaN</td>\n",
       "      <td>NaN</td>\n",
       "    </tr>\n",
       "  </tbody>\n",
       "</table>\n",
       "</div>"
      ],
      "text/plain": [
       "           type visibility       namespace\n",
       "x         float     Shared  ns_OptimSellar\n",
       "y_1       float     Shared  ns_OptimSellar\n",
       "y_2       float     Shared  ns_OptimSellar\n",
       "z         array     Shared  ns_OptimSellar\n",
       "local_dv  float        NaN             NaN"
      ]
     },
     "execution_count": 31,
     "metadata": {},
     "output_type": "execute_result"
    }
   ],
   "source": [
    "DESC_IN_df"
   ]
  },
  {
   "cell_type": "code",
   "execution_count": 32,
   "id": "f65e0dc0",
   "metadata": {
    "scrolled": false
   },
   "outputs": [
    {
     "data": {
      "text/html": [
       "<div>\n",
       "<style scoped>\n",
       "    .dataframe tbody tr th:only-of-type {\n",
       "        vertical-align: middle;\n",
       "    }\n",
       "\n",
       "    .dataframe tbody tr th {\n",
       "        vertical-align: top;\n",
       "    }\n",
       "\n",
       "    .dataframe thead th {\n",
       "        text-align: right;\n",
       "    }\n",
       "</style>\n",
       "<table border=\"1\" class=\"dataframe\">\n",
       "  <thead>\n",
       "    <tr style=\"text-align: right;\">\n",
       "      <th></th>\n",
       "      <th>type</th>\n",
       "      <th>visibility</th>\n",
       "      <th>namespace</th>\n",
       "    </tr>\n",
       "  </thead>\n",
       "  <tbody>\n",
       "    <tr>\n",
       "      <th>c_1</th>\n",
       "      <td>array</td>\n",
       "      <td>Shared</td>\n",
       "      <td>ns_OptimSellar</td>\n",
       "    </tr>\n",
       "    <tr>\n",
       "      <th>c_2</th>\n",
       "      <td>array</td>\n",
       "      <td>Shared</td>\n",
       "      <td>ns_OptimSellar</td>\n",
       "    </tr>\n",
       "    <tr>\n",
       "      <th>obj</th>\n",
       "      <td>array</td>\n",
       "      <td>Shared</td>\n",
       "      <td>ns_OptimSellar</td>\n",
       "    </tr>\n",
       "  </tbody>\n",
       "</table>\n",
       "</div>"
      ],
      "text/plain": [
       "      type visibility       namespace\n",
       "c_1  array     Shared  ns_OptimSellar\n",
       "c_2  array     Shared  ns_OptimSellar\n",
       "obj  array     Shared  ns_OptimSellar"
      ]
     },
     "execution_count": 32,
     "metadata": {},
     "output_type": "execute_result"
    }
   ],
   "source": [
    "DESC_OUT_df"
   ]
  },
  {
   "cell_type": "code",
   "execution_count": null,
   "id": "ce1f2890",
   "metadata": {},
   "outputs": [],
   "source": []
  },
  {
   "cell_type": "markdown",
   "id": "3d46d809",
   "metadata": {},
   "source": [
    "# 3 Provide Discipline inputs"
   ]
  },
  {
   "cell_type": "code",
   "execution_count": 33,
   "id": "d3c4d21e",
   "metadata": {},
   "outputs": [
    {
     "data": {
      "text/html": [
       "<div>\n",
       "<style scoped>\n",
       "    .dataframe tbody tr th:only-of-type {\n",
       "        vertical-align: middle;\n",
       "    }\n",
       "\n",
       "    .dataframe tbody tr th {\n",
       "        vertical-align: top;\n",
       "    }\n",
       "\n",
       "    .dataframe thead th {\n",
       "        text-align: right;\n",
       "    }\n",
       "</style>\n",
       "<table border=\"1\" class=\"dataframe\">\n",
       "  <thead>\n",
       "    <tr style=\"text-align: right;\">\n",
       "      <th></th>\n",
       "      <th>0</th>\n",
       "    </tr>\n",
       "  </thead>\n",
       "  <tbody>\n",
       "    <tr>\n",
       "      <th>doe.x</th>\n",
       "      <td>1.0</td>\n",
       "    </tr>\n",
       "    <tr>\n",
       "      <th>doe.y_1</th>\n",
       "      <td>1.0</td>\n",
       "    </tr>\n",
       "    <tr>\n",
       "      <th>doe.y_2</th>\n",
       "      <td>1.0</td>\n",
       "    </tr>\n",
       "    <tr>\n",
       "      <th>doe.z</th>\n",
       "      <td>[1.0, 1.0]</td>\n",
       "    </tr>\n",
       "    <tr>\n",
       "      <th>doe.DoEEval.Sellar_Problem.local_dv</th>\n",
       "      <td>10.0</td>\n",
       "    </tr>\n",
       "  </tbody>\n",
       "</table>\n",
       "</div>"
      ],
      "text/plain": [
       "                                              0\n",
       "doe.x                                       1.0\n",
       "doe.y_1                                     1.0\n",
       "doe.y_2                                     1.0\n",
       "doe.z                                [1.0, 1.0]\n",
       "doe.DoEEval.Sellar_Problem.local_dv        10.0"
      ]
     },
     "execution_count": 33,
     "metadata": {},
     "output_type": "execute_result"
    }
   ],
   "source": [
    "# Sellar inputs\n",
    "local_dv = 10.\n",
    "values_dict = {}\n",
    "values_dict[f'{ns}.x'] = 1.  \n",
    "values_dict[f'{ns}.y_1'] = 1. \n",
    "values_dict[f'{ns}.y_2'] = 1. \n",
    "values_dict[f'{ns}.z'] = array([1., 1.])\n",
    "values_dict[f'{ns}.{sc_name}.Sellar_Problem.local_dv'] = local_dv\n",
    "#values_dict[f'{ns}.cache_type'] = 'MemoryFullCache'  # KO !!!\n",
    "#values_dict[f'{ns}.{sc_name}.cache_type'] = 'MemoryFullCache' #OK but remain SimpleCache\n",
    "#values_dict[f'{ns}.{sc_name}.Sellar_1.cache_type'] = 'MemoryFullCache'\n",
    "#values_dict[f'{ns}.{sc_name}.Sellar_2.cache_type'] = 'MemoryFullCache'\n",
    "#values_dict[f'{ns}.{sc_name}.Sellar_Problem.cache_type'] = 'MemoryFullCache'  # KO !!! Problem with local_dv (the variable that is not shared)\n",
    "\n",
    "values_dict\n",
    "#my_dict = exec_eng.get_anonimated_data_dict()\n",
    "pd.DataFrame.from_dict(values_dict,orient='index')"
   ]
  },
  {
   "cell_type": "code",
   "execution_count": 34,
   "id": "5cc45bae",
   "metadata": {},
   "outputs": [
    {
     "name": "stderr",
     "output_type": "stream",
     "text": [
      "INFO:SoS.EE:configuring ...\n",
      "WARNING:gemseo.mda.mda_chain:No coupling in MDA, switching chain_linearize to True\n",
      "INFO:SoS.EE.Coupling:The MDA solver of the Coupling doe is set to MDAJacobi\n",
      "INFO:SoS.EE:configuring ...\n",
      "WARNING:gemseo.mda.mda_chain:No coupling in MDA, switching chain_linearize to True\n",
      "INFO:SoS.EE.Coupling:The MDA solver of the Coupling doe is set to MDAJacobi\n"
     ]
    }
   ],
   "source": [
    "#exec_eng.dm.set_values_from_dict(values_dict)\n",
    "exec_eng.load_study_from_input_dict(values_dict)\n",
    "exec_eng.configure()"
   ]
  },
  {
   "cell_type": "markdown",
   "id": "a6bde00c",
   "metadata": {},
   "source": [
    "# 4 Run Doe scenario"
   ]
  },
  {
   "cell_type": "code",
   "execution_count": 35,
   "id": "d14d1e0f",
   "metadata": {
    "scrolled": true
   },
   "outputs": [
    {
     "name": "stderr",
     "output_type": "stream",
     "text": [
      "INFO:SoS.EE:PROCESS EXECUTION doe STARTS...\n",
      "INFO:SoS.EE.DOE:running sos eval in sequential\n",
      "  0%|                                                                         | 0/5 [00:00<?, ?it/s]INFO:SoS.EE.DOE:   Scenario_1 is running.\n",
      "INFO:SoS.EE:configuring ...\n",
      "WARNING:gemseo.mda.mda_chain:No coupling in MDA, switching chain_linearize to True\n",
      "INFO:SoS.EE.Coupling:The MDA solver of the Coupling doe is set to MDAJacobi\n",
      "INFO:SoS.EE.Coupling:doe.DoEEval MDA history\n",
      "INFO:SoS.EE.Coupling:\tIt.\tRes. norm\n",
      "INFO:gemseo.mda.mda:\t1\t1.246212e+07\n",
      "INFO:gemseo.mda.mda:\t2\t2.437255e+06\n",
      "INFO:gemseo.mda.mda:\t3\t4.667075e+05\n",
      "INFO:gemseo.mda.mda:\t4\t2.766021e+04\n",
      "INFO:gemseo.mda.mda:\t5\t5.239659e+01\n",
      "INFO:gemseo.mda.mda:\t6\t1.659148e-04\n",
      "INFO:gemseo.mda.mda:\t7\t1.776357e-09\n",
      " 20%|█████████████                                                    | 1/5 [00:00<00:02,  1.82it/s]INFO:SoS.EE.DOE:   Scenario_2 is running.\n",
      "INFO:SoS.EE:configuring ...\n",
      "WARNING:gemseo.mda.mda_chain:No coupling in MDA, switching chain_linearize to True\n",
      "INFO:SoS.EE.Coupling:The MDA solver of the Coupling doe is set to MDAJacobi\n",
      "INFO:SoS.EE.Coupling:doe.DoEEval MDA history\n",
      "INFO:SoS.EE.Coupling:\tIt.\tRes. norm\n",
      "INFO:gemseo.mda.mda:\t1\t1.329272e+06\n",
      "INFO:gemseo.mda.mda:\t2\t2.610219e+05\n",
      "INFO:gemseo.mda.mda:\t3\t3.649015e+04\n",
      "INFO:gemseo.mda.mda:\t4\t9.890743e+00\n",
      "INFO:gemseo.mda.mda:\t5\t4.955802e-03\n",
      "INFO:gemseo.mda.mda:\t6\t1.776357e-09\n",
      " 40%|██████████████████████████                                       | 2/5 [00:01<00:01,  1.83it/s]INFO:SoS.EE.DOE:   Scenario_3 is running.\n",
      "INFO:SoS.EE:configuring ...\n",
      "WARNING:gemseo.mda.mda_chain:No coupling in MDA, switching chain_linearize to True\n",
      "INFO:SoS.EE.Coupling:The MDA solver of the Coupling doe is set to MDAJacobi\n",
      "INFO:SoS.EE.Coupling:doe.DoEEval MDA history\n",
      "INFO:SoS.EE.Coupling:\tIt.\tRes. norm\n",
      "INFO:gemseo.mda.mda:\t1\t3.532536e+06\n",
      "INFO:gemseo.mda.mda:\t2\t5.553626e+05\n",
      "INFO:gemseo.mda.mda:\t3\t1.029968e+05\n",
      "INFO:gemseo.mda.mda:\t4\t7.765225e+02\n",
      "INFO:gemseo.mda.mda:\t5\t1.064726e+00\n",
      "INFO:gemseo.mda.mda:\t6\t1.457046e-07\n",
      " 60%|███████████████████████████████████████                          | 3/5 [00:01<00:01,  1.83it/s]INFO:SoS.EE.DOE:   Scenario_4 is running.\n",
      "INFO:SoS.EE:configuring ...\n",
      "WARNING:gemseo.mda.mda_chain:No coupling in MDA, switching chain_linearize to True\n",
      "INFO:SoS.EE.Coupling:The MDA solver of the Coupling doe is set to MDAJacobi\n",
      "INFO:SoS.EE.Coupling:doe.DoEEval MDA history\n",
      "INFO:SoS.EE.Coupling:\tIt.\tRes. norm\n",
      "INFO:gemseo.mda.mda:\t1\t4.474993e+06\n",
      "INFO:gemseo.mda.mda:\t2\t8.038495e+05\n",
      "INFO:gemseo.mda.mda:\t3\t1.618348e+05\n",
      "INFO:gemseo.mda.mda:\t4\t6.808146e+03\n",
      "INFO:gemseo.mda.mda:\t5\t1.015193e+01\n",
      "INFO:gemseo.mda.mda:\t6\t3.793281e-05\n",
      "INFO:gemseo.mda.mda:\t7\t0.000000e+00\n",
      " 80%|████████████████████████████████████████████████████             | 4/5 [00:02<00:00,  1.82it/s]INFO:SoS.EE.DOE:   Scenario_5 is running.\n",
      "INFO:SoS.EE:configuring ...\n",
      "WARNING:gemseo.mda.mda_chain:No coupling in MDA, switching chain_linearize to True\n",
      "INFO:SoS.EE.Coupling:The MDA solver of the Coupling doe is set to MDAJacobi\n",
      "INFO:SoS.EE.Coupling:doe.DoEEval MDA history\n",
      "INFO:SoS.EE.Coupling:\tIt.\tRes. norm\n",
      "INFO:gemseo.mda.mda:\t1\t6.863376e+07\n",
      "INFO:gemseo.mda.mda:\t2\t5.576219e+06\n",
      "INFO:gemseo.mda.mda:\t3\t1.106355e+06\n",
      "INFO:gemseo.mda.mda:\t4\t3.391282e+04\n",
      "INFO:gemseo.mda.mda:\t5\t9.699406e-01\n",
      "INFO:gemseo.mda.mda:\t6\t2.235812e-07\n",
      "100%|█████████████████████████████████████████████████████████████████| 5/5 [00:02<00:00,  1.82it/s]\n",
      "C:\\Users\\ng947ac\\Documents\\Daniel\\git\\workspace\\sostrades-core\\sos_trades_core\\tools\\conversion\\conversion_sostrades_sosgemseo.py:100: ComplexWarning: Casting complex values to real discards the imaginary part\n",
      "  to_update[_key] = _type(_val)\n",
      "INFO:SoS.EE:PROCESS EXECUTION doe ENDS.\n"
     ]
    }
   ],
   "source": [
    "res = exec_eng.execute()\n",
    "# res is without interest (return not the expected values but probably default values ) !"
   ]
  },
  {
   "cell_type": "code",
   "execution_count": null,
   "id": "6001c775",
   "metadata": {},
   "outputs": [],
   "source": []
  },
  {
   "cell_type": "code",
   "execution_count": null,
   "id": "f95ebaae",
   "metadata": {},
   "outputs": [],
   "source": []
  },
  {
   "cell_type": "markdown",
   "id": "57979091",
   "metadata": {},
   "source": [
    "# 5 Display Doe  Scenario results"
   ]
  },
  {
   "cell_type": "code",
   "execution_count": 36,
   "id": "ac8a49ab",
   "metadata": {},
   "outputs": [],
   "source": [
    "# retrieve discipline to check the result...\n",
    "doe_disc = exec_eng.dm.get_disciplines_with_name(\"doe.\" + sc_name)[0]"
   ]
  },
  {
   "cell_type": "code",
   "execution_count": 37,
   "id": "a02fc43e",
   "metadata": {},
   "outputs": [
    {
     "data": {
      "text/plain": [
       "sos_trades_core.sos_wrapping.analysis_discs.doe_eval.DoeEval"
      ]
     },
     "execution_count": 37,
     "metadata": {},
     "output_type": "execute_result"
    }
   ],
   "source": [
    "type(doe_disc)"
   ]
  },
  {
   "cell_type": "code",
   "execution_count": 38,
   "id": "555b30f7",
   "metadata": {},
   "outputs": [
    {
     "data": {
      "text/plain": [
       "'doe.DoEEval'"
      ]
     },
     "execution_count": 38,
     "metadata": {},
     "output_type": "execute_result"
    }
   ],
   "source": [
    "doe_disc.get_disc_full_name()"
   ]
  },
  {
   "cell_type": "code",
   "execution_count": 39,
   "id": "d1069a43",
   "metadata": {},
   "outputs": [
    {
     "data": {
      "text/html": [
       "<div>\n",
       "<style scoped>\n",
       "    .dataframe tbody tr th:only-of-type {\n",
       "        vertical-align: middle;\n",
       "    }\n",
       "\n",
       "    .dataframe tbody tr th {\n",
       "        vertical-align: top;\n",
       "    }\n",
       "\n",
       "    .dataframe thead th {\n",
       "        text-align: right;\n",
       "    }\n",
       "</style>\n",
       "<table border=\"1\" class=\"dataframe\">\n",
       "  <thead>\n",
       "    <tr style=\"text-align: right;\">\n",
       "      <th></th>\n",
       "      <th>0</th>\n",
       "    </tr>\n",
       "  </thead>\n",
       "  <tbody>\n",
       "    <tr>\n",
       "      <th>sampling_algo</th>\n",
       "      <td>CustomDOE</td>\n",
       "    </tr>\n",
       "    <tr>\n",
       "      <th>eval_inputs</th>\n",
       "      <td>selected_input                        full_...</td>\n",
       "    </tr>\n",
       "    <tr>\n",
       "      <th>eval_outputs</th>\n",
       "      <td>selected_output full_name\n",
       "0            Fals...</td>\n",
       "    </tr>\n",
       "    <tr>\n",
       "      <th>n_processes</th>\n",
       "      <td>1</td>\n",
       "    </tr>\n",
       "    <tr>\n",
       "      <th>wait_time_between_fork</th>\n",
       "      <td>0.0</td>\n",
       "    </tr>\n",
       "    <tr>\n",
       "      <th>linearization_mode</th>\n",
       "      <td>auto</td>\n",
       "    </tr>\n",
       "    <tr>\n",
       "      <th>cache_type</th>\n",
       "      <td>SimpleCache</td>\n",
       "    </tr>\n",
       "    <tr>\n",
       "      <th>cache_file_path</th>\n",
       "      <td>None</td>\n",
       "    </tr>\n",
       "    <tr>\n",
       "      <th>debug_mode</th>\n",
       "      <td></td>\n",
       "    </tr>\n",
       "    <tr>\n",
       "      <th>custom_samples_df</th>\n",
       "      <td>x                                   ...</td>\n",
       "    </tr>\n",
       "    <tr>\n",
       "      <th>algo_options</th>\n",
       "      <td>{'levels': -1}</td>\n",
       "    </tr>\n",
       "  </tbody>\n",
       "</table>\n",
       "</div>"
      ],
      "text/plain": [
       "                                                                        0\n",
       "sampling_algo                                                   CustomDOE\n",
       "eval_inputs                selected_input                        full_...\n",
       "eval_outputs               selected_output full_name\n",
       "0            Fals...\n",
       "n_processes                                                             1\n",
       "wait_time_between_fork                                                0.0\n",
       "linearization_mode                                                   auto\n",
       "cache_type                                                    SimpleCache\n",
       "cache_file_path                                                      None\n",
       "debug_mode                                                               \n",
       "custom_samples_df                 x                                   ...\n",
       "algo_options                                               {'levels': -1}"
      ]
     },
     "execution_count": 39,
     "metadata": {},
     "output_type": "execute_result"
    }
   ],
   "source": [
    "doe_disc_input = doe_disc.get_sosdisc_inputs()\n",
    "pd.DataFrame.from_dict(doe_disc_input,orient='index')"
   ]
  },
  {
   "cell_type": "code",
   "execution_count": 41,
   "id": "0499ac00",
   "metadata": {},
   "outputs": [],
   "source": [
    "#doe_disc_output = doe_disc.get_sosdisc_outputs()\n",
    "doe_disc_output = doe_disc.get_sosdisc_outputs('doe_samples_dataframe')"
   ]
  },
  {
   "cell_type": "code",
   "execution_count": 42,
   "id": "bcb5d045",
   "metadata": {},
   "outputs": [
    {
     "data": {
      "text/html": [
       "<div>\n",
       "<style scoped>\n",
       "    .dataframe tbody tr th:only-of-type {\n",
       "        vertical-align: middle;\n",
       "    }\n",
       "\n",
       "    .dataframe tbody tr th {\n",
       "        vertical-align: top;\n",
       "    }\n",
       "\n",
       "    .dataframe thead th {\n",
       "        text-align: right;\n",
       "    }\n",
       "</style>\n",
       "<table border=\"1\" class=\"dataframe\">\n",
       "  <thead>\n",
       "    <tr style=\"text-align: right;\">\n",
       "      <th></th>\n",
       "      <th>scenario</th>\n",
       "      <th>x</th>\n",
       "      <th>z</th>\n",
       "    </tr>\n",
       "  </thead>\n",
       "  <tbody>\n",
       "    <tr>\n",
       "      <th>0</th>\n",
       "      <td>scenario_1</td>\n",
       "      <td>9.379764</td>\n",
       "      <td>[1.515949043849158, 5.6317362409322165]</td>\n",
       "    </tr>\n",
       "    <tr>\n",
       "      <th>1</th>\n",
       "      <td>scenario_2</td>\n",
       "      <td>8.886448</td>\n",
       "      <td>[-1.1962705421254114, 6.523436208612142]</td>\n",
       "    </tr>\n",
       "    <tr>\n",
       "      <th>2</th>\n",
       "      <td>scenario_3</td>\n",
       "      <td>3.713714</td>\n",
       "      <td>[-1.9947578026244557, 4.822570933860785]</td>\n",
       "    </tr>\n",
       "    <tr>\n",
       "      <th>3</th>\n",
       "      <td>scenario_4</td>\n",
       "      <td>0.041702</td>\n",
       "      <td>[1.7490668861813, 3.617234050834533]</td>\n",
       "    </tr>\n",
       "    <tr>\n",
       "      <th>4</th>\n",
       "      <td>scenario_5</td>\n",
       "      <td>6.954955</td>\n",
       "      <td>[-9.316161097119341, 9.918161285133076]</td>\n",
       "    </tr>\n",
       "  </tbody>\n",
       "</table>\n",
       "</div>"
      ],
      "text/plain": [
       "     scenario         x                                         z\n",
       "0  scenario_1  9.379764   [1.515949043849158, 5.6317362409322165]\n",
       "1  scenario_2  8.886448  [-1.1962705421254114, 6.523436208612142]\n",
       "2  scenario_3  3.713714  [-1.9947578026244557, 4.822570933860785]\n",
       "3  scenario_4  0.041702      [1.7490668861813, 3.617234050834533]\n",
       "4  scenario_5  6.954955   [-9.316161097119341, 9.918161285133076]"
      ]
     },
     "execution_count": 42,
     "metadata": {},
     "output_type": "execute_result"
    }
   ],
   "source": [
    "doe_disc_output"
   ]
  },
  {
   "cell_type": "code",
   "execution_count": 43,
   "id": "5f3bae42",
   "metadata": {},
   "outputs": [
    {
     "data": {
      "text/plain": [
       "5"
      ]
     },
     "execution_count": 43,
     "metadata": {},
     "output_type": "execute_result"
    }
   ],
   "source": [
    "len(doe_disc_output.index)"
   ]
  },
  {
   "cell_type": "code",
   "execution_count": null,
   "id": "df1612dc",
   "metadata": {},
   "outputs": [],
   "source": []
  },
  {
   "cell_type": "code",
   "execution_count": null,
   "id": "66a6b80b",
   "metadata": {},
   "outputs": [],
   "source": []
  },
  {
   "cell_type": "code",
   "execution_count": null,
   "id": "3b8de02e",
   "metadata": {},
   "outputs": [],
   "source": []
  }
 ],
 "metadata": {
  "kernelspec": {
   "display_name": "Python 3 (ipykernel)",
   "language": "python",
   "name": "python3"
  },
  "language_info": {
   "codemirror_mode": {
    "name": "ipython",
    "version": 3
   },
   "file_extension": ".py",
   "mimetype": "text/x-python",
   "name": "python",
   "nbconvert_exporter": "python",
   "pygments_lexer": "ipython3",
   "version": "3.9.7"
  }
 },
 "nbformat": 4,
 "nbformat_minor": 5
}
