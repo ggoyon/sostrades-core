{
 "cells": [
  {
   "cell_type": "code",
   "execution_count": 1,
   "id": "d9894c3a",
   "metadata": {},
   "outputs": [],
   "source": [
    "if 0 :\n",
    "    %matplotlib inline\n",
    "else :\n",
    "    %matplotlib notebook"
   ]
  },
  {
   "cell_type": "markdown",
   "id": "6461e492",
   "metadata": {},
   "source": [
    "#  Import  libraries"
   ]
  },
  {
   "cell_type": "code",
   "execution_count": 2,
   "id": "8d37bf58",
   "metadata": {},
   "outputs": [
    {
     "name": "stdout",
     "output_type": "stream",
     "text": [
      "C:\\Users\\ng947ac\\Documents\\Daniel\\jupyter\\SoSTrades\\jupyter_doc\\_scripts\n",
      "C:\\Users\\ng947ac\\Documents\\Daniel\\git\\workspace\n",
      "C:\\Users\\ng947ac\\Documents\\Daniel\\git\\workspace\\sosgemseo\\src\\\n",
      "C:\\Users\\ng947ac\\Documents\\Daniel\\git\\workspace\\sostrades-core\n"
     ]
    }
   ],
   "source": [
    "import sys\n",
    "import os\n",
    "module_path = os.path.abspath('.') +\"\\\\_scripts\"\n",
    "print(module_path)\n",
    "\n",
    "if module_path not in sys.path:\n",
    "    sys.path.append(module_path)\n",
    "from _00_Import_packages_git3 import *"
   ]
  },
  {
   "cell_type": "code",
   "execution_count": 3,
   "id": "55ebc8e0",
   "metadata": {},
   "outputs": [
    {
     "name": "stdout",
     "output_type": "stream",
     "text": [
      "3.9.7\n"
     ]
    }
   ],
   "source": [
    "from platform import python_version\n",
    "\n",
    "print(python_version())"
   ]
  },
  {
   "cell_type": "code",
   "execution_count": 4,
   "id": "64a494bb",
   "metadata": {},
   "outputs": [
    {
     "name": "stdout",
     "output_type": "stream",
     "text": [
      "1.20.3\n"
     ]
    }
   ],
   "source": [
    "import numpy\n",
    "print(numpy.__version__)"
   ]
  },
  {
   "cell_type": "code",
   "execution_count": 5,
   "id": "c373e89e",
   "metadata": {},
   "outputs": [
    {
     "name": "stdout",
     "output_type": "stream",
     "text": [
      "1.7.1\n"
     ]
    }
   ],
   "source": [
    "import scipy\n",
    "print(scipy.__version__)"
   ]
  },
  {
   "cell_type": "code",
   "execution_count": 6,
   "id": "a8c32ea6",
   "metadata": {},
   "outputs": [
    {
     "name": "stdout",
     "output_type": "stream",
     "text": [
      "1.3.0\n"
     ]
    }
   ],
   "source": [
    "import pandas\n",
    "print(pandas.__version__)"
   ]
  },
  {
   "cell_type": "code",
   "execution_count": 7,
   "id": "e5501680",
   "metadata": {},
   "outputs": [],
   "source": [
    "from numpy import array\n",
    "import pandas as pd\n",
    "from sos_trades_core.execution_engine.execution_engine import ExecutionEngine\n",
    "from numpy.testing import assert_array_equal, assert_array_almost_equal  # @UnresolvedImport\n",
    "import os\n",
    "from gemseo.core.mdo_scenario import MDOScenario"
   ]
  },
  {
   "cell_type": "markdown",
   "id": "d5f1d368",
   "metadata": {},
   "source": [
    "# Description of the model"
   ]
  },
  {
   "cell_type": "markdown",
   "id": "d228b215",
   "metadata": {},
   "source": [
    "    DESC_IN = {'x': {'type': 'array', 'visibility': SoSDiscipline.SHARED_VISIBILITY, 'namespace': 'ns_OptimSellar'},\n",
    "               'y_2': {'type': 'array', 'visibility': SoSDiscipline.SHARED_VISIBILITY, 'namespace': 'ns_OptimSellar'},\n",
    "               'z': {'type': 'array', 'visibility': SoSDiscipline.SHARED_VISIBILITY, 'namespace': 'ns_OptimSellar'}}\n",
    "\n",
    "    DESC_OUT = {'y_1': {'type': 'array',\n",
    "                        'visibility': SoSDiscipline.SHARED_VISIBILITY, 'namespace': 'ns_OptimSellar'}}"
   ]
  },
  {
   "cell_type": "markdown",
   "id": "bba0fac9",
   "metadata": {},
   "source": [
    "mod_path = 'SoSTrade.dfmodel.d_dfmodel_sos.DfModel'\n",
    "\n",
    "ns_test = 'MyStudy'\n",
    "\n",
    "ns_dict = {'ns_OptimSellar': ns_test}\n",
    "\n",
    "disc_name = 'Sellar1'"
   ]
  },
  {
   "cell_type": "markdown",
   "id": "eb27c77b",
   "metadata": {},
   "source": [
    "Model :\n",
    "$$y_1 = z_0 ^ 2 + x + z_1 - 0.2 * y_2$$"
   ]
  },
  {
   "cell_type": "markdown",
   "id": "15eec199",
   "metadata": {},
   "source": [
    " # Set the  discipline : here Sellar1"
   ]
  },
  {
   "cell_type": "code",
   "execution_count": 8,
   "id": "839fab11",
   "metadata": {},
   "outputs": [],
   "source": [
    "# Choice of the discipline (File that provides the wrapper and associated wrapper)\n",
    "mod_path = 'sos_trades_core.sos_wrapping.test_discs.sellar.Sellar1'"
   ]
  },
  {
   "cell_type": "code",
   "execution_count": 9,
   "id": "d63f0e70",
   "metadata": {},
   "outputs": [],
   "source": [
    "#from sos_trades_core.sos_wrapping.test_discs.sellar import Sellar1\n",
    "from sos_trades_core.execution_engine.execution_engine import ExecutionEngine"
   ]
  },
  {
   "cell_type": "code",
   "execution_count": 10,
   "id": "9bb9bf0a",
   "metadata": {},
   "outputs": [
    {
     "name": "stderr",
     "output_type": "stream",
     "text": [
      "INFO:SoS.EE:configuring ...\n",
      "WARNING:gemseo.mda.mda_chain:No coupling in MDA, switching chain_linearize to True\n",
      "INFO:SoS.EE.Coupling:The MDA solver of the Coupling MyStudy is set to MDAJacobi\n"
     ]
    }
   ],
   "source": [
    "ns_test = 'MyStudy'\n",
    "ee = ExecutionEngine(ns_test)\n",
    "ns_dict = {'ns_OptimSellar': ns_test} # conform to shared variable x\n",
    "ee.ns_manager.add_ns_def(ns_dict)\n",
    "\n",
    "\n",
    "disc_name = 'Sellar1'\n",
    "disc1_builder = ee.factory.get_builder_from_module(disc_name, mod_path)\n",
    "ee.factory.set_builders_to_coupling_builder(disc1_builder)\n",
    "\n",
    "ee.configure() "
   ]
  },
  {
   "cell_type": "markdown",
   "id": "6c126434",
   "metadata": {},
   "source": [
    "# Display discipline structure"
   ]
  },
  {
   "cell_type": "code",
   "execution_count": 11,
   "id": "06d74076",
   "metadata": {},
   "outputs": [],
   "source": [
    "my_disc1 = ee.root_process.sos_disciplines[0]"
   ]
  },
  {
   "cell_type": "code",
   "execution_count": 12,
   "id": "d0266953",
   "metadata": {},
   "outputs": [],
   "source": [
    "DESC_IN = my_disc1.DESC_IN\n",
    "DESC_OUT = my_disc1.DESC_OUT\n",
    "DESC_IN_df = pd.DataFrame.from_dict(DESC_IN,orient='index')\n",
    "DESC_OUT_df = pd.DataFrame.from_dict(DESC_OUT,orient='index')"
   ]
  },
  {
   "cell_type": "code",
   "execution_count": 13,
   "id": "63dc31ba",
   "metadata": {},
   "outputs": [
    {
     "data": {
      "text/html": [
       "<div>\n",
       "<style scoped>\n",
       "    .dataframe tbody tr th:only-of-type {\n",
       "        vertical-align: middle;\n",
       "    }\n",
       "\n",
       "    .dataframe tbody tr th {\n",
       "        vertical-align: top;\n",
       "    }\n",
       "\n",
       "    .dataframe thead th {\n",
       "        text-align: right;\n",
       "    }\n",
       "</style>\n",
       "<table border=\"1\" class=\"dataframe\">\n",
       "  <thead>\n",
       "    <tr style=\"text-align: right;\">\n",
       "      <th></th>\n",
       "      <th>type</th>\n",
       "      <th>visibility</th>\n",
       "      <th>namespace</th>\n",
       "    </tr>\n",
       "  </thead>\n",
       "  <tbody>\n",
       "    <tr>\n",
       "      <th>x</th>\n",
       "      <td>float</td>\n",
       "      <td>Shared</td>\n",
       "      <td>ns_OptimSellar</td>\n",
       "    </tr>\n",
       "    <tr>\n",
       "      <th>y_2</th>\n",
       "      <td>float</td>\n",
       "      <td>Shared</td>\n",
       "      <td>ns_OptimSellar</td>\n",
       "    </tr>\n",
       "    <tr>\n",
       "      <th>z</th>\n",
       "      <td>array</td>\n",
       "      <td>Shared</td>\n",
       "      <td>ns_OptimSellar</td>\n",
       "    </tr>\n",
       "  </tbody>\n",
       "</table>\n",
       "</div>"
      ],
      "text/plain": [
       "      type visibility       namespace\n",
       "x    float     Shared  ns_OptimSellar\n",
       "y_2  float     Shared  ns_OptimSellar\n",
       "z    array     Shared  ns_OptimSellar"
      ]
     },
     "execution_count": 13,
     "metadata": {},
     "output_type": "execute_result"
    }
   ],
   "source": [
    "DESC_IN_df"
   ]
  },
  {
   "cell_type": "code",
   "execution_count": 14,
   "id": "6ad41e45",
   "metadata": {},
   "outputs": [
    {
     "data": {
      "text/html": [
       "<div>\n",
       "<style scoped>\n",
       "    .dataframe tbody tr th:only-of-type {\n",
       "        vertical-align: middle;\n",
       "    }\n",
       "\n",
       "    .dataframe tbody tr th {\n",
       "        vertical-align: top;\n",
       "    }\n",
       "\n",
       "    .dataframe thead th {\n",
       "        text-align: right;\n",
       "    }\n",
       "</style>\n",
       "<table border=\"1\" class=\"dataframe\">\n",
       "  <thead>\n",
       "    <tr style=\"text-align: right;\">\n",
       "      <th></th>\n",
       "      <th>type</th>\n",
       "      <th>visibility</th>\n",
       "      <th>namespace</th>\n",
       "    </tr>\n",
       "  </thead>\n",
       "  <tbody>\n",
       "    <tr>\n",
       "      <th>y_1</th>\n",
       "      <td>float</td>\n",
       "      <td>Shared</td>\n",
       "      <td>ns_OptimSellar</td>\n",
       "    </tr>\n",
       "    <tr>\n",
       "      <th>y_1_bis</th>\n",
       "      <td>float</td>\n",
       "      <td>Shared</td>\n",
       "      <td>ns_OptimSellar</td>\n",
       "    </tr>\n",
       "  </tbody>\n",
       "</table>\n",
       "</div>"
      ],
      "text/plain": [
       "          type visibility       namespace\n",
       "y_1      float     Shared  ns_OptimSellar\n",
       "y_1_bis  float     Shared  ns_OptimSellar"
      ]
     },
     "execution_count": 14,
     "metadata": {},
     "output_type": "execute_result"
    }
   ],
   "source": [
    "DESC_OUT_df"
   ]
  },
  {
   "cell_type": "markdown",
   "id": "8cf61f08",
   "metadata": {},
   "source": [
    "# Display study structure"
   ]
  },
  {
   "cell_type": "code",
   "execution_count": 15,
   "id": "d1ceecef",
   "metadata": {},
   "outputs": [
    {
     "name": "stderr",
     "output_type": "stream",
     "text": [
      "INFO:SoS.EE:Nodes representation for Treeview MyStudy\n",
      "|_ MyStudy\n",
      "\t|_ Sellar1\n"
     ]
    },
    {
     "data": {
      "text/plain": [
       "'Nodes representation for Treeview MyStudy\\n|_ MyStudy\\n\\t|_ Sellar1'"
      ]
     },
     "execution_count": 15,
     "metadata": {},
     "output_type": "execute_result"
    }
   ],
   "source": [
    "ee.display_treeview_nodes()"
   ]
  },
  {
   "cell_type": "markdown",
   "id": "54ea1711",
   "metadata": {},
   "source": [
    "# Provide inputs"
   ]
  },
  {
   "cell_type": "code",
   "execution_count": 16,
   "id": "17a6c960",
   "metadata": {},
   "outputs": [],
   "source": [
    "import numpy as np"
   ]
  },
  {
   "cell_type": "code",
   "execution_count": 17,
   "id": "575d341c",
   "metadata": {},
   "outputs": [],
   "source": [
    "priv_in_values = {\n",
    "                  'MyStudy.z': np.array([1.,0.]),\n",
    "                  'MyStudy.x':  0., \n",
    "                  'MyStudy.y_2': 1. \n",
    "                  }"
   ]
  },
  {
   "cell_type": "code",
   "execution_count": 18,
   "id": "98c99a23",
   "metadata": {},
   "outputs": [
    {
     "data": {
      "text/plain": [
       "{'MyStudy.z': array([1., 0.]), 'MyStudy.x': 0.0, 'MyStudy.y_2': 1.0}"
      ]
     },
     "execution_count": 18,
     "metadata": {},
     "output_type": "execute_result"
    }
   ],
   "source": [
    "priv_in_values"
   ]
  },
  {
   "cell_type": "code",
   "execution_count": 19,
   "id": "903adda6",
   "metadata": {},
   "outputs": [],
   "source": [
    "ee.dm.set_values_from_dict(priv_in_values)\n",
    "ee.root_process.update_from_dm()"
   ]
  },
  {
   "cell_type": "markdown",
   "id": "19576828",
   "metadata": {},
   "source": [
    "# Execute"
   ]
  },
  {
   "cell_type": "code",
   "execution_count": 20,
   "id": "0a77a0d2",
   "metadata": {},
   "outputs": [
    {
     "name": "stderr",
     "output_type": "stream",
     "text": [
      "INFO:SoS.EE:PROCESS EXECUTION MyStudy STARTS...\n",
      "INFO:SoS.EE:PROCESS EXECUTION MyStudy ENDS.\n"
     ]
    },
    {
     "name": "stdout",
     "output_type": "stream",
     "text": [
      "{'MyStudy.x': array([0.]), 'MyStudy.y_2': array([1.]), 'MyStudy.z': array([1., 0.]), 'MyStudy.y_1': array([0.8]), 'MyStudy.y_1_bis': array([0.8])}\n"
     ]
    }
   ],
   "source": [
    "print(ee.execute())"
   ]
  },
  {
   "cell_type": "markdown",
   "id": "2d10f7cf",
   "metadata": {},
   "source": [
    "# Display Results"
   ]
  },
  {
   "cell_type": "code",
   "execution_count": 21,
   "id": "b634896f",
   "metadata": {},
   "outputs": [
    {
     "data": {
      "text/plain": [
       "0.8"
      ]
     },
     "execution_count": 21,
     "metadata": {},
     "output_type": "execute_result"
    }
   ],
   "source": [
    "my_disc1.get_data_io_dict('out')['y_1']['value']"
   ]
  },
  {
   "cell_type": "code",
   "execution_count": 22,
   "id": "defdd52a",
   "metadata": {},
   "outputs": [
    {
     "ename": "TypeError",
     "evalue": "'NoneType' object is not subscriptable",
     "output_type": "error",
     "traceback": [
      "\u001b[1;31m---------------------------------------------------------------------------\u001b[0m",
      "\u001b[1;31mTypeError\u001b[0m                                 Traceback (most recent call last)",
      "\u001b[1;32mC:\\Temp/ipykernel_18696/2116658816.py\u001b[0m in \u001b[0;36m<module>\u001b[1;34m\u001b[0m\n\u001b[1;32m----> 1\u001b[1;33m \u001b[0mmy_disc1\u001b[0m\u001b[1;33m.\u001b[0m\u001b[0mcompute_sos_jacobian\u001b[0m\u001b[1;33m(\u001b[0m\u001b[1;33m)\u001b[0m\u001b[1;33m\u001b[0m\u001b[1;33m\u001b[0m\u001b[0m\n\u001b[0m",
      "\u001b[1;32m~\\Documents\\Daniel\\git\\workspace\\sostrades-core\\sos_trades_core\\sos_wrapping\\test_discs\\sellar.py\u001b[0m in \u001b[0;36mcompute_sos_jacobian\u001b[1;34m(self)\u001b[0m\n\u001b[0;32m    178\u001b[0m         \u001b[0mz\u001b[0m \u001b[1;33m=\u001b[0m \u001b[0mself\u001b[0m\u001b[1;33m.\u001b[0m\u001b[0mget_sosdisc_inputs\u001b[0m\u001b[1;33m(\u001b[0m\u001b[1;34m'z'\u001b[0m\u001b[1;33m)\u001b[0m\u001b[1;33m\u001b[0m\u001b[1;33m\u001b[0m\u001b[0m\n\u001b[0;32m    179\u001b[0m \u001b[1;33m\u001b[0m\u001b[0m\n\u001b[1;32m--> 180\u001b[1;33m         \u001b[0mself\u001b[0m\u001b[1;33m.\u001b[0m\u001b[0mset_partial_derivative\u001b[0m\u001b[1;33m(\u001b[0m\u001b[1;34m'y_1'\u001b[0m\u001b[1;33m,\u001b[0m \u001b[1;34m'x'\u001b[0m\u001b[1;33m,\u001b[0m \u001b[0matleast_2d\u001b[0m\u001b[1;33m(\u001b[0m\u001b[0marray\u001b[0m\u001b[1;33m(\u001b[0m\u001b[1;33m[\u001b[0m\u001b[1;36m1.0\u001b[0m\u001b[1;33m]\u001b[0m\u001b[1;33m)\u001b[0m\u001b[1;33m)\u001b[0m\u001b[1;33m)\u001b[0m\u001b[1;33m\u001b[0m\u001b[1;33m\u001b[0m\u001b[0m\n\u001b[0m\u001b[0;32m    181\u001b[0m \u001b[1;33m\u001b[0m\u001b[0m\n\u001b[0;32m    182\u001b[0m         \u001b[0mself\u001b[0m\u001b[1;33m.\u001b[0m\u001b[0mset_partial_derivative\u001b[0m\u001b[1;33m(\u001b[0m\u001b[1;34m'y_1_bis'\u001b[0m\u001b[1;33m,\u001b[0m \u001b[1;34m'x'\u001b[0m\u001b[1;33m,\u001b[0m \u001b[0matleast_2d\u001b[0m\u001b[1;33m(\u001b[0m\u001b[0marray\u001b[0m\u001b[1;33m(\u001b[0m\u001b[1;33m[\u001b[0m\u001b[1;36m1.0\u001b[0m\u001b[1;33m]\u001b[0m\u001b[1;33m)\u001b[0m\u001b[1;33m)\u001b[0m\u001b[1;33m)\u001b[0m\u001b[1;33m\u001b[0m\u001b[1;33m\u001b[0m\u001b[0m\n",
      "\u001b[1;32m~\\Documents\\Daniel\\git\\workspace\\sostrades-core\\sos_trades_core\\execution_engine\\sos_discipline.py\u001b[0m in \u001b[0;36mset_partial_derivative\u001b[1;34m(self, y_key, x_key, value)\u001b[0m\n\u001b[0;32m    984\u001b[0m         \u001b[0mnew_x_key\u001b[0m \u001b[1;33m=\u001b[0m \u001b[0mself\u001b[0m\u001b[1;33m.\u001b[0m\u001b[0mget_var_full_name\u001b[0m\u001b[1;33m(\u001b[0m\u001b[0mx_key\u001b[0m\u001b[1;33m,\u001b[0m \u001b[0mself\u001b[0m\u001b[1;33m.\u001b[0m\u001b[0m_data_in\u001b[0m\u001b[1;33m)\u001b[0m\u001b[1;33m\u001b[0m\u001b[1;33m\u001b[0m\u001b[0m\n\u001b[0;32m    985\u001b[0m \u001b[1;33m\u001b[0m\u001b[0m\n\u001b[1;32m--> 986\u001b[1;33m         \u001b[1;32mif\u001b[0m \u001b[0mnew_x_key\u001b[0m \u001b[1;32min\u001b[0m \u001b[0mself\u001b[0m\u001b[1;33m.\u001b[0m\u001b[0mjac\u001b[0m\u001b[1;33m[\u001b[0m\u001b[0mnew_y_key\u001b[0m\u001b[1;33m]\u001b[0m\u001b[1;33m:\u001b[0m\u001b[1;33m\u001b[0m\u001b[1;33m\u001b[0m\u001b[0m\n\u001b[0m\u001b[0;32m    987\u001b[0m             \u001b[1;32mif\u001b[0m \u001b[0misinstance\u001b[0m\u001b[1;33m(\u001b[0m\u001b[0mvalue\u001b[0m\u001b[1;33m,\u001b[0m \u001b[0mndarray\u001b[0m\u001b[1;33m)\u001b[0m\u001b[1;33m:\u001b[0m\u001b[1;33m\u001b[0m\u001b[1;33m\u001b[0m\u001b[0m\n\u001b[0;32m    988\u001b[0m                 \u001b[0mvalue\u001b[0m \u001b[1;33m=\u001b[0m \u001b[0mlil_matrix\u001b[0m\u001b[1;33m(\u001b[0m\u001b[0mvalue\u001b[0m\u001b[1;33m)\u001b[0m\u001b[1;33m\u001b[0m\u001b[1;33m\u001b[0m\u001b[0m\n",
      "\u001b[1;31mTypeError\u001b[0m: 'NoneType' object is not subscriptable"
     ]
    }
   ],
   "source": [
    "my_disc1.compute_sos_jacobian()"
   ]
  },
  {
   "cell_type": "code",
   "execution_count": null,
   "id": "fe71252e",
   "metadata": {},
   "outputs": [],
   "source": [
    "my_disc1.jac"
   ]
  },
  {
   "cell_type": "code",
   "execution_count": null,
   "id": "fe826679",
   "metadata": {},
   "outputs": [],
   "source": []
  },
  {
   "cell_type": "code",
   "execution_count": null,
   "id": "6ea2e7ef",
   "metadata": {},
   "outputs": [],
   "source": []
  },
  {
   "cell_type": "code",
   "execution_count": null,
   "id": "9f610008",
   "metadata": {},
   "outputs": [],
   "source": []
  },
  {
   "cell_type": "code",
   "execution_count": null,
   "id": "7fe3fd54",
   "metadata": {},
   "outputs": [],
   "source": []
  }
 ],
 "metadata": {
  "kernelspec": {
   "display_name": "Python 3 (ipykernel)",
   "language": "python",
   "name": "python3"
  },
  "language_info": {
   "codemirror_mode": {
    "name": "ipython",
    "version": 3
   },
   "file_extension": ".py",
   "mimetype": "text/x-python",
   "name": "python",
   "nbconvert_exporter": "python",
   "pygments_lexer": "ipython3",
   "version": "3.9.7"
  }
 },
 "nbformat": 4,
 "nbformat_minor": 5
}
